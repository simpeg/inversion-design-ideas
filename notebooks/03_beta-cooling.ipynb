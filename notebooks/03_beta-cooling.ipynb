{
 "cells": [
  {
   "cell_type": "markdown",
   "id": "6138d870-ba85-4d70-b089-02a37a673b35",
   "metadata": {},
   "source": [
    "# Ideas for beta cooling schedule"
   ]
  },
  {
   "cell_type": "code",
   "execution_count": 1,
   "id": "fdaf3332-6fe1-4381-a1a3-697c494f749d",
   "metadata": {
    "execution": {
     "iopub.execute_input": "2025-07-22T17:32:48.554398Z",
     "iopub.status.busy": "2025-07-22T17:32:48.553957Z",
     "iopub.status.idle": "2025-07-22T17:32:48.804673Z",
     "shell.execute_reply": "2025-07-22T17:32:48.804035Z",
     "shell.execute_reply.started": "2025-07-22T17:32:48.554365Z"
    }
   },
   "outputs": [],
   "source": [
    "import numpy as np\n",
    "from regressor import LinearRegressor\n",
    "\n",
    "from inversion_ideas import ConjugateGradient, DataMisfit, TikhonovZero"
   ]
  },
  {
   "cell_type": "markdown",
   "id": "eaf26cc2-5d20-43b1-90ed-a93122c7d5ae",
   "metadata": {},
   "source": [
    "## Create a true model and synthetic data for a linear regressor"
   ]
  },
  {
   "cell_type": "code",
   "execution_count": 2,
   "id": "761c849a-17cc-450c-9a30-cfb87f1cf489",
   "metadata": {
    "execution": {
     "iopub.execute_input": "2025-07-22T17:32:48.806009Z",
     "iopub.status.busy": "2025-07-22T17:32:48.805734Z",
     "iopub.status.idle": "2025-07-22T17:32:48.812680Z",
     "shell.execute_reply": "2025-07-22T17:32:48.812071Z",
     "shell.execute_reply.started": "2025-07-22T17:32:48.805990Z"
    }
   },
   "outputs": [
    {
     "data": {
      "text/plain": [
       "array([0.78225148, 0.67148671, 0.2373809 , 0.17946133, 0.34662367,\n",
       "       0.15210999, 0.31142952, 0.23900652, 0.54355731, 0.91770851])"
      ]
     },
     "execution_count": 2,
     "metadata": {},
     "output_type": "execute_result"
    }
   ],
   "source": [
    "n_params = 10\n",
    "rng = np.random.default_rng(seed=4242)\n",
    "true_model = rng.uniform(size=10)\n",
    "true_model"
   ]
  },
  {
   "cell_type": "code",
   "execution_count": 3,
   "id": "9f3eda31-8cc5-4c02-ac69-ba3396dca6c0",
   "metadata": {
    "execution": {
     "iopub.execute_input": "2025-07-22T17:32:48.813495Z",
     "iopub.status.busy": "2025-07-22T17:32:48.813301Z",
     "iopub.status.idle": "2025-07-22T17:32:48.818076Z",
     "shell.execute_reply": "2025-07-22T17:32:48.817330Z",
     "shell.execute_reply.started": "2025-07-22T17:32:48.813478Z"
    }
   },
   "outputs": [],
   "source": [
    "# Build the X array\n",
    "n_data = 25\n",
    "shape = (n_data, n_params)\n",
    "X = rng.uniform(size=n_data * n_params).reshape(shape)"
   ]
  },
  {
   "cell_type": "code",
   "execution_count": 4,
   "id": "1e087215-ac6b-4fa1-b79d-537ef859331f",
   "metadata": {
    "execution": {
     "iopub.execute_input": "2025-07-22T17:32:48.819141Z",
     "iopub.status.busy": "2025-07-22T17:32:48.818791Z",
     "iopub.status.idle": "2025-07-22T17:32:48.824836Z",
     "shell.execute_reply": "2025-07-22T17:32:48.824140Z",
     "shell.execute_reply.started": "2025-07-22T17:32:48.819113Z"
    }
   },
   "outputs": [
    {
     "data": {
      "text/plain": [
       "array([2.83840696, 2.18091081, 2.00623242, 2.08333039, 2.01694883,\n",
       "       2.7826232 , 2.10564027, 1.27333506, 2.08859855, 1.94177648,\n",
       "       1.88492037, 2.92394733, 2.17231952, 3.08009275, 1.61670886,\n",
       "       1.77403753, 2.67305005, 1.91413882, 2.42117827, 2.13991628,\n",
       "       2.0153805 , 2.71388471, 2.65944255, 2.44416121, 3.14217523])"
      ]
     },
     "execution_count": 4,
     "metadata": {},
     "output_type": "execute_result"
    }
   ],
   "source": [
    "synthetic_data = X @ true_model\n",
    "maxabs = np.max(np.abs(synthetic_data))\n",
    "noise = rng.normal(scale=1e-2 * maxabs, size=synthetic_data.size)\n",
    "synthetic_data += noise\n",
    "synthetic_data"
   ]
  },
  {
   "cell_type": "markdown",
   "id": "6ce853b8-1138-4eb1-be19-3a4381c28751",
   "metadata": {},
   "source": [
    "## Define data misfit and smallness"
   ]
  },
  {
   "cell_type": "code",
   "execution_count": 5,
   "id": "f30b705a-678e-46e2-ac18-58d8043b1a66",
   "metadata": {
    "execution": {
     "iopub.execute_input": "2025-07-22T17:32:48.825514Z",
     "iopub.status.busy": "2025-07-22T17:32:48.825325Z",
     "iopub.status.idle": "2025-07-22T17:32:48.828807Z",
     "shell.execute_reply": "2025-07-22T17:32:48.828196Z",
     "shell.execute_reply.started": "2025-07-22T17:32:48.825496Z"
    }
   },
   "outputs": [],
   "source": [
    "uncertainty = 1e-2 * maxabs * np.ones_like(synthetic_data)\n",
    "simulation = LinearRegressor(X)\n",
    "data_misfit = DataMisfit(synthetic_data, uncertainty, simulation)"
   ]
  },
  {
   "cell_type": "code",
   "execution_count": 6,
   "id": "46ef1d97-1373-4267-b4dd-dbea3b81fb48",
   "metadata": {
    "execution": {
     "iopub.execute_input": "2025-07-22T17:32:48.831061Z",
     "iopub.status.busy": "2025-07-22T17:32:48.830615Z",
     "iopub.status.idle": "2025-07-22T17:32:48.834550Z",
     "shell.execute_reply": "2025-07-22T17:32:48.833799Z",
     "shell.execute_reply.started": "2025-07-22T17:32:48.831035Z"
    }
   },
   "outputs": [],
   "source": [
    "smallness = TikhonovZero(n_params)"
   ]
  },
  {
   "cell_type": "markdown",
   "id": "39d8037e-17de-45db-ac39-8db5a5b6ec1d",
   "metadata": {},
   "source": [
    "## Solution with fixed beta"
   ]
  },
  {
   "cell_type": "code",
   "execution_count": 7,
   "id": "114370c2-238f-4b96-b2f0-67254235b849",
   "metadata": {
    "execution": {
     "iopub.execute_input": "2025-07-22T17:32:48.835602Z",
     "iopub.status.busy": "2025-07-22T17:32:48.835355Z",
     "iopub.status.idle": "2025-07-22T17:32:48.843600Z",
     "shell.execute_reply": "2025-07-22T17:32:48.843022Z",
     "shell.execute_reply.started": "2025-07-22T17:32:48.835582Z"
    }
   },
   "outputs": [
    {
     "data": {
      "text/plain": [
       "array([0.81328361, 0.65926983, 0.24729306, 0.19624665, 0.32373823,\n",
       "       0.14720994, 0.31944798, 0.25236328, 0.52215617, 0.92180399])"
      ]
     },
     "execution_count": 7,
     "metadata": {},
     "output_type": "execute_result"
    }
   ],
   "source": [
    "phi_fixed = data_misfit + 1e-3 * smallness\n",
    "initial_model = np.zeros(n_params)\n",
    "minimizer = ConjugateGradient()\n",
    "inverted_model = minimizer(phi_fixed, initial_model)\n",
    "inverted_model"
   ]
  },
  {
   "cell_type": "code",
   "execution_count": 8,
   "id": "2e9d2ee1-bfd9-4c3d-9865-f63d08a25b07",
   "metadata": {
    "execution": {
     "iopub.execute_input": "2025-07-22T17:32:48.844355Z",
     "iopub.status.busy": "2025-07-22T17:32:48.844130Z",
     "iopub.status.idle": "2025-07-22T17:32:48.848234Z",
     "shell.execute_reply": "2025-07-22T17:32:48.847618Z",
     "shell.execute_reply.started": "2025-07-22T17:32:48.844337Z"
    }
   },
   "outputs": [
    {
     "name": "stdout",
     "output_type": "stream",
     "text": [
      "Result:\n",
      "[0.81328361 0.65926983 0.24729306 0.19624665 0.32373823 0.14720994\n",
      " 0.31944798 0.25236328 0.52215617 0.92180399]\n",
      "\n",
      "True model:\n",
      "[0.78225148 0.67148671 0.2373809  0.17946133 0.34662367 0.15210999\n",
      " 0.31142952 0.23900652 0.54355731 0.91770851]\n"
     ]
    }
   ],
   "source": [
    "print(\"Result:\")\n",
    "print(inverted_model)\n",
    "print()\n",
    "print(\"True model:\")\n",
    "print(true_model)"
   ]
  },
  {
   "cell_type": "markdown",
   "id": "2b65ed74-fbb8-43d3-b5a3-17d97d6bd75a",
   "metadata": {
    "execution": {
     "iopub.execute_input": "2025-07-21T17:57:13.335947Z",
     "iopub.status.busy": "2025-07-21T17:57:13.335009Z",
     "iopub.status.idle": "2025-07-21T17:57:13.346056Z",
     "shell.execute_reply": "2025-07-21T17:57:13.343235Z",
     "shell.execute_reply.started": "2025-07-21T17:57:13.335871Z"
    }
   },
   "source": [
    "## Apply beta cooling schedule (manually)"
   ]
  },
  {
   "cell_type": "code",
   "execution_count": 9,
   "id": "30fe08ba-6e38-49ce-af5b-5e8d66302e75",
   "metadata": {
    "execution": {
     "iopub.execute_input": "2025-07-22T17:32:48.849447Z",
     "iopub.status.busy": "2025-07-22T17:32:48.848990Z",
     "iopub.status.idle": "2025-07-22T17:32:48.852775Z",
     "shell.execute_reply": "2025-07-22T17:32:48.852024Z",
     "shell.execute_reply.started": "2025-07-22T17:32:48.849417Z"
    }
   },
   "outputs": [],
   "source": [
    "minimizer = ConjugateGradient()"
   ]
  },
  {
   "cell_type": "code",
   "execution_count": 10,
   "id": "9d48ed76-24c5-45dc-aa27-6533b2e84cd4",
   "metadata": {
    "execution": {
     "iopub.execute_input": "2025-07-22T17:32:48.853816Z",
     "iopub.status.busy": "2025-07-22T17:32:48.853500Z",
     "iopub.status.idle": "2025-07-22T17:32:48.878560Z",
     "shell.execute_reply": "2025-07-22T17:32:48.877863Z",
     "shell.execute_reply.started": "2025-07-22T17:32:48.853788Z"
    }
   },
   "outputs": [
    {
     "name": "stdout",
     "output_type": "stream",
     "text": [
      " i  |  beta      | data misfit\n",
      "------------------------------\n",
      " 1  |  1.00e+02  |  2.47e+01\n",
      " 2  |  2.00e+01  |  2.80e+00\n",
      " 3  |  4.00e+00  |  5.11e-01\n",
      " 4  |  8.00e-01  |  3.75e-01\n",
      " 5  |  1.60e-01  |  3.69e-01\n",
      " 6  |  3.20e-02  |  3.69e-01\n",
      " 7  |  6.40e-03  |  3.69e-01\n",
      " 8  |  1.28e-03  |  3.69e-01\n",
      " 9  |  2.56e-04  |  3.69e-01\n",
      "10  |  5.12e-05  |  3.69e-01\n",
      "[0.81326129 0.65925401 0.24726512 0.19626775 0.32373033 0.14719308\n",
      " 0.31947382 0.25235073 0.52216841 0.92184141]\n"
     ]
    }
   ],
   "source": [
    "n_iters = 10\n",
    "beta_cooling_factor = 5\n",
    "initial_model = np.zeros(n_params)\n",
    "model = initial_model.copy()\n",
    "\n",
    "# Initialize objective function\n",
    "beta_0 = 1e2\n",
    "regularization = beta_0 * smallness\n",
    "phi = data_misfit + regularization\n",
    "\n",
    "# Print initial values\n",
    "dmisfit_value = data_misfit(model)\n",
    "print(\" i  |  beta      | data misfit\")\n",
    "print(\"------------------------------\")\n",
    "\n",
    "i = 1\n",
    "while True:\n",
    "    # Minimize\n",
    "    model = minimizer(phi, model)\n",
    "    dmisfit_value = data_misfit(model)\n",
    "    # Log\n",
    "    print(f\"{i:2d}  |  {regularization.multiplier:.2e}  |  {dmisfit_value:.2e}\")\n",
    "    # Stopping criteria\n",
    "    if i == n_iters:\n",
    "        break\n",
    "    i += 1\n",
    "    # Cool \n",
    "    regularization.multiplier /= beta_cooling_factor\n",
    "\n",
    "print(model)"
   ]
  },
  {
   "cell_type": "markdown",
   "id": "dc6b6140-0d47-4060-8570-66419a0fd21a",
   "metadata": {},
   "source": [
    "## Use classes"
   ]
  },
  {
   "cell_type": "code",
   "execution_count": 11,
   "id": "1ae51047-0d8f-4bdc-bb66-9ee16eb6384d",
   "metadata": {
    "execution": {
     "iopub.execute_input": "2025-07-22T17:32:48.880065Z",
     "iopub.status.busy": "2025-07-22T17:32:48.879694Z",
     "iopub.status.idle": "2025-07-22T17:32:48.883816Z",
     "shell.execute_reply": "2025-07-22T17:32:48.882891Z",
     "shell.execute_reply.started": "2025-07-22T17:32:48.880035Z"
    }
   },
   "outputs": [],
   "source": [
    "from inversion_ideas import Inversion, MultiplierCooler"
   ]
  },
  {
   "cell_type": "code",
   "execution_count": 37,
   "id": "3765ea4f-11dc-432a-8cf9-5df925789771",
   "metadata": {
    "execution": {
     "iopub.execute_input": "2025-07-22T17:35:34.119843Z",
     "iopub.status.busy": "2025-07-22T17:35:34.119027Z",
     "iopub.status.idle": "2025-07-22T17:35:34.128031Z",
     "shell.execute_reply": "2025-07-22T17:35:34.126943Z",
     "shell.execute_reply.started": "2025-07-22T17:35:34.119773Z"
    }
   },
   "outputs": [],
   "source": [
    "# Objective function\n",
    "beta_0 = 1e4\n",
    "regularization = beta_0 * smallness\n",
    "phi = data_misfit + regularization\n",
    "\n",
    "# Initial model\n",
    "initial_model = np.zeros(n_params)\n",
    "\n",
    "# Minimizer\n",
    "minimizer = ConjugateGradient()\n",
    "\n",
    "# Directives\n",
    "directives = [\n",
    "    MultiplierCooler(regularization, cooling_factor=2.0),\n",
    "]\n",
    "\n",
    "inversion = Inversion(phi, initial_model, minimizer, directives)"
   ]
  },
  {
   "cell_type": "code",
   "execution_count": 38,
   "id": "cfbd9de0-0cac-48e8-bd7b-ce64b8517083",
   "metadata": {
    "execution": {
     "iopub.execute_input": "2025-07-22T17:35:34.362401Z",
     "iopub.status.busy": "2025-07-22T17:35:34.362067Z",
     "iopub.status.idle": "2025-07-22T17:35:34.366188Z",
     "shell.execute_reply": "2025-07-22T17:35:34.365284Z",
     "shell.execute_reply.started": "2025-07-22T17:35:34.362377Z"
    }
   },
   "outputs": [],
   "source": [
    "chi_target = 0.1\n",
    "phi_d, phi_m = [], []"
   ]
  },
  {
   "cell_type": "code",
   "execution_count": 39,
   "id": "d0a69baf-9a5f-4a5f-803c-42627ff11527",
   "metadata": {
    "execution": {
     "iopub.execute_input": "2025-07-22T17:35:34.652594Z",
     "iopub.status.busy": "2025-07-22T17:35:34.651852Z",
     "iopub.status.idle": "2025-07-22T17:35:34.691587Z",
     "shell.execute_reply": "2025-07-22T17:35:34.690900Z",
     "shell.execute_reply.started": "2025-07-22T17:35:34.652543Z"
    }
   },
   "outputs": [
    {
     "name": "stdout",
     "output_type": "stream",
     "text": [
      " 1 | 1.00e+04 | 7.17e-02 | 1.16e+02\n",
      " 2 | 5.00e+03 | 1.23e-01 | 8.40e+01\n",
      " 3 | 2.50e+03 | 1.91e-01 | 5.03e+01\n",
      " 4 | 1.25e+03 | 2.69e-01 | 2.45e+01\n",
      " 5 | 6.25e+02 | 3.48e-01 | 1.02e+01\n",
      " 6 | 3.12e+02 | 4.25e-01 | 4.10e+00\n",
      " 7 | 1.56e+02 | 5.07e-01 | 1.71e+00\n",
      " 8 | 7.81e+01 | 5.90e-01 | 7.24e-01\n",
      " 9 | 3.91e+01 | 6.67e-01 | 2.88e-01\n",
      "10 | 1.95e+01 | 7.26e-01 | 1.08e-01\n",
      "11 | 9.77e+00 | 7.65e-01 | 4.37e-02\n",
      "Breaking iterations\n"
     ]
    }
   ],
   "source": [
    "for model in inversion:\n",
    "    \n",
    "    dmisfit_i, phi_m_i = data_misfit(model), regularization.function(model)\n",
    "    phi_d.append(dmisfit_i)\n",
    "    phi_m.append(phi_m_i)\n",
    "    \n",
    "    # Compute chi factor\n",
    "    chi = dmisfit_i / data_misfit.n_data\n",
    "    \n",
    "    row = [\n",
    "        f\"{inversion.counter:2d}\", \n",
    "        f\"{regularization.multiplier:.2e}\",\n",
    "        f\"{model[0]:.2e}\",\n",
    "        f\"{chi:.2e}\",\n",
    "    ]\n",
    "    print(\" | \".join(row))\n",
    "    \n",
    "    if chi < chi_target:\n",
    "        print(\"Breaking iterations\")\n",
    "        break"
   ]
  },
  {
   "cell_type": "code",
   "execution_count": 40,
   "id": "42c55ccb-bbc4-47b1-b524-5d9a91e13c22",
   "metadata": {
    "execution": {
     "iopub.execute_input": "2025-07-22T17:35:36.212905Z",
     "iopub.status.busy": "2025-07-22T17:35:36.211760Z",
     "iopub.status.idle": "2025-07-22T17:35:36.339486Z",
     "shell.execute_reply": "2025-07-22T17:35:36.338600Z",
     "shell.execute_reply.started": "2025-07-22T17:35:36.212853Z"
    }
   },
   "outputs": [
    {
     "data": {
      "image/png": "[encoded data removed]",
      "text/plain": [
       "<Figure size 640x480 with 1 Axes>"
      ]
     },
     "metadata": {},
     "output_type": "display_data"
    }
   ],
   "source": [
    "import matplotlib.pyplot as plt\n",
    "\n",
    "plt.plot(phi_m, phi_d, \"o-\")\n",
    "plt.xlabel(r\"$\\phi_m$\")\n",
    "plt.ylabel(r\"$\\phi_d$\")\n",
    "plt.show()"
   ]
  },
  {
   "cell_type": "code",
   "execution_count": 41,
   "id": "e24d338e-331d-4c4a-9637-87037029cd51",
   "metadata": {
    "execution": {
     "iopub.execute_input": "2025-07-22T17:35:38.859197Z",
     "iopub.status.busy": "2025-07-22T17:35:38.858372Z",
     "iopub.status.idle": "2025-07-22T17:35:38.873106Z",
     "shell.execute_reply": "2025-07-22T17:35:38.871692Z",
     "shell.execute_reply.started": "2025-07-22T17:35:38.859124Z"
    }
   },
   "outputs": [
    {
     "data": {
      "text/plain": [
       "array([0.78225148, 0.67148671, 0.2373809 , 0.17946133, 0.34662367,\n",
       "       0.15210999, 0.31142952, 0.23900652, 0.54355731, 0.91770851])"
      ]
     },
     "execution_count": 41,
     "metadata": {},
     "output_type": "execute_result"
    }
   ],
   "source": [
    "true_model"
   ]
  },
  {
   "cell_type": "code",
   "execution_count": 42,
   "id": "73482c52-1cd7-4b81-bc37-19bc0bfd2da0",
   "metadata": {
    "execution": {
     "iopub.execute_input": "2025-07-22T17:35:39.130609Z",
     "iopub.status.busy": "2025-07-22T17:35:39.130238Z",
     "iopub.status.idle": "2025-07-22T17:35:39.136785Z",
     "shell.execute_reply": "2025-07-22T17:35:39.135904Z",
     "shell.execute_reply.started": "2025-07-22T17:35:39.130573Z"
    }
   },
   "outputs": [
    {
     "data": {
      "text/plain": [
       "array([0.76518717, 0.6188566 , 0.24764406, 0.19526216, 0.35131399,\n",
       "       0.19815277, 0.32923835, 0.27646319, 0.52978942, 0.86908809])"
      ]
     },
     "execution_count": 42,
     "metadata": {},
     "output_type": "execute_result"
    }
   ],
   "source": [
    "model"
   ]
  }
 ],
 "metadata": {
  "kernelspec": {
   "display_name": "Python [conda env:inversion_ideas]",
   "language": "python",
   "name": "conda-env-inversion_ideas-py"
  },
  "language_info": {
   "codemirror_mode": {
    "name": "ipython",
    "version": 3
   },
   "file_extension": ".py",
   "mimetype": "text/x-python",
   "name": "python",
   "nbconvert_exporter": "python",
   "pygments_lexer": "ipython3",
   "version": "3.13.5"
  }
 },
 "nbformat": 4,
 "nbformat_minor": 5
}
