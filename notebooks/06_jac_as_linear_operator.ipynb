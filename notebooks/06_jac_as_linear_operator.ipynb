{
 "cells": [
  {
   "cell_type": "markdown",
   "id": "0ed66bfb-683e-4b0a-a4ec-50050f295070",
   "metadata": {},
   "source": [
    "# Use inversion framework to fit a linear regressor"
   ]
  },
  {
   "cell_type": "code",
   "execution_count": 1,
   "id": "bba9bf32-da93-4100-9ee1-0983a1450bb4",
   "metadata": {
    "execution": {
     "iopub.execute_input": "2025-07-30T00:28:49.191250Z",
     "iopub.status.busy": "2025-07-30T00:28:49.190826Z",
     "iopub.status.idle": "2025-07-30T00:28:49.472378Z",
     "shell.execute_reply": "2025-07-30T00:28:49.471742Z",
     "shell.execute_reply.started": "2025-07-30T00:28:49.191208Z"
    }
   },
   "outputs": [],
   "source": [
    "import numpy as np\n",
    "\n",
    "from inversion_ideas import DataMisfit, TikhonovZero, ConjugateGradient\n",
    "from regressor import LinearRegressor"
   ]
  },
  {
   "cell_type": "code",
   "execution_count": 2,
   "id": "afa3d214-09d3-4a0f-a402-5793d8b308b2",
   "metadata": {
    "execution": {
     "iopub.execute_input": "2025-07-30T00:28:49.473247Z",
     "iopub.status.busy": "2025-07-30T00:28:49.472990Z",
     "iopub.status.idle": "2025-07-30T00:28:49.480019Z",
     "shell.execute_reply": "2025-07-30T00:28:49.479310Z",
     "shell.execute_reply.started": "2025-07-30T00:28:49.473227Z"
    }
   },
   "outputs": [
    {
     "data": {
      "text/plain": [
       "array([0.78225148, 0.67148671, 0.2373809 , 0.17946133, 0.34662367,\n",
       "       0.15210999, 0.31142952, 0.23900652, 0.54355731, 0.91770851])"
      ]
     },
     "execution_count": 2,
     "metadata": {},
     "output_type": "execute_result"
    }
   ],
   "source": [
    "n_params = 10\n",
    "rng = np.random.default_rng(seed=4242)\n",
    "true_model = rng.uniform(size=10)\n",
    "true_model"
   ]
  },
  {
   "cell_type": "code",
   "execution_count": 3,
   "id": "5485a55c-9727-4260-b590-1ea243dba484",
   "metadata": {
    "execution": {
     "iopub.execute_input": "2025-07-30T00:28:49.481061Z",
     "iopub.status.busy": "2025-07-30T00:28:49.480832Z",
     "iopub.status.idle": "2025-07-30T00:28:49.488257Z",
     "shell.execute_reply": "2025-07-30T00:28:49.487628Z",
     "shell.execute_reply.started": "2025-07-30T00:28:49.481039Z"
    }
   },
   "outputs": [],
   "source": [
    "# Build the X array\n",
    "n_data = 25\n",
    "shape = (n_data, n_params)\n",
    "X = rng.uniform(size=n_data * n_params).reshape(shape)"
   ]
  },
  {
   "cell_type": "code",
   "execution_count": 4,
   "id": "66458a9c-5e01-4a75-8fd0-fd149f447992",
   "metadata": {
    "execution": {
     "iopub.execute_input": "2025-07-30T00:28:49.489028Z",
     "iopub.status.busy": "2025-07-30T00:28:49.488839Z",
     "iopub.status.idle": "2025-07-30T00:28:49.499264Z",
     "shell.execute_reply": "2025-07-30T00:28:49.498660Z",
     "shell.execute_reply.started": "2025-07-30T00:28:49.489010Z"
    }
   },
   "outputs": [
    {
     "data": {
      "text/plain": [
       "array([2.83840696, 2.18091081, 2.00623242, 2.08333039, 2.01694883,\n",
       "       2.7826232 , 2.10564027, 1.27333506, 2.08859855, 1.94177648,\n",
       "       1.88492037, 2.92394733, 2.17231952, 3.08009275, 1.61670886,\n",
       "       1.77403753, 2.67305005, 1.91413882, 2.42117827, 2.13991628,\n",
       "       2.0153805 , 2.71388471, 2.65944255, 2.44416121, 3.14217523])"
      ]
     },
     "execution_count": 4,
     "metadata": {},
     "output_type": "execute_result"
    }
   ],
   "source": [
    "synthetic_data = X @ true_model\n",
    "maxabs = np.max(np.abs(synthetic_data))\n",
    "noise = rng.normal(scale=1e-2 * maxabs, size=synthetic_data.size)\n",
    "synthetic_data += noise\n",
    "synthetic_data"
   ]
  },
  {
   "cell_type": "code",
   "execution_count": 5,
   "id": "ad91f721-72a9-485b-9043-d85a2a220b7b",
   "metadata": {
    "execution": {
     "iopub.execute_input": "2025-07-30T00:28:49.500151Z",
     "iopub.status.busy": "2025-07-30T00:28:49.499919Z",
     "iopub.status.idle": "2025-07-30T00:28:49.512776Z",
     "shell.execute_reply": "2025-07-30T00:28:49.510270Z",
     "shell.execute_reply.started": "2025-07-30T00:28:49.500132Z"
    }
   },
   "outputs": [],
   "source": [
    "simulation = LinearRegressor(X, linop=True)"
   ]
  },
  {
   "cell_type": "code",
   "execution_count": 6,
   "id": "04636169-320a-4f1e-ab42-1b083b0111dd",
   "metadata": {
    "execution": {
     "iopub.execute_input": "2025-07-30T00:28:49.522562Z",
     "iopub.status.busy": "2025-07-30T00:28:49.521718Z",
     "iopub.status.idle": "2025-07-30T00:28:49.534307Z",
     "shell.execute_reply": "2025-07-30T00:28:49.531417Z",
     "shell.execute_reply.started": "2025-07-30T00:28:49.522486Z"
    }
   },
   "outputs": [],
   "source": [
    "uncertainty = 1e-2 * maxabs * np.ones_like(synthetic_data)\n",
    "data_misfit = DataMisfit(synthetic_data, uncertainty, simulation)\n",
    "smallness = TikhonovZero(n_params)"
   ]
  },
  {
   "cell_type": "code",
   "execution_count": 7,
   "id": "8da79647-eb17-4177-afb9-776f3cc4ffc5",
   "metadata": {
    "execution": {
     "iopub.execute_input": "2025-07-30T00:28:49.537932Z",
     "iopub.status.busy": "2025-07-30T00:28:49.536791Z",
     "iopub.status.idle": "2025-07-30T00:28:49.551919Z",
     "shell.execute_reply": "2025-07-30T00:28:49.550257Z",
     "shell.execute_reply.started": "2025-07-30T00:28:49.537809Z"
    }
   },
   "outputs": [
    {
     "data": {
      "text/latex": [
       "$\\phi (m)$ + $1.00 \\cdot 10^{-3} \\, \\phi (m)$"
      ],
      "text/plain": [
       "φ(m) + 0.00 φ(m)"
      ]
     },
     "execution_count": 7,
     "metadata": {},
     "output_type": "execute_result"
    }
   ],
   "source": [
    "phi = data_misfit + 1e-3 * smallness\n",
    "phi"
   ]
  },
  {
   "cell_type": "code",
   "execution_count": 8,
   "id": "d7bb890a-2958-4ea4-aa64-413f57c7b63e",
   "metadata": {
    "execution": {
     "iopub.execute_input": "2025-07-30T00:28:49.554157Z",
     "iopub.status.busy": "2025-07-30T00:28:49.553464Z",
     "iopub.status.idle": "2025-07-30T00:28:49.561318Z",
     "shell.execute_reply": "2025-07-30T00:28:49.560365Z",
     "shell.execute_reply.started": "2025-07-30T00:28:49.554117Z"
    }
   },
   "outputs": [
    {
     "data": {
      "text/plain": [
       "array([0., 0., 0., 0., 0., 0., 0., 0., 0., 0.])"
      ]
     },
     "execution_count": 8,
     "metadata": {},
     "output_type": "execute_result"
    }
   ],
   "source": [
    "initial_model = np.zeros(n_params)\n",
    "initial_model"
   ]
  },
  {
   "cell_type": "code",
   "execution_count": 9,
   "id": "7209972c-0045-4898-86ed-e8a7e8942159",
   "metadata": {
    "execution": {
     "iopub.execute_input": "2025-07-30T00:28:49.562848Z",
     "iopub.status.busy": "2025-07-30T00:28:49.562431Z",
     "iopub.status.idle": "2025-07-30T00:28:49.571315Z",
     "shell.execute_reply": "2025-07-30T00:28:49.570342Z",
     "shell.execute_reply.started": "2025-07-30T00:28:49.562804Z"
    }
   },
   "outputs": [
    {
     "data": {
      "text/plain": [
       "array([-1733.20339929, -1985.63733369, -1773.1392767 , -1893.3319921 ,\n",
       "       -1833.76284242, -2004.63209987, -1925.27758201, -1860.45846232,\n",
       "       -1979.35251292, -2199.64143712])"
      ]
     },
     "execution_count": 9,
     "metadata": {},
     "output_type": "execute_result"
    }
   ],
   "source": [
    "data_misfit.gradient(initial_model)"
   ]
  },
  {
   "cell_type": "code",
   "execution_count": 10,
   "id": "97c0c155-83c6-44df-9c08-59ea37796f49",
   "metadata": {
    "execution": {
     "iopub.execute_input": "2025-07-30T00:29:03.378180Z",
     "iopub.status.busy": "2025-07-30T00:29:03.377237Z",
     "iopub.status.idle": "2025-07-30T00:29:03.912509Z",
     "shell.execute_reply": "2025-07-30T00:29:03.911110Z",
     "shell.execute_reply.started": "2025-07-30T00:29:03.378148Z"
    }
   },
   "outputs": [
    {
     "ename": "TypeError",
     "evalue": "Unable to multiply a LinearOperator with a sparse matrix. Wrap the matrix in aslinearoperator first.",
     "output_type": "error",
     "traceback": [
      "\u001b[31m---------------------------------------------------------------------------\u001b[39m",
      "\u001b[31mTypeError\u001b[39m                                 Traceback (most recent call last)",
      "\u001b[36mFile \u001b[39m\u001b[32m~/.miniforge3/envs/inversion_ideas/lib/python3.13/site-packages/scipy/sparse/linalg/_interface.py:366\u001b[39m, in \u001b[36mLinearOperator.matmat\u001b[39m\u001b[34m(self, X)\u001b[39m\n\u001b[32m    365\u001b[39m \u001b[38;5;28;01mtry\u001b[39;00m:\n\u001b[32m--> \u001b[39m\u001b[32m366\u001b[39m     Y = \u001b[38;5;28;43mself\u001b[39;49m\u001b[43m.\u001b[49m\u001b[43m_matmat\u001b[49m\u001b[43m(\u001b[49m\u001b[43mX\u001b[49m\u001b[43m)\u001b[49m\n\u001b[32m    367\u001b[39m \u001b[38;5;28;01mexcept\u001b[39;00m \u001b[38;5;167;01mException\u001b[39;00m \u001b[38;5;28;01mas\u001b[39;00m e:\n",
      "\u001b[36mFile \u001b[39m\u001b[32m~/.miniforge3/envs/inversion_ideas/lib/python3.13/site-packages/scipy/sparse/linalg/_interface.py:613\u001b[39m, in \u001b[36m_CustomLinearOperator._matmat\u001b[39m\u001b[34m(self, X)\u001b[39m\n\u001b[32m    612\u001b[39m \u001b[38;5;28;01melse\u001b[39;00m:\n\u001b[32m--> \u001b[39m\u001b[32m613\u001b[39m     \u001b[38;5;28;01mreturn\u001b[39;00m \u001b[38;5;28;43msuper\u001b[39;49m\u001b[43m(\u001b[49m\u001b[43m)\u001b[49m\u001b[43m.\u001b[49m\u001b[43m_matmat\u001b[49m\u001b[43m(\u001b[49m\u001b[43mX\u001b[49m\u001b[43m)\u001b[49m\n",
      "\u001b[36mFile \u001b[39m\u001b[32m~/.miniforge3/envs/inversion_ideas/lib/python3.13/site-packages/scipy/sparse/linalg/_interface.py:213\u001b[39m, in \u001b[36mLinearOperator._matmat\u001b[39m\u001b[34m(self, X)\u001b[39m\n\u001b[32m    207\u001b[39m \u001b[38;5;250m\u001b[39m\u001b[33;03m\"\"\"Default matrix-matrix multiplication handler.\u001b[39;00m\n\u001b[32m    208\u001b[39m \n\u001b[32m    209\u001b[39m \u001b[33;03mFalls back on the user-defined _matvec method, so defining that will\u001b[39;00m\n\u001b[32m    210\u001b[39m \u001b[33;03mdefine matrix multiplication (though in a very suboptimal way).\u001b[39;00m\n\u001b[32m    211\u001b[39m \u001b[33;03m\"\"\"\u001b[39;00m\n\u001b[32m--> \u001b[39m\u001b[32m213\u001b[39m \u001b[38;5;28;01mreturn\u001b[39;00m np.hstack(\u001b[43m[\u001b[49m\u001b[38;5;28;43mself\u001b[39;49m\u001b[43m.\u001b[49m\u001b[43mmatvec\u001b[49m\u001b[43m(\u001b[49m\u001b[43mcol\u001b[49m\u001b[43m.\u001b[49m\u001b[43mreshape\u001b[49m\u001b[43m(\u001b[49m\u001b[43m-\u001b[49m\u001b[32;43m1\u001b[39;49m\u001b[43m,\u001b[49m\u001b[32;43m1\u001b[39;49m\u001b[43m)\u001b[49m\u001b[43m)\u001b[49m\u001b[43m \u001b[49m\u001b[38;5;28;43;01mfor\u001b[39;49;00m\u001b[43m \u001b[49m\u001b[43mcol\u001b[49m\u001b[43m \u001b[49m\u001b[38;5;129;43;01min\u001b[39;49;00m\u001b[43m \u001b[49m\u001b[43mX\u001b[49m\u001b[43m.\u001b[49m\u001b[43mT\u001b[49m\u001b[43m]\u001b[49m)\n",
      "\u001b[36mFile \u001b[39m\u001b[32m~/.miniforge3/envs/inversion_ideas/lib/python3.13/site-packages/scipy/sparse/_base.py:286\u001b[39m, in \u001b[36m_spbase.__iter__\u001b[39m\u001b[34m(self)\u001b[39m\n\u001b[32m    285\u001b[39m \u001b[38;5;28;01mfor\u001b[39;00m r \u001b[38;5;129;01min\u001b[39;00m \u001b[38;5;28mrange\u001b[39m(\u001b[38;5;28mself\u001b[39m.shape[\u001b[32m0\u001b[39m]):\n\u001b[32m--> \u001b[39m\u001b[32m286\u001b[39m     \u001b[38;5;28;01myield\u001b[39;00m \u001b[38;5;28;43mself\u001b[39;49m\u001b[43m[\u001b[49m\u001b[43mr\u001b[49m\u001b[43m]\u001b[49m\n",
      "\u001b[31mTypeError\u001b[39m: 'dia_array' object is not subscriptable",
      "\nThe above exception was the direct cause of the following exception:\n",
      "\u001b[31mTypeError\u001b[39m                                 Traceback (most recent call last)",
      "\u001b[36mFile \u001b[39m\u001b[32m~/.miniforge3/envs/inversion_ideas/lib/python3.13/site-packages/scipy/sparse/linalg/_interface.py:366\u001b[39m, in \u001b[36mLinearOperator.matmat\u001b[39m\u001b[34m(self, X)\u001b[39m\n\u001b[32m    365\u001b[39m \u001b[38;5;28;01mtry\u001b[39;00m:\n\u001b[32m--> \u001b[39m\u001b[32m366\u001b[39m     Y = \u001b[38;5;28;43mself\u001b[39;49m\u001b[43m.\u001b[49m\u001b[43m_matmat\u001b[49m\u001b[43m(\u001b[49m\u001b[43mX\u001b[49m\u001b[43m)\u001b[49m\n\u001b[32m    367\u001b[39m \u001b[38;5;28;01mexcept\u001b[39;00m \u001b[38;5;167;01mException\u001b[39;00m \u001b[38;5;28;01mas\u001b[39;00m e:\n",
      "\u001b[36mFile \u001b[39m\u001b[32m~/.miniforge3/envs/inversion_ideas/lib/python3.13/site-packages/scipy/sparse/linalg/_interface.py:678\u001b[39m, in \u001b[36m_TransposedLinearOperator._matmat\u001b[39m\u001b[34m(self, x)\u001b[39m\n\u001b[32m    676\u001b[39m \u001b[38;5;28;01mdef\u001b[39;00m\u001b[38;5;250m \u001b[39m\u001b[34m_matmat\u001b[39m(\u001b[38;5;28mself\u001b[39m, x):\n\u001b[32m    677\u001b[39m     \u001b[38;5;66;03m# NB. np.conj works also on sparse matrices\u001b[39;00m\n\u001b[32m--> \u001b[39m\u001b[32m678\u001b[39m     \u001b[38;5;28;01mreturn\u001b[39;00m np.conj(\u001b[38;5;28;43mself\u001b[39;49m\u001b[43m.\u001b[49m\u001b[43mA\u001b[49m\u001b[43m.\u001b[49m\u001b[43m_rmatmat\u001b[49m\u001b[43m(\u001b[49m\u001b[43mnp\u001b[49m\u001b[43m.\u001b[49m\u001b[43mconj\u001b[49m\u001b[43m(\u001b[49m\u001b[43mx\u001b[49m\u001b[43m)\u001b[49m\u001b[43m)\u001b[49m)\n",
      "\u001b[36mFile \u001b[39m\u001b[32m~/.miniforge3/envs/inversion_ideas/lib/python3.13/site-packages/scipy/sparse/linalg/_interface.py:628\u001b[39m, in \u001b[36m_CustomLinearOperator._rmatmat\u001b[39m\u001b[34m(self, X)\u001b[39m\n\u001b[32m    627\u001b[39m \u001b[38;5;28;01melse\u001b[39;00m:\n\u001b[32m--> \u001b[39m\u001b[32m628\u001b[39m     \u001b[38;5;28;01mreturn\u001b[39;00m \u001b[38;5;28;43msuper\u001b[39;49m\u001b[43m(\u001b[49m\u001b[43m)\u001b[49m\u001b[43m.\u001b[49m\u001b[43m_rmatmat\u001b[49m\u001b[43m(\u001b[49m\u001b[43mX\u001b[49m\u001b[43m)\u001b[49m\n",
      "\u001b[36mFile \u001b[39m\u001b[32m~/.miniforge3/envs/inversion_ideas/lib/python3.13/site-packages/scipy/sparse/linalg/_interface.py:430\u001b[39m, in \u001b[36mLinearOperator._rmatmat\u001b[39m\u001b[34m(self, X)\u001b[39m\n\u001b[32m    429\u001b[39m \u001b[38;5;28;01melse\u001b[39;00m:\n\u001b[32m--> \u001b[39m\u001b[32m430\u001b[39m     \u001b[38;5;28;01mreturn\u001b[39;00m \u001b[38;5;28;43mself\u001b[39;49m\u001b[43m.\u001b[49m\u001b[43mH\u001b[49m\u001b[43m.\u001b[49m\u001b[43mmatmat\u001b[49m\u001b[43m(\u001b[49m\u001b[43mX\u001b[49m\u001b[43m)\u001b[49m\n",
      "\u001b[36mFile \u001b[39m\u001b[32m~/.miniforge3/envs/inversion_ideas/lib/python3.13/site-packages/scipy/sparse/linalg/_interface.py:369\u001b[39m, in \u001b[36mLinearOperator.matmat\u001b[39m\u001b[34m(self, X)\u001b[39m\n\u001b[32m    368\u001b[39m \u001b[38;5;28;01mif\u001b[39;00m issparse(X) \u001b[38;5;129;01mor\u001b[39;00m is_pydata_spmatrix(X):\n\u001b[32m--> \u001b[39m\u001b[32m369\u001b[39m     \u001b[38;5;28;01mraise\u001b[39;00m \u001b[38;5;167;01mTypeError\u001b[39;00m(\n\u001b[32m    370\u001b[39m         \u001b[33m\"\u001b[39m\u001b[33mUnable to multiply a LinearOperator with a sparse matrix.\u001b[39m\u001b[33m\"\u001b[39m\n\u001b[32m    371\u001b[39m         \u001b[33m\"\u001b[39m\u001b[33m Wrap the matrix in aslinearoperator first.\u001b[39m\u001b[33m\"\u001b[39m\n\u001b[32m    372\u001b[39m     ) \u001b[38;5;28;01mfrom\u001b[39;00m\u001b[38;5;250m \u001b[39m\u001b[34;01me\u001b[39;00m\n\u001b[32m    373\u001b[39m \u001b[38;5;28;01mraise\u001b[39;00m\n",
      "\u001b[31mTypeError\u001b[39m: Unable to multiply a LinearOperator with a sparse matrix. Wrap the matrix in aslinearoperator first.",
      "\nThe above exception was the direct cause of the following exception:\n",
      "\u001b[31mTypeError\u001b[39m                                 Traceback (most recent call last)",
      "\u001b[36mFile \u001b[39m\u001b[32m~/.miniforge3/envs/inversion_ideas/lib/python3.13/site-packages/scipy/sparse/linalg/_interface.py:366\u001b[39m, in \u001b[36mLinearOperator.matmat\u001b[39m\u001b[34m(self, X)\u001b[39m\n\u001b[32m    365\u001b[39m \u001b[38;5;28;01mtry\u001b[39;00m:\n\u001b[32m--> \u001b[39m\u001b[32m366\u001b[39m     Y = \u001b[38;5;28;43mself\u001b[39;49m\u001b[43m.\u001b[49m\u001b[43m_matmat\u001b[49m\u001b[43m(\u001b[49m\u001b[43mX\u001b[49m\u001b[43m)\u001b[49m\n\u001b[32m    367\u001b[39m \u001b[38;5;28;01mexcept\u001b[39;00m \u001b[38;5;167;01mException\u001b[39;00m \u001b[38;5;28;01mas\u001b[39;00m e:\n",
      "\u001b[36mFile \u001b[39m\u001b[32m~/.miniforge3/envs/inversion_ideas/lib/python3.13/site-packages/scipy/sparse/linalg/_interface.py:774\u001b[39m, in \u001b[36m_ScaledLinearOperator._matmat\u001b[39m\u001b[34m(self, x)\u001b[39m\n\u001b[32m    773\u001b[39m \u001b[38;5;28;01mdef\u001b[39;00m\u001b[38;5;250m \u001b[39m\u001b[34m_matmat\u001b[39m(\u001b[38;5;28mself\u001b[39m, x):\n\u001b[32m--> \u001b[39m\u001b[32m774\u001b[39m     \u001b[38;5;28;01mreturn\u001b[39;00m \u001b[38;5;28mself\u001b[39m.args[\u001b[32m1\u001b[39m] * \u001b[38;5;28;43mself\u001b[39;49m\u001b[43m.\u001b[49m\u001b[43margs\u001b[49m\u001b[43m[\u001b[49m\u001b[32;43m0\u001b[39;49m\u001b[43m]\u001b[49m\u001b[43m.\u001b[49m\u001b[43mmatmat\u001b[49m\u001b[43m(\u001b[49m\u001b[43mx\u001b[49m\u001b[43m)\u001b[49m\n",
      "\u001b[36mFile \u001b[39m\u001b[32m~/.miniforge3/envs/inversion_ideas/lib/python3.13/site-packages/scipy/sparse/linalg/_interface.py:369\u001b[39m, in \u001b[36mLinearOperator.matmat\u001b[39m\u001b[34m(self, X)\u001b[39m\n\u001b[32m    368\u001b[39m \u001b[38;5;28;01mif\u001b[39;00m issparse(X) \u001b[38;5;129;01mor\u001b[39;00m is_pydata_spmatrix(X):\n\u001b[32m--> \u001b[39m\u001b[32m369\u001b[39m     \u001b[38;5;28;01mraise\u001b[39;00m \u001b[38;5;167;01mTypeError\u001b[39;00m(\n\u001b[32m    370\u001b[39m         \u001b[33m\"\u001b[39m\u001b[33mUnable to multiply a LinearOperator with a sparse matrix.\u001b[39m\u001b[33m\"\u001b[39m\n\u001b[32m    371\u001b[39m         \u001b[33m\"\u001b[39m\u001b[33m Wrap the matrix in aslinearoperator first.\u001b[39m\u001b[33m\"\u001b[39m\n\u001b[32m    372\u001b[39m     ) \u001b[38;5;28;01mfrom\u001b[39;00m\u001b[38;5;250m \u001b[39m\u001b[34;01me\u001b[39;00m\n\u001b[32m    373\u001b[39m \u001b[38;5;28;01mraise\u001b[39;00m\n",
      "\u001b[31mTypeError\u001b[39m: Unable to multiply a LinearOperator with a sparse matrix. Wrap the matrix in aslinearoperator first.",
      "\nThe above exception was the direct cause of the following exception:\n",
      "\u001b[31mTypeError\u001b[39m                                 Traceback (most recent call last)",
      "\u001b[36mCell\u001b[39m\u001b[36m \u001b[39m\u001b[32mIn[10]\u001b[39m\u001b[32m, line 1\u001b[39m\n\u001b[32m----> \u001b[39m\u001b[32m1\u001b[39m \u001b[43mdata_misfit\u001b[49m\u001b[43m.\u001b[49m\u001b[43mhessian\u001b[49m\u001b[43m(\u001b[49m\u001b[43minitial_model\u001b[49m\u001b[43m)\u001b[49m\n",
      "\u001b[36mFile \u001b[39m\u001b[32m~/git/inversion-design-ideas/src/inversion_ideas/data_misfit.py:52\u001b[39m, in \u001b[36mDataMisfit.hessian\u001b[39m\u001b[34m(self, model)\u001b[39m\n\u001b[32m     48\u001b[39m \u001b[38;5;250m\u001b[39m\u001b[33;03m\"\"\"\u001b[39;00m\n\u001b[32m     49\u001b[39m \u001b[33;03mHessian matrix.\u001b[39;00m\n\u001b[32m     50\u001b[39m \u001b[33;03m\"\"\"\u001b[39;00m\n\u001b[32m     51\u001b[39m jac = \u001b[38;5;28mself\u001b[39m.simulation.jacobian(model)\n\u001b[32m---> \u001b[39m\u001b[32m52\u001b[39m \u001b[38;5;28;01mreturn\u001b[39;00m \u001b[32;43m2\u001b[39;49m\u001b[43m \u001b[49m\u001b[43m*\u001b[49m\u001b[43m \u001b[49m\u001b[43mjac\u001b[49m\u001b[43m.\u001b[49m\u001b[43mT\u001b[49m\u001b[43m \u001b[49m\u001b[43m@\u001b[49m\u001b[43m \u001b[49m\u001b[38;5;28;43mself\u001b[39;49m\u001b[43m.\u001b[49m\u001b[43mweights_squared\u001b[49m @ jac\n",
      "\u001b[36mFile \u001b[39m\u001b[32m~/.miniforge3/envs/inversion_ideas/lib/python3.13/site-packages/scipy/sparse/linalg/_interface.py:479\u001b[39m, in \u001b[36mLinearOperator.__matmul__\u001b[39m\u001b[34m(self, other)\u001b[39m\n\u001b[32m    476\u001b[39m \u001b[38;5;28;01mif\u001b[39;00m np.isscalar(other):\n\u001b[32m    477\u001b[39m     \u001b[38;5;28;01mraise\u001b[39;00m \u001b[38;5;167;01mValueError\u001b[39;00m(\u001b[33m\"\u001b[39m\u001b[33mScalar operands are not allowed, \u001b[39m\u001b[33m\"\u001b[39m\n\u001b[32m    478\u001b[39m                      \u001b[33m\"\u001b[39m\u001b[33muse \u001b[39m\u001b[33m'\u001b[39m\u001b[33m*\u001b[39m\u001b[33m'\u001b[39m\u001b[33m instead\u001b[39m\u001b[33m\"\u001b[39m)\n\u001b[32m--> \u001b[39m\u001b[32m479\u001b[39m \u001b[38;5;28;01mreturn\u001b[39;00m \u001b[38;5;28;43mself\u001b[39;49m\u001b[43m.\u001b[49m\u001b[34;43m__mul__\u001b[39;49m\u001b[43m(\u001b[49m\u001b[43mother\u001b[49m\u001b[43m)\u001b[49m\n",
      "\u001b[36mFile \u001b[39m\u001b[32m~/.miniforge3/envs/inversion_ideas/lib/python3.13/site-packages/scipy/sparse/linalg/_interface.py:436\u001b[39m, in \u001b[36mLinearOperator.__mul__\u001b[39m\u001b[34m(self, x)\u001b[39m\n\u001b[32m    435\u001b[39m \u001b[38;5;28;01mdef\u001b[39;00m\u001b[38;5;250m \u001b[39m\u001b[34m__mul__\u001b[39m(\u001b[38;5;28mself\u001b[39m, x):\n\u001b[32m--> \u001b[39m\u001b[32m436\u001b[39m     \u001b[38;5;28;01mreturn\u001b[39;00m \u001b[38;5;28;43mself\u001b[39;49m\u001b[43m.\u001b[49m\u001b[43mdot\u001b[49m\u001b[43m(\u001b[49m\u001b[43mx\u001b[49m\u001b[43m)\u001b[49m\n",
      "\u001b[36mFile \u001b[39m\u001b[32m~/.miniforge3/envs/inversion_ideas/lib/python3.13/site-packages/scipy/sparse/linalg/_interface.py:471\u001b[39m, in \u001b[36mLinearOperator.dot\u001b[39m\u001b[34m(self, x)\u001b[39m\n\u001b[32m    469\u001b[39m     \u001b[38;5;28;01mreturn\u001b[39;00m \u001b[38;5;28mself\u001b[39m.matvec(x)\n\u001b[32m    470\u001b[39m \u001b[38;5;28;01melif\u001b[39;00m x.ndim == \u001b[32m2\u001b[39m:\n\u001b[32m--> \u001b[39m\u001b[32m471\u001b[39m     \u001b[38;5;28;01mreturn\u001b[39;00m \u001b[38;5;28;43mself\u001b[39;49m\u001b[43m.\u001b[49m\u001b[43mmatmat\u001b[49m\u001b[43m(\u001b[49m\u001b[43mx\u001b[49m\u001b[43m)\u001b[49m\n\u001b[32m    472\u001b[39m \u001b[38;5;28;01melse\u001b[39;00m:\n\u001b[32m    473\u001b[39m     \u001b[38;5;28;01mraise\u001b[39;00m \u001b[38;5;167;01mValueError\u001b[39;00m(\u001b[33mf\u001b[39m\u001b[33m'\u001b[39m\u001b[33mexpected 1-d or 2-d array or matrix, got \u001b[39m\u001b[38;5;132;01m{\u001b[39;00mx\u001b[38;5;132;01m!r}\u001b[39;00m\u001b[33m'\u001b[39m)\n",
      "\u001b[36mFile \u001b[39m\u001b[32m~/.miniforge3/envs/inversion_ideas/lib/python3.13/site-packages/scipy/sparse/linalg/_interface.py:369\u001b[39m, in \u001b[36mLinearOperator.matmat\u001b[39m\u001b[34m(self, X)\u001b[39m\n\u001b[32m    367\u001b[39m \u001b[38;5;28;01mexcept\u001b[39;00m \u001b[38;5;167;01mException\u001b[39;00m \u001b[38;5;28;01mas\u001b[39;00m e:\n\u001b[32m    368\u001b[39m     \u001b[38;5;28;01mif\u001b[39;00m issparse(X) \u001b[38;5;129;01mor\u001b[39;00m is_pydata_spmatrix(X):\n\u001b[32m--> \u001b[39m\u001b[32m369\u001b[39m         \u001b[38;5;28;01mraise\u001b[39;00m \u001b[38;5;167;01mTypeError\u001b[39;00m(\n\u001b[32m    370\u001b[39m             \u001b[33m\"\u001b[39m\u001b[33mUnable to multiply a LinearOperator with a sparse matrix.\u001b[39m\u001b[33m\"\u001b[39m\n\u001b[32m    371\u001b[39m             \u001b[33m\"\u001b[39m\u001b[33m Wrap the matrix in aslinearoperator first.\u001b[39m\u001b[33m\"\u001b[39m\n\u001b[32m    372\u001b[39m         ) \u001b[38;5;28;01mfrom\u001b[39;00m\u001b[38;5;250m \u001b[39m\u001b[34;01me\u001b[39;00m\n\u001b[32m    373\u001b[39m     \u001b[38;5;28;01mraise\u001b[39;00m\n\u001b[32m    375\u001b[39m \u001b[38;5;28;01mif\u001b[39;00m \u001b[38;5;28misinstance\u001b[39m(Y, np.matrix):\n",
      "\u001b[31mTypeError\u001b[39m: Unable to multiply a LinearOperator with a sparse matrix. Wrap the matrix in aslinearoperator first."
     ]
    }
   ],
   "source": [
    "data_misfit.hessian(initial_model)"
   ]
  },
  {
   "cell_type": "markdown",
   "id": "5cc54476-cd31-4bf6-bc0f-bfd6254af7ec",
   "metadata": {},
   "source": [
    "## Minimize manually with `scipy.sparse.linalg.cg`"
   ]
  },
  {
   "cell_type": "code",
   "execution_count": 9,
   "id": "d4bac3a2-49d5-4592-a793-72789ec31a5c",
   "metadata": {
    "execution": {
     "iopub.execute_input": "2025-07-23T16:35:11.564296Z",
     "iopub.status.busy": "2025-07-23T16:35:11.564102Z",
     "iopub.status.idle": "2025-07-23T16:35:11.570018Z",
     "shell.execute_reply": "2025-07-23T16:35:11.569178Z",
     "shell.execute_reply.started": "2025-07-23T16:35:11.564276Z"
    }
   },
   "outputs": [],
   "source": [
    "from scipy.sparse.linalg import cg"
   ]
  },
  {
   "cell_type": "code",
   "execution_count": 10,
   "id": "c3369162-abe9-4fb9-9294-69277e50ef13",
   "metadata": {
    "execution": {
     "iopub.execute_input": "2025-07-23T16:35:11.571299Z",
     "iopub.status.busy": "2025-07-23T16:35:11.570942Z",
     "iopub.status.idle": "2025-07-23T16:35:11.580311Z",
     "shell.execute_reply": "2025-07-23T16:35:11.579716Z",
     "shell.execute_reply.started": "2025-07-23T16:35:11.571263Z"
    }
   },
   "outputs": [],
   "source": [
    "grad = phi.gradient(initial_model)\n",
    "hess = phi.hessian(initial_model)"
   ]
  },
  {
   "cell_type": "code",
   "execution_count": 11,
   "id": "c1fed88c-9c34-4ee3-8208-e7b50c2ec678",
   "metadata": {
    "execution": {
     "iopub.execute_input": "2025-07-23T16:35:11.581353Z",
     "iopub.status.busy": "2025-07-23T16:35:11.581065Z",
     "iopub.status.idle": "2025-07-23T16:35:11.590994Z",
     "shell.execute_reply": "2025-07-23T16:35:11.590280Z",
     "shell.execute_reply.started": "2025-07-23T16:35:11.581322Z"
    }
   },
   "outputs": [
    {
     "data": {
      "text/plain": [
       "(array([0.81328361, 0.65926983, 0.24729306, 0.19624665, 0.32373823,\n",
       "        0.14720994, 0.31944798, 0.25236328, 0.52215617, 0.92180399]),\n",
       " 0)"
      ]
     },
     "execution_count": 11,
     "metadata": {},
     "output_type": "execute_result"
    }
   ],
   "source": [
    "model_step, info = cg(hess, -grad)\n",
    "model_step, info"
   ]
  },
  {
   "cell_type": "code",
   "execution_count": 12,
   "id": "54a8ef70-6e5f-4000-ad2f-658dbffd83f1",
   "metadata": {
    "execution": {
     "iopub.execute_input": "2025-07-23T16:35:11.592437Z",
     "iopub.status.busy": "2025-07-23T16:35:11.591894Z",
     "iopub.status.idle": "2025-07-23T16:35:11.598507Z",
     "shell.execute_reply": "2025-07-23T16:35:11.597755Z",
     "shell.execute_reply.started": "2025-07-23T16:35:11.592402Z"
    }
   },
   "outputs": [],
   "source": [
    "inverted_model = initial_model + model_step"
   ]
  },
  {
   "cell_type": "code",
   "execution_count": 13,
   "id": "b05f913f-dcfa-4bca-a277-b9cf5c9de6b5",
   "metadata": {
    "execution": {
     "iopub.execute_input": "2025-07-23T16:35:11.599803Z",
     "iopub.status.busy": "2025-07-23T16:35:11.599475Z",
     "iopub.status.idle": "2025-07-23T16:35:11.607380Z",
     "shell.execute_reply": "2025-07-23T16:35:11.606608Z",
     "shell.execute_reply.started": "2025-07-23T16:35:11.599770Z"
    }
   },
   "outputs": [
    {
     "name": "stdout",
     "output_type": "stream",
     "text": [
      "Result:\n",
      "[0.81328361 0.65926983 0.24729306 0.19624665 0.32373823 0.14720994\n",
      " 0.31944798 0.25236328 0.52215617 0.92180399]\n",
      "\n",
      "True model:\n",
      "[0.78225148 0.67148671 0.2373809  0.17946133 0.34662367 0.15210999\n",
      " 0.31142952 0.23900652 0.54355731 0.91770851]\n"
     ]
    }
   ],
   "source": [
    "print(\"Result:\")\n",
    "print(inverted_model)\n",
    "print()\n",
    "print(\"True model:\")\n",
    "print(true_model)"
   ]
  },
  {
   "cell_type": "markdown",
   "id": "ad0f7d22-77d6-410c-bca1-e3d765006aff",
   "metadata": {},
   "source": [
    "## Minimize with SciPy's `minimize`"
   ]
  },
  {
   "cell_type": "code",
   "execution_count": 14,
   "id": "5f36ec3b-0380-4eeb-b01a-3191c12b70f5",
   "metadata": {
    "execution": {
     "iopub.execute_input": "2025-07-23T16:35:11.608344Z",
     "iopub.status.busy": "2025-07-23T16:35:11.608101Z",
     "iopub.status.idle": "2025-07-23T16:35:11.720380Z",
     "shell.execute_reply": "2025-07-23T16:35:11.719607Z",
     "shell.execute_reply.started": "2025-07-23T16:35:11.608321Z"
    }
   },
   "outputs": [],
   "source": [
    "from scipy.optimize import minimize"
   ]
  },
  {
   "cell_type": "code",
   "execution_count": 15,
   "id": "ba337ea8-0afb-46aa-b107-07bcf86a8324",
   "metadata": {
    "execution": {
     "iopub.execute_input": "2025-07-23T16:35:11.721392Z",
     "iopub.status.busy": "2025-07-23T16:35:11.721124Z",
     "iopub.status.idle": "2025-07-23T16:35:11.840698Z",
     "shell.execute_reply": "2025-07-23T16:35:11.839910Z",
     "shell.execute_reply.started": "2025-07-23T16:35:11.721368Z"
    }
   },
   "outputs": [
    {
     "data": {
      "text/plain": [
       "  message: Optimization terminated successfully.\n",
       "  success: True\n",
       "   status: 0\n",
       "      fun: 0.37159603111570305\n",
       "        x: [ 8.133e-01  6.592e-01  2.473e-01  1.963e-01  3.237e-01\n",
       "             1.472e-01  3.195e-01  2.524e-01  5.222e-01  9.218e-01]\n",
       "      nit: 16\n",
       "      jac: [-1.378e-07  2.645e-07  1.155e-07  1.118e-08 -1.006e-07\n",
       "             1.714e-07 -3.725e-08  2.682e-07  3.353e-08  1.602e-07]\n",
       " hess_inv: [[ 1.077e-02 -3.331e-03 ...  5.039e-04 -2.987e-03]\n",
       "            [-3.331e-03  1.286e-02 ... -3.213e-03 -4.085e-04]\n",
       "            ...\n",
       "            [ 5.039e-04 -3.213e-03 ...  6.867e-03 -1.745e-03]\n",
       "            [-2.987e-03 -4.085e-04 ... -1.745e-03  8.357e-03]]\n",
       "     nfev: 231\n",
       "     njev: 21"
      ]
     },
     "execution_count": 15,
     "metadata": {},
     "output_type": "execute_result"
    }
   ],
   "source": [
    "result =  minimize(phi, initial_model)\n",
    "result"
   ]
  },
  {
   "cell_type": "code",
   "execution_count": 16,
   "id": "d5cf83b5-6cbd-42d1-9513-d3ca38464b72",
   "metadata": {
    "execution": {
     "iopub.execute_input": "2025-07-23T16:35:11.841743Z",
     "iopub.status.busy": "2025-07-23T16:35:11.841366Z",
     "iopub.status.idle": "2025-07-23T16:35:11.845304Z",
     "shell.execute_reply": "2025-07-23T16:35:11.844651Z",
     "shell.execute_reply.started": "2025-07-23T16:35:11.841708Z"
    }
   },
   "outputs": [],
   "source": [
    "# The minimize already gives you the minimum model\n",
    "inverted_model = result.x"
   ]
  },
  {
   "cell_type": "code",
   "execution_count": 17,
   "id": "d25be88b-3134-447a-b003-c80dddff3166",
   "metadata": {
    "execution": {
     "iopub.execute_input": "2025-07-23T16:35:11.846649Z",
     "iopub.status.busy": "2025-07-23T16:35:11.845928Z",
     "iopub.status.idle": "2025-07-23T16:35:11.855068Z",
     "shell.execute_reply": "2025-07-23T16:35:11.854320Z",
     "shell.execute_reply.started": "2025-07-23T16:35:11.846613Z"
    }
   },
   "outputs": [
    {
     "name": "stdout",
     "output_type": "stream",
     "text": [
      "Result:\n",
      "[0.81325615 0.65924881 0.24726449 0.19626688 0.32373389 0.14719947\n",
      " 0.31947497 0.25235411 0.5221697  0.92183533]\n",
      "\n",
      "True model:\n",
      "[0.78225148 0.67148671 0.2373809  0.17946133 0.34662367 0.15210999\n",
      " 0.31142952 0.23900652 0.54355731 0.91770851]\n"
     ]
    }
   ],
   "source": [
    "print(\"Result:\")\n",
    "print(inverted_model)\n",
    "print()\n",
    "print(\"True model:\")\n",
    "print(true_model)"
   ]
  },
  {
   "cell_type": "code",
   "execution_count": 18,
   "id": "50cb98a1-1fc8-4378-a517-09ed910ce1c3",
   "metadata": {
    "execution": {
     "iopub.execute_input": "2025-07-23T16:35:11.856190Z",
     "iopub.status.busy": "2025-07-23T16:35:11.855868Z",
     "iopub.status.idle": "2025-07-23T16:35:11.891088Z",
     "shell.execute_reply": "2025-07-23T16:35:11.890143Z",
     "shell.execute_reply.started": "2025-07-23T16:35:11.856166Z"
    }
   },
   "outputs": [
    {
     "data": {
      "text/plain": [
       " message: Optimization terminated successfully.\n",
       " success: True\n",
       "  status: 0\n",
       "     fun: 0.3715960311156836\n",
       "       x: [ 8.133e-01  6.592e-01  2.473e-01  1.963e-01  3.237e-01\n",
       "            1.472e-01  3.195e-01  2.524e-01  5.222e-01  9.218e-01]\n",
       "     nit: 12\n",
       "     jac: [ 3.612e-12  7.223e-12  7.137e-12  4.872e-12  5.592e-12\n",
       "            6.519e-12  6.291e-12  7.993e-12  6.342e-12  8.719e-12]\n",
       "    nfev: 24\n",
       "    njev: 24"
      ]
     },
     "execution_count": 18,
     "metadata": {},
     "output_type": "execute_result"
    }
   ],
   "source": [
    "result =  minimize(phi, initial_model, jac=phi.gradient, method=\"CG\")\n",
    "result"
   ]
  },
  {
   "cell_type": "code",
   "execution_count": 19,
   "id": "45a7c13a-79ea-445f-b63d-b551787ebc20",
   "metadata": {
    "execution": {
     "iopub.execute_input": "2025-07-23T16:35:11.892479Z",
     "iopub.status.busy": "2025-07-23T16:35:11.892090Z",
     "iopub.status.idle": "2025-07-23T16:35:11.895990Z",
     "shell.execute_reply": "2025-07-23T16:35:11.895283Z",
     "shell.execute_reply.started": "2025-07-23T16:35:11.892440Z"
    }
   },
   "outputs": [],
   "source": [
    "# The minimize already gives you the minimum model\n",
    "inverted_model = result.x"
   ]
  },
  {
   "cell_type": "code",
   "execution_count": 20,
   "id": "094fbf19-b676-4aba-8e23-b93abb8b2431",
   "metadata": {
    "execution": {
     "iopub.execute_input": "2025-07-23T16:35:11.897061Z",
     "iopub.status.busy": "2025-07-23T16:35:11.896763Z",
     "iopub.status.idle": "2025-07-23T16:35:11.906265Z",
     "shell.execute_reply": "2025-07-23T16:35:11.905380Z",
     "shell.execute_reply.started": "2025-07-23T16:35:11.897031Z"
    }
   },
   "outputs": [
    {
     "name": "stdout",
     "output_type": "stream",
     "text": [
      "Result:\n",
      "[0.81325615 0.65924881 0.2472645  0.19626689 0.32373389 0.14719947\n",
      " 0.31947497 0.25235411 0.5221697  0.92183533]\n",
      "\n",
      "True model:\n",
      "[0.78225148 0.67148671 0.2373809  0.17946133 0.34662367 0.15210999\n",
      " 0.31142952 0.23900652 0.54355731 0.91770851]\n"
     ]
    }
   ],
   "source": [
    "print(\"Result:\")\n",
    "print(result.x)\n",
    "print()\n",
    "print(\"True model:\")\n",
    "print(true_model)"
   ]
  },
  {
   "cell_type": "code",
   "execution_count": 21,
   "id": "65235b83-fd51-4f52-b7ba-3c0dc2a35fe2",
   "metadata": {
    "execution": {
     "iopub.execute_input": "2025-07-23T16:35:11.909944Z",
     "iopub.status.busy": "2025-07-23T16:35:11.909618Z",
     "iopub.status.idle": "2025-07-23T16:35:11.951403Z",
     "shell.execute_reply": "2025-07-23T16:35:11.950711Z",
     "shell.execute_reply.started": "2025-07-23T16:35:11.909917Z"
    }
   },
   "outputs": [
    {
     "data": {
      "text/plain": [
       " message: Optimization terminated successfully.\n",
       " success: True\n",
       "  status: 0\n",
       "     fun: 0.3715960311172809\n",
       "       x: [ 8.133e-01  6.592e-01  2.473e-01  1.963e-01  3.237e-01\n",
       "            1.472e-01  3.195e-01  2.524e-01  5.222e-01  9.218e-01]\n",
       "     nit: 10\n",
       "     jac: [-1.755e-04 -1.486e-04  1.521e-04  4.685e-05  3.222e-05\n",
       "           -1.612e-04  8.816e-05  7.859e-06  3.653e-04 -1.935e-04]\n",
       "    nfev: 11\n",
       "    njev: 11\n",
       "    nhev: 10"
      ]
     },
     "execution_count": 21,
     "metadata": {},
     "output_type": "execute_result"
    }
   ],
   "source": [
    "result =  minimize(phi, initial_model, jac=phi.gradient, hess=phi.hessian, method=\"Newton-CG\")\n",
    "result"
   ]
  },
  {
   "cell_type": "code",
   "execution_count": 22,
   "id": "45df89b6-58fc-472c-bfa6-96f1d3c7cc5c",
   "metadata": {
    "execution": {
     "iopub.execute_input": "2025-07-23T16:35:11.952542Z",
     "iopub.status.busy": "2025-07-23T16:35:11.952189Z",
     "iopub.status.idle": "2025-07-23T16:35:11.956340Z",
     "shell.execute_reply": "2025-07-23T16:35:11.955516Z",
     "shell.execute_reply.started": "2025-07-23T16:35:11.952505Z"
    }
   },
   "outputs": [],
   "source": [
    "# The minimize already gives you the minimum model\n",
    "inverted_model = result.x"
   ]
  },
  {
   "cell_type": "code",
   "execution_count": 23,
   "id": "2e9d2ee1-bfd9-4c3d-9865-f63d08a25b07",
   "metadata": {
    "execution": {
     "iopub.execute_input": "2025-07-23T16:35:11.957539Z",
     "iopub.status.busy": "2025-07-23T16:35:11.957156Z",
     "iopub.status.idle": "2025-07-23T16:35:11.966604Z",
     "shell.execute_reply": "2025-07-23T16:35:11.965778Z",
     "shell.execute_reply.started": "2025-07-23T16:35:11.957497Z"
    }
   },
   "outputs": [
    {
     "name": "stdout",
     "output_type": "stream",
     "text": [
      "Result:\n",
      "[0.81325626 0.65924868 0.24726445 0.19626684 0.32373384 0.14719954\n",
      " 0.31947496 0.25235426 0.52216973 0.92183526]\n",
      "\n",
      "True model:\n",
      "[0.78225148 0.67148671 0.2373809  0.17946133 0.34662367 0.15210999\n",
      " 0.31142952 0.23900652 0.54355731 0.91770851]\n"
     ]
    }
   ],
   "source": [
    "print(\"Result:\")\n",
    "print(result.x)\n",
    "print()\n",
    "print(\"True model:\")\n",
    "print(true_model)"
   ]
  },
  {
   "cell_type": "markdown",
   "id": "ded8a6fd-c419-4b13-bf3e-9d221c78a368",
   "metadata": {},
   "source": [
    "## Use `Minimizer` class"
   ]
  },
  {
   "cell_type": "code",
   "execution_count": 24,
   "id": "34372a3f-ff42-435f-9423-a4f99712fd9c",
   "metadata": {
    "execution": {
     "iopub.execute_input": "2025-07-23T16:35:11.967786Z",
     "iopub.status.busy": "2025-07-23T16:35:11.967434Z",
     "iopub.status.idle": "2025-07-23T16:35:11.975769Z",
     "shell.execute_reply": "2025-07-23T16:35:11.974822Z",
     "shell.execute_reply.started": "2025-07-23T16:35:11.967749Z"
    }
   },
   "outputs": [
    {
     "data": {
      "text/plain": [
       "<inversion_ideas.minimizer.ConjugateGradient at 0x7fd33143a7b0>"
      ]
     },
     "execution_count": 24,
     "metadata": {},
     "output_type": "execute_result"
    }
   ],
   "source": [
    "minimizer = ConjugateGradient()\n",
    "minimizer"
   ]
  },
  {
   "cell_type": "code",
   "execution_count": 25,
   "id": "f3f52071-c2c5-4016-9d61-cd2f3b781698",
   "metadata": {
    "execution": {
     "iopub.execute_input": "2025-07-23T16:35:11.977062Z",
     "iopub.status.busy": "2025-07-23T16:35:11.976761Z",
     "iopub.status.idle": "2025-07-23T16:35:11.983704Z",
     "shell.execute_reply": "2025-07-23T16:35:11.983111Z",
     "shell.execute_reply.started": "2025-07-23T16:35:11.977038Z"
    }
   },
   "outputs": [],
   "source": [
    "inverted_model = minimizer(phi, initial_model)"
   ]
  },
  {
   "cell_type": "code",
   "execution_count": 26,
   "id": "e41d3e15-1a74-42b9-9583-cacb8aeceadc",
   "metadata": {
    "execution": {
     "iopub.execute_input": "2025-07-23T16:35:11.984622Z",
     "iopub.status.busy": "2025-07-23T16:35:11.984347Z",
     "iopub.status.idle": "2025-07-23T16:35:11.992186Z",
     "shell.execute_reply": "2025-07-23T16:35:11.991340Z",
     "shell.execute_reply.started": "2025-07-23T16:35:11.984589Z"
    }
   },
   "outputs": [
    {
     "name": "stdout",
     "output_type": "stream",
     "text": [
      "Result:\n",
      "[0.81328361 0.65926983 0.24729306 0.19624665 0.32373823 0.14720994\n",
      " 0.31944798 0.25236328 0.52215617 0.92180399]\n",
      "\n",
      "True model:\n",
      "[0.78225148 0.67148671 0.2373809  0.17946133 0.34662367 0.15210999\n",
      " 0.31142952 0.23900652 0.54355731 0.91770851]\n"
     ]
    }
   ],
   "source": [
    "print(\"Result:\")\n",
    "print(inverted_model)\n",
    "print()\n",
    "print(\"True model:\")\n",
    "print(true_model)"
   ]
  },
  {
   "cell_type": "code",
   "execution_count": null,
   "id": "4a35232d-899c-4746-884d-58cb6b60a52d",
   "metadata": {},
   "outputs": [],
   "source": []
  }
 ],
 "metadata": {
  "kernelspec": {
   "display_name": "Python [conda env:inversion_ideas]",
   "language": "python",
   "name": "conda-env-inversion_ideas-py"
  },
  "language_info": {
   "codemirror_mode": {
    "name": "ipython",
    "version": 3
   },
   "file_extension": ".py",
   "mimetype": "text/x-python",
   "name": "python",
   "nbconvert_exporter": "python",
   "pygments_lexer": "ipython3",
   "version": "3.13.5"
  }
 },
 "nbformat": 4,
 "nbformat_minor": 5
}
