{
 "cells": [
  {
   "cell_type": "markdown",
   "id": "0ed66bfb-683e-4b0a-a4ec-50050f295070",
   "metadata": {},
   "source": [
    "# Experiment with jacobian as a linear operator"
   ]
  },
  {
   "cell_type": "code",
   "execution_count": 1,
   "id": "bba9bf32-da93-4100-9ee1-0983a1450bb4",
   "metadata": {
    "execution": {
     "iopub.execute_input": "2025-10-02T23:37:25.822823Z",
     "iopub.status.busy": "2025-10-02T23:37:25.821987Z",
     "iopub.status.idle": "2025-10-02T23:37:27.755503Z",
     "shell.execute_reply": "2025-10-02T23:37:27.754817Z",
     "shell.execute_reply.started": "2025-10-02T23:37:25.822743Z"
    }
   },
   "outputs": [],
   "source": [
    "import numpy as np\n",
    "from regressor import LinearRegressor\n",
    "\n",
    "import inversion_ideas as ii"
   ]
  },
  {
   "cell_type": "code",
   "execution_count": 2,
   "id": "afa3d214-09d3-4a0f-a402-5793d8b308b2",
   "metadata": {
    "execution": {
     "iopub.execute_input": "2025-10-02T23:37:27.756759Z",
     "iopub.status.busy": "2025-10-02T23:37:27.756435Z",
     "iopub.status.idle": "2025-10-02T23:37:27.763981Z",
     "shell.execute_reply": "2025-10-02T23:37:27.763391Z",
     "shell.execute_reply.started": "2025-10-02T23:37:27.756738Z"
    }
   },
   "outputs": [
    {
     "data": {
      "text/plain": [
       "array([0.78225148, 0.67148671, 0.2373809 , 0.17946133, 0.34662367,\n",
       "       0.15210999, 0.31142952, 0.23900652, 0.54355731, 0.91770851])"
      ]
     },
     "execution_count": 2,
     "metadata": {},
     "output_type": "execute_result"
    }
   ],
   "source": [
    "n_params = 10\n",
    "rng = np.random.default_rng(seed=4242)\n",
    "true_model = rng.uniform(size=10)\n",
    "true_model"
   ]
  },
  {
   "cell_type": "code",
   "execution_count": 3,
   "id": "5485a55c-9727-4260-b590-1ea243dba484",
   "metadata": {
    "execution": {
     "iopub.execute_input": "2025-10-02T23:37:27.764990Z",
     "iopub.status.busy": "2025-10-02T23:37:27.764722Z",
     "iopub.status.idle": "2025-10-02T23:37:27.778403Z",
     "shell.execute_reply": "2025-10-02T23:37:27.777573Z",
     "shell.execute_reply.started": "2025-10-02T23:37:27.764962Z"
    }
   },
   "outputs": [],
   "source": [
    "# Build the X array\n",
    "n_data = 25\n",
    "shape = (n_data, n_params)\n",
    "X = rng.uniform(size=n_data * n_params).reshape(shape)"
   ]
  },
  {
   "cell_type": "code",
   "execution_count": 4,
   "id": "66458a9c-5e01-4a75-8fd0-fd149f447992",
   "metadata": {
    "execution": {
     "iopub.execute_input": "2025-10-02T23:37:27.780544Z",
     "iopub.status.busy": "2025-10-02T23:37:27.779894Z",
     "iopub.status.idle": "2025-10-02T23:37:27.799902Z",
     "shell.execute_reply": "2025-10-02T23:37:27.799342Z",
     "shell.execute_reply.started": "2025-10-02T23:37:27.780507Z"
    }
   },
   "outputs": [
    {
     "data": {
      "text/plain": [
       "array([2.83840696, 2.18091081, 2.00623242, 2.08333039, 2.01694883,\n",
       "       2.7826232 , 2.10564027, 1.27333506, 2.08859855, 1.94177648,\n",
       "       1.88492037, 2.92394733, 2.17231952, 3.08009275, 1.61670886,\n",
       "       1.77403753, 2.67305005, 1.91413882, 2.42117827, 2.13991628,\n",
       "       2.0153805 , 2.71388471, 2.65944255, 2.44416121, 3.14217523])"
      ]
     },
     "execution_count": 4,
     "metadata": {},
     "output_type": "execute_result"
    }
   ],
   "source": [
    "synthetic_data = X @ true_model\n",
    "maxabs = np.max(np.abs(synthetic_data))\n",
    "noise = rng.normal(scale=1e-2 * maxabs, size=synthetic_data.size)\n",
    "synthetic_data += noise\n",
    "synthetic_data"
   ]
  },
  {
   "cell_type": "markdown",
   "id": "45f03194-d902-4dd3-bbb9-c90604916759",
   "metadata": {},
   "source": [
    "## Linear regressor with jacobian as a dense matrix"
   ]
  },
  {
   "cell_type": "markdown",
   "id": "fcd7b531-1ba4-4fd9-b319-0702466cee3d",
   "metadata": {},
   "source": [
    "Define the simulation"
   ]
  },
  {
   "cell_type": "code",
   "execution_count": 5,
   "id": "ad91f721-72a9-485b-9043-d85a2a220b7b",
   "metadata": {
    "execution": {
     "iopub.execute_input": "2025-10-02T23:37:28.956909Z",
     "iopub.status.busy": "2025-10-02T23:37:28.956378Z",
     "iopub.status.idle": "2025-10-02T23:37:28.962682Z",
     "shell.execute_reply": "2025-10-02T23:37:28.961370Z",
     "shell.execute_reply.started": "2025-10-02T23:37:28.956872Z"
    }
   },
   "outputs": [],
   "source": [
    "simulation = LinearRegressor(X, linop=False)"
   ]
  },
  {
   "cell_type": "markdown",
   "id": "f7917016-f222-4440-8e40-965ff7186f3b",
   "metadata": {},
   "source": [
    "And a random model"
   ]
  },
  {
   "cell_type": "code",
   "execution_count": 6,
   "id": "a2fe9340-54a2-4699-8c64-53d5058fa17d",
   "metadata": {
    "execution": {
     "iopub.execute_input": "2025-10-02T23:37:31.607486Z",
     "iopub.status.busy": "2025-10-02T23:37:31.606619Z",
     "iopub.status.idle": "2025-10-02T23:37:31.613342Z",
     "shell.execute_reply": "2025-10-02T23:37:31.611671Z",
     "shell.execute_reply.started": "2025-10-02T23:37:31.607444Z"
    }
   },
   "outputs": [],
   "source": [
    "model = np.random.default_rng(seed=404).uniform(size=simulation.n_params)"
   ]
  },
  {
   "cell_type": "markdown",
   "id": "37146e2c-56f2-4e95-ab65-67281971bc98",
   "metadata": {},
   "source": [
    "Evaluate the jacobian"
   ]
  },
  {
   "cell_type": "code",
   "execution_count": 7,
   "id": "e8b449df-b36e-4489-bbad-8cdbecd4af2e",
   "metadata": {
    "execution": {
     "iopub.execute_input": "2025-10-02T23:37:32.504855Z",
     "iopub.status.busy": "2025-10-02T23:37:32.504325Z",
     "iopub.status.idle": "2025-10-02T23:37:32.515149Z",
     "shell.execute_reply": "2025-10-02T23:37:32.514246Z",
     "shell.execute_reply.started": "2025-10-02T23:37:32.504818Z"
    },
    "scrolled": true
   },
   "outputs": [
    {
     "data": {
      "text/plain": [
       "array([[4.44264723e-01, 7.60284086e-01, 5.75280767e-01, 5.11884120e-01,\n",
       "        6.57160266e-01, 9.46730040e-01, 9.15303691e-01, 7.20234663e-01,\n",
       "        1.22754477e-01, 9.09341434e-01],\n",
       "       [7.13282058e-01, 3.53302920e-01, 2.21366873e-01, 9.14078303e-01,\n",
       "        8.15687052e-01, 3.40313380e-01, 9.62818089e-01, 6.83787068e-01,\n",
       "        3.63987604e-02, 3.84888353e-01],\n",
       "       [1.42086599e-01, 3.54204403e-01, 9.67718984e-01, 5.95587095e-01,\n",
       "        3.95789476e-01, 1.83878615e-01, 2.77425050e-01, 7.18244514e-01,\n",
       "        9.17009668e-01, 4.22921723e-01],\n",
       "       [1.83523965e-01, 5.00748020e-01, 8.23541669e-01, 3.63411724e-01,\n",
       "        4.88826840e-01, 5.71664781e-01, 8.73267349e-01, 6.96450781e-01,\n",
       "        8.27504216e-01, 2.34782839e-01],\n",
       "       [3.60832015e-01, 7.87289140e-03, 9.92841209e-01, 1.37940229e-01,\n",
       "        7.17729471e-01, 7.83053514e-01, 8.17056956e-01, 2.37562075e-01,\n",
       "        2.96404717e-01, 6.44919192e-01],\n",
       "       [2.46095918e-01, 7.12840133e-01, 2.62346116e-01, 3.63872300e-01,\n",
       "        5.35495292e-01, 8.65386063e-01, 5.55420833e-01, 7.05003327e-01,\n",
       "        9.29822695e-01, 9.26704829e-01],\n",
       "       [6.53584950e-01, 2.28743082e-01, 6.07552487e-01, 7.21696075e-01,\n",
       "        4.59714345e-01, 7.40911934e-01, 4.85402390e-01, 4.74013453e-01,\n",
       "        1.73821094e-01, 5.59757997e-01],\n",
       "       [8.29094668e-03, 9.66549856e-02, 4.19627481e-01, 8.48052175e-01,\n",
       "        7.49057652e-02, 5.25384197e-01, 5.76287344e-02, 1.90674816e-01,\n",
       "        1.94500916e-01, 7.52548335e-01],\n",
       "       [4.25823006e-01, 7.85239618e-02, 3.54280834e-01, 3.13304206e-01,\n",
       "        1.39183783e-01, 5.95847625e-01, 4.62795411e-01, 5.65738885e-01,\n",
       "        3.20048733e-01, 9.97419861e-01],\n",
       "       [3.15861489e-01, 6.94851186e-01, 7.15983076e-01, 5.26081751e-02,\n",
       "        5.84630964e-02, 2.22229808e-01, 8.03285972e-01, 8.08414357e-01,\n",
       "        1.91101764e-01, 4.97763356e-01],\n",
       "       [4.84521155e-01, 5.30709888e-01, 1.47183794e-01, 9.71596211e-01,\n",
       "        7.23422189e-02, 3.80655745e-01, 6.83623080e-01, 5.50656878e-01,\n",
       "        3.92556771e-01, 2.83943549e-01],\n",
       "       [4.70078920e-01, 9.02994645e-01, 7.36383892e-01, 6.49147784e-01,\n",
       "        6.63950143e-01, 7.21341333e-01, 3.03542768e-01, 7.90822311e-01,\n",
       "        6.32093870e-01, 7.35808988e-01],\n",
       "       [8.87580964e-01, 6.17369703e-01, 3.12462364e-01, 3.44485871e-01,\n",
       "        1.27308174e-01, 9.08466300e-01, 2.17763861e-01, 5.89994763e-01,\n",
       "        3.31906170e-01, 3.78346862e-01],\n",
       "       [2.77943668e-01, 9.63811834e-01, 6.73101719e-02, 7.77192200e-01,\n",
       "        4.98128689e-01, 8.09440241e-01, 6.23838790e-01, 6.59942656e-01,\n",
       "        9.85691121e-01, 9.46579899e-01],\n",
       "       [9.78835290e-02, 4.52498705e-01, 1.09149218e-02, 6.73052380e-01,\n",
       "        5.31598758e-01, 1.87979151e-01, 1.83252227e-01, 9.78578505e-01,\n",
       "        6.96230329e-01, 2.40608218e-01],\n",
       "       [1.52583775e-01, 5.13165883e-01, 3.77264997e-01, 7.03646783e-01,\n",
       "        3.41326670e-01, 5.53333580e-01, 6.48151553e-01, 1.60502604e-01,\n",
       "        8.79237058e-01, 2.01484537e-01],\n",
       "       [6.74188526e-01, 6.04251696e-01, 8.28612014e-01, 9.55512253e-01,\n",
       "        9.92795853e-01, 6.39573769e-01, 3.60375907e-01, 6.19861075e-01,\n",
       "        9.36883504e-01, 1.64777064e-01],\n",
       "       [3.78935171e-01, 8.90875876e-01, 9.98947829e-03, 7.01354177e-01,\n",
       "        3.69901384e-01, 8.46761002e-01, 3.00066721e-01, 1.79101135e-01,\n",
       "        3.88746987e-02, 4.88744498e-01],\n",
       "       [4.17389604e-01, 3.48857314e-01, 6.69662549e-01, 7.19781537e-01,\n",
       "        8.59400977e-01, 9.85801959e-01, 6.95495011e-01, 2.59086730e-01,\n",
       "        5.46313452e-01, 6.39502663e-01],\n",
       "       [6.11070349e-01, 6.39823007e-01, 5.93429274e-01, 8.30726986e-02,\n",
       "        5.41909593e-03, 3.36844196e-01, 8.04472862e-01, 2.83522392e-01,\n",
       "        6.62629565e-01, 3.49625649e-01],\n",
       "       [2.50473128e-01, 8.06200433e-01, 7.32076824e-01, 7.52012165e-01,\n",
       "        4.26759252e-01, 8.28443520e-01, 3.73472590e-01, 8.58770065e-01,\n",
       "        5.08914561e-02, 3.23114311e-01],\n",
       "       [6.15926519e-01, 3.98539936e-01, 7.78905194e-01, 7.80932388e-01,\n",
       "        6.36501154e-01, 7.32352059e-02, 9.83013960e-01, 4.11753636e-01,\n",
       "        5.00579290e-01, 7.49054120e-01],\n",
       "       [9.53236133e-01, 1.85570703e-01, 2.90168961e-01, 1.54007208e-01,\n",
       "        6.57448381e-01, 1.97691171e-01, 7.06863354e-01, 5.91656616e-02,\n",
       "        8.43325391e-01, 7.77418629e-01],\n",
       "       [5.58823452e-01, 7.11478506e-01, 3.57516580e-01, 1.54542705e-01,\n",
       "        3.60099971e-01, 1.60142792e-01, 6.75908527e-02, 3.46173376e-01,\n",
       "        7.30542044e-01, 8.71176016e-01],\n",
       "       [9.80313413e-01, 7.63708338e-01, 3.52041859e-01, 1.01513987e-01,\n",
       "        9.50896782e-01, 2.80007942e-01, 3.72325743e-05, 2.59840660e-01,\n",
       "        7.94573312e-01, 9.82281033e-01]])"
      ]
     },
     "execution_count": 7,
     "metadata": {},
     "output_type": "execute_result"
    }
   ],
   "source": [
    "simulation.jacobian(model)  # should return a dense array"
   ]
  },
  {
   "cell_type": "markdown",
   "id": "4c15154b-5fc9-435c-a1c6-180f3df48eb9",
   "metadata": {},
   "source": [
    "Define a data misfit"
   ]
  },
  {
   "cell_type": "code",
   "execution_count": 8,
   "id": "04636169-320a-4f1e-ab42-1b083b0111dd",
   "metadata": {
    "execution": {
     "iopub.execute_input": "2025-10-02T23:37:38.460550Z",
     "iopub.status.busy": "2025-10-02T23:37:38.459514Z",
     "iopub.status.idle": "2025-10-02T23:37:38.470934Z",
     "shell.execute_reply": "2025-10-02T23:37:38.469001Z",
     "shell.execute_reply.started": "2025-10-02T23:37:38.460474Z"
    }
   },
   "outputs": [],
   "source": [
    "uncertainty = 1e-2 * maxabs * np.ones_like(synthetic_data)\n",
    "data_misfit = ii.DataMisfit(synthetic_data, uncertainty, simulation)"
   ]
  },
  {
   "cell_type": "markdown",
   "id": "09c93fb3-7f48-49d4-8552-1dbcf65910b4",
   "metadata": {},
   "source": [
    "The gradient of the data misfit is a vector"
   ]
  },
  {
   "cell_type": "code",
   "execution_count": 9,
   "id": "7209972c-0045-4898-86ed-e8a7e8942159",
   "metadata": {
    "execution": {
     "iopub.execute_input": "2025-10-02T23:37:39.271419Z",
     "iopub.status.busy": "2025-10-02T23:37:39.270995Z",
     "iopub.status.idle": "2025-10-02T23:37:39.279288Z",
     "shell.execute_reply": "2025-10-02T23:37:39.278331Z",
     "shell.execute_reply.started": "2025-10-02T23:37:39.271382Z"
    }
   },
   "outputs": [
    {
     "data": {
      "text/plain": [
       "array([-18149.85993886, -18257.25261202, -15886.68171464, -14251.52010139,\n",
       "       -16918.68409749, -16925.96156027, -18263.07429758, -15436.48921498,\n",
       "       -20292.70015609, -23260.24022026])"
      ]
     },
     "execution_count": 9,
     "metadata": {},
     "output_type": "execute_result"
    }
   ],
   "source": [
    "data_misfit.gradient(model)"
   ]
  },
  {
   "cell_type": "markdown",
   "id": "20f8b896-9e12-4d54-b561-7e3f57f06351",
   "metadata": {},
   "source": [
    "The hessian is a linear operator because the data misfit has `build_hessian=False`"
   ]
  },
  {
   "cell_type": "code",
   "execution_count": 10,
   "id": "97c0c155-83c6-44df-9c08-59ea37796f49",
   "metadata": {
    "execution": {
     "iopub.execute_input": "2025-10-02T23:37:40.434589Z",
     "iopub.status.busy": "2025-10-02T23:37:40.433700Z",
     "iopub.status.idle": "2025-10-02T23:37:40.448946Z",
     "shell.execute_reply": "2025-10-02T23:37:40.447647Z",
     "shell.execute_reply.started": "2025-10-02T23:37:40.434515Z"
    },
    "scrolled": true
   },
   "outputs": [
    {
     "data": {
      "text/plain": [
       "<10x10 _ProductLinearOperator with dtype=float64>"
      ]
     },
     "execution_count": 10,
     "metadata": {},
     "output_type": "execute_result"
    }
   ],
   "source": [
    "data_misfit.hessian(model)"
   ]
  },
  {
   "cell_type": "markdown",
   "id": "1e28e435-c897-4ef9-bbcc-5319e81caff5",
   "metadata": {
    "execution": {
     "iopub.execute_input": "2025-07-30T20:22:47.527483Z",
     "iopub.status.busy": "2025-07-30T20:22:47.526618Z",
     "iopub.status.idle": "2025-07-30T20:22:47.540681Z",
     "shell.execute_reply": "2025-07-30T20:22:47.538612Z",
     "shell.execute_reply.started": "2025-07-30T20:22:47.527411Z"
    }
   },
   "source": [
    "Define an objective function with regularization"
   ]
  },
  {
   "cell_type": "code",
   "execution_count": 11,
   "id": "8da79647-eb17-4177-afb9-776f3cc4ffc5",
   "metadata": {
    "execution": {
     "iopub.execute_input": "2025-10-02T23:37:45.371433Z",
     "iopub.status.busy": "2025-10-02T23:37:45.370342Z",
     "iopub.status.idle": "2025-10-02T23:37:45.385863Z",
     "shell.execute_reply": "2025-10-02T23:37:45.384711Z",
     "shell.execute_reply.started": "2025-10-02T23:37:45.371325Z"
    }
   },
   "outputs": [
    {
     "data": {
      "text/latex": [
       "$ \\phi_{d} (m) + 1.00 \\cdot 10^{-3} \\, \\phi_{0} (m) $"
      ],
      "text/plain": [
       "φd(m) + 0.00 φ0(m)"
      ]
     },
     "execution_count": 11,
     "metadata": {},
     "output_type": "execute_result"
    }
   ],
   "source": [
    "smallness = ii.TikhonovZero(n_params)\n",
    "phi = data_misfit + 1e-3 * smallness\n",
    "phi"
   ]
  },
  {
   "cell_type": "markdown",
   "id": "32a63320-8c51-487a-ae6f-17137923aa80",
   "metadata": {
    "execution": {
     "iopub.execute_input": "2025-07-30T20:23:02.932872Z",
     "iopub.status.busy": "2025-07-30T20:23:02.932454Z",
     "iopub.status.idle": "2025-07-30T20:23:02.939709Z",
     "shell.execute_reply": "2025-07-30T20:23:02.938340Z",
     "shell.execute_reply.started": "2025-07-30T20:23:02.932834Z"
    }
   },
   "source": [
    "The hessian of `phi` should also be a dense array"
   ]
  },
  {
   "cell_type": "code",
   "execution_count": 12,
   "id": "539be41d-3b9f-47fb-bab1-d070b5321b23",
   "metadata": {
    "execution": {
     "iopub.execute_input": "2025-10-02T23:37:46.802727Z",
     "iopub.status.busy": "2025-10-02T23:37:46.801547Z",
     "iopub.status.idle": "2025-10-02T23:37:46.820389Z",
     "shell.execute_reply": "2025-10-02T23:37:46.818825Z",
     "shell.execute_reply.started": "2025-10-02T23:37:46.802625Z"
    },
    "scrolled": true
   },
   "outputs": [
    {
     "data": {
      "text/plain": [
       "<10x10 _SumLinearOperator with dtype=float64>"
      ]
     },
     "execution_count": 12,
     "metadata": {},
     "output_type": "execute_result"
    }
   ],
   "source": [
    "phi.hessian(model)"
   ]
  },
  {
   "cell_type": "markdown",
   "id": "c3159fc1-b1cf-46b9-8134-80c296bbea8a",
   "metadata": {},
   "source": [
    "## Linear regressor with jacobian as a linear operator"
   ]
  },
  {
   "cell_type": "markdown",
   "id": "b105b9be-bcdb-412f-8bfa-9d37c2319388",
   "metadata": {},
   "source": [
    "Define the simulation"
   ]
  },
  {
   "cell_type": "code",
   "execution_count": 13,
   "id": "37a7dba0-54c2-4e99-8fa6-7b641ef24117",
   "metadata": {
    "execution": {
     "iopub.execute_input": "2025-10-02T23:37:48.765004Z",
     "iopub.status.busy": "2025-10-02T23:37:48.763761Z",
     "iopub.status.idle": "2025-10-02T23:37:48.777167Z",
     "shell.execute_reply": "2025-10-02T23:37:48.774494Z",
     "shell.execute_reply.started": "2025-10-02T23:37:48.764903Z"
    }
   },
   "outputs": [],
   "source": [
    "simulation = LinearRegressor(X, linop=True)"
   ]
  },
  {
   "cell_type": "markdown",
   "id": "9b75ec53-cfaf-4cc1-88a4-d41e93adb1b2",
   "metadata": {},
   "source": [
    "Evaluate the jacobian"
   ]
  },
  {
   "cell_type": "code",
   "execution_count": 14,
   "id": "a498913b-88ad-4d65-b1bb-5544d4adff1f",
   "metadata": {
    "execution": {
     "iopub.execute_input": "2025-10-02T23:37:50.020966Z",
     "iopub.status.busy": "2025-10-02T23:37:50.020010Z",
     "iopub.status.idle": "2025-10-02T23:37:50.034880Z",
     "shell.execute_reply": "2025-10-02T23:37:50.033188Z",
     "shell.execute_reply.started": "2025-10-02T23:37:50.020892Z"
    },
    "scrolled": true
   },
   "outputs": [
    {
     "data": {
      "text/plain": [
       "<25x10 _CustomLinearOperator with dtype=float64>"
      ]
     },
     "execution_count": 14,
     "metadata": {},
     "output_type": "execute_result"
    }
   ],
   "source": [
    "simulation.jacobian(model)  # should return a linear operator"
   ]
  },
  {
   "cell_type": "code",
   "execution_count": 15,
   "id": "d9939f63-73e8-4d4d-b612-e7705b0a0d80",
   "metadata": {
    "execution": {
     "iopub.execute_input": "2025-10-02T23:37:52.024829Z",
     "iopub.status.busy": "2025-10-02T23:37:52.023689Z",
     "iopub.status.idle": "2025-10-02T23:37:52.036972Z",
     "shell.execute_reply": "2025-10-02T23:37:52.034388Z",
     "shell.execute_reply.started": "2025-10-02T23:37:52.024717Z"
    }
   },
   "outputs": [],
   "source": [
    "assert np.allclose(\n",
    "    simulation(model), simulation.jacobian(model) @ model\n",
    ")  # true because the simulation is linear"
   ]
  },
  {
   "cell_type": "markdown",
   "id": "fefc832b-9292-42c8-b6b0-4acdc788f549",
   "metadata": {},
   "source": [
    "Define a data misfit"
   ]
  },
  {
   "cell_type": "code",
   "execution_count": 16,
   "id": "32293774-f679-4591-a305-204be136b695",
   "metadata": {
    "execution": {
     "iopub.execute_input": "2025-10-02T23:37:58.495011Z",
     "iopub.status.busy": "2025-10-02T23:37:58.493902Z",
     "iopub.status.idle": "2025-10-02T23:37:58.506177Z",
     "shell.execute_reply": "2025-10-02T23:37:58.503831Z",
     "shell.execute_reply.started": "2025-10-02T23:37:58.494904Z"
    }
   },
   "outputs": [],
   "source": [
    "uncertainty = 1e-2 * maxabs * np.ones_like(synthetic_data)\n",
    "data_misfit = ii.DataMisfit(synthetic_data, uncertainty, simulation)"
   ]
  },
  {
   "cell_type": "markdown",
   "id": "dd99404c-f45d-4b23-9bac-60fc85ba43a4",
   "metadata": {},
   "source": [
    "The gradient of the data misfit is a vector"
   ]
  },
  {
   "cell_type": "code",
   "execution_count": 17,
   "id": "fc98c2da-2196-4aaa-8885-f11a8c839d32",
   "metadata": {
    "execution": {
     "iopub.execute_input": "2025-10-02T23:37:59.178098Z",
     "iopub.status.busy": "2025-10-02T23:37:59.175914Z",
     "iopub.status.idle": "2025-10-02T23:37:59.187164Z",
     "shell.execute_reply": "2025-10-02T23:37:59.185944Z",
     "shell.execute_reply.started": "2025-10-02T23:37:59.178039Z"
    }
   },
   "outputs": [
    {
     "data": {
      "text/plain": [
       "array([-18149.85993886, -18257.25261202, -15886.68171464, -14251.52010139,\n",
       "       -16918.68409749, -16925.96156027, -18263.07429758, -15436.48921498,\n",
       "       -20292.70015609, -23260.24022026])"
      ]
     },
     "execution_count": 17,
     "metadata": {},
     "output_type": "execute_result"
    }
   ],
   "source": [
    "data_misfit.gradient(model)"
   ]
  },
  {
   "cell_type": "markdown",
   "id": "c9191c3e-2c0f-4d29-abf5-a20db2d64a4c",
   "metadata": {},
   "source": [
    "The hessian here is still a linear operator, both because `build_hessian=False` and because the jacobian is now a linear operator as well."
   ]
  },
  {
   "cell_type": "code",
   "execution_count": 18,
   "id": "b2c95d58-fdc8-4cc9-b5f3-ddb86276d5f8",
   "metadata": {
    "execution": {
     "iopub.execute_input": "2025-10-02T23:38:01.595424Z",
     "iopub.status.busy": "2025-10-02T23:38:01.594454Z",
     "iopub.status.idle": "2025-10-02T23:38:01.609862Z",
     "shell.execute_reply": "2025-10-02T23:38:01.608484Z",
     "shell.execute_reply.started": "2025-10-02T23:38:01.595348Z"
    },
    "scrolled": true
   },
   "outputs": [
    {
     "data": {
      "text/plain": [
       "<10x10 _ProductLinearOperator with dtype=float64>"
      ]
     },
     "execution_count": 18,
     "metadata": {},
     "output_type": "execute_result"
    }
   ],
   "source": [
    "data_misfit.hessian(model)"
   ]
  },
  {
   "cell_type": "markdown",
   "id": "9c7ca271-15d4-407c-b47a-4de674fe89a7",
   "metadata": {
    "execution": {
     "iopub.execute_input": "2025-07-30T20:22:47.527483Z",
     "iopub.status.busy": "2025-07-30T20:22:47.526618Z",
     "iopub.status.idle": "2025-07-30T20:22:47.540681Z",
     "shell.execute_reply": "2025-07-30T20:22:47.538612Z",
     "shell.execute_reply.started": "2025-07-30T20:22:47.527411Z"
    }
   },
   "source": [
    "Define an objective function with regularization"
   ]
  },
  {
   "cell_type": "code",
   "execution_count": 19,
   "id": "8c26274f-6907-4f7b-9378-dc9af36313d2",
   "metadata": {
    "execution": {
     "iopub.execute_input": "2025-10-02T23:38:04.854033Z",
     "iopub.status.busy": "2025-10-02T23:38:04.853160Z",
     "iopub.status.idle": "2025-10-02T23:38:04.869036Z",
     "shell.execute_reply": "2025-10-02T23:38:04.867699Z",
     "shell.execute_reply.started": "2025-10-02T23:38:04.853957Z"
    }
   },
   "outputs": [
    {
     "data": {
      "text/latex": [
       "$ \\phi_{d} (m) + 1.00 \\cdot 10^{-3} \\, \\phi_{0} (m) $"
      ],
      "text/plain": [
       "φd(m) + 0.00 φ0(m)"
      ]
     },
     "execution_count": 19,
     "metadata": {},
     "output_type": "execute_result"
    }
   ],
   "source": [
    "smallness = ii.TikhonovZero(n_params)\n",
    "phi = data_misfit + 1e-3 * smallness\n",
    "phi"
   ]
  },
  {
   "cell_type": "markdown",
   "id": "cfd4daec-4081-474f-b8bf-038d9f673c7c",
   "metadata": {
    "execution": {
     "iopub.execute_input": "2025-07-30T20:23:02.932872Z",
     "iopub.status.busy": "2025-07-30T20:23:02.932454Z",
     "iopub.status.idle": "2025-07-30T20:23:02.939709Z",
     "shell.execute_reply": "2025-07-30T20:23:02.938340Z",
     "shell.execute_reply.started": "2025-07-30T20:23:02.932834Z"
    }
   },
   "source": [
    "The hessian of `phi` should also be a linear operator"
   ]
  },
  {
   "cell_type": "code",
   "execution_count": 20,
   "id": "4805f3ac-d185-4331-8eb9-92e860e4eb0d",
   "metadata": {
    "execution": {
     "iopub.execute_input": "2025-10-02T23:38:06.199465Z",
     "iopub.status.busy": "2025-10-02T23:38:06.197417Z",
     "iopub.status.idle": "2025-10-02T23:38:06.213333Z",
     "shell.execute_reply": "2025-10-02T23:38:06.211973Z",
     "shell.execute_reply.started": "2025-10-02T23:38:06.199383Z"
    },
    "scrolled": true
   },
   "outputs": [
    {
     "data": {
      "text/plain": [
       "<10x10 _SumLinearOperator with dtype=float64>"
      ]
     },
     "execution_count": 20,
     "metadata": {},
     "output_type": "execute_result"
    }
   ],
   "source": [
    "phi.hessian(model)"
   ]
  }
 ],
 "metadata": {
  "kernelspec": {
   "display_name": "Python [conda env:inversion_ideas]",
   "language": "python",
   "name": "conda-env-inversion_ideas-py"
  },
  "language_info": {
   "codemirror_mode": {
    "name": "ipython",
    "version": 3
   },
   "file_extension": ".py",
   "mimetype": "text/x-python",
   "name": "python",
   "nbconvert_exporter": "python",
   "pygments_lexer": "ipython3",
   "version": "3.13.5"
  }
 },
 "nbformat": 4,
 "nbformat_minor": 5
}
