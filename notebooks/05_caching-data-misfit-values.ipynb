{
 "cells": [
  {
   "cell_type": "code",
   "execution_count": 1,
   "id": "0707778e-d975-46b6-b670-d461e53e5b10",
   "metadata": {
    "execution": {
     "iopub.execute_input": "2025-08-06T21:53:45.995626Z",
     "iopub.status.busy": "2025-08-06T21:53:45.994829Z",
     "iopub.status.idle": "2025-08-06T21:53:46.244076Z",
     "shell.execute_reply": "2025-08-06T21:53:46.243506Z"
    }
   },
   "outputs": [],
   "source": [
    "import numpy as np\n",
    "from regressor import LinearRegressor\n",
    "\n",
    "from inversion_ideas import (\n",
    "    DataMisfit,\n",
    "    TikhonovZero,\n",
    ")"
   ]
  },
  {
   "cell_type": "markdown",
   "id": "6ca1c237-f423-4f85-b19c-2d8fc00ac6e1",
   "metadata": {},
   "source": [
    "## Create a true model and synthetic data for a linear regressor"
   ]
  },
  {
   "cell_type": "code",
   "execution_count": 2,
   "id": "179250ca-3da3-4a82-8573-7a285246147b",
   "metadata": {
    "execution": {
     "iopub.execute_input": "2025-08-06T21:53:46.245980Z",
     "iopub.status.busy": "2025-08-06T21:53:46.245731Z",
     "iopub.status.idle": "2025-08-06T21:53:46.251355Z",
     "shell.execute_reply": "2025-08-06T21:53:46.250969Z"
    }
   },
   "outputs": [
    {
     "data": {
      "text/plain": [
       "array([0.78225148, 0.67148671, 0.2373809 , 0.17946133, 0.34662367,\n",
       "       0.15210999, 0.31142952, 0.23900652, 0.54355731, 0.91770851])"
      ]
     },
     "execution_count": 2,
     "metadata": {},
     "output_type": "execute_result"
    }
   ],
   "source": [
    "n_params = 10\n",
    "rng = np.random.default_rng(seed=4242)\n",
    "true_model = rng.uniform(size=10)\n",
    "true_model"
   ]
  },
  {
   "cell_type": "code",
   "execution_count": 3,
   "id": "a477ebd0-8ca7-4cd2-b17d-30c21dda08c6",
   "metadata": {
    "execution": {
     "iopub.execute_input": "2025-08-06T21:53:46.252915Z",
     "iopub.status.busy": "2025-08-06T21:53:46.252742Z",
     "iopub.status.idle": "2025-08-06T21:53:46.255998Z",
     "shell.execute_reply": "2025-08-06T21:53:46.255398Z"
    }
   },
   "outputs": [],
   "source": [
    "# Build the X array\n",
    "n_data = 25\n",
    "shape = (n_data, n_params)\n",
    "X = rng.uniform(size=n_data * n_params).reshape(shape)"
   ]
  },
  {
   "cell_type": "code",
   "execution_count": 4,
   "id": "7cc7a7bc-804b-48ea-bdb0-ebf4fa9a8e2e",
   "metadata": {
    "execution": {
     "iopub.execute_input": "2025-08-06T21:53:46.257483Z",
     "iopub.status.busy": "2025-08-06T21:53:46.257280Z",
     "iopub.status.idle": "2025-08-06T21:53:46.261213Z",
     "shell.execute_reply": "2025-08-06T21:53:46.260864Z"
    }
   },
   "outputs": [
    {
     "data": {
      "text/plain": [
       "array([2.83840696, 2.18091081, 2.00623242, 2.08333039, 2.01694883,\n",
       "       2.7826232 , 2.10564027, 1.27333506, 2.08859855, 1.94177648,\n",
       "       1.88492037, 2.92394733, 2.17231952, 3.08009275, 1.61670886,\n",
       "       1.77403753, 2.67305005, 1.91413882, 2.42117827, 2.13991628,\n",
       "       2.0153805 , 2.71388471, 2.65944255, 2.44416121, 3.14217523])"
      ]
     },
     "execution_count": 4,
     "metadata": {},
     "output_type": "execute_result"
    }
   ],
   "source": [
    "synthetic_data = X @ true_model\n",
    "maxabs = np.max(np.abs(synthetic_data))\n",
    "noise = rng.normal(scale=1e-2 * maxabs, size=synthetic_data.size)\n",
    "synthetic_data += noise\n",
    "synthetic_data"
   ]
  },
  {
   "cell_type": "markdown",
   "id": "b47ed2d3-0d71-4ead-8230-6df11d5833a9",
   "metadata": {},
   "source": [
    "## Define objective function\n",
    "\n",
    "Enable caching in the data misfit."
   ]
  },
  {
   "cell_type": "code",
   "execution_count": 5,
   "id": "6ec35263-f754-4931-b577-b3d4f0fc803a",
   "metadata": {
    "execution": {
     "iopub.execute_input": "2025-08-06T21:53:46.262783Z",
     "iopub.status.busy": "2025-08-06T21:53:46.262617Z",
     "iopub.status.idle": "2025-08-06T21:53:46.265486Z",
     "shell.execute_reply": "2025-08-06T21:53:46.264931Z"
    }
   },
   "outputs": [],
   "source": [
    "uncertainty = 1e-2 * maxabs * np.ones_like(synthetic_data)\n",
    "simulation = LinearRegressor(X)\n",
    "data_misfit = DataMisfit(synthetic_data, uncertainty, simulation, cache=True)"
   ]
  },
  {
   "cell_type": "code",
   "execution_count": 6,
   "id": "050b9c20-4b0a-49af-a900-1bb964588408",
   "metadata": {
    "execution": {
     "iopub.execute_input": "2025-08-06T21:53:46.266968Z",
     "iopub.status.busy": "2025-08-06T21:53:46.266795Z",
     "iopub.status.idle": "2025-08-06T21:53:46.269353Z",
     "shell.execute_reply": "2025-08-06T21:53:46.268832Z"
    }
   },
   "outputs": [],
   "source": [
    "smallness = TikhonovZero(n_params)"
   ]
  },
  {
   "cell_type": "code",
   "execution_count": 7,
   "id": "2cf726db-4849-46c3-9fca-41b5650b88b8",
   "metadata": {
    "execution": {
     "iopub.execute_input": "2025-08-06T21:53:46.270824Z",
     "iopub.status.busy": "2025-08-06T21:53:46.270657Z",
     "iopub.status.idle": "2025-08-06T21:53:46.274392Z",
     "shell.execute_reply": "2025-08-06T21:53:46.274029Z"
    }
   },
   "outputs": [
    {
     "data": {
      "text/plain": [
       "np.float64(18.54564220514673)"
      ]
     },
     "execution_count": 7,
     "metadata": {},
     "output_type": "execute_result"
    }
   ],
   "source": [
    "data_misfit(true_model)"
   ]
  },
  {
   "cell_type": "code",
   "execution_count": 8,
   "id": "8d201eea-294d-490f-8b76-12024acc0808",
   "metadata": {
    "execution": {
     "iopub.execute_input": "2025-08-06T21:53:46.275930Z",
     "iopub.status.busy": "2025-08-06T21:53:46.275764Z",
     "iopub.status.idle": "2025-08-06T21:53:46.278996Z",
     "shell.execute_reply": "2025-08-06T21:53:46.278649Z"
    }
   },
   "outputs": [
    {
     "data": {
      "text/plain": [
       "np.float64(18.54564220514673)"
      ]
     },
     "execution_count": 8,
     "metadata": {},
     "output_type": "execute_result"
    }
   ],
   "source": [
    "data_misfit(true_model)"
   ]
  },
  {
   "cell_type": "code",
   "execution_count": 9,
   "id": "da1db943-236d-43da-b0b0-e776d21931af",
   "metadata": {
    "execution": {
     "iopub.execute_input": "2025-08-06T21:53:46.280467Z",
     "iopub.status.busy": "2025-08-06T21:53:46.280251Z",
     "iopub.status.idle": "2025-08-06T21:53:46.283878Z",
     "shell.execute_reply": "2025-08-06T21:53:46.283337Z"
    }
   },
   "outputs": [
    {
     "data": {
      "text/latex": [
       "$ \\phi_{d} (m) + 1.00 \\cdot 10^{-3} \\, \\phi_{s} (m) $"
      ],
      "text/plain": [
       "φd(m) + 0.00 φs(m)"
      ]
     },
     "execution_count": 9,
     "metadata": {},
     "output_type": "execute_result"
    }
   ],
   "source": [
    "phi = data_misfit + 1e-3 * smallness\n",
    "phi"
   ]
  },
  {
   "cell_type": "code",
   "execution_count": 10,
   "id": "9032d9d4-9c23-461b-bbc8-f172afdfd9ac",
   "metadata": {
    "execution": {
     "iopub.execute_input": "2025-08-06T21:53:46.285438Z",
     "iopub.status.busy": "2025-08-06T21:53:46.285272Z",
     "iopub.status.idle": "2025-08-06T21:53:46.289203Z",
     "shell.execute_reply": "2025-08-06T21:53:46.288748Z"
    }
   },
   "outputs": [
    {
     "data": {
      "text/plain": [
       "np.float64(18.548228614317463)"
      ]
     },
     "execution_count": 10,
     "metadata": {},
     "output_type": "execute_result"
    }
   ],
   "source": [
    "phi(true_model)"
   ]
  },
  {
   "cell_type": "code",
   "execution_count": 11,
   "id": "00c6e189-9deb-4cdf-8b78-887f0d8e44b9",
   "metadata": {
    "execution": {
     "iopub.execute_input": "2025-08-06T21:53:46.290774Z",
     "iopub.status.busy": "2025-08-06T21:53:46.290478Z",
     "iopub.status.idle": "2025-08-06T21:53:46.294325Z",
     "shell.execute_reply": "2025-08-06T21:53:46.293953Z"
    }
   },
   "outputs": [
    {
     "data": {
      "text/plain": [
       "np.float64(5671.840107322677)"
      ]
     },
     "execution_count": 11,
     "metadata": {},
     "output_type": "execute_result"
    }
   ],
   "source": [
    "new_model = rng.uniform(size=n_params)\n",
    "\n",
    "phi(new_model)"
   ]
  }
 ],
 "metadata": {
  "kernelspec": {
   "display_name": "inversion_ideas",
   "language": "python",
   "name": "python3"
  },
  "language_info": {
   "codemirror_mode": {
    "name": "ipython",
    "version": 3
   },
   "file_extension": ".py",
   "mimetype": "text/x-python",
   "name": "python",
   "nbconvert_exporter": "python",
   "pygments_lexer": "ipython3",
   "version": "3.13.5"
  }
 },
 "nbformat": 4,
 "nbformat_minor": 5
}
