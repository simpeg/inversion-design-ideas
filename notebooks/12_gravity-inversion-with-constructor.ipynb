{
 "cells": [
  {
   "cell_type": "markdown",
   "id": "c4b21011-75e3-4f3a-a357-e28fcaaabdf4",
   "metadata": {},
   "source": [
    "# Gravity inversion with constructor function (and preconditioner)"
   ]
  },
  {
   "cell_type": "code",
   "execution_count": 1,
   "id": "b2d27e8b-5b33-4361-990b-8b6e724f5ac6",
   "metadata": {
    "execution": {
     "iopub.execute_input": "2025-10-07T21:08:55.014787Z",
     "iopub.status.busy": "2025-10-07T21:08:55.013518Z",
     "iopub.status.idle": "2025-10-07T21:08:56.910048Z",
     "shell.execute_reply": "2025-10-07T21:08:56.909372Z",
     "shell.execute_reply.started": "2025-10-07T21:08:55.014668Z"
    }
   },
   "outputs": [],
   "source": [
    "import discretize\n",
    "import matplotlib.pyplot as plt\n",
    "import numpy as np\n",
    "import verde as vd\n",
    "from simpeg.maps import IdentityMap\n",
    "from simpeg.potential_fields.gravity import (\n",
    "    Point,\n",
    "    Simulation3DIntegral,\n",
    "    SourceField,\n",
    "    Survey,\n",
    ")\n",
    "from simpeg.utils import depth_weighting, model_builder\n",
    "\n",
    "import inversion_ideas as ii"
   ]
  },
  {
   "cell_type": "markdown",
   "id": "a7a0aea4-50f4-4eea-9b6e-e907c520534e",
   "metadata": {},
   "source": [
    "## Define synthetic data with two prisms"
   ]
  },
  {
   "cell_type": "code",
   "execution_count": 2,
   "id": "dfce90d3-de10-43d3-a668-696993b0f73e",
   "metadata": {
    "execution": {
     "iopub.execute_input": "2025-10-07T21:08:56.911347Z",
     "iopub.status.busy": "2025-10-07T21:08:56.910946Z",
     "iopub.status.idle": "2025-10-07T21:08:56.915781Z",
     "shell.execute_reply": "2025-10-07T21:08:56.915135Z",
     "shell.execute_reply.started": "2025-10-07T21:08:56.911322Z"
    }
   },
   "outputs": [],
   "source": [
    "prisms = [\n",
    "    (-60, -40, -10, 10, -70, -50),\n",
    "    (40, 60, -10, 10, -70, -50),\n",
    "]\n",
    "densities = np.array([-200, 200])  # SI units\n",
    "\n",
    "region = (-100, 100, -100, 100)\n",
    "shape = (31, 31)\n",
    "height = 0\n",
    "coordinates = vd.grid_coordinates(region, shape=shape, extra_coords=height)"
   ]
  },
  {
   "cell_type": "code",
   "execution_count": 3,
   "id": "0edbb620-6a62-48bf-a8af-8981a76cc6f4",
   "metadata": {
    "execution": {
     "iopub.execute_input": "2025-10-07T21:08:56.916727Z",
     "iopub.status.busy": "2025-10-07T21:08:56.916453Z",
     "iopub.status.idle": "2025-10-07T21:08:56.934567Z",
     "shell.execute_reply": "2025-10-07T21:08:56.934059Z",
     "shell.execute_reply.started": "2025-10-07T21:08:56.916699Z"
    }
   },
   "outputs": [
    {
     "data": {
      "text/html": [
       "<table>\n",
       "  <tr>\n",
       "    <td style='font-weight: bold; font-size: 1.2em; text-align: center;' colspan='3'>TensorMesh</td>\n",
       "    <td style='font-size: 1.2em; text-align: center;'colspan='4'>64,000 cells</td>\n",
       "  </tr>\n",
       "  <tr>\n",
       "    <th></th>\n",
       "    <th></th>\n",
       "    <th colspan='2' style='padding: 5px 20px 5px 20px;'>MESH EXTENT</th>\n",
       "    <th colspan='2' style='padding: 5px 20px 5px 20px;'>CELL WIDTH</th>\n",
       "    <th style='padding: 5px 20px 5px 20px;'>FACTOR</th>\n",
       "  </tr>\n",
       "  <tr>\n",
       "    <th style='padding: 5px 20px 5px 20px;'>dir</th>\n",
       "    <th style='padding: 5px 20px 5px 20px;'>nC</th>\n",
       "    <th style='padding: 5px 20px 5px 20px;'>min</th>\n",
       "    <th style='padding: 5px 20px 5px 20px;'>max</th>\n",
       "    <th style='padding: 5px 20px 5px 20px;'>min</th>\n",
       "    <th style='padding: 5px 20px 5px 20px;'>max</th>\n",
       "    <th style='padding: 5px 20px 5px 20px;'>max</th>\n",
       "  </tr>\n",
       "  <tr>\n",
       "    <td style='padding: 5px 20px 5px 20px;'>x</td>\n",
       "    <td style='padding: 5px 20px 5px 20px;'>40</td>\n",
       "    <td style='padding: 5px 20px 5px 20px;'>-100.00</td>\n",
       "    <td style='padding: 5px 20px 5px 20px;'>100.00</td>\n",
       "    <td style='padding: 5px 20px 5px 20px;'>5.00</td>\n",
       "    <td style='padding: 5px 20px 5px 20px;'>5.00</td>\n",
       "    <td style='padding: 5px 20px 5px 20px;'>1.00</td>\n",
       "  </tr>\n",
       "  <tr>\n",
       "    <td style='padding: 5px 20px 5px 20px;'>y</td>\n",
       "    <td style='padding: 5px 20px 5px 20px;'>40</td>\n",
       "    <td style='padding: 5px 20px 5px 20px;'>-100.00</td>\n",
       "    <td style='padding: 5px 20px 5px 20px;'>100.00</td>\n",
       "    <td style='padding: 5px 20px 5px 20px;'>5.00</td>\n",
       "    <td style='padding: 5px 20px 5px 20px;'>5.00</td>\n",
       "    <td style='padding: 5px 20px 5px 20px;'>1.00</td>\n",
       "  </tr>\n",
       "  <tr>\n",
       "    <td style='padding: 5px 20px 5px 20px;'>z</td>\n",
       "    <td style='padding: 5px 20px 5px 20px;'>40</td>\n",
       "    <td style='padding: 5px 20px 5px 20px;'>-200.00</td>\n",
       "    <td style='padding: 5px 20px 5px 20px;'>0.00</td>\n",
       "    <td style='padding: 5px 20px 5px 20px;'>5.00</td>\n",
       "    <td style='padding: 5px 20px 5px 20px;'>5.00</td>\n",
       "    <td style='padding: 5px 20px 5px 20px;'>1.00</td>\n",
       "  </tr>\n",
       "</table>\n"
      ],
      "text/plain": [
       "\n",
       "  TensorMesh: 64,000 cells\n",
       "\n",
       "                      MESH EXTENT             CELL WIDTH      FACTOR\n",
       "  dir    nC        min           max         min       max      max\n",
       "  ---   ---  ---------------------------  ------------------  ------\n",
       "   x     40       -100.00        100.00      5.00      5.00    1.00\n",
       "   y     40       -100.00        100.00      5.00      5.00    1.00\n",
       "   z     40       -200.00          0.00      5.00      5.00    1.00\n"
      ]
     },
     "execution_count": 3,
     "metadata": {},
     "output_type": "execute_result"
    }
   ],
   "source": [
    "h = [(5.0, 40)]\n",
    "mesh = discretize.TensorMesh(h=[h, h, h], origin=\"CCN\")\n",
    "mesh"
   ]
  },
  {
   "cell_type": "code",
   "execution_count": 4,
   "id": "8a890b93-78ec-4681-bbb5-cc91e1448a85",
   "metadata": {
    "execution": {
     "iopub.execute_input": "2025-10-07T21:08:56.935778Z",
     "iopub.status.busy": "2025-10-07T21:08:56.935577Z",
     "iopub.status.idle": "2025-10-07T21:08:56.943585Z",
     "shell.execute_reply": "2025-10-07T21:08:56.942706Z",
     "shell.execute_reply.started": "2025-10-07T21:08:56.935759Z"
    }
   },
   "outputs": [],
   "source": [
    "locations = np.vstack(tuple(c.ravel() for c in coordinates)).T\n",
    "receivers = Point(locations, components=\"gz\")\n",
    "source = SourceField(receiver_list=[receivers])\n",
    "survey = Survey(source)"
   ]
  },
  {
   "cell_type": "code",
   "execution_count": 5,
   "id": "1dd17123-2df8-45b6-9345-d5cb6f431d51",
   "metadata": {
    "execution": {
     "iopub.execute_input": "2025-10-07T21:08:57.108786Z",
     "iopub.status.busy": "2025-10-07T21:08:57.107728Z",
     "iopub.status.idle": "2025-10-07T21:08:57.185489Z",
     "shell.execute_reply": "2025-10-07T21:08:57.184709Z",
     "shell.execute_reply.started": "2025-10-07T21:08:57.108732Z"
    }
   },
   "outputs": [],
   "source": [
    "simulation_simpeg = Simulation3DIntegral(mesh, survey=survey, rhoMap=IdentityMap(mesh))"
   ]
  },
  {
   "cell_type": "code",
   "execution_count": 6,
   "id": "b4c9ad67-47fe-4408-b879-d99b8eec8ca2",
   "metadata": {
    "execution": {
     "iopub.execute_input": "2025-10-07T21:08:57.340414Z",
     "iopub.status.busy": "2025-10-07T21:08:57.339928Z",
     "iopub.status.idle": "2025-10-07T21:08:57.345960Z",
     "shell.execute_reply": "2025-10-07T21:08:57.344839Z",
     "shell.execute_reply.started": "2025-10-07T21:08:57.340376Z"
    }
   },
   "outputs": [],
   "source": [
    "def block_corners(prism):\n",
    "    p0 = np.array([prism[0], prism[2], prism[4]])\n",
    "    p1 = np.array([prism[1], prism[3], prism[5]])\n",
    "    return p0, p1"
   ]
  },
  {
   "cell_type": "code",
   "execution_count": 7,
   "id": "ffc07711-d8e3-49cf-9574-f2bde45ceec8",
   "metadata": {
    "execution": {
     "iopub.execute_input": "2025-10-07T21:08:57.546288Z",
     "iopub.status.busy": "2025-10-07T21:08:57.545523Z",
     "iopub.status.idle": "2025-10-07T21:08:57.561498Z",
     "shell.execute_reply": "2025-10-07T21:08:57.560384Z",
     "shell.execute_reply.started": "2025-10-07T21:08:57.546228Z"
    }
   },
   "outputs": [
    {
     "name": "stdout",
     "output_type": "stream",
     "text": [
      "[-0.2  0.2]\n"
     ]
    }
   ],
   "source": [
    "model = np.zeros(mesh.n_cells)\n",
    "densities_gcc = densities * 1e-3\n",
    "print(densities_gcc)\n",
    "\n",
    "for prism, density in zip(prisms, densities_gcc, strict=True):\n",
    "    p0, p1 = block_corners(prism)\n",
    "    model = model_builder.add_block(mesh.cell_centers, model, p0, p1, density)"
   ]
  },
  {
   "cell_type": "code",
   "execution_count": 8,
   "id": "0b89b688-a595-4ff3-81e3-8bba4d4ef7c8",
   "metadata": {
    "execution": {
     "iopub.execute_input": "2025-10-07T21:08:57.739031Z",
     "iopub.status.busy": "2025-10-07T21:08:57.738455Z",
     "iopub.status.idle": "2025-10-07T21:08:57.978161Z",
     "shell.execute_reply": "2025-10-07T21:08:57.977542Z",
     "shell.execute_reply.started": "2025-10-07T21:08:57.738976Z"
    }
   },
   "outputs": [
    {
     "data": {
      "text/plain": [
       "(<matplotlib.collections.QuadMesh at 0x7fafef17d160>,)"
      ]
     },
     "execution_count": 8,
     "metadata": {},
     "output_type": "execute_result"
    },
    {
     "data": {
      "image/png": "[encoded data removed]",
      "text/plain": [
       "<Figure size 640x480 with 1 Axes>"
      ]
     },
     "metadata": {},
     "output_type": "display_data"
    }
   ],
   "source": [
    "mesh.plot_slice(model, normal=\"Y\", slice_loc=0)"
   ]
  },
  {
   "cell_type": "code",
   "execution_count": 9,
   "id": "2403d600-451e-424e-8de9-3f824f1e2647",
   "metadata": {
    "execution": {
     "iopub.execute_input": "2025-10-07T21:08:58.434363Z",
     "iopub.status.busy": "2025-10-07T21:08:58.433745Z",
     "iopub.status.idle": "2025-10-07T21:09:02.952636Z",
     "shell.execute_reply": "2025-10-07T21:09:02.950112Z",
     "shell.execute_reply.started": "2025-10-07T21:08:58.434309Z"
    }
   },
   "outputs": [
    {
     "name": "stdout",
     "output_type": "stream",
     "text": [
      "stderr=np.float32(2.5745852e-05)\n"
     ]
    }
   ],
   "source": [
    "gz = simulation_simpeg.dpred(model)\n",
    "\n",
    "# Add noise\n",
    "stderr = vd.maxabs(gz) * 0.01\n",
    "gz += np.random.default_rng(seed=51).normal(scale=stderr, size=gz.shape)\n",
    "\n",
    "print(f\"{stderr=}\")"
   ]
  },
  {
   "cell_type": "code",
   "execution_count": 10,
   "id": "094b1d30-c610-44ca-968b-7257aacbaa91",
   "metadata": {
    "execution": {
     "iopub.execute_input": "2025-10-07T21:09:02.957784Z",
     "iopub.status.busy": "2025-10-07T21:09:02.955204Z",
     "iopub.status.idle": "2025-10-07T21:09:03.150952Z",
     "shell.execute_reply": "2025-10-07T21:09:03.150272Z",
     "shell.execute_reply.started": "2025-10-07T21:09:02.957754Z"
    }
   },
   "outputs": [
    {
     "data": {
      "image/png": "[encoded data removed]",
      "text/plain": [
       "<Figure size 640x480 with 2 Axes>"
      ]
     },
     "metadata": {},
     "output_type": "display_data"
    }
   ],
   "source": [
    "tmp = plt.pcolormesh(*coordinates[:2], gz.reshape(coordinates[0].shape))\n",
    "plt.gca().set_aspect(\"equal\")\n",
    "plt.colorbar(tmp)\n",
    "plt.show()"
   ]
  },
  {
   "cell_type": "markdown",
   "id": "137e7314-b148-46d9-b3b6-01496aaf8da4",
   "metadata": {},
   "source": [
    "## Inversion"
   ]
  },
  {
   "cell_type": "markdown",
   "id": "1d327f99-8122-4198-8866-96e5374fd8a2",
   "metadata": {},
   "source": [
    "Define data misfit"
   ]
  },
  {
   "cell_type": "code",
   "execution_count": 11,
   "id": "a4303772-cfe0-45ed-90ec-c1caad768f39",
   "metadata": {
    "execution": {
     "iopub.execute_input": "2025-10-07T21:09:03.151962Z",
     "iopub.status.busy": "2025-10-07T21:09:03.151651Z",
     "iopub.status.idle": "2025-10-07T21:09:03.156006Z",
     "shell.execute_reply": "2025-10-07T21:09:03.155247Z",
     "shell.execute_reply.started": "2025-10-07T21:09:03.151935Z"
    }
   },
   "outputs": [],
   "source": [
    "simulation = ii.wrap_simulation(simulation_simpeg, store_jacobian=True)"
   ]
  },
  {
   "cell_type": "code",
   "execution_count": 12,
   "id": "c862c062-c7e2-4d7b-8825-109fa7072bdd",
   "metadata": {
    "execution": {
     "iopub.execute_input": "2025-10-07T21:09:03.157809Z",
     "iopub.status.busy": "2025-10-07T21:09:03.157471Z",
     "iopub.status.idle": "2025-10-07T21:09:03.170265Z",
     "shell.execute_reply": "2025-10-07T21:09:03.169663Z",
     "shell.execute_reply.started": "2025-10-07T21:09:03.157777Z"
    }
   },
   "outputs": [],
   "source": [
    "uncertainties = stderr * np.ones(gz.size)\n",
    "data_misfit = ii.DataMisfit(gz.ravel(), uncertainties, simulation)"
   ]
  },
  {
   "cell_type": "markdown",
   "id": "24761020-c3ac-4599-9283-964de792d722",
   "metadata": {},
   "source": [
    "Define smallness term"
   ]
  },
  {
   "cell_type": "code",
   "execution_count": 13,
   "id": "9042f903-4d02-4abe-9de1-2dfacfb3b3a0",
   "metadata": {
    "execution": {
     "iopub.execute_input": "2025-10-07T21:09:03.171343Z",
     "iopub.status.busy": "2025-10-07T21:09:03.171029Z",
     "iopub.status.idle": "2025-10-07T21:09:03.182662Z",
     "shell.execute_reply": "2025-10-07T21:09:03.181954Z",
     "shell.execute_reply.started": "2025-10-07T21:09:03.171315Z"
    }
   },
   "outputs": [],
   "source": [
    "volume_weights = mesh.cell_volumes\n",
    "depth_weights = depth_weighting(mesh, 0)\n",
    "smallness = ii.TikhonovZero(\n",
    "    n_params=simulation.n_params, weights=volume_weights * depth_weights\n",
    ")"
   ]
  },
  {
   "cell_type": "markdown",
   "id": "aabb11c0-f732-44bb-ad8c-a960930c495c",
   "metadata": {},
   "source": [
    "Define inversion with constructor function"
   ]
  },
  {
   "cell_type": "code",
   "execution_count": 15,
   "id": "a5b03530-fc32-49aa-8799-7ea4403dcd11",
   "metadata": {
    "execution": {
     "iopub.execute_input": "2025-10-07T21:09:16.233189Z",
     "iopub.status.busy": "2025-10-07T21:09:16.232862Z",
     "iopub.status.idle": "2025-10-07T21:09:16.289208Z",
     "shell.execute_reply": "2025-10-07T21:09:16.288446Z",
     "shell.execute_reply.started": "2025-10-07T21:09:16.233166Z"
    }
   },
   "outputs": [
    {
     "ename": "TypeError",
     "evalue": "Inversion.__init__() got an unexpected keyword argument 'preconditioner'",
     "output_type": "error",
     "traceback": [
      "\u001b[31m---------------------------------------------------------------------------\u001b[39m",
      "\u001b[31mTypeError\u001b[39m                                 Traceback (most recent call last)",
      "\u001b[36mCell\u001b[39m\u001b[36m \u001b[39m\u001b[32mIn[15]\u001b[39m\u001b[32m, line 3\u001b[39m\n\u001b[32m      1\u001b[39m initial_model = np.zeros(simulation.n_params)\n\u001b[32m----> \u001b[39m\u001b[32m3\u001b[39m inversion = \u001b[43mii\u001b[49m\u001b[43m.\u001b[49m\u001b[43mcreate_inversion\u001b[49m\u001b[43m(\u001b[49m\n\u001b[32m      4\u001b[39m \u001b[43m    \u001b[49m\u001b[43mdata_misfit\u001b[49m\u001b[43m,\u001b[49m\n\u001b[32m      5\u001b[39m \u001b[43m    \u001b[49m\u001b[43msmallness\u001b[49m\u001b[43m,\u001b[49m\n\u001b[32m      6\u001b[39m \u001b[43m    \u001b[49m\u001b[43mstarting_beta\u001b[49m\u001b[43m=\u001b[49m\u001b[32;43m1e4\u001b[39;49m\u001b[43m,\u001b[49m\n\u001b[32m      7\u001b[39m \u001b[43m    \u001b[49m\u001b[43minitial_model\u001b[49m\u001b[43m=\u001b[49m\u001b[43minitial_model\u001b[49m\u001b[43m,\u001b[49m\n\u001b[32m      8\u001b[39m \u001b[43m    \u001b[49m\u001b[43mminimizer\u001b[49m\u001b[43m=\u001b[49m\u001b[43mii\u001b[49m\u001b[43m.\u001b[49m\u001b[43mconjugate_gradient\u001b[49m\u001b[43m,\u001b[49m\n\u001b[32m      9\u001b[39m \u001b[43m    \u001b[49m\u001b[43mpreconditioner\u001b[49m\u001b[43m=\u001b[49m\u001b[33;43m\"\u001b[39;49m\u001b[33;43mjacobi\u001b[39;49m\u001b[33;43m\"\u001b[39;49m\u001b[43m,\u001b[49m\n\u001b[32m     10\u001b[39m \u001b[43m)\u001b[49m\n",
      "\u001b[36mFile \u001b[39m\u001b[32m~/git/inversion-design-ideas/src/inversion_ideas/constructors.py:106\u001b[39m, in \u001b[36mcreate_inversion\u001b[39m\u001b[34m(data_misfit, model_norm, starting_beta, initial_model, minimizer, beta_cooling_factor, beta_cooling_rate, chi_target, max_iterations, cache_models, preconditioner)\u001b[39m\n\u001b[32m    103\u001b[39m     kwargs[\u001b[33m\"\u001b[39m\u001b[33mpreconditioner\u001b[39m\u001b[33m\"\u001b[39m] = preconditioner\n\u001b[32m    105\u001b[39m \u001b[38;5;66;03m# Define inversion\u001b[39;00m\n\u001b[32m--> \u001b[39m\u001b[32m106\u001b[39m inversion = \u001b[43mInversion\u001b[49m\u001b[43m(\u001b[49m\n\u001b[32m    107\u001b[39m \u001b[43m    \u001b[49m\u001b[43mobjective_function\u001b[49m\u001b[43m,\u001b[49m\n\u001b[32m    108\u001b[39m \u001b[43m    \u001b[49m\u001b[43minitial_model\u001b[49m\u001b[43m,\u001b[49m\n\u001b[32m    109\u001b[39m \u001b[43m    \u001b[49m\u001b[43mminimizer\u001b[49m\u001b[43m,\u001b[49m\n\u001b[32m    110\u001b[39m \u001b[43m    \u001b[49m\u001b[43mdirectives\u001b[49m\u001b[43m=\u001b[49m\u001b[43mdirectives\u001b[49m\u001b[43m,\u001b[49m\n\u001b[32m    111\u001b[39m \u001b[43m    \u001b[49m\u001b[43mstopping_criteria\u001b[49m\u001b[43m=\u001b[49m\u001b[43mstopping_criteria\u001b[49m\u001b[43m,\u001b[49m\n\u001b[32m    112\u001b[39m \u001b[43m    \u001b[49m\u001b[43mcache_models\u001b[49m\u001b[43m=\u001b[49m\u001b[43mcache_models\u001b[49m\u001b[43m,\u001b[49m\n\u001b[32m    113\u001b[39m \u001b[43m    \u001b[49m\u001b[43mmax_iterations\u001b[49m\u001b[43m=\u001b[49m\u001b[43mmax_iterations\u001b[49m\u001b[43m,\u001b[49m\n\u001b[32m    114\u001b[39m \u001b[43m    \u001b[49m\u001b[43mlog\u001b[49m\u001b[43m=\u001b[49m\u001b[38;5;28;43;01mTrue\u001b[39;49;00m\u001b[43m,\u001b[49m\n\u001b[32m    115\u001b[39m \u001b[43m    \u001b[49m\u001b[43m*\u001b[49m\u001b[43m*\u001b[49m\u001b[43mkwargs\u001b[49m\u001b[43m,\u001b[49m\n\u001b[32m    116\u001b[39m \u001b[43m\u001b[49m\u001b[43m)\u001b[49m\n\u001b[32m    117\u001b[39m \u001b[38;5;28;01mreturn\u001b[39;00m inversion\n",
      "\u001b[31mTypeError\u001b[39m: Inversion.__init__() got an unexpected keyword argument 'preconditioner'"
     ]
    }
   ],
   "source": [
    "initial_model = np.zeros(simulation.n_params)\n",
    "\n",
    "inversion = ii.create_inversion(\n",
    "    data_misfit,\n",
    "    smallness,\n",
    "    starting_beta=1e4,\n",
    "    initial_model=initial_model,\n",
    "    minimizer=ii.conjugate_gradient,\n",
    "    preconditioner=\"jacobi\",\n",
    ")"
   ]
  },
  {
   "cell_type": "code",
   "execution_count": 15,
   "id": "ec0c3ef3",
   "metadata": {
    "execution": {
     "iopub.execute_input": "2025-10-07T19:17:40.164062Z",
     "iopub.status.busy": "2025-10-07T19:17:40.163889Z",
     "iopub.status.idle": "2025-10-07T19:17:48.773564Z",
     "shell.execute_reply": "2025-10-07T19:17:48.773010Z"
    },
    "scrolled": true
   },
   "outputs": [
    {
     "data": {
      "application/vnd.jupyter.widget-view+json": {
       "model_id": "3a230bb87dd440a694e55f8aea6e61d0",
       "version_major": 2,
       "version_minor": 0
      },
      "text/plain": [
       "Output()"
      ]
     },
     "metadata": {},
     "output_type": "display_data"
    },
    {
     "name": "stderr",
     "output_type": "stream",
     "text": [
      "INFO: 🎉 Inversion successfully finished due to stopping criteria.\n"
     ]
    },
    {
     "data": {
      "text/html": [
       "<pre style=\"white-space:pre;overflow-x:auto;line-height:normal;font-family:Menlo,'DejaVu Sans Mono',consolas,'Courier New',monospace\"></pre>\n"
      ],
      "text/plain": []
     },
     "metadata": {},
     "output_type": "display_data"
    }
   ],
   "source": [
    "model = inversion.run()"
   ]
  },
  {
   "cell_type": "code",
   "execution_count": 16,
   "id": "4cd79386-3d2b-4e27-b7d3-6704d28c1a87",
   "metadata": {
    "execution": {
     "iopub.execute_input": "2025-10-07T19:17:48.872842Z",
     "iopub.status.busy": "2025-10-07T19:17:48.871983Z",
     "iopub.status.idle": "2025-10-07T19:17:48.898883Z",
     "shell.execute_reply": "2025-10-07T19:17:48.898370Z"
    }
   },
   "outputs": [
    {
     "data": {
      "text/html": [
       "<pre style=\"white-space:pre;overflow-x:auto;line-height:normal;font-family:Menlo,'DejaVu Sans Mono',consolas,'Courier New',monospace\"><span style=\"color: #008000; text-decoration-color: #008000; font-weight: bold\">[x] ChiTarget</span>\n",
       "├── Condition: chi &lt; chi_target\n",
       "├── chi        = 4.81e-02\n",
       "└── chi_target = 1.00e+00\n",
       "</pre>\n"
      ],
      "text/plain": [
       "\u001b[1;32m[x] ChiTarget\u001b[0m\n",
       "├── Condition: chi < chi_target\n",
       "├── chi        = 4.81e-02\n",
       "└── chi_target = 1.00e+00\n"
      ]
     },
     "execution_count": 16,
     "metadata": {},
     "output_type": "execute_result"
    }
   ],
   "source": [
    "inversion.stopping_criteria.info(model)"
   ]
  },
  {
   "cell_type": "code",
   "execution_count": 17,
   "id": "44ef609b-fe1a-4f1d-bc11-6dcf60b156ec",
   "metadata": {
    "execution": {
     "iopub.execute_input": "2025-10-07T19:17:48.901987Z",
     "iopub.status.busy": "2025-10-07T19:17:48.901183Z",
     "iopub.status.idle": "2025-10-07T19:17:49.008121Z",
     "shell.execute_reply": "2025-10-07T19:17:49.007547Z"
    }
   },
   "outputs": [
    {
     "data": {
      "text/html": [
       "<div>\n",
       "<style scoped>\n",
       "    .dataframe tbody tr th:only-of-type {\n",
       "        vertical-align: middle;\n",
       "    }\n",
       "\n",
       "    .dataframe tbody tr th {\n",
       "        vertical-align: top;\n",
       "    }\n",
       "\n",
       "    .dataframe thead th {\n",
       "        text-align: right;\n",
       "    }\n",
       "</style>\n",
       "<table border=\"1\" class=\"dataframe\">\n",
       "  <thead>\n",
       "    <tr style=\"text-align: right;\">\n",
       "      <th></th>\n",
       "      <th>beta</th>\n",
       "      <th>phi_d</th>\n",
       "      <th>phi_m</th>\n",
       "      <th>beta * phi_m</th>\n",
       "      <th>phi</th>\n",
       "      <th>chi</th>\n",
       "    </tr>\n",
       "    <tr>\n",
       "      <th>iter</th>\n",
       "      <th></th>\n",
       "      <th></th>\n",
       "      <th></th>\n",
       "      <th></th>\n",
       "      <th></th>\n",
       "      <th></th>\n",
       "    </tr>\n",
       "  </thead>\n",
       "  <tbody>\n",
       "    <tr>\n",
       "      <th>0</th>\n",
       "      <td>10000.0</td>\n",
       "      <td>1.667546e+06</td>\n",
       "      <td>0.000000</td>\n",
       "      <td>0.000000</td>\n",
       "      <td>1.667546e+06</td>\n",
       "      <td>1735.219501</td>\n",
       "    </tr>\n",
       "    <tr>\n",
       "      <th>1</th>\n",
       "      <td>10000.0</td>\n",
       "      <td>4.624132e+01</td>\n",
       "      <td>0.430115</td>\n",
       "      <td>4301.150923</td>\n",
       "      <td>4.347392e+03</td>\n",
       "      <td>0.048118</td>\n",
       "    </tr>\n",
       "  </tbody>\n",
       "</table>\n",
       "</div>"
      ],
      "text/plain": [
       "         beta         phi_d     phi_m  beta * phi_m           phi          chi\n",
       "iter                                                                          \n",
       "0     10000.0  1.667546e+06  0.000000      0.000000  1.667546e+06  1735.219501\n",
       "1     10000.0  4.624132e+01  0.430115   4301.150923  4.347392e+03     0.048118"
      ]
     },
     "execution_count": 17,
     "metadata": {},
     "output_type": "execute_result"
    }
   ],
   "source": [
    "log = inversion.log.to_pandas()\n",
    "log"
   ]
  },
  {
   "cell_type": "code",
   "execution_count": 18,
   "id": "9feec0e0-ce9b-43cf-b7e5-bc4f77ae879f",
   "metadata": {
    "execution": {
     "iopub.execute_input": "2025-10-07T19:17:49.011487Z",
     "iopub.status.busy": "2025-10-07T19:17:49.010594Z",
     "iopub.status.idle": "2025-10-07T19:17:49.698141Z",
     "shell.execute_reply": "2025-10-07T19:17:49.697510Z"
    }
   },
   "outputs": [
    {
     "data": {
      "image/png": "[encoded data removed]",
      "text/plain": [
       "<Figure size 600x800 with 3 Axes>"
      ]
     },
     "metadata": {},
     "output_type": "display_data"
    }
   ],
   "source": [
    "fig, axes = plt.subplots(nrows=3, ncols=1, sharex=True, figsize=(6, 8))\n",
    "axes[0].plot(log.index, log.beta, \"o-\")\n",
    "axes[0].set_ylabel(\"Beta\")\n",
    "\n",
    "axes[1].plot(log.index, log.phi_d, \"o-\")\n",
    "axes[1].axhline(data_misfit.n_data, linestyle=\"--\", color=\"grey\")\n",
    "axes[1].set_ylabel(\"Data misfit\")\n",
    "axes[1].set_yscale(\"log\")\n",
    "\n",
    "axes[2].plot(log.index, log.phi_m, \"o-\")\n",
    "axes[2].set_ylabel(\"Model norm\")\n",
    "\n",
    "plt.show()"
   ]
  },
  {
   "cell_type": "code",
   "execution_count": 19,
   "id": "70b2b5ea-d6dd-4cf3-855c-9e8fd600c7cd",
   "metadata": {
    "execution": {
     "iopub.execute_input": "2025-10-07T19:17:49.699942Z",
     "iopub.status.busy": "2025-10-07T19:17:49.699567Z",
     "iopub.status.idle": "2025-10-07T19:17:49.823950Z",
     "shell.execute_reply": "2025-10-07T19:17:49.823369Z"
    }
   },
   "outputs": [
    {
     "data": {
      "text/plain": [
       "(<matplotlib.collections.QuadMesh at 0x7f6e7cbcb610>,)"
      ]
     },
     "execution_count": 19,
     "metadata": {},
     "output_type": "execute_result"
    },
    {
     "data": {
      "image/png": "[encoded data removed]",
      "text/plain": [
       "<Figure size 640x480 with 1 Axes>"
      ]
     },
     "metadata": {},
     "output_type": "display_data"
    }
   ],
   "source": [
    "mesh.plot_slice(model, normal=\"Y\", slice_loc=0)"
   ]
  }
 ],
 "metadata": {
  "kernelspec": {
   "display_name": "Python [conda env:inversion_ideas]",
   "language": "python",
   "name": "conda-env-inversion_ideas-py"
  },
  "language_info": {
   "codemirror_mode": {
    "name": "ipython",
    "version": 3
   },
   "file_extension": ".py",
   "mimetype": "text/x-python",
   "name": "python",
   "nbconvert_exporter": "python",
   "pygments_lexer": "ipython3",
   "version": "3.13.5"
  },
  "widgets": {
   "application/vnd.jupyter.widget-state+json": {
    "state": {
     "3a230bb87dd440a694e55f8aea6e61d0": {
      "model_module": "@jupyter-widgets/output",
      "model_module_version": "1.0.0",
      "model_name": "OutputModel",
      "state": {
       "_dom_classes": [],
       "_model_module": "@jupyter-widgets/output",
       "_model_module_version": "1.0.0",
       "_model_name": "OutputModel",
       "_view_count": null,
       "_view_module": "@jupyter-widgets/output",
       "_view_module_version": "1.0.0",
       "_view_name": "OutputView",
       "layout": "IPY_MODEL_f6b89114d7674b1a8222e5dd99316fb9",
       "msg_id": "",
       "outputs": [
        {
         "data": {
          "text/html": "<pre style=\"white-space:pre;overflow-x:auto;line-height:normal;font-family:Menlo,'DejaVu Sans Mono',consolas,'Courier New',monospace\">┏━━━━━━━━━━━┳━━━━━━━━━━┳━━━━━━━━━━┳━━━━━━━━━━┳━━━━━━━━━━┳━━━━━━━━━━┳━━━━━━━━━━┓\n┃<span style=\"font-weight: bold\"> Iteration </span>┃<span style=\"font-weight: bold\"> β        </span>┃<span style=\"font-weight: bold\"> φ_d      </span>┃<span style=\"font-weight: bold\"> φ_m      </span>┃<span style=\"font-weight: bold\"> β φ_m    </span>┃<span style=\"font-weight: bold\"> φ        </span>┃<span style=\"font-weight: bold\"> χ        </span>┃\n┡━━━━━━━━━━━╇━━━━━━━━━━╇━━━━━━━━━━╇━━━━━━━━━━╇━━━━━━━━━━╇━━━━━━━━━━╇━━━━━━━━━━┩\n│ 0         │ 1.00e+04 │ 1.67e+06 │ 0.00e+00 │ 0.00e+00 │ 1.67e+06 │ 1.74e+03 │\n│ 1         │ 1.00e+04 │ 4.62e+01 │ 4.30e-01 │ 4.30e+03 │ 4.35e+03 │ 4.81e-02 │\n└───────────┴──────────┴──────────┴──────────┴──────────┴──────────┴──────────┘\n</pre>\n",
          "text/plain": "┏━━━━━━━━━━━┳━━━━━━━━━━┳━━━━━━━━━━┳━━━━━━━━━━┳━━━━━━━━━━┳━━━━━━━━━━┳━━━━━━━━━━┓\n┃\u001b[1m \u001b[0m\u001b[1mIteration\u001b[0m\u001b[1m \u001b[0m┃\u001b[1m \u001b[0m\u001b[1mβ       \u001b[0m\u001b[1m \u001b[0m┃\u001b[1m \u001b[0m\u001b[1mφ_d     \u001b[0m\u001b[1m \u001b[0m┃\u001b[1m \u001b[0m\u001b[1mφ_m     \u001b[0m\u001b[1m \u001b[0m┃\u001b[1m \u001b[0m\u001b[1mβ φ_m   \u001b[0m\u001b[1m \u001b[0m┃\u001b[1m \u001b[0m\u001b[1mφ       \u001b[0m\u001b[1m \u001b[0m┃\u001b[1m \u001b[0m\u001b[1mχ       \u001b[0m\u001b[1m \u001b[0m┃\n┡━━━━━━━━━━━╇━━━━━━━━━━╇━━━━━━━━━━╇━━━━━━━━━━╇━━━━━━━━━━╇━━━━━━━━━━╇━━━━━━━━━━┩\n│ 0         │ 1.00e+04 │ 1.67e+06 │ 0.00e+00 │ 0.00e+00 │ 1.67e+06 │ 1.74e+03 │\n│ 1         │ 1.00e+04 │ 4.62e+01 │ 4.30e-01 │ 4.30e+03 │ 4.35e+03 │ 4.81e-02 │\n└───────────┴──────────┴──────────┴──────────┴──────────┴──────────┴──────────┘\n"
         },
         "metadata": {},
         "output_type": "display_data"
        }
       ],
       "tabbable": null,
       "tooltip": null
      }
     },
     "f6b89114d7674b1a8222e5dd99316fb9": {
      "model_module": "@jupyter-widgets/base",
      "model_module_version": "2.0.0",
      "model_name": "LayoutModel",
      "state": {
       "_model_module": "@jupyter-widgets/base",
       "_model_module_version": "2.0.0",
       "_model_name": "LayoutModel",
       "_view_count": null,
       "_view_module": "@jupyter-widgets/base",
       "_view_module_version": "2.0.0",
       "_view_name": "LayoutView",
       "align_content": null,
       "align_items": null,
       "align_self": null,
       "border_bottom": null,
       "border_left": null,
       "border_right": null,
       "border_top": null,
       "bottom": null,
       "display": null,
       "flex": null,
       "flex_flow": null,
       "grid_area": null,
       "grid_auto_columns": null,
       "grid_auto_flow": null,
       "grid_auto_rows": null,
       "grid_column": null,
       "grid_gap": null,
       "grid_row": null,
       "grid_template_areas": null,
       "grid_template_columns": null,
       "grid_template_rows": null,
       "height": null,
       "justify_content": null,
       "justify_items": null,
       "left": null,
       "margin": null,
       "max_height": null,
       "max_width": null,
       "min_height": null,
       "min_width": null,
       "object_fit": null,
       "object_position": null,
       "order": null,
       "overflow": null,
       "padding": null,
       "right": null,
       "top": null,
       "visibility": null,
       "width": null
      }
     }
    },
    "version_major": 2,
    "version_minor": 0
   }
  }
 },
 "nbformat": 4,
 "nbformat_minor": 5
}
