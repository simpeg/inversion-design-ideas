{
 "cells": [
  {
   "cell_type": "markdown",
   "id": "fd87af27-37b6-4b78-b01e-431673c8010a",
   "metadata": {},
   "source": [
    "# Apply a naive beta cooling"
   ]
  },
  {
   "cell_type": "code",
   "execution_count": 1,
   "id": "fa174e25-ec16-4b65-b351-d5337a5f9462",
   "metadata": {
    "execution": {
     "iopub.execute_input": "2025-08-13T18:58:21.992556Z",
     "iopub.status.busy": "2025-08-13T18:58:21.992119Z",
     "iopub.status.idle": "2025-08-13T18:58:22.299422Z",
     "shell.execute_reply": "2025-08-13T18:58:22.298737Z",
     "shell.execute_reply.started": "2025-08-13T18:58:21.992513Z"
    }
   },
   "outputs": [],
   "source": [
    "import numpy as np\n",
    "from regressor import LinearRegressor\n",
    "\n",
    "import inversion_ideas as ii"
   ]
  },
  {
   "cell_type": "markdown",
   "id": "c10e1d27-613d-4521-9fe5-606099062da9",
   "metadata": {},
   "source": [
    "## Synthetic data"
   ]
  },
  {
   "cell_type": "code",
   "execution_count": 2,
   "id": "231a716f-d2ed-47e5-a7df-e73c29593a27",
   "metadata": {
    "execution": {
     "iopub.execute_input": "2025-08-13T18:58:22.300363Z",
     "iopub.status.busy": "2025-08-13T18:58:22.300018Z",
     "iopub.status.idle": "2025-08-13T18:58:22.307237Z",
     "shell.execute_reply": "2025-08-13T18:58:22.306536Z",
     "shell.execute_reply.started": "2025-08-13T18:58:22.300334Z"
    }
   },
   "outputs": [
    {
     "data": {
      "text/plain": [
       "array([0.78225148, 0.67148671, 0.2373809 , 0.17946133, 0.34662367,\n",
       "       0.15210999, 0.31142952, 0.23900652, 0.54355731, 0.91770851])"
      ]
     },
     "execution_count": 2,
     "metadata": {},
     "output_type": "execute_result"
    }
   ],
   "source": [
    "n_params = 10\n",
    "rng = np.random.default_rng(seed=4242)\n",
    "true_model = rng.uniform(size=10)\n",
    "true_model"
   ]
  },
  {
   "cell_type": "code",
   "execution_count": 3,
   "id": "49714d31-2b86-4bc7-b1ef-8596706aceb2",
   "metadata": {
    "execution": {
     "iopub.execute_input": "2025-08-13T18:58:22.308313Z",
     "iopub.status.busy": "2025-08-13T18:58:22.307993Z",
     "iopub.status.idle": "2025-08-13T18:58:22.312424Z",
     "shell.execute_reply": "2025-08-13T18:58:22.311739Z",
     "shell.execute_reply.started": "2025-08-13T18:58:22.308283Z"
    }
   },
   "outputs": [],
   "source": [
    "# Build the X matrix\n",
    "n_data = 25\n",
    "shape = (n_data, n_params)\n",
    "X = rng.uniform(size=n_data * n_params).reshape(shape)"
   ]
  },
  {
   "cell_type": "code",
   "execution_count": 4,
   "id": "00dce0f3-3258-41f6-91e7-d0be28c0df9b",
   "metadata": {
    "execution": {
     "iopub.execute_input": "2025-08-13T18:58:22.313668Z",
     "iopub.status.busy": "2025-08-13T18:58:22.313332Z",
     "iopub.status.idle": "2025-08-13T18:58:22.319180Z",
     "shell.execute_reply": "2025-08-13T18:58:22.318608Z",
     "shell.execute_reply.started": "2025-08-13T18:58:22.313636Z"
    }
   },
   "outputs": [
    {
     "data": {
      "text/plain": [
       "array([2.83840696, 2.18091081, 2.00623242, 2.08333039, 2.01694883,\n",
       "       2.7826232 , 2.10564027, 1.27333506, 2.08859855, 1.94177648,\n",
       "       1.88492037, 2.92394733, 2.17231952, 3.08009275, 1.61670886,\n",
       "       1.77403753, 2.67305005, 1.91413882, 2.42117827, 2.13991628,\n",
       "       2.0153805 , 2.71388471, 2.65944255, 2.44416121, 3.14217523])"
      ]
     },
     "execution_count": 4,
     "metadata": {},
     "output_type": "execute_result"
    }
   ],
   "source": [
    "# Generate synthetic data with noise\n",
    "synthetic_data = X @ true_model\n",
    "maxabs = np.max(np.abs(synthetic_data))\n",
    "std_err =  1e-2 * maxabs\n",
    "noise = rng.normal(scale=std_err, size=synthetic_data.size)\n",
    "synthetic_data += noise\n",
    "synthetic_data"
   ]
  },
  {
   "cell_type": "markdown",
   "id": "6727d690-e683-47a0-b580-1a112c2f991c",
   "metadata": {},
   "source": [
    "## Naive inversion with beta scheduling"
   ]
  },
  {
   "cell_type": "code",
   "execution_count": 5,
   "id": "b7f0bcbb-0821-4679-9392-dd0a8c2a8fbf",
   "metadata": {
    "execution": {
     "iopub.execute_input": "2025-08-13T18:58:22.320100Z",
     "iopub.status.busy": "2025-08-13T18:58:22.319647Z",
     "iopub.status.idle": "2025-08-13T18:58:22.322604Z",
     "shell.execute_reply": "2025-08-13T18:58:22.322173Z",
     "shell.execute_reply.started": "2025-08-13T18:58:22.320079Z"
    }
   },
   "outputs": [],
   "source": [
    "simulation = LinearRegressor(X)"
   ]
  },
  {
   "cell_type": "code",
   "execution_count": 6,
   "id": "6355f4c3-5d25-46a7-b60d-a42a3f68eaa0",
   "metadata": {
    "execution": {
     "iopub.execute_input": "2025-08-13T18:58:22.324777Z",
     "iopub.status.busy": "2025-08-13T18:58:22.324308Z",
     "iopub.status.idle": "2025-08-13T18:58:22.329437Z",
     "shell.execute_reply": "2025-08-13T18:58:22.328659Z",
     "shell.execute_reply.started": "2025-08-13T18:58:22.324746Z"
    }
   },
   "outputs": [
    {
     "data": {
      "text/latex": [
       "$\\phi_{d} (m)$"
      ],
      "text/plain": [
       "φd(m)"
      ]
     },
     "execution_count": 6,
     "metadata": {},
     "output_type": "execute_result"
    }
   ],
   "source": [
    "uncertainty = std_err * np.ones_like(synthetic_data)\n",
    "data_misfit = ii.DataMisfit(synthetic_data, uncertainty, simulation)\n",
    "data_misfit"
   ]
  },
  {
   "cell_type": "code",
   "execution_count": 7,
   "id": "0a56cdad-212f-42a0-9c6d-e5e935dd4fff",
   "metadata": {
    "execution": {
     "iopub.execute_input": "2025-08-13T18:58:22.330203Z",
     "iopub.status.busy": "2025-08-13T18:58:22.330014Z",
     "iopub.status.idle": "2025-08-13T18:58:22.334497Z",
     "shell.execute_reply": "2025-08-13T18:58:22.333852Z",
     "shell.execute_reply.started": "2025-08-13T18:58:22.330184Z"
    }
   },
   "outputs": [
    {
     "data": {
      "text/latex": [
       "$\\phi_{s} (m)$"
      ],
      "text/plain": [
       "φs(m)"
      ]
     },
     "execution_count": 7,
     "metadata": {},
     "output_type": "execute_result"
    }
   ],
   "source": [
    "smallness = ii.TikhonovZero(n_params)\n",
    "smallness"
   ]
  },
  {
   "cell_type": "code",
   "execution_count": 8,
   "id": "c7e0e936-001b-42e3-9cc3-abfc8f5d4085",
   "metadata": {
    "execution": {
     "iopub.execute_input": "2025-08-13T18:58:22.335251Z",
     "iopub.status.busy": "2025-08-13T18:58:22.335065Z",
     "iopub.status.idle": "2025-08-13T18:58:22.339587Z",
     "shell.execute_reply": "2025-08-13T18:58:22.338891Z",
     "shell.execute_reply.started": "2025-08-13T18:58:22.335232Z"
    }
   },
   "outputs": [
    {
     "data": {
      "text/latex": [
       "$1.00 \\cdot 10^{4} \\, \\phi_{s} (m)$"
      ],
      "text/plain": [
       "1.00e+04 φs(m)"
      ]
     },
     "execution_count": 8,
     "metadata": {},
     "output_type": "execute_result"
    }
   ],
   "source": [
    "beta_0 = 1e4\n",
    "regularization = beta_0 * smallness\n",
    "regularization"
   ]
  },
  {
   "cell_type": "code",
   "execution_count": 9,
   "id": "46e308d5-75a2-4f00-a2fa-40ccc0fdafcb",
   "metadata": {
    "execution": {
     "iopub.execute_input": "2025-08-13T18:58:22.340946Z",
     "iopub.status.busy": "2025-08-13T18:58:22.340374Z",
     "iopub.status.idle": "2025-08-13T18:58:22.349633Z",
     "shell.execute_reply": "2025-08-13T18:58:22.349004Z",
     "shell.execute_reply.started": "2025-08-13T18:58:22.340912Z"
    }
   },
   "outputs": [
    {
     "data": {
      "text/latex": [
       "$ \\phi_{d} (m) + 1.00 \\cdot 10^{4} \\, \\phi_{s} (m) $"
      ],
      "text/plain": [
       "φd(m) + 1.00e+04 φs(m)"
      ]
     },
     "execution_count": 9,
     "metadata": {},
     "output_type": "execute_result"
    }
   ],
   "source": [
    "phi = data_misfit + regularization\n",
    "phi"
   ]
  },
  {
   "cell_type": "code",
   "execution_count": 10,
   "id": "8e33739e-5914-4e5e-8451-3c7cacfe407a",
   "metadata": {
    "execution": {
     "iopub.execute_input": "2025-08-13T18:58:22.351116Z",
     "iopub.status.busy": "2025-08-13T18:58:22.350742Z",
     "iopub.status.idle": "2025-08-13T18:58:22.354479Z",
     "shell.execute_reply": "2025-08-13T18:58:22.353877Z",
     "shell.execute_reply.started": "2025-08-13T18:58:22.351082Z"
    }
   },
   "outputs": [],
   "source": [
    "minimizer = ii.ConjugateGradient()"
   ]
  },
  {
   "cell_type": "code",
   "execution_count": 11,
   "id": "6058e56f-d95d-4f50-b50c-8570b724abc6",
   "metadata": {
    "execution": {
     "iopub.execute_input": "2025-08-13T18:58:22.355588Z",
     "iopub.status.busy": "2025-08-13T18:58:22.355134Z",
     "iopub.status.idle": "2025-08-13T18:58:22.358958Z",
     "shell.execute_reply": "2025-08-13T18:58:22.358136Z",
     "shell.execute_reply.started": "2025-08-13T18:58:22.355557Z"
    }
   },
   "outputs": [],
   "source": [
    "initial_model = np.zeros(n_params)"
   ]
  },
  {
   "cell_type": "code",
   "execution_count": 12,
   "id": "6e91310f-de56-4e8d-a878-22b090b60bf1",
   "metadata": {
    "execution": {
     "iopub.execute_input": "2025-08-13T18:58:22.360368Z",
     "iopub.status.busy": "2025-08-13T18:58:22.359921Z",
     "iopub.status.idle": "2025-08-13T18:58:22.384203Z",
     "shell.execute_reply": "2025-08-13T18:58:22.383404Z",
     "shell.execute_reply.started": "2025-08-13T18:58:22.360336Z"
    }
   },
   "outputs": [],
   "source": [
    "model = initial_model.copy()\n",
    "\n",
    "chi_target = 1.0\n",
    "beta_cooling_factor = 2.0\n",
    "\n",
    "while True:\n",
    "    # Minimize the objective function\n",
    "    model = minimizer(phi, model) \n",
    "\n",
    "    # Stopping criteria: chi factor\n",
    "    dmisfit = data_misfit(model)\n",
    "    chi_factor = dmisfit / data_misfit.n_data\n",
    "    if chi_factor <= chi_target:\n",
    "        break\n",
    "\n",
    "    # Cool beta\n",
    "    regularization.multiplier /= beta_cooling_factor\n",
    "\n",
    "\n",
    "inverted_model = model.copy()"
   ]
  },
  {
   "cell_type": "code",
   "execution_count": 13,
   "id": "47f0a2ad-692a-4d30-8c5a-9485d6bd947d",
   "metadata": {
    "execution": {
     "iopub.execute_input": "2025-08-13T18:58:22.385142Z",
     "iopub.status.busy": "2025-08-13T18:58:22.384850Z",
     "iopub.status.idle": "2025-08-13T18:58:22.390588Z",
     "shell.execute_reply": "2025-08-13T18:58:22.389807Z",
     "shell.execute_reply.started": "2025-08-13T18:58:22.385113Z"
    }
   },
   "outputs": [
    {
     "data": {
      "text/plain": [
       "array([0.78781238, 0.63620172, 0.2461426 , 0.1941919 , 0.33960904,\n",
       "       0.17601471, 0.32485498, 0.26662799, 0.52718998, 0.89311305])"
      ]
     },
     "execution_count": 13,
     "metadata": {},
     "output_type": "execute_result"
    }
   ],
   "source": [
    "inverted_model"
   ]
  },
  {
   "cell_type": "code",
   "execution_count": 14,
   "id": "5f2ec3b0-579b-4a07-b918-1e94e71f6ad0",
   "metadata": {
    "execution": {
     "iopub.execute_input": "2025-08-13T18:58:22.391644Z",
     "iopub.status.busy": "2025-08-13T18:58:22.391338Z",
     "iopub.status.idle": "2025-08-13T18:58:22.397086Z",
     "shell.execute_reply": "2025-08-13T18:58:22.396260Z",
     "shell.execute_reply.started": "2025-08-13T18:58:22.391613Z"
    }
   },
   "outputs": [
    {
     "name": "stdout",
     "output_type": "stream",
     "text": [
      "Result:\n",
      "[0.78781238 0.63620172 0.2461426  0.1941919  0.33960904 0.17601471\n",
      " 0.32485498 0.26662799 0.52718998 0.89311305]\n",
      "\n",
      "True model:\n",
      "[0.78225148 0.67148671 0.2373809  0.17946133 0.34662367 0.15210999\n",
      " 0.31142952 0.23900652 0.54355731 0.91770851]\n"
     ]
    }
   ],
   "source": [
    "print(\"Result:\")\n",
    "print(inverted_model)\n",
    "print()\n",
    "print(\"True model:\")\n",
    "print(true_model)"
   ]
  }
 ],
 "metadata": {
  "kernelspec": {
   "display_name": "Python [conda env:inversion_ideas]",
   "language": "python",
   "name": "conda-env-inversion_ideas-py"
  },
  "language_info": {
   "codemirror_mode": {
    "name": "ipython",
    "version": 3
   },
   "file_extension": ".py",
   "mimetype": "text/x-python",
   "name": "python",
   "nbconvert_exporter": "python",
   "pygments_lexer": "ipython3",
   "version": "3.13.5"
  }
 },
 "nbformat": 4,
 "nbformat_minor": 5
}
