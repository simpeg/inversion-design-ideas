{
 "cells": [
  {
   "cell_type": "markdown",
   "id": "c4b21011-75e3-4f3a-a357-e28fcaaabdf4",
   "metadata": {},
   "source": [
    "# Plug in SimPEG's gravity simulation into the new framework"
   ]
  },
  {
   "cell_type": "code",
   "execution_count": 1,
   "id": "b2d27e8b-5b33-4361-990b-8b6e724f5ac6",
   "metadata": {
    "execution": {
     "iopub.execute_input": "2025-07-30T22:52:11.170650Z",
     "iopub.status.busy": "2025-07-30T22:52:11.170246Z",
     "iopub.status.idle": "2025-07-30T22:52:12.860858Z",
     "shell.execute_reply": "2025-07-30T22:52:12.860202Z",
     "shell.execute_reply.started": "2025-07-30T22:52:11.170607Z"
    }
   },
   "outputs": [],
   "source": [
    "import numpy as np\n",
    "import harmonica as hm\n",
    "import verde as vd\n",
    "import matplotlib.pyplot as plt\n",
    "\n",
    "import discretize\n",
    "from simpeg.potential_fields.gravity import Simulation3DIntegral, Survey, SourceField, Point\n",
    "from simpeg.maps import IdentityMap\n",
    "from simpeg.utils import model_builder, depth_weighting\n",
    "\n",
    "from inversion_ideas import DataMisfit, TikhonovZero, Inversion, ConjugateGradient\n",
    "\n",
    "from gravity import GravitySimulation"
   ]
  },
  {
   "cell_type": "markdown",
   "id": "a7a0aea4-50f4-4eea-9b6e-e907c520534e",
   "metadata": {},
   "source": [
    "## Define synthetic data with two prisms"
   ]
  },
  {
   "cell_type": "code",
   "execution_count": 2,
   "id": "dfce90d3-de10-43d3-a668-696993b0f73e",
   "metadata": {
    "execution": {
     "iopub.execute_input": "2025-07-30T22:52:12.861669Z",
     "iopub.status.busy": "2025-07-30T22:52:12.861327Z",
     "iopub.status.idle": "2025-07-30T22:52:12.866121Z",
     "shell.execute_reply": "2025-07-30T22:52:12.865391Z",
     "shell.execute_reply.started": "2025-07-30T22:52:12.861650Z"
    }
   },
   "outputs": [],
   "source": [
    "prisms = [\n",
    "    (-60, -40, -10, 10, -70, -50),\n",
    "    (40, 60, -10, 10, -70, -50),\n",
    "]\n",
    "densities = np.array([-200, 200]) # SI units\n",
    "\n",
    "region = (-100, 100, -100, 100)\n",
    "shape = (31, 31)\n",
    "height = 0\n",
    "coordinates = vd.grid_coordinates(region, shape=shape, extra_coords=height)"
   ]
  },
  {
   "cell_type": "code",
   "execution_count": 3,
   "id": "2403d600-451e-424e-8de9-3f824f1e2647",
   "metadata": {
    "execution": {
     "iopub.execute_input": "2025-07-30T22:52:12.867037Z",
     "iopub.status.busy": "2025-07-30T22:52:12.866773Z",
     "iopub.status.idle": "2025-07-30T22:52:14.090926Z",
     "shell.execute_reply": "2025-07-30T22:52:14.090361Z",
     "shell.execute_reply.started": "2025-07-30T22:52:12.867018Z"
    }
   },
   "outputs": [
    {
     "name": "stdout",
     "output_type": "stream",
     "text": [
      "stderr=np.float64(2.5745854651805945e-05)\n"
     ]
    }
   ],
   "source": [
    "gz = hm.prism_gravity(\n",
    "    coordinates,\n",
    "    prisms,\n",
    "    densities,\n",
    "    field=\"g_z\"\n",
    ")\n",
    "gz *= -1  # Invert sign to work with upward component\n",
    "\n",
    "# Add noise\n",
    "stderr = vd.maxabs(gz) * 0.01\n",
    "gz += np.random.default_rng(seed=51).normal(scale=stderr, size=gz.shape)\n",
    "\n",
    "print(f\"{stderr=}\")"
   ]
  },
  {
   "cell_type": "code",
   "execution_count": 4,
   "id": "9612913a-b699-4ad4-8fe7-cbf83376f5d8",
   "metadata": {
    "execution": {
     "iopub.execute_input": "2025-07-30T22:52:14.091799Z",
     "iopub.status.busy": "2025-07-30T22:52:14.091610Z",
     "iopub.status.idle": "2025-07-30T22:52:14.240655Z",
     "shell.execute_reply": "2025-07-30T22:52:14.240035Z",
     "shell.execute_reply.started": "2025-07-30T22:52:14.091781Z"
    }
   },
   "outputs": [
    {
     "data": {
      "image/png": "[encoded data removed]",
      "text/plain": [
       "<Figure size 640x480 with 2 Axes>"
      ]
     },
     "metadata": {},
     "output_type": "display_data"
    }
   ],
   "source": [
    "tmp = plt.pcolormesh(*coordinates[:2], gz)\n",
    "plt.gca().set_aspect(\"equal\")\n",
    "plt.colorbar(tmp)\n",
    "plt.show()"
   ]
  },
  {
   "cell_type": "code",
   "execution_count": 5,
   "id": "f6d55c30-c5c9-4376-bc6d-ece83805b2d2",
   "metadata": {
    "execution": {
     "iopub.execute_input": "2025-07-30T22:52:14.241667Z",
     "iopub.status.busy": "2025-07-30T22:52:14.241407Z",
     "iopub.status.idle": "2025-07-30T22:52:14.246078Z",
     "shell.execute_reply": "2025-07-30T22:52:14.245238Z",
     "shell.execute_reply.started": "2025-07-30T22:52:14.241648Z"
    }
   },
   "outputs": [
    {
     "data": {
      "text/plain": [
       "961"
      ]
     },
     "execution_count": 5,
     "metadata": {},
     "output_type": "execute_result"
    }
   ],
   "source": [
    "gz.size"
   ]
  },
  {
   "cell_type": "markdown",
   "id": "d460a7fd-9eed-497f-9b41-2de3a08f5750",
   "metadata": {},
   "source": [
    "## Define SimPEG simulation"
   ]
  },
  {
   "cell_type": "code",
   "execution_count": 6,
   "id": "0edbb620-6a62-48bf-a8af-8981a76cc6f4",
   "metadata": {
    "execution": {
     "iopub.execute_input": "2025-07-30T22:52:14.248236Z",
     "iopub.status.busy": "2025-07-30T22:52:14.247982Z",
     "iopub.status.idle": "2025-07-30T22:52:14.253711Z",
     "shell.execute_reply": "2025-07-30T22:52:14.253022Z",
     "shell.execute_reply.started": "2025-07-30T22:52:14.248217Z"
    }
   },
   "outputs": [
    {
     "data": {
      "text/html": [
       "<table>\n",
       "  <tr>\n",
       "    <td style='font-weight: bold; font-size: 1.2em; text-align: center;' colspan='3'>TensorMesh</td>\n",
       "    <td style='font-size: 1.2em; text-align: center;'colspan='4'>64,000 cells</td>\n",
       "  </tr>\n",
       "  <tr>\n",
       "    <th></th>\n",
       "    <th></th>\n",
       "    <th colspan='2' style='padding: 5px 20px 5px 20px;'>MESH EXTENT</th>\n",
       "    <th colspan='2' style='padding: 5px 20px 5px 20px;'>CELL WIDTH</th>\n",
       "    <th style='padding: 5px 20px 5px 20px;'>FACTOR</th>\n",
       "  </tr>\n",
       "  <tr>\n",
       "    <th style='padding: 5px 20px 5px 20px;'>dir</th>\n",
       "    <th style='padding: 5px 20px 5px 20px;'>nC</th>\n",
       "    <th style='padding: 5px 20px 5px 20px;'>min</th>\n",
       "    <th style='padding: 5px 20px 5px 20px;'>max</th>\n",
       "    <th style='padding: 5px 20px 5px 20px;'>min</th>\n",
       "    <th style='padding: 5px 20px 5px 20px;'>max</th>\n",
       "    <th style='padding: 5px 20px 5px 20px;'>max</th>\n",
       "  </tr>\n",
       "  <tr>\n",
       "    <td style='padding: 5px 20px 5px 20px;'>x</td>\n",
       "    <td style='padding: 5px 20px 5px 20px;'>40</td>\n",
       "    <td style='padding: 5px 20px 5px 20px;'>-100.00</td>\n",
       "    <td style='padding: 5px 20px 5px 20px;'>100.00</td>\n",
       "    <td style='padding: 5px 20px 5px 20px;'>5.00</td>\n",
       "    <td style='padding: 5px 20px 5px 20px;'>5.00</td>\n",
       "    <td style='padding: 5px 20px 5px 20px;'>1.00</td>\n",
       "  </tr>\n",
       "  <tr>\n",
       "    <td style='padding: 5px 20px 5px 20px;'>y</td>\n",
       "    <td style='padding: 5px 20px 5px 20px;'>40</td>\n",
       "    <td style='padding: 5px 20px 5px 20px;'>-100.00</td>\n",
       "    <td style='padding: 5px 20px 5px 20px;'>100.00</td>\n",
       "    <td style='padding: 5px 20px 5px 20px;'>5.00</td>\n",
       "    <td style='padding: 5px 20px 5px 20px;'>5.00</td>\n",
       "    <td style='padding: 5px 20px 5px 20px;'>1.00</td>\n",
       "  </tr>\n",
       "  <tr>\n",
       "    <td style='padding: 5px 20px 5px 20px;'>z</td>\n",
       "    <td style='padding: 5px 20px 5px 20px;'>40</td>\n",
       "    <td style='padding: 5px 20px 5px 20px;'>-200.00</td>\n",
       "    <td style='padding: 5px 20px 5px 20px;'>0.00</td>\n",
       "    <td style='padding: 5px 20px 5px 20px;'>5.00</td>\n",
       "    <td style='padding: 5px 20px 5px 20px;'>5.00</td>\n",
       "    <td style='padding: 5px 20px 5px 20px;'>1.00</td>\n",
       "  </tr>\n",
       "</table>\n"
      ],
      "text/plain": [
       "\n",
       "  TensorMesh: 64,000 cells\n",
       "\n",
       "                      MESH EXTENT             CELL WIDTH      FACTOR\n",
       "  dir    nC        min           max         min       max      max\n",
       "  ---   ---  ---------------------------  ------------------  ------\n",
       "   x     40       -100.00        100.00      5.00      5.00    1.00\n",
       "   y     40       -100.00        100.00      5.00      5.00    1.00\n",
       "   z     40       -200.00          0.00      5.00      5.00    1.00\n"
      ]
     },
     "execution_count": 6,
     "metadata": {},
     "output_type": "execute_result"
    }
   ],
   "source": [
    "h = [(5.0, 40)]\n",
    "mesh = discretize.TensorMesh(h=[h, h, h], origin=\"CCN\")\n",
    "mesh"
   ]
  },
  {
   "cell_type": "code",
   "execution_count": 7,
   "id": "8a890b93-78ec-4681-bbb5-cc91e1448a85",
   "metadata": {
    "execution": {
     "iopub.execute_input": "2025-07-30T22:52:14.254715Z",
     "iopub.status.busy": "2025-07-30T22:52:14.254476Z",
     "iopub.status.idle": "2025-07-30T22:52:14.258417Z",
     "shell.execute_reply": "2025-07-30T22:52:14.257681Z",
     "shell.execute_reply.started": "2025-07-30T22:52:14.254695Z"
    }
   },
   "outputs": [],
   "source": [
    "locations = np.vstack(tuple(c.ravel() for c in coordinates)).T\n",
    "receivers = Point(locations, components=\"gz\")\n",
    "source = SourceField(receiver_list=[receivers])\n",
    "survey = Survey(source)"
   ]
  },
  {
   "cell_type": "code",
   "execution_count": 8,
   "id": "1dd17123-2df8-45b6-9345-d5cb6f431d51",
   "metadata": {
    "execution": {
     "iopub.execute_input": "2025-07-30T22:52:14.259478Z",
     "iopub.status.busy": "2025-07-30T22:52:14.259170Z",
     "iopub.status.idle": "2025-07-30T22:52:14.313270Z",
     "shell.execute_reply": "2025-07-30T22:52:14.312617Z",
     "shell.execute_reply.started": "2025-07-30T22:52:14.259450Z"
    }
   },
   "outputs": [],
   "source": [
    "simulation_simpeg = Simulation3DIntegral(mesh, survey=survey, rhoMap=IdentityMap(mesh))"
   ]
  },
  {
   "cell_type": "code",
   "execution_count": 9,
   "id": "b4c9ad67-47fe-4408-b879-d99b8eec8ca2",
   "metadata": {
    "execution": {
     "iopub.execute_input": "2025-07-30T22:52:14.314471Z",
     "iopub.status.busy": "2025-07-30T22:52:14.314173Z",
     "iopub.status.idle": "2025-07-30T22:52:14.317734Z",
     "shell.execute_reply": "2025-07-30T22:52:14.317116Z",
     "shell.execute_reply.started": "2025-07-30T22:52:14.314446Z"
    }
   },
   "outputs": [],
   "source": [
    "def block_corners(prism):\n",
    "    p0 = np.array([prism[0], prism[2], prism[4]])\n",
    "    p1 = np.array([prism[1], prism[3], prism[5]])\n",
    "    return p0, p1"
   ]
  },
  {
   "cell_type": "code",
   "execution_count": 10,
   "id": "ffc07711-d8e3-49cf-9574-f2bde45ceec8",
   "metadata": {
    "execution": {
     "iopub.execute_input": "2025-07-30T22:52:14.318604Z",
     "iopub.status.busy": "2025-07-30T22:52:14.318387Z",
     "iopub.status.idle": "2025-07-30T22:52:14.324772Z",
     "shell.execute_reply": "2025-07-30T22:52:14.324186Z",
     "shell.execute_reply.started": "2025-07-30T22:52:14.318585Z"
    }
   },
   "outputs": [
    {
     "name": "stdout",
     "output_type": "stream",
     "text": [
      "[-0.2  0.2]\n"
     ]
    }
   ],
   "source": [
    "model = np.zeros(mesh.n_cells)\n",
    "densities_gcc = densities * 1e-3\n",
    "print(densities_gcc)\n",
    "\n",
    "for prism, density in zip(prisms, densities_gcc, strict=True):\n",
    "    p0, p1 = block_corners(prism)\n",
    "    model = model_builder.add_block(mesh.cell_centers, model, p0, p1, density)"
   ]
  },
  {
   "cell_type": "code",
   "execution_count": 11,
   "id": "0b89b688-a595-4ff3-81e3-8bba4d4ef7c8",
   "metadata": {
    "execution": {
     "iopub.execute_input": "2025-07-30T22:52:14.325496Z",
     "iopub.status.busy": "2025-07-30T22:52:14.325313Z",
     "iopub.status.idle": "2025-07-30T22:52:14.479976Z",
     "shell.execute_reply": "2025-07-30T22:52:14.479412Z",
     "shell.execute_reply.started": "2025-07-30T22:52:14.325478Z"
    }
   },
   "outputs": [
    {
     "data": {
      "text/plain": [
       "(<matplotlib.collections.QuadMesh at 0x7fd9ed178f50>,)"
      ]
     },
     "execution_count": 11,
     "metadata": {},
     "output_type": "execute_result"
    },
    {
     "data": {
      "image/png": "[encoded data removed]",
      "text/plain": [
       "<Figure size 640x480 with 1 Axes>"
      ]
     },
     "metadata": {},
     "output_type": "display_data"
    }
   ],
   "source": [
    "mesh.plot_slice(model, normal=\"Y\", slice_loc=0)"
   ]
  },
  {
   "cell_type": "code",
   "execution_count": 12,
   "id": "ff50fbfa-9dd4-4c01-a8eb-245c3c0706a0",
   "metadata": {
    "execution": {
     "iopub.execute_input": "2025-07-30T22:52:14.481055Z",
     "iopub.status.busy": "2025-07-30T22:52:14.480755Z",
     "iopub.status.idle": "2025-07-30T22:52:18.079043Z",
     "shell.execute_reply": "2025-07-30T22:52:18.078503Z",
     "shell.execute_reply.started": "2025-07-30T22:52:14.481025Z"
    }
   },
   "outputs": [],
   "source": [
    "dpred = simulation_simpeg.dpred(model)"
   ]
  },
  {
   "cell_type": "code",
   "execution_count": 13,
   "id": "094b1d30-c610-44ca-968b-7257aacbaa91",
   "metadata": {
    "execution": {
     "iopub.execute_input": "2025-07-30T22:52:18.079968Z",
     "iopub.status.busy": "2025-07-30T22:52:18.079694Z",
     "iopub.status.idle": "2025-07-30T22:52:18.239247Z",
     "shell.execute_reply": "2025-07-30T22:52:18.238498Z",
     "shell.execute_reply.started": "2025-07-30T22:52:18.079945Z"
    }
   },
   "outputs": [
    {
     "data": {
      "image/png": "[encoded data removed]",
      "text/plain": [
       "<Figure size 640x480 with 2 Axes>"
      ]
     },
     "metadata": {},
     "output_type": "display_data"
    }
   ],
   "source": [
    "tmp = plt.pcolormesh(*coordinates[:2], dpred.reshape(coordinates[0].shape))\n",
    "plt.gca().set_aspect(\"equal\")\n",
    "plt.colorbar(tmp)\n",
    "plt.show()"
   ]
  },
  {
   "cell_type": "markdown",
   "id": "137e7314-b148-46d9-b3b6-01496aaf8da4",
   "metadata": {},
   "source": [
    "## Define (simple) inversion using the new framework"
   ]
  },
  {
   "cell_type": "markdown",
   "id": "001ed1bb-6919-486b-a954-4bd54de79b4e",
   "metadata": {},
   "source": [
    "Wrap SimPEG's simulation into a child of the new `Simulation` class:"
   ]
  },
  {
   "cell_type": "code",
   "execution_count": 14,
   "id": "a4303772-cfe0-45ed-90ec-c1caad768f39",
   "metadata": {
    "execution": {
     "iopub.execute_input": "2025-07-30T22:52:18.240323Z",
     "iopub.status.busy": "2025-07-30T22:52:18.240028Z",
     "iopub.status.idle": "2025-07-30T22:52:18.243211Z",
     "shell.execute_reply": "2025-07-30T22:52:18.242645Z",
     "shell.execute_reply.started": "2025-07-30T22:52:18.240304Z"
    }
   },
   "outputs": [],
   "source": [
    "simulation = GravitySimulation(simulation_simpeg)"
   ]
  },
  {
   "cell_type": "code",
   "execution_count": 15,
   "id": "956f31ab-ed45-432f-a788-15cf73febf14",
   "metadata": {
    "execution": {
     "iopub.execute_input": "2025-07-30T22:52:18.244228Z",
     "iopub.status.busy": "2025-07-30T22:52:18.243910Z",
     "iopub.status.idle": "2025-07-30T22:52:18.266896Z",
     "shell.execute_reply": "2025-07-30T22:52:18.266348Z",
     "shell.execute_reply.started": "2025-07-30T22:52:18.244189Z"
    }
   },
   "outputs": [],
   "source": [
    "dpred = simulation(model)"
   ]
  },
  {
   "cell_type": "code",
   "execution_count": 16,
   "id": "fd1dfb8c-fe88-4a46-b59e-70baaec550f7",
   "metadata": {
    "execution": {
     "iopub.execute_input": "2025-07-30T22:52:18.268053Z",
     "iopub.status.busy": "2025-07-30T22:52:18.267683Z",
     "iopub.status.idle": "2025-07-30T22:52:18.429900Z",
     "shell.execute_reply": "2025-07-30T22:52:18.429295Z",
     "shell.execute_reply.started": "2025-07-30T22:52:18.268029Z"
    }
   },
   "outputs": [
    {
     "data": {
      "image/png": "[encoded data removed]",
      "text/plain": [
       "<Figure size 640x480 with 2 Axes>"
      ]
     },
     "metadata": {},
     "output_type": "display_data"
    }
   ],
   "source": [
    "tmp = plt.pcolormesh(*coordinates[:2], dpred.reshape(coordinates[0].shape))\n",
    "plt.gca().set_aspect(\"equal\")\n",
    "plt.colorbar(tmp)\n",
    "plt.show()"
   ]
  },
  {
   "cell_type": "code",
   "execution_count": 17,
   "id": "e916f176-b4b7-427a-847c-a282f85640a5",
   "metadata": {
    "execution": {
     "iopub.execute_input": "2025-07-30T22:52:18.430835Z",
     "iopub.status.busy": "2025-07-30T22:52:18.430590Z",
     "iopub.status.idle": "2025-07-30T22:52:18.436200Z",
     "shell.execute_reply": "2025-07-30T22:52:18.435216Z",
     "shell.execute_reply.started": "2025-07-30T22:52:18.430813Z"
    }
   },
   "outputs": [
    {
     "data": {
      "text/plain": [
       "<961x64000 _CustomLinearOperator with dtype=float64>"
      ]
     },
     "execution_count": 17,
     "metadata": {},
     "output_type": "execute_result"
    }
   ],
   "source": [
    "simulation.jacobian(model)"
   ]
  },
  {
   "cell_type": "code",
   "execution_count": 18,
   "id": "c862c062-c7e2-4d7b-8825-109fa7072bdd",
   "metadata": {
    "execution": {
     "iopub.execute_input": "2025-07-30T22:52:18.437996Z",
     "iopub.status.busy": "2025-07-30T22:52:18.437216Z",
     "iopub.status.idle": "2025-07-30T22:52:18.441625Z",
     "shell.execute_reply": "2025-07-30T22:52:18.441024Z",
     "shell.execute_reply.started": "2025-07-30T22:52:18.437963Z"
    }
   },
   "outputs": [],
   "source": [
    "uncertainties = stderr * np.ones(gz.size)\n",
    "data_misfit = DataMisfit(gz.ravel(), uncertainties, simulation)"
   ]
  },
  {
   "cell_type": "code",
   "execution_count": 19,
   "id": "9042f903-4d02-4abe-9de1-2dfacfb3b3a0",
   "metadata": {
    "execution": {
     "iopub.execute_input": "2025-07-30T22:52:18.442739Z",
     "iopub.status.busy": "2025-07-30T22:52:18.442498Z",
     "iopub.status.idle": "2025-07-30T22:52:18.448495Z",
     "shell.execute_reply": "2025-07-30T22:52:18.447889Z",
     "shell.execute_reply.started": "2025-07-30T22:52:18.442713Z"
    }
   },
   "outputs": [],
   "source": [
    "volume_weights = mesh.cell_volumes\n",
    "depth_weights = depth_weighting(mesh, 0)\n",
    "smallness = TikhonovZero(\n",
    "    n_params=simulation.n_params, weights=volume_weights * depth_weights\n",
    ")"
   ]
  },
  {
   "cell_type": "code",
   "execution_count": 30,
   "id": "ae115d7f-6b08-4c4e-b5f3-7277c24a49e4",
   "metadata": {
    "execution": {
     "iopub.execute_input": "2025-07-30T22:52:47.811179Z",
     "iopub.status.busy": "2025-07-30T22:52:47.809372Z",
     "iopub.status.idle": "2025-07-30T22:52:47.820105Z",
     "shell.execute_reply": "2025-07-30T22:52:47.817822Z",
     "shell.execute_reply.started": "2025-07-30T22:52:47.811096Z"
    }
   },
   "outputs": [],
   "source": [
    "phi = data_misfit + 1e-1 * smallness"
   ]
  },
  {
   "cell_type": "code",
   "execution_count": 31,
   "id": "9bfe71bd-5dae-4eea-91ad-543d80596363",
   "metadata": {
    "execution": {
     "iopub.execute_input": "2025-07-30T22:52:48.041651Z",
     "iopub.status.busy": "2025-07-30T22:52:48.039248Z",
     "iopub.status.idle": "2025-07-30T22:52:48.048855Z",
     "shell.execute_reply": "2025-07-30T22:52:48.047219Z",
     "shell.execute_reply.started": "2025-07-30T22:52:48.041566Z"
    }
   },
   "outputs": [],
   "source": [
    "minimizer = ConjugateGradient()"
   ]
  },
  {
   "cell_type": "code",
   "execution_count": 32,
   "id": "e2dfb4e8-1996-4f3f-8b05-781fc2d4537c",
   "metadata": {
    "execution": {
     "iopub.execute_input": "2025-07-30T22:52:48.236935Z",
     "iopub.status.busy": "2025-07-30T22:52:48.236418Z",
     "iopub.status.idle": "2025-07-30T22:52:54.201025Z",
     "shell.execute_reply": "2025-07-30T22:52:54.199954Z",
     "shell.execute_reply.started": "2025-07-30T22:52:48.236914Z"
    }
   },
   "outputs": [],
   "source": [
    "initial_model = np.zeros(simulation.n_params)\n",
    "inverted_model = minimizer(phi, initial_model)"
   ]
  },
  {
   "cell_type": "code",
   "execution_count": 33,
   "id": "82c1ddc2-d886-4cd1-a42d-1c32af5d4465",
   "metadata": {
    "execution": {
     "iopub.execute_input": "2025-07-30T22:52:54.205621Z",
     "iopub.status.busy": "2025-07-30T22:52:54.204945Z",
     "iopub.status.idle": "2025-07-30T22:52:54.227117Z",
     "shell.execute_reply": "2025-07-30T22:52:54.226371Z",
     "shell.execute_reply.started": "2025-07-30T22:52:54.205579Z"
    }
   },
   "outputs": [
    {
     "data": {
      "text/plain": [
       "array([-3.51593501e-04, -3.51169914e-04, -3.49052218e-04, ...,\n",
       "       -5.06597974e-05, -2.92118226e-05, -6.65393021e-05], shape=(64000,))"
      ]
     },
     "execution_count": 33,
     "metadata": {},
     "output_type": "execute_result"
    }
   ],
   "source": [
    "inverted_model"
   ]
  },
  {
   "cell_type": "code",
   "execution_count": 34,
   "id": "70b2b5ea-d6dd-4cf3-855c-9e8fd600c7cd",
   "metadata": {
    "execution": {
     "iopub.execute_input": "2025-07-30T22:52:54.228395Z",
     "iopub.status.busy": "2025-07-30T22:52:54.228030Z",
     "iopub.status.idle": "2025-07-30T22:52:54.423666Z",
     "shell.execute_reply": "2025-07-30T22:52:54.423018Z",
     "shell.execute_reply.started": "2025-07-30T22:52:54.228348Z"
    }
   },
   "outputs": [
    {
     "data": {
      "text/plain": [
       "(<matplotlib.collections.QuadMesh at 0x7fd9ecf00e10>,)"
      ]
     },
     "execution_count": 34,
     "metadata": {},
     "output_type": "execute_result"
    },
    {
     "data": {
      "image/png": "[encoded data removed]",
      "text/plain": [
       "<Figure size 640x480 with 1 Axes>"
      ]
     },
     "metadata": {},
     "output_type": "display_data"
    }
   ],
   "source": [
    "mesh.plot_slice(inverted_model, normal=\"Y\", slice_loc=0)"
   ]
  },
  {
   "cell_type": "markdown",
   "id": "0dbc46dd-b2bb-4ba6-9169-a2a69aed7ea2",
   "metadata": {},
   "source": [
    "## Run inversion with beta cooling"
   ]
  },
  {
   "cell_type": "code",
   "execution_count": null,
   "id": "cb11fced-830d-43f9-acaa-3746da410a87",
   "metadata": {},
   "outputs": [],
   "source": []
  }
 ],
 "metadata": {
  "kernelspec": {
   "display_name": "Python [conda env:inversion_ideas]",
   "language": "python",
   "name": "conda-env-inversion_ideas-py"
  },
  "language_info": {
   "codemirror_mode": {
    "name": "ipython",
    "version": 3
   },
   "file_extension": ".py",
   "mimetype": "text/x-python",
   "name": "python",
   "nbconvert_exporter": "python",
   "pygments_lexer": "ipython3",
   "version": "3.13.5"
  }
 },
 "nbformat": 4,
 "nbformat_minor": 5
}
