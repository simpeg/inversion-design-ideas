{
 "cells": [
  {
   "cell_type": "markdown",
   "id": "82fe362f-887b-449b-94ac-b3cb3409753b",
   "metadata": {},
   "source": [
    "# Objective function classes"
   ]
  },
  {
   "cell_type": "code",
   "execution_count": null,
   "id": "9c7bf36d-a763-46fd-ae2e-3ee77da99ce5",
   "metadata": {},
   "outputs": [],
   "source": [
    "from inversion_ideas.base import Objective"
   ]
  },
  {
   "cell_type": "markdown",
   "id": "ae9b658e-b5a2-4d24-8e2e-dd3c6b531338",
   "metadata": {},
   "source": [
    "## Subclassing"
   ]
  },
  {
   "cell_type": "code",
   "execution_count": null,
   "id": "e904dffb-c4e7-4a4c-8f18-9b57bb0182fa",
   "metadata": {},
   "outputs": [],
   "source": [
    "class Smallness(Objective):\n",
    "    def __init__(self, nparams):\n",
    "        self.nparams = nparams"
   ]
  },
  {
   "cell_type": "code",
   "execution_count": null,
   "id": "6e742ef3-c093-4ba3-b734-50da0bec9ce3",
   "metadata": {},
   "outputs": [],
   "source": [
    "smallness = Smallness(5)"
   ]
  },
  {
   "cell_type": "markdown",
   "id": "f816ebe0-840b-4501-8fb1-cfa43ee75f4c",
   "metadata": {},
   "source": [
    "## Operations"
   ]
  },
  {
   "cell_type": "code",
   "execution_count": null,
   "id": "fef67ff2-c861-4cb4-ac60-eddf920f5bb3",
   "metadata": {},
   "outputs": [],
   "source": [
    "class Dummy(Objective):\n",
    "    def __init__(self, n_params):\n",
    "        self._n_params = n_params\n",
    "\n",
    "    @property\n",
    "    def n_params(self):\n",
    "        return self._n_params\n",
    "        \n",
    "    def __call__(self, model):\n",
    "        pass\n",
    "        \n",
    "    def gradient(self, model):\n",
    "        pass\n",
    "        \n",
    "    def hessian(self, model):\n",
    "        pass"
   ]
  },
  {
   "cell_type": "code",
   "execution_count": null,
   "id": "09d52af6-eccb-4d22-ad4e-e6fd85f238e0",
   "metadata": {},
   "outputs": [],
   "source": [
    "n = 3"
   ]
  },
  {
   "cell_type": "code",
   "execution_count": null,
   "id": "e2455d31-95ef-499f-a875-ecef84640f8d",
   "metadata": {},
   "outputs": [],
   "source": [
    "a = Dummy(n).set_name(\"a\")\n",
    "a"
   ]
  },
  {
   "cell_type": "code",
   "execution_count": null,
   "id": "c434cdfb-314e-4a5d-96c6-85a5468c5ce8",
   "metadata": {},
   "outputs": [],
   "source": [
    "b = Dummy(n).set_name(\"b\")\n",
    "b"
   ]
  },
  {
   "cell_type": "code",
   "execution_count": null,
   "id": "bef566ac-0216-4248-9277-54653839601d",
   "metadata": {},
   "outputs": [],
   "source": [
    "phi = a + b\n",
    "phi"
   ]
  },
  {
   "cell_type": "code",
   "execution_count": null,
   "id": "b1a93e0b-db0b-4545-8662-8b1dc1427e68",
   "metadata": {},
   "outputs": [],
   "source": [
    "3.0 * a"
   ]
  },
  {
   "cell_type": "code",
   "execution_count": null,
   "id": "8a529a13-b548-412a-b913-6d5ee6b680ba",
   "metadata": {},
   "outputs": [],
   "source": [
    "phi = 3.0 * a + 5.1 * b\n",
    "phi"
   ]
  },
  {
   "cell_type": "code",
   "execution_count": null,
   "id": "2e194670-7df0-4e3e-a9c7-10844897557f",
   "metadata": {},
   "outputs": [],
   "source": [
    "c = Dummy(n).set_name(\"c\")\n",
    "c"
   ]
  },
  {
   "cell_type": "code",
   "execution_count": null,
   "id": "52268e45-86c9-4306-ab7e-989af06cc6fa",
   "metadata": {},
   "outputs": [],
   "source": [
    "phi = a + 5.1 * (2 * b + 3 * c)\n",
    "phi"
   ]
  },
  {
   "cell_type": "code",
   "execution_count": null,
   "id": "2876267a-643d-4b5a-8e7e-e535ea53572b",
   "metadata": {},
   "outputs": [],
   "source": [
    "phi = a + b + c\n",
    "phi"
   ]
  },
  {
   "cell_type": "markdown",
   "id": "0b585d5a-2264-4b4c-a90f-a623bfbb89bd",
   "metadata": {},
   "source": [
    "## Combo as a collection"
   ]
  },
  {
   "cell_type": "code",
   "execution_count": null,
   "id": "c7784624-1292-4788-bfb3-910a89ce41e7",
   "metadata": {},
   "outputs": [],
   "source": [
    "phi = (a + b + c).flatten()\n",
    "phi"
   ]
  },
  {
   "cell_type": "code",
   "execution_count": null,
   "id": "6c2d69af-3fbc-4e20-81cc-d373d60b93ba",
   "metadata": {},
   "outputs": [],
   "source": [
    "len(phi)"
   ]
  },
  {
   "cell_type": "code",
   "execution_count": null,
   "id": "2f6df79a-2334-4741-8dee-dda22b4c1e50",
   "metadata": {},
   "outputs": [],
   "source": [
    "for phi_i in phi:\n",
    "    print(phi_i)"
   ]
  },
  {
   "cell_type": "code",
   "execution_count": null,
   "id": "09753214-51b8-4be1-af2c-43ab5b199bd6",
   "metadata": {},
   "outputs": [],
   "source": [
    "phi[-1]"
   ]
  },
  {
   "cell_type": "code",
   "execution_count": null,
   "id": "415244fc-0e81-4e0b-bc6e-372d9e5d139e",
   "metadata": {},
   "outputs": [],
   "source": [
    "a in phi"
   ]
  },
  {
   "cell_type": "code",
   "execution_count": null,
   "id": "b9cb3a75-51ac-4d26-94e6-b838d56864d7",
   "metadata": {},
   "outputs": [],
   "source": [
    "d = Dummy(n).set_name(\"d\")\n",
    "d"
   ]
  },
  {
   "cell_type": "code",
   "execution_count": null,
   "id": "0caf38a3-3781-48ae-8d37-ad16badf3ff4",
   "metadata": {},
   "outputs": [],
   "source": [
    "d in phi"
   ]
  },
  {
   "cell_type": "markdown",
   "id": "653e9fcd-6562-4ae1-8aaf-ff3d48bbebd3",
   "metadata": {},
   "source": [
    "### Nested combos"
   ]
  },
  {
   "cell_type": "code",
   "execution_count": null,
   "id": "c6c8a70c-5d53-40a0-bb7c-548a99f5f20b",
   "metadata": {},
   "outputs": [],
   "source": [
    "phi = a + (b + c)\n",
    "phi"
   ]
  },
  {
   "cell_type": "code",
   "execution_count": null,
   "id": "c66d3222-a3a9-42b3-8504-95f38cb51285",
   "metadata": {},
   "outputs": [],
   "source": [
    "len(phi)"
   ]
  },
  {
   "cell_type": "code",
   "execution_count": null,
   "id": "d7e556ed-4796-4643-bf09-da50c264d02e",
   "metadata": {},
   "outputs": [],
   "source": [
    "phi[0]"
   ]
  },
  {
   "cell_type": "code",
   "execution_count": null,
   "id": "2e4a3236-8fc1-418a-b58d-418022037acf",
   "metadata": {},
   "outputs": [],
   "source": [
    "phi[1]"
   ]
  },
  {
   "cell_type": "code",
   "execution_count": null,
   "id": "3d826f27-62c1-4564-97b3-ed19c4117d23",
   "metadata": {},
   "outputs": [],
   "source": [
    "a in phi"
   ]
  },
  {
   "cell_type": "code",
   "execution_count": null,
   "id": "7881152b-0e07-46f2-b217-31f3e57cd248",
   "metadata": {},
   "outputs": [],
   "source": [
    "b in phi"
   ]
  },
  {
   "cell_type": "code",
   "execution_count": null,
   "id": "da23e742-9849-4d11-a442-9213acd99716",
   "metadata": {},
   "outputs": [],
   "source": [
    "phi.contains(b)"
   ]
  }
 ],
 "metadata": {
  "kernelspec": {
   "display_name": "Python [conda env:inversion_ideas]",
   "language": "python",
   "name": "conda-env-inversion_ideas-py"
  },
  "language_info": {
   "codemirror_mode": {
    "name": "ipython",
    "version": 3
   },
   "file_extension": ".py",
   "mimetype": "text/x-python",
   "name": "python",
   "nbconvert_exporter": "python",
   "pygments_lexer": "ipython3",
   "version": "3.13.5"
  }
 },
 "nbformat": 4,
 "nbformat_minor": 5
}
