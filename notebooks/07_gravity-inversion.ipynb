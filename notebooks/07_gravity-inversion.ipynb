{
 "cells": [
  {
   "cell_type": "markdown",
   "id": "c4b21011-75e3-4f3a-a357-e28fcaaabdf4",
   "metadata": {},
   "source": [
    "# Plug in SimPEG's gravity simulation into the new framework"
   ]
  },
  {
   "cell_type": "code",
   "execution_count": 1,
   "id": "b2d27e8b-5b33-4361-990b-8b6e724f5ac6",
   "metadata": {
    "execution": {
     "iopub.execute_input": "2025-08-13T19:19:34.830395Z",
     "iopub.status.busy": "2025-08-13T19:19:34.829717Z",
     "iopub.status.idle": "2025-08-13T19:19:36.648945Z",
     "shell.execute_reply": "2025-08-13T19:19:36.648315Z",
     "shell.execute_reply.started": "2025-08-13T19:19:34.830349Z"
    }
   },
   "outputs": [],
   "source": [
    "import discretize\n",
    "import harmonica as hm\n",
    "import matplotlib.pyplot as plt\n",
    "import numpy as np\n",
    "import pandas as pd\n",
    "import verde as vd\n",
    "from gravity import GravitySimulation\n",
    "from simpeg.maps import IdentityMap\n",
    "from simpeg.potential_fields.gravity import (\n",
    "    Point,\n",
    "    Simulation3DIntegral,\n",
    "    SourceField,\n",
    "    Survey,\n",
    ")\n",
    "from simpeg.utils import depth_weighting, model_builder\n",
    "\n",
    "import inversion_ideas as ii"
   ]
  },
  {
   "cell_type": "markdown",
   "id": "a7a0aea4-50f4-4eea-9b6e-e907c520534e",
   "metadata": {},
   "source": [
    "## Define synthetic data with two prisms"
   ]
  },
  {
   "cell_type": "code",
   "execution_count": 2,
   "id": "dfce90d3-de10-43d3-a668-696993b0f73e",
   "metadata": {
    "execution": {
     "iopub.execute_input": "2025-08-13T19:19:36.649869Z",
     "iopub.status.busy": "2025-08-13T19:19:36.649489Z",
     "iopub.status.idle": "2025-08-13T19:19:36.653752Z",
     "shell.execute_reply": "2025-08-13T19:19:36.653198Z",
     "shell.execute_reply.started": "2025-08-13T19:19:36.649844Z"
    }
   },
   "outputs": [],
   "source": [
    "prisms = [\n",
    "    (-60, -40, -10, 10, -70, -50),\n",
    "    (40, 60, -10, 10, -70, -50),\n",
    "]\n",
    "densities = np.array([-200, 200]) # SI units\n",
    "\n",
    "region = (-100, 100, -100, 100)\n",
    "shape = (31, 31)\n",
    "height = 0\n",
    "coordinates = vd.grid_coordinates(region, shape=shape, extra_coords=height)"
   ]
  },
  {
   "cell_type": "code",
   "execution_count": 3,
   "id": "2403d600-451e-424e-8de9-3f824f1e2647",
   "metadata": {
    "execution": {
     "iopub.execute_input": "2025-08-13T19:19:36.654716Z",
     "iopub.status.busy": "2025-08-13T19:19:36.654451Z",
     "iopub.status.idle": "2025-08-13T19:19:38.084789Z",
     "shell.execute_reply": "2025-08-13T19:19:38.084190Z",
     "shell.execute_reply.started": "2025-08-13T19:19:36.654690Z"
    }
   },
   "outputs": [
    {
     "name": "stdout",
     "output_type": "stream",
     "text": [
      "stderr=np.float64(2.5745854651805945e-05)\n"
     ]
    }
   ],
   "source": [
    "gz = hm.prism_gravity(\n",
    "    coordinates,\n",
    "    prisms,\n",
    "    densities,\n",
    "    field=\"g_z\"\n",
    ")\n",
    "gz *= -1  # Invert sign to work with upward component\n",
    "\n",
    "# Add noise\n",
    "stderr = vd.maxabs(gz) * 0.01\n",
    "gz += np.random.default_rng(seed=51).normal(scale=stderr, size=gz.shape)\n",
    "\n",
    "print(f\"{stderr=}\")"
   ]
  },
  {
   "cell_type": "code",
   "execution_count": 4,
   "id": "9612913a-b699-4ad4-8fe7-cbf83376f5d8",
   "metadata": {
    "execution": {
     "iopub.execute_input": "2025-08-13T19:19:38.085762Z",
     "iopub.status.busy": "2025-08-13T19:19:38.085416Z",
     "iopub.status.idle": "2025-08-13T19:19:38.257455Z",
     "shell.execute_reply": "2025-08-13T19:19:38.257003Z",
     "shell.execute_reply.started": "2025-08-13T19:19:38.085737Z"
    }
   },
   "outputs": [
    {
     "data": {
      "image/png": "[encoded data removed]",
      "text/plain": [
       "<Figure size 640x480 with 2 Axes>"
      ]
     },
     "metadata": {},
     "output_type": "display_data"
    }
   ],
   "source": [
    "tmp = plt.pcolormesh(*coordinates[:2], gz)\n",
    "plt.gca().set_aspect(\"equal\")\n",
    "plt.colorbar(tmp)\n",
    "plt.show()"
   ]
  },
  {
   "cell_type": "code",
   "execution_count": 5,
   "id": "f6d55c30-c5c9-4376-bc6d-ece83805b2d2",
   "metadata": {
    "execution": {
     "iopub.execute_input": "2025-08-13T19:19:38.258526Z",
     "iopub.status.busy": "2025-08-13T19:19:38.258231Z",
     "iopub.status.idle": "2025-08-13T19:19:38.262842Z",
     "shell.execute_reply": "2025-08-13T19:19:38.262277Z",
     "shell.execute_reply.started": "2025-08-13T19:19:38.258500Z"
    }
   },
   "outputs": [
    {
     "data": {
      "text/plain": [
       "961"
      ]
     },
     "execution_count": 5,
     "metadata": {},
     "output_type": "execute_result"
    }
   ],
   "source": [
    "gz.size"
   ]
  },
  {
   "cell_type": "markdown",
   "id": "d460a7fd-9eed-497f-9b41-2de3a08f5750",
   "metadata": {},
   "source": [
    "## Define SimPEG simulation"
   ]
  },
  {
   "cell_type": "code",
   "execution_count": 6,
   "id": "0edbb620-6a62-48bf-a8af-8981a76cc6f4",
   "metadata": {
    "execution": {
     "iopub.execute_input": "2025-08-13T19:19:38.264755Z",
     "iopub.status.busy": "2025-08-13T19:19:38.264509Z",
     "iopub.status.idle": "2025-08-13T19:19:38.272499Z",
     "shell.execute_reply": "2025-08-13T19:19:38.271929Z",
     "shell.execute_reply.started": "2025-08-13T19:19:38.264737Z"
    }
   },
   "outputs": [
    {
     "data": {
      "text/html": [
       "<table>\n",
       "  <tr>\n",
       "    <td style='font-weight: bold; font-size: 1.2em; text-align: center;' colspan='3'>TensorMesh</td>\n",
       "    <td style='font-size: 1.2em; text-align: center;'colspan='4'>64,000 cells</td>\n",
       "  </tr>\n",
       "  <tr>\n",
       "    <th></th>\n",
       "    <th></th>\n",
       "    <th colspan='2' style='padding: 5px 20px 5px 20px;'>MESH EXTENT</th>\n",
       "    <th colspan='2' style='padding: 5px 20px 5px 20px;'>CELL WIDTH</th>\n",
       "    <th style='padding: 5px 20px 5px 20px;'>FACTOR</th>\n",
       "  </tr>\n",
       "  <tr>\n",
       "    <th style='padding: 5px 20px 5px 20px;'>dir</th>\n",
       "    <th style='padding: 5px 20px 5px 20px;'>nC</th>\n",
       "    <th style='padding: 5px 20px 5px 20px;'>min</th>\n",
       "    <th style='padding: 5px 20px 5px 20px;'>max</th>\n",
       "    <th style='padding: 5px 20px 5px 20px;'>min</th>\n",
       "    <th style='padding: 5px 20px 5px 20px;'>max</th>\n",
       "    <th style='padding: 5px 20px 5px 20px;'>max</th>\n",
       "  </tr>\n",
       "  <tr>\n",
       "    <td style='padding: 5px 20px 5px 20px;'>x</td>\n",
       "    <td style='padding: 5px 20px 5px 20px;'>40</td>\n",
       "    <td style='padding: 5px 20px 5px 20px;'>-100.00</td>\n",
       "    <td style='padding: 5px 20px 5px 20px;'>100.00</td>\n",
       "    <td style='padding: 5px 20px 5px 20px;'>5.00</td>\n",
       "    <td style='padding: 5px 20px 5px 20px;'>5.00</td>\n",
       "    <td style='padding: 5px 20px 5px 20px;'>1.00</td>\n",
       "  </tr>\n",
       "  <tr>\n",
       "    <td style='padding: 5px 20px 5px 20px;'>y</td>\n",
       "    <td style='padding: 5px 20px 5px 20px;'>40</td>\n",
       "    <td style='padding: 5px 20px 5px 20px;'>-100.00</td>\n",
       "    <td style='padding: 5px 20px 5px 20px;'>100.00</td>\n",
       "    <td style='padding: 5px 20px 5px 20px;'>5.00</td>\n",
       "    <td style='padding: 5px 20px 5px 20px;'>5.00</td>\n",
       "    <td style='padding: 5px 20px 5px 20px;'>1.00</td>\n",
       "  </tr>\n",
       "  <tr>\n",
       "    <td style='padding: 5px 20px 5px 20px;'>z</td>\n",
       "    <td style='padding: 5px 20px 5px 20px;'>40</td>\n",
       "    <td style='padding: 5px 20px 5px 20px;'>-200.00</td>\n",
       "    <td style='padding: 5px 20px 5px 20px;'>0.00</td>\n",
       "    <td style='padding: 5px 20px 5px 20px;'>5.00</td>\n",
       "    <td style='padding: 5px 20px 5px 20px;'>5.00</td>\n",
       "    <td style='padding: 5px 20px 5px 20px;'>1.00</td>\n",
       "  </tr>\n",
       "</table>\n"
      ],
      "text/plain": [
       "\n",
       "  TensorMesh: 64,000 cells\n",
       "\n",
       "                      MESH EXTENT             CELL WIDTH      FACTOR\n",
       "  dir    nC        min           max         min       max      max\n",
       "  ---   ---  ---------------------------  ------------------  ------\n",
       "   x     40       -100.00        100.00      5.00      5.00    1.00\n",
       "   y     40       -100.00        100.00      5.00      5.00    1.00\n",
       "   z     40       -200.00          0.00      5.00      5.00    1.00\n"
      ]
     },
     "execution_count": 6,
     "metadata": {},
     "output_type": "execute_result"
    }
   ],
   "source": [
    "h = [(5.0, 40)]\n",
    "mesh = discretize.TensorMesh(h=[h, h, h], origin=\"CCN\")\n",
    "mesh"
   ]
  },
  {
   "cell_type": "code",
   "execution_count": 7,
   "id": "8a890b93-78ec-4681-bbb5-cc91e1448a85",
   "metadata": {
    "execution": {
     "iopub.execute_input": "2025-08-13T19:19:38.273210Z",
     "iopub.status.busy": "2025-08-13T19:19:38.273032Z",
     "iopub.status.idle": "2025-08-13T19:19:38.277229Z",
     "shell.execute_reply": "2025-08-13T19:19:38.276617Z",
     "shell.execute_reply.started": "2025-08-13T19:19:38.273193Z"
    }
   },
   "outputs": [],
   "source": [
    "locations = np.vstack(tuple(c.ravel() for c in coordinates)).T\n",
    "receivers = Point(locations, components=\"gz\")\n",
    "source = SourceField(receiver_list=[receivers])\n",
    "survey = Survey(source)"
   ]
  },
  {
   "cell_type": "code",
   "execution_count": 8,
   "id": "1dd17123-2df8-45b6-9345-d5cb6f431d51",
   "metadata": {
    "execution": {
     "iopub.execute_input": "2025-08-13T19:19:38.278416Z",
     "iopub.status.busy": "2025-08-13T19:19:38.278104Z",
     "iopub.status.idle": "2025-08-13T19:19:38.343099Z",
     "shell.execute_reply": "2025-08-13T19:19:38.342644Z",
     "shell.execute_reply.started": "2025-08-13T19:19:38.278383Z"
    }
   },
   "outputs": [],
   "source": [
    "simulation_simpeg = Simulation3DIntegral(mesh, survey=survey, rhoMap=IdentityMap(mesh))"
   ]
  },
  {
   "cell_type": "code",
   "execution_count": 9,
   "id": "b4c9ad67-47fe-4408-b879-d99b8eec8ca2",
   "metadata": {
    "execution": {
     "iopub.execute_input": "2025-08-13T19:19:38.343786Z",
     "iopub.status.busy": "2025-08-13T19:19:38.343599Z",
     "iopub.status.idle": "2025-08-13T19:19:38.346794Z",
     "shell.execute_reply": "2025-08-13T19:19:38.346326Z",
     "shell.execute_reply.started": "2025-08-13T19:19:38.343768Z"
    }
   },
   "outputs": [],
   "source": [
    "def block_corners(prism):\n",
    "    p0 = np.array([prism[0], prism[2], prism[4]])\n",
    "    p1 = np.array([prism[1], prism[3], prism[5]])\n",
    "    return p0, p1"
   ]
  },
  {
   "cell_type": "code",
   "execution_count": 10,
   "id": "ffc07711-d8e3-49cf-9574-f2bde45ceec8",
   "metadata": {
    "execution": {
     "iopub.execute_input": "2025-08-13T19:19:38.347633Z",
     "iopub.status.busy": "2025-08-13T19:19:38.347389Z",
     "iopub.status.idle": "2025-08-13T19:19:38.355637Z",
     "shell.execute_reply": "2025-08-13T19:19:38.354923Z",
     "shell.execute_reply.started": "2025-08-13T19:19:38.347607Z"
    }
   },
   "outputs": [
    {
     "name": "stdout",
     "output_type": "stream",
     "text": [
      "[-0.2  0.2]\n"
     ]
    }
   ],
   "source": [
    "model = np.zeros(mesh.n_cells)\n",
    "densities_gcc = densities * 1e-3\n",
    "print(densities_gcc)\n",
    "\n",
    "for prism, density in zip(prisms, densities_gcc, strict=True):\n",
    "    p0, p1 = block_corners(prism)\n",
    "    model = model_builder.add_block(mesh.cell_centers, model, p0, p1, density)"
   ]
  },
  {
   "cell_type": "code",
   "execution_count": 11,
   "id": "0b89b688-a595-4ff3-81e3-8bba4d4ef7c8",
   "metadata": {
    "execution": {
     "iopub.execute_input": "2025-08-13T19:19:38.356438Z",
     "iopub.status.busy": "2025-08-13T19:19:38.356230Z",
     "iopub.status.idle": "2025-08-13T19:19:38.534262Z",
     "shell.execute_reply": "2025-08-13T19:19:38.533497Z",
     "shell.execute_reply.started": "2025-08-13T19:19:38.356418Z"
    }
   },
   "outputs": [
    {
     "data": {
      "text/plain": [
       "(<matplotlib.collections.QuadMesh at 0x7fc659975090>,)"
      ]
     },
     "execution_count": 11,
     "metadata": {},
     "output_type": "execute_result"
    },
    {
     "data": {
      "image/png": "[encoded data removed]",
      "text/plain": [
       "<Figure size 640x480 with 1 Axes>"
      ]
     },
     "metadata": {},
     "output_type": "display_data"
    }
   ],
   "source": [
    "mesh.plot_slice(model, normal=\"Y\", slice_loc=0)"
   ]
  },
  {
   "cell_type": "code",
   "execution_count": 12,
   "id": "ff50fbfa-9dd4-4c01-a8eb-245c3c0706a0",
   "metadata": {
    "execution": {
     "iopub.execute_input": "2025-08-13T19:19:38.535247Z",
     "iopub.status.busy": "2025-08-13T19:19:38.534999Z",
     "iopub.status.idle": "2025-08-13T19:19:42.902025Z",
     "shell.execute_reply": "2025-08-13T19:19:42.901434Z",
     "shell.execute_reply.started": "2025-08-13T19:19:38.535228Z"
    }
   },
   "outputs": [],
   "source": [
    "dpred = simulation_simpeg.dpred(model)"
   ]
  },
  {
   "cell_type": "code",
   "execution_count": 13,
   "id": "094b1d30-c610-44ca-968b-7257aacbaa91",
   "metadata": {
    "execution": {
     "iopub.execute_input": "2025-08-13T19:19:42.903995Z",
     "iopub.status.busy": "2025-08-13T19:19:42.902720Z",
     "iopub.status.idle": "2025-08-13T19:19:43.067569Z",
     "shell.execute_reply": "2025-08-13T19:19:43.066934Z",
     "shell.execute_reply.started": "2025-08-13T19:19:42.903965Z"
    }
   },
   "outputs": [
    {
     "data": {
      "image/png": "[encoded data removed]",
      "text/plain": [
       "<Figure size 640x480 with 2 Axes>"
      ]
     },
     "metadata": {},
     "output_type": "display_data"
    }
   ],
   "source": [
    "tmp = plt.pcolormesh(*coordinates[:2], dpred.reshape(coordinates[0].shape))\n",
    "plt.gca().set_aspect(\"equal\")\n",
    "plt.colorbar(tmp)\n",
    "plt.show()"
   ]
  },
  {
   "cell_type": "markdown",
   "id": "137e7314-b148-46d9-b3b6-01496aaf8da4",
   "metadata": {},
   "source": [
    "## Define (simple) inversion using the new framework"
   ]
  },
  {
   "cell_type": "markdown",
   "id": "001ed1bb-6919-486b-a954-4bd54de79b4e",
   "metadata": {},
   "source": [
    "Wrap SimPEG's simulation into a child of the new `Simulation` class:"
   ]
  },
  {
   "cell_type": "code",
   "execution_count": 14,
   "id": "a4303772-cfe0-45ed-90ec-c1caad768f39",
   "metadata": {
    "execution": {
     "iopub.execute_input": "2025-08-13T19:19:43.068496Z",
     "iopub.status.busy": "2025-08-13T19:19:43.068280Z",
     "iopub.status.idle": "2025-08-13T19:19:43.072113Z",
     "shell.execute_reply": "2025-08-13T19:19:43.071497Z",
     "shell.execute_reply.started": "2025-08-13T19:19:43.068479Z"
    }
   },
   "outputs": [],
   "source": [
    "simulation = GravitySimulation(simulation_simpeg)"
   ]
  },
  {
   "cell_type": "code",
   "execution_count": 15,
   "id": "956f31ab-ed45-432f-a788-15cf73febf14",
   "metadata": {
    "execution": {
     "iopub.execute_input": "2025-08-13T19:19:43.073160Z",
     "iopub.status.busy": "2025-08-13T19:19:43.072883Z",
     "iopub.status.idle": "2025-08-13T19:19:43.092235Z",
     "shell.execute_reply": "2025-08-13T19:19:43.091562Z",
     "shell.execute_reply.started": "2025-08-13T19:19:43.073134Z"
    }
   },
   "outputs": [],
   "source": [
    "dpred = simulation(model)"
   ]
  },
  {
   "cell_type": "code",
   "execution_count": 16,
   "id": "fd1dfb8c-fe88-4a46-b59e-70baaec550f7",
   "metadata": {
    "execution": {
     "iopub.execute_input": "2025-08-13T19:19:43.093306Z",
     "iopub.status.busy": "2025-08-13T19:19:43.092908Z",
     "iopub.status.idle": "2025-08-13T19:19:43.284294Z",
     "shell.execute_reply": "2025-08-13T19:19:43.283714Z",
     "shell.execute_reply.started": "2025-08-13T19:19:43.093279Z"
    }
   },
   "outputs": [
    {
     "data": {
      "image/png": "[encoded data removed]",
      "text/plain": [
       "<Figure size 640x480 with 2 Axes>"
      ]
     },
     "metadata": {},
     "output_type": "display_data"
    }
   ],
   "source": [
    "tmp = plt.pcolormesh(*coordinates[:2], dpred.reshape(coordinates[0].shape))\n",
    "plt.gca().set_aspect(\"equal\")\n",
    "plt.colorbar(tmp)\n",
    "plt.show()"
   ]
  },
  {
   "cell_type": "code",
   "execution_count": 17,
   "id": "e916f176-b4b7-427a-847c-a282f85640a5",
   "metadata": {
    "execution": {
     "iopub.execute_input": "2025-08-13T19:19:43.285100Z",
     "iopub.status.busy": "2025-08-13T19:19:43.284879Z",
     "iopub.status.idle": "2025-08-13T19:19:43.289618Z",
     "shell.execute_reply": "2025-08-13T19:19:43.288955Z",
     "shell.execute_reply.started": "2025-08-13T19:19:43.285075Z"
    }
   },
   "outputs": [
    {
     "data": {
      "text/plain": [
       "<961x64000 _CustomLinearOperator with dtype=float64>"
      ]
     },
     "execution_count": 17,
     "metadata": {},
     "output_type": "execute_result"
    }
   ],
   "source": [
    "simulation.jacobian(model)"
   ]
  },
  {
   "cell_type": "code",
   "execution_count": 18,
   "id": "c862c062-c7e2-4d7b-8825-109fa7072bdd",
   "metadata": {
    "execution": {
     "iopub.execute_input": "2025-08-13T19:19:43.291004Z",
     "iopub.status.busy": "2025-08-13T19:19:43.290537Z",
     "iopub.status.idle": "2025-08-13T19:19:43.294937Z",
     "shell.execute_reply": "2025-08-13T19:19:43.294258Z",
     "shell.execute_reply.started": "2025-08-13T19:19:43.290953Z"
    }
   },
   "outputs": [],
   "source": [
    "uncertainties = stderr * np.ones(gz.size)\n",
    "data_misfit = ii.DataMisfit(gz.ravel(), uncertainties, simulation)"
   ]
  },
  {
   "cell_type": "code",
   "execution_count": 19,
   "id": "9042f903-4d02-4abe-9de1-2dfacfb3b3a0",
   "metadata": {
    "execution": {
     "iopub.execute_input": "2025-08-13T19:19:43.295892Z",
     "iopub.status.busy": "2025-08-13T19:19:43.295563Z",
     "iopub.status.idle": "2025-08-13T19:19:43.302406Z",
     "shell.execute_reply": "2025-08-13T19:19:43.301820Z",
     "shell.execute_reply.started": "2025-08-13T19:19:43.295861Z"
    }
   },
   "outputs": [],
   "source": [
    "volume_weights = mesh.cell_volumes\n",
    "depth_weights = depth_weighting(mesh, 0)\n",
    "smallness = ii.TikhonovZero(\n",
    "    n_params=simulation.n_params, weights=volume_weights * depth_weights\n",
    ")"
   ]
  },
  {
   "cell_type": "code",
   "execution_count": 20,
   "id": "ae115d7f-6b08-4c4e-b5f3-7277c24a49e4",
   "metadata": {
    "execution": {
     "iopub.execute_input": "2025-08-13T19:19:43.303377Z",
     "iopub.status.busy": "2025-08-13T19:19:43.303094Z",
     "iopub.status.idle": "2025-08-13T19:19:43.306336Z",
     "shell.execute_reply": "2025-08-13T19:19:43.305740Z",
     "shell.execute_reply.started": "2025-08-13T19:19:43.303350Z"
    }
   },
   "outputs": [],
   "source": [
    "phi = data_misfit + 1e2 * smallness"
   ]
  },
  {
   "cell_type": "code",
   "execution_count": 21,
   "id": "9bfe71bd-5dae-4eea-91ad-543d80596363",
   "metadata": {
    "execution": {
     "iopub.execute_input": "2025-08-13T19:19:43.310012Z",
     "iopub.status.busy": "2025-08-13T19:19:43.309577Z",
     "iopub.status.idle": "2025-08-13T19:19:43.313141Z",
     "shell.execute_reply": "2025-08-13T19:19:43.312368Z",
     "shell.execute_reply.started": "2025-08-13T19:19:43.309991Z"
    }
   },
   "outputs": [],
   "source": [
    "minimizer = ii.ConjugateGradient()"
   ]
  },
  {
   "cell_type": "code",
   "execution_count": 22,
   "id": "e2dfb4e8-1996-4f3f-8b05-781fc2d4537c",
   "metadata": {
    "execution": {
     "iopub.execute_input": "2025-08-13T19:19:43.314129Z",
     "iopub.status.busy": "2025-08-13T19:19:43.313905Z",
     "iopub.status.idle": "2025-08-13T19:19:59.050874Z",
     "shell.execute_reply": "2025-08-13T19:19:59.050129Z",
     "shell.execute_reply.started": "2025-08-13T19:19:43.314109Z"
    }
   },
   "outputs": [],
   "source": [
    "initial_model = np.zeros(simulation.n_params)\n",
    "inverted_model = minimizer(phi, initial_model)"
   ]
  },
  {
   "cell_type": "code",
   "execution_count": 23,
   "id": "82c1ddc2-d886-4cd1-a42d-1c32af5d4465",
   "metadata": {
    "execution": {
     "iopub.execute_input": "2025-08-13T19:19:59.051968Z",
     "iopub.status.busy": "2025-08-13T19:19:59.051699Z",
     "iopub.status.idle": "2025-08-13T19:19:59.062625Z",
     "shell.execute_reply": "2025-08-13T19:19:59.061989Z",
     "shell.execute_reply.started": "2025-08-13T19:19:59.051939Z"
    }
   },
   "outputs": [
    {
     "data": {
      "text/plain": [
       "array([-0.00016457, -0.00016604, -0.00016616, ..., -0.00027763,\n",
       "        0.0003595 , -0.00030917], shape=(64000,))"
      ]
     },
     "execution_count": 23,
     "metadata": {},
     "output_type": "execute_result"
    }
   ],
   "source": [
    "inverted_model"
   ]
  },
  {
   "cell_type": "code",
   "execution_count": 24,
   "id": "70b2b5ea-d6dd-4cf3-855c-9e8fd600c7cd",
   "metadata": {
    "execution": {
     "iopub.execute_input": "2025-08-13T19:19:59.065474Z",
     "iopub.status.busy": "2025-08-13T19:19:59.064424Z",
     "iopub.status.idle": "2025-08-13T19:19:59.236728Z",
     "shell.execute_reply": "2025-08-13T19:19:59.235971Z",
     "shell.execute_reply.started": "2025-08-13T19:19:59.065440Z"
    }
   },
   "outputs": [
    {
     "data": {
      "text/plain": [
       "(<matplotlib.collections.QuadMesh at 0x7fc658166e90>,)"
      ]
     },
     "execution_count": 24,
     "metadata": {},
     "output_type": "execute_result"
    },
    {
     "data": {
      "image/png": "[encoded data removed]",
      "text/plain": [
       "<Figure size 640x480 with 1 Axes>"
      ]
     },
     "metadata": {},
     "output_type": "display_data"
    }
   ],
   "source": [
    "mesh.plot_slice(inverted_model, normal=\"Y\", slice_loc=0)"
   ]
  },
  {
   "cell_type": "markdown",
   "id": "3b4d1179",
   "metadata": {},
   "source": [
    "## Run inversion with beta cooling"
   ]
  },
  {
   "cell_type": "code",
   "execution_count": 25,
   "id": "5b2bad7d",
   "metadata": {
    "execution": {
     "iopub.execute_input": "2025-08-13T19:19:59.237622Z",
     "iopub.status.busy": "2025-08-13T19:19:59.237380Z",
     "iopub.status.idle": "2025-08-13T19:19:59.242282Z",
     "shell.execute_reply": "2025-08-13T19:19:59.241740Z",
     "shell.execute_reply.started": "2025-08-13T19:19:59.237606Z"
    }
   },
   "outputs": [
    {
     "data": {
      "text/latex": [
       "$ \\phi_{d} (m) + 1.00 \\cdot 10^{4} \\, \\phi_{s} (m) $"
      ],
      "text/plain": [
       "φd(m) + 1.00e+04 φs(m)"
      ]
     },
     "execution_count": 25,
     "metadata": {},
     "output_type": "execute_result"
    }
   ],
   "source": [
    "beta_0 = 1e4\n",
    "regularization = beta_0 * smallness\n",
    "phi = data_misfit + regularization\n",
    "\n",
    "phi"
   ]
  },
  {
   "cell_type": "code",
   "execution_count": 26,
   "id": "c2f9a98a",
   "metadata": {
    "execution": {
     "iopub.execute_input": "2025-08-13T19:19:59.243254Z",
     "iopub.status.busy": "2025-08-13T19:19:59.242898Z",
     "iopub.status.idle": "2025-08-13T19:19:59.248839Z",
     "shell.execute_reply": "2025-08-13T19:19:59.248174Z",
     "shell.execute_reply.started": "2025-08-13T19:19:59.243236Z"
    }
   },
   "outputs": [],
   "source": [
    "# Initial model\n",
    "initial_model = np.zeros(simulation.n_params)\n",
    "\n",
    "# Minimizer\n",
    "minimizer = ii.ConjugateGradient()\n",
    "\n",
    "# Stopping criteria\n",
    "chi_target = 1.0\n",
    "stopping_criteria = ii.ChiTarget(data_misfit, chi_target=chi_target)\n",
    "\n",
    "# Beta cooling\n",
    "beta_cooler = ii.MultiplierCooler(regularization, cooling_factor=2.0)\n",
    "\n",
    "# Inversion\n",
    "inversion = ii.Inversion(\n",
    "    phi,\n",
    "    initial_model,\n",
    "    minimizer,\n",
    "    directives=[beta_cooler],\n",
    "    stopping_criteria=stopping_criteria,\n",
    "    cache_models=True,\n",
    ")"
   ]
  },
  {
   "cell_type": "code",
   "execution_count": 27,
   "id": "e8b52457-d02e-44d6-a3f4-6038e4be9969",
   "metadata": {
    "execution": {
     "iopub.execute_input": "2025-08-13T19:19:59.249805Z",
     "iopub.status.busy": "2025-08-13T19:19:59.249545Z",
     "iopub.status.idle": "2025-08-13T19:19:59.254104Z",
     "shell.execute_reply": "2025-08-13T19:19:59.253224Z",
     "shell.execute_reply.started": "2025-08-13T19:19:59.249777Z"
    }
   },
   "outputs": [],
   "source": [
    "# We can add more columns to the log\n",
    "inversion.log.columns[\"chi_target hit?\"] = lambda _, model: stopping_criteria(model)"
   ]
  },
  {
   "cell_type": "code",
   "execution_count": 28,
   "id": "92ab4716",
   "metadata": {
    "execution": {
     "iopub.execute_input": "2025-08-13T19:19:59.255209Z",
     "iopub.status.busy": "2025-08-13T19:19:59.254922Z",
     "iopub.status.idle": "2025-08-13T19:20:34.829652Z",
     "shell.execute_reply": "2025-08-13T19:20:34.828976Z",
     "shell.execute_reply.started": "2025-08-13T19:19:59.255181Z"
    }
   },
   "outputs": [
    {
     "data": {
      "application/vnd.jupyter.widget-view+json": {
       "model_id": "0aae72453b8040ffbb85ed77a9ffc561",
       "version_major": 2,
       "version_minor": 0
      },
      "text/plain": [
       "Output()"
      ]
     },
     "metadata": {},
     "output_type": "display_data"
    },
    {
     "name": "stderr",
     "output_type": "stream",
     "text": [
      "INFO: 🎉 Inversion successfully finished due to stopping critiera.\n"
     ]
    },
    {
     "data": {
      "text/html": [
       "<pre style=\"white-space:pre;overflow-x:auto;line-height:normal;font-family:Menlo,'DejaVu Sans Mono',consolas,'Courier New',monospace\"></pre>\n"
      ],
      "text/plain": []
     },
     "metadata": {},
     "output_type": "display_data"
    },
    {
     "data": {
      "text/plain": [
       "array([-2.68665459e-04, -2.71334991e-04, -2.72482755e-04, ...,\n",
       "       -6.95802580e-05,  8.31119250e-06, -1.14153215e-04], shape=(64000,))"
      ]
     },
     "execution_count": 28,
     "metadata": {},
     "output_type": "execute_result"
    }
   ],
   "source": [
    "inversion.run()"
   ]
  },
  {
   "cell_type": "code",
   "execution_count": 29,
   "id": "15a9a4ca-c6b5-443c-8d9b-22c4bd883f1b",
   "metadata": {
    "execution": {
     "iopub.execute_input": "2025-08-13T19:20:34.831806Z",
     "iopub.status.busy": "2025-08-13T19:20:34.831454Z",
     "iopub.status.idle": "2025-08-13T19:20:34.842345Z",
     "shell.execute_reply": "2025-08-13T19:20:34.841709Z",
     "shell.execute_reply.started": "2025-08-13T19:20:34.831780Z"
    }
   },
   "outputs": [
    {
     "data": {
      "text/html": [
       "<pre style=\"white-space:pre;overflow-x:auto;line-height:normal;font-family:Menlo,'DejaVu Sans Mono',consolas,'Courier New',monospace\">┏━━━━━━┳━━━━━━━━━━┳━━━━━━━━━━┳━━━━━━━━━━┳━━━━━━━━━━┳━━━━━━━━━━┳━━━━━━━━━━┳━━━━━━━━━━━━━━━━━┓\n",
       "┃<span style=\"font-weight: bold\"> iter </span>┃<span style=\"font-weight: bold\"> β        </span>┃<span style=\"font-weight: bold\"> φ_d(m)   </span>┃<span style=\"font-weight: bold\"> φ_m(m)   </span>┃<span style=\"font-weight: bold\"> β φ_m(m) </span>┃<span style=\"font-weight: bold\"> φ        </span>┃<span style=\"font-weight: bold\"> χ        </span>┃<span style=\"font-weight: bold\"> chi_target hit? </span>┃\n",
       "┡━━━━━━╇━━━━━━━━━━╇━━━━━━━━━━╇━━━━━━━━━━╇━━━━━━━━━━╇━━━━━━━━━━╇━━━━━━━━━━╇━━━━━━━━━━━━━━━━━┩\n",
       "│ 0    │ 1.00e+04 │ 1.67e+06 │ 0.00e+00 │ 0.00e+00 │ 1.67e+06 │ 1.74e+03 │ False           │\n",
       "│ 1    │ 1.00e+04 │ 9.16e+03 │ 6.95e+00 │ 6.95e+04 │ 7.87e+04 │ 9.53e+00 │ False           │\n",
       "│ 2    │ 5.00e+03 │ 3.43e+03 │ 7.73e+00 │ 3.86e+04 │ 4.21e+04 │ 3.57e+00 │ False           │\n",
       "│ 3    │ 2.50e+03 │ 1.44e+03 │ 8.27e+00 │ 2.07e+04 │ 2.21e+04 │ 1.50e+00 │ False           │\n",
       "│ 4    │ 1.25e+03 │ 7.13e+02 │ 8.67e+00 │ 1.08e+04 │ 1.15e+04 │ 7.42e-01 │ True            │\n",
       "└──────┴──────────┴──────────┴──────────┴──────────┴──────────┴──────────┴─────────────────┘\n",
       "</pre>\n"
      ],
      "text/plain": [
       "┏━━━━━━┳━━━━━━━━━━┳━━━━━━━━━━┳━━━━━━━━━━┳━━━━━━━━━━┳━━━━━━━━━━┳━━━━━━━━━━┳━━━━━━━━━━━━━━━━━┓\n",
       "┃\u001b[1m \u001b[0m\u001b[1miter\u001b[0m\u001b[1m \u001b[0m┃\u001b[1m \u001b[0m\u001b[1mβ       \u001b[0m\u001b[1m \u001b[0m┃\u001b[1m \u001b[0m\u001b[1mφ_d(m)  \u001b[0m\u001b[1m \u001b[0m┃\u001b[1m \u001b[0m\u001b[1mφ_m(m)  \u001b[0m\u001b[1m \u001b[0m┃\u001b[1m \u001b[0m\u001b[1mβ φ_m(m)\u001b[0m\u001b[1m \u001b[0m┃\u001b[1m \u001b[0m\u001b[1mφ       \u001b[0m\u001b[1m \u001b[0m┃\u001b[1m \u001b[0m\u001b[1mχ       \u001b[0m\u001b[1m \u001b[0m┃\u001b[1m \u001b[0m\u001b[1mchi_target hit?\u001b[0m\u001b[1m \u001b[0m┃\n",
       "┡━━━━━━╇━━━━━━━━━━╇━━━━━━━━━━╇━━━━━━━━━━╇━━━━━━━━━━╇━━━━━━━━━━╇━━━━━━━━━━╇━━━━━━━━━━━━━━━━━┩\n",
       "│ 0    │ 1.00e+04 │ 1.67e+06 │ 0.00e+00 │ 0.00e+00 │ 1.67e+06 │ 1.74e+03 │ False           │\n",
       "│ 1    │ 1.00e+04 │ 9.16e+03 │ 6.95e+00 │ 6.95e+04 │ 7.87e+04 │ 9.53e+00 │ False           │\n",
       "│ 2    │ 5.00e+03 │ 3.43e+03 │ 7.73e+00 │ 3.86e+04 │ 4.21e+04 │ 3.57e+00 │ False           │\n",
       "│ 3    │ 2.50e+03 │ 1.44e+03 │ 8.27e+00 │ 2.07e+04 │ 2.21e+04 │ 1.50e+00 │ False           │\n",
       "│ 4    │ 1.25e+03 │ 7.13e+02 │ 8.67e+00 │ 1.08e+04 │ 1.15e+04 │ 7.42e-01 │ True            │\n",
       "└──────┴──────────┴──────────┴──────────┴──────────┴──────────┴──────────┴─────────────────┘\n"
      ]
     },
     "execution_count": 29,
     "metadata": {},
     "output_type": "execute_result"
    }
   ],
   "source": [
    "inversion.log.table"
   ]
  },
  {
   "cell_type": "code",
   "execution_count": 30,
   "id": "519f2172",
   "metadata": {
    "execution": {
     "iopub.execute_input": "2025-08-13T19:20:34.843421Z",
     "iopub.status.busy": "2025-08-13T19:20:34.843069Z",
     "iopub.status.idle": "2025-08-13T19:20:34.871292Z",
     "shell.execute_reply": "2025-08-13T19:20:34.870696Z",
     "shell.execute_reply.started": "2025-08-13T19:20:34.843395Z"
    }
   },
   "outputs": [
    {
     "data": {
      "text/html": [
       "<div>\n",
       "<style scoped>\n",
       "    .dataframe tbody tr th:only-of-type {\n",
       "        vertical-align: middle;\n",
       "    }\n",
       "\n",
       "    .dataframe tbody tr th {\n",
       "        vertical-align: top;\n",
       "    }\n",
       "\n",
       "    .dataframe thead th {\n",
       "        text-align: right;\n",
       "    }\n",
       "</style>\n",
       "<table border=\"1\" class=\"dataframe\">\n",
       "  <thead>\n",
       "    <tr style=\"text-align: right;\">\n",
       "      <th></th>\n",
       "      <th>β</th>\n",
       "      <th>φ_d(m)</th>\n",
       "      <th>φ_m(m)</th>\n",
       "      <th>β φ_m(m)</th>\n",
       "      <th>φ</th>\n",
       "      <th>χ</th>\n",
       "      <th>chi_target hit?</th>\n",
       "    </tr>\n",
       "    <tr>\n",
       "      <th>iter</th>\n",
       "      <th></th>\n",
       "      <th></th>\n",
       "      <th></th>\n",
       "      <th></th>\n",
       "      <th></th>\n",
       "      <th></th>\n",
       "      <th></th>\n",
       "    </tr>\n",
       "  </thead>\n",
       "  <tbody>\n",
       "    <tr>\n",
       "      <th>0</th>\n",
       "      <td>10000.0</td>\n",
       "      <td>1.667546e+06</td>\n",
       "      <td>0.000000</td>\n",
       "      <td>0.000000</td>\n",
       "      <td>1.667546e+06</td>\n",
       "      <td>1735.219131</td>\n",
       "      <td>False</td>\n",
       "    </tr>\n",
       "    <tr>\n",
       "      <th>1</th>\n",
       "      <td>10000.0</td>\n",
       "      <td>9.161868e+03</td>\n",
       "      <td>6.949686</td>\n",
       "      <td>69496.858921</td>\n",
       "      <td>7.865873e+04</td>\n",
       "      <td>9.533682</td>\n",
       "      <td>False</td>\n",
       "    </tr>\n",
       "    <tr>\n",
       "      <th>2</th>\n",
       "      <td>5000.0</td>\n",
       "      <td>3.426773e+03</td>\n",
       "      <td>7.728977</td>\n",
       "      <td>38644.884162</td>\n",
       "      <td>4.207166e+04</td>\n",
       "      <td>3.565841</td>\n",
       "      <td>False</td>\n",
       "    </tr>\n",
       "    <tr>\n",
       "      <th>3</th>\n",
       "      <td>2500.0</td>\n",
       "      <td>1.441418e+03</td>\n",
       "      <td>8.268061</td>\n",
       "      <td>20670.152010</td>\n",
       "      <td>2.211157e+04</td>\n",
       "      <td>1.499915</td>\n",
       "      <td>False</td>\n",
       "    </tr>\n",
       "    <tr>\n",
       "      <th>4</th>\n",
       "      <td>1250.0</td>\n",
       "      <td>7.126251e+02</td>\n",
       "      <td>8.667543</td>\n",
       "      <td>10834.428659</td>\n",
       "      <td>1.154705e+04</td>\n",
       "      <td>0.741545</td>\n",
       "      <td>True</td>\n",
       "    </tr>\n",
       "  </tbody>\n",
       "</table>\n",
       "</div>"
      ],
      "text/plain": [
       "            β        φ_d(m)    φ_m(m)      β φ_m(m)             φ  \\\n",
       "iter                                                                \n",
       "0     10000.0  1.667546e+06  0.000000      0.000000  1.667546e+06   \n",
       "1     10000.0  9.161868e+03  6.949686  69496.858921  7.865873e+04   \n",
       "2      5000.0  3.426773e+03  7.728977  38644.884162  4.207166e+04   \n",
       "3      2500.0  1.441418e+03  8.268061  20670.152010  2.211157e+04   \n",
       "4      1250.0  7.126251e+02  8.667543  10834.428659  1.154705e+04   \n",
       "\n",
       "                χ  chi_target hit?  \n",
       "iter                                \n",
       "0     1735.219131            False  \n",
       "1        9.533682            False  \n",
       "2        3.565841            False  \n",
       "3        1.499915            False  \n",
       "4        0.741545             True  "
      ]
     },
     "execution_count": 30,
     "metadata": {},
     "output_type": "execute_result"
    }
   ],
   "source": [
    "log = pd.DataFrame(inversion.log.log).set_index(\"iter\")\n",
    "log"
   ]
  },
  {
   "cell_type": "code",
   "execution_count": 31,
   "id": "c941b221",
   "metadata": {
    "execution": {
     "iopub.execute_input": "2025-08-13T19:20:34.872280Z",
     "iopub.status.busy": "2025-08-13T19:20:34.872001Z",
     "iopub.status.idle": "2025-08-13T19:20:35.250091Z",
     "shell.execute_reply": "2025-08-13T19:20:35.249158Z",
     "shell.execute_reply.started": "2025-08-13T19:20:34.872258Z"
    }
   },
   "outputs": [
    {
     "ename": "AttributeError",
     "evalue": "'DataFrame' object has no attribute 'beta'",
     "output_type": "error",
     "traceback": [
      "\u001b[31m---------------------------------------------------------------------------\u001b[39m",
      "\u001b[31mAttributeError\u001b[39m                            Traceback (most recent call last)",
      "\u001b[32m/tmp/ipykernel_27683/220773028.py\u001b[39m in \u001b[36m?\u001b[39m\u001b[34m()\u001b[39m\n\u001b[32m      1\u001b[39m fig, axes = plt.subplots(nrows=\u001b[32m3\u001b[39m, ncols=\u001b[32m1\u001b[39m, sharex=\u001b[38;5;28;01mTrue\u001b[39;00m, figsize=(\u001b[32m6\u001b[39m, \u001b[32m8\u001b[39m))\n\u001b[32m----> \u001b[39m\u001b[32m2\u001b[39m axes[\u001b[32m0\u001b[39m].plot(log.index, log.beta, \u001b[33m\"o-\"\u001b[39m)\n\u001b[32m      3\u001b[39m axes[\u001b[32m0\u001b[39m].set_ylabel(\u001b[33m\"Beta\"\u001b[39m)\n\u001b[32m      4\u001b[39m \n\u001b[32m      5\u001b[39m axes[\u001b[32m1\u001b[39m].plot(log.index, log.phi_d, \u001b[33m\"o-\"\u001b[39m)\n",
      "\u001b[32m~/.miniforge3/envs/inversion_ideas/lib/python3.13/site-packages/pandas/core/generic.py\u001b[39m in \u001b[36m?\u001b[39m\u001b[34m(self, name)\u001b[39m\n\u001b[32m   6314\u001b[39m             \u001b[38;5;28;01mand\u001b[39;00m name \u001b[38;5;28;01mnot\u001b[39;00m \u001b[38;5;28;01min\u001b[39;00m self._accessors\n\u001b[32m   6315\u001b[39m             \u001b[38;5;28;01mand\u001b[39;00m self._info_axis._can_hold_identifiers_and_holds_name(name)\n\u001b[32m   6316\u001b[39m         ):\n\u001b[32m   6317\u001b[39m             \u001b[38;5;28;01mreturn\u001b[39;00m self[name]\n\u001b[32m-> \u001b[39m\u001b[32m6318\u001b[39m         \u001b[38;5;28;01mreturn\u001b[39;00m object.__getattribute__(self, name)\n",
      "\u001b[31mAttributeError\u001b[39m: 'DataFrame' object has no attribute 'beta'"
     ]
    },
    {
     "data": {
      "image/png": "[encoded data removed]",
      "text/plain": [
       "<Figure size 600x800 with 3 Axes>"
      ]
     },
     "metadata": {},
     "output_type": "display_data"
    }
   ],
   "source": [
    "fig, axes = plt.subplots(nrows=3, ncols=1, sharex=True, figsize=(6, 8))\n",
    "axes[0].plot(log.index, log.beta, \"o-\")\n",
    "axes[0].set_ylabel(\"Beta\")\n",
    "\n",
    "axes[1].plot(log.index, log.phi_d, \"o-\")\n",
    "axes[1].axhline(data_misfit.n_data, linestyle=\"--\", color=\"grey\")\n",
    "axes[1].set_ylabel(\"Data misfit\")\n",
    "axes[1].set_yscale(\"log\")\n",
    "\n",
    "axes[2].plot(log.index, log.phi_m, \"o-\")\n",
    "axes[2].set_ylabel(\"Model norm\")\n",
    "\n",
    "plt.show()"
   ]
  },
  {
   "cell_type": "code",
   "execution_count": null,
   "id": "8dbf6693",
   "metadata": {
    "execution": {
     "iopub.status.busy": "2025-08-13T19:20:35.250609Z",
     "iopub.status.idle": "2025-08-13T19:20:35.250943Z",
     "shell.execute_reply": "2025-08-13T19:20:35.250796Z",
     "shell.execute_reply.started": "2025-08-13T19:20:35.250782Z"
    }
   },
   "outputs": [],
   "source": [
    "for i, model in enumerate(inversion.models):\n",
    "    tmp, = mesh.plot_slice(model, normal=\"Y\", slice_loc=0)\n",
    "    plt.colorbar(tmp, label=\"g/cc\")\n",
    "    plt.title(f\"Model {i}\")\n",
    "    plt.show()"
   ]
  },
  {
   "cell_type": "code",
   "execution_count": null,
   "id": "49c895ff",
   "metadata": {
    "execution": {
     "iopub.status.busy": "2025-08-13T19:20:35.251545Z",
     "iopub.status.idle": "2025-08-13T19:20:35.251800Z",
     "shell.execute_reply": "2025-08-13T19:20:35.251692Z",
     "shell.execute_reply.started": "2025-08-13T19:20:35.251681Z"
    }
   },
   "outputs": [],
   "source": [
    "for i, model in enumerate(inversion.models):\n",
    "    dpred = simulation(model).reshape(coordinates[0].shape)\n",
    "\n",
    "    fig, axes = plt.subplots(nrows=1, ncols=2, sharey=True)\n",
    "    tmp = axes[0].pcolormesh(*coordinates[:2], dpred)\n",
    "    axes[0].set_title(f\"Predicted data with model {i}\")\n",
    "    plt.colorbar(tmp, ax=axes[0], orientation=\"horizontal\", label=\"mgal\")\n",
    "\n",
    "    residual = gz - dpred\n",
    "    maxabs = vd.maxabs(residual)\n",
    "    tmp = axes[1].pcolormesh(*coordinates[:2], residual, vmin=-maxabs, vmax=maxabs, cmap=\"RdBu_r\")\n",
    "    axes[1].set_title(f\"Residual with model {i}\")\n",
    "    cbar = plt.colorbar(tmp, ax=axes[1], orientation=\"horizontal\", label=\"mgal\")\n",
    "    cbar.formatter.set_powerlimits((0, 0))\n",
    "    \n",
    "    for ax in axes:\n",
    "        ax.set_aspect(\"equal\")\n",
    "    plt.show()"
   ]
  }
 ],
 "metadata": {
  "kernelspec": {
   "display_name": "Python [conda env:inversion_ideas]",
   "language": "python",
   "name": "conda-env-inversion_ideas-py"
  },
  "language_info": {
   "codemirror_mode": {
    "name": "ipython",
    "version": 3
   },
   "file_extension": ".py",
   "mimetype": "text/x-python",
   "name": "python",
   "nbconvert_exporter": "python",
   "pygments_lexer": "ipython3",
   "version": "3.13.5"
  },
  "widgets": {
   "application/vnd.jupyter.widget-state+json": {
    "state": {
     "1942ce0e4eb340cfb05a59e68f44a9c1": {
      "model_module": "@jupyter-widgets/base",
      "model_module_version": "2.0.0",
      "model_name": "LayoutModel",
      "state": {
       "_model_module": "@jupyter-widgets/base",
       "_model_module_version": "2.0.0",
       "_model_name": "LayoutModel",
       "_view_count": null,
       "_view_module": "@jupyter-widgets/base",
       "_view_module_version": "2.0.0",
       "_view_name": "LayoutView",
       "align_content": null,
       "align_items": null,
       "align_self": null,
       "border_bottom": null,
       "border_left": null,
       "border_right": null,
       "border_top": null,
       "bottom": null,
       "display": null,
       "flex": null,
       "flex_flow": null,
       "grid_area": null,
       "grid_auto_columns": null,
       "grid_auto_flow": null,
       "grid_auto_rows": null,
       "grid_column": null,
       "grid_gap": null,
       "grid_row": null,
       "grid_template_areas": null,
       "grid_template_columns": null,
       "grid_template_rows": null,
       "height": null,
       "justify_content": null,
       "justify_items": null,
       "left": null,
       "margin": null,
       "max_height": null,
       "max_width": null,
       "min_height": null,
       "min_width": null,
       "object_fit": null,
       "object_position": null,
       "order": null,
       "overflow": null,
       "padding": null,
       "right": null,
       "top": null,
       "visibility": null,
       "width": null
      }
     },
     "348c29fc5f154fbc83ede708b6936666": {
      "model_module": "@jupyter-widgets/output",
      "model_module_version": "1.0.0",
      "model_name": "OutputModel",
      "state": {
       "_dom_classes": [],
       "_model_module": "@jupyter-widgets/output",
       "_model_module_version": "1.0.0",
       "_model_name": "OutputModel",
       "_view_count": null,
       "_view_module": "@jupyter-widgets/output",
       "_view_module_version": "1.0.0",
       "_view_name": "OutputView",
       "layout": "IPY_MODEL_1942ce0e4eb340cfb05a59e68f44a9c1",
       "msg_id": "",
       "outputs": [
        {
         "data": {
          "text/html": "<pre style=\"white-space:pre;overflow-x:auto;line-height:normal;font-family:Menlo,'DejaVu Sans Mono',consolas,'Courier New',monospace\">┏━━━━━━┳━━━━━━━━━━┳━━━━━━━━━━┳━━━━━━━━━━┳━━━━━━━━━━━━━━┳━━━━━━━━━━┳━━━━━━━━━━┳━━━━━━━━━━━━━━━━━┓\n┃<span style=\"font-weight: bold\"> iter </span>┃<span style=\"font-weight: bold\"> beta     </span>┃<span style=\"font-weight: bold\"> phi_d    </span>┃<span style=\"font-weight: bold\"> phi_m    </span>┃<span style=\"font-weight: bold\"> beta * phi_m </span>┃<span style=\"font-weight: bold\"> phi      </span>┃<span style=\"font-weight: bold\"> chi      </span>┃<span style=\"font-weight: bold\"> chi_target hit? </span>┃\n┡━━━━━━╇━━━━━━━━━━╇━━━━━━━━━━╇━━━━━━━━━━╇━━━━━━━━━━━━━━╇━━━━━━━━━━╇━━━━━━━━━━╇━━━━━━━━━━━━━━━━━┩\n│ 0    │ 1.00e+04 │ 1.67e+06 │ 0.00e+00 │ 0.00e+00     │ 1.67e+06 │ 1.74e+03 │ False           │\n│ 1    │ 1.00e+04 │ 9.16e+03 │ 6.95e+00 │ 6.95e+04     │ 7.87e+04 │ 9.53e+00 │ False           │\n│ 2    │ 5.00e+03 │ 3.43e+03 │ 7.73e+00 │ 3.86e+04     │ 4.21e+04 │ 3.57e+00 │ False           │\n│ 3    │ 2.50e+03 │ 1.44e+03 │ 8.27e+00 │ 2.07e+04     │ 2.21e+04 │ 1.50e+00 │ False           │\n│ 4    │ 1.25e+03 │ 7.13e+02 │ 8.67e+00 │ 1.08e+04     │ 1.15e+04 │ 7.42e-01 │ True            │\n└──────┴──────────┴──────────┴──────────┴──────────────┴──────────┴──────────┴─────────────────┘\n</pre>\n",
          "text/plain": "┏━━━━━━┳━━━━━━━━━━┳━━━━━━━━━━┳━━━━━━━━━━┳━━━━━━━━━━━━━━┳━━━━━━━━━━┳━━━━━━━━━━┳━━━━━━━━━━━━━━━━━┓\n┃\u001b[1m \u001b[0m\u001b[1miter\u001b[0m\u001b[1m \u001b[0m┃\u001b[1m \u001b[0m\u001b[1mbeta    \u001b[0m\u001b[1m \u001b[0m┃\u001b[1m \u001b[0m\u001b[1mphi_d   \u001b[0m\u001b[1m \u001b[0m┃\u001b[1m \u001b[0m\u001b[1mphi_m   \u001b[0m\u001b[1m \u001b[0m┃\u001b[1m \u001b[0m\u001b[1mbeta * phi_m\u001b[0m\u001b[1m \u001b[0m┃\u001b[1m \u001b[0m\u001b[1mphi     \u001b[0m\u001b[1m \u001b[0m┃\u001b[1m \u001b[0m\u001b[1mchi     \u001b[0m\u001b[1m \u001b[0m┃\u001b[1m \u001b[0m\u001b[1mchi_target hit?\u001b[0m\u001b[1m \u001b[0m┃\n┡━━━━━━╇━━━━━━━━━━╇━━━━━━━━━━╇━━━━━━━━━━╇━━━━━━━━━━━━━━╇━━━━━━━━━━╇━━━━━━━━━━╇━━━━━━━━━━━━━━━━━┩\n│ 0    │ 1.00e+04 │ 1.67e+06 │ 0.00e+00 │ 0.00e+00     │ 1.67e+06 │ 1.74e+03 │ False           │\n│ 1    │ 1.00e+04 │ 9.16e+03 │ 6.95e+00 │ 6.95e+04     │ 7.87e+04 │ 9.53e+00 │ False           │\n│ 2    │ 5.00e+03 │ 3.43e+03 │ 7.73e+00 │ 3.86e+04     │ 4.21e+04 │ 3.57e+00 │ False           │\n│ 3    │ 2.50e+03 │ 1.44e+03 │ 8.27e+00 │ 2.07e+04     │ 2.21e+04 │ 1.50e+00 │ False           │\n│ 4    │ 1.25e+03 │ 7.13e+02 │ 8.67e+00 │ 1.08e+04     │ 1.15e+04 │ 7.42e-01 │ True            │\n└──────┴──────────┴──────────┴──────────┴──────────────┴──────────┴──────────┴─────────────────┘\n"
         },
         "metadata": {},
         "output_type": "display_data"
        }
       ],
       "tabbable": null,
       "tooltip": null
      }
     }
    },
    "version_major": 2,
    "version_minor": 0
   }
  }
 },
 "nbformat": 4,
 "nbformat_minor": 5
}
