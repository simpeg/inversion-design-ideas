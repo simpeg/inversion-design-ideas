{
 "cells": [
  {
   "cell_type": "markdown",
   "id": "c4b21011-75e3-4f3a-a357-e28fcaaabdf4",
   "metadata": {},
   "source": [
    "# Plug in SimPEG's gravity simulation into the new framework"
   ]
  },
  {
   "cell_type": "code",
   "execution_count": null,
   "id": "b2d27e8b-5b33-4361-990b-8b6e724f5ac6",
   "metadata": {},
   "outputs": [],
   "source": [
    "import discretize\n",
    "import matplotlib.pyplot as plt\n",
    "import numpy as np\n",
    "import pandas as pd\n",
    "import verde as vd\n",
    "from gravity import GravitySimulation\n",
    "from simpeg.maps import IdentityMap\n",
    "from simpeg.potential_fields.gravity import (\n",
    "    Point,\n",
    "    Simulation3DIntegral,\n",
    "    SourceField,\n",
    "    Survey,\n",
    ")\n",
    "from simpeg.utils import depth_weighting, model_builder\n",
    "\n",
    "import inversion_ideas as ii"
   ]
  },
  {
   "cell_type": "markdown",
   "id": "a7a0aea4-50f4-4eea-9b6e-e907c520534e",
   "metadata": {},
   "source": [
    "## Define synthetic data with two prisms"
   ]
  },
  {
   "cell_type": "code",
   "execution_count": null,
   "id": "dfce90d3-de10-43d3-a668-696993b0f73e",
   "metadata": {},
   "outputs": [],
   "source": [
    "region = (-100, 100, -100, 100)\n",
    "shape = (31, 31)\n",
    "height = 0\n",
    "coordinates = vd.grid_coordinates(region, shape=shape, extra_coords=height)"
   ]
  },
  {
   "cell_type": "code",
   "execution_count": null,
   "id": "0edbb620-6a62-48bf-a8af-8981a76cc6f4",
   "metadata": {},
   "outputs": [],
   "source": [
    "h = [(5.0, 40)]\n",
    "mesh = discretize.TensorMesh(h=[h, h, h], origin=\"CCN\")\n",
    "mesh"
   ]
  },
  {
   "cell_type": "code",
   "execution_count": null,
   "id": "8a890b93-78ec-4681-bbb5-cc91e1448a85",
   "metadata": {},
   "outputs": [],
   "source": [
    "locations = np.vstack(tuple(c.ravel() for c in coordinates)).T\n",
    "receivers = Point(locations, components=\"gz\")\n",
    "source = SourceField(receiver_list=[receivers])\n",
    "survey = Survey(source)"
   ]
  },
  {
   "cell_type": "code",
   "execution_count": null,
   "id": "1dd17123-2df8-45b6-9345-d5cb6f431d51",
   "metadata": {},
   "outputs": [],
   "source": [
    "simulation_simpeg = Simulation3DIntegral(mesh, survey=survey, rhoMap=IdentityMap(mesh))"
   ]
  },
  {
   "cell_type": "code",
   "execution_count": null,
   "id": "b4c9ad67-47fe-4408-b879-d99b8eec8ca2",
   "metadata": {},
   "outputs": [],
   "source": [
    "def block_corners(prism):\n",
    "    p0 = np.array([prism[0], prism[2], prism[4]])\n",
    "    p1 = np.array([prism[1], prism[3], prism[5]])\n",
    "    return p0, p1"
   ]
  },
  {
   "cell_type": "code",
   "execution_count": null,
   "id": "287b2614-91d6-4834-9723-c992b15f737d",
   "metadata": {},
   "outputs": [],
   "source": [
    "prisms = [\n",
    "    (-60, -40, -10, 10, -70, -50),\n",
    "    (40, 60, -10, 10, -70, -50),\n",
    "]\n",
    "densities = np.array([-0.2, 0.2]) # g/cc"
   ]
  },
  {
   "cell_type": "code",
   "execution_count": null,
   "id": "ffc07711-d8e3-49cf-9574-f2bde45ceec8",
   "metadata": {},
   "outputs": [],
   "source": [
    "model = np.zeros(mesh.n_cells)\n",
    "\n",
    "for prism, density in zip(prisms, densities, strict=True):\n",
    "    p0, p1 = block_corners(prism)\n",
    "    model = model_builder.add_block(mesh.cell_centers, model, p0, p1, density)"
   ]
  },
  {
   "cell_type": "code",
   "execution_count": null,
   "id": "0b89b688-a595-4ff3-81e3-8bba4d4ef7c8",
   "metadata": {},
   "outputs": [],
   "source": [
    "mesh.plot_slice(model, normal=\"Y\", slice_loc=0)"
   ]
  },
  {
   "cell_type": "code",
   "execution_count": null,
   "id": "ff50fbfa-9dd4-4c01-a8eb-245c3c0706a0",
   "metadata": {},
   "outputs": [],
   "source": [
    "gz = simulation_simpeg.dpred(model)"
   ]
  },
  {
   "cell_type": "code",
   "execution_count": null,
   "id": "6064d21f-643a-4be6-af69-1f59e2d8053f",
   "metadata": {},
   "outputs": [],
   "source": [
    "stderr = vd.maxabs(gz) * 0.01\n",
    "gz += np.random.default_rng(seed=105).normal(scale=stderr, size=gz.shape)"
   ]
  },
  {
   "cell_type": "code",
   "execution_count": null,
   "id": "094b1d30-c610-44ca-968b-7257aacbaa91",
   "metadata": {},
   "outputs": [],
   "source": [
    "tmp = plt.pcolormesh(*coordinates[:2], gz.reshape(coordinates[0].shape))\n",
    "plt.gca().set_aspect(\"equal\")\n",
    "plt.colorbar(tmp)\n",
    "plt.show()"
   ]
  },
  {
   "cell_type": "markdown",
   "id": "137e7314-b148-46d9-b3b6-01496aaf8da4",
   "metadata": {},
   "source": [
    "## Inversion with new framework"
   ]
  },
  {
   "cell_type": "markdown",
   "id": "001ed1bb-6919-486b-a954-4bd54de79b4e",
   "metadata": {},
   "source": [
    "Wrap SimPEG's simulation into a child of the new `Simulation` class:"
   ]
  },
  {
   "cell_type": "code",
   "execution_count": null,
   "id": "a4303772-cfe0-45ed-90ec-c1caad768f39",
   "metadata": {},
   "outputs": [],
   "source": [
    "simulation = GravitySimulation(simulation_simpeg)"
   ]
  },
  {
   "cell_type": "markdown",
   "id": "1b128377-4303-4c8f-82f8-7953dc2f40f3",
   "metadata": {},
   "source": [
    "This `simulation` is _callable_ and has a `jacobian` method, so we can use it with our new framework:"
   ]
  },
  {
   "cell_type": "code",
   "execution_count": null,
   "id": "73655623-6ed5-4cca-9e54-3f48289dfb58",
   "metadata": {},
   "outputs": [],
   "source": [
    "model = np.ones(simulation.n_params)\n",
    "dpred = simulation(model)"
   ]
  },
  {
   "cell_type": "code",
   "execution_count": null,
   "id": "e4d622d0-7fed-48d7-8eda-f25e408b148a",
   "metadata": {},
   "outputs": [],
   "source": [
    "simulation.jacobian(model)"
   ]
  },
  {
   "cell_type": "code",
   "execution_count": null,
   "id": "c862c062-c7e2-4d7b-8825-109fa7072bdd",
   "metadata": {},
   "outputs": [],
   "source": [
    "uncertainties = stderr * np.ones(gz.size)\n",
    "data_misfit = ii.DataMisfit(gz.ravel(), uncertainties, simulation)\n",
    "data_misfit"
   ]
  },
  {
   "cell_type": "code",
   "execution_count": null,
   "id": "9042f903-4d02-4abe-9de1-2dfacfb3b3a0",
   "metadata": {},
   "outputs": [],
   "source": [
    "volume_weights = mesh.cell_volumes\n",
    "depth_weights = depth_weighting(mesh, 0)\n",
    "smallness = ii.TikhonovZero(\n",
    "    n_params=simulation.n_params, weights=volume_weights * depth_weights\n",
    ")\n",
    "smallness"
   ]
  },
  {
   "cell_type": "markdown",
   "id": "3b4d1179",
   "metadata": {},
   "source": [
    "## Run inversion with beta cooling"
   ]
  },
  {
   "cell_type": "code",
   "execution_count": null,
   "id": "c2f9a98a",
   "metadata": {},
   "outputs": [],
   "source": [
    "# Objective function\n",
    "beta_0 = 1e4\n",
    "regularization = beta_0 * smallness\n",
    "phi = data_misfit + regularization\n",
    "\n",
    "# Initial model\n",
    "initial_model = np.zeros(simulation.n_params)\n",
    "\n",
    "# Minimizer\n",
    "minimizer = ii.ConjugateGradient()\n",
    "\n",
    "# Stopping criteria\n",
    "chi_target = 1.0\n",
    "stopping_criteria = ii.ChiTarget(data_misfit, chi_target=chi_target)\n",
    "\n",
    "# Beta cooling\n",
    "beta_cooler = ii.MultiplierCooler(cooling_factor=2.0)\n",
    "\n",
    "# Inversion log\n",
    "inversion_log = ii.create_standard_log(phi)\n",
    "\n",
    "# Inversion\n",
    "inversion = ii.Inversion(\n",
    "    phi,\n",
    "    initial_model,\n",
    "    minimizer,\n",
    "    stopping_criteria=stopping_criteria,\n",
    "    cache_models=True,\n",
    "    log=inversion_log,\n",
    ")"
   ]
  },
  {
   "cell_type": "code",
   "execution_count": null,
   "id": "92ab4716",
   "metadata": {},
   "outputs": [],
   "source": [
    "with inversion.log.show_live() as live:\n",
    "    for model in inversion:\n",
    "        # Cool down beta\n",
    "        beta_cooler(regularization)\n",
    "\n",
    "        # Refresh table\n",
    "        live.refresh()"
   ]
  },
  {
   "cell_type": "code",
   "execution_count": null,
   "id": "519f2172",
   "metadata": {},
   "outputs": [],
   "source": [
    "log = pd.DataFrame(inversion.log.log).set_index(\"iter\")\n",
    "log"
   ]
  },
  {
   "cell_type": "code",
   "execution_count": null,
   "id": "c941b221",
   "metadata": {},
   "outputs": [],
   "source": [
    "fig, axes = plt.subplots(nrows=3, ncols=1, sharex=True, figsize=(6, 8))\n",
    "axes[0].plot(log.index, log.beta, \"o-\")\n",
    "axes[0].set_ylabel(\"Beta\")\n",
    "\n",
    "axes[1].plot(log.index, log.phi_d, \"o-\")\n",
    "axes[1].axhline(data_misfit.n_data, linestyle=\"--\", color=\"grey\")\n",
    "axes[1].set_ylabel(\"Data misfit\")\n",
    "axes[1].set_yscale(\"log\")\n",
    "\n",
    "axes[2].plot(log.index, log.phi_m, \"o-\")\n",
    "axes[2].set_ylabel(\"Model norm\")\n",
    "\n",
    "plt.show()"
   ]
  },
  {
   "cell_type": "code",
   "execution_count": null,
   "id": "8dbf6693",
   "metadata": {},
   "outputs": [],
   "source": [
    "for i, model in enumerate(inversion.models):\n",
    "    tmp, = mesh.plot_slice(model, normal=\"Y\", slice_loc=0)\n",
    "    plt.colorbar(tmp, label=\"g/cc\")\n",
    "    plt.title(f\"Model {i}\")\n",
    "    plt.show()"
   ]
  },
  {
   "cell_type": "code",
   "execution_count": null,
   "id": "49c895ff",
   "metadata": {},
   "outputs": [],
   "source": [
    "for i, model in enumerate(inversion.models):\n",
    "    gz = gz.reshape(coordinates[0].shape)\n",
    "    dpred = simulation(model).reshape(coordinates[0].shape)\n",
    "\n",
    "    fig, axes = plt.subplots(nrows=1, ncols=2, sharey=True)\n",
    "    tmp = axes[0].pcolormesh(*coordinates[:2], dpred)\n",
    "    axes[0].set_title(f\"Predicted data with model {i}\")\n",
    "    plt.colorbar(tmp, ax=axes[0], orientation=\"horizontal\", label=\"mgal\")\n",
    "\n",
    "    residual = gz - dpred\n",
    "    maxabs = vd.maxabs(residual)\n",
    "    tmp = axes[1].pcolormesh(*coordinates[:2], residual, vmin=-maxabs, vmax=maxabs, cmap=\"RdBu_r\")\n",
    "    axes[1].set_title(f\"Residual with model {i}\")\n",
    "    plt.colorbar(tmp, ax=axes[1], orientation=\"horizontal\", label=\"mgal\")\n",
    "    \n",
    "    for ax in axes:\n",
    "        ax.set_aspect(\"equal\")\n",
    "    plt.show()"
   ]
  }
 ],
 "metadata": {
  "kernelspec": {
   "display_name": "Python [conda env:inversion_ideas]",
   "language": "python",
   "name": "conda-env-inversion_ideas-py"
  },
  "language_info": {
   "codemirror_mode": {
    "name": "ipython",
    "version": 3
   },
   "file_extension": ".py",
   "mimetype": "text/x-python",
   "name": "python",
   "nbconvert_exporter": "python",
   "pygments_lexer": "ipython3",
   "version": "3.13.5"
  },
  "widgets": {
   "application/vnd.jupyter.widget-state+json": {
    "state": {
     "0a4170ed42f6494b8e6955eaa0baa063": {
      "model_module": "@jupyter-widgets/output",
      "model_module_version": "1.0.0",
      "model_name": "OutputModel",
      "state": {
       "_dom_classes": [],
       "_model_module": "@jupyter-widgets/output",
       "_model_module_version": "1.0.0",
       "_model_name": "OutputModel",
       "_view_count": null,
       "_view_module": "@jupyter-widgets/output",
       "_view_module_version": "1.0.0",
       "_view_name": "OutputView",
       "layout": "IPY_MODEL_71a88d5b791346449a5c56a06a9f4a3a",
       "msg_id": "",
       "outputs": [
        {
         "data": {
          "text/html": "<pre style=\"white-space:pre;overflow-x:auto;line-height:normal;font-family:Menlo,'DejaVu Sans Mono',consolas,'Courier New',monospace\">┏━━━━━━┳━━━━━━━━━━┳━━━━━━━━━━┳━━━━━━━━━━┳━━━━━━━━━━━━━━┳━━━━━━━━━━┳━━━━━━━━━━┓\n┃<span style=\"font-weight: bold\"> iter </span>┃<span style=\"font-weight: bold\"> beta     </span>┃<span style=\"font-weight: bold\"> phi_d    </span>┃<span style=\"font-weight: bold\"> phi_m    </span>┃<span style=\"font-weight: bold\"> beta * phi_m </span>┃<span style=\"font-weight: bold\"> phi      </span>┃<span style=\"font-weight: bold\"> chi      </span>┃\n┡━━━━━━╇━━━━━━━━━━╇━━━━━━━━━━╇━━━━━━━━━━╇━━━━━━━━━━━━━━╇━━━━━━━━━━╇━━━━━━━━━━┩\n│ 0    │ 1.00e+04 │ 1.67e+06 │ 0.00e+00 │ 0.00e+00     │ 1.67e+06 │ 1.74e+03 │\n│ 1    │ 1.00e+04 │ 9.16e+03 │ 6.95e+00 │ 6.95e+04     │ 7.87e+04 │ 9.53e+00 │\n│ 2    │ 5.00e+03 │ 3.43e+03 │ 7.73e+00 │ 3.86e+04     │ 4.21e+04 │ 3.57e+00 │\n│ 3    │ 2.50e+03 │ 1.44e+03 │ 8.27e+00 │ 2.07e+04     │ 2.21e+04 │ 1.50e+00 │\n│ 4    │ 1.25e+03 │ 7.13e+02 │ 8.67e+00 │ 1.08e+04     │ 1.15e+04 │ 7.42e-01 │\n└──────┴──────────┴──────────┴──────────┴──────────────┴──────────┴──────────┘\n</pre>\n",
          "text/plain": "┏━━━━━━┳━━━━━━━━━━┳━━━━━━━━━━┳━━━━━━━━━━┳━━━━━━━━━━━━━━┳━━━━━━━━━━┳━━━━━━━━━━┓\n┃\u001b[1m \u001b[0m\u001b[1miter\u001b[0m\u001b[1m \u001b[0m┃\u001b[1m \u001b[0m\u001b[1mbeta    \u001b[0m\u001b[1m \u001b[0m┃\u001b[1m \u001b[0m\u001b[1mphi_d   \u001b[0m\u001b[1m \u001b[0m┃\u001b[1m \u001b[0m\u001b[1mphi_m   \u001b[0m\u001b[1m \u001b[0m┃\u001b[1m \u001b[0m\u001b[1mbeta * phi_m\u001b[0m\u001b[1m \u001b[0m┃\u001b[1m \u001b[0m\u001b[1mphi     \u001b[0m\u001b[1m \u001b[0m┃\u001b[1m \u001b[0m\u001b[1mchi     \u001b[0m\u001b[1m \u001b[0m┃\n┡━━━━━━╇━━━━━━━━━━╇━━━━━━━━━━╇━━━━━━━━━━╇━━━━━━━━━━━━━━╇━━━━━━━━━━╇━━━━━━━━━━┩\n│ 0    │ 1.00e+04 │ 1.67e+06 │ 0.00e+00 │ 0.00e+00     │ 1.67e+06 │ 1.74e+03 │\n│ 1    │ 1.00e+04 │ 9.16e+03 │ 6.95e+00 │ 6.95e+04     │ 7.87e+04 │ 9.53e+00 │\n│ 2    │ 5.00e+03 │ 3.43e+03 │ 7.73e+00 │ 3.86e+04     │ 4.21e+04 │ 3.57e+00 │\n│ 3    │ 2.50e+03 │ 1.44e+03 │ 8.27e+00 │ 2.07e+04     │ 2.21e+04 │ 1.50e+00 │\n│ 4    │ 1.25e+03 │ 7.13e+02 │ 8.67e+00 │ 1.08e+04     │ 1.15e+04 │ 7.42e-01 │\n└──────┴──────────┴──────────┴──────────┴──────────────┴──────────┴──────────┘\n"
         },
         "metadata": {},
         "output_type": "display_data"
        }
       ],
       "tabbable": null,
       "tooltip": null
      }
     },
     "71a88d5b791346449a5c56a06a9f4a3a": {
      "model_module": "@jupyter-widgets/base",
      "model_module_version": "2.0.0",
      "model_name": "LayoutModel",
      "state": {
       "_model_module": "@jupyter-widgets/base",
       "_model_module_version": "2.0.0",
       "_model_name": "LayoutModel",
       "_view_count": null,
       "_view_module": "@jupyter-widgets/base",
       "_view_module_version": "2.0.0",
       "_view_name": "LayoutView",
       "align_content": null,
       "align_items": null,
       "align_self": null,
       "border_bottom": null,
       "border_left": null,
       "border_right": null,
       "border_top": null,
       "bottom": null,
       "display": null,
       "flex": null,
       "flex_flow": null,
       "grid_area": null,
       "grid_auto_columns": null,
       "grid_auto_flow": null,
       "grid_auto_rows": null,
       "grid_column": null,
       "grid_gap": null,
       "grid_row": null,
       "grid_template_areas": null,
       "grid_template_columns": null,
       "grid_template_rows": null,
       "height": null,
       "justify_content": null,
       "justify_items": null,
       "left": null,
       "margin": null,
       "max_height": null,
       "max_width": null,
       "min_height": null,
       "min_width": null,
       "object_fit": null,
       "object_position": null,
       "order": null,
       "overflow": null,
       "padding": null,
       "right": null,
       "top": null,
       "visibility": null,
       "width": null
      }
     }
    },
    "version_major": 2,
    "version_minor": 0
   }
  }
 },
 "nbformat": 4,
 "nbformat_minor": 5
}
