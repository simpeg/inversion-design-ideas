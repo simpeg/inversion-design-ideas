{
 "cells": [
  {
   "cell_type": "markdown",
   "id": "6138d870-ba85-4d70-b089-02a37a673b35",
   "metadata": {},
   "source": [
    "# Ideas for beta cooling schedule"
   ]
  },
  {
   "cell_type": "code",
   "execution_count": 1,
   "id": "fdaf3332-6fe1-4381-a1a3-697c494f749d",
   "metadata": {
    "execution": {
     "iopub.execute_input": "2025-10-02T23:35:11.112801Z",
     "iopub.status.busy": "2025-10-02T23:35:11.112184Z",
     "iopub.status.idle": "2025-10-02T23:35:12.952205Z",
     "shell.execute_reply": "2025-10-02T23:35:12.951595Z",
     "shell.execute_reply.started": "2025-10-02T23:35:11.112758Z"
    }
   },
   "outputs": [],
   "source": [
    "import numpy as np\n",
    "from regressor import LinearRegressor\n",
    "\n",
    "from inversion_ideas import (\n",
    "    ChiTarget,\n",
    "    ConjugateGradient,\n",
    "    DataMisfit,\n",
    "    Inversion,\n",
    "    MultiplierCooler,\n",
    "    TikhonovZero,\n",
    ")"
   ]
  },
  {
   "cell_type": "markdown",
   "id": "eaf26cc2-5d20-43b1-90ed-a93122c7d5ae",
   "metadata": {},
   "source": [
    "## Create a true model and synthetic data for a linear regressor"
   ]
  },
  {
   "cell_type": "code",
   "execution_count": 2,
   "id": "761c849a-17cc-450c-9a30-cfb87f1cf489",
   "metadata": {
    "execution": {
     "iopub.execute_input": "2025-10-02T23:35:12.953490Z",
     "iopub.status.busy": "2025-10-02T23:35:12.953166Z",
     "iopub.status.idle": "2025-10-02T23:35:12.962350Z",
     "shell.execute_reply": "2025-10-02T23:35:12.961484Z",
     "shell.execute_reply.started": "2025-10-02T23:35:12.953468Z"
    }
   },
   "outputs": [
    {
     "data": {
      "text/plain": [
       "array([0.78225148, 0.67148671, 0.2373809 , 0.17946133, 0.34662367,\n",
       "       0.15210999, 0.31142952, 0.23900652, 0.54355731, 0.91770851])"
      ]
     },
     "execution_count": 2,
     "metadata": {},
     "output_type": "execute_result"
    }
   ],
   "source": [
    "n_params = 10\n",
    "rng = np.random.default_rng(seed=4242)\n",
    "true_model = rng.uniform(size=10)\n",
    "true_model"
   ]
  },
  {
   "cell_type": "code",
   "execution_count": 3,
   "id": "9f3eda31-8cc5-4c02-ac69-ba3396dca6c0",
   "metadata": {
    "execution": {
     "iopub.execute_input": "2025-10-02T23:35:12.963869Z",
     "iopub.status.busy": "2025-10-02T23:35:12.963248Z",
     "iopub.status.idle": "2025-10-02T23:35:12.975041Z",
     "shell.execute_reply": "2025-10-02T23:35:12.974410Z",
     "shell.execute_reply.started": "2025-10-02T23:35:12.963839Z"
    }
   },
   "outputs": [],
   "source": [
    "# Build the X array\n",
    "n_data = 25\n",
    "shape = (n_data, n_params)\n",
    "X = rng.uniform(size=n_data * n_params).reshape(shape)"
   ]
  },
  {
   "cell_type": "code",
   "execution_count": 4,
   "id": "1e087215-ac6b-4fa1-b79d-537ef859331f",
   "metadata": {
    "execution": {
     "iopub.execute_input": "2025-10-02T23:35:12.976574Z",
     "iopub.status.busy": "2025-10-02T23:35:12.976333Z",
     "iopub.status.idle": "2025-10-02T23:35:12.984013Z",
     "shell.execute_reply": "2025-10-02T23:35:12.983433Z",
     "shell.execute_reply.started": "2025-10-02T23:35:12.976555Z"
    }
   },
   "outputs": [
    {
     "data": {
      "text/plain": [
       "array([2.83840696, 2.18091081, 2.00623242, 2.08333039, 2.01694883,\n",
       "       2.7826232 , 2.10564027, 1.27333506, 2.08859855, 1.94177648,\n",
       "       1.88492037, 2.92394733, 2.17231952, 3.08009275, 1.61670886,\n",
       "       1.77403753, 2.67305005, 1.91413882, 2.42117827, 2.13991628,\n",
       "       2.0153805 , 2.71388471, 2.65944255, 2.44416121, 3.14217523])"
      ]
     },
     "execution_count": 4,
     "metadata": {},
     "output_type": "execute_result"
    }
   ],
   "source": [
    "synthetic_data = X @ true_model\n",
    "maxabs = np.max(np.abs(synthetic_data))\n",
    "noise = rng.normal(scale=1e-2 * maxabs, size=synthetic_data.size)\n",
    "synthetic_data += noise\n",
    "synthetic_data"
   ]
  },
  {
   "cell_type": "markdown",
   "id": "6ce853b8-1138-4eb1-be19-3a4381c28751",
   "metadata": {},
   "source": [
    "## Define data misfit and smallness"
   ]
  },
  {
   "cell_type": "code",
   "execution_count": 5,
   "id": "f30b705a-678e-46e2-ac18-58d8043b1a66",
   "metadata": {
    "execution": {
     "iopub.execute_input": "2025-10-02T23:35:12.985054Z",
     "iopub.status.busy": "2025-10-02T23:35:12.984717Z",
     "iopub.status.idle": "2025-10-02T23:35:12.992844Z",
     "shell.execute_reply": "2025-10-02T23:35:12.992093Z",
     "shell.execute_reply.started": "2025-10-02T23:35:12.985026Z"
    }
   },
   "outputs": [],
   "source": [
    "uncertainty = 1e-2 * maxabs * np.ones_like(synthetic_data)\n",
    "simulation = LinearRegressor(X)\n",
    "data_misfit = DataMisfit(synthetic_data, uncertainty, simulation)"
   ]
  },
  {
   "cell_type": "code",
   "execution_count": 6,
   "id": "46ef1d97-1373-4267-b4dd-dbea3b81fb48",
   "metadata": {
    "execution": {
     "iopub.execute_input": "2025-10-02T23:35:13.183541Z",
     "iopub.status.busy": "2025-10-02T23:35:13.182619Z",
     "iopub.status.idle": "2025-10-02T23:35:13.188460Z",
     "shell.execute_reply": "2025-10-02T23:35:13.187308Z",
     "shell.execute_reply.started": "2025-10-02T23:35:13.183482Z"
    }
   },
   "outputs": [],
   "source": [
    "smallness = TikhonovZero(n_params)"
   ]
  },
  {
   "cell_type": "markdown",
   "id": "39d8037e-17de-45db-ac39-8db5a5b6ec1d",
   "metadata": {},
   "source": [
    "## Solution with fixed beta"
   ]
  },
  {
   "cell_type": "code",
   "execution_count": 7,
   "id": "114370c2-238f-4b96-b2f0-67254235b849",
   "metadata": {
    "execution": {
     "iopub.execute_input": "2025-10-02T23:35:13.660080Z",
     "iopub.status.busy": "2025-10-02T23:35:13.659101Z",
     "iopub.status.idle": "2025-10-02T23:35:13.681724Z",
     "shell.execute_reply": "2025-10-02T23:35:13.680429Z",
     "shell.execute_reply.started": "2025-10-02T23:35:13.659985Z"
    }
   },
   "outputs": [
    {
     "data": {
      "text/plain": [
       "array([0.81328886, 0.65927515, 0.24729371, 0.19624752, 0.3237346 ,\n",
       "       0.14720343, 0.3194468 , 0.25235983, 0.52215485, 0.92181019])"
      ]
     },
     "execution_count": 7,
     "metadata": {},
     "output_type": "execute_result"
    }
   ],
   "source": [
    "phi_fixed = data_misfit + 1e-3 * smallness\n",
    "initial_model = np.zeros(n_params)\n",
    "minimizer = ConjugateGradient()\n",
    "inverted_model = minimizer(phi_fixed, initial_model)\n",
    "inverted_model"
   ]
  },
  {
   "cell_type": "code",
   "execution_count": 8,
   "id": "2e9d2ee1-bfd9-4c3d-9865-f63d08a25b07",
   "metadata": {
    "execution": {
     "iopub.execute_input": "2025-10-02T23:35:13.873711Z",
     "iopub.status.busy": "2025-10-02T23:35:13.872755Z",
     "iopub.status.idle": "2025-10-02T23:35:13.879623Z",
     "shell.execute_reply": "2025-10-02T23:35:13.878566Z",
     "shell.execute_reply.started": "2025-10-02T23:35:13.873668Z"
    }
   },
   "outputs": [
    {
     "name": "stdout",
     "output_type": "stream",
     "text": [
      "Result:\n",
      "[0.81328886 0.65927515 0.24729371 0.19624752 0.3237346  0.14720343\n",
      " 0.3194468  0.25235983 0.52215485 0.92181019]\n",
      "\n",
      "True model:\n",
      "[0.78225148 0.67148671 0.2373809  0.17946133 0.34662367 0.15210999\n",
      " 0.31142952 0.23900652 0.54355731 0.91770851]\n"
     ]
    }
   ],
   "source": [
    "print(\"Result:\")\n",
    "print(inverted_model)\n",
    "print()\n",
    "print(\"True model:\")\n",
    "print(true_model)"
   ]
  },
  {
   "cell_type": "markdown",
   "id": "2b65ed74-fbb8-43d3-b5a3-17d97d6bd75a",
   "metadata": {
    "execution": {
     "iopub.execute_input": "2025-07-21T17:57:13.335947Z",
     "iopub.status.busy": "2025-07-21T17:57:13.335009Z",
     "iopub.status.idle": "2025-07-21T17:57:13.346056Z",
     "shell.execute_reply": "2025-07-21T17:57:13.343235Z",
     "shell.execute_reply.started": "2025-07-21T17:57:13.335871Z"
    }
   },
   "source": [
    "## Apply beta cooling schedule (manually)"
   ]
  },
  {
   "cell_type": "code",
   "execution_count": 9,
   "id": "30fe08ba-6e38-49ce-af5b-5e8d66302e75",
   "metadata": {
    "execution": {
     "iopub.execute_input": "2025-10-02T23:35:14.580192Z",
     "iopub.status.busy": "2025-10-02T23:35:14.579737Z",
     "iopub.status.idle": "2025-10-02T23:35:14.584050Z",
     "shell.execute_reply": "2025-10-02T23:35:14.583294Z",
     "shell.execute_reply.started": "2025-10-02T23:35:14.580155Z"
    }
   },
   "outputs": [],
   "source": [
    "minimizer = ConjugateGradient()"
   ]
  },
  {
   "cell_type": "code",
   "execution_count": 10,
   "id": "9d48ed76-24c5-45dc-aa27-6533b2e84cd4",
   "metadata": {
    "execution": {
     "iopub.execute_input": "2025-10-02T23:35:14.934341Z",
     "iopub.status.busy": "2025-10-02T23:35:14.933824Z",
     "iopub.status.idle": "2025-10-02T23:35:14.975084Z",
     "shell.execute_reply": "2025-10-02T23:35:14.974348Z",
     "shell.execute_reply.started": "2025-10-02T23:35:14.934294Z"
    }
   },
   "outputs": [
    {
     "name": "stdout",
     "output_type": "stream",
     "text": [
      " i  |  beta      | data misfit\n",
      "------------------------------\n",
      " 1  |  1.00e+02  |  1.46e+01\n",
      " 2  |  2.00e+01  |  1.18e+01\n",
      " 3  |  4.00e+00  |  1.17e+01\n",
      " 4  |  8.00e-01  |  1.17e+01\n",
      " 5  |  1.60e-01  |  1.17e+01\n",
      " 6  |  3.20e-02  |  1.17e+01\n",
      " 7  |  6.40e-03  |  1.17e+01\n",
      " 8  |  1.28e-03  |  1.17e+01\n",
      " 9  |  2.56e-04  |  1.17e+01\n",
      "10  |  5.12e-05  |  1.17e+01\n",
      "[0.81326156 0.65925428 0.24726515 0.19626779 0.32373014 0.14719275\n",
      " 0.31947376 0.25235055 0.52216834 0.92184173]\n"
     ]
    }
   ],
   "source": [
    "n_iters = 10\n",
    "beta_cooling_factor = 5\n",
    "initial_model = np.zeros(n_params)\n",
    "model = initial_model.copy()\n",
    "\n",
    "# Initialize objective function\n",
    "beta_0 = 1e2\n",
    "regularization = beta_0 * smallness\n",
    "phi = data_misfit + regularization\n",
    "\n",
    "# Print initial values\n",
    "dmisfit_value = data_misfit(model)\n",
    "print(\" i  |  beta      | data misfit\")\n",
    "print(\"------------------------------\")\n",
    "\n",
    "i = 1\n",
    "while True:\n",
    "    # Minimize\n",
    "    model = minimizer(phi, model)\n",
    "    dmisfit_value = data_misfit(model)\n",
    "    # Log\n",
    "    print(f\"{i:2d}  |  {regularization.multiplier:.2e}  |  {dmisfit_value:.2e}\")\n",
    "    # Stopping criteria\n",
    "    if i == n_iters:\n",
    "        break\n",
    "    i += 1\n",
    "    # Cool\n",
    "    regularization.multiplier /= beta_cooling_factor\n",
    "\n",
    "print(model)"
   ]
  },
  {
   "cell_type": "markdown",
   "id": "dc6b6140-0d47-4060-8570-66419a0fd21a",
   "metadata": {},
   "source": [
    "## Use classes"
   ]
  },
  {
   "cell_type": "code",
   "execution_count": 11,
   "id": "3765ea4f-11dc-432a-8cf9-5df925789771",
   "metadata": {
    "execution": {
     "iopub.execute_input": "2025-10-02T23:35:17.766926Z",
     "iopub.status.busy": "2025-10-02T23:35:17.765839Z",
     "iopub.status.idle": "2025-10-02T23:35:17.783470Z",
     "shell.execute_reply": "2025-10-02T23:35:17.781011Z",
     "shell.execute_reply.started": "2025-10-02T23:35:17.766818Z"
    }
   },
   "outputs": [],
   "source": [
    "# Objective function\n",
    "beta_0 = 1e4\n",
    "regularization = beta_0 * smallness\n",
    "phi = data_misfit + regularization\n",
    "\n",
    "# Initial model\n",
    "initial_model = np.zeros(n_params)\n",
    "\n",
    "# Minimizer\n",
    "minimizer = ConjugateGradient()\n",
    "\n",
    "# Directives\n",
    "cooler = MultiplierCooler(regularization, cooling_factor=2.0)\n",
    "\n",
    "# Stopping criteria\n",
    "stopping_criteria = ChiTarget(data_misfit, chi_target=1.0)\n",
    "\n",
    "inversion = Inversion(\n",
    "    phi,\n",
    "    initial_model,\n",
    "    minimizer,\n",
    "    directives=[cooler],\n",
    "    stopping_criteria=stopping_criteria,\n",
    ")"
   ]
  },
  {
   "cell_type": "code",
   "execution_count": 12,
   "id": "d0a69baf-9a5f-4a5f-803c-42627ff11527",
   "metadata": {
    "execution": {
     "iopub.execute_input": "2025-10-02T23:35:18.476785Z",
     "iopub.status.busy": "2025-10-02T23:35:18.475902Z",
     "iopub.status.idle": "2025-10-02T23:35:18.530688Z",
     "shell.execute_reply": "2025-10-02T23:35:18.529829Z",
     "shell.execute_reply.started": "2025-10-02T23:35:18.476737Z"
    }
   },
   "outputs": [
    {
     "name": "stderr",
     "output_type": "stream",
     "text": [
      "INFO: 🎉 Inversion successfully finished due to stopping criteria.\n"
     ]
    },
    {
     "name": "stdout",
     "output_type": "stream",
     "text": [
      " 1 | 1.00e+04 | 4.24e-01 | 1.31e+02\n",
      " 2 | 5.00e+03 | 5.06e-01 | 5.50e+01\n",
      " 3 | 2.50e+03 | 5.89e-01 | 2.32e+01\n",
      " 4 | 1.25e+03 | 6.66e-01 | 9.23e+00\n",
      " 5 | 6.25e+02 | 7.26e-01 | 3.48e+00\n",
      " 6 | 3.12e+02 | 7.65e-01 | 1.40e+00\n",
      " 7 | 1.56e+02 | 7.88e-01 | 7.34e-01\n",
      "[0.78781238 0.63620172 0.2461426  0.1941919  0.33960904 0.17601471\n",
      " 0.32485498 0.26662799 0.52718998 0.89311305]\n"
     ]
    }
   ],
   "source": [
    "phi_d, phi_m = [], []\n",
    "\n",
    "for model in inversion:\n",
    "    dmisfit_i, phi_m_i = data_misfit(model), regularization.function(model)\n",
    "    phi_d.append(dmisfit_i)\n",
    "    phi_m.append(phi_m_i)\n",
    "\n",
    "    # Compute chi factor\n",
    "    chi = dmisfit_i / data_misfit.n_data\n",
    "\n",
    "    row = [\n",
    "        f\"{inversion.counter:2d}\",\n",
    "        f\"{regularization.multiplier:.2e}\",\n",
    "        f\"{model[0]:.2e}\",\n",
    "        f\"{chi:.2e}\",\n",
    "    ]\n",
    "    print(\" | \".join(row))\n",
    "\n",
    "print(model)"
   ]
  },
  {
   "cell_type": "code",
   "execution_count": 13,
   "id": "42c55ccb-bbc4-47b1-b524-5d9a91e13c22",
   "metadata": {
    "execution": {
     "iopub.execute_input": "2025-10-02T23:35:19.325691Z",
     "iopub.status.busy": "2025-10-02T23:35:19.324588Z",
     "iopub.status.idle": "2025-10-02T23:35:19.886019Z",
     "shell.execute_reply": "2025-10-02T23:35:19.885436Z",
     "shell.execute_reply.started": "2025-10-02T23:35:19.325588Z"
    }
   },
   "outputs": [
    {
     "data": {
      "image/png": "[encoded data removed]",
      "text/plain": [
       "<Figure size 640x480 with 1 Axes>"
      ]
     },
     "metadata": {},
     "output_type": "display_data"
    }
   ],
   "source": [
    "import matplotlib.pyplot as plt\n",
    "\n",
    "plt.plot(phi_m, phi_d, \"o-\")\n",
    "plt.xlabel(r\"$\\phi_m$\")\n",
    "plt.ylabel(r\"$\\phi_d$\")\n",
    "plt.show()"
   ]
  },
  {
   "cell_type": "code",
   "execution_count": 14,
   "id": "e24d338e-331d-4c4a-9637-87037029cd51",
   "metadata": {
    "execution": {
     "iopub.execute_input": "2025-10-02T23:35:20.041183Z",
     "iopub.status.busy": "2025-10-02T23:35:20.039978Z",
     "iopub.status.idle": "2025-10-02T23:35:20.049404Z",
     "shell.execute_reply": "2025-10-02T23:35:20.047960Z",
     "shell.execute_reply.started": "2025-10-02T23:35:20.041122Z"
    }
   },
   "outputs": [
    {
     "data": {
      "text/plain": [
       "array([0.78225148, 0.67148671, 0.2373809 , 0.17946133, 0.34662367,\n",
       "       0.15210999, 0.31142952, 0.23900652, 0.54355731, 0.91770851])"
      ]
     },
     "execution_count": 14,
     "metadata": {},
     "output_type": "execute_result"
    }
   ],
   "source": [
    "true_model"
   ]
  },
  {
   "cell_type": "code",
   "execution_count": 15,
   "id": "73482c52-1cd7-4b81-bc37-19bc0bfd2da0",
   "metadata": {
    "execution": {
     "iopub.execute_input": "2025-10-02T23:35:20.658151Z",
     "iopub.status.busy": "2025-10-02T23:35:20.657393Z",
     "iopub.status.idle": "2025-10-02T23:35:20.666673Z",
     "shell.execute_reply": "2025-10-02T23:35:20.665559Z",
     "shell.execute_reply.started": "2025-10-02T23:35:20.658076Z"
    }
   },
   "outputs": [
    {
     "data": {
      "text/plain": [
       "array([0.78781238, 0.63620172, 0.2461426 , 0.1941919 , 0.33960904,\n",
       "       0.17601471, 0.32485498, 0.26662799, 0.52718998, 0.89311305])"
      ]
     },
     "execution_count": 15,
     "metadata": {},
     "output_type": "execute_result"
    }
   ],
   "source": [
    "model"
   ]
  }
 ],
 "metadata": {
  "kernelspec": {
   "display_name": "Python [conda env:inversion_ideas]",
   "language": "python",
   "name": "conda-env-inversion_ideas-py"
  },
  "language_info": {
   "codemirror_mode": {
    "name": "ipython",
    "version": 3
   },
   "file_extension": ".py",
   "mimetype": "text/x-python",
   "name": "python",
   "nbconvert_exporter": "python",
   "pygments_lexer": "ipython3",
   "version": "3.13.5"
  }
 },
 "nbformat": 4,
 "nbformat_minor": 5
}
