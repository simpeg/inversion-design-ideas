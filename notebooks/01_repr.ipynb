{
 "cells": [
  {
   "cell_type": "code",
   "execution_count": 1,
   "id": "ec5a23f6-1939-4bd6-9ddc-a33798bbe64f",
   "metadata": {
    "execution": {
     "iopub.execute_input": "2025-07-23T16:33:46.758268Z",
     "iopub.status.busy": "2025-07-23T16:33:46.757817Z",
     "iopub.status.idle": "2025-07-23T16:33:47.097990Z",
     "shell.execute_reply": "2025-07-23T16:33:47.097359Z",
     "shell.execute_reply.started": "2025-07-23T16:33:46.758225Z"
    }
   },
   "outputs": [],
   "source": [
    "import numpy as np\n",
    "from inversion_ideas import Objective"
   ]
  },
  {
   "cell_type": "code",
   "execution_count": 2,
   "id": "9ec050b8-c948-41cb-b13d-d8e510fbfa4e",
   "metadata": {
    "execution": {
     "iopub.execute_input": "2025-07-23T16:33:47.098707Z",
     "iopub.status.busy": "2025-07-23T16:33:47.098476Z",
     "iopub.status.idle": "2025-07-23T16:33:47.103135Z",
     "shell.execute_reply": "2025-07-23T16:33:47.102446Z",
     "shell.execute_reply.started": "2025-07-23T16:33:47.098689Z"
    }
   },
   "outputs": [],
   "source": [
    "class Dummy(Objective):\n",
    "    def __init__(self, n_params):\n",
    "        super().__init__()\n",
    "        self._n_params = n_params\n",
    "\n",
    "    @property\n",
    "    def n_params(self):\n",
    "        return self._n_params\n",
    "        \n",
    "    def __call__(self, model):\n",
    "        return np.ones(5)\n",
    "        \n",
    "    def gradient(self, model):\n",
    "        return np.ones(5 * self.n_params).reshape(5, self.n_params)\n",
    "        \n",
    "    def hessian(self, model):\n",
    "        grad = self.gradient(model)\n",
    "        return grad.T @ grad"
   ]
  },
  {
   "cell_type": "code",
   "execution_count": 3,
   "id": "00c39dc7-9da0-4a44-8950-b63c31f42cee",
   "metadata": {
    "execution": {
     "iopub.execute_input": "2025-07-23T16:33:47.103986Z",
     "iopub.status.busy": "2025-07-23T16:33:47.103782Z",
     "iopub.status.idle": "2025-07-23T16:33:47.125139Z",
     "shell.execute_reply": "2025-07-23T16:33:47.124462Z",
     "shell.execute_reply.started": "2025-07-23T16:33:47.103967Z"
    }
   },
   "outputs": [
    {
     "data": {
      "text/latex": [
       "$\\phi_{a} (m)$"
      ],
      "text/plain": [
       "φa(m)"
      ]
     },
     "execution_count": 3,
     "metadata": {},
     "output_type": "execute_result"
    }
   ],
   "source": [
    "a = Dummy(3)\n",
    "a.set_name(\"a\")\n",
    "a"
   ]
  },
  {
   "cell_type": "code",
   "execution_count": 4,
   "id": "ab16bcf5-8529-4b01-9ce5-f0060110e73d",
   "metadata": {
    "execution": {
     "iopub.execute_input": "2025-07-23T16:33:47.126189Z",
     "iopub.status.busy": "2025-07-23T16:33:47.125906Z",
     "iopub.status.idle": "2025-07-23T16:33:47.138775Z",
     "shell.execute_reply": "2025-07-23T16:33:47.137943Z",
     "shell.execute_reply.started": "2025-07-23T16:33:47.126167Z"
    }
   },
   "outputs": [
    {
     "data": {
      "text/latex": [
       "$\\phi_{b} (m)$"
      ],
      "text/plain": [
       "φb(m)"
      ]
     },
     "execution_count": 4,
     "metadata": {},
     "output_type": "execute_result"
    }
   ],
   "source": [
    "b = Dummy(3)\n",
    "b.set_name(\"b\")\n",
    "b"
   ]
  },
  {
   "cell_type": "code",
   "execution_count": 5,
   "id": "1da4940c-8fba-4aef-ba71-6979b31e8265",
   "metadata": {
    "execution": {
     "iopub.execute_input": "2025-07-23T16:33:47.139980Z",
     "iopub.status.busy": "2025-07-23T16:33:47.139693Z",
     "iopub.status.idle": "2025-07-23T16:33:47.147939Z",
     "shell.execute_reply": "2025-07-23T16:33:47.147301Z",
     "shell.execute_reply.started": "2025-07-23T16:33:47.139950Z"
    }
   },
   "outputs": [
    {
     "data": {
      "text/latex": [
       "$\\phi_{c} (m)$"
      ],
      "text/plain": [
       "φc(m)"
      ]
     },
     "execution_count": 5,
     "metadata": {},
     "output_type": "execute_result"
    }
   ],
   "source": [
    "c = Dummy(3)\n",
    "c.set_name(\"c\")\n",
    "c"
   ]
  },
  {
   "cell_type": "code",
   "execution_count": 6,
   "id": "4ed58d30-7f47-48d4-8d26-479963785f76",
   "metadata": {
    "execution": {
     "iopub.execute_input": "2025-07-23T16:33:47.150516Z",
     "iopub.status.busy": "2025-07-23T16:33:47.150155Z",
     "iopub.status.idle": "2025-07-23T16:33:47.157437Z",
     "shell.execute_reply": "2025-07-23T16:33:47.156882Z",
     "shell.execute_reply.started": "2025-07-23T16:33:47.150486Z"
    }
   },
   "outputs": [
    {
     "data": {
      "text/latex": [
       "$\\phi_{a} (m)$ + $5.10 \\, \\phi_{b} (m)$"
      ],
      "text/plain": [
       "φa(m) + 5.10 φb(m)"
      ]
     },
     "execution_count": 6,
     "metadata": {},
     "output_type": "execute_result"
    }
   ],
   "source": [
    "combo = a + 5.1 * b\n",
    "combo"
   ]
  },
  {
   "cell_type": "code",
   "execution_count": 7,
   "id": "0eab53d0-ff76-4866-8da6-9f7a77848f5d",
   "metadata": {
    "execution": {
     "iopub.execute_input": "2025-07-23T16:33:47.158356Z",
     "iopub.status.busy": "2025-07-23T16:33:47.158093Z",
     "iopub.status.idle": "2025-07-23T16:33:47.167332Z",
     "shell.execute_reply": "2025-07-23T16:33:47.166521Z",
     "shell.execute_reply.started": "2025-07-23T16:33:47.158327Z"
    }
   },
   "outputs": [
    {
     "data": {
      "text/latex": [
       "$\\phi_{c} (m)$ + $3.50 \\, [ 2.10 \\, \\phi_{a} (m)$ + $5.00 \\cdot 10^{3} \\, \\phi_{b} (m) ]$"
      ],
      "text/plain": [
       "φc(m) + 3.50 [2.10 φa(m) + 5.00e+03 φb(m)]"
      ]
     },
     "execution_count": 7,
     "metadata": {},
     "output_type": "execute_result"
    }
   ],
   "source": [
    "d = c + 3.5 * (2.1 * a + 5e3 * b)\n",
    "d"
   ]
  },
  {
   "cell_type": "code",
   "execution_count": 8,
   "id": "d3a42b97-a3f4-41c9-a5a1-0b06e937f361",
   "metadata": {
    "execution": {
     "iopub.execute_input": "2025-07-23T16:33:47.168935Z",
     "iopub.status.busy": "2025-07-23T16:33:47.168295Z",
     "iopub.status.idle": "2025-07-23T16:33:47.174762Z",
     "shell.execute_reply": "2025-07-23T16:33:47.174144Z",
     "shell.execute_reply.started": "2025-07-23T16:33:47.168899Z"
    }
   },
   "outputs": [
    {
     "data": {
      "text/plain": [
       "5000.0"
      ]
     },
     "execution_count": 8,
     "metadata": {},
     "output_type": "execute_result"
    }
   ],
   "source": [
    "mult = 5e3\n",
    "mult"
   ]
  },
  {
   "cell_type": "code",
   "execution_count": 9,
   "id": "491b1048-a8fc-47eb-8d25-a75d292dca01",
   "metadata": {
    "execution": {
     "iopub.execute_input": "2025-07-23T16:33:47.175822Z",
     "iopub.status.busy": "2025-07-23T16:33:47.175516Z",
     "iopub.status.idle": "2025-07-23T16:33:47.182286Z",
     "shell.execute_reply": "2025-07-23T16:33:47.181599Z",
     "shell.execute_reply.started": "2025-07-23T16:33:47.175793Z"
    }
   },
   "outputs": [
    {
     "data": {
      "text/plain": [
       "'5.00e+03'"
      ]
     },
     "execution_count": 9,
     "metadata": {},
     "output_type": "execute_result"
    }
   ],
   "source": [
    "mult_str = f\"{mult:.2e}\"\n",
    "mult_str"
   ]
  }
 ],
 "metadata": {
  "kernelspec": {
   "display_name": "Python [conda env:inversion_ideas]",
   "language": "python",
   "name": "conda-env-inversion_ideas-py"
  },
  "language_info": {
   "codemirror_mode": {
    "name": "ipython",
    "version": 3
   },
   "file_extension": ".py",
   "mimetype": "text/x-python",
   "name": "python",
   "nbconvert_exporter": "python",
   "pygments_lexer": "ipython3",
   "version": "3.13.5"
  }
 },
 "nbformat": 4,
 "nbformat_minor": 5
}
