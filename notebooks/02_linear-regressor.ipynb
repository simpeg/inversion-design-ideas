{
 "cells": [
  {
   "cell_type": "markdown",
   "id": "0ed66bfb-683e-4b0a-a4ec-50050f295070",
   "metadata": {},
   "source": [
    "# Use inversion framework to fit a linear regressor"
   ]
  },
  {
   "cell_type": "code",
   "execution_count": 1,
   "id": "bba9bf32-da93-4100-9ee1-0983a1450bb4",
   "metadata": {
    "execution": {
     "iopub.execute_input": "2025-07-23T16:35:11.155595Z",
     "iopub.status.busy": "2025-07-23T16:35:11.155259Z",
     "iopub.status.idle": "2025-07-23T16:35:11.474160Z",
     "shell.execute_reply": "2025-07-23T16:35:11.473519Z",
     "shell.execute_reply.started": "2025-07-23T16:35:11.155567Z"
    }
   },
   "outputs": [],
   "source": [
    "import numpy as np\n",
    "\n",
    "from inversion_ideas import DataMisfit, TikhonovZero, ConjugateGradient\n",
    "from regressor import LinearRegressor"
   ]
  },
  {
   "cell_type": "code",
   "execution_count": 2,
   "id": "afa3d214-09d3-4a0f-a402-5793d8b308b2",
   "metadata": {
    "execution": {
     "iopub.execute_input": "2025-07-23T16:35:11.474938Z",
     "iopub.status.busy": "2025-07-23T16:35:11.474675Z",
     "iopub.status.idle": "2025-07-23T16:35:11.482286Z",
     "shell.execute_reply": "2025-07-23T16:35:11.481583Z",
     "shell.execute_reply.started": "2025-07-23T16:35:11.474906Z"
    }
   },
   "outputs": [
    {
     "data": {
      "text/plain": [
       "array([0.78225148, 0.67148671, 0.2373809 , 0.17946133, 0.34662367,\n",
       "       0.15210999, 0.31142952, 0.23900652, 0.54355731, 0.91770851])"
      ]
     },
     "execution_count": 2,
     "metadata": {},
     "output_type": "execute_result"
    }
   ],
   "source": [
    "n_params = 10\n",
    "rng = np.random.default_rng(seed=4242)\n",
    "true_model = rng.uniform(size=10)\n",
    "true_model"
   ]
  },
  {
   "cell_type": "code",
   "execution_count": 3,
   "id": "5485a55c-9727-4260-b590-1ea243dba484",
   "metadata": {
    "execution": {
     "iopub.execute_input": "2025-07-23T16:35:11.483030Z",
     "iopub.status.busy": "2025-07-23T16:35:11.482816Z",
     "iopub.status.idle": "2025-07-23T16:35:11.497131Z",
     "shell.execute_reply": "2025-07-23T16:35:11.496469Z",
     "shell.execute_reply.started": "2025-07-23T16:35:11.483009Z"
    }
   },
   "outputs": [],
   "source": [
    "# Build the X array\n",
    "n_data = 25\n",
    "shape = (n_data, n_params)\n",
    "X = rng.uniform(size=n_data * n_params).reshape(shape)"
   ]
  },
  {
   "cell_type": "code",
   "execution_count": 4,
   "id": "66458a9c-5e01-4a75-8fd0-fd149f447992",
   "metadata": {
    "execution": {
     "iopub.execute_input": "2025-07-23T16:35:11.497947Z",
     "iopub.status.busy": "2025-07-23T16:35:11.497748Z",
     "iopub.status.idle": "2025-07-23T16:35:11.508573Z",
     "shell.execute_reply": "2025-07-23T16:35:11.507971Z",
     "shell.execute_reply.started": "2025-07-23T16:35:11.497928Z"
    }
   },
   "outputs": [
    {
     "data": {
      "text/plain": [
       "array([2.83840696, 2.18091081, 2.00623242, 2.08333039, 2.01694883,\n",
       "       2.7826232 , 2.10564027, 1.27333506, 2.08859855, 1.94177648,\n",
       "       1.88492037, 2.92394733, 2.17231952, 3.08009275, 1.61670886,\n",
       "       1.77403753, 2.67305005, 1.91413882, 2.42117827, 2.13991628,\n",
       "       2.0153805 , 2.71388471, 2.65944255, 2.44416121, 3.14217523])"
      ]
     },
     "execution_count": 4,
     "metadata": {},
     "output_type": "execute_result"
    }
   ],
   "source": [
    "synthetic_data = X @ true_model\n",
    "maxabs = np.max(np.abs(synthetic_data))\n",
    "noise = rng.normal(scale=1e-2 * maxabs, size=synthetic_data.size)\n",
    "synthetic_data += noise\n",
    "synthetic_data"
   ]
  },
  {
   "cell_type": "code",
   "execution_count": 5,
   "id": "ad91f721-72a9-485b-9043-d85a2a220b7b",
   "metadata": {
    "execution": {
     "iopub.execute_input": "2025-07-23T16:35:11.509535Z",
     "iopub.status.busy": "2025-07-23T16:35:11.509229Z",
     "iopub.status.idle": "2025-07-23T16:35:11.516291Z",
     "shell.execute_reply": "2025-07-23T16:35:11.515719Z",
     "shell.execute_reply.started": "2025-07-23T16:35:11.509506Z"
    }
   },
   "outputs": [],
   "source": [
    "simulation = LinearRegressor(X)"
   ]
  },
  {
   "cell_type": "code",
   "execution_count": 6,
   "id": "04636169-320a-4f1e-ab42-1b083b0111dd",
   "metadata": {
    "execution": {
     "iopub.execute_input": "2025-07-23T16:35:11.518726Z",
     "iopub.status.busy": "2025-07-23T16:35:11.518444Z",
     "iopub.status.idle": "2025-07-23T16:35:11.532959Z",
     "shell.execute_reply": "2025-07-23T16:35:11.532187Z",
     "shell.execute_reply.started": "2025-07-23T16:35:11.518704Z"
    }
   },
   "outputs": [],
   "source": [
    "uncertainty = 1e-2 * maxabs * np.ones_like(synthetic_data)\n",
    "data_misfit = DataMisfit(synthetic_data, uncertainty, simulation)\n",
    "smallness = TikhonovZero(n_params)"
   ]
  },
  {
   "cell_type": "code",
   "execution_count": 7,
   "id": "8da79647-eb17-4177-afb9-776f3cc4ffc5",
   "metadata": {
    "execution": {
     "iopub.execute_input": "2025-07-23T16:35:11.533907Z",
     "iopub.status.busy": "2025-07-23T16:35:11.533596Z",
     "iopub.status.idle": "2025-07-23T16:35:11.554730Z",
     "shell.execute_reply": "2025-07-23T16:35:11.553980Z",
     "shell.execute_reply.started": "2025-07-23T16:35:11.533877Z"
    }
   },
   "outputs": [
    {
     "data": {
      "text/latex": [
       "$\\phi (m)$ + $1.00 \\cdot 10^{-3} \\, \\phi (m)$"
      ],
      "text/plain": [
       "φ(m) + 0.00 φ(m)"
      ]
     },
     "execution_count": 7,
     "metadata": {},
     "output_type": "execute_result"
    }
   ],
   "source": [
    "phi = data_misfit + 1e-3 * smallness\n",
    "phi"
   ]
  },
  {
   "cell_type": "code",
   "execution_count": 8,
   "id": "d7bb890a-2958-4ea4-aa64-413f57c7b63e",
   "metadata": {
    "execution": {
     "iopub.execute_input": "2025-07-23T16:35:11.556085Z",
     "iopub.status.busy": "2025-07-23T16:35:11.555613Z",
     "iopub.status.idle": "2025-07-23T16:35:11.563549Z",
     "shell.execute_reply": "2025-07-23T16:35:11.562993Z",
     "shell.execute_reply.started": "2025-07-23T16:35:11.556048Z"
    }
   },
   "outputs": [
    {
     "data": {
      "text/plain": [
       "array([0., 0., 0., 0., 0., 0., 0., 0., 0., 0.])"
      ]
     },
     "execution_count": 8,
     "metadata": {},
     "output_type": "execute_result"
    }
   ],
   "source": [
    "initial_model = np.zeros(n_params)\n",
    "initial_model"
   ]
  },
  {
   "cell_type": "markdown",
   "id": "5cc54476-cd31-4bf6-bc0f-bfd6254af7ec",
   "metadata": {},
   "source": [
    "## Minimize manually with `scipy.sparse.linalg.cg`"
   ]
  },
  {
   "cell_type": "code",
   "execution_count": 9,
   "id": "d4bac3a2-49d5-4592-a793-72789ec31a5c",
   "metadata": {
    "execution": {
     "iopub.execute_input": "2025-07-23T16:35:11.564296Z",
     "iopub.status.busy": "2025-07-23T16:35:11.564102Z",
     "iopub.status.idle": "2025-07-23T16:35:11.570018Z",
     "shell.execute_reply": "2025-07-23T16:35:11.569178Z",
     "shell.execute_reply.started": "2025-07-23T16:35:11.564276Z"
    }
   },
   "outputs": [],
   "source": [
    "from scipy.sparse.linalg import cg"
   ]
  },
  {
   "cell_type": "code",
   "execution_count": 10,
   "id": "c3369162-abe9-4fb9-9294-69277e50ef13",
   "metadata": {
    "execution": {
     "iopub.execute_input": "2025-07-23T16:35:11.571299Z",
     "iopub.status.busy": "2025-07-23T16:35:11.570942Z",
     "iopub.status.idle": "2025-07-23T16:35:11.580311Z",
     "shell.execute_reply": "2025-07-23T16:35:11.579716Z",
     "shell.execute_reply.started": "2025-07-23T16:35:11.571263Z"
    }
   },
   "outputs": [],
   "source": [
    "grad = phi.gradient(initial_model)\n",
    "hess = phi.hessian(initial_model)"
   ]
  },
  {
   "cell_type": "code",
   "execution_count": 11,
   "id": "c1fed88c-9c34-4ee3-8208-e7b50c2ec678",
   "metadata": {
    "execution": {
     "iopub.execute_input": "2025-07-23T16:35:11.581353Z",
     "iopub.status.busy": "2025-07-23T16:35:11.581065Z",
     "iopub.status.idle": "2025-07-23T16:35:11.590994Z",
     "shell.execute_reply": "2025-07-23T16:35:11.590280Z",
     "shell.execute_reply.started": "2025-07-23T16:35:11.581322Z"
    }
   },
   "outputs": [
    {
     "data": {
      "text/plain": [
       "(array([0.81328361, 0.65926983, 0.24729306, 0.19624665, 0.32373823,\n",
       "        0.14720994, 0.31944798, 0.25236328, 0.52215617, 0.92180399]),\n",
       " 0)"
      ]
     },
     "execution_count": 11,
     "metadata": {},
     "output_type": "execute_result"
    }
   ],
   "source": [
    "model_step, info = cg(hess, -grad)\n",
    "model_step, info"
   ]
  },
  {
   "cell_type": "code",
   "execution_count": 12,
   "id": "54a8ef70-6e5f-4000-ad2f-658dbffd83f1",
   "metadata": {
    "execution": {
     "iopub.execute_input": "2025-07-23T16:35:11.592437Z",
     "iopub.status.busy": "2025-07-23T16:35:11.591894Z",
     "iopub.status.idle": "2025-07-23T16:35:11.598507Z",
     "shell.execute_reply": "2025-07-23T16:35:11.597755Z",
     "shell.execute_reply.started": "2025-07-23T16:35:11.592402Z"
    }
   },
   "outputs": [],
   "source": [
    "inverted_model = initial_model + model_step"
   ]
  },
  {
   "cell_type": "code",
   "execution_count": 13,
   "id": "b05f913f-dcfa-4bca-a277-b9cf5c9de6b5",
   "metadata": {
    "execution": {
     "iopub.execute_input": "2025-07-23T16:35:11.599803Z",
     "iopub.status.busy": "2025-07-23T16:35:11.599475Z",
     "iopub.status.idle": "2025-07-23T16:35:11.607380Z",
     "shell.execute_reply": "2025-07-23T16:35:11.606608Z",
     "shell.execute_reply.started": "2025-07-23T16:35:11.599770Z"
    }
   },
   "outputs": [
    {
     "name": "stdout",
     "output_type": "stream",
     "text": [
      "Result:\n",
      "[0.81328361 0.65926983 0.24729306 0.19624665 0.32373823 0.14720994\n",
      " 0.31944798 0.25236328 0.52215617 0.92180399]\n",
      "\n",
      "True model:\n",
      "[0.78225148 0.67148671 0.2373809  0.17946133 0.34662367 0.15210999\n",
      " 0.31142952 0.23900652 0.54355731 0.91770851]\n"
     ]
    }
   ],
   "source": [
    "print(\"Result:\")\n",
    "print(inverted_model)\n",
    "print()\n",
    "print(\"True model:\")\n",
    "print(true_model)"
   ]
  },
  {
   "cell_type": "markdown",
   "id": "ad0f7d22-77d6-410c-bca1-e3d765006aff",
   "metadata": {},
   "source": [
    "## Minimize with SciPy's `minimize`"
   ]
  },
  {
   "cell_type": "code",
   "execution_count": 14,
   "id": "5f36ec3b-0380-4eeb-b01a-3191c12b70f5",
   "metadata": {
    "execution": {
     "iopub.execute_input": "2025-07-23T16:35:11.608344Z",
     "iopub.status.busy": "2025-07-23T16:35:11.608101Z",
     "iopub.status.idle": "2025-07-23T16:35:11.720380Z",
     "shell.execute_reply": "2025-07-23T16:35:11.719607Z",
     "shell.execute_reply.started": "2025-07-23T16:35:11.608321Z"
    }
   },
   "outputs": [],
   "source": [
    "from scipy.optimize import minimize"
   ]
  },
  {
   "cell_type": "code",
   "execution_count": 15,
   "id": "ba337ea8-0afb-46aa-b107-07bcf86a8324",
   "metadata": {
    "execution": {
     "iopub.execute_input": "2025-07-23T16:35:11.721392Z",
     "iopub.status.busy": "2025-07-23T16:35:11.721124Z",
     "iopub.status.idle": "2025-07-23T16:35:11.840698Z",
     "shell.execute_reply": "2025-07-23T16:35:11.839910Z",
     "shell.execute_reply.started": "2025-07-23T16:35:11.721368Z"
    }
   },
   "outputs": [
    {
     "data": {
      "text/plain": [
       "  message: Optimization terminated successfully.\n",
       "  success: True\n",
       "   status: 0\n",
       "      fun: 0.37159603111570305\n",
       "        x: [ 8.133e-01  6.592e-01  2.473e-01  1.963e-01  3.237e-01\n",
       "             1.472e-01  3.195e-01  2.524e-01  5.222e-01  9.218e-01]\n",
       "      nit: 16\n",
       "      jac: [-1.378e-07  2.645e-07  1.155e-07  1.118e-08 -1.006e-07\n",
       "             1.714e-07 -3.725e-08  2.682e-07  3.353e-08  1.602e-07]\n",
       " hess_inv: [[ 1.077e-02 -3.331e-03 ...  5.039e-04 -2.987e-03]\n",
       "            [-3.331e-03  1.286e-02 ... -3.213e-03 -4.085e-04]\n",
       "            ...\n",
       "            [ 5.039e-04 -3.213e-03 ...  6.867e-03 -1.745e-03]\n",
       "            [-2.987e-03 -4.085e-04 ... -1.745e-03  8.357e-03]]\n",
       "     nfev: 231\n",
       "     njev: 21"
      ]
     },
     "execution_count": 15,
     "metadata": {},
     "output_type": "execute_result"
    }
   ],
   "source": [
    "result =  minimize(phi, initial_model)\n",
    "result"
   ]
  },
  {
   "cell_type": "code",
   "execution_count": 16,
   "id": "d5cf83b5-6cbd-42d1-9513-d3ca38464b72",
   "metadata": {
    "execution": {
     "iopub.execute_input": "2025-07-23T16:35:11.841743Z",
     "iopub.status.busy": "2025-07-23T16:35:11.841366Z",
     "iopub.status.idle": "2025-07-23T16:35:11.845304Z",
     "shell.execute_reply": "2025-07-23T16:35:11.844651Z",
     "shell.execute_reply.started": "2025-07-23T16:35:11.841708Z"
    }
   },
   "outputs": [],
   "source": [
    "# The minimize already gives you the minimum model\n",
    "inverted_model = result.x"
   ]
  },
  {
   "cell_type": "code",
   "execution_count": 17,
   "id": "d25be88b-3134-447a-b003-c80dddff3166",
   "metadata": {
    "execution": {
     "iopub.execute_input": "2025-07-23T16:35:11.846649Z",
     "iopub.status.busy": "2025-07-23T16:35:11.845928Z",
     "iopub.status.idle": "2025-07-23T16:35:11.855068Z",
     "shell.execute_reply": "2025-07-23T16:35:11.854320Z",
     "shell.execute_reply.started": "2025-07-23T16:35:11.846613Z"
    }
   },
   "outputs": [
    {
     "name": "stdout",
     "output_type": "stream",
     "text": [
      "Result:\n",
      "[0.81325615 0.65924881 0.24726449 0.19626688 0.32373389 0.14719947\n",
      " 0.31947497 0.25235411 0.5221697  0.92183533]\n",
      "\n",
      "True model:\n",
      "[0.78225148 0.67148671 0.2373809  0.17946133 0.34662367 0.15210999\n",
      " 0.31142952 0.23900652 0.54355731 0.91770851]\n"
     ]
    }
   ],
   "source": [
    "print(\"Result:\")\n",
    "print(inverted_model)\n",
    "print()\n",
    "print(\"True model:\")\n",
    "print(true_model)"
   ]
  },
  {
   "cell_type": "code",
   "execution_count": 18,
   "id": "50cb98a1-1fc8-4378-a517-09ed910ce1c3",
   "metadata": {
    "execution": {
     "iopub.execute_input": "2025-07-23T16:35:11.856190Z",
     "iopub.status.busy": "2025-07-23T16:35:11.855868Z",
     "iopub.status.idle": "2025-07-23T16:35:11.891088Z",
     "shell.execute_reply": "2025-07-23T16:35:11.890143Z",
     "shell.execute_reply.started": "2025-07-23T16:35:11.856166Z"
    }
   },
   "outputs": [
    {
     "data": {
      "text/plain": [
       " message: Optimization terminated successfully.\n",
       " success: True\n",
       "  status: 0\n",
       "     fun: 0.3715960311156836\n",
       "       x: [ 8.133e-01  6.592e-01  2.473e-01  1.963e-01  3.237e-01\n",
       "            1.472e-01  3.195e-01  2.524e-01  5.222e-01  9.218e-01]\n",
       "     nit: 12\n",
       "     jac: [ 3.612e-12  7.223e-12  7.137e-12  4.872e-12  5.592e-12\n",
       "            6.519e-12  6.291e-12  7.993e-12  6.342e-12  8.719e-12]\n",
       "    nfev: 24\n",
       "    njev: 24"
      ]
     },
     "execution_count": 18,
     "metadata": {},
     "output_type": "execute_result"
    }
   ],
   "source": [
    "result =  minimize(phi, initial_model, jac=phi.gradient, method=\"CG\")\n",
    "result"
   ]
  },
  {
   "cell_type": "code",
   "execution_count": 19,
   "id": "45a7c13a-79ea-445f-b63d-b551787ebc20",
   "metadata": {
    "execution": {
     "iopub.execute_input": "2025-07-23T16:35:11.892479Z",
     "iopub.status.busy": "2025-07-23T16:35:11.892090Z",
     "iopub.status.idle": "2025-07-23T16:35:11.895990Z",
     "shell.execute_reply": "2025-07-23T16:35:11.895283Z",
     "shell.execute_reply.started": "2025-07-23T16:35:11.892440Z"
    }
   },
   "outputs": [],
   "source": [
    "# The minimize already gives you the minimum model\n",
    "inverted_model = result.x"
   ]
  },
  {
   "cell_type": "code",
   "execution_count": 20,
   "id": "094fbf19-b676-4aba-8e23-b93abb8b2431",
   "metadata": {
    "execution": {
     "iopub.execute_input": "2025-07-23T16:35:11.897061Z",
     "iopub.status.busy": "2025-07-23T16:35:11.896763Z",
     "iopub.status.idle": "2025-07-23T16:35:11.906265Z",
     "shell.execute_reply": "2025-07-23T16:35:11.905380Z",
     "shell.execute_reply.started": "2025-07-23T16:35:11.897031Z"
    }
   },
   "outputs": [
    {
     "name": "stdout",
     "output_type": "stream",
     "text": [
      "Result:\n",
      "[0.81325615 0.65924881 0.2472645  0.19626689 0.32373389 0.14719947\n",
      " 0.31947497 0.25235411 0.5221697  0.92183533]\n",
      "\n",
      "True model:\n",
      "[0.78225148 0.67148671 0.2373809  0.17946133 0.34662367 0.15210999\n",
      " 0.31142952 0.23900652 0.54355731 0.91770851]\n"
     ]
    }
   ],
   "source": [
    "print(\"Result:\")\n",
    "print(result.x)\n",
    "print()\n",
    "print(\"True model:\")\n",
    "print(true_model)"
   ]
  },
  {
   "cell_type": "code",
   "execution_count": 21,
   "id": "65235b83-fd51-4f52-b7ba-3c0dc2a35fe2",
   "metadata": {
    "execution": {
     "iopub.execute_input": "2025-07-23T16:35:11.909944Z",
     "iopub.status.busy": "2025-07-23T16:35:11.909618Z",
     "iopub.status.idle": "2025-07-23T16:35:11.951403Z",
     "shell.execute_reply": "2025-07-23T16:35:11.950711Z",
     "shell.execute_reply.started": "2025-07-23T16:35:11.909917Z"
    }
   },
   "outputs": [
    {
     "data": {
      "text/plain": [
       " message: Optimization terminated successfully.\n",
       " success: True\n",
       "  status: 0\n",
       "     fun: 0.3715960311172809\n",
       "       x: [ 8.133e-01  6.592e-01  2.473e-01  1.963e-01  3.237e-01\n",
       "            1.472e-01  3.195e-01  2.524e-01  5.222e-01  9.218e-01]\n",
       "     nit: 10\n",
       "     jac: [-1.755e-04 -1.486e-04  1.521e-04  4.685e-05  3.222e-05\n",
       "           -1.612e-04  8.816e-05  7.859e-06  3.653e-04 -1.935e-04]\n",
       "    nfev: 11\n",
       "    njev: 11\n",
       "    nhev: 10"
      ]
     },
     "execution_count": 21,
     "metadata": {},
     "output_type": "execute_result"
    }
   ],
   "source": [
    "result =  minimize(phi, initial_model, jac=phi.gradient, hess=phi.hessian, method=\"Newton-CG\")\n",
    "result"
   ]
  },
  {
   "cell_type": "code",
   "execution_count": 22,
   "id": "45df89b6-58fc-472c-bfa6-96f1d3c7cc5c",
   "metadata": {
    "execution": {
     "iopub.execute_input": "2025-07-23T16:35:11.952542Z",
     "iopub.status.busy": "2025-07-23T16:35:11.952189Z",
     "iopub.status.idle": "2025-07-23T16:35:11.956340Z",
     "shell.execute_reply": "2025-07-23T16:35:11.955516Z",
     "shell.execute_reply.started": "2025-07-23T16:35:11.952505Z"
    }
   },
   "outputs": [],
   "source": [
    "# The minimize already gives you the minimum model\n",
    "inverted_model = result.x"
   ]
  },
  {
   "cell_type": "code",
   "execution_count": 23,
   "id": "2e9d2ee1-bfd9-4c3d-9865-f63d08a25b07",
   "metadata": {
    "execution": {
     "iopub.execute_input": "2025-07-23T16:35:11.957539Z",
     "iopub.status.busy": "2025-07-23T16:35:11.957156Z",
     "iopub.status.idle": "2025-07-23T16:35:11.966604Z",
     "shell.execute_reply": "2025-07-23T16:35:11.965778Z",
     "shell.execute_reply.started": "2025-07-23T16:35:11.957497Z"
    }
   },
   "outputs": [
    {
     "name": "stdout",
     "output_type": "stream",
     "text": [
      "Result:\n",
      "[0.81325626 0.65924868 0.24726445 0.19626684 0.32373384 0.14719954\n",
      " 0.31947496 0.25235426 0.52216973 0.92183526]\n",
      "\n",
      "True model:\n",
      "[0.78225148 0.67148671 0.2373809  0.17946133 0.34662367 0.15210999\n",
      " 0.31142952 0.23900652 0.54355731 0.91770851]\n"
     ]
    }
   ],
   "source": [
    "print(\"Result:\")\n",
    "print(result.x)\n",
    "print()\n",
    "print(\"True model:\")\n",
    "print(true_model)"
   ]
  },
  {
   "cell_type": "markdown",
   "id": "ded8a6fd-c419-4b13-bf3e-9d221c78a368",
   "metadata": {},
   "source": [
    "## Use `Minimizer` class"
   ]
  },
  {
   "cell_type": "code",
   "execution_count": 24,
   "id": "34372a3f-ff42-435f-9423-a4f99712fd9c",
   "metadata": {
    "execution": {
     "iopub.execute_input": "2025-07-23T16:35:11.967786Z",
     "iopub.status.busy": "2025-07-23T16:35:11.967434Z",
     "iopub.status.idle": "2025-07-23T16:35:11.975769Z",
     "shell.execute_reply": "2025-07-23T16:35:11.974822Z",
     "shell.execute_reply.started": "2025-07-23T16:35:11.967749Z"
    }
   },
   "outputs": [
    {
     "data": {
      "text/plain": [
       "<inversion_ideas.minimizer.ConjugateGradient at 0x7fd33143a7b0>"
      ]
     },
     "execution_count": 24,
     "metadata": {},
     "output_type": "execute_result"
    }
   ],
   "source": [
    "minimizer = ConjugateGradient()\n",
    "minimizer"
   ]
  },
  {
   "cell_type": "code",
   "execution_count": 25,
   "id": "f3f52071-c2c5-4016-9d61-cd2f3b781698",
   "metadata": {
    "execution": {
     "iopub.execute_input": "2025-07-23T16:35:11.977062Z",
     "iopub.status.busy": "2025-07-23T16:35:11.976761Z",
     "iopub.status.idle": "2025-07-23T16:35:11.983704Z",
     "shell.execute_reply": "2025-07-23T16:35:11.983111Z",
     "shell.execute_reply.started": "2025-07-23T16:35:11.977038Z"
    }
   },
   "outputs": [],
   "source": [
    "inverted_model = minimizer(phi, initial_model)"
   ]
  },
  {
   "cell_type": "code",
   "execution_count": 26,
   "id": "e41d3e15-1a74-42b9-9583-cacb8aeceadc",
   "metadata": {
    "execution": {
     "iopub.execute_input": "2025-07-23T16:35:11.984622Z",
     "iopub.status.busy": "2025-07-23T16:35:11.984347Z",
     "iopub.status.idle": "2025-07-23T16:35:11.992186Z",
     "shell.execute_reply": "2025-07-23T16:35:11.991340Z",
     "shell.execute_reply.started": "2025-07-23T16:35:11.984589Z"
    }
   },
   "outputs": [
    {
     "name": "stdout",
     "output_type": "stream",
     "text": [
      "Result:\n",
      "[0.81328361 0.65926983 0.24729306 0.19624665 0.32373823 0.14720994\n",
      " 0.31944798 0.25236328 0.52215617 0.92180399]\n",
      "\n",
      "True model:\n",
      "[0.78225148 0.67148671 0.2373809  0.17946133 0.34662367 0.15210999\n",
      " 0.31142952 0.23900652 0.54355731 0.91770851]\n"
     ]
    }
   ],
   "source": [
    "print(\"Result:\")\n",
    "print(inverted_model)\n",
    "print()\n",
    "print(\"True model:\")\n",
    "print(true_model)"
   ]
  },
  {
   "cell_type": "code",
   "execution_count": null,
   "id": "4a35232d-899c-4746-884d-58cb6b60a52d",
   "metadata": {},
   "outputs": [],
   "source": []
  }
 ],
 "metadata": {
  "kernelspec": {
   "display_name": "Python [conda env:inversion_ideas]",
   "language": "python",
   "name": "conda-env-inversion_ideas-py"
  },
  "language_info": {
   "codemirror_mode": {
    "name": "ipython",
    "version": 3
   },
   "file_extension": ".py",
   "mimetype": "text/x-python",
   "name": "python",
   "nbconvert_exporter": "python",
   "pygments_lexer": "ipython3",
   "version": "3.13.5"
  }
 },
 "nbformat": 4,
 "nbformat_minor": 5
}
