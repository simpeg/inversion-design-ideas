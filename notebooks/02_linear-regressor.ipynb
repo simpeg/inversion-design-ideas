{
 "cells": [
  {
   "cell_type": "code",
   "execution_count": 1,
   "id": "bba9bf32-da93-4100-9ee1-0983a1450bb4",
   "metadata": {
    "execution": {
     "iopub.execute_input": "2025-07-21T22:39:27.045019Z",
     "iopub.status.busy": "2025-07-21T22:39:27.044705Z",
     "iopub.status.idle": "2025-07-21T22:39:27.306331Z",
     "shell.execute_reply": "2025-07-21T22:39:27.305715Z",
     "shell.execute_reply.started": "2025-07-21T22:39:27.044990Z"
    }
   },
   "outputs": [],
   "source": [
    "import numpy as np\n",
    "\n",
    "from inversion_ideas import DataMisfit, TikhonovZero, ConjugateGradient\n",
    "from regressor import LinearRegressor"
   ]
  },
  {
   "cell_type": "code",
   "execution_count": 2,
   "id": "afa3d214-09d3-4a0f-a402-5793d8b308b2",
   "metadata": {
    "execution": {
     "iopub.execute_input": "2025-07-21T22:39:27.307103Z",
     "iopub.status.busy": "2025-07-21T22:39:27.306852Z",
     "iopub.status.idle": "2025-07-21T22:39:27.315042Z",
     "shell.execute_reply": "2025-07-21T22:39:27.314274Z",
     "shell.execute_reply.started": "2025-07-21T22:39:27.307084Z"
    }
   },
   "outputs": [
    {
     "data": {
      "text/plain": [
       "array([0.78225148, 0.67148671, 0.2373809 , 0.17946133, 0.34662367,\n",
       "       0.15210999, 0.31142952, 0.23900652, 0.54355731, 0.91770851])"
      ]
     },
     "execution_count": 2,
     "metadata": {},
     "output_type": "execute_result"
    }
   ],
   "source": [
    "n_params = 10\n",
    "rng = np.random.default_rng(seed=4242)\n",
    "true_model = rng.uniform(size=10)\n",
    "true_model"
   ]
  },
  {
   "cell_type": "code",
   "execution_count": 3,
   "id": "5485a55c-9727-4260-b590-1ea243dba484",
   "metadata": {
    "execution": {
     "iopub.execute_input": "2025-07-21T22:39:27.315809Z",
     "iopub.status.busy": "2025-07-21T22:39:27.315618Z",
     "iopub.status.idle": "2025-07-21T22:39:27.319086Z",
     "shell.execute_reply": "2025-07-21T22:39:27.318432Z",
     "shell.execute_reply.started": "2025-07-21T22:39:27.315792Z"
    }
   },
   "outputs": [],
   "source": [
    "# Build the X array\n",
    "n_data = 25\n",
    "shape = (n_data, n_params)\n",
    "X = rng.uniform(size=n_data * n_params).reshape(shape)"
   ]
  },
  {
   "cell_type": "code",
   "execution_count": 4,
   "id": "66458a9c-5e01-4a75-8fd0-fd149f447992",
   "metadata": {
    "execution": {
     "iopub.execute_input": "2025-07-21T22:39:27.319924Z",
     "iopub.status.busy": "2025-07-21T22:39:27.319726Z",
     "iopub.status.idle": "2025-07-21T22:39:27.325840Z",
     "shell.execute_reply": "2025-07-21T22:39:27.325046Z",
     "shell.execute_reply.started": "2025-07-21T22:39:27.319906Z"
    }
   },
   "outputs": [
    {
     "data": {
      "text/plain": [
       "array([2.83840696, 2.18091081, 2.00623242, 2.08333039, 2.01694883,\n",
       "       2.7826232 , 2.10564027, 1.27333506, 2.08859855, 1.94177648,\n",
       "       1.88492037, 2.92394733, 2.17231952, 3.08009275, 1.61670886,\n",
       "       1.77403753, 2.67305005, 1.91413882, 2.42117827, 2.13991628,\n",
       "       2.0153805 , 2.71388471, 2.65944255, 2.44416121, 3.14217523])"
      ]
     },
     "execution_count": 4,
     "metadata": {},
     "output_type": "execute_result"
    }
   ],
   "source": [
    "synthetic_data = X @ true_model\n",
    "maxabs = np.max(np.abs(synthetic_data))\n",
    "noise = rng.normal(scale=1e-2 * maxabs, size=synthetic_data.size)\n",
    "synthetic_data += noise\n",
    "synthetic_data"
   ]
  },
  {
   "cell_type": "code",
   "execution_count": 5,
   "id": "ad91f721-72a9-485b-9043-d85a2a220b7b",
   "metadata": {
    "execution": {
     "iopub.execute_input": "2025-07-21T22:39:27.326984Z",
     "iopub.status.busy": "2025-07-21T22:39:27.326677Z",
     "iopub.status.idle": "2025-07-21T22:39:27.330493Z",
     "shell.execute_reply": "2025-07-21T22:39:27.329836Z",
     "shell.execute_reply.started": "2025-07-21T22:39:27.326955Z"
    }
   },
   "outputs": [],
   "source": [
    "simulation = LinearRegressor(X)"
   ]
  },
  {
   "cell_type": "code",
   "execution_count": 6,
   "id": "04636169-320a-4f1e-ab42-1b083b0111dd",
   "metadata": {
    "execution": {
     "iopub.execute_input": "2025-07-21T22:39:27.333054Z",
     "iopub.status.busy": "2025-07-21T22:39:27.332798Z",
     "iopub.status.idle": "2025-07-21T22:39:27.336319Z",
     "shell.execute_reply": "2025-07-21T22:39:27.335674Z",
     "shell.execute_reply.started": "2025-07-21T22:39:27.333030Z"
    }
   },
   "outputs": [],
   "source": [
    "uncertainty = 1e-2 * maxabs * np.ones_like(synthetic_data)\n",
    "data_misfit = DataMisfit(synthetic_data, uncertainty, simulation)\n",
    "smallness = TikhonovZero(n_params)"
   ]
  },
  {
   "cell_type": "code",
   "execution_count": 7,
   "id": "8da79647-eb17-4177-afb9-776f3cc4ffc5",
   "metadata": {
    "execution": {
     "iopub.execute_input": "2025-07-21T22:39:27.337560Z",
     "iopub.status.busy": "2025-07-21T22:39:27.337180Z",
     "iopub.status.idle": "2025-07-21T22:39:27.342165Z",
     "shell.execute_reply": "2025-07-21T22:39:27.341534Z",
     "shell.execute_reply.started": "2025-07-21T22:39:27.337533Z"
    }
   },
   "outputs": [
    {
     "data": {
      "text/latex": [
       "$\\phi (m)$ + $1.00 \\cdot 10^{-3} \\, \\phi (m)$"
      ],
      "text/plain": [
       "φ(m) + 0.00 φ(m)"
      ]
     },
     "execution_count": 7,
     "metadata": {},
     "output_type": "execute_result"
    }
   ],
   "source": [
    "phi = data_misfit + 1e-3 * smallness\n",
    "phi"
   ]
  },
  {
   "cell_type": "code",
   "execution_count": 8,
   "id": "d7bb890a-2958-4ea4-aa64-413f57c7b63e",
   "metadata": {
    "execution": {
     "iopub.execute_input": "2025-07-21T22:39:27.343120Z",
     "iopub.status.busy": "2025-07-21T22:39:27.342872Z",
     "iopub.status.idle": "2025-07-21T22:39:27.348214Z",
     "shell.execute_reply": "2025-07-21T22:39:27.347094Z",
     "shell.execute_reply.started": "2025-07-21T22:39:27.343094Z"
    }
   },
   "outputs": [
    {
     "data": {
      "text/plain": [
       "array([1., 1., 1., 1., 1., 1., 1., 1., 1., 1.])"
      ]
     },
     "execution_count": 8,
     "metadata": {},
     "output_type": "execute_result"
    }
   ],
   "source": [
    "# initial_model = np.zeros(n_params)\n",
    "initial_model = np.ones(n_params)\n",
    "initial_model"
   ]
  },
  {
   "cell_type": "markdown",
   "id": "5cc54476-cd31-4bf6-bc0f-bfd6254af7ec",
   "metadata": {},
   "source": [
    "## Minimize manually with `scipy.sparse.linalg.cg`"
   ]
  },
  {
   "cell_type": "code",
   "execution_count": 9,
   "id": "d4bac3a2-49d5-4592-a793-72789ec31a5c",
   "metadata": {
    "execution": {
     "iopub.execute_input": "2025-07-21T22:39:27.349329Z",
     "iopub.status.busy": "2025-07-21T22:39:27.348998Z",
     "iopub.status.idle": "2025-07-21T22:39:27.352728Z",
     "shell.execute_reply": "2025-07-21T22:39:27.352075Z",
     "shell.execute_reply.started": "2025-07-21T22:39:27.349301Z"
    }
   },
   "outputs": [],
   "source": [
    "from scipy.sparse.linalg import cg"
   ]
  },
  {
   "cell_type": "code",
   "execution_count": 10,
   "id": "c3369162-abe9-4fb9-9294-69277e50ef13",
   "metadata": {
    "execution": {
     "iopub.execute_input": "2025-07-21T22:39:27.353685Z",
     "iopub.status.busy": "2025-07-21T22:39:27.353428Z",
     "iopub.status.idle": "2025-07-21T22:39:27.358875Z",
     "shell.execute_reply": "2025-07-21T22:39:27.358336Z",
     "shell.execute_reply.started": "2025-07-21T22:39:27.353657Z"
    }
   },
   "outputs": [],
   "source": [
    "grad = phi.gradient(initial_model)\n",
    "hess = phi.hessian(initial_model)"
   ]
  },
  {
   "cell_type": "code",
   "execution_count": 11,
   "id": "c1fed88c-9c34-4ee3-8208-e7b50c2ec678",
   "metadata": {
    "execution": {
     "iopub.execute_input": "2025-07-21T22:39:27.359713Z",
     "iopub.status.busy": "2025-07-21T22:39:27.359493Z",
     "iopub.status.idle": "2025-07-21T22:39:27.366695Z",
     "shell.execute_reply": "2025-07-21T22:39:27.366065Z",
     "shell.execute_reply.started": "2025-07-21T22:39:27.359695Z"
    }
   },
   "outputs": [
    {
     "data": {
      "text/plain": [
       "(array([-0.19170539, -0.34613831, -0.7533893 , -0.80431568, -0.67286042,\n",
       "        -0.84611586, -0.67926356, -0.74445741, -0.47639439, -0.08477345]),\n",
       " 0)"
      ]
     },
     "execution_count": 11,
     "metadata": {},
     "output_type": "execute_result"
    }
   ],
   "source": [
    "model_step, code = cg(hess, -grad)\n",
    "model_step, code"
   ]
  },
  {
   "cell_type": "code",
   "execution_count": 12,
   "id": "54a8ef70-6e5f-4000-ad2f-658dbffd83f1",
   "metadata": {
    "execution": {
     "iopub.execute_input": "2025-07-21T22:39:27.367618Z",
     "iopub.status.busy": "2025-07-21T22:39:27.367339Z",
     "iopub.status.idle": "2025-07-21T22:39:27.371035Z",
     "shell.execute_reply": "2025-07-21T22:39:27.370391Z",
     "shell.execute_reply.started": "2025-07-21T22:39:27.367591Z"
    }
   },
   "outputs": [],
   "source": [
    "inverted_model = initial_model + model_step"
   ]
  },
  {
   "cell_type": "code",
   "execution_count": 13,
   "id": "b05f913f-dcfa-4bca-a277-b9cf5c9de6b5",
   "metadata": {
    "execution": {
     "iopub.execute_input": "2025-07-21T22:39:27.372052Z",
     "iopub.status.busy": "2025-07-21T22:39:27.371769Z",
     "iopub.status.idle": "2025-07-21T22:39:27.376837Z",
     "shell.execute_reply": "2025-07-21T22:39:27.376178Z",
     "shell.execute_reply.started": "2025-07-21T22:39:27.372010Z"
    }
   },
   "outputs": [
    {
     "name": "stdout",
     "output_type": "stream",
     "text": [
      "Result:\n",
      "[0.80829461 0.65386169 0.2466107  0.19568432 0.32713958 0.15388414\n",
      " 0.32073644 0.25554259 0.52360561 0.91522655]\n",
      "\n",
      "True model:\n",
      "[0.78225148 0.67148671 0.2373809  0.17946133 0.34662367 0.15210999\n",
      " 0.31142952 0.23900652 0.54355731 0.91770851]\n"
     ]
    }
   ],
   "source": [
    "print(\"Result:\")\n",
    "print(inverted_model)\n",
    "print()\n",
    "print(\"True model:\")\n",
    "print(true_model)"
   ]
  },
  {
   "cell_type": "markdown",
   "id": "ad0f7d22-77d6-410c-bca1-e3d765006aff",
   "metadata": {},
   "source": [
    "## Minimize with SciPy's `minimize`"
   ]
  },
  {
   "cell_type": "code",
   "execution_count": 14,
   "id": "5f36ec3b-0380-4eeb-b01a-3191c12b70f5",
   "metadata": {
    "execution": {
     "iopub.execute_input": "2025-07-21T22:39:27.377954Z",
     "iopub.status.busy": "2025-07-21T22:39:27.377651Z",
     "iopub.status.idle": "2025-07-21T22:39:27.464043Z",
     "shell.execute_reply": "2025-07-21T22:39:27.463533Z",
     "shell.execute_reply.started": "2025-07-21T22:39:27.377926Z"
    }
   },
   "outputs": [],
   "source": [
    "from scipy.optimize import minimize"
   ]
  },
  {
   "cell_type": "code",
   "execution_count": 15,
   "id": "ba337ea8-0afb-46aa-b107-07bcf86a8324",
   "metadata": {
    "execution": {
     "iopub.execute_input": "2025-07-21T22:39:27.464766Z",
     "iopub.status.busy": "2025-07-21T22:39:27.464586Z",
     "iopub.status.idle": "2025-07-21T22:39:27.590648Z",
     "shell.execute_reply": "2025-07-21T22:39:27.590102Z",
     "shell.execute_reply.started": "2025-07-21T22:39:27.464747Z"
    }
   },
   "outputs": [
    {
     "data": {
      "text/plain": [
       "  message: Optimization terminated successfully.\n",
       "  success: True\n",
       "   status: 0\n",
       "      fun: 0.002966282077477033\n",
       "        x: [ 8.079e-01  6.539e-01  2.467e-01  1.955e-01  3.274e-01\n",
       "             1.538e-01  3.207e-01  2.558e-01  5.235e-01  9.155e-01]\n",
       "      nit: 29\n",
       "      jac: [ 1.904e-06 -2.508e-06 -3.394e-06  3.782e-06 -1.607e-07\n",
       "             2.483e-06  5.235e-06 -3.208e-06 -4.490e-06 -2.773e-06]\n",
       " hess_inv: [[ 5.638e+00 -2.713e+00 ...  1.756e+00 -8.879e-01]\n",
       "            [-2.713e+00  1.026e+01 ... -1.750e+00 -5.143e-01]\n",
       "            ...\n",
       "            [ 1.756e+00 -1.750e+00 ...  4.038e+00 -2.598e+00]\n",
       "            [-8.879e-01 -5.143e-01 ... -2.598e+00  6.402e+00]]\n",
       "     nfev: 330\n",
       "     njev: 30"
      ]
     },
     "execution_count": 15,
     "metadata": {},
     "output_type": "execute_result"
    }
   ],
   "source": [
    "result =  minimize(phi, initial_model)\n",
    "result"
   ]
  },
  {
   "cell_type": "code",
   "execution_count": 16,
   "id": "d5cf83b5-6cbd-42d1-9513-d3ca38464b72",
   "metadata": {
    "execution": {
     "iopub.execute_input": "2025-07-21T22:39:27.591460Z",
     "iopub.status.busy": "2025-07-21T22:39:27.591250Z",
     "iopub.status.idle": "2025-07-21T22:39:27.594847Z",
     "shell.execute_reply": "2025-07-21T22:39:27.594223Z",
     "shell.execute_reply.started": "2025-07-21T22:39:27.591428Z"
    }
   },
   "outputs": [],
   "source": [
    "# The minimize already gives you the minimum model\n",
    "inverted_model = result.x"
   ]
  },
  {
   "cell_type": "code",
   "execution_count": 17,
   "id": "d25be88b-3134-447a-b003-c80dddff3166",
   "metadata": {
    "execution": {
     "iopub.execute_input": "2025-07-21T22:39:27.595731Z",
     "iopub.status.busy": "2025-07-21T22:39:27.595470Z",
     "iopub.status.idle": "2025-07-21T22:39:27.601673Z",
     "shell.execute_reply": "2025-07-21T22:39:27.601041Z",
     "shell.execute_reply.started": "2025-07-21T22:39:27.595706Z"
    }
   },
   "outputs": [
    {
     "name": "stdout",
     "output_type": "stream",
     "text": [
      "Result:\n",
      "[0.8078707  0.65390247 0.24667559 0.19549621 0.32738896 0.1537966\n",
      " 0.32071056 0.25575429 0.52345213 0.91548875]\n",
      "\n",
      "True model:\n",
      "[0.78225148 0.67148671 0.2373809  0.17946133 0.34662367 0.15210999\n",
      " 0.31142952 0.23900652 0.54355731 0.91770851]\n"
     ]
    }
   ],
   "source": [
    "print(\"Result:\")\n",
    "print(inverted_model)\n",
    "print()\n",
    "print(\"True model:\")\n",
    "print(true_model)"
   ]
  },
  {
   "cell_type": "code",
   "execution_count": 18,
   "id": "50cb98a1-1fc8-4378-a517-09ed910ce1c3",
   "metadata": {
    "execution": {
     "iopub.execute_input": "2025-07-21T22:39:27.602719Z",
     "iopub.status.busy": "2025-07-21T22:39:27.602516Z",
     "iopub.status.idle": "2025-07-21T22:39:27.640465Z",
     "shell.execute_reply": "2025-07-21T22:39:27.639889Z",
     "shell.execute_reply.started": "2025-07-21T22:39:27.602702Z"
    }
   },
   "outputs": [
    {
     "data": {
      "text/plain": [
       " message: Optimization terminated successfully.\n",
       " success: True\n",
       "  status: 0\n",
       "     fun: 0.002966282072430307\n",
       "       x: [ 8.079e-01  6.539e-01  2.467e-01  1.955e-01  3.274e-01\n",
       "            1.537e-01  3.207e-01  2.558e-01  5.235e-01  9.156e-01]\n",
       "     nit: 19\n",
       "     jac: [ 2.008e-06 -1.263e-06 -3.647e-06 -2.470e-06  6.859e-07\n",
       "           -4.247e-06 -1.304e-06 -1.340e-07  5.048e-06  6.503e-06]\n",
       "    nfev: 40\n",
       "    njev: 40"
      ]
     },
     "execution_count": 18,
     "metadata": {},
     "output_type": "execute_result"
    }
   ],
   "source": [
    "result =  minimize(phi, initial_model, jac=phi.gradient, method=\"CG\")\n",
    "result"
   ]
  },
  {
   "cell_type": "code",
   "execution_count": 19,
   "id": "45a7c13a-79ea-445f-b63d-b551787ebc20",
   "metadata": {
    "execution": {
     "iopub.execute_input": "2025-07-21T22:39:27.641206Z",
     "iopub.status.busy": "2025-07-21T22:39:27.641024Z",
     "iopub.status.idle": "2025-07-21T22:39:27.644462Z",
     "shell.execute_reply": "2025-07-21T22:39:27.643518Z",
     "shell.execute_reply.started": "2025-07-21T22:39:27.641189Z"
    }
   },
   "outputs": [],
   "source": [
    "# The minimize already gives you the minimum model\n",
    "inverted_model = result.x"
   ]
  },
  {
   "cell_type": "code",
   "execution_count": 20,
   "id": "094fbf19-b676-4aba-8e23-b93abb8b2431",
   "metadata": {
    "execution": {
     "iopub.execute_input": "2025-07-21T22:39:27.645964Z",
     "iopub.status.busy": "2025-07-21T22:39:27.645383Z",
     "iopub.status.idle": "2025-07-21T22:39:27.650446Z",
     "shell.execute_reply": "2025-07-21T22:39:27.649751Z",
     "shell.execute_reply.started": "2025-07-21T22:39:27.645933Z"
    }
   },
   "outputs": [
    {
     "name": "stdout",
     "output_type": "stream",
     "text": [
      "Result:\n",
      "[0.80785055 0.65388731 0.24667538 0.19546809 0.32739103 0.15374396\n",
      " 0.32066661 0.25580322 0.52348512 0.9155614 ]\n",
      "\n",
      "True model:\n",
      "[0.78225148 0.67148671 0.2373809  0.17946133 0.34662367 0.15210999\n",
      " 0.31142952 0.23900652 0.54355731 0.91770851]\n"
     ]
    }
   ],
   "source": [
    "print(\"Result:\")\n",
    "print(result.x)\n",
    "print()\n",
    "print(\"True model:\")\n",
    "print(true_model)"
   ]
  },
  {
   "cell_type": "code",
   "execution_count": 21,
   "id": "65235b83-fd51-4f52-b7ba-3c0dc2a35fe2",
   "metadata": {
    "execution": {
     "iopub.execute_input": "2025-07-21T22:39:27.653906Z",
     "iopub.status.busy": "2025-07-21T22:39:27.653593Z",
     "iopub.status.idle": "2025-07-21T22:39:27.674414Z",
     "shell.execute_reply": "2025-07-21T22:39:27.673780Z",
     "shell.execute_reply.started": "2025-07-21T22:39:27.653867Z"
    }
   },
   "outputs": [
    {
     "data": {
      "text/plain": [
       " message: Optimization terminated successfully.\n",
       " success: True\n",
       "  status: 0\n",
       "     fun: 0.002966281699805373\n",
       "       x: [ 8.078e-01  6.539e-01  2.467e-01  1.955e-01  3.274e-01\n",
       "            1.538e-01  3.207e-01  2.558e-01  5.235e-01  9.155e-01]\n",
       "     nit: 9\n",
       "     jac: [-2.186e-08 -1.115e-08  1.721e-08  3.206e-09 -1.867e-08\n",
       "            7.141e-09  1.098e-08 -4.793e-09  4.405e-08 -2.718e-08]\n",
       "    nfev: 9\n",
       "    njev: 9\n",
       "    nhev: 9"
      ]
     },
     "execution_count": 21,
     "metadata": {},
     "output_type": "execute_result"
    }
   ],
   "source": [
    "result =  minimize(phi, initial_model, jac=phi.gradient, hess=phi.hessian, method=\"Newton-CG\")\n",
    "result"
   ]
  },
  {
   "cell_type": "code",
   "execution_count": 22,
   "id": "45df89b6-58fc-472c-bfa6-96f1d3c7cc5c",
   "metadata": {
    "execution": {
     "iopub.execute_input": "2025-07-21T22:39:27.675291Z",
     "iopub.status.busy": "2025-07-21T22:39:27.675017Z",
     "iopub.status.idle": "2025-07-21T22:39:27.678486Z",
     "shell.execute_reply": "2025-07-21T22:39:27.677730Z",
     "shell.execute_reply.started": "2025-07-21T22:39:27.675264Z"
    }
   },
   "outputs": [],
   "source": [
    "# The minimize already gives you the minimum model\n",
    "inverted_model = result.x"
   ]
  },
  {
   "cell_type": "code",
   "execution_count": 23,
   "id": "2e9d2ee1-bfd9-4c3d-9865-f63d08a25b07",
   "metadata": {
    "execution": {
     "iopub.execute_input": "2025-07-21T22:39:27.679782Z",
     "iopub.status.busy": "2025-07-21T22:39:27.679309Z",
     "iopub.status.idle": "2025-07-21T22:39:27.685190Z",
     "shell.execute_reply": "2025-07-21T22:39:27.684341Z",
     "shell.execute_reply.started": "2025-07-21T22:39:27.679749Z"
    }
   },
   "outputs": [
    {
     "name": "stdout",
     "output_type": "stream",
     "text": [
      "Result:\n",
      "[0.80784607 0.65391906 0.24670909 0.19547325 0.32739262 0.15377275\n",
      " 0.32066928 0.25578036 0.5234614  0.91551217]\n",
      "\n",
      "True model:\n",
      "[0.78225148 0.67148671 0.2373809  0.17946133 0.34662367 0.15210999\n",
      " 0.31142952 0.23900652 0.54355731 0.91770851]\n"
     ]
    }
   ],
   "source": [
    "print(\"Result:\")\n",
    "print(result.x)\n",
    "print()\n",
    "print(\"True model:\")\n",
    "print(true_model)"
   ]
  },
  {
   "cell_type": "markdown",
   "id": "ded8a6fd-c419-4b13-bf3e-9d221c78a368",
   "metadata": {},
   "source": [
    "## Use `Minimizer` class"
   ]
  },
  {
   "cell_type": "code",
   "execution_count": 24,
   "id": "34372a3f-ff42-435f-9423-a4f99712fd9c",
   "metadata": {
    "execution": {
     "iopub.execute_input": "2025-07-21T22:39:27.686298Z",
     "iopub.status.busy": "2025-07-21T22:39:27.685943Z",
     "iopub.status.idle": "2025-07-21T22:39:27.690901Z",
     "shell.execute_reply": "2025-07-21T22:39:27.690154Z",
     "shell.execute_reply.started": "2025-07-21T22:39:27.686270Z"
    }
   },
   "outputs": [
    {
     "data": {
      "text/plain": [
       "<inversion_ideas.minimizer.ConjugateGradient at 0x7f5e600d1fd0>"
      ]
     },
     "execution_count": 24,
     "metadata": {},
     "output_type": "execute_result"
    }
   ],
   "source": [
    "minimizer = ConjugateGradient()\n",
    "minimizer"
   ]
  },
  {
   "cell_type": "code",
   "execution_count": 25,
   "id": "f3f52071-c2c5-4016-9d61-cd2f3b781698",
   "metadata": {
    "execution": {
     "iopub.execute_input": "2025-07-21T22:39:27.692169Z",
     "iopub.status.busy": "2025-07-21T22:39:27.691622Z",
     "iopub.status.idle": "2025-07-21T22:39:27.697865Z",
     "shell.execute_reply": "2025-07-21T22:39:27.697167Z",
     "shell.execute_reply.started": "2025-07-21T22:39:27.692139Z"
    }
   },
   "outputs": [],
   "source": [
    "inverted_model = minimizer(phi, initial_model)"
   ]
  },
  {
   "cell_type": "code",
   "execution_count": 26,
   "id": "e41d3e15-1a74-42b9-9583-cacb8aeceadc",
   "metadata": {
    "execution": {
     "iopub.execute_input": "2025-07-21T22:39:27.698655Z",
     "iopub.status.busy": "2025-07-21T22:39:27.698448Z",
     "iopub.status.idle": "2025-07-21T22:39:27.702956Z",
     "shell.execute_reply": "2025-07-21T22:39:27.702295Z",
     "shell.execute_reply.started": "2025-07-21T22:39:27.698635Z"
    }
   },
   "outputs": [
    {
     "name": "stdout",
     "output_type": "stream",
     "text": [
      "Result:\n",
      "[0.80829461 0.65386169 0.2466107  0.19568432 0.32713958 0.15388414\n",
      " 0.32073644 0.25554259 0.52360561 0.91522655]\n",
      "\n",
      "True model:\n",
      "[0.78225148 0.67148671 0.2373809  0.17946133 0.34662367 0.15210999\n",
      " 0.31142952 0.23900652 0.54355731 0.91770851]\n"
     ]
    }
   ],
   "source": [
    "print(\"Result:\")\n",
    "print(inverted_model)\n",
    "print()\n",
    "print(\"True model:\")\n",
    "print(true_model)"
   ]
  },
  {
   "cell_type": "code",
   "execution_count": null,
   "id": "4a35232d-899c-4746-884d-58cb6b60a52d",
   "metadata": {},
   "outputs": [],
   "source": []
  }
 ],
 "metadata": {
  "kernelspec": {
   "display_name": "Python [conda env:inversion_ideas]",
   "language": "python",
   "name": "conda-env-inversion_ideas-py"
  },
  "language_info": {
   "codemirror_mode": {
    "name": "ipython",
    "version": 3
   },
   "file_extension": ".py",
   "mimetype": "text/x-python",
   "name": "python",
   "nbconvert_exporter": "python",
   "pygments_lexer": "ipython3",
   "version": "3.13.5"
  }
 },
 "nbformat": 4,
 "nbformat_minor": 5
}
