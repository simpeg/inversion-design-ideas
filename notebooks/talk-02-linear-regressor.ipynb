{
 "cells": [
  {
   "cell_type": "markdown",
   "id": "3d891280-9a92-42f6-b05d-5d19c8ffd81f",
   "metadata": {},
   "source": [
    "# Inversion of a linear regressor"
   ]
  },
  {
   "cell_type": "code",
   "execution_count": 1,
   "id": "b9047635-0e25-44d4-8395-8200d7660823",
   "metadata": {
    "execution": {
     "iopub.execute_input": "2025-08-13T18:58:07.762187Z",
     "iopub.status.busy": "2025-08-13T18:58:07.761985Z",
     "iopub.status.idle": "2025-08-13T18:58:08.077602Z",
     "shell.execute_reply": "2025-08-13T18:58:08.077041Z",
     "shell.execute_reply.started": "2025-08-13T18:58:07.762166Z"
    }
   },
   "outputs": [],
   "source": [
    "import numpy as np\n",
    "from regressor import LinearRegressor\n",
    "\n",
    "import inversion_ideas as ii"
   ]
  },
  {
   "cell_type": "markdown",
   "id": "35115ab5-640f-4472-8218-9f30117c3a5a",
   "metadata": {},
   "source": [
    "## Synthetic data\n",
    "\n",
    "Build synthetic data for a linear regressor such as:\n",
    "\n",
    "$$ \\mathbf{d}_\\text{obs} = \\mathbf{X} \\mathbf{m}_\\text{true} + \\epsilon $$\n",
    "\n",
    "where \n",
    "$\\mathbf{d}_\\text{obs}$ is the observed data (synthetic),\n",
    "$\\mathbf{X}$ is a matrix we randomly generate,\n",
    "and $\\mathbf{m}_\\text{true}$ is the true model we'll try to invert for,\n",
    "and $\\epsilon$ is some random noise generated out of a normal distribution."
   ]
  },
  {
   "cell_type": "code",
   "execution_count": 2,
   "id": "afa3d214-09d3-4a0f-a402-5793d8b308b2",
   "metadata": {
    "execution": {
     "iopub.execute_input": "2025-08-13T18:58:08.078550Z",
     "iopub.status.busy": "2025-08-13T18:58:08.078226Z",
     "iopub.status.idle": "2025-08-13T18:58:08.085651Z",
     "shell.execute_reply": "2025-08-13T18:58:08.084888Z",
     "shell.execute_reply.started": "2025-08-13T18:58:08.078532Z"
    }
   },
   "outputs": [
    {
     "data": {
      "text/plain": [
       "array([0.78225148, 0.67148671, 0.2373809 , 0.17946133, 0.34662367,\n",
       "       0.15210999, 0.31142952, 0.23900652, 0.54355731, 0.91770851])"
      ]
     },
     "execution_count": 2,
     "metadata": {},
     "output_type": "execute_result"
    }
   ],
   "source": [
    "n_params = 10\n",
    "rng = np.random.default_rng(seed=4242)\n",
    "true_model = rng.uniform(size=10)\n",
    "true_model"
   ]
  },
  {
   "cell_type": "code",
   "execution_count": 3,
   "id": "5485a55c-9727-4260-b590-1ea243dba484",
   "metadata": {
    "execution": {
     "iopub.execute_input": "2025-08-13T18:58:08.086693Z",
     "iopub.status.busy": "2025-08-13T18:58:08.086421Z",
     "iopub.status.idle": "2025-08-13T18:58:08.090418Z",
     "shell.execute_reply": "2025-08-13T18:58:08.089829Z",
     "shell.execute_reply.started": "2025-08-13T18:58:08.086667Z"
    }
   },
   "outputs": [],
   "source": [
    "# Build the X matrix\n",
    "n_data = 25\n",
    "shape = (n_data, n_params)\n",
    "X = rng.uniform(size=n_data * n_params).reshape(shape)"
   ]
  },
  {
   "cell_type": "code",
   "execution_count": 4,
   "id": "66458a9c-5e01-4a75-8fd0-fd149f447992",
   "metadata": {
    "execution": {
     "iopub.execute_input": "2025-08-13T18:58:08.091171Z",
     "iopub.status.busy": "2025-08-13T18:58:08.090989Z",
     "iopub.status.idle": "2025-08-13T18:58:08.096892Z",
     "shell.execute_reply": "2025-08-13T18:58:08.096332Z",
     "shell.execute_reply.started": "2025-08-13T18:58:08.091153Z"
    }
   },
   "outputs": [
    {
     "data": {
      "text/plain": [
       "array([2.83840696, 2.18091081, 2.00623242, 2.08333039, 2.01694883,\n",
       "       2.7826232 , 2.10564027, 1.27333506, 2.08859855, 1.94177648,\n",
       "       1.88492037, 2.92394733, 2.17231952, 3.08009275, 1.61670886,\n",
       "       1.77403753, 2.67305005, 1.91413882, 2.42117827, 2.13991628,\n",
       "       2.0153805 , 2.71388471, 2.65944255, 2.44416121, 3.14217523])"
      ]
     },
     "execution_count": 4,
     "metadata": {},
     "output_type": "execute_result"
    }
   ],
   "source": [
    "# Generate synthetic data with noise\n",
    "synthetic_data = X @ true_model\n",
    "maxabs = np.max(np.abs(synthetic_data))\n",
    "std_err =  1e-2 * maxabs\n",
    "noise = rng.normal(scale=std_err, size=synthetic_data.size)\n",
    "synthetic_data += noise\n",
    "synthetic_data"
   ]
  },
  {
   "cell_type": "markdown",
   "id": "5da968ca-c3e5-42ee-a8a9-11bcec60dc78",
   "metadata": {},
   "source": [
    "## Inversion"
   ]
  },
  {
   "cell_type": "code",
   "execution_count": 5,
   "id": "ad91f721-72a9-485b-9043-d85a2a220b7b",
   "metadata": {
    "execution": {
     "iopub.execute_input": "2025-08-13T18:58:08.097804Z",
     "iopub.status.busy": "2025-08-13T18:58:08.097563Z",
     "iopub.status.idle": "2025-08-13T18:58:08.101289Z",
     "shell.execute_reply": "2025-08-13T18:58:08.100485Z",
     "shell.execute_reply.started": "2025-08-13T18:58:08.097784Z"
    }
   },
   "outputs": [],
   "source": [
    "simulation = LinearRegressor(X)"
   ]
  },
  {
   "cell_type": "code",
   "execution_count": 6,
   "id": "063f0184-2d0c-4431-a0bb-1c36f42c2bf2",
   "metadata": {
    "execution": {
     "iopub.execute_input": "2025-08-13T18:58:08.103316Z",
     "iopub.status.busy": "2025-08-13T18:58:08.103098Z",
     "iopub.status.idle": "2025-08-13T18:58:08.107592Z",
     "shell.execute_reply": "2025-08-13T18:58:08.106878Z",
     "shell.execute_reply.started": "2025-08-13T18:58:08.103297Z"
    }
   },
   "outputs": [
    {
     "data": {
      "text/latex": [
       "$\\phi_{d} (m)$"
      ],
      "text/plain": [
       "φd(m)"
      ]
     },
     "execution_count": 6,
     "metadata": {},
     "output_type": "execute_result"
    }
   ],
   "source": [
    "uncertainty = std_err * np.ones_like(synthetic_data)\n",
    "data_misfit = ii.DataMisfit(synthetic_data, uncertainty, simulation)\n",
    "data_misfit"
   ]
  },
  {
   "cell_type": "code",
   "execution_count": 7,
   "id": "f60ff7e2-fbfe-43e9-bdeb-e574d122f7f4",
   "metadata": {
    "execution": {
     "iopub.execute_input": "2025-08-13T18:58:08.108558Z",
     "iopub.status.busy": "2025-08-13T18:58:08.108311Z",
     "iopub.status.idle": "2025-08-13T18:58:08.112628Z",
     "shell.execute_reply": "2025-08-13T18:58:08.112089Z",
     "shell.execute_reply.started": "2025-08-13T18:58:08.108532Z"
    }
   },
   "outputs": [
    {
     "data": {
      "text/latex": [
       "$\\phi_{s} (m)$"
      ],
      "text/plain": [
       "φs(m)"
      ]
     },
     "execution_count": 7,
     "metadata": {},
     "output_type": "execute_result"
    }
   ],
   "source": [
    "smallness = ii.TikhonovZero(n_params)\n",
    "smallness"
   ]
  },
  {
   "cell_type": "code",
   "execution_count": 8,
   "id": "8da79647-eb17-4177-afb9-776f3cc4ffc5",
   "metadata": {
    "execution": {
     "iopub.execute_input": "2025-08-13T18:58:08.113610Z",
     "iopub.status.busy": "2025-08-13T18:58:08.113315Z",
     "iopub.status.idle": "2025-08-13T18:58:08.119379Z",
     "shell.execute_reply": "2025-08-13T18:58:08.118627Z",
     "shell.execute_reply.started": "2025-08-13T18:58:08.113585Z"
    }
   },
   "outputs": [
    {
     "data": {
      "text/latex": [
       "$ \\phi_{d} (m) + 1.00 \\cdot 10^{-3} \\, \\phi_{s} (m) $"
      ],
      "text/plain": [
       "φd(m) + 0.00 φs(m)"
      ]
     },
     "execution_count": 8,
     "metadata": {},
     "output_type": "execute_result"
    }
   ],
   "source": [
    "phi = data_misfit + 1e-3 * smallness\n",
    "phi"
   ]
  },
  {
   "cell_type": "code",
   "execution_count": 9,
   "id": "08ea5c62-bb9c-48ae-813e-305da92bf66c",
   "metadata": {
    "execution": {
     "iopub.execute_input": "2025-08-13T18:58:08.120280Z",
     "iopub.status.busy": "2025-08-13T18:58:08.120027Z",
     "iopub.status.idle": "2025-08-13T18:58:08.125185Z",
     "shell.execute_reply": "2025-08-13T18:58:08.124405Z",
     "shell.execute_reply.started": "2025-08-13T18:58:08.120253Z"
    }
   },
   "outputs": [
    {
     "data": {
      "text/plain": [
       "array([0., 0., 0., 0., 0., 0., 0., 0., 0., 0.])"
      ]
     },
     "execution_count": 9,
     "metadata": {},
     "output_type": "execute_result"
    }
   ],
   "source": [
    "initial_model = np.zeros(n_params)\n",
    "initial_model"
   ]
  },
  {
   "cell_type": "code",
   "execution_count": 10,
   "id": "856695bb-0ea0-4125-a60e-e8572849619f",
   "metadata": {
    "execution": {
     "iopub.execute_input": "2025-08-13T18:58:08.126118Z",
     "iopub.status.busy": "2025-08-13T18:58:08.125901Z",
     "iopub.status.idle": "2025-08-13T18:58:08.341191Z",
     "shell.execute_reply": "2025-08-13T18:58:08.340492Z",
     "shell.execute_reply.started": "2025-08-13T18:58:08.126099Z"
    }
   },
   "outputs": [
    {
     "data": {
      "text/plain": [
       "  message: Optimization terminated successfully.\n",
       "  success: True\n",
       "   status: 0\n",
       "      fun: 11.719746150008552\n",
       "        x: [ 8.133e-01  6.593e-01  2.473e-01  1.963e-01  3.237e-01\n",
       "             1.472e-01  3.195e-01  2.524e-01  5.222e-01  9.218e-01]\n",
       "      nit: 15\n",
       "      jac: [-5.841e-06 -2.384e-07 -3.576e-06 -2.384e-07 -7.987e-06\n",
       "            -1.311e-06  0.000e+00  1.907e-06 -2.503e-06 -5.603e-06]\n",
       " hess_inv: [[ 3.378e-04 -1.043e-04 ...  1.536e-05 -9.322e-05]\n",
       "            [-1.043e-04  4.045e-04 ... -1.009e-04 -1.335e-05]\n",
       "            ...\n",
       "            [ 1.536e-05 -1.009e-04 ...  2.159e-04 -5.467e-05]\n",
       "            [-9.322e-05 -1.335e-05 ... -5.467e-05  2.625e-04]]\n",
       "     nfev: 253\n",
       "     njev: 23"
      ]
     },
     "execution_count": 10,
     "metadata": {},
     "output_type": "execute_result"
    }
   ],
   "source": [
    "from scipy.optimize import minimize\n",
    "\n",
    "result = minimize(phi, initial_model)\n",
    "result"
   ]
  },
  {
   "cell_type": "code",
   "execution_count": 11,
   "id": "1ed0887d-0446-44f7-ac8f-d8c20881d7c5",
   "metadata": {
    "execution": {
     "iopub.execute_input": "2025-08-13T18:58:08.342008Z",
     "iopub.status.busy": "2025-08-13T18:58:08.341812Z",
     "iopub.status.idle": "2025-08-13T18:58:08.346078Z",
     "shell.execute_reply": "2025-08-13T18:58:08.345493Z",
     "shell.execute_reply.started": "2025-08-13T18:58:08.341990Z"
    }
   },
   "outputs": [
    {
     "data": {
      "text/plain": [
       "array([0.8132614 , 0.65925412, 0.24726513, 0.19626776, 0.32373026,\n",
       "       0.14719295, 0.3194738 , 0.25235066, 0.52216838, 0.92184153])"
      ]
     },
     "execution_count": 11,
     "metadata": {},
     "output_type": "execute_result"
    }
   ],
   "source": [
    "inverted_model = result.x\n",
    "inverted_model"
   ]
  },
  {
   "cell_type": "code",
   "execution_count": 12,
   "id": "d25be88b-3134-447a-b003-c80dddff3166",
   "metadata": {
    "execution": {
     "iopub.execute_input": "2025-08-13T18:58:08.347232Z",
     "iopub.status.busy": "2025-08-13T18:58:08.346782Z",
     "iopub.status.idle": "2025-08-13T18:58:08.352757Z",
     "shell.execute_reply": "2025-08-13T18:58:08.352057Z",
     "shell.execute_reply.started": "2025-08-13T18:58:08.347202Z"
    }
   },
   "outputs": [
    {
     "name": "stdout",
     "output_type": "stream",
     "text": [
      "Result:\n",
      "[0.8132614  0.65925412 0.24726513 0.19626776 0.32373026 0.14719295\n",
      " 0.3194738  0.25235066 0.52216838 0.92184153]\n",
      "\n",
      "True model:\n",
      "[0.78225148 0.67148671 0.2373809  0.17946133 0.34662367 0.15210999\n",
      " 0.31142952 0.23900652 0.54355731 0.91770851]\n"
     ]
    }
   ],
   "source": [
    "print(\"Result:\")\n",
    "print(inverted_model)\n",
    "print()\n",
    "print(\"True model:\")\n",
    "print(true_model)"
   ]
  },
  {
   "cell_type": "markdown",
   "id": "0648a02d-c9cb-41b6-a843-cc98441e3c72",
   "metadata": {},
   "source": [
    "### Use the `Minimizer` class"
   ]
  },
  {
   "cell_type": "code",
   "execution_count": 13,
   "id": "f21f3df8-038c-49cc-b249-71fd394a3e62",
   "metadata": {
    "execution": {
     "iopub.execute_input": "2025-08-13T18:58:08.353777Z",
     "iopub.status.busy": "2025-08-13T18:58:08.353524Z",
     "iopub.status.idle": "2025-08-13T18:58:08.358528Z",
     "shell.execute_reply": "2025-08-13T18:58:08.357793Z",
     "shell.execute_reply.started": "2025-08-13T18:58:08.353756Z"
    }
   },
   "outputs": [
    {
     "data": {
      "text/plain": [
       "<inversion_ideas.minimizers.ConjugateGradient at 0x7f85f2ae6f90>"
      ]
     },
     "execution_count": 13,
     "metadata": {},
     "output_type": "execute_result"
    }
   ],
   "source": [
    "minimizer = ii.ConjugateGradient()\n",
    "minimizer"
   ]
  },
  {
   "cell_type": "code",
   "execution_count": 14,
   "id": "f62ec8c2-adff-44fe-ac36-dc89dcdac096",
   "metadata": {
    "execution": {
     "iopub.execute_input": "2025-08-13T18:58:08.359400Z",
     "iopub.status.busy": "2025-08-13T18:58:08.359173Z",
     "iopub.status.idle": "2025-08-13T18:58:08.367343Z",
     "shell.execute_reply": "2025-08-13T18:58:08.366644Z",
     "shell.execute_reply.started": "2025-08-13T18:58:08.359374Z"
    }
   },
   "outputs": [
    {
     "data": {
      "text/plain": [
       "array([0.81328886, 0.65927514, 0.2472937 , 0.19624752, 0.3237346 ,\n",
       "       0.14720342, 0.3194468 , 0.25235983, 0.52215485, 0.92181018])"
      ]
     },
     "execution_count": 14,
     "metadata": {},
     "output_type": "execute_result"
    }
   ],
   "source": [
    "inverted_model = minimizer(phi, initial_model)\n",
    "inverted_model"
   ]
  },
  {
   "cell_type": "code",
   "execution_count": 15,
   "id": "e41d3e15-1a74-42b9-9583-cacb8aeceadc",
   "metadata": {
    "execution": {
     "iopub.execute_input": "2025-08-13T18:58:08.368544Z",
     "iopub.status.busy": "2025-08-13T18:58:08.368267Z",
     "iopub.status.idle": "2025-08-13T18:58:08.372997Z",
     "shell.execute_reply": "2025-08-13T18:58:08.372226Z",
     "shell.execute_reply.started": "2025-08-13T18:58:08.368516Z"
    }
   },
   "outputs": [
    {
     "name": "stdout",
     "output_type": "stream",
     "text": [
      "Result:\n",
      "[0.81328886 0.65927514 0.2472937  0.19624752 0.3237346  0.14720342\n",
      " 0.3194468  0.25235983 0.52215485 0.92181018]\n",
      "\n",
      "True model:\n",
      "[0.78225148 0.67148671 0.2373809  0.17946133 0.34662367 0.15210999\n",
      " 0.31142952 0.23900652 0.54355731 0.91770851]\n"
     ]
    }
   ],
   "source": [
    "print(\"Result:\")\n",
    "print(inverted_model)\n",
    "print()\n",
    "print(\"True model:\")\n",
    "print(true_model)"
   ]
  }
 ],
 "metadata": {
  "kernelspec": {
   "display_name": "Python [conda env:inversion_ideas]",
   "language": "python",
   "name": "conda-env-inversion_ideas-py"
  },
  "language_info": {
   "codemirror_mode": {
    "name": "ipython",
    "version": 3
   },
   "file_extension": ".py",
   "mimetype": "text/x-python",
   "name": "python",
   "nbconvert_exporter": "python",
   "pygments_lexer": "ipython3",
   "version": "3.13.5"
  }
 },
 "nbformat": 4,
 "nbformat_minor": 5
}
