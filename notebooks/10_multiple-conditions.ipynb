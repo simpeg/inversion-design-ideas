{
 "cells": [
  {
   "cell_type": "markdown",
   "id": "85150015-06c0-42d9-a83a-5c3a29898e8f",
   "metadata": {},
   "source": [
    "# Experiment with multiple and more complex conditions"
   ]
  },
  {
   "cell_type": "code",
   "execution_count": 1,
   "id": "eb4145ad-9d6a-411f-aa2e-7ab211a1f737",
   "metadata": {
    "execution": {
     "iopub.execute_input": "2025-08-19T22:36:39.783937Z",
     "iopub.status.busy": "2025-08-19T22:36:39.783184Z",
     "iopub.status.idle": "2025-08-19T22:36:40.059351Z",
     "shell.execute_reply": "2025-08-19T22:36:40.058662Z"
    }
   },
   "outputs": [],
   "source": [
    "import numpy as np\n",
    "from regressor import LinearRegressor\n",
    "\n",
    "from inversion_ideas import (\n",
    "    ChiTarget,\n",
    "    ConjugateGradient,\n",
    "    DataMisfit,\n",
    "    Inversion,\n",
    "    ModelChanged,\n",
    "    MultiplierCooler,\n",
    "    ObjectiveChanged,\n",
    "    TikhonovZero,\n",
    ")"
   ]
  },
  {
   "cell_type": "markdown",
   "id": "2ce27740-8208-455d-8868-94c3ba71d3ab",
   "metadata": {},
   "source": [
    "## Create a true model and synthetic data for a linear regressor"
   ]
  },
  {
   "cell_type": "code",
   "execution_count": 2,
   "id": "22f226e2-d715-49e8-b357-38e71d78bcdc",
   "metadata": {
    "execution": {
     "iopub.execute_input": "2025-08-19T22:36:40.061373Z",
     "iopub.status.busy": "2025-08-19T22:36:40.061140Z",
     "iopub.status.idle": "2025-08-19T22:36:40.067239Z",
     "shell.execute_reply": "2025-08-19T22:36:40.066675Z"
    }
   },
   "outputs": [
    {
     "data": {
      "text/plain": [
       "array([0.78225148, 0.67148671, 0.2373809 , 0.17946133, 0.34662367,\n",
       "       0.15210999, 0.31142952, 0.23900652, 0.54355731, 0.91770851])"
      ]
     },
     "execution_count": 2,
     "metadata": {},
     "output_type": "execute_result"
    }
   ],
   "source": [
    "n_params = 10\n",
    "rng = np.random.default_rng(seed=4242)\n",
    "true_model = rng.uniform(size=10)\n",
    "true_model"
   ]
  },
  {
   "cell_type": "code",
   "execution_count": 3,
   "id": "0e39a2d1-d26e-4ee2-8f9f-f3b33f1ac124",
   "metadata": {
    "execution": {
     "iopub.execute_input": "2025-08-19T22:36:40.068879Z",
     "iopub.status.busy": "2025-08-19T22:36:40.068702Z",
     "iopub.status.idle": "2025-08-19T22:36:40.071769Z",
     "shell.execute_reply": "2025-08-19T22:36:40.071202Z"
    }
   },
   "outputs": [],
   "source": [
    "# Build the X array\n",
    "n_data = 25\n",
    "shape = (n_data, n_params)\n",
    "X = rng.uniform(size=n_data * n_params).reshape(shape)"
   ]
  },
  {
   "cell_type": "code",
   "execution_count": 4,
   "id": "8f052ed5-3a2b-4f32-8b44-8a86ea278960",
   "metadata": {
    "execution": {
     "iopub.execute_input": "2025-08-19T22:36:40.073316Z",
     "iopub.status.busy": "2025-08-19T22:36:40.073149Z",
     "iopub.status.idle": "2025-08-19T22:36:40.077511Z",
     "shell.execute_reply": "2025-08-19T22:36:40.077012Z"
    }
   },
   "outputs": [
    {
     "data": {
      "text/plain": [
       "array([2.83840696, 2.18091081, 2.00623242, 2.08333039, 2.01694883,\n",
       "       2.7826232 , 2.10564027, 1.27333506, 2.08859855, 1.94177648,\n",
       "       1.88492037, 2.92394733, 2.17231952, 3.08009275, 1.61670886,\n",
       "       1.77403753, 2.67305005, 1.91413882, 2.42117827, 2.13991628,\n",
       "       2.0153805 , 2.71388471, 2.65944255, 2.44416121, 3.14217523])"
      ]
     },
     "execution_count": 4,
     "metadata": {},
     "output_type": "execute_result"
    }
   ],
   "source": [
    "synthetic_data = X @ true_model\n",
    "maxabs = np.max(np.abs(synthetic_data))\n",
    "noise = rng.normal(scale=1e-2 * maxabs, size=synthetic_data.size)\n",
    "synthetic_data += noise\n",
    "synthetic_data"
   ]
  },
  {
   "cell_type": "markdown",
   "id": "e92d45af-a4a8-4417-ab7f-b49b4125eca8",
   "metadata": {},
   "source": [
    "## Inversion"
   ]
  },
  {
   "cell_type": "code",
   "execution_count": 5,
   "id": "ae80cc54-96f9-4a85-ad1f-9dce5dc38870",
   "metadata": {
    "execution": {
     "iopub.execute_input": "2025-08-19T22:36:40.079442Z",
     "iopub.status.busy": "2025-08-19T22:36:40.079233Z",
     "iopub.status.idle": "2025-08-19T22:36:40.082082Z",
     "shell.execute_reply": "2025-08-19T22:36:40.081576Z"
    }
   },
   "outputs": [],
   "source": [
    "uncertainty = 1e-2 * maxabs * np.ones_like(synthetic_data)\n",
    "simulation = LinearRegressor(X, sleep=1)\n",
    "data_misfit = DataMisfit(synthetic_data, uncertainty, simulation)"
   ]
  },
  {
   "cell_type": "code",
   "execution_count": 6,
   "id": "050b9c20-4b0a-49af-a900-1bb964588408",
   "metadata": {
    "execution": {
     "iopub.execute_input": "2025-08-19T22:36:40.083684Z",
     "iopub.status.busy": "2025-08-19T22:36:40.083487Z",
     "iopub.status.idle": "2025-08-19T22:36:40.086106Z",
     "shell.execute_reply": "2025-08-19T22:36:40.085641Z"
    }
   },
   "outputs": [],
   "source": [
    "smallness = TikhonovZero(n_params)"
   ]
  },
  {
   "cell_type": "code",
   "execution_count": 7,
   "id": "b6e3ea36-dc6b-4aa1-99b8-31721937d933",
   "metadata": {
    "execution": {
     "iopub.execute_input": "2025-08-19T22:36:40.087638Z",
     "iopub.status.busy": "2025-08-19T22:36:40.087457Z",
     "iopub.status.idle": "2025-08-19T22:36:40.091013Z",
     "shell.execute_reply": "2025-08-19T22:36:40.090526Z"
    }
   },
   "outputs": [],
   "source": [
    "# Objective function\n",
    "beta_0 = 1e4\n",
    "regularization = beta_0 * smallness\n",
    "phi = data_misfit + regularization\n",
    "\n",
    "# Initial model\n",
    "initial_model = np.zeros(n_params)\n",
    "\n",
    "# Minimizer\n",
    "minimizer = ConjugateGradient()\n",
    "\n",
    "# Directives\n",
    "beta_cooler = MultiplierCooler(regularization, cooling_factor=2.0)\n",
    "\n",
    "# Stopping criteria\n",
    "chi_target = ChiTarget(data_misfit, chi_target=1.0)\n",
    "model_changed = ModelChanged(rtol=1e-1)\n",
    "phi_changed = ObjectiveChanged(phi, rtol=1e-1)\n",
    "stopping_criteria = chi_target | model_changed | phi_changed"
   ]
  },
  {
   "cell_type": "code",
   "execution_count": 8,
   "id": "cf72d7ed-3565-466f-b13a-40a5d359eb9c",
   "metadata": {
    "execution": {
     "iopub.execute_input": "2025-08-19T22:36:40.092926Z",
     "iopub.status.busy": "2025-08-19T22:36:40.092441Z",
     "iopub.status.idle": "2025-08-19T22:36:40.095337Z",
     "shell.execute_reply": "2025-08-19T22:36:40.094834Z"
    }
   },
   "outputs": [],
   "source": [
    "inversion = Inversion(\n",
    "    phi,\n",
    "    initial_model,\n",
    "    minimizer,\n",
    "    directives=[beta_cooler],\n",
    "    stopping_criteria=stopping_criteria,\n",
    "    cache_models=True,\n",
    ")"
   ]
  },
  {
   "cell_type": "code",
   "execution_count": 9,
   "id": "7a8ddaa6-42e3-44d4-8032-654f82b676c8",
   "metadata": {
    "execution": {
     "iopub.execute_input": "2025-08-19T22:36:40.096817Z",
     "iopub.status.busy": "2025-08-19T22:36:40.096651Z",
     "iopub.status.idle": "2025-08-19T22:36:45.237562Z",
     "shell.execute_reply": "2025-08-19T22:36:45.236809Z"
    }
   },
   "outputs": [
    {
     "data": {
      "application/vnd.jupyter.widget-view+json": {
       "model_id": "64a7d2ed67754164ac567962834d5e3f",
       "version_major": 2,
       "version_minor": 0
      },
      "text/plain": [
       "Output()"
      ]
     },
     "metadata": {},
     "output_type": "display_data"
    },
    {
     "name": "stderr",
     "output_type": "stream",
     "text": [
      "INFO: 🎉 Inversion successfully finished due to stopping criteria.\n"
     ]
    },
    {
     "data": {
      "text/html": [
       "<pre style=\"white-space:pre;overflow-x:auto;line-height:normal;font-family:Menlo,'DejaVu Sans Mono',consolas,'Courier New',monospace\"></pre>\n"
      ],
      "text/plain": []
     },
     "metadata": {},
     "output_type": "display_data"
    }
   ],
   "source": [
    "inverted_model = inversion.run()"
   ]
  },
  {
   "cell_type": "code",
   "execution_count": 10,
   "id": "d1845f36-c802-4f55-bea9-37aa62da940a",
   "metadata": {
    "execution": {
     "iopub.execute_input": "2025-08-19T22:36:45.282451Z",
     "iopub.status.busy": "2025-08-19T22:36:45.282149Z",
     "iopub.status.idle": "2025-08-19T22:36:45.291652Z",
     "shell.execute_reply": "2025-08-19T22:36:45.291195Z"
    }
   },
   "outputs": [
    {
     "data": {
      "text/html": [
       "<pre style=\"white-space:pre;overflow-x:auto;line-height:normal;font-family:Menlo,'DejaVu Sans Mono',consolas,'Courier New',monospace\"><span style=\"color: #008000; text-decoration-color: #008000; font-weight: bold\">[x] LogicalOr</span>\n",
       "<span style=\"color: #008000; text-decoration-color: #008000\">├── </span><span style=\"color: #008000; text-decoration-color: #008000; font-weight: bold\">[x] LogicalOr</span>\n",
       "<span style=\"color: #008000; text-decoration-color: #008000\">│   ├── </span><span style=\"color: #800000; text-decoration-color: #800000\">╭─────────────────────────────────────────────────────────────────────────────────────────────────────────╮</span>\n",
       "<span style=\"color: #008000; text-decoration-color: #008000\">│   │   </span><span style=\"color: #800000; text-decoration-color: #800000\">│</span> <span style=\"color: #800000; text-decoration-color: #800000; font-weight: bold\">[ ] ChiTarget</span>                                                                                           <span style=\"color: #800000; text-decoration-color: #800000\">│</span>\n",
       "<span style=\"color: #008000; text-decoration-color: #008000\">│   │   </span><span style=\"color: #800000; text-decoration-color: #800000\">│</span> ├── Condition: chi &lt; chi_target                                                                         <span style=\"color: #800000; text-decoration-color: #800000\">│</span>\n",
       "<span style=\"color: #008000; text-decoration-color: #008000\">│   │   </span><span style=\"color: #800000; text-decoration-color: #800000\">│</span> ├── chi        = 9.23e+00                                                                               <span style=\"color: #800000; text-decoration-color: #800000\">│</span>\n",
       "<span style=\"color: #008000; text-decoration-color: #008000\">│   │   </span><span style=\"color: #800000; text-decoration-color: #800000\">│</span> └── chi_target = 1.00e+00                                                                               <span style=\"color: #800000; text-decoration-color: #800000\">│</span>\n",
       "<span style=\"color: #008000; text-decoration-color: #008000\">│   │   </span><span style=\"color: #800000; text-decoration-color: #800000\">╰─────────────────────────────────────────────────────────────────────────────────────────────────────────╯</span>\n",
       "<span style=\"color: #008000; text-decoration-color: #008000\">│   └── </span><span style=\"color: #008000; text-decoration-color: #008000\">╭─────────────────────────────────────────────────────────────────────────────────────────────────────────╮</span>\n",
       "<span style=\"color: #008000; text-decoration-color: #008000\">│       </span><span style=\"color: #008000; text-decoration-color: #008000\">│</span> <span style=\"color: #008000; text-decoration-color: #008000; font-weight: bold\">[x] ModelChanged</span>                                                                                        <span style=\"color: #008000; text-decoration-color: #008000\">│</span>\n",
       "<span style=\"color: #008000; text-decoration-color: #008000\">│       </span><span style=\"color: #008000; text-decoration-color: #008000\">│</span> ├── Condition: |m - m_prev| &lt;= max(|m_prev| * rtol, atol)                                               <span style=\"color: #008000; text-decoration-color: #008000\">│</span>\n",
       "<span style=\"color: #008000; text-decoration-color: #008000\">│       </span><span style=\"color: #008000; text-decoration-color: #008000\">│</span> ├── |m - m_prev| = 1.32e-01                                                                             <span style=\"color: #008000; text-decoration-color: #008000\">│</span>\n",
       "<span style=\"color: #008000; text-decoration-color: #008000\">│       </span><span style=\"color: #008000; text-decoration-color: #008000\">│</span> ├── |m_prev|     = 1.41e+00                                                                             <span style=\"color: #008000; text-decoration-color: #008000\">│</span>\n",
       "<span style=\"color: #008000; text-decoration-color: #008000\">│       </span><span style=\"color: #008000; text-decoration-color: #008000\">│</span> ├── rtol         = 1.00e-01                                                                             <span style=\"color: #008000; text-decoration-color: #008000\">│</span>\n",
       "<span style=\"color: #008000; text-decoration-color: #008000\">│       </span><span style=\"color: #008000; text-decoration-color: #008000\">│</span> └── atol         = 0.00e+00                                                                             <span style=\"color: #008000; text-decoration-color: #008000\">│</span>\n",
       "<span style=\"color: #008000; text-decoration-color: #008000\">│       </span><span style=\"color: #008000; text-decoration-color: #008000\">╰─────────────────────────────────────────────────────────────────────────────────────────────────────────╯</span>\n",
       "<span style=\"color: #008000; text-decoration-color: #008000\">└── </span><span style=\"color: #800000; text-decoration-color: #800000\">╭─────────────────────────────────────────────────────────────────────────────────────────────────────────────╮</span>\n",
       "<span style=\"color: #008000; text-decoration-color: #008000\">    </span><span style=\"color: #800000; text-decoration-color: #800000\">│</span> <span style=\"color: #800000; text-decoration-color: #800000; font-weight: bold\">[ ] ObjectiveChanged</span>                                                                                        <span style=\"color: #800000; text-decoration-color: #800000\">│</span>\n",
       "<span style=\"color: #008000; text-decoration-color: #008000\">    </span><span style=\"color: #800000; text-decoration-color: #800000\">│</span> ├── Condition: |φ(m) - φ(m_prev)| &lt;= max(|φ(m_prev)| * rtol, atol)                                          <span style=\"color: #800000; text-decoration-color: #800000\">│</span>\n",
       "<span style=\"color: #008000; text-decoration-color: #008000\">    </span><span style=\"color: #800000; text-decoration-color: #800000\">│</span> ├── |φ(m) - φ(m_prev)| = 2.59e+03                                                                           <span style=\"color: #800000; text-decoration-color: #800000\">│</span>\n",
       "<span style=\"color: #008000; text-decoration-color: #008000\">    </span><span style=\"color: #800000; text-decoration-color: #800000\">│</span> ├── |φ(m_prev)|        = 5.55e+03                                                                           <span style=\"color: #800000; text-decoration-color: #800000\">│</span>\n",
       "<span style=\"color: #008000; text-decoration-color: #008000\">    </span><span style=\"color: #800000; text-decoration-color: #800000\">│</span> ├── rtol               = 1.00e-01                                                                           <span style=\"color: #800000; text-decoration-color: #800000\">│</span>\n",
       "<span style=\"color: #008000; text-decoration-color: #008000\">    </span><span style=\"color: #800000; text-decoration-color: #800000\">│</span> └── atol               = 0.00e+00                                                                           <span style=\"color: #800000; text-decoration-color: #800000\">│</span>\n",
       "<span style=\"color: #008000; text-decoration-color: #008000\">    </span><span style=\"color: #800000; text-decoration-color: #800000\">╰─────────────────────────────────────────────────────────────────────────────────────────────────────────────╯</span>\n",
       "</pre>\n"
      ],
      "text/plain": [
       "\u001b[1;32m[x] LogicalOr\u001b[0m\n",
       "\u001b[32m├── \u001b[0m\u001b[1;32m[x] LogicalOr\u001b[0m\n",
       "\u001b[32m│   \u001b[0m\u001b[32m├── \u001b[0m\u001b[31m╭─────────────────────────────────────────────────────────────────────────────────────────────────────────╮\u001b[0m\n",
       "\u001b[32m│   \u001b[0m\u001b[32m│   \u001b[0m\u001b[31m│\u001b[0m \u001b[1;31m[ ] ChiTarget\u001b[0m                                                                                           \u001b[31m│\u001b[0m\n",
       "\u001b[32m│   \u001b[0m\u001b[32m│   \u001b[0m\u001b[31m│\u001b[0m ├── Condition: chi < chi_target                                                                         \u001b[31m│\u001b[0m\n",
       "\u001b[32m│   \u001b[0m\u001b[32m│   \u001b[0m\u001b[31m│\u001b[0m ├── chi        = 9.23e+00                                                                               \u001b[31m│\u001b[0m\n",
       "\u001b[32m│   \u001b[0m\u001b[32m│   \u001b[0m\u001b[31m│\u001b[0m └── chi_target = 1.00e+00                                                                               \u001b[31m│\u001b[0m\n",
       "\u001b[32m│   \u001b[0m\u001b[32m│   \u001b[0m\u001b[31m╰─────────────────────────────────────────────────────────────────────────────────────────────────────────╯\u001b[0m\n",
       "\u001b[32m│   \u001b[0m\u001b[32m└── \u001b[0m\u001b[32m╭─────────────────────────────────────────────────────────────────────────────────────────────────────────╮\u001b[0m\n",
       "\u001b[32m│   \u001b[0m\u001b[32m    \u001b[0m\u001b[32m│\u001b[0m \u001b[1;32m[x] ModelChanged\u001b[0m                                                                                        \u001b[32m│\u001b[0m\n",
       "\u001b[32m│   \u001b[0m\u001b[32m    \u001b[0m\u001b[32m│\u001b[0m ├── Condition: |m - m_prev| <= max(|m_prev| * rtol, atol)                                               \u001b[32m│\u001b[0m\n",
       "\u001b[32m│   \u001b[0m\u001b[32m    \u001b[0m\u001b[32m│\u001b[0m ├── |m - m_prev| = 1.32e-01                                                                             \u001b[32m│\u001b[0m\n",
       "\u001b[32m│   \u001b[0m\u001b[32m    \u001b[0m\u001b[32m│\u001b[0m ├── |m_prev|     = 1.41e+00                                                                             \u001b[32m│\u001b[0m\n",
       "\u001b[32m│   \u001b[0m\u001b[32m    \u001b[0m\u001b[32m│\u001b[0m ├── rtol         = 1.00e-01                                                                             \u001b[32m│\u001b[0m\n",
       "\u001b[32m│   \u001b[0m\u001b[32m    \u001b[0m\u001b[32m│\u001b[0m └── atol         = 0.00e+00                                                                             \u001b[32m│\u001b[0m\n",
       "\u001b[32m│   \u001b[0m\u001b[32m    \u001b[0m\u001b[32m╰─────────────────────────────────────────────────────────────────────────────────────────────────────────╯\u001b[0m\n",
       "\u001b[32m└── \u001b[0m\u001b[31m╭─────────────────────────────────────────────────────────────────────────────────────────────────────────────╮\u001b[0m\n",
       "\u001b[32m    \u001b[0m\u001b[31m│\u001b[0m \u001b[1;31m[ ] ObjectiveChanged\u001b[0m                                                                                        \u001b[31m│\u001b[0m\n",
       "\u001b[32m    \u001b[0m\u001b[31m│\u001b[0m ├── Condition: |φ(m) - φ(m_prev)| <= max(|φ(m_prev)| * rtol, atol)                                          \u001b[31m│\u001b[0m\n",
       "\u001b[32m    \u001b[0m\u001b[31m│\u001b[0m ├── |φ(m) - φ(m_prev)| = 2.59e+03                                                                           \u001b[31m│\u001b[0m\n",
       "\u001b[32m    \u001b[0m\u001b[31m│\u001b[0m ├── |φ(m_prev)|        = 5.55e+03                                                                           \u001b[31m│\u001b[0m\n",
       "\u001b[32m    \u001b[0m\u001b[31m│\u001b[0m ├── rtol               = 1.00e-01                                                                           \u001b[31m│\u001b[0m\n",
       "\u001b[32m    \u001b[0m\u001b[31m│\u001b[0m └── atol               = 0.00e+00                                                                           \u001b[31m│\u001b[0m\n",
       "\u001b[32m    \u001b[0m\u001b[31m╰─────────────────────────────────────────────────────────────────────────────────────────────────────────────╯\u001b[0m\n"
      ]
     },
     "execution_count": 10,
     "metadata": {},
     "output_type": "execute_result"
    }
   ],
   "source": [
    "stopping_criteria.info(inverted_model)"
   ]
  },
  {
   "cell_type": "code",
   "execution_count": 11,
   "id": "4e557abc-ec1d-45f4-995f-02a0494d405a",
   "metadata": {
    "execution": {
     "iopub.execute_input": "2025-08-19T22:36:45.293415Z",
     "iopub.status.busy": "2025-08-19T22:36:45.293195Z",
     "iopub.status.idle": "2025-08-19T22:36:45.297656Z",
     "shell.execute_reply": "2025-08-19T22:36:45.297199Z"
    }
   },
   "outputs": [
    {
     "data": {
      "text/html": [
       "<pre style=\"white-space:pre;overflow-x:auto;line-height:normal;font-family:Menlo,'DejaVu Sans Mono',consolas,'Courier New',monospace\"><span style=\"color: #800000; text-decoration-color: #800000; font-weight: bold\">[ ] ChiTarget</span>\n",
       "├── Condition: chi &lt; chi_target\n",
       "├── chi        = 9.23e+00\n",
       "└── chi_target = 1.00e+00\n",
       "</pre>\n"
      ],
      "text/plain": [
       "\u001b[1;31m[ ] ChiTarget\u001b[0m\n",
       "├── Condition: chi < chi_target\n",
       "├── chi        = 9.23e+00\n",
       "└── chi_target = 1.00e+00\n"
      ]
     },
     "execution_count": 11,
     "metadata": {},
     "output_type": "execute_result"
    }
   ],
   "source": [
    "tree = chi_target.info(inverted_model)\n",
    "tree"
   ]
  },
  {
   "cell_type": "code",
   "execution_count": 12,
   "id": "9c9040bc-fca0-4654-a843-765c6a4c1b4b",
   "metadata": {
    "execution": {
     "iopub.execute_input": "2025-08-19T22:36:45.299449Z",
     "iopub.status.busy": "2025-08-19T22:36:45.299150Z",
     "iopub.status.idle": "2025-08-19T22:36:45.303064Z",
     "shell.execute_reply": "2025-08-19T22:36:45.302523Z"
    }
   },
   "outputs": [
    {
     "data": {
      "text/plain": [
       "False"
      ]
     },
     "execution_count": 12,
     "metadata": {},
     "output_type": "execute_result"
    }
   ],
   "source": [
    "chi_target(inverted_model)"
   ]
  },
  {
   "cell_type": "code",
   "execution_count": 13,
   "id": "2e7c0859-554d-47bb-8e3f-20f261bb67e1",
   "metadata": {
    "execution": {
     "iopub.execute_input": "2025-08-19T22:36:45.304906Z",
     "iopub.status.busy": "2025-08-19T22:36:45.304516Z",
     "iopub.status.idle": "2025-08-19T22:36:45.308016Z",
     "shell.execute_reply": "2025-08-19T22:36:45.307613Z"
    }
   },
   "outputs": [
    {
     "data": {
      "text/plain": [
       "True"
      ]
     },
     "execution_count": 13,
     "metadata": {},
     "output_type": "execute_result"
    }
   ],
   "source": [
    "model_changed(inverted_model)"
   ]
  },
  {
   "cell_type": "code",
   "execution_count": 14,
   "id": "53880cc0-fc58-4965-8e9f-1201fe302b28",
   "metadata": {
    "execution": {
     "iopub.execute_input": "2025-08-19T22:36:45.309661Z",
     "iopub.status.busy": "2025-08-19T22:36:45.309452Z",
     "iopub.status.idle": "2025-08-19T22:36:45.313147Z",
     "shell.execute_reply": "2025-08-19T22:36:45.312718Z"
    }
   },
   "outputs": [
    {
     "data": {
      "text/plain": [
       "np.False_"
      ]
     },
     "execution_count": 14,
     "metadata": {},
     "output_type": "execute_result"
    }
   ],
   "source": [
    "phi_changed(inverted_model)"
   ]
  },
  {
   "cell_type": "markdown",
   "id": "55937146-ef20-4d80-a03b-60d5cdefc4b0",
   "metadata": {},
   "source": [
    "## Reuse conditions\n",
    "\n",
    "If we reuse the conditions, the new inversion should initialize the stopping criteria on the zeroth inversion, starting from fresh."
   ]
  },
  {
   "cell_type": "code",
   "execution_count": 15,
   "id": "0cb8a52b-19f7-45b7-a4eb-3ed6df4a71b4",
   "metadata": {
    "execution": {
     "iopub.execute_input": "2025-08-19T22:36:45.314901Z",
     "iopub.status.busy": "2025-08-19T22:36:45.314584Z",
     "iopub.status.idle": "2025-08-19T22:36:45.317341Z",
     "shell.execute_reply": "2025-08-19T22:36:45.316848Z"
    }
   },
   "outputs": [],
   "source": [
    "# Reset starting beta in the regularization\n",
    "regularization.multiplier = 1e4\n",
    "\n",
    "inversion = Inversion(\n",
    "    phi,\n",
    "    initial_model,\n",
    "    minimizer,\n",
    "    directives=[beta_cooler],\n",
    "    stopping_criteria=stopping_criteria,\n",
    "    cache_models=True,\n",
    ")"
   ]
  },
  {
   "cell_type": "code",
   "execution_count": 16,
   "id": "14a40cb0-d5f9-44f8-ba1e-cd1f26908737",
   "metadata": {
    "execution": {
     "iopub.execute_input": "2025-08-19T22:36:45.318954Z",
     "iopub.status.busy": "2025-08-19T22:36:45.318782Z",
     "iopub.status.idle": "2025-08-19T22:36:50.443243Z",
     "shell.execute_reply": "2025-08-19T22:36:50.441787Z"
    }
   },
   "outputs": [
    {
     "data": {
      "application/vnd.jupyter.widget-view+json": {
       "model_id": "3221f5ccb7f54811a582a0779b0f263b",
       "version_major": 2,
       "version_minor": 0
      },
      "text/plain": [
       "Output()"
      ]
     },
     "metadata": {},
     "output_type": "display_data"
    },
    {
     "name": "stderr",
     "output_type": "stream",
     "text": [
      "INFO: 🎉 Inversion successfully finished due to stopping criteria.\n"
     ]
    },
    {
     "data": {
      "text/html": [
       "<pre style=\"white-space:pre;overflow-x:auto;line-height:normal;font-family:Menlo,'DejaVu Sans Mono',consolas,'Courier New',monospace\"></pre>\n"
      ],
      "text/plain": []
     },
     "metadata": {},
     "output_type": "display_data"
    }
   ],
   "source": [
    "inverted_model = inversion.run()"
   ]
  }
 ],
 "metadata": {
  "kernelspec": {
   "display_name": "Python [conda env:inversion_ideas]",
   "language": "python",
   "name": "conda-env-inversion_ideas-py"
  },
  "language_info": {
   "codemirror_mode": {
    "name": "ipython",
    "version": 3
   },
   "file_extension": ".py",
   "mimetype": "text/x-python",
   "name": "python",
   "nbconvert_exporter": "python",
   "pygments_lexer": "ipython3",
   "version": "3.13.5"
  },
  "widgets": {
   "application/vnd.jupyter.widget-state+json": {
    "state": {
     "3221f5ccb7f54811a582a0779b0f263b": {
      "model_module": "@jupyter-widgets/output",
      "model_module_version": "1.0.0",
      "model_name": "OutputModel",
      "state": {
       "_dom_classes": [],
       "_model_module": "@jupyter-widgets/output",
       "_model_module_version": "1.0.0",
       "_model_name": "OutputModel",
       "_view_count": null,
       "_view_module": "@jupyter-widgets/output",
       "_view_module_version": "1.0.0",
       "_view_name": "OutputView",
       "layout": "IPY_MODEL_c82a419f2f91468cba8d66d9308d6d9c",
       "msg_id": "",
       "outputs": [
        {
         "data": {
          "text/html": "<pre style=\"white-space:pre;overflow-x:auto;line-height:normal;font-family:Menlo,'DejaVu Sans Mono',consolas,'Courier New',monospace\">┏━━━━━━┳━━━━━━━━━━┳━━━━━━━━━━┳━━━━━━━━━━┳━━━━━━━━━━┳━━━━━━━━━━┳━━━━━━━━━━┓\n┃<span style=\"font-weight: bold\"> iter </span>┃<span style=\"font-weight: bold\"> β        </span>┃<span style=\"font-weight: bold\"> φ_d      </span>┃<span style=\"font-weight: bold\"> φ_m      </span>┃<span style=\"font-weight: bold\"> β φ_m    </span>┃<span style=\"font-weight: bold\"> φ        </span>┃<span style=\"font-weight: bold\"> χ        </span>┃\n┡━━━━━━╇━━━━━━━━━━╇━━━━━━━━━━╇━━━━━━━━━━╇━━━━━━━━━━╇━━━━━━━━━━╇━━━━━━━━━━┩\n│ 0    │ 1.00e+04 │ 1.36e+05 │ 0.00e+00 │ 0.00e+00 │ 1.36e+05 │ 5.44e+03 │\n│ 1    │ 1.00e+04 │ 3.28e+03 │ 1.51e+00 │ 1.51e+04 │ 1.84e+04 │ 1.31e+02 │\n│ 2    │ 5.00e+03 │ 1.37e+03 │ 1.77e+00 │ 8.85e+03 │ 1.02e+04 │ 5.50e+01 │\n│ 3    │ 2.50e+03 │ 5.80e+02 │ 1.99e+00 │ 4.97e+03 │ 5.55e+03 │ 2.32e+01 │\n│ 4    │ 1.25e+03 │ 2.31e+02 │ 2.18e+00 │ 2.73e+03 │ 2.96e+03 │ 9.23e+00 │\n└──────┴──────────┴──────────┴──────────┴──────────┴──────────┴──────────┘\n</pre>\n",
          "text/plain": "┏━━━━━━┳━━━━━━━━━━┳━━━━━━━━━━┳━━━━━━━━━━┳━━━━━━━━━━┳━━━━━━━━━━┳━━━━━━━━━━┓\n┃\u001b[1m \u001b[0m\u001b[1miter\u001b[0m\u001b[1m \u001b[0m┃\u001b[1m \u001b[0m\u001b[1mβ       \u001b[0m\u001b[1m \u001b[0m┃\u001b[1m \u001b[0m\u001b[1mφ_d     \u001b[0m\u001b[1m \u001b[0m┃\u001b[1m \u001b[0m\u001b[1mφ_m     \u001b[0m\u001b[1m \u001b[0m┃\u001b[1m \u001b[0m\u001b[1mβ φ_m   \u001b[0m\u001b[1m \u001b[0m┃\u001b[1m \u001b[0m\u001b[1mφ       \u001b[0m\u001b[1m \u001b[0m┃\u001b[1m \u001b[0m\u001b[1mχ       \u001b[0m\u001b[1m \u001b[0m┃\n┡━━━━━━╇━━━━━━━━━━╇━━━━━━━━━━╇━━━━━━━━━━╇━━━━━━━━━━╇━━━━━━━━━━╇━━━━━━━━━━┩\n│ 0    │ 1.00e+04 │ 1.36e+05 │ 0.00e+00 │ 0.00e+00 │ 1.36e+05 │ 5.44e+03 │\n│ 1    │ 1.00e+04 │ 3.28e+03 │ 1.51e+00 │ 1.51e+04 │ 1.84e+04 │ 1.31e+02 │\n│ 2    │ 5.00e+03 │ 1.37e+03 │ 1.77e+00 │ 8.85e+03 │ 1.02e+04 │ 5.50e+01 │\n│ 3    │ 2.50e+03 │ 5.80e+02 │ 1.99e+00 │ 4.97e+03 │ 5.55e+03 │ 2.32e+01 │\n│ 4    │ 1.25e+03 │ 2.31e+02 │ 2.18e+00 │ 2.73e+03 │ 2.96e+03 │ 9.23e+00 │\n└──────┴──────────┴──────────┴──────────┴──────────┴──────────┴──────────┘\n"
         },
         "metadata": {},
         "output_type": "display_data"
        }
       ],
       "tabbable": null,
       "tooltip": null
      }
     },
     "64a7d2ed67754164ac567962834d5e3f": {
      "model_module": "@jupyter-widgets/output",
      "model_module_version": "1.0.0",
      "model_name": "OutputModel",
      "state": {
       "_dom_classes": [],
       "_model_module": "@jupyter-widgets/output",
       "_model_module_version": "1.0.0",
       "_model_name": "OutputModel",
       "_view_count": null,
       "_view_module": "@jupyter-widgets/output",
       "_view_module_version": "1.0.0",
       "_view_name": "OutputView",
       "layout": "IPY_MODEL_95c390c82e874462a404820a9260114e",
       "msg_id": "",
       "outputs": [
        {
         "data": {
          "text/html": "<pre style=\"white-space:pre;overflow-x:auto;line-height:normal;font-family:Menlo,'DejaVu Sans Mono',consolas,'Courier New',monospace\">┏━━━━━━┳━━━━━━━━━━┳━━━━━━━━━━┳━━━━━━━━━━┳━━━━━━━━━━┳━━━━━━━━━━┳━━━━━━━━━━┓\n┃<span style=\"font-weight: bold\"> iter </span>┃<span style=\"font-weight: bold\"> β        </span>┃<span style=\"font-weight: bold\"> φ_d      </span>┃<span style=\"font-weight: bold\"> φ_m      </span>┃<span style=\"font-weight: bold\"> β φ_m    </span>┃<span style=\"font-weight: bold\"> φ        </span>┃<span style=\"font-weight: bold\"> χ        </span>┃\n┡━━━━━━╇━━━━━━━━━━╇━━━━━━━━━━╇━━━━━━━━━━╇━━━━━━━━━━╇━━━━━━━━━━╇━━━━━━━━━━┩\n│ 0    │ 1.00e+04 │ 1.36e+05 │ 0.00e+00 │ 0.00e+00 │ 1.36e+05 │ 5.44e+03 │\n│ 1    │ 1.00e+04 │ 3.28e+03 │ 1.51e+00 │ 1.51e+04 │ 1.84e+04 │ 1.31e+02 │\n│ 2    │ 5.00e+03 │ 1.37e+03 │ 1.77e+00 │ 8.85e+03 │ 1.02e+04 │ 5.50e+01 │\n│ 3    │ 2.50e+03 │ 5.80e+02 │ 1.99e+00 │ 4.97e+03 │ 5.55e+03 │ 2.32e+01 │\n│ 4    │ 1.25e+03 │ 2.31e+02 │ 2.18e+00 │ 2.73e+03 │ 2.96e+03 │ 9.23e+00 │\n└──────┴──────────┴──────────┴──────────┴──────────┴──────────┴──────────┘\n</pre>\n",
          "text/plain": "┏━━━━━━┳━━━━━━━━━━┳━━━━━━━━━━┳━━━━━━━━━━┳━━━━━━━━━━┳━━━━━━━━━━┳━━━━━━━━━━┓\n┃\u001b[1m \u001b[0m\u001b[1miter\u001b[0m\u001b[1m \u001b[0m┃\u001b[1m \u001b[0m\u001b[1mβ       \u001b[0m\u001b[1m \u001b[0m┃\u001b[1m \u001b[0m\u001b[1mφ_d     \u001b[0m\u001b[1m \u001b[0m┃\u001b[1m \u001b[0m\u001b[1mφ_m     \u001b[0m\u001b[1m \u001b[0m┃\u001b[1m \u001b[0m\u001b[1mβ φ_m   \u001b[0m\u001b[1m \u001b[0m┃\u001b[1m \u001b[0m\u001b[1mφ       \u001b[0m\u001b[1m \u001b[0m┃\u001b[1m \u001b[0m\u001b[1mχ       \u001b[0m\u001b[1m \u001b[0m┃\n┡━━━━━━╇━━━━━━━━━━╇━━━━━━━━━━╇━━━━━━━━━━╇━━━━━━━━━━╇━━━━━━━━━━╇━━━━━━━━━━┩\n│ 0    │ 1.00e+04 │ 1.36e+05 │ 0.00e+00 │ 0.00e+00 │ 1.36e+05 │ 5.44e+03 │\n│ 1    │ 1.00e+04 │ 3.28e+03 │ 1.51e+00 │ 1.51e+04 │ 1.84e+04 │ 1.31e+02 │\n│ 2    │ 5.00e+03 │ 1.37e+03 │ 1.77e+00 │ 8.85e+03 │ 1.02e+04 │ 5.50e+01 │\n│ 3    │ 2.50e+03 │ 5.80e+02 │ 1.99e+00 │ 4.97e+03 │ 5.55e+03 │ 2.32e+01 │\n│ 4    │ 1.25e+03 │ 2.31e+02 │ 2.18e+00 │ 2.73e+03 │ 2.96e+03 │ 9.23e+00 │\n└──────┴──────────┴──────────┴──────────┴──────────┴──────────┴──────────┘\n"
         },
         "metadata": {},
         "output_type": "display_data"
        }
       ],
       "tabbable": null,
       "tooltip": null
      }
     },
     "95c390c82e874462a404820a9260114e": {
      "model_module": "@jupyter-widgets/base",
      "model_module_version": "2.0.0",
      "model_name": "LayoutModel",
      "state": {
       "_model_module": "@jupyter-widgets/base",
       "_model_module_version": "2.0.0",
       "_model_name": "LayoutModel",
       "_view_count": null,
       "_view_module": "@jupyter-widgets/base",
       "_view_module_version": "2.0.0",
       "_view_name": "LayoutView",
       "align_content": null,
       "align_items": null,
       "align_self": null,
       "border_bottom": null,
       "border_left": null,
       "border_right": null,
       "border_top": null,
       "bottom": null,
       "display": null,
       "flex": null,
       "flex_flow": null,
       "grid_area": null,
       "grid_auto_columns": null,
       "grid_auto_flow": null,
       "grid_auto_rows": null,
       "grid_column": null,
       "grid_gap": null,
       "grid_row": null,
       "grid_template_areas": null,
       "grid_template_columns": null,
       "grid_template_rows": null,
       "height": null,
       "justify_content": null,
       "justify_items": null,
       "left": null,
       "margin": null,
       "max_height": null,
       "max_width": null,
       "min_height": null,
       "min_width": null,
       "object_fit": null,
       "object_position": null,
       "order": null,
       "overflow": null,
       "padding": null,
       "right": null,
       "top": null,
       "visibility": null,
       "width": null
      }
     },
     "c82a419f2f91468cba8d66d9308d6d9c": {
      "model_module": "@jupyter-widgets/base",
      "model_module_version": "2.0.0",
      "model_name": "LayoutModel",
      "state": {
       "_model_module": "@jupyter-widgets/base",
       "_model_module_version": "2.0.0",
       "_model_name": "LayoutModel",
       "_view_count": null,
       "_view_module": "@jupyter-widgets/base",
       "_view_module_version": "2.0.0",
       "_view_name": "LayoutView",
       "align_content": null,
       "align_items": null,
       "align_self": null,
       "border_bottom": null,
       "border_left": null,
       "border_right": null,
       "border_top": null,
       "bottom": null,
       "display": null,
       "flex": null,
       "flex_flow": null,
       "grid_area": null,
       "grid_auto_columns": null,
       "grid_auto_flow": null,
       "grid_auto_rows": null,
       "grid_column": null,
       "grid_gap": null,
       "grid_row": null,
       "grid_template_areas": null,
       "grid_template_columns": null,
       "grid_template_rows": null,
       "height": null,
       "justify_content": null,
       "justify_items": null,
       "left": null,
       "margin": null,
       "max_height": null,
       "max_width": null,
       "min_height": null,
       "min_width": null,
       "object_fit": null,
       "object_position": null,
       "order": null,
       "overflow": null,
       "padding": null,
       "right": null,
       "top": null,
       "visibility": null,
       "width": null
      }
     }
    },
    "version_major": 2,
    "version_minor": 0
   }
  }
 },
 "nbformat": 4,
 "nbformat_minor": 5
}
