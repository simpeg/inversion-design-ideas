{
 "cells": [
  {
   "cell_type": "markdown",
   "id": "fd87af27-37b6-4b78-b01e-431673c8010a",
   "metadata": {},
   "source": [
    "# Use the `Inversion` class"
   ]
  },
  {
   "cell_type": "code",
   "execution_count": 1,
   "id": "fa174e25-ec16-4b65-b351-d5337a5f9462",
   "metadata": {
    "execution": {
     "iopub.execute_input": "2025-08-13T19:04:38.041716Z",
     "iopub.status.busy": "2025-08-13T19:04:38.041455Z",
     "iopub.status.idle": "2025-08-13T19:04:38.846015Z",
     "shell.execute_reply": "2025-08-13T19:04:38.845448Z",
     "shell.execute_reply.started": "2025-08-13T19:04:38.041692Z"
    }
   },
   "outputs": [],
   "source": [
    "import numpy as np\n",
    "import pandas as pd\n",
    "import matplotlib.pyplot as plt\n",
    "\n",
    "import inversion_ideas as ii\n",
    "from regressor import LinearRegressor"
   ]
  },
  {
   "cell_type": "markdown",
   "id": "c10e1d27-613d-4521-9fe5-606099062da9",
   "metadata": {},
   "source": [
    "## Synthetic data"
   ]
  },
  {
   "cell_type": "code",
   "execution_count": 2,
   "id": "231a716f-d2ed-47e5-a7df-e73c29593a27",
   "metadata": {
    "execution": {
     "iopub.execute_input": "2025-08-13T19:04:38.846853Z",
     "iopub.status.busy": "2025-08-13T19:04:38.846567Z",
     "iopub.status.idle": "2025-08-13T19:04:38.852633Z",
     "shell.execute_reply": "2025-08-13T19:04:38.852204Z",
     "shell.execute_reply.started": "2025-08-13T19:04:38.846835Z"
    }
   },
   "outputs": [
    {
     "data": {
      "text/plain": [
       "array([0.78225148, 0.67148671, 0.2373809 , 0.17946133, 0.34662367,\n",
       "       0.15210999, 0.31142952, 0.23900652, 0.54355731, 0.91770851])"
      ]
     },
     "execution_count": 2,
     "metadata": {},
     "output_type": "execute_result"
    }
   ],
   "source": [
    "n_params = 10\n",
    "rng = np.random.default_rng(seed=4242)\n",
    "true_model = rng.uniform(size=10)\n",
    "true_model"
   ]
  },
  {
   "cell_type": "code",
   "execution_count": 3,
   "id": "49714d31-2b86-4bc7-b1ef-8596706aceb2",
   "metadata": {
    "execution": {
     "iopub.execute_input": "2025-08-13T19:04:38.853379Z",
     "iopub.status.busy": "2025-08-13T19:04:38.853154Z",
     "iopub.status.idle": "2025-08-13T19:04:38.858284Z",
     "shell.execute_reply": "2025-08-13T19:04:38.857747Z",
     "shell.execute_reply.started": "2025-08-13T19:04:38.853352Z"
    }
   },
   "outputs": [],
   "source": [
    "# Build the X matrix\n",
    "n_data = 25\n",
    "shape = (n_data, n_params)\n",
    "X = rng.uniform(size=n_data * n_params).reshape(shape)"
   ]
  },
  {
   "cell_type": "code",
   "execution_count": 4,
   "id": "00dce0f3-3258-41f6-91e7-d0be28c0df9b",
   "metadata": {
    "execution": {
     "iopub.execute_input": "2025-08-13T19:04:38.859445Z",
     "iopub.status.busy": "2025-08-13T19:04:38.859167Z",
     "iopub.status.idle": "2025-08-13T19:04:38.864550Z",
     "shell.execute_reply": "2025-08-13T19:04:38.863952Z",
     "shell.execute_reply.started": "2025-08-13T19:04:38.859423Z"
    }
   },
   "outputs": [
    {
     "data": {
      "text/plain": [
       "array([2.83840696, 2.18091081, 2.00623242, 2.08333039, 2.01694883,\n",
       "       2.7826232 , 2.10564027, 1.27333506, 2.08859855, 1.94177648,\n",
       "       1.88492037, 2.92394733, 2.17231952, 3.08009275, 1.61670886,\n",
       "       1.77403753, 2.67305005, 1.91413882, 2.42117827, 2.13991628,\n",
       "       2.0153805 , 2.71388471, 2.65944255, 2.44416121, 3.14217523])"
      ]
     },
     "execution_count": 4,
     "metadata": {},
     "output_type": "execute_result"
    }
   ],
   "source": [
    "# Generate synthetic data with noise\n",
    "synthetic_data = X @ true_model\n",
    "maxabs = np.max(np.abs(synthetic_data))\n",
    "std_err =  1e-2 * maxabs\n",
    "noise = rng.normal(scale=std_err, size=synthetic_data.size)\n",
    "synthetic_data += noise\n",
    "synthetic_data"
   ]
  },
  {
   "cell_type": "markdown",
   "id": "6727d690-e683-47a0-b580-1a112c2f991c",
   "metadata": {},
   "source": [
    "## Inversion with beta scheduling"
   ]
  },
  {
   "cell_type": "code",
   "execution_count": 5,
   "id": "b7f0bcbb-0821-4679-9392-dd0a8c2a8fbf",
   "metadata": {
    "execution": {
     "iopub.execute_input": "2025-08-13T19:04:38.865447Z",
     "iopub.status.busy": "2025-08-13T19:04:38.865234Z",
     "iopub.status.idle": "2025-08-13T19:04:38.868513Z",
     "shell.execute_reply": "2025-08-13T19:04:38.867993Z",
     "shell.execute_reply.started": "2025-08-13T19:04:38.865424Z"
    }
   },
   "outputs": [],
   "source": [
    "simulation = LinearRegressor(X, sleep=1)"
   ]
  },
  {
   "cell_type": "code",
   "execution_count": 6,
   "id": "6355f4c3-5d25-46a7-b60d-a42a3f68eaa0",
   "metadata": {
    "execution": {
     "iopub.execute_input": "2025-08-13T19:04:38.870962Z",
     "iopub.status.busy": "2025-08-13T19:04:38.870747Z",
     "iopub.status.idle": "2025-08-13T19:04:38.875795Z",
     "shell.execute_reply": "2025-08-13T19:04:38.875313Z",
     "shell.execute_reply.started": "2025-08-13T19:04:38.870940Z"
    }
   },
   "outputs": [
    {
     "data": {
      "text/latex": [
       "$\\phi_{d} (m)$"
      ],
      "text/plain": [
       "φd(m)"
      ]
     },
     "execution_count": 6,
     "metadata": {},
     "output_type": "execute_result"
    }
   ],
   "source": [
    "uncertainty = std_err * np.ones_like(synthetic_data)\n",
    "data_misfit = ii.DataMisfit(synthetic_data, uncertainty, simulation)\n",
    "data_misfit"
   ]
  },
  {
   "cell_type": "code",
   "execution_count": 7,
   "id": "c685e7d8-eb05-4ce0-8674-9c07b59f245e",
   "metadata": {
    "execution": {
     "iopub.execute_input": "2025-08-13T19:04:38.876560Z",
     "iopub.status.busy": "2025-08-13T19:04:38.876356Z",
     "iopub.status.idle": "2025-08-13T19:04:38.880514Z",
     "shell.execute_reply": "2025-08-13T19:04:38.879923Z",
     "shell.execute_reply.started": "2025-08-13T19:04:38.876537Z"
    }
   },
   "outputs": [
    {
     "data": {
      "text/latex": [
       "$\\phi_{s} (m)$"
      ],
      "text/plain": [
       "φs(m)"
      ]
     },
     "execution_count": 7,
     "metadata": {},
     "output_type": "execute_result"
    }
   ],
   "source": [
    "smallness = ii.TikhonovZero(n_params)\n",
    "smallness"
   ]
  },
  {
   "cell_type": "code",
   "execution_count": 8,
   "id": "03ef451b-e7e9-4118-8b77-4a1695127316",
   "metadata": {
    "execution": {
     "iopub.execute_input": "2025-08-13T19:04:38.881013Z",
     "iopub.status.busy": "2025-08-13T19:04:38.880859Z",
     "iopub.status.idle": "2025-08-13T19:04:38.884872Z",
     "shell.execute_reply": "2025-08-13T19:04:38.884366Z",
     "shell.execute_reply.started": "2025-08-13T19:04:38.880997Z"
    }
   },
   "outputs": [],
   "source": [
    "# Define objective function with starting beta\n",
    "beta_0 = 1e4\n",
    "regularization = beta_0 * smallness\n",
    "phi = data_misfit + regularization\n",
    "\n",
    "# Initial model\n",
    "initial_model = np.zeros(n_params)\n",
    "\n",
    "# Minimizer\n",
    "minimizer = ii.ConjugateGradient()\n",
    "\n",
    "# Beta cooling\n",
    "beta_cooler = ii.MultiplierCooler(regularization, cooling_factor=2.0)\n",
    "\n",
    "# Stopping criteria\n",
    "chi_target = 1.0\n",
    "stopping_criteria = ii.ChiTarget(data_misfit, chi_target=chi_target)\n",
    "\n",
    "# Inversion\n",
    "inversion = ii.Inversion(\n",
    "    phi,\n",
    "    initial_model,\n",
    "    minimizer,\n",
    "    directives=[beta_cooler],\n",
    "    stopping_criteria=stopping_criteria,\n",
    "    cache_models=True,\n",
    ")"
   ]
  },
  {
   "cell_type": "code",
   "execution_count": 9,
   "id": "0609dcf7",
   "metadata": {
    "execution": {
     "iopub.execute_input": "2025-08-13T19:04:38.885732Z",
     "iopub.status.busy": "2025-08-13T19:04:38.885512Z",
     "iopub.status.idle": "2025-08-13T19:04:47.144517Z",
     "shell.execute_reply": "2025-08-13T19:04:47.143822Z",
     "shell.execute_reply.started": "2025-08-13T19:04:38.885709Z"
    }
   },
   "outputs": [
    {
     "data": {
      "application/vnd.jupyter.widget-view+json": {
       "model_id": "f43ad0008f9b4be19fd38b9e45754fc7",
       "version_major": 2,
       "version_minor": 0
      },
      "text/plain": [
       "Output()"
      ]
     },
     "metadata": {},
     "output_type": "display_data"
    },
    {
     "name": "stderr",
     "output_type": "stream",
     "text": [
      "INFO: 🎉 Inversion successfully finished due to stopping critiera.\n"
     ]
    },
    {
     "data": {
      "text/html": [
       "<pre style=\"white-space:pre;overflow-x:auto;line-height:normal;font-family:Menlo,'DejaVu Sans Mono',consolas,'Courier New',monospace\"></pre>\n"
      ],
      "text/plain": []
     },
     "metadata": {},
     "output_type": "display_data"
    }
   ],
   "source": [
    "with inversion.log.live() as live:\n",
    "    for model in inversion:\n",
    "        # Refresh table\n",
    "        live.refresh()"
   ]
  },
  {
   "cell_type": "code",
   "execution_count": 10,
   "id": "de2eb01c-4c34-4a0e-9c63-dc71ec6e23c3",
   "metadata": {
    "execution": {
     "iopub.execute_input": "2025-08-13T19:04:47.145378Z",
     "iopub.status.busy": "2025-08-13T19:04:47.145141Z",
     "iopub.status.idle": "2025-08-13T19:04:47.150362Z",
     "shell.execute_reply": "2025-08-13T19:04:47.149707Z",
     "shell.execute_reply.started": "2025-08-13T19:04:47.145356Z"
    }
   },
   "outputs": [
    {
     "data": {
      "text/plain": [
       "array([0.78781238, 0.63620172, 0.2461426 , 0.1941919 , 0.33960904,\n",
       "       0.17601471, 0.32485498, 0.26662799, 0.52718998, 0.89311305])"
      ]
     },
     "execution_count": 10,
     "metadata": {},
     "output_type": "execute_result"
    }
   ],
   "source": [
    "inverted_model = inversion.model\n",
    "inverted_model"
   ]
  },
  {
   "cell_type": "code",
   "execution_count": 11,
   "id": "5f2ec3b0-579b-4a07-b918-1e94e71f6ad0",
   "metadata": {
    "execution": {
     "iopub.execute_input": "2025-08-13T19:04:47.151525Z",
     "iopub.status.busy": "2025-08-13T19:04:47.151212Z",
     "iopub.status.idle": "2025-08-13T19:04:47.160570Z",
     "shell.execute_reply": "2025-08-13T19:04:47.159978Z",
     "shell.execute_reply.started": "2025-08-13T19:04:47.151493Z"
    }
   },
   "outputs": [
    {
     "name": "stdout",
     "output_type": "stream",
     "text": [
      "Result:\n",
      "[0.78781238 0.63620172 0.2461426  0.1941919  0.33960904 0.17601471\n",
      " 0.32485498 0.26662799 0.52718998 0.89311305]\n",
      "\n",
      "True model:\n",
      "[0.78225148 0.67148671 0.2373809  0.17946133 0.34662367 0.15210999\n",
      " 0.31142952 0.23900652 0.54355731 0.91770851]\n"
     ]
    }
   ],
   "source": [
    "print(\"Result:\")\n",
    "print(inverted_model)\n",
    "print()\n",
    "print(\"True model:\")\n",
    "print(true_model)"
   ]
  },
  {
   "cell_type": "code",
   "execution_count": 12,
   "id": "b3020223-df2d-413e-ba28-ea2631aeafed",
   "metadata": {
    "execution": {
     "iopub.execute_input": "2025-08-13T19:04:47.161909Z",
     "iopub.status.busy": "2025-08-13T19:04:47.161638Z",
     "iopub.status.idle": "2025-08-13T19:04:47.175017Z",
     "shell.execute_reply": "2025-08-13T19:04:47.174318Z",
     "shell.execute_reply.started": "2025-08-13T19:04:47.161880Z"
    }
   },
   "outputs": [
    {
     "data": {
      "text/html": [
       "<pre style=\"white-space:pre;overflow-x:auto;line-height:normal;font-family:Menlo,'DejaVu Sans Mono',consolas,'Courier New',monospace\">┏━━━━━━┳━━━━━━━━━━┳━━━━━━━━━━┳━━━━━━━━━━┳━━━━━━━━━━━━━━┳━━━━━━━━━━┳━━━━━━━━━━┓\n",
       "┃<span style=\"font-weight: bold\"> iter </span>┃<span style=\"font-weight: bold\"> beta     </span>┃<span style=\"font-weight: bold\"> phi_d    </span>┃<span style=\"font-weight: bold\"> phi_m    </span>┃<span style=\"font-weight: bold\"> beta * phi_m </span>┃<span style=\"font-weight: bold\"> phi      </span>┃<span style=\"font-weight: bold\"> chi      </span>┃\n",
       "┡━━━━━━╇━━━━━━━━━━╇━━━━━━━━━━╇━━━━━━━━━━╇━━━━━━━━━━━━━━╇━━━━━━━━━━╇━━━━━━━━━━┩\n",
       "│ 0    │ 1.00e+04 │ 1.36e+05 │ 0.00e+00 │ 0.00e+00     │ 1.36e+05 │ 5.44e+03 │\n",
       "│ 1    │ 1.00e+04 │ 3.28e+03 │ 1.51e+00 │ 1.51e+04     │ 1.84e+04 │ 1.31e+02 │\n",
       "│ 2    │ 5.00e+03 │ 1.37e+03 │ 1.77e+00 │ 8.85e+03     │ 1.02e+04 │ 5.50e+01 │\n",
       "│ 3    │ 2.50e+03 │ 5.80e+02 │ 1.99e+00 │ 4.97e+03     │ 5.55e+03 │ 2.32e+01 │\n",
       "│ 4    │ 1.25e+03 │ 2.31e+02 │ 2.18e+00 │ 2.73e+03     │ 2.96e+03 │ 9.23e+00 │\n",
       "│ 5    │ 6.25e+02 │ 8.70e+01 │ 2.34e+00 │ 1.46e+03     │ 1.55e+03 │ 3.48e+00 │\n",
       "│ 6    │ 3.12e+02 │ 3.50e+01 │ 2.45e+00 │ 7.66e+02     │ 8.01e+02 │ 1.40e+00 │\n",
       "│ 7    │ 1.56e+02 │ 1.83e+01 │ 2.52e+00 │ 3.94e+02     │ 4.12e+02 │ 7.34e-01 │\n",
       "└──────┴──────────┴──────────┴──────────┴──────────────┴──────────┴──────────┘\n",
       "</pre>\n"
      ],
      "text/plain": [
       "┏━━━━━━┳━━━━━━━━━━┳━━━━━━━━━━┳━━━━━━━━━━┳━━━━━━━━━━━━━━┳━━━━━━━━━━┳━━━━━━━━━━┓\n",
       "┃\u001b[1m \u001b[0m\u001b[1miter\u001b[0m\u001b[1m \u001b[0m┃\u001b[1m \u001b[0m\u001b[1mbeta    \u001b[0m\u001b[1m \u001b[0m┃\u001b[1m \u001b[0m\u001b[1mphi_d   \u001b[0m\u001b[1m \u001b[0m┃\u001b[1m \u001b[0m\u001b[1mphi_m   \u001b[0m\u001b[1m \u001b[0m┃\u001b[1m \u001b[0m\u001b[1mbeta * phi_m\u001b[0m\u001b[1m \u001b[0m┃\u001b[1m \u001b[0m\u001b[1mphi     \u001b[0m\u001b[1m \u001b[0m┃\u001b[1m \u001b[0m\u001b[1mchi     \u001b[0m\u001b[1m \u001b[0m┃\n",
       "┡━━━━━━╇━━━━━━━━━━╇━━━━━━━━━━╇━━━━━━━━━━╇━━━━━━━━━━━━━━╇━━━━━━━━━━╇━━━━━━━━━━┩\n",
       "│ 0    │ 1.00e+04 │ 1.36e+05 │ 0.00e+00 │ 0.00e+00     │ 1.36e+05 │ 5.44e+03 │\n",
       "│ 1    │ 1.00e+04 │ 3.28e+03 │ 1.51e+00 │ 1.51e+04     │ 1.84e+04 │ 1.31e+02 │\n",
       "│ 2    │ 5.00e+03 │ 1.37e+03 │ 1.77e+00 │ 8.85e+03     │ 1.02e+04 │ 5.50e+01 │\n",
       "│ 3    │ 2.50e+03 │ 5.80e+02 │ 1.99e+00 │ 4.97e+03     │ 5.55e+03 │ 2.32e+01 │\n",
       "│ 4    │ 1.25e+03 │ 2.31e+02 │ 2.18e+00 │ 2.73e+03     │ 2.96e+03 │ 9.23e+00 │\n",
       "│ 5    │ 6.25e+02 │ 8.70e+01 │ 2.34e+00 │ 1.46e+03     │ 1.55e+03 │ 3.48e+00 │\n",
       "│ 6    │ 3.12e+02 │ 3.50e+01 │ 2.45e+00 │ 7.66e+02     │ 8.01e+02 │ 1.40e+00 │\n",
       "│ 7    │ 1.56e+02 │ 1.83e+01 │ 2.52e+00 │ 3.94e+02     │ 4.12e+02 │ 7.34e-01 │\n",
       "└──────┴──────────┴──────────┴──────────┴──────────────┴──────────┴──────────┘\n"
      ]
     },
     "execution_count": 12,
     "metadata": {},
     "output_type": "execute_result"
    }
   ],
   "source": [
    "inversion.log.table"
   ]
  },
  {
   "cell_type": "code",
   "execution_count": 13,
   "id": "6f20ae55-e2bd-457b-bb4b-f456d2a6d0e6",
   "metadata": {
    "execution": {
     "iopub.execute_input": "2025-08-13T19:04:47.176212Z",
     "iopub.status.busy": "2025-08-13T19:04:47.175754Z",
     "iopub.status.idle": "2025-08-13T19:04:47.188397Z",
     "shell.execute_reply": "2025-08-13T19:04:47.187709Z",
     "shell.execute_reply.started": "2025-08-13T19:04:47.176184Z"
    }
   },
   "outputs": [
    {
     "data": {
      "text/html": [
       "<div>\n",
       "<style scoped>\n",
       "    .dataframe tbody tr th:only-of-type {\n",
       "        vertical-align: middle;\n",
       "    }\n",
       "\n",
       "    .dataframe tbody tr th {\n",
       "        vertical-align: top;\n",
       "    }\n",
       "\n",
       "    .dataframe thead th {\n",
       "        text-align: right;\n",
       "    }\n",
       "</style>\n",
       "<table border=\"1\" class=\"dataframe\">\n",
       "  <thead>\n",
       "    <tr style=\"text-align: right;\">\n",
       "      <th></th>\n",
       "      <th>beta</th>\n",
       "      <th>phi_d</th>\n",
       "      <th>phi_m</th>\n",
       "      <th>beta * phi_m</th>\n",
       "      <th>phi</th>\n",
       "      <th>chi</th>\n",
       "    </tr>\n",
       "    <tr>\n",
       "      <th>iter</th>\n",
       "      <th></th>\n",
       "      <th></th>\n",
       "      <th></th>\n",
       "      <th></th>\n",
       "      <th></th>\n",
       "      <th></th>\n",
       "    </tr>\n",
       "  </thead>\n",
       "  <tbody>\n",
       "    <tr>\n",
       "      <th>0</th>\n",
       "      <td>10000.00</td>\n",
       "      <td>135973.462849</td>\n",
       "      <td>0.000000</td>\n",
       "      <td>0.000000</td>\n",
       "      <td>135973.462849</td>\n",
       "      <td>5438.938514</td>\n",
       "    </tr>\n",
       "    <tr>\n",
       "      <th>1</th>\n",
       "      <td>10000.00</td>\n",
       "      <td>3283.955124</td>\n",
       "      <td>1.508719</td>\n",
       "      <td>15087.188025</td>\n",
       "      <td>18371.143149</td>\n",
       "      <td>131.358205</td>\n",
       "    </tr>\n",
       "    <tr>\n",
       "      <th>2</th>\n",
       "      <td>5000.00</td>\n",
       "      <td>1373.851799</td>\n",
       "      <td>1.770045</td>\n",
       "      <td>8850.225213</td>\n",
       "      <td>10224.077012</td>\n",
       "      <td>54.954072</td>\n",
       "    </tr>\n",
       "    <tr>\n",
       "      <th>3</th>\n",
       "      <td>2500.00</td>\n",
       "      <td>580.052974</td>\n",
       "      <td>1.988480</td>\n",
       "      <td>4971.200876</td>\n",
       "      <td>5551.253850</td>\n",
       "      <td>23.202119</td>\n",
       "    </tr>\n",
       "    <tr>\n",
       "      <th>4</th>\n",
       "      <td>1250.00</td>\n",
       "      <td>230.779314</td>\n",
       "      <td>2.180556</td>\n",
       "      <td>2725.695257</td>\n",
       "      <td>2956.474571</td>\n",
       "      <td>9.231173</td>\n",
       "    </tr>\n",
       "    <tr>\n",
       "      <th>5</th>\n",
       "      <td>625.00</td>\n",
       "      <td>87.019569</td>\n",
       "      <td>2.337612</td>\n",
       "      <td>1461.007338</td>\n",
       "      <td>1548.026907</td>\n",
       "      <td>3.480783</td>\n",
       "    </tr>\n",
       "    <tr>\n",
       "      <th>6</th>\n",
       "      <td>312.50</td>\n",
       "      <td>34.986938</td>\n",
       "      <td>2.450452</td>\n",
       "      <td>765.766163</td>\n",
       "      <td>800.753102</td>\n",
       "      <td>1.399478</td>\n",
       "    </tr>\n",
       "    <tr>\n",
       "      <th>7</th>\n",
       "      <td>156.25</td>\n",
       "      <td>18.339748</td>\n",
       "      <td>2.522215</td>\n",
       "      <td>394.096024</td>\n",
       "      <td>412.435773</td>\n",
       "      <td>0.733590</td>\n",
       "    </tr>\n",
       "  </tbody>\n",
       "</table>\n",
       "</div>"
      ],
      "text/plain": [
       "          beta          phi_d     phi_m  beta * phi_m            phi  \\\n",
       "iter                                                                   \n",
       "0     10000.00  135973.462849  0.000000      0.000000  135973.462849   \n",
       "1     10000.00    3283.955124  1.508719  15087.188025   18371.143149   \n",
       "2      5000.00    1373.851799  1.770045   8850.225213   10224.077012   \n",
       "3      2500.00     580.052974  1.988480   4971.200876    5551.253850   \n",
       "4      1250.00     230.779314  2.180556   2725.695257    2956.474571   \n",
       "5       625.00      87.019569  2.337612   1461.007338    1548.026907   \n",
       "6       312.50      34.986938  2.450452    765.766163     800.753102   \n",
       "7       156.25      18.339748  2.522215    394.096024     412.435773   \n",
       "\n",
       "              chi  \n",
       "iter               \n",
       "0     5438.938514  \n",
       "1      131.358205  \n",
       "2       54.954072  \n",
       "3       23.202119  \n",
       "4        9.231173  \n",
       "5        3.480783  \n",
       "6        1.399478  \n",
       "7        0.733590  "
      ]
     },
     "execution_count": 13,
     "metadata": {},
     "output_type": "execute_result"
    }
   ],
   "source": [
    "df = pd.DataFrame(inversion.log.log).set_index(\"iter\")\n",
    "df"
   ]
  },
  {
   "cell_type": "code",
   "execution_count": 14,
   "id": "c941b221",
   "metadata": {
    "execution": {
     "iopub.execute_input": "2025-08-13T19:04:47.189970Z",
     "iopub.status.busy": "2025-08-13T19:04:47.189259Z",
     "iopub.status.idle": "2025-08-13T19:04:48.119670Z",
     "shell.execute_reply": "2025-08-13T19:04:48.119013Z",
     "shell.execute_reply.started": "2025-08-13T19:04:47.189935Z"
    }
   },
   "outputs": [
    {
     "data": {
      "image/png": "[encoded data removed]",
      "text/plain": [
       "<Figure size 600x800 with 3 Axes>"
      ]
     },
     "metadata": {},
     "output_type": "display_data"
    }
   ],
   "source": [
    "fig, axes = plt.subplots(nrows=3, ncols=1, sharex=True, figsize=(6, 8))\n",
    "axes[0].plot(df.index, df.beta, \"o-\")\n",
    "axes[0].set_ylabel(\"Beta\")\n",
    "\n",
    "axes[1].plot(df.index, df.phi_d, \"o-\")\n",
    "axes[1].axhline(data_misfit.n_data, linestyle=\"--\", color=\"grey\")\n",
    "axes[1].set_ylabel(\"Data misfit\")\n",
    "axes[1].set_yscale(\"log\")\n",
    "\n",
    "axes[2].plot(df.index, df.phi_m, \"o-\")\n",
    "axes[2].set_ylabel(\"Model norm\")\n",
    "\n",
    "plt.show()"
   ]
  },
  {
   "cell_type": "code",
   "execution_count": 15,
   "id": "5b02915d-b8ba-459b-8a7f-9962e860b339",
   "metadata": {
    "execution": {
     "iopub.execute_input": "2025-08-13T19:04:48.120524Z",
     "iopub.status.busy": "2025-08-13T19:04:48.120295Z",
     "iopub.status.idle": "2025-08-13T19:04:48.127021Z",
     "shell.execute_reply": "2025-08-13T19:04:48.126419Z",
     "shell.execute_reply.started": "2025-08-13T19:04:48.120508Z"
    }
   },
   "outputs": [
    {
     "data": {
      "text/plain": [
       "[array([0., 0., 0., 0., 0., 0., 0., 0., 0., 0.]),\n",
       " array([0.42435726, 0.42399556, 0.31488771, 0.30781909, 0.36748548,\n",
       "        0.3541613 , 0.35617454, 0.33544115, 0.43090205, 0.51906374]),\n",
       " array([0.5056242 , 0.47292493, 0.31019533, 0.28663263, 0.38905159,\n",
       "        0.34587771, 0.36311607, 0.33629102, 0.47778453, 0.60674237]),\n",
       " array([0.58936952, 0.51738738, 0.2902994 , 0.25123224, 0.39337984,\n",
       "        0.3151884 , 0.35668177, 0.3233827 , 0.50991683, 0.6929199 ]),\n",
       " array([0.66606771, 0.55805404, 0.26845575, 0.21988974, 0.38401096,\n",
       "        0.27327808, 0.34599733, 0.30631261, 0.52650139, 0.76952915]),\n",
       " array([0.72555055, 0.59250287, 0.25392942, 0.20191464, 0.36759678,\n",
       "        0.23168433, 0.33632369, 0.29012319, 0.53109078, 0.82869251]),\n",
       " array([0.76485366, 0.61861644, 0.24767964, 0.19529472, 0.35147213,\n",
       "        0.19846023, 0.32930081, 0.27659424, 0.52981675, 0.86874091]),\n",
       " array([0.78781238, 0.63620172, 0.2461426 , 0.1941919 , 0.33960904,\n",
       "        0.17601471, 0.32485498, 0.26662799, 0.52718998, 0.89311305])]"
      ]
     },
     "execution_count": 15,
     "metadata": {},
     "output_type": "execute_result"
    }
   ],
   "source": [
    "inversion.models"
   ]
  },
  {
   "cell_type": "markdown",
   "id": "d02e7fd3-9617-46e4-bba8-281f4e89db55",
   "metadata": {},
   "source": [
    "### Manually running iterations"
   ]
  },
  {
   "cell_type": "code",
   "execution_count": 16,
   "id": "eb66ab10-0f9a-4d6c-b995-8929fa52f19c",
   "metadata": {
    "execution": {
     "iopub.execute_input": "2025-08-13T19:04:48.128210Z",
     "iopub.status.busy": "2025-08-13T19:04:48.127857Z",
     "iopub.status.idle": "2025-08-13T19:04:48.132754Z",
     "shell.execute_reply": "2025-08-13T19:04:48.132267Z",
     "shell.execute_reply.started": "2025-08-13T19:04:48.128184Z"
    }
   },
   "outputs": [],
   "source": [
    "# Define objective function with starting beta\n",
    "beta_0 = 1e4\n",
    "regularization = beta_0 * smallness\n",
    "phi = data_misfit + regularization\n",
    "\n",
    "# Beta cooling\n",
    "beta_cooler = ii.MultiplierCooler(regularization, cooling_factor=2.0)\n",
    "\n",
    "# Inversion\n",
    "inversion = ii.Inversion(\n",
    "    phi,\n",
    "    initial_model,\n",
    "    minimizer,\n",
    "    directives=[beta_cooler],\n",
    "    stopping_criteria=stopping_criteria,\n",
    "    cache_models=True,\n",
    ")"
   ]
  },
  {
   "cell_type": "code",
   "execution_count": 17,
   "id": "ecf41c3f-8183-44e3-9237-d39aee0bdb0e",
   "metadata": {
    "execution": {
     "iopub.execute_input": "2025-08-13T19:04:48.133487Z",
     "iopub.status.busy": "2025-08-13T19:04:48.133309Z",
     "iopub.status.idle": "2025-08-13T19:04:48.137037Z",
     "shell.execute_reply": "2025-08-13T19:04:48.136555Z",
     "shell.execute_reply.started": "2025-08-13T19:04:48.133459Z"
    }
   },
   "outputs": [
    {
     "name": "stdout",
     "output_type": "stream",
     "text": [
      "0\n"
     ]
    }
   ],
   "source": [
    "print(inversion.counter)"
   ]
  },
  {
   "cell_type": "code",
   "execution_count": 18,
   "id": "4c54e229-58ca-41de-a0b4-33b2bc6898ef",
   "metadata": {
    "execution": {
     "iopub.execute_input": "2025-08-13T19:04:48.137823Z",
     "iopub.status.busy": "2025-08-13T19:04:48.137648Z",
     "iopub.status.idle": "2025-08-13T19:04:50.156249Z",
     "shell.execute_reply": "2025-08-13T19:04:50.155418Z",
     "shell.execute_reply.started": "2025-08-13T19:04:48.137807Z"
    }
   },
   "outputs": [
    {
     "data": {
      "text/plain": [
       "array([0.42435726, 0.42399556, 0.31488771, 0.30781909, 0.36748548,\n",
       "       0.3541613 , 0.35617454, 0.33544115, 0.43090205, 0.51906374])"
      ]
     },
     "execution_count": 18,
     "metadata": {},
     "output_type": "execute_result"
    }
   ],
   "source": [
    "model = next(inversion)\n",
    "model"
   ]
  },
  {
   "cell_type": "code",
   "execution_count": 19,
   "id": "f90ef05b-0e15-4dda-87f8-1c9cd0d7c513",
   "metadata": {
    "execution": {
     "iopub.execute_input": "2025-08-13T19:04:50.157300Z",
     "iopub.status.busy": "2025-08-13T19:04:50.157055Z",
     "iopub.status.idle": "2025-08-13T19:04:50.161357Z",
     "shell.execute_reply": "2025-08-13T19:04:50.160639Z",
     "shell.execute_reply.started": "2025-08-13T19:04:50.157277Z"
    }
   },
   "outputs": [
    {
     "name": "stdout",
     "output_type": "stream",
     "text": [
      "1\n"
     ]
    }
   ],
   "source": [
    "print(inversion.counter)"
   ]
  },
  {
   "cell_type": "markdown",
   "id": "3f3d6ff6-d677-46ce-93a0-f80a51aed598",
   "metadata": {},
   "source": [
    "### Break iterations at any point and continue"
   ]
  },
  {
   "cell_type": "code",
   "execution_count": 20,
   "id": "498c5305-5a05-45b2-9d76-634dafe50e30",
   "metadata": {
    "execution": {
     "iopub.execute_input": "2025-08-13T19:04:50.162770Z",
     "iopub.status.busy": "2025-08-13T19:04:50.162414Z",
     "iopub.status.idle": "2025-08-13T19:04:50.167830Z",
     "shell.execute_reply": "2025-08-13T19:04:50.167191Z",
     "shell.execute_reply.started": "2025-08-13T19:04:50.162736Z"
    }
   },
   "outputs": [],
   "source": [
    "# Define objective function with starting beta\n",
    "beta_0 = 1e4\n",
    "regularization = beta_0 * smallness\n",
    "phi = data_misfit + regularization\n",
    "\n",
    "# Beta cooling\n",
    "beta_cooler = ii.MultiplierCooler(regularization, cooling_factor=2.0)\n",
    "\n",
    "# Inversion\n",
    "inversion = ii.Inversion(\n",
    "    phi,\n",
    "    initial_model,\n",
    "    minimizer,\n",
    "    directives=[beta_cooler],\n",
    "    stopping_criteria=stopping_criteria,\n",
    "    cache_models=True,\n",
    ")"
   ]
  },
  {
   "cell_type": "code",
   "execution_count": 21,
   "id": "5d0fa53b-330c-4420-93c3-727650e5d152",
   "metadata": {
    "execution": {
     "iopub.execute_input": "2025-08-13T19:04:50.172364Z",
     "iopub.status.busy": "2025-08-13T19:04:50.172030Z",
     "iopub.status.idle": "2025-08-13T19:04:55.236848Z",
     "shell.execute_reply": "2025-08-13T19:04:55.235902Z",
     "shell.execute_reply.started": "2025-08-13T19:04:50.172338Z"
    }
   },
   "outputs": [
    {
     "data": {
      "application/vnd.jupyter.widget-view+json": {
       "model_id": "cb66d8d7ca62447fb50643042ac6dd0f",
       "version_major": 2,
       "version_minor": 0
      },
      "text/plain": [
       "Output()"
      ]
     },
     "metadata": {},
     "output_type": "display_data"
    },
    {
     "data": {
      "text/html": [
       "<pre style=\"white-space:pre;overflow-x:auto;line-height:normal;font-family:Menlo,'DejaVu Sans Mono',consolas,'Courier New',monospace\"></pre>\n"
      ],
      "text/plain": []
     },
     "metadata": {},
     "output_type": "display_data"
    }
   ],
   "source": [
    "with inversion.log.live() as live:\n",
    "    for model in inversion:\n",
    "        # Refresh table\n",
    "        live.refresh()\n",
    "\n",
    "        if inversion.counter == 4:\n",
    "            break"
   ]
  },
  {
   "cell_type": "markdown",
   "id": "25fef757-585b-45ba-be6e-a74a38370bd8",
   "metadata": {},
   "source": [
    "We can checkout the model, convergence curves, etc:"
   ]
  },
  {
   "cell_type": "code",
   "execution_count": 22,
   "id": "d684598d-9b1e-48fb-9d8f-730ac744ebd3",
   "metadata": {
    "execution": {
     "iopub.execute_input": "2025-08-13T19:04:55.238655Z",
     "iopub.status.busy": "2025-08-13T19:04:55.238085Z",
     "iopub.status.idle": "2025-08-13T19:04:55.243721Z",
     "shell.execute_reply": "2025-08-13T19:04:55.242984Z",
     "shell.execute_reply.started": "2025-08-13T19:04:55.238623Z"
    }
   },
   "outputs": [
    {
     "name": "stdout",
     "output_type": "stream",
     "text": [
      "Result:\n",
      "[0.66606771 0.55805404 0.26845575 0.21988974 0.38401096 0.27327808\n",
      " 0.34599733 0.30631261 0.52650139 0.76952915]\n",
      "\n",
      "True model:\n",
      "[0.78225148 0.67148671 0.2373809  0.17946133 0.34662367 0.15210999\n",
      " 0.31142952 0.23900652 0.54355731 0.91770851]\n"
     ]
    }
   ],
   "source": [
    "print(\"Result:\")\n",
    "print(inversion.model)\n",
    "print()\n",
    "print(\"True model:\")\n",
    "print(true_model)"
   ]
  },
  {
   "cell_type": "code",
   "execution_count": 23,
   "id": "35fa1bee-4904-4db0-8324-741e65bbea2a",
   "metadata": {
    "execution": {
     "iopub.execute_input": "2025-08-13T19:04:55.244901Z",
     "iopub.status.busy": "2025-08-13T19:04:55.244565Z",
     "iopub.status.idle": "2025-08-13T19:04:55.603443Z",
     "shell.execute_reply": "2025-08-13T19:04:55.602946Z",
     "shell.execute_reply.started": "2025-08-13T19:04:55.244869Z"
    }
   },
   "outputs": [
    {
     "data": {
      "image/png": "[encoded data removed]",
      "text/plain": [
       "<Figure size 600x800 with 3 Axes>"
      ]
     },
     "metadata": {},
     "output_type": "display_data"
    }
   ],
   "source": [
    "df = pd.DataFrame(inversion.log.log).set_index(\"iter\")\n",
    "\n",
    "fig, axes = plt.subplots(nrows=3, ncols=1, sharex=True, figsize=(6, 8))\n",
    "axes[0].plot(df.index, df.beta, \"o-\")\n",
    "axes[0].set_ylabel(\"Beta\")\n",
    "\n",
    "axes[1].plot(df.index, df.phi_d, \"o-\")\n",
    "axes[1].axhline(data_misfit.n_data, linestyle=\"--\", color=\"grey\")\n",
    "axes[1].set_ylabel(\"Data misfit\")\n",
    "axes[1].set_yscale(\"log\")\n",
    "\n",
    "axes[2].plot(df.index, df.phi_m, \"o-\")\n",
    "axes[2].set_ylabel(\"Model norm\")\n",
    "\n",
    "plt.show()"
   ]
  },
  {
   "cell_type": "markdown",
   "id": "e900fd70-c741-4f04-ad91-b69f177f2241",
   "metadata": {},
   "source": [
    "We can then continue iterating manually"
   ]
  },
  {
   "cell_type": "code",
   "execution_count": 24,
   "id": "ac4a9aad-a7b5-4994-81bb-08504a3ef601",
   "metadata": {
    "execution": {
     "iopub.execute_input": "2025-08-13T19:04:55.604243Z",
     "iopub.status.busy": "2025-08-13T19:04:55.604010Z",
     "iopub.status.idle": "2025-08-13T19:04:56.625190Z",
     "shell.execute_reply": "2025-08-13T19:04:56.622780Z",
     "shell.execute_reply.started": "2025-08-13T19:04:55.604211Z"
    }
   },
   "outputs": [
    {
     "data": {
      "text/plain": [
       "array([0.72555055, 0.59250287, 0.25392942, 0.20191464, 0.36759678,\n",
       "       0.23168433, 0.33632369, 0.29012319, 0.53109078, 0.82869251])"
      ]
     },
     "execution_count": 24,
     "metadata": {},
     "output_type": "execute_result"
    }
   ],
   "source": [
    "model = next(inversion)\n",
    "model"
   ]
  },
  {
   "cell_type": "code",
   "execution_count": 25,
   "id": "fc576798-f183-4c61-9330-1cfc16e7e5bf",
   "metadata": {
    "execution": {
     "iopub.execute_input": "2025-08-13T19:04:56.628868Z",
     "iopub.status.busy": "2025-08-13T19:04:56.628046Z",
     "iopub.status.idle": "2025-08-13T19:04:56.654389Z",
     "shell.execute_reply": "2025-08-13T19:04:56.653487Z",
     "shell.execute_reply.started": "2025-08-13T19:04:56.628791Z"
    }
   },
   "outputs": [
    {
     "data": {
      "text/html": [
       "<pre style=\"white-space:pre;overflow-x:auto;line-height:normal;font-family:Menlo,'DejaVu Sans Mono',consolas,'Courier New',monospace\">┏━━━━━━┳━━━━━━━━━━┳━━━━━━━━━━┳━━━━━━━━━━┳━━━━━━━━━━━━━━┳━━━━━━━━━━┳━━━━━━━━━━┓\n",
       "┃<span style=\"font-weight: bold\"> iter </span>┃<span style=\"font-weight: bold\"> beta     </span>┃<span style=\"font-weight: bold\"> phi_d    </span>┃<span style=\"font-weight: bold\"> phi_m    </span>┃<span style=\"font-weight: bold\"> beta * phi_m </span>┃<span style=\"font-weight: bold\"> phi      </span>┃<span style=\"font-weight: bold\"> chi      </span>┃\n",
       "┡━━━━━━╇━━━━━━━━━━╇━━━━━━━━━━╇━━━━━━━━━━╇━━━━━━━━━━━━━━╇━━━━━━━━━━╇━━━━━━━━━━┩\n",
       "│ 0    │ 1.00e+04 │ 1.36e+05 │ 0.00e+00 │ 0.00e+00     │ 1.36e+05 │ 5.44e+03 │\n",
       "│ 1    │ 1.00e+04 │ 3.28e+03 │ 1.51e+00 │ 1.51e+04     │ 1.84e+04 │ 1.31e+02 │\n",
       "│ 2    │ 5.00e+03 │ 1.37e+03 │ 1.77e+00 │ 8.85e+03     │ 1.02e+04 │ 5.50e+01 │\n",
       "│ 3    │ 2.50e+03 │ 5.80e+02 │ 1.99e+00 │ 4.97e+03     │ 5.55e+03 │ 2.32e+01 │\n",
       "│ 4    │ 1.25e+03 │ 2.31e+02 │ 2.18e+00 │ 2.73e+03     │ 2.96e+03 │ 9.23e+00 │\n",
       "│ 5    │ 6.25e+02 │ 8.70e+01 │ 2.34e+00 │ 1.46e+03     │ 1.55e+03 │ 3.48e+00 │\n",
       "└──────┴──────────┴──────────┴──────────┴──────────────┴──────────┴──────────┘\n",
       "</pre>\n"
      ],
      "text/plain": [
       "┏━━━━━━┳━━━━━━━━━━┳━━━━━━━━━━┳━━━━━━━━━━┳━━━━━━━━━━━━━━┳━━━━━━━━━━┳━━━━━━━━━━┓\n",
       "┃\u001b[1m \u001b[0m\u001b[1miter\u001b[0m\u001b[1m \u001b[0m┃\u001b[1m \u001b[0m\u001b[1mbeta    \u001b[0m\u001b[1m \u001b[0m┃\u001b[1m \u001b[0m\u001b[1mphi_d   \u001b[0m\u001b[1m \u001b[0m┃\u001b[1m \u001b[0m\u001b[1mphi_m   \u001b[0m\u001b[1m \u001b[0m┃\u001b[1m \u001b[0m\u001b[1mbeta * phi_m\u001b[0m\u001b[1m \u001b[0m┃\u001b[1m \u001b[0m\u001b[1mphi     \u001b[0m\u001b[1m \u001b[0m┃\u001b[1m \u001b[0m\u001b[1mchi     \u001b[0m\u001b[1m \u001b[0m┃\n",
       "┡━━━━━━╇━━━━━━━━━━╇━━━━━━━━━━╇━━━━━━━━━━╇━━━━━━━━━━━━━━╇━━━━━━━━━━╇━━━━━━━━━━┩\n",
       "│ 0    │ 1.00e+04 │ 1.36e+05 │ 0.00e+00 │ 0.00e+00     │ 1.36e+05 │ 5.44e+03 │\n",
       "│ 1    │ 1.00e+04 │ 3.28e+03 │ 1.51e+00 │ 1.51e+04     │ 1.84e+04 │ 1.31e+02 │\n",
       "│ 2    │ 5.00e+03 │ 1.37e+03 │ 1.77e+00 │ 8.85e+03     │ 1.02e+04 │ 5.50e+01 │\n",
       "│ 3    │ 2.50e+03 │ 5.80e+02 │ 1.99e+00 │ 4.97e+03     │ 5.55e+03 │ 2.32e+01 │\n",
       "│ 4    │ 1.25e+03 │ 2.31e+02 │ 2.18e+00 │ 2.73e+03     │ 2.96e+03 │ 9.23e+00 │\n",
       "│ 5    │ 6.25e+02 │ 8.70e+01 │ 2.34e+00 │ 1.46e+03     │ 1.55e+03 │ 3.48e+00 │\n",
       "└──────┴──────────┴──────────┴──────────┴──────────────┴──────────┴──────────┘\n"
      ]
     },
     "execution_count": 25,
     "metadata": {},
     "output_type": "execute_result"
    }
   ],
   "source": [
    "inversion.log.table"
   ]
  },
  {
   "cell_type": "code",
   "execution_count": 26,
   "id": "66872af6-9587-4aa6-b198-f4816037dceb",
   "metadata": {
    "execution": {
     "iopub.execute_input": "2025-08-13T19:04:56.655253Z",
     "iopub.status.busy": "2025-08-13T19:04:56.654953Z",
     "iopub.status.idle": "2025-08-13T19:04:56.947926Z",
     "shell.execute_reply": "2025-08-13T19:04:56.947440Z",
     "shell.execute_reply.started": "2025-08-13T19:04:56.655228Z"
    }
   },
   "outputs": [
    {
     "data": {
      "image/png": "[encoded data removed]",
      "text/plain": [
       "<Figure size 600x800 with 3 Axes>"
      ]
     },
     "metadata": {},
     "output_type": "display_data"
    }
   ],
   "source": [
    "df = pd.DataFrame(inversion.log.log).set_index(\"iter\")\n",
    "\n",
    "fig, axes = plt.subplots(nrows=3, ncols=1, sharex=True, figsize=(6, 8))\n",
    "axes[0].plot(df.index, df.beta, \"o-\")\n",
    "axes[0].set_ylabel(\"Beta\")\n",
    "\n",
    "axes[1].plot(df.index, df.phi_d, \"o-\")\n",
    "axes[1].axhline(data_misfit.n_data, linestyle=\"--\", color=\"grey\")\n",
    "axes[1].set_ylabel(\"Data misfit\")\n",
    "axes[1].set_yscale(\"log\")\n",
    "\n",
    "axes[2].plot(df.index, df.phi_m, \"o-\")\n",
    "axes[2].set_ylabel(\"Model norm\")\n",
    "\n",
    "plt.show()"
   ]
  },
  {
   "cell_type": "markdown",
   "id": "d1d1d5fe-3ec7-49a8-83e0-536cce3da539",
   "metadata": {},
   "source": [
    "And we can keep iterating until stopping criteria is met:"
   ]
  },
  {
   "cell_type": "code",
   "execution_count": 27,
   "id": "cc069a38-49a1-4b95-9bc3-09c20a95a8b0",
   "metadata": {
    "execution": {
     "iopub.execute_input": "2025-08-13T19:04:56.948999Z",
     "iopub.status.busy": "2025-08-13T19:04:56.948671Z",
     "iopub.status.idle": "2025-08-13T19:04:59.011304Z",
     "shell.execute_reply": "2025-08-13T19:04:59.010596Z",
     "shell.execute_reply.started": "2025-08-13T19:04:56.948975Z"
    }
   },
   "outputs": [
    {
     "data": {
      "application/vnd.jupyter.widget-view+json": {
       "model_id": "7ef62307fba84cbab024ddf8ef5e369d",
       "version_major": 2,
       "version_minor": 0
      },
      "text/plain": [
       "Output()"
      ]
     },
     "metadata": {},
     "output_type": "display_data"
    },
    {
     "name": "stderr",
     "output_type": "stream",
     "text": [
      "INFO: 🎉 Inversion successfully finished due to stopping critiera.\n"
     ]
    },
    {
     "data": {
      "text/html": [
       "<pre style=\"white-space:pre;overflow-x:auto;line-height:normal;font-family:Menlo,'DejaVu Sans Mono',consolas,'Courier New',monospace\"></pre>\n"
      ],
      "text/plain": []
     },
     "metadata": {},
     "output_type": "display_data"
    }
   ],
   "source": [
    "with inversion.log.live() as live:\n",
    "    for model in inversion:\n",
    "        # Refresh table\n",
    "        live.refresh()"
   ]
  },
  {
   "cell_type": "code",
   "execution_count": 28,
   "id": "2100ad0b-81ac-4070-b60d-63d183175d72",
   "metadata": {
    "execution": {
     "iopub.execute_input": "2025-08-13T19:04:59.012198Z",
     "iopub.status.busy": "2025-08-13T19:04:59.011979Z",
     "iopub.status.idle": "2025-08-13T19:04:59.016482Z",
     "shell.execute_reply": "2025-08-13T19:04:59.015839Z",
     "shell.execute_reply.started": "2025-08-13T19:04:59.012178Z"
    }
   },
   "outputs": [
    {
     "name": "stdout",
     "output_type": "stream",
     "text": [
      "Result:\n",
      "[0.78781238 0.63620172 0.2461426  0.1941919  0.33960904 0.17601471\n",
      " 0.32485498 0.26662799 0.52718998 0.89311305]\n",
      "\n",
      "True model:\n",
      "[0.78225148 0.67148671 0.2373809  0.17946133 0.34662367 0.15210999\n",
      " 0.31142952 0.23900652 0.54355731 0.91770851]\n"
     ]
    }
   ],
   "source": [
    "print(\"Result:\")\n",
    "print(inversion.model)\n",
    "print()\n",
    "print(\"True model:\")\n",
    "print(true_model)"
   ]
  },
  {
   "cell_type": "code",
   "execution_count": 29,
   "id": "423fe687-b46e-49fe-ae15-46358dd65e44",
   "metadata": {
    "execution": {
     "iopub.execute_input": "2025-08-13T19:04:59.017562Z",
     "iopub.status.busy": "2025-08-13T19:04:59.017293Z",
     "iopub.status.idle": "2025-08-13T19:04:59.314980Z",
     "shell.execute_reply": "2025-08-13T19:04:59.314148Z",
     "shell.execute_reply.started": "2025-08-13T19:04:59.017542Z"
    }
   },
   "outputs": [
    {
     "data": {
      "image/png": "[encoded data removed]",
      "text/plain": [
       "<Figure size 600x800 with 3 Axes>"
      ]
     },
     "metadata": {},
     "output_type": "display_data"
    }
   ],
   "source": [
    "df = pd.DataFrame(inversion.log.log).set_index(\"iter\")\n",
    "\n",
    "fig, axes = plt.subplots(nrows=3, ncols=1, sharex=True, figsize=(6, 8))\n",
    "axes[0].plot(df.index, df.beta, \"o-\")\n",
    "axes[0].set_ylabel(\"Beta\")\n",
    "\n",
    "axes[1].plot(df.index, df.phi_d, \"o-\")\n",
    "axes[1].axhline(data_misfit.n_data, linestyle=\"--\", color=\"grey\")\n",
    "axes[1].set_ylabel(\"Data misfit\")\n",
    "axes[1].set_yscale(\"log\")\n",
    "\n",
    "axes[2].plot(df.index, df.phi_m, \"o-\")\n",
    "axes[2].set_ylabel(\"Model norm\")\n",
    "\n",
    "plt.show()"
   ]
  },
  {
   "cell_type": "markdown",
   "id": "9b8531a4-a975-4021-8737-686adc9d5387",
   "metadata": {},
   "source": [
    "## Use the `.run()` method"
   ]
  },
  {
   "cell_type": "code",
   "execution_count": 30,
   "id": "2f86d349-f5a3-4dfd-bf8a-73d7352b52d2",
   "metadata": {
    "execution": {
     "iopub.execute_input": "2025-08-13T19:04:59.316174Z",
     "iopub.status.busy": "2025-08-13T19:04:59.315691Z",
     "iopub.status.idle": "2025-08-13T19:04:59.320154Z",
     "shell.execute_reply": "2025-08-13T19:04:59.319401Z",
     "shell.execute_reply.started": "2025-08-13T19:04:59.316154Z"
    }
   },
   "outputs": [],
   "source": [
    "# Define objective function with starting beta\n",
    "beta_0 = 1e4\n",
    "regularization = beta_0 * smallness\n",
    "phi = data_misfit + regularization\n",
    "\n",
    "# Beta cooling\n",
    "beta_cooler = ii.MultiplierCooler(regularization, cooling_factor=2.0)\n",
    "\n",
    "# Inversion\n",
    "inversion = ii.Inversion(\n",
    "    phi,\n",
    "    initial_model,\n",
    "    minimizer,\n",
    "    directives=[beta_cooler],\n",
    "    stopping_criteria=stopping_criteria,\n",
    "    cache_models=True,\n",
    ")"
   ]
  },
  {
   "cell_type": "code",
   "execution_count": 31,
   "id": "b38e8718-0bed-4fd3-b949-a506bba83f7c",
   "metadata": {
    "execution": {
     "iopub.execute_input": "2025-08-13T19:04:59.321216Z",
     "iopub.status.busy": "2025-08-13T19:04:59.320864Z",
     "iopub.status.idle": "2025-08-13T19:05:07.541442Z",
     "shell.execute_reply": "2025-08-13T19:05:07.540749Z",
     "shell.execute_reply.started": "2025-08-13T19:04:59.321159Z"
    }
   },
   "outputs": [
    {
     "data": {
      "application/vnd.jupyter.widget-view+json": {
       "model_id": "ee0681f09c694b3fa0774bf372744fa6",
       "version_major": 2,
       "version_minor": 0
      },
      "text/plain": [
       "Output()"
      ]
     },
     "metadata": {},
     "output_type": "display_data"
    },
    {
     "name": "stderr",
     "output_type": "stream",
     "text": [
      "INFO: 🎉 Inversion successfully finished due to stopping critiera.\n"
     ]
    },
    {
     "data": {
      "text/html": [
       "<pre style=\"white-space:pre;overflow-x:auto;line-height:normal;font-family:Menlo,'DejaVu Sans Mono',consolas,'Courier New',monospace\"></pre>\n"
      ],
      "text/plain": []
     },
     "metadata": {},
     "output_type": "display_data"
    }
   ],
   "source": [
    "model = inversion.run()"
   ]
  },
  {
   "cell_type": "code",
   "execution_count": 32,
   "id": "d0d30772-a955-419f-8758-bd0bb00f8d28",
   "metadata": {
    "execution": {
     "iopub.execute_input": "2025-08-13T19:05:07.542596Z",
     "iopub.status.busy": "2025-08-13T19:05:07.542301Z",
     "iopub.status.idle": "2025-08-13T19:05:07.547572Z",
     "shell.execute_reply": "2025-08-13T19:05:07.546925Z",
     "shell.execute_reply.started": "2025-08-13T19:05:07.542564Z"
    }
   },
   "outputs": [
    {
     "name": "stdout",
     "output_type": "stream",
     "text": [
      "Result:\n",
      "[0.78781238 0.63620172 0.2461426  0.1941919  0.33960904 0.17601471\n",
      " 0.32485498 0.26662799 0.52718998 0.89311305]\n",
      "\n",
      "True model:\n",
      "[0.78225148 0.67148671 0.2373809  0.17946133 0.34662367 0.15210999\n",
      " 0.31142952 0.23900652 0.54355731 0.91770851]\n"
     ]
    }
   ],
   "source": [
    "print(\"Result:\")\n",
    "print(inversion.model)\n",
    "print()\n",
    "print(\"True model:\")\n",
    "print(true_model)"
   ]
  },
  {
   "cell_type": "code",
   "execution_count": 33,
   "id": "2c56c396-1d8a-4c78-a8a4-2f9ec6baec58",
   "metadata": {
    "execution": {
     "iopub.execute_input": "2025-08-13T19:05:07.548456Z",
     "iopub.status.busy": "2025-08-13T19:05:07.548253Z",
     "iopub.status.idle": "2025-08-13T19:05:07.846068Z",
     "shell.execute_reply": "2025-08-13T19:05:07.845494Z",
     "shell.execute_reply.started": "2025-08-13T19:05:07.548436Z"
    }
   },
   "outputs": [
    {
     "data": {
      "image/png": "[encoded data removed]",
      "text/plain": [
       "<Figure size 600x800 with 3 Axes>"
      ]
     },
     "metadata": {},
     "output_type": "display_data"
    }
   ],
   "source": [
    "df = pd.DataFrame(inversion.log.log).set_index(\"iter\")\n",
    "\n",
    "fig, axes = plt.subplots(nrows=3, ncols=1, sharex=True, figsize=(6, 8))\n",
    "axes[0].plot(df.index, df.beta, \"o-\")\n",
    "axes[0].set_ylabel(\"Beta\")\n",
    "\n",
    "axes[1].plot(df.index, df.phi_d, \"o-\")\n",
    "axes[1].axhline(data_misfit.n_data, linestyle=\"--\", color=\"grey\")\n",
    "axes[1].set_ylabel(\"Data misfit\")\n",
    "axes[1].set_yscale(\"log\")\n",
    "\n",
    "axes[2].plot(df.index, df.phi_m, \"o-\")\n",
    "axes[2].set_ylabel(\"Model norm\")\n",
    "\n",
    "plt.show()"
   ]
  },
  {
   "cell_type": "code",
   "execution_count": null,
   "id": "57d9438d-f594-4c3a-b47d-e9d12c7a6ea8",
   "metadata": {},
   "outputs": [],
   "source": []
  }
 ],
 "metadata": {
  "kernelspec": {
   "display_name": "Python [conda env:inversion_ideas]",
   "language": "python",
   "name": "conda-env-inversion_ideas-py"
  },
  "language_info": {
   "codemirror_mode": {
    "name": "ipython",
    "version": 3
   },
   "file_extension": ".py",
   "mimetype": "text/x-python",
   "name": "python",
   "nbconvert_exporter": "python",
   "pygments_lexer": "ipython3",
   "version": "3.13.5"
  }
 },
 "nbformat": 4,
 "nbformat_minor": 5
}
