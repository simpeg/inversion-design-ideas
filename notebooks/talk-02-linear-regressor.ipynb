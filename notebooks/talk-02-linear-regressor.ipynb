{
 "cells": [
  {
   "cell_type": "markdown",
   "id": "3d891280-9a92-42f6-b05d-5d19c8ffd81f",
   "metadata": {},
   "source": [
    "# Inversion of a linear regressor"
   ]
  },
  {
   "cell_type": "code",
   "execution_count": null,
   "id": "b9047635-0e25-44d4-8395-8200d7660823",
   "metadata": {},
   "outputs": [],
   "source": [
    "import numpy as np\n",
    "from regressor import LinearRegressor\n",
    "\n",
    "import inversion_ideas as ii"
   ]
  },
  {
   "cell_type": "markdown",
   "id": "35115ab5-640f-4472-8218-9f30117c3a5a",
   "metadata": {},
   "source": [
    "## Synthetic data\n",
    "\n",
    "Build synthetic data for a linear regressor such as:\n",
    "\n",
    "$$ \\mathbf{d}_\\text{obs} = \\mathbf{X} \\mathbf{m}_\\text{true} + \\epsilon $$\n",
    "\n",
    "where \n",
    "$\\mathbf{d}_\\text{obs}$ is the observed data (synthetic),\n",
    "$\\mathbf{X}$ is a matrix we randomly generate,\n",
    "and $\\mathbf{m}_\\text{true}$ is the true model we'll try to invert for,\n",
    "and $\\epsilon$ is some random noise generated out of a normal distribution."
   ]
  },
  {
   "cell_type": "code",
   "execution_count": null,
   "id": "afa3d214-09d3-4a0f-a402-5793d8b308b2",
   "metadata": {},
   "outputs": [],
   "source": [
    "n_params = 10\n",
    "rng = np.random.default_rng(seed=4242)\n",
    "true_model = rng.uniform(size=10)\n",
    "true_model"
   ]
  },
  {
   "cell_type": "code",
   "execution_count": null,
   "id": "5485a55c-9727-4260-b590-1ea243dba484",
   "metadata": {},
   "outputs": [],
   "source": [
    "# Build the X matrix\n",
    "n_data = 25\n",
    "shape = (n_data, n_params)\n",
    "X = rng.uniform(size=n_data * n_params).reshape(shape)"
   ]
  },
  {
   "cell_type": "code",
   "execution_count": null,
   "id": "66458a9c-5e01-4a75-8fd0-fd149f447992",
   "metadata": {},
   "outputs": [],
   "source": [
    "# Generate synthetic data with noise\n",
    "synthetic_data = X @ true_model\n",
    "maxabs = np.max(np.abs(synthetic_data))\n",
    "std_err =  1e-2 * maxabs\n",
    "noise = rng.normal(scale=std_err, size=synthetic_data.size)\n",
    "synthetic_data += noise\n",
    "synthetic_data"
   ]
  },
  {
   "cell_type": "markdown",
   "id": "5da968ca-c3e5-42ee-a8a9-11bcec60dc78",
   "metadata": {},
   "source": [
    "## Inversion"
   ]
  },
  {
   "cell_type": "code",
   "execution_count": null,
   "id": "ad91f721-72a9-485b-9043-d85a2a220b7b",
   "metadata": {},
   "outputs": [],
   "source": [
    "simulation = LinearRegressor(X)"
   ]
  },
  {
   "cell_type": "code",
   "execution_count": null,
   "id": "063f0184-2d0c-4431-a0bb-1c36f42c2bf2",
   "metadata": {},
   "outputs": [],
   "source": [
    "uncertainty = std_err * np.ones_like(synthetic_data)\n",
    "data_misfit = ii.DataMisfit(synthetic_data, uncertainty, simulation)\n",
    "data_misfit"
   ]
  },
  {
   "cell_type": "code",
   "execution_count": null,
   "id": "f60ff7e2-fbfe-43e9-bdeb-e574d122f7f4",
   "metadata": {},
   "outputs": [],
   "source": [
    "smallness = ii.TikhonovZero(n_params)\n",
    "smallness"
   ]
  },
  {
   "cell_type": "code",
   "execution_count": null,
   "id": "8da79647-eb17-4177-afb9-776f3cc4ffc5",
   "metadata": {},
   "outputs": [],
   "source": [
    "phi = data_misfit + 1e-3 * smallness\n",
    "phi"
   ]
  },
  {
   "cell_type": "code",
   "execution_count": null,
   "id": "08ea5c62-bb9c-48ae-813e-305da92bf66c",
   "metadata": {},
   "outputs": [],
   "source": [
    "initial_model = np.zeros(n_params)\n",
    "initial_model"
   ]
  },
  {
   "cell_type": "code",
   "execution_count": null,
   "id": "856695bb-0ea0-4125-a60e-e8572849619f",
   "metadata": {},
   "outputs": [],
   "source": [
    "from scipy.optimize import minimize\n",
    "\n",
    "result = minimize(phi, initial_model)\n",
    "result"
   ]
  },
  {
   "cell_type": "code",
   "execution_count": null,
   "id": "1ed0887d-0446-44f7-ac8f-d8c20881d7c5",
   "metadata": {},
   "outputs": [],
   "source": [
    "inverted_model = result.x\n",
    "inverted_model"
   ]
  },
  {
   "cell_type": "code",
   "execution_count": null,
   "id": "d25be88b-3134-447a-b003-c80dddff3166",
   "metadata": {},
   "outputs": [],
   "source": [
    "print(\"Result:\")\n",
    "print(inverted_model)\n",
    "print()\n",
    "print(\"True model:\")\n",
    "print(true_model)"
   ]
  },
  {
   "cell_type": "markdown",
   "id": "0648a02d-c9cb-41b6-a843-cc98441e3c72",
   "metadata": {},
   "source": [
    "### Use the `Minimizer` class"
   ]
  },
  {
   "cell_type": "code",
   "execution_count": null,
   "id": "f21f3df8-038c-49cc-b249-71fd394a3e62",
   "metadata": {},
   "outputs": [],
   "source": [
    "minimizer = ii.ConjugateGradient()\n",
    "minimizer"
   ]
  },
  {
   "cell_type": "code",
   "execution_count": null,
   "id": "f62ec8c2-adff-44fe-ac36-dc89dcdac096",
   "metadata": {},
   "outputs": [],
   "source": [
    "inverted_model = minimizer(phi, initial_model)\n",
    "inverted_model"
   ]
  },
  {
   "cell_type": "code",
   "execution_count": null,
   "id": "e41d3e15-1a74-42b9-9583-cacb8aeceadc",
   "metadata": {},
   "outputs": [],
   "source": [
    "print(\"Result:\")\n",
    "print(inverted_model)\n",
    "print()\n",
    "print(\"True model:\")\n",
    "print(true_model)"
   ]
  }
 ],
 "metadata": {
  "kernelspec": {
   "display_name": "Python [conda env:inversion_ideas]",
   "language": "python",
   "name": "conda-env-inversion_ideas-py"
  },
  "language_info": {
   "codemirror_mode": {
    "name": "ipython",
    "version": 3
   },
   "file_extension": ".py",
   "mimetype": "text/x-python",
   "name": "python",
   "nbconvert_exporter": "python",
   "pygments_lexer": "ipython3",
   "version": "3.13.5"
  }
 },
 "nbformat": 4,
 "nbformat_minor": 5
}
