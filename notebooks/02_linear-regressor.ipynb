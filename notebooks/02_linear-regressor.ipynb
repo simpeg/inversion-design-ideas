{
 "cells": [
  {
   "cell_type": "markdown",
   "id": "0ed66bfb-683e-4b0a-a4ec-50050f295070",
   "metadata": {},
   "source": [
    "# Use inversion framework to fit a linear regressor"
   ]
  },
  {
   "cell_type": "code",
   "execution_count": 1,
   "id": "bba9bf32-da93-4100-9ee1-0983a1450bb4",
   "metadata": {
    "execution": {
     "iopub.execute_input": "2025-08-29T00:01:13.885154Z",
     "iopub.status.busy": "2025-08-29T00:01:13.884373Z",
     "iopub.status.idle": "2025-08-29T00:01:14.377100Z",
     "shell.execute_reply": "2025-08-29T00:01:14.376522Z"
    }
   },
   "outputs": [],
   "source": [
    "import numpy as np\n",
    "from regressor import LinearRegressor\n",
    "\n",
    "from inversion_ideas import ConjugateGradient, DataMisfit, TikhonovZero"
   ]
  },
  {
   "cell_type": "code",
   "execution_count": 2,
   "id": "afa3d214-09d3-4a0f-a402-5793d8b308b2",
   "metadata": {
    "execution": {
     "iopub.execute_input": "2025-08-29T00:01:14.378981Z",
     "iopub.status.busy": "2025-08-29T00:01:14.378729Z",
     "iopub.status.idle": "2025-08-29T00:01:14.384941Z",
     "shell.execute_reply": "2025-08-29T00:01:14.384490Z"
    }
   },
   "outputs": [
    {
     "data": {
      "text/plain": [
       "array([0.78225148, 0.67148671, 0.2373809 , 0.17946133, 0.34662367,\n",
       "       0.15210999, 0.31142952, 0.23900652, 0.54355731, 0.91770851])"
      ]
     },
     "execution_count": 2,
     "metadata": {},
     "output_type": "execute_result"
    }
   ],
   "source": [
    "n_params = 10\n",
    "rng = np.random.default_rng(seed=4242)\n",
    "true_model = rng.uniform(size=10)\n",
    "true_model"
   ]
  },
  {
   "cell_type": "code",
   "execution_count": 3,
   "id": "5485a55c-9727-4260-b590-1ea243dba484",
   "metadata": {
    "execution": {
     "iopub.execute_input": "2025-08-29T00:01:14.386600Z",
     "iopub.status.busy": "2025-08-29T00:01:14.386402Z",
     "iopub.status.idle": "2025-08-29T00:01:14.389346Z",
     "shell.execute_reply": "2025-08-29T00:01:14.388829Z"
    }
   },
   "outputs": [],
   "source": [
    "# Build the X array\n",
    "n_data = 25\n",
    "shape = (n_data, n_params)\n",
    "X = rng.uniform(size=n_data * n_params).reshape(shape)"
   ]
  },
  {
   "cell_type": "code",
   "execution_count": 4,
   "id": "66458a9c-5e01-4a75-8fd0-fd149f447992",
   "metadata": {
    "execution": {
     "iopub.execute_input": "2025-08-29T00:01:14.390844Z",
     "iopub.status.busy": "2025-08-29T00:01:14.390669Z",
     "iopub.status.idle": "2025-08-29T00:01:14.394590Z",
     "shell.execute_reply": "2025-08-29T00:01:14.394237Z"
    }
   },
   "outputs": [
    {
     "data": {
      "text/plain": [
       "array([2.83840696, 2.18091081, 2.00623242, 2.08333039, 2.01694883,\n",
       "       2.7826232 , 2.10564027, 1.27333506, 2.08859855, 1.94177648,\n",
       "       1.88492037, 2.92394733, 2.17231952, 3.08009275, 1.61670886,\n",
       "       1.77403753, 2.67305005, 1.91413882, 2.42117827, 2.13991628,\n",
       "       2.0153805 , 2.71388471, 2.65944255, 2.44416121, 3.14217523])"
      ]
     },
     "execution_count": 4,
     "metadata": {},
     "output_type": "execute_result"
    }
   ],
   "source": [
    "synthetic_data = X @ true_model\n",
    "maxabs = np.max(np.abs(synthetic_data))\n",
    "noise = rng.normal(scale=1e-2 * maxabs, size=synthetic_data.size)\n",
    "synthetic_data += noise\n",
    "synthetic_data"
   ]
  },
  {
   "cell_type": "code",
   "execution_count": 5,
   "id": "ad91f721-72a9-485b-9043-d85a2a220b7b",
   "metadata": {
    "execution": {
     "iopub.execute_input": "2025-08-29T00:01:14.396092Z",
     "iopub.status.busy": "2025-08-29T00:01:14.395920Z",
     "iopub.status.idle": "2025-08-29T00:01:14.398221Z",
     "shell.execute_reply": "2025-08-29T00:01:14.397854Z"
    }
   },
   "outputs": [],
   "source": [
    "simulation = LinearRegressor(X)"
   ]
  },
  {
   "cell_type": "code",
   "execution_count": 6,
   "id": "04636169-320a-4f1e-ab42-1b083b0111dd",
   "metadata": {
    "execution": {
     "iopub.execute_input": "2025-08-29T00:01:14.399668Z",
     "iopub.status.busy": "2025-08-29T00:01:14.399502Z",
     "iopub.status.idle": "2025-08-29T00:01:14.402154Z",
     "shell.execute_reply": "2025-08-29T00:01:14.401673Z"
    }
   },
   "outputs": [],
   "source": [
    "uncertainty = 1e-2 * maxabs * np.ones_like(synthetic_data)\n",
    "data_misfit = DataMisfit(synthetic_data, uncertainty, simulation)\n",
    "smallness = TikhonovZero(n_params)"
   ]
  },
  {
   "cell_type": "code",
   "execution_count": 7,
   "id": "8da79647-eb17-4177-afb9-776f3cc4ffc5",
   "metadata": {
    "execution": {
     "iopub.execute_input": "2025-08-29T00:01:14.403801Z",
     "iopub.status.busy": "2025-08-29T00:01:14.403450Z",
     "iopub.status.idle": "2025-08-29T00:01:14.407089Z",
     "shell.execute_reply": "2025-08-29T00:01:14.406660Z"
    }
   },
   "outputs": [
    {
     "data": {
      "text/latex": [
       "$ \\phi_{d} (m) + 1.00 \\cdot 10^{-3} \\, \\phi_{s} (m) $"
      ],
      "text/plain": [
       "φd(m) + 0.00 φs(m)"
      ]
     },
     "execution_count": 7,
     "metadata": {},
     "output_type": "execute_result"
    }
   ],
   "source": [
    "phi = data_misfit + 1e-3 * smallness\n",
    "phi"
   ]
  },
  {
   "cell_type": "code",
   "execution_count": 8,
   "id": "d7bb890a-2958-4ea4-aa64-413f57c7b63e",
   "metadata": {
    "execution": {
     "iopub.execute_input": "2025-08-29T00:01:14.408577Z",
     "iopub.status.busy": "2025-08-29T00:01:14.408318Z",
     "iopub.status.idle": "2025-08-29T00:01:14.411546Z",
     "shell.execute_reply": "2025-08-29T00:01:14.411131Z"
    }
   },
   "outputs": [
    {
     "data": {
      "text/plain": [
       "array([0., 0., 0., 0., 0., 0., 0., 0., 0., 0.])"
      ]
     },
     "execution_count": 8,
     "metadata": {},
     "output_type": "execute_result"
    }
   ],
   "source": [
    "initial_model = np.zeros(n_params)\n",
    "initial_model"
   ]
  },
  {
   "cell_type": "markdown",
   "id": "5cc54476-cd31-4bf6-bc0f-bfd6254af7ec",
   "metadata": {},
   "source": [
    "## Minimize manually with `scipy.sparse.linalg.cg`"
   ]
  },
  {
   "cell_type": "code",
   "execution_count": 9,
   "id": "d4bac3a2-49d5-4592-a793-72789ec31a5c",
   "metadata": {
    "execution": {
     "iopub.execute_input": "2025-08-29T00:01:14.412966Z",
     "iopub.status.busy": "2025-08-29T00:01:14.412805Z",
     "iopub.status.idle": "2025-08-29T00:01:14.415242Z",
     "shell.execute_reply": "2025-08-29T00:01:14.414885Z"
    }
   },
   "outputs": [],
   "source": [
    "from scipy.sparse.linalg import cg"
   ]
  },
  {
   "cell_type": "code",
   "execution_count": 10,
   "id": "c3369162-abe9-4fb9-9294-69277e50ef13",
   "metadata": {
    "execution": {
     "iopub.execute_input": "2025-08-29T00:01:14.416835Z",
     "iopub.status.busy": "2025-08-29T00:01:14.416642Z",
     "iopub.status.idle": "2025-08-29T00:01:14.420616Z",
     "shell.execute_reply": "2025-08-29T00:01:14.420109Z"
    }
   },
   "outputs": [],
   "source": [
    "grad = phi.gradient(initial_model)\n",
    "hess = phi.hessian(initial_model)"
   ]
  },
  {
   "cell_type": "code",
   "execution_count": 11,
   "id": "c1fed88c-9c34-4ee3-8208-e7b50c2ec678",
   "metadata": {
    "execution": {
     "iopub.execute_input": "2025-08-29T00:01:14.422225Z",
     "iopub.status.busy": "2025-08-29T00:01:14.422060Z",
     "iopub.status.idle": "2025-08-29T00:01:14.427099Z",
     "shell.execute_reply": "2025-08-29T00:01:14.426632Z"
    }
   },
   "outputs": [
    {
     "data": {
      "text/plain": [
       "(array([0.81328886, 0.65927514, 0.2472937 , 0.19624752, 0.3237346 ,\n",
       "        0.14720342, 0.3194468 , 0.25235983, 0.52215485, 0.92181018]),\n",
       " 0)"
      ]
     },
     "execution_count": 11,
     "metadata": {},
     "output_type": "execute_result"
    }
   ],
   "source": [
    "model_step, info = cg(hess, -grad)\n",
    "model_step, info"
   ]
  },
  {
   "cell_type": "code",
   "execution_count": 12,
   "id": "54a8ef70-6e5f-4000-ad2f-658dbffd83f1",
   "metadata": {
    "execution": {
     "iopub.execute_input": "2025-08-29T00:01:14.428754Z",
     "iopub.status.busy": "2025-08-29T00:01:14.428538Z",
     "iopub.status.idle": "2025-08-29T00:01:14.431057Z",
     "shell.execute_reply": "2025-08-29T00:01:14.430631Z"
    }
   },
   "outputs": [],
   "source": [
    "inverted_model = initial_model + model_step"
   ]
  },
  {
   "cell_type": "code",
   "execution_count": 13,
   "id": "b05f913f-dcfa-4bca-a277-b9cf5c9de6b5",
   "metadata": {
    "execution": {
     "iopub.execute_input": "2025-08-29T00:01:14.432608Z",
     "iopub.status.busy": "2025-08-29T00:01:14.432392Z",
     "iopub.status.idle": "2025-08-29T00:01:14.436141Z",
     "shell.execute_reply": "2025-08-29T00:01:14.435634Z"
    }
   },
   "outputs": [
    {
     "name": "stdout",
     "output_type": "stream",
     "text": [
      "Result:\n",
      "[0.81328886 0.65927514 0.2472937  0.19624752 0.3237346  0.14720342\n",
      " 0.3194468  0.25235983 0.52215485 0.92181018]\n",
      "\n",
      "True model:\n",
      "[0.78225148 0.67148671 0.2373809  0.17946133 0.34662367 0.15210999\n",
      " 0.31142952 0.23900652 0.54355731 0.91770851]\n"
     ]
    }
   ],
   "source": [
    "print(\"Result:\")\n",
    "print(inverted_model)\n",
    "print()\n",
    "print(\"True model:\")\n",
    "print(true_model)"
   ]
  },
  {
   "cell_type": "markdown",
   "id": "ad0f7d22-77d6-410c-bca1-e3d765006aff",
   "metadata": {},
   "source": [
    "## Minimize with SciPy's `minimize`"
   ]
  },
  {
   "cell_type": "code",
   "execution_count": 14,
   "id": "5f36ec3b-0380-4eeb-b01a-3191c12b70f5",
   "metadata": {
    "execution": {
     "iopub.execute_input": "2025-08-29T00:01:14.437727Z",
     "iopub.status.busy": "2025-08-29T00:01:14.437499Z",
     "iopub.status.idle": "2025-08-29T00:01:14.568248Z",
     "shell.execute_reply": "2025-08-29T00:01:14.567628Z"
    }
   },
   "outputs": [],
   "source": [
    "from scipy.optimize import minimize"
   ]
  },
  {
   "cell_type": "code",
   "execution_count": 15,
   "id": "ba337ea8-0afb-46aa-b107-07bcf86a8324",
   "metadata": {
    "execution": {
     "iopub.execute_input": "2025-08-29T00:01:14.570192Z",
     "iopub.status.busy": "2025-08-29T00:01:14.569979Z",
     "iopub.status.idle": "2025-08-29T00:01:14.681301Z",
     "shell.execute_reply": "2025-08-29T00:01:14.680793Z"
    }
   },
   "outputs": [
    {
     "data": {
      "text/plain": [
       "  message: Optimization terminated successfully.\n",
       "  success: True\n",
       "   status: 0\n",
       "      fun: 11.719746150008552\n",
       "        x: [ 8.133e-01  6.593e-01  2.473e-01  1.963e-01  3.237e-01\n",
       "             1.472e-01  3.195e-01  2.524e-01  5.222e-01  9.218e-01]\n",
       "      nit: 15\n",
       "      jac: [-5.841e-06 -2.384e-07 -3.576e-06 -2.384e-07 -7.987e-06\n",
       "            -1.311e-06  0.000e+00  1.907e-06 -2.503e-06 -5.603e-06]\n",
       " hess_inv: [[ 3.378e-04 -1.043e-04 ...  1.536e-05 -9.322e-05]\n",
       "            [-1.043e-04  4.045e-04 ... -1.009e-04 -1.335e-05]\n",
       "            ...\n",
       "            [ 1.536e-05 -1.009e-04 ...  2.159e-04 -5.467e-05]\n",
       "            [-9.322e-05 -1.335e-05 ... -5.467e-05  2.625e-04]]\n",
       "     nfev: 253\n",
       "     njev: 23"
      ]
     },
     "execution_count": 15,
     "metadata": {},
     "output_type": "execute_result"
    }
   ],
   "source": [
    "result = minimize(phi, initial_model)\n",
    "result"
   ]
  },
  {
   "cell_type": "code",
   "execution_count": 16,
   "id": "d5cf83b5-6cbd-42d1-9513-d3ca38464b72",
   "metadata": {
    "execution": {
     "iopub.execute_input": "2025-08-29T00:01:14.682882Z",
     "iopub.status.busy": "2025-08-29T00:01:14.682715Z",
     "iopub.status.idle": "2025-08-29T00:01:14.685075Z",
     "shell.execute_reply": "2025-08-29T00:01:14.684718Z"
    }
   },
   "outputs": [],
   "source": [
    "# The minimize already gives you the minimum model\n",
    "inverted_model = result.x"
   ]
  },
  {
   "cell_type": "code",
   "execution_count": 17,
   "id": "d25be88b-3134-447a-b003-c80dddff3166",
   "metadata": {
    "execution": {
     "iopub.execute_input": "2025-08-29T00:01:14.686545Z",
     "iopub.status.busy": "2025-08-29T00:01:14.686381Z",
     "iopub.status.idle": "2025-08-29T00:01:14.689546Z",
     "shell.execute_reply": "2025-08-29T00:01:14.689022Z"
    }
   },
   "outputs": [
    {
     "name": "stdout",
     "output_type": "stream",
     "text": [
      "Result:\n",
      "[0.8132614  0.65925412 0.24726513 0.19626776 0.32373026 0.14719295\n",
      " 0.3194738  0.25235066 0.52216838 0.92184153]\n",
      "\n",
      "True model:\n",
      "[0.78225148 0.67148671 0.2373809  0.17946133 0.34662367 0.15210999\n",
      " 0.31142952 0.23900652 0.54355731 0.91770851]\n"
     ]
    }
   ],
   "source": [
    "print(\"Result:\")\n",
    "print(inverted_model)\n",
    "print()\n",
    "print(\"True model:\")\n",
    "print(true_model)"
   ]
  },
  {
   "cell_type": "code",
   "execution_count": 18,
   "id": "50cb98a1-1fc8-4378-a517-09ed910ce1c3",
   "metadata": {
    "execution": {
     "iopub.execute_input": "2025-08-29T00:01:14.691031Z",
     "iopub.status.busy": "2025-08-29T00:01:14.690857Z",
     "iopub.status.idle": "2025-08-29T00:01:14.715771Z",
     "shell.execute_reply": "2025-08-29T00:01:14.715268Z"
    }
   },
   "outputs": [
    {
     "data": {
      "text/plain": [
       " message: Optimization terminated successfully.\n",
       " success: True\n",
       "  status: 0\n",
       "     fun: 11.719746150007738\n",
       "       x: [ 8.133e-01  6.593e-01  2.473e-01  1.963e-01  3.237e-01\n",
       "            1.472e-01  3.195e-01  2.524e-01  5.222e-01  9.218e-01]\n",
       "     nit: 12\n",
       "     jac: [-2.176e-11 -1.929e-11 -1.793e-11 -3.187e-11 -2.110e-11\n",
       "           -2.648e-11 -2.277e-11 -1.810e-11 -1.589e-11 -1.227e-11]\n",
       "    nfev: 24\n",
       "    njev: 24"
      ]
     },
     "execution_count": 18,
     "metadata": {},
     "output_type": "execute_result"
    }
   ],
   "source": [
    "result = minimize(phi, initial_model, jac=phi.gradient, method=\"CG\")\n",
    "result"
   ]
  },
  {
   "cell_type": "code",
   "execution_count": 19,
   "id": "45a7c13a-79ea-445f-b63d-b551787ebc20",
   "metadata": {
    "execution": {
     "iopub.execute_input": "2025-08-29T00:01:14.717386Z",
     "iopub.status.busy": "2025-08-29T00:01:14.717168Z",
     "iopub.status.idle": "2025-08-29T00:01:14.719651Z",
     "shell.execute_reply": "2025-08-29T00:01:14.719254Z"
    }
   },
   "outputs": [],
   "source": [
    "# The minimize already gives you the minimum model\n",
    "inverted_model = result.x"
   ]
  },
  {
   "cell_type": "code",
   "execution_count": 20,
   "id": "094fbf19-b676-4aba-8e23-b93abb8b2431",
   "metadata": {
    "execution": {
     "iopub.execute_input": "2025-08-29T00:01:14.721146Z",
     "iopub.status.busy": "2025-08-29T00:01:14.720982Z",
     "iopub.status.idle": "2025-08-29T00:01:14.724158Z",
     "shell.execute_reply": "2025-08-29T00:01:14.723754Z"
    }
   },
   "outputs": [
    {
     "name": "stdout",
     "output_type": "stream",
     "text": [
      "Result:\n",
      "[0.8132614  0.65925411 0.24726513 0.19626776 0.32373025 0.14719295\n",
      " 0.3194738  0.25235066 0.52216838 0.92184154]\n",
      "\n",
      "True model:\n",
      "[0.78225148 0.67148671 0.2373809  0.17946133 0.34662367 0.15210999\n",
      " 0.31142952 0.23900652 0.54355731 0.91770851]\n"
     ]
    }
   ],
   "source": [
    "print(\"Result:\")\n",
    "print(result.x)\n",
    "print()\n",
    "print(\"True model:\")\n",
    "print(true_model)"
   ]
  },
  {
   "cell_type": "code",
   "execution_count": 21,
   "id": "65235b83-fd51-4f52-b7ba-3c0dc2a35fe2",
   "metadata": {
    "execution": {
     "iopub.execute_input": "2025-08-29T00:01:14.725627Z",
     "iopub.status.busy": "2025-08-29T00:01:14.725460Z",
     "iopub.status.idle": "2025-08-29T00:01:14.746844Z",
     "shell.execute_reply": "2025-08-29T00:01:14.746342Z"
    }
   },
   "outputs": [
    {
     "data": {
      "text/plain": [
       " message: Optimization terminated successfully.\n",
       " success: True\n",
       "  status: 0\n",
       "     fun: 11.719746314217307\n",
       "       x: [ 8.133e-01  6.592e-01  2.473e-01  1.963e-01  3.237e-01\n",
       "            1.472e-01  3.195e-01  2.524e-01  5.222e-01  9.218e-01]\n",
       "     nit: 10\n",
       "     jac: [-3.047e-02 -4.461e-02  1.683e-02  2.203e-02 -8.361e-03\n",
       "            7.088e-02 -2.080e-02  3.307e-02 -1.339e-02 -1.339e-02]\n",
       "    nfev: 11\n",
       "    njev: 11\n",
       "    nhev: 26"
      ]
     },
     "execution_count": 21,
     "metadata": {},
     "output_type": "execute_result"
    }
   ],
   "source": [
    "result = minimize(\n",
    "    phi, initial_model, jac=phi.gradient, hess=phi.hessian, method=\"Newton-CG\"\n",
    ")\n",
    "result"
   ]
  },
  {
   "cell_type": "code",
   "execution_count": 22,
   "id": "45df89b6-58fc-472c-bfa6-96f1d3c7cc5c",
   "metadata": {
    "execution": {
     "iopub.execute_input": "2025-08-29T00:01:14.748640Z",
     "iopub.status.busy": "2025-08-29T00:01:14.748258Z",
     "iopub.status.idle": "2025-08-29T00:01:14.750632Z",
     "shell.execute_reply": "2025-08-29T00:01:14.750141Z"
    }
   },
   "outputs": [],
   "source": [
    "# The minimize already gives you the minimum model\n",
    "inverted_model = result.x"
   ]
  },
  {
   "cell_type": "code",
   "execution_count": 23,
   "id": "2e9d2ee1-bfd9-4c3d-9865-f63d08a25b07",
   "metadata": {
    "execution": {
     "iopub.execute_input": "2025-08-29T00:01:14.752104Z",
     "iopub.status.busy": "2025-08-29T00:01:14.751938Z",
     "iopub.status.idle": "2025-08-29T00:01:14.754938Z",
     "shell.execute_reply": "2025-08-29T00:01:14.754584Z"
    }
   },
   "outputs": [
    {
     "name": "stdout",
     "output_type": "stream",
     "text": [
      "Result:\n",
      "[0.81326764 0.65924856 0.24725963 0.19626682 0.32372755 0.14719478\n",
      " 0.31947594 0.25235815 0.52216987 0.92183788]\n",
      "\n",
      "True model:\n",
      "[0.78225148 0.67148671 0.2373809  0.17946133 0.34662367 0.15210999\n",
      " 0.31142952 0.23900652 0.54355731 0.91770851]\n"
     ]
    }
   ],
   "source": [
    "print(\"Result:\")\n",
    "print(result.x)\n",
    "print()\n",
    "print(\"True model:\")\n",
    "print(true_model)"
   ]
  },
  {
   "cell_type": "markdown",
   "id": "ded8a6fd-c419-4b13-bf3e-9d221c78a368",
   "metadata": {},
   "source": [
    "## Use `Minimizer` class"
   ]
  },
  {
   "cell_type": "code",
   "execution_count": 24,
   "id": "34372a3f-ff42-435f-9423-a4f99712fd9c",
   "metadata": {
    "execution": {
     "iopub.execute_input": "2025-08-29T00:01:14.756434Z",
     "iopub.status.busy": "2025-08-29T00:01:14.756268Z",
     "iopub.status.idle": "2025-08-29T00:01:14.759212Z",
     "shell.execute_reply": "2025-08-29T00:01:14.758792Z"
    }
   },
   "outputs": [
    {
     "data": {
      "text/plain": [
       "<inversion_ideas.minimizers.ConjugateGradient at 0x7ff721445be0>"
      ]
     },
     "execution_count": 24,
     "metadata": {},
     "output_type": "execute_result"
    }
   ],
   "source": [
    "minimizer = ConjugateGradient()\n",
    "minimizer"
   ]
  },
  {
   "cell_type": "code",
   "execution_count": 25,
   "id": "f3f52071-c2c5-4016-9d61-cd2f3b781698",
   "metadata": {
    "execution": {
     "iopub.execute_input": "2025-08-29T00:01:14.760702Z",
     "iopub.status.busy": "2025-08-29T00:01:14.760532Z",
     "iopub.status.idle": "2025-08-29T00:01:14.764935Z",
     "shell.execute_reply": "2025-08-29T00:01:14.764534Z"
    }
   },
   "outputs": [],
   "source": [
    "inverted_model = minimizer(phi, initial_model)"
   ]
  },
  {
   "cell_type": "code",
   "execution_count": 26,
   "id": "e41d3e15-1a74-42b9-9583-cacb8aeceadc",
   "metadata": {
    "execution": {
     "iopub.execute_input": "2025-08-29T00:01:14.766557Z",
     "iopub.status.busy": "2025-08-29T00:01:14.766339Z",
     "iopub.status.idle": "2025-08-29T00:01:14.770191Z",
     "shell.execute_reply": "2025-08-29T00:01:14.769646Z"
    }
   },
   "outputs": [
    {
     "name": "stdout",
     "output_type": "stream",
     "text": [
      "Result:\n",
      "[0.81328886 0.65927514 0.2472937  0.19624752 0.3237346  0.14720342\n",
      " 0.3194468  0.25235983 0.52215485 0.92181018]\n",
      "\n",
      "True model:\n",
      "[0.78225148 0.67148671 0.2373809  0.17946133 0.34662367 0.15210999\n",
      " 0.31142952 0.23900652 0.54355731 0.91770851]\n"
     ]
    }
   ],
   "source": [
    "print(\"Result:\")\n",
    "print(inverted_model)\n",
    "print()\n",
    "print(\"True model:\")\n",
    "print(true_model)"
   ]
  }
 ],
 "metadata": {
  "kernelspec": {
   "display_name": "inversion_ideas",
   "language": "python",
   "name": "python3"
  },
  "language_info": {
   "codemirror_mode": {
    "name": "ipython",
    "version": 3
   },
   "file_extension": ".py",
   "mimetype": "text/x-python",
   "name": "python",
   "nbconvert_exporter": "python",
   "pygments_lexer": "ipython3",
   "version": "3.13.5"
  }
 },
 "nbformat": 4,
 "nbformat_minor": 5
}
