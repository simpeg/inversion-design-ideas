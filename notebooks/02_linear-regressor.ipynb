{
 "cells": [
  {
   "cell_type": "markdown",
   "id": "0ed66bfb-683e-4b0a-a4ec-50050f295070",
   "metadata": {},
   "source": [
    "# Use inversion framework to fit a linear regressor"
   ]
  },
  {
   "cell_type": "code",
   "execution_count": 1,
   "id": "bba9bf32-da93-4100-9ee1-0983a1450bb4",
   "metadata": {
    "execution": {
     "iopub.execute_input": "2025-07-30T20:31:24.162766Z",
     "iopub.status.busy": "2025-07-30T20:31:24.162477Z",
     "iopub.status.idle": "2025-07-30T20:31:24.457302Z",
     "shell.execute_reply": "2025-07-30T20:31:24.456634Z",
     "shell.execute_reply.started": "2025-07-30T20:31:24.162740Z"
    }
   },
   "outputs": [],
   "source": [
    "import numpy as np\n",
    "\n",
    "from inversion_ideas import DataMisfit, TikhonovZero, ConjugateGradient\n",
    "from regressor import LinearRegressor"
   ]
  },
  {
   "cell_type": "code",
   "execution_count": 2,
   "id": "afa3d214-09d3-4a0f-a402-5793d8b308b2",
   "metadata": {
    "execution": {
     "iopub.execute_input": "2025-07-30T20:31:24.458171Z",
     "iopub.status.busy": "2025-07-30T20:31:24.457850Z",
     "iopub.status.idle": "2025-07-30T20:31:24.464413Z",
     "shell.execute_reply": "2025-07-30T20:31:24.463810Z",
     "shell.execute_reply.started": "2025-07-30T20:31:24.458150Z"
    }
   },
   "outputs": [
    {
     "data": {
      "text/plain": [
       "array([0.78225148, 0.67148671, 0.2373809 , 0.17946133, 0.34662367,\n",
       "       0.15210999, 0.31142952, 0.23900652, 0.54355731, 0.91770851])"
      ]
     },
     "execution_count": 2,
     "metadata": {},
     "output_type": "execute_result"
    }
   ],
   "source": [
    "n_params = 10\n",
    "rng = np.random.default_rng(seed=4242)\n",
    "true_model = rng.uniform(size=10)\n",
    "true_model"
   ]
  },
  {
   "cell_type": "code",
   "execution_count": 3,
   "id": "5485a55c-9727-4260-b590-1ea243dba484",
   "metadata": {
    "execution": {
     "iopub.execute_input": "2025-07-30T20:31:24.465690Z",
     "iopub.status.busy": "2025-07-30T20:31:24.465183Z",
     "iopub.status.idle": "2025-07-30T20:31:24.470243Z",
     "shell.execute_reply": "2025-07-30T20:31:24.469503Z",
     "shell.execute_reply.started": "2025-07-30T20:31:24.465658Z"
    }
   },
   "outputs": [],
   "source": [
    "# Build the X array\n",
    "n_data = 25\n",
    "shape = (n_data, n_params)\n",
    "X = rng.uniform(size=n_data * n_params).reshape(shape)"
   ]
  },
  {
   "cell_type": "code",
   "execution_count": 4,
   "id": "66458a9c-5e01-4a75-8fd0-fd149f447992",
   "metadata": {
    "execution": {
     "iopub.execute_input": "2025-07-30T20:31:24.471784Z",
     "iopub.status.busy": "2025-07-30T20:31:24.471036Z",
     "iopub.status.idle": "2025-07-30T20:31:24.477183Z",
     "shell.execute_reply": "2025-07-30T20:31:24.476394Z",
     "shell.execute_reply.started": "2025-07-30T20:31:24.471754Z"
    }
   },
   "outputs": [
    {
     "data": {
      "text/plain": [
       "array([2.83840696, 2.18091081, 2.00623242, 2.08333039, 2.01694883,\n",
       "       2.7826232 , 2.10564027, 1.27333506, 2.08859855, 1.94177648,\n",
       "       1.88492037, 2.92394733, 2.17231952, 3.08009275, 1.61670886,\n",
       "       1.77403753, 2.67305005, 1.91413882, 2.42117827, 2.13991628,\n",
       "       2.0153805 , 2.71388471, 2.65944255, 2.44416121, 3.14217523])"
      ]
     },
     "execution_count": 4,
     "metadata": {},
     "output_type": "execute_result"
    }
   ],
   "source": [
    "synthetic_data = X @ true_model\n",
    "maxabs = np.max(np.abs(synthetic_data))\n",
    "noise = rng.normal(scale=1e-2 * maxabs, size=synthetic_data.size)\n",
    "synthetic_data += noise\n",
    "synthetic_data"
   ]
  },
  {
   "cell_type": "code",
   "execution_count": 5,
   "id": "ad91f721-72a9-485b-9043-d85a2a220b7b",
   "metadata": {
    "execution": {
     "iopub.execute_input": "2025-07-30T20:31:24.478617Z",
     "iopub.status.busy": "2025-07-30T20:31:24.478136Z",
     "iopub.status.idle": "2025-07-30T20:31:24.481786Z",
     "shell.execute_reply": "2025-07-30T20:31:24.481171Z",
     "shell.execute_reply.started": "2025-07-30T20:31:24.478585Z"
    }
   },
   "outputs": [],
   "source": [
    "simulation = LinearRegressor(X)"
   ]
  },
  {
   "cell_type": "code",
   "execution_count": 6,
   "id": "04636169-320a-4f1e-ab42-1b083b0111dd",
   "metadata": {
    "execution": {
     "iopub.execute_input": "2025-07-30T20:31:24.484530Z",
     "iopub.status.busy": "2025-07-30T20:31:24.484169Z",
     "iopub.status.idle": "2025-07-30T20:31:24.488248Z",
     "shell.execute_reply": "2025-07-30T20:31:24.487607Z",
     "shell.execute_reply.started": "2025-07-30T20:31:24.484499Z"
    }
   },
   "outputs": [],
   "source": [
    "uncertainty = 1e-2 * maxabs * np.ones_like(synthetic_data)\n",
    "data_misfit = DataMisfit(synthetic_data, uncertainty, simulation)\n",
    "smallness = TikhonovZero(n_params)"
   ]
  },
  {
   "cell_type": "code",
   "execution_count": 7,
   "id": "8da79647-eb17-4177-afb9-776f3cc4ffc5",
   "metadata": {
    "execution": {
     "iopub.execute_input": "2025-07-30T20:31:24.489008Z",
     "iopub.status.busy": "2025-07-30T20:31:24.488823Z",
     "iopub.status.idle": "2025-07-30T20:31:24.494004Z",
     "shell.execute_reply": "2025-07-30T20:31:24.493302Z",
     "shell.execute_reply.started": "2025-07-30T20:31:24.488990Z"
    }
   },
   "outputs": [
    {
     "data": {
      "text/latex": [
       "$\\phi (m)$ + $1.00 \\cdot 10^{-3} \\, \\phi (m)$"
      ],
      "text/plain": [
       "φ(m) + 0.00 φ(m)"
      ]
     },
     "execution_count": 7,
     "metadata": {},
     "output_type": "execute_result"
    }
   ],
   "source": [
    "phi = data_misfit + 1e-3 * smallness\n",
    "phi"
   ]
  },
  {
   "cell_type": "code",
   "execution_count": 8,
   "id": "d7bb890a-2958-4ea4-aa64-413f57c7b63e",
   "metadata": {
    "execution": {
     "iopub.execute_input": "2025-07-30T20:31:24.494964Z",
     "iopub.status.busy": "2025-07-30T20:31:24.494775Z",
     "iopub.status.idle": "2025-07-30T20:31:24.498989Z",
     "shell.execute_reply": "2025-07-30T20:31:24.498435Z",
     "shell.execute_reply.started": "2025-07-30T20:31:24.494946Z"
    }
   },
   "outputs": [
    {
     "data": {
      "text/plain": [
       "array([0., 0., 0., 0., 0., 0., 0., 0., 0., 0.])"
      ]
     },
     "execution_count": 8,
     "metadata": {},
     "output_type": "execute_result"
    }
   ],
   "source": [
    "initial_model = np.zeros(n_params)\n",
    "initial_model"
   ]
  },
  {
   "cell_type": "markdown",
   "id": "5cc54476-cd31-4bf6-bc0f-bfd6254af7ec",
   "metadata": {},
   "source": [
    "## Minimize manually with `scipy.sparse.linalg.cg`"
   ]
  },
  {
   "cell_type": "code",
   "execution_count": 9,
   "id": "d4bac3a2-49d5-4592-a793-72789ec31a5c",
   "metadata": {
    "execution": {
     "iopub.execute_input": "2025-07-30T20:31:24.499864Z",
     "iopub.status.busy": "2025-07-30T20:31:24.499608Z",
     "iopub.status.idle": "2025-07-30T20:31:24.503546Z",
     "shell.execute_reply": "2025-07-30T20:31:24.502791Z",
     "shell.execute_reply.started": "2025-07-30T20:31:24.499839Z"
    }
   },
   "outputs": [],
   "source": [
    "from scipy.sparse.linalg import cg"
   ]
  },
  {
   "cell_type": "code",
   "execution_count": 10,
   "id": "c3369162-abe9-4fb9-9294-69277e50ef13",
   "metadata": {
    "execution": {
     "iopub.execute_input": "2025-07-30T20:31:24.504629Z",
     "iopub.status.busy": "2025-07-30T20:31:24.504410Z",
     "iopub.status.idle": "2025-07-30T20:31:24.509980Z",
     "shell.execute_reply": "2025-07-30T20:31:24.509313Z",
     "shell.execute_reply.started": "2025-07-30T20:31:24.504610Z"
    }
   },
   "outputs": [],
   "source": [
    "grad = phi.gradient(initial_model)\n",
    "hess = phi.hessian(initial_model)"
   ]
  },
  {
   "cell_type": "code",
   "execution_count": 11,
   "id": "c1fed88c-9c34-4ee3-8208-e7b50c2ec678",
   "metadata": {
    "execution": {
     "iopub.execute_input": "2025-07-30T20:31:24.511017Z",
     "iopub.status.busy": "2025-07-30T20:31:24.510748Z",
     "iopub.status.idle": "2025-07-30T20:31:24.516580Z",
     "shell.execute_reply": "2025-07-30T20:31:24.515961Z",
     "shell.execute_reply.started": "2025-07-30T20:31:24.510988Z"
    }
   },
   "outputs": [
    {
     "data": {
      "text/plain": [
       "(array([0.81328361, 0.65926983, 0.24729306, 0.19624665, 0.32373823,\n",
       "        0.14720994, 0.31944798, 0.25236328, 0.52215617, 0.92180399]),\n",
       " 0)"
      ]
     },
     "execution_count": 11,
     "metadata": {},
     "output_type": "execute_result"
    }
   ],
   "source": [
    "model_step, info = cg(hess, -grad)\n",
    "model_step, info"
   ]
  },
  {
   "cell_type": "code",
   "execution_count": 12,
   "id": "54a8ef70-6e5f-4000-ad2f-658dbffd83f1",
   "metadata": {
    "execution": {
     "iopub.execute_input": "2025-07-30T20:31:24.517980Z",
     "iopub.status.busy": "2025-07-30T20:31:24.517437Z",
     "iopub.status.idle": "2025-07-30T20:31:24.521372Z",
     "shell.execute_reply": "2025-07-30T20:31:24.520615Z",
     "shell.execute_reply.started": "2025-07-30T20:31:24.517948Z"
    }
   },
   "outputs": [],
   "source": [
    "inverted_model = initial_model + model_step"
   ]
  },
  {
   "cell_type": "code",
   "execution_count": 13,
   "id": "b05f913f-dcfa-4bca-a277-b9cf5c9de6b5",
   "metadata": {
    "execution": {
     "iopub.execute_input": "2025-07-30T20:31:24.522796Z",
     "iopub.status.busy": "2025-07-30T20:31:24.522211Z",
     "iopub.status.idle": "2025-07-30T20:31:24.528239Z",
     "shell.execute_reply": "2025-07-30T20:31:24.527568Z",
     "shell.execute_reply.started": "2025-07-30T20:31:24.522763Z"
    }
   },
   "outputs": [
    {
     "name": "stdout",
     "output_type": "stream",
     "text": [
      "Result:\n",
      "[0.81328361 0.65926983 0.24729306 0.19624665 0.32373823 0.14720994\n",
      " 0.31944798 0.25236328 0.52215617 0.92180399]\n",
      "\n",
      "True model:\n",
      "[0.78225148 0.67148671 0.2373809  0.17946133 0.34662367 0.15210999\n",
      " 0.31142952 0.23900652 0.54355731 0.91770851]\n"
     ]
    }
   ],
   "source": [
    "print(\"Result:\")\n",
    "print(inverted_model)\n",
    "print()\n",
    "print(\"True model:\")\n",
    "print(true_model)"
   ]
  },
  {
   "cell_type": "markdown",
   "id": "ad0f7d22-77d6-410c-bca1-e3d765006aff",
   "metadata": {},
   "source": [
    "## Minimize with SciPy's `minimize`"
   ]
  },
  {
   "cell_type": "code",
   "execution_count": 14,
   "id": "5f36ec3b-0380-4eeb-b01a-3191c12b70f5",
   "metadata": {
    "execution": {
     "iopub.execute_input": "2025-07-30T20:31:24.529292Z",
     "iopub.status.busy": "2025-07-30T20:31:24.528997Z",
     "iopub.status.idle": "2025-07-30T20:31:24.627862Z",
     "shell.execute_reply": "2025-07-30T20:31:24.627203Z",
     "shell.execute_reply.started": "2025-07-30T20:31:24.529263Z"
    }
   },
   "outputs": [],
   "source": [
    "from scipy.optimize import minimize"
   ]
  },
  {
   "cell_type": "code",
   "execution_count": 15,
   "id": "ba337ea8-0afb-46aa-b107-07bcf86a8324",
   "metadata": {
    "execution": {
     "iopub.execute_input": "2025-07-30T20:31:24.628808Z",
     "iopub.status.busy": "2025-07-30T20:31:24.628584Z",
     "iopub.status.idle": "2025-07-30T20:31:24.732988Z",
     "shell.execute_reply": "2025-07-30T20:31:24.732442Z",
     "shell.execute_reply.started": "2025-07-30T20:31:24.628789Z"
    }
   },
   "outputs": [
    {
     "data": {
      "text/plain": [
       "  message: Optimization terminated successfully.\n",
       "  success: True\n",
       "   status: 0\n",
       "      fun: 0.37159603111570305\n",
       "        x: [ 8.133e-01  6.592e-01  2.473e-01  1.963e-01  3.237e-01\n",
       "             1.472e-01  3.195e-01  2.524e-01  5.222e-01  9.218e-01]\n",
       "      nit: 16\n",
       "      jac: [-1.378e-07  2.645e-07  1.155e-07  1.118e-08 -1.006e-07\n",
       "             1.714e-07 -3.725e-08  2.682e-07  3.353e-08  1.602e-07]\n",
       " hess_inv: [[ 1.077e-02 -3.331e-03 ...  5.039e-04 -2.987e-03]\n",
       "            [-3.331e-03  1.286e-02 ... -3.213e-03 -4.085e-04]\n",
       "            ...\n",
       "            [ 5.039e-04 -3.213e-03 ...  6.867e-03 -1.745e-03]\n",
       "            [-2.987e-03 -4.085e-04 ... -1.745e-03  8.357e-03]]\n",
       "     nfev: 231\n",
       "     njev: 21"
      ]
     },
     "execution_count": 15,
     "metadata": {},
     "output_type": "execute_result"
    }
   ],
   "source": [
    "result =  minimize(phi, initial_model)\n",
    "result"
   ]
  },
  {
   "cell_type": "code",
   "execution_count": 16,
   "id": "d5cf83b5-6cbd-42d1-9513-d3ca38464b72",
   "metadata": {
    "execution": {
     "iopub.execute_input": "2025-07-30T20:31:24.733769Z",
     "iopub.status.busy": "2025-07-30T20:31:24.733576Z",
     "iopub.status.idle": "2025-07-30T20:31:24.737193Z",
     "shell.execute_reply": "2025-07-30T20:31:24.736343Z",
     "shell.execute_reply.started": "2025-07-30T20:31:24.733751Z"
    }
   },
   "outputs": [],
   "source": [
    "# The minimize already gives you the minimum model\n",
    "inverted_model = result.x"
   ]
  },
  {
   "cell_type": "code",
   "execution_count": 17,
   "id": "d25be88b-3134-447a-b003-c80dddff3166",
   "metadata": {
    "execution": {
     "iopub.execute_input": "2025-07-30T20:31:24.738321Z",
     "iopub.status.busy": "2025-07-30T20:31:24.737986Z",
     "iopub.status.idle": "2025-07-30T20:31:24.746221Z",
     "shell.execute_reply": "2025-07-30T20:31:24.745545Z",
     "shell.execute_reply.started": "2025-07-30T20:31:24.738290Z"
    }
   },
   "outputs": [
    {
     "name": "stdout",
     "output_type": "stream",
     "text": [
      "Result:\n",
      "[0.81325615 0.65924881 0.24726449 0.19626688 0.32373389 0.14719947\n",
      " 0.31947497 0.25235411 0.5221697  0.92183533]\n",
      "\n",
      "True model:\n",
      "[0.78225148 0.67148671 0.2373809  0.17946133 0.34662367 0.15210999\n",
      " 0.31142952 0.23900652 0.54355731 0.91770851]\n"
     ]
    }
   ],
   "source": [
    "print(\"Result:\")\n",
    "print(inverted_model)\n",
    "print()\n",
    "print(\"True model:\")\n",
    "print(true_model)"
   ]
  },
  {
   "cell_type": "code",
   "execution_count": 18,
   "id": "50cb98a1-1fc8-4378-a517-09ed910ce1c3",
   "metadata": {
    "execution": {
     "iopub.execute_input": "2025-07-30T20:31:24.747350Z",
     "iopub.status.busy": "2025-07-30T20:31:24.746844Z",
     "iopub.status.idle": "2025-07-30T20:31:24.772910Z",
     "shell.execute_reply": "2025-07-30T20:31:24.772218Z",
     "shell.execute_reply.started": "2025-07-30T20:31:24.747323Z"
    }
   },
   "outputs": [
    {
     "data": {
      "text/plain": [
       " message: Optimization terminated successfully.\n",
       " success: True\n",
       "  status: 0\n",
       "     fun: 0.3715960311156822\n",
       "       x: [ 8.133e-01  6.592e-01  2.473e-01  1.963e-01  3.237e-01\n",
       "            1.472e-01  3.195e-01  2.524e-01  5.222e-01  9.218e-01]\n",
       "     nit: 12\n",
       "     jac: [ 8.321e-13 -8.337e-13 -1.028e-12 -2.157e-14 -2.755e-13\n",
       "           -4.928e-13 -8.490e-13 -1.512e-12 -5.860e-13 -1.837e-12]\n",
       "    nfev: 24\n",
       "    njev: 24"
      ]
     },
     "execution_count": 18,
     "metadata": {},
     "output_type": "execute_result"
    }
   ],
   "source": [
    "result =  minimize(phi, initial_model, jac=phi.gradient, method=\"CG\")\n",
    "result"
   ]
  },
  {
   "cell_type": "code",
   "execution_count": 19,
   "id": "45a7c13a-79ea-445f-b63d-b551787ebc20",
   "metadata": {
    "execution": {
     "iopub.execute_input": "2025-07-30T20:31:24.773621Z",
     "iopub.status.busy": "2025-07-30T20:31:24.773429Z",
     "iopub.status.idle": "2025-07-30T20:31:24.776749Z",
     "shell.execute_reply": "2025-07-30T20:31:24.776006Z",
     "shell.execute_reply.started": "2025-07-30T20:31:24.773602Z"
    }
   },
   "outputs": [],
   "source": [
    "# The minimize already gives you the minimum model\n",
    "inverted_model = result.x"
   ]
  },
  {
   "cell_type": "code",
   "execution_count": 20,
   "id": "094fbf19-b676-4aba-8e23-b93abb8b2431",
   "metadata": {
    "execution": {
     "iopub.execute_input": "2025-07-30T20:31:24.777661Z",
     "iopub.status.busy": "2025-07-30T20:31:24.777406Z",
     "iopub.status.idle": "2025-07-30T20:31:24.781976Z",
     "shell.execute_reply": "2025-07-30T20:31:24.781330Z",
     "shell.execute_reply.started": "2025-07-30T20:31:24.777641Z"
    }
   },
   "outputs": [
    {
     "name": "stdout",
     "output_type": "stream",
     "text": [
      "Result:\n",
      "[0.81325615 0.65924881 0.2472645  0.19626689 0.32373389 0.14719947\n",
      " 0.31947497 0.25235411 0.5221697  0.92183533]\n",
      "\n",
      "True model:\n",
      "[0.78225148 0.67148671 0.2373809  0.17946133 0.34662367 0.15210999\n",
      " 0.31142952 0.23900652 0.54355731 0.91770851]\n"
     ]
    }
   ],
   "source": [
    "print(\"Result:\")\n",
    "print(result.x)\n",
    "print()\n",
    "print(\"True model:\")\n",
    "print(true_model)"
   ]
  },
  {
   "cell_type": "code",
   "execution_count": 21,
   "id": "65235b83-fd51-4f52-b7ba-3c0dc2a35fe2",
   "metadata": {
    "execution": {
     "iopub.execute_input": "2025-07-30T20:31:24.785421Z",
     "iopub.status.busy": "2025-07-30T20:31:24.785122Z",
     "iopub.status.idle": "2025-07-30T20:31:24.813204Z",
     "shell.execute_reply": "2025-07-30T20:31:24.812588Z",
     "shell.execute_reply.started": "2025-07-30T20:31:24.785401Z"
    }
   },
   "outputs": [
    {
     "data": {
      "text/plain": [
       " message: Optimization terminated successfully.\n",
       " success: True\n",
       "  status: 0\n",
       "     fun: 0.37159603111728207\n",
       "       x: [ 8.133e-01  6.592e-01  2.473e-01  1.963e-01  3.237e-01\n",
       "            1.472e-01  3.195e-01  2.524e-01  5.222e-01  9.218e-01]\n",
       "     nit: 10\n",
       "     jac: [-1.755e-04 -1.486e-04  1.521e-04  4.685e-05  3.222e-05\n",
       "           -1.612e-04  8.816e-05  7.859e-06  3.653e-04 -1.935e-04]\n",
       "    nfev: 11\n",
       "    njev: 11\n",
       "    nhev: 28"
      ]
     },
     "execution_count": 21,
     "metadata": {},
     "output_type": "execute_result"
    }
   ],
   "source": [
    "result =  minimize(phi, initial_model, jac=phi.gradient, hess=phi.hessian, method=\"Newton-CG\")\n",
    "result"
   ]
  },
  {
   "cell_type": "code",
   "execution_count": 22,
   "id": "45df89b6-58fc-472c-bfa6-96f1d3c7cc5c",
   "metadata": {
    "execution": {
     "iopub.execute_input": "2025-07-30T20:31:24.814007Z",
     "iopub.status.busy": "2025-07-30T20:31:24.813806Z",
     "iopub.status.idle": "2025-07-30T20:31:24.816969Z",
     "shell.execute_reply": "2025-07-30T20:31:24.816220Z",
     "shell.execute_reply.started": "2025-07-30T20:31:24.813988Z"
    }
   },
   "outputs": [],
   "source": [
    "# The minimize already gives you the minimum model\n",
    "inverted_model = result.x"
   ]
  },
  {
   "cell_type": "code",
   "execution_count": 23,
   "id": "2e9d2ee1-bfd9-4c3d-9865-f63d08a25b07",
   "metadata": {
    "execution": {
     "iopub.execute_input": "2025-07-30T20:31:24.818092Z",
     "iopub.status.busy": "2025-07-30T20:31:24.817803Z",
     "iopub.status.idle": "2025-07-30T20:31:24.823002Z",
     "shell.execute_reply": "2025-07-30T20:31:24.822409Z",
     "shell.execute_reply.started": "2025-07-30T20:31:24.818063Z"
    }
   },
   "outputs": [
    {
     "name": "stdout",
     "output_type": "stream",
     "text": [
      "Result:\n",
      "[0.81325626 0.65924868 0.24726445 0.19626684 0.32373384 0.14719954\n",
      " 0.31947496 0.25235426 0.52216973 0.92183526]\n",
      "\n",
      "True model:\n",
      "[0.78225148 0.67148671 0.2373809  0.17946133 0.34662367 0.15210999\n",
      " 0.31142952 0.23900652 0.54355731 0.91770851]\n"
     ]
    }
   ],
   "source": [
    "print(\"Result:\")\n",
    "print(result.x)\n",
    "print()\n",
    "print(\"True model:\")\n",
    "print(true_model)"
   ]
  },
  {
   "cell_type": "markdown",
   "id": "ded8a6fd-c419-4b13-bf3e-9d221c78a368",
   "metadata": {},
   "source": [
    "## Use `Minimizer` class"
   ]
  },
  {
   "cell_type": "code",
   "execution_count": 24,
   "id": "34372a3f-ff42-435f-9423-a4f99712fd9c",
   "metadata": {
    "execution": {
     "iopub.execute_input": "2025-07-30T20:31:24.824170Z",
     "iopub.status.busy": "2025-07-30T20:31:24.823877Z",
     "iopub.status.idle": "2025-07-30T20:31:24.828391Z",
     "shell.execute_reply": "2025-07-30T20:31:24.827749Z",
     "shell.execute_reply.started": "2025-07-30T20:31:24.824139Z"
    }
   },
   "outputs": [
    {
     "data": {
      "text/plain": [
       "<inversion_ideas.minimizer.ConjugateGradient at 0x7fe0bd1f34d0>"
      ]
     },
     "execution_count": 24,
     "metadata": {},
     "output_type": "execute_result"
    }
   ],
   "source": [
    "minimizer = ConjugateGradient()\n",
    "minimizer"
   ]
  },
  {
   "cell_type": "code",
   "execution_count": 25,
   "id": "f3f52071-c2c5-4016-9d61-cd2f3b781698",
   "metadata": {
    "execution": {
     "iopub.execute_input": "2025-07-30T20:31:24.829433Z",
     "iopub.status.busy": "2025-07-30T20:31:24.829080Z",
     "iopub.status.idle": "2025-07-30T20:31:24.835198Z",
     "shell.execute_reply": "2025-07-30T20:31:24.834411Z",
     "shell.execute_reply.started": "2025-07-30T20:31:24.829406Z"
    }
   },
   "outputs": [],
   "source": [
    "inverted_model = minimizer(phi, initial_model)"
   ]
  },
  {
   "cell_type": "code",
   "execution_count": 26,
   "id": "e41d3e15-1a74-42b9-9583-cacb8aeceadc",
   "metadata": {
    "execution": {
     "iopub.execute_input": "2025-07-30T20:31:24.836331Z",
     "iopub.status.busy": "2025-07-30T20:31:24.836023Z",
     "iopub.status.idle": "2025-07-30T20:31:24.840715Z",
     "shell.execute_reply": "2025-07-30T20:31:24.839928Z",
     "shell.execute_reply.started": "2025-07-30T20:31:24.836300Z"
    }
   },
   "outputs": [
    {
     "name": "stdout",
     "output_type": "stream",
     "text": [
      "Result:\n",
      "[0.81328361 0.65926983 0.24729306 0.19624665 0.32373823 0.14720994\n",
      " 0.31944798 0.25236328 0.52215617 0.92180399]\n",
      "\n",
      "True model:\n",
      "[0.78225148 0.67148671 0.2373809  0.17946133 0.34662367 0.15210999\n",
      " 0.31142952 0.23900652 0.54355731 0.91770851]\n"
     ]
    }
   ],
   "source": [
    "print(\"Result:\")\n",
    "print(inverted_model)\n",
    "print()\n",
    "print(\"True model:\")\n",
    "print(true_model)"
   ]
  },
  {
   "cell_type": "code",
   "execution_count": null,
   "id": "4a35232d-899c-4746-884d-58cb6b60a52d",
   "metadata": {},
   "outputs": [],
   "source": []
  }
 ],
 "metadata": {
  "kernelspec": {
   "display_name": "Python [conda env:inversion_ideas]",
   "language": "python",
   "name": "conda-env-inversion_ideas-py"
  },
  "language_info": {
   "codemirror_mode": {
    "name": "ipython",
    "version": 3
   },
   "file_extension": ".py",
   "mimetype": "text/x-python",
   "name": "python",
   "nbconvert_exporter": "python",
   "pygments_lexer": "ipython3",
   "version": "3.13.5"
  }
 },
 "nbformat": 4,
 "nbformat_minor": 5
}
