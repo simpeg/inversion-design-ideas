{
 "cells": [
  {
   "cell_type": "code",
   "execution_count": 1,
   "id": "bba9bf32-da93-4100-9ee1-0983a1450bb4",
   "metadata": {
    "execution": {
     "iopub.execute_input": "2025-07-18T22:47:41.990417Z",
     "iopub.status.busy": "2025-07-18T22:47:41.989767Z",
     "iopub.status.idle": "2025-07-18T22:47:42.221784Z",
     "shell.execute_reply": "2025-07-18T22:47:42.221169Z",
     "shell.execute_reply.started": "2025-07-18T22:47:41.990378Z"
    }
   },
   "outputs": [],
   "source": [
    "import numpy as np\n",
    "\n",
    "from inversion_ideas import DataMisfit, TikhonovZero\n",
    "from regressor import LinearRegressor"
   ]
  },
  {
   "cell_type": "code",
   "execution_count": 2,
   "id": "afa3d214-09d3-4a0f-a402-5793d8b308b2",
   "metadata": {
    "execution": {
     "iopub.execute_input": "2025-07-18T22:47:42.222564Z",
     "iopub.status.busy": "2025-07-18T22:47:42.222317Z",
     "iopub.status.idle": "2025-07-18T22:47:42.229451Z",
     "shell.execute_reply": "2025-07-18T22:47:42.228705Z",
     "shell.execute_reply.started": "2025-07-18T22:47:42.222544Z"
    }
   },
   "outputs": [
    {
     "data": {
      "text/plain": [
       "array([0.78225148, 0.67148671, 0.2373809 , 0.17946133, 0.34662367,\n",
       "       0.15210999, 0.31142952, 0.23900652, 0.54355731, 0.91770851])"
      ]
     },
     "execution_count": 2,
     "metadata": {},
     "output_type": "execute_result"
    }
   ],
   "source": [
    "n_params = 10\n",
    "rng = np.random.default_rng(seed=4242)\n",
    "true_model = rng.uniform(size=10)\n",
    "true_model"
   ]
  },
  {
   "cell_type": "code",
   "execution_count": 3,
   "id": "5485a55c-9727-4260-b590-1ea243dba484",
   "metadata": {
    "execution": {
     "iopub.execute_input": "2025-07-18T22:47:42.230428Z",
     "iopub.status.busy": "2025-07-18T22:47:42.230159Z",
     "iopub.status.idle": "2025-07-18T22:47:42.234813Z",
     "shell.execute_reply": "2025-07-18T22:47:42.234078Z",
     "shell.execute_reply.started": "2025-07-18T22:47:42.230397Z"
    }
   },
   "outputs": [],
   "source": [
    "# Build the X array\n",
    "n_data = 25\n",
    "shape = (n_data, n_params)\n",
    "X = rng.uniform(size=n_data * n_params).reshape(shape)"
   ]
  },
  {
   "cell_type": "code",
   "execution_count": 4,
   "id": "66458a9c-5e01-4a75-8fd0-fd149f447992",
   "metadata": {
    "execution": {
     "iopub.execute_input": "2025-07-18T22:47:42.235873Z",
     "iopub.status.busy": "2025-07-18T22:47:42.235605Z",
     "iopub.status.idle": "2025-07-18T22:47:42.241996Z",
     "shell.execute_reply": "2025-07-18T22:47:42.241383Z",
     "shell.execute_reply.started": "2025-07-18T22:47:42.235845Z"
    }
   },
   "outputs": [
    {
     "data": {
      "text/plain": [
       "array([2.83840696, 2.18091081, 2.00623242, 2.08333039, 2.01694883,\n",
       "       2.7826232 , 2.10564027, 1.27333506, 2.08859855, 1.94177648,\n",
       "       1.88492037, 2.92394733, 2.17231952, 3.08009275, 1.61670886,\n",
       "       1.77403753, 2.67305005, 1.91413882, 2.42117827, 2.13991628,\n",
       "       2.0153805 , 2.71388471, 2.65944255, 2.44416121, 3.14217523])"
      ]
     },
     "execution_count": 4,
     "metadata": {},
     "output_type": "execute_result"
    }
   ],
   "source": [
    "synthetic_data = X @ true_model\n",
    "maxabs = np.max(np.abs(synthetic_data))\n",
    "noise = rng.normal(scale=1e-2 * maxabs, size=synthetic_data.size)\n",
    "synthetic_data += noise\n",
    "synthetic_data"
   ]
  },
  {
   "cell_type": "code",
   "execution_count": 5,
   "id": "ad91f721-72a9-485b-9043-d85a2a220b7b",
   "metadata": {
    "execution": {
     "iopub.execute_input": "2025-07-18T22:47:42.242807Z",
     "iopub.status.busy": "2025-07-18T22:47:42.242617Z",
     "iopub.status.idle": "2025-07-18T22:47:42.245756Z",
     "shell.execute_reply": "2025-07-18T22:47:42.245159Z",
     "shell.execute_reply.started": "2025-07-18T22:47:42.242788Z"
    }
   },
   "outputs": [],
   "source": [
    "simulation = LinearRegressor(X)"
   ]
  },
  {
   "cell_type": "code",
   "execution_count": 6,
   "id": "04636169-320a-4f1e-ab42-1b083b0111dd",
   "metadata": {
    "execution": {
     "iopub.execute_input": "2025-07-18T22:47:42.248342Z",
     "iopub.status.busy": "2025-07-18T22:47:42.248015Z",
     "iopub.status.idle": "2025-07-18T22:47:42.252374Z",
     "shell.execute_reply": "2025-07-18T22:47:42.251421Z",
     "shell.execute_reply.started": "2025-07-18T22:47:42.248311Z"
    }
   },
   "outputs": [],
   "source": [
    "uncertainty = 1e-2 * maxabs * np.ones_like(synthetic_data)\n",
    "data_misfit = DataMisfit(synthetic_data, uncertainty, simulation)\n",
    "smallness = TikhonovZero(n_params)"
   ]
  },
  {
   "cell_type": "code",
   "execution_count": 7,
   "id": "8da79647-eb17-4177-afb9-776f3cc4ffc5",
   "metadata": {
    "execution": {
     "iopub.execute_input": "2025-07-18T22:47:42.253874Z",
     "iopub.status.busy": "2025-07-18T22:47:42.253219Z",
     "iopub.status.idle": "2025-07-18T22:47:42.258335Z",
     "shell.execute_reply": "2025-07-18T22:47:42.257646Z",
     "shell.execute_reply.started": "2025-07-18T22:47:42.253842Z"
    }
   },
   "outputs": [
    {
     "data": {
      "text/latex": [
       "$\\phi (m)$ + $1.00 \\cdot 10^{-3} \\, \\phi (m)$"
      ],
      "text/plain": [
       "φ(m) + 0.00 φ(m)"
      ]
     },
     "execution_count": 7,
     "metadata": {},
     "output_type": "execute_result"
    }
   ],
   "source": [
    "phi = data_misfit + 1e-3 * smallness\n",
    "phi"
   ]
  },
  {
   "cell_type": "code",
   "execution_count": 8,
   "id": "d7bb890a-2958-4ea4-aa64-413f57c7b63e",
   "metadata": {
    "execution": {
     "iopub.execute_input": "2025-07-18T22:47:42.259260Z",
     "iopub.status.busy": "2025-07-18T22:47:42.259009Z",
     "iopub.status.idle": "2025-07-18T22:47:42.263360Z",
     "shell.execute_reply": "2025-07-18T22:47:42.262848Z",
     "shell.execute_reply.started": "2025-07-18T22:47:42.259233Z"
    }
   },
   "outputs": [
    {
     "data": {
      "text/plain": [
       "array([0., 0., 0., 0., 0., 0., 0., 0., 0., 0.])"
      ]
     },
     "execution_count": 8,
     "metadata": {},
     "output_type": "execute_result"
    }
   ],
   "source": [
    "initial_model = np.zeros(n_params)\n",
    "initial_model"
   ]
  },
  {
   "cell_type": "code",
   "execution_count": 16,
   "id": "c3369162-abe9-4fb9-9294-69277e50ef13",
   "metadata": {
    "execution": {
     "iopub.execute_input": "2025-07-18T22:54:09.398950Z",
     "iopub.status.busy": "2025-07-18T22:54:09.398694Z",
     "iopub.status.idle": "2025-07-18T22:54:09.404733Z",
     "shell.execute_reply": "2025-07-18T22:54:09.403904Z",
     "shell.execute_reply.started": "2025-07-18T22:54:09.398929Z"
    }
   },
   "outputs": [],
   "source": [
    "grad = phi.gradient(initial_model)\n",
    "hess = phi.hessian(initial_model)"
   ]
  },
  {
   "cell_type": "code",
   "execution_count": 18,
   "id": "d4bac3a2-49d5-4592-a793-72789ec31a5c",
   "metadata": {
    "execution": {
     "iopub.execute_input": "2025-07-18T22:54:51.656212Z",
     "iopub.status.busy": "2025-07-18T22:54:51.655563Z",
     "iopub.status.idle": "2025-07-18T22:54:51.677077Z",
     "shell.execute_reply": "2025-07-18T22:54:51.676315Z",
     "shell.execute_reply.started": "2025-07-18T22:54:51.656175Z"
    }
   },
   "outputs": [],
   "source": [
    "from scipy.sparse.linalg import cg"
   ]
  },
  {
   "cell_type": "code",
   "execution_count": 19,
   "id": "c1fed88c-9c34-4ee3-8208-e7b50c2ec678",
   "metadata": {
    "execution": {
     "iopub.execute_input": "2025-07-18T22:55:06.183044Z",
     "iopub.status.busy": "2025-07-18T22:55:06.182377Z",
     "iopub.status.idle": "2025-07-18T22:55:06.189484Z",
     "shell.execute_reply": "2025-07-18T22:55:06.188718Z",
     "shell.execute_reply.started": "2025-07-18T22:55:06.183009Z"
    }
   },
   "outputs": [
    {
     "data": {
      "text/plain": [
       "(array([0.80819506, 0.65382703, 0.24661944, 0.19564531, 0.32734278,\n",
       "        0.1538892 , 0.32067108, 0.25559218, 0.52355838, 0.91524944]),\n",
       " 0)"
      ]
     },
     "execution_count": 19,
     "metadata": {},
     "output_type": "execute_result"
    }
   ],
   "source": [
    "cg(hess, -grad)"
   ]
  },
  {
   "cell_type": "code",
   "execution_count": 20,
   "id": "cbe7e370-01e8-4226-b1dc-1c40b34184fe",
   "metadata": {
    "execution": {
     "iopub.execute_input": "2025-07-18T22:55:12.215720Z",
     "iopub.status.busy": "2025-07-18T22:55:12.215273Z",
     "iopub.status.idle": "2025-07-18T22:55:12.221979Z",
     "shell.execute_reply": "2025-07-18T22:55:12.221115Z",
     "shell.execute_reply.started": "2025-07-18T22:55:12.215686Z"
    }
   },
   "outputs": [
    {
     "data": {
      "text/plain": [
       "array([0.78225148, 0.67148671, 0.2373809 , 0.17946133, 0.34662367,\n",
       "       0.15210999, 0.31142952, 0.23900652, 0.54355731, 0.91770851])"
      ]
     },
     "execution_count": 20,
     "metadata": {},
     "output_type": "execute_result"
    }
   ],
   "source": [
    "true_model"
   ]
  },
  {
   "cell_type": "code",
   "execution_count": null,
   "id": "5f36ec3b-0380-4eeb-b01a-3191c12b70f5",
   "metadata": {},
   "outputs": [],
   "source": []
  }
 ],
 "metadata": {
  "kernelspec": {
   "display_name": "Python [conda env:inversion_ideas]",
   "language": "python",
   "name": "conda-env-inversion_ideas-py"
  },
  "language_info": {
   "codemirror_mode": {
    "name": "ipython",
    "version": 3
   },
   "file_extension": ".py",
   "mimetype": "text/x-python",
   "name": "python",
   "nbconvert_exporter": "python",
   "pygments_lexer": "ipython3",
   "version": "3.13.5"
  }
 },
 "nbformat": 4,
 "nbformat_minor": 5
}
