{
 "cells": [
  {
   "cell_type": "code",
   "execution_count": 1,
   "id": "ec5a23f6-1939-4bd6-9ddc-a33798bbe64f",
   "metadata": {
    "execution": {
     "iopub.execute_input": "2025-08-19T22:35:15.594380Z",
     "iopub.status.busy": "2025-08-19T22:35:15.593724Z",
     "iopub.status.idle": "2025-08-19T22:35:15.870268Z",
     "shell.execute_reply": "2025-08-19T22:35:15.869598Z"
    }
   },
   "outputs": [],
   "source": [
    "from inversion_ideas.base import Objective"
   ]
  },
  {
   "cell_type": "code",
   "execution_count": 2,
   "id": "9ec050b8-c948-41cb-b13d-d8e510fbfa4e",
   "metadata": {
    "execution": {
     "iopub.execute_input": "2025-08-19T22:35:15.872242Z",
     "iopub.status.busy": "2025-08-19T22:35:15.871982Z",
     "iopub.status.idle": "2025-08-19T22:35:15.875973Z",
     "shell.execute_reply": "2025-08-19T22:35:15.875454Z"
    }
   },
   "outputs": [],
   "source": [
    "class Dummy(Objective):\n",
    "    def __init__(self, n_params):\n",
    "        super().__init__()\n",
    "        self._n_params = n_params\n",
    "\n",
    "    @property\n",
    "    def n_params(self):\n",
    "        return self._n_params\n",
    "\n",
    "    def __call__(self, model):\n",
    "        pass\n",
    "\n",
    "    def gradient(self, model):\n",
    "        pass\n",
    "\n",
    "    def hessian(self, model):\n",
    "        pass"
   ]
  },
  {
   "cell_type": "markdown",
   "id": "b16bb178",
   "metadata": {},
   "source": [
    "## Define some objective functions and name them"
   ]
  },
  {
   "cell_type": "code",
   "execution_count": 3,
   "id": "00c39dc7-9da0-4a44-8950-b63c31f42cee",
   "metadata": {
    "execution": {
     "iopub.execute_input": "2025-08-19T22:35:15.877563Z",
     "iopub.status.busy": "2025-08-19T22:35:15.877356Z",
     "iopub.status.idle": "2025-08-19T22:35:15.882639Z",
     "shell.execute_reply": "2025-08-19T22:35:15.882060Z"
    }
   },
   "outputs": [
    {
     "data": {
      "text/latex": [
       "$\\phi_{a} (m)$"
      ],
      "text/plain": [
       "φa(m)"
      ]
     },
     "execution_count": 3,
     "metadata": {},
     "output_type": "execute_result"
    }
   ],
   "source": [
    "a = Dummy(3)\n",
    "a.set_name(\"a\")\n",
    "a"
   ]
  },
  {
   "cell_type": "code",
   "execution_count": 4,
   "id": "ab16bcf5-8529-4b01-9ce5-f0060110e73d",
   "metadata": {
    "execution": {
     "iopub.execute_input": "2025-08-19T22:35:15.884175Z",
     "iopub.status.busy": "2025-08-19T22:35:15.883993Z",
     "iopub.status.idle": "2025-08-19T22:35:15.887438Z",
     "shell.execute_reply": "2025-08-19T22:35:15.887086Z"
    }
   },
   "outputs": [
    {
     "data": {
      "text/latex": [
       "$\\phi_{b} (m)$"
      ],
      "text/plain": [
       "φb(m)"
      ]
     },
     "execution_count": 4,
     "metadata": {},
     "output_type": "execute_result"
    }
   ],
   "source": [
    "b = Dummy(3)\n",
    "b.set_name(\"b\")\n",
    "b"
   ]
  },
  {
   "cell_type": "code",
   "execution_count": 5,
   "id": "1da4940c-8fba-4aef-ba71-6979b31e8265",
   "metadata": {
    "execution": {
     "iopub.execute_input": "2025-08-19T22:35:15.888928Z",
     "iopub.status.busy": "2025-08-19T22:35:15.888764Z",
     "iopub.status.idle": "2025-08-19T22:35:15.892587Z",
     "shell.execute_reply": "2025-08-19T22:35:15.891959Z"
    }
   },
   "outputs": [
    {
     "data": {
      "text/latex": [
       "$\\phi_{c} (m)$"
      ],
      "text/plain": [
       "φc(m)"
      ]
     },
     "execution_count": 5,
     "metadata": {},
     "output_type": "execute_result"
    }
   ],
   "source": [
    "c = Dummy(3)\n",
    "c.set_name(\"c\")\n",
    "c"
   ]
  },
  {
   "cell_type": "code",
   "execution_count": 6,
   "id": "710cf93b",
   "metadata": {
    "execution": {
     "iopub.execute_input": "2025-08-19T22:35:15.894497Z",
     "iopub.status.busy": "2025-08-19T22:35:15.893843Z",
     "iopub.status.idle": "2025-08-19T22:35:15.897687Z",
     "shell.execute_reply": "2025-08-19T22:35:15.897162Z"
    }
   },
   "outputs": [
    {
     "data": {
      "text/latex": [
       "$\\phi_{d} (m)$"
      ],
      "text/plain": [
       "φd(m)"
      ]
     },
     "execution_count": 6,
     "metadata": {},
     "output_type": "execute_result"
    }
   ],
   "source": [
    "d = Dummy(3)\n",
    "d.set_name(\"d\")\n",
    "d"
   ]
  },
  {
   "cell_type": "markdown",
   "id": "9f36b948",
   "metadata": {},
   "source": [
    "## Experiment with Combo and Scaled"
   ]
  },
  {
   "cell_type": "markdown",
   "id": "66e4e69a",
   "metadata": {},
   "source": [
    "Simple combo of two objective functions:"
   ]
  },
  {
   "cell_type": "code",
   "execution_count": 7,
   "id": "1162487a",
   "metadata": {
    "execution": {
     "iopub.execute_input": "2025-08-19T22:35:15.899529Z",
     "iopub.status.busy": "2025-08-19T22:35:15.899354Z",
     "iopub.status.idle": "2025-08-19T22:35:15.902726Z",
     "shell.execute_reply": "2025-08-19T22:35:15.902358Z"
    }
   },
   "outputs": [
    {
     "data": {
      "text/latex": [
       "$ \\phi_{a} (m) + \\phi_{b} (m) $"
      ],
      "text/plain": [
       "φa(m) + φb(m)"
      ]
     },
     "execution_count": 7,
     "metadata": {},
     "output_type": "execute_result"
    }
   ],
   "source": [
    "combo = a + b\n",
    "combo"
   ]
  },
  {
   "cell_type": "markdown",
   "id": "f41f30a4",
   "metadata": {},
   "source": [
    "Multiply an objective function by a scalar"
   ]
  },
  {
   "cell_type": "code",
   "execution_count": 8,
   "id": "c59b599d",
   "metadata": {
    "execution": {
     "iopub.execute_input": "2025-08-19T22:35:15.904259Z",
     "iopub.status.busy": "2025-08-19T22:35:15.904075Z",
     "iopub.status.idle": "2025-08-19T22:35:15.907574Z",
     "shell.execute_reply": "2025-08-19T22:35:15.907060Z"
    }
   },
   "outputs": [
    {
     "data": {
      "text/latex": [
       "$5.40 \\, \\phi_{a} (m)$"
      ],
      "text/plain": [
       "5.40 φa(m)"
      ]
     },
     "execution_count": 8,
     "metadata": {},
     "output_type": "execute_result"
    }
   ],
   "source": [
    "scaled = 5.4 * a\n",
    "scaled"
   ]
  },
  {
   "cell_type": "markdown",
   "id": "836adbbb",
   "metadata": {},
   "source": [
    "Sum together scaled objective functions to get also a combo:"
   ]
  },
  {
   "cell_type": "code",
   "execution_count": 9,
   "id": "30e1d431",
   "metadata": {
    "execution": {
     "iopub.execute_input": "2025-08-19T22:35:15.909073Z",
     "iopub.status.busy": "2025-08-19T22:35:15.908912Z",
     "iopub.status.idle": "2025-08-19T22:35:15.912326Z",
     "shell.execute_reply": "2025-08-19T22:35:15.911943Z"
    }
   },
   "outputs": [
    {
     "data": {
      "text/latex": [
       "$ 5.40 \\, \\phi_{a} (m) + 3.20 \\, \\phi_{b} (m) $"
      ],
      "text/plain": [
       "5.40 φa(m) + 3.20 φb(m)"
      ]
     },
     "execution_count": 9,
     "metadata": {},
     "output_type": "execute_result"
    }
   ],
   "source": [
    "combo = 5.4 * a + 3.2 * b\n",
    "combo"
   ]
  },
  {
   "cell_type": "markdown",
   "id": "46e1b7bc",
   "metadata": {},
   "source": [
    "We can treat the combo as a _collection_:"
   ]
  },
  {
   "cell_type": "code",
   "execution_count": 10,
   "id": "b9c387cb",
   "metadata": {
    "execution": {
     "iopub.execute_input": "2025-08-19T22:35:15.913997Z",
     "iopub.status.busy": "2025-08-19T22:35:15.913646Z",
     "iopub.status.idle": "2025-08-19T22:35:15.917057Z",
     "shell.execute_reply": "2025-08-19T22:35:15.916614Z"
    }
   },
   "outputs": [
    {
     "data": {
      "text/latex": [
       "$ 5.40 \\, \\phi_{a} (m) + 3.20 \\, \\phi_{b} (m) $"
      ],
      "text/plain": [
       "5.40 φa(m) + 3.20 φb(m)"
      ]
     },
     "execution_count": 10,
     "metadata": {},
     "output_type": "execute_result"
    }
   ],
   "source": [
    "term_1 = 5.4 * a\n",
    "term_2 = 3.2 * b\n",
    "\n",
    "combo = term_1 + term_2\n",
    "combo"
   ]
  },
  {
   "cell_type": "code",
   "execution_count": 11,
   "id": "6615d2da",
   "metadata": {
    "execution": {
     "iopub.execute_input": "2025-08-19T22:35:15.918551Z",
     "iopub.status.busy": "2025-08-19T22:35:15.918380Z",
     "iopub.status.idle": "2025-08-19T22:35:15.921284Z",
     "shell.execute_reply": "2025-08-19T22:35:15.920717Z"
    }
   },
   "outputs": [
    {
     "name": "stdout",
     "output_type": "stream",
     "text": [
      "5.40 φa(m)\n",
      "3.20 φb(m)\n"
     ]
    }
   ],
   "source": [
    "for phi in combo:\n",
    "    print(phi)"
   ]
  },
  {
   "cell_type": "code",
   "execution_count": 12,
   "id": "a1779507",
   "metadata": {
    "execution": {
     "iopub.execute_input": "2025-08-19T22:35:15.922858Z",
     "iopub.status.busy": "2025-08-19T22:35:15.922675Z",
     "iopub.status.idle": "2025-08-19T22:35:15.925715Z",
     "shell.execute_reply": "2025-08-19T22:35:15.925374Z"
    }
   },
   "outputs": [
    {
     "data": {
      "text/plain": [
       "2"
      ]
     },
     "execution_count": 12,
     "metadata": {},
     "output_type": "execute_result"
    }
   ],
   "source": [
    "len(combo)"
   ]
  },
  {
   "cell_type": "code",
   "execution_count": 13,
   "id": "a2384a15",
   "metadata": {
    "execution": {
     "iopub.execute_input": "2025-08-19T22:35:15.927228Z",
     "iopub.status.busy": "2025-08-19T22:35:15.927046Z",
     "iopub.status.idle": "2025-08-19T22:35:15.930161Z",
     "shell.execute_reply": "2025-08-19T22:35:15.929820Z"
    }
   },
   "outputs": [
    {
     "data": {
      "text/latex": [
       "$5.40 \\, \\phi_{a} (m)$"
      ],
      "text/plain": [
       "5.40 φa(m)"
      ]
     },
     "execution_count": 13,
     "metadata": {},
     "output_type": "execute_result"
    }
   ],
   "source": [
    "combo[0]"
   ]
  },
  {
   "cell_type": "code",
   "execution_count": 14,
   "id": "416b3950",
   "metadata": {
    "execution": {
     "iopub.execute_input": "2025-08-19T22:35:15.931675Z",
     "iopub.status.busy": "2025-08-19T22:35:15.931512Z",
     "iopub.status.idle": "2025-08-19T22:35:15.934864Z",
     "shell.execute_reply": "2025-08-19T22:35:15.934497Z"
    }
   },
   "outputs": [
    {
     "data": {
      "text/latex": [
       "$3.20 \\, \\phi_{b} (m)$"
      ],
      "text/plain": [
       "3.20 φb(m)"
      ]
     },
     "execution_count": 14,
     "metadata": {},
     "output_type": "execute_result"
    }
   ],
   "source": [
    "combo[1]"
   ]
  },
  {
   "cell_type": "markdown",
   "id": "edddc174",
   "metadata": {},
   "source": [
    "The elements in the combo **are the same** as used in its definition:"
   ]
  },
  {
   "cell_type": "code",
   "execution_count": 15,
   "id": "5712d7c4",
   "metadata": {
    "execution": {
     "iopub.execute_input": "2025-08-19T22:35:15.936479Z",
     "iopub.status.busy": "2025-08-19T22:35:15.936313Z",
     "iopub.status.idle": "2025-08-19T22:35:15.939473Z",
     "shell.execute_reply": "2025-08-19T22:35:15.939148Z"
    }
   },
   "outputs": [
    {
     "data": {
      "text/plain": [
       "True"
      ]
     },
     "execution_count": 15,
     "metadata": {},
     "output_type": "execute_result"
    }
   ],
   "source": [
    "combo[0] is term_1"
   ]
  },
  {
   "cell_type": "code",
   "execution_count": 16,
   "id": "6e762fae",
   "metadata": {
    "execution": {
     "iopub.execute_input": "2025-08-19T22:35:15.941230Z",
     "iopub.status.busy": "2025-08-19T22:35:15.940728Z",
     "iopub.status.idle": "2025-08-19T22:35:15.944049Z",
     "shell.execute_reply": "2025-08-19T22:35:15.943624Z"
    }
   },
   "outputs": [
    {
     "data": {
      "text/plain": [
       "True"
      ]
     },
     "execution_count": 16,
     "metadata": {},
     "output_type": "execute_result"
    }
   ],
   "source": [
    "combo[1] is term_2"
   ]
  },
  {
   "cell_type": "code",
   "execution_count": 17,
   "id": "23c909ff",
   "metadata": {
    "execution": {
     "iopub.execute_input": "2025-08-19T22:35:15.945573Z",
     "iopub.status.busy": "2025-08-19T22:35:15.945382Z",
     "iopub.status.idle": "2025-08-19T22:35:15.948636Z",
     "shell.execute_reply": "2025-08-19T22:35:15.948273Z"
    }
   },
   "outputs": [
    {
     "data": {
      "text/plain": [
       "True"
      ]
     },
     "execution_count": 17,
     "metadata": {},
     "output_type": "execute_result"
    }
   ],
   "source": [
    "term_1 in combo"
   ]
  },
  {
   "cell_type": "code",
   "execution_count": 18,
   "id": "0c880a5e",
   "metadata": {
    "execution": {
     "iopub.execute_input": "2025-08-19T22:35:15.950156Z",
     "iopub.status.busy": "2025-08-19T22:35:15.949988Z",
     "iopub.status.idle": "2025-08-19T22:35:15.953160Z",
     "shell.execute_reply": "2025-08-19T22:35:15.952622Z"
    }
   },
   "outputs": [
    {
     "data": {
      "text/plain": [
       "True"
      ]
     },
     "execution_count": 18,
     "metadata": {},
     "output_type": "execute_result"
    }
   ],
   "source": [
    "term_2 in combo"
   ]
  },
  {
   "cell_type": "markdown",
   "id": "cada5891",
   "metadata": {},
   "source": [
    "### Nested Combos"
   ]
  },
  {
   "cell_type": "markdown",
   "id": "6709d658",
   "metadata": {},
   "source": [
    "If we sum together three or more functions, we obtain a _nested_ combo structure:"
   ]
  },
  {
   "cell_type": "code",
   "execution_count": 19,
   "id": "7b28238c",
   "metadata": {
    "execution": {
     "iopub.execute_input": "2025-08-19T22:35:15.954805Z",
     "iopub.status.busy": "2025-08-19T22:35:15.954642Z",
     "iopub.status.idle": "2025-08-19T22:35:15.957865Z",
     "shell.execute_reply": "2025-08-19T22:35:15.957501Z"
    }
   },
   "outputs": [
    {
     "data": {
      "text/latex": [
       "$ [  [  \\phi_{a} (m) + \\phi_{b} (m)  ] + \\phi_{c} (m)  ] + \\phi_{d} (m) $"
      ],
      "text/plain": [
       "[ [ φa(m) + φb(m) ] + φc(m) ] + φd(m)"
      ]
     },
     "execution_count": 19,
     "metadata": {},
     "output_type": "execute_result"
    }
   ],
   "source": [
    "combo = a + b + c + d\n",
    "combo"
   ]
  },
  {
   "cell_type": "markdown",
   "id": "20ace78d",
   "metadata": {},
   "source": [
    "We need to be aware of this and its consequences:\n",
    "* The `combo` variable is a `Combo` with two elements: a `Combo` and the `d` objective function"
   ]
  },
  {
   "cell_type": "code",
   "execution_count": 20,
   "id": "e2b68e65",
   "metadata": {
    "execution": {
     "iopub.execute_input": "2025-08-19T22:35:15.959394Z",
     "iopub.status.busy": "2025-08-19T22:35:15.959232Z",
     "iopub.status.idle": "2025-08-19T22:35:15.962528Z",
     "shell.execute_reply": "2025-08-19T22:35:15.962164Z"
    }
   },
   "outputs": [
    {
     "data": {
      "text/plain": [
       "2"
      ]
     },
     "execution_count": 20,
     "metadata": {},
     "output_type": "execute_result"
    }
   ],
   "source": [
    "len(combo)"
   ]
  },
  {
   "cell_type": "code",
   "execution_count": 21,
   "id": "dfacafec",
   "metadata": {
    "execution": {
     "iopub.execute_input": "2025-08-19T22:35:15.964014Z",
     "iopub.status.busy": "2025-08-19T22:35:15.963834Z",
     "iopub.status.idle": "2025-08-19T22:35:15.967295Z",
     "shell.execute_reply": "2025-08-19T22:35:15.966917Z"
    }
   },
   "outputs": [
    {
     "data": {
      "text/latex": [
       "$ [  \\phi_{a} (m) + \\phi_{b} (m)  ] + \\phi_{c} (m) $"
      ],
      "text/plain": [
       "[ φa(m) + φb(m) ] + φc(m)"
      ]
     },
     "execution_count": 21,
     "metadata": {},
     "output_type": "execute_result"
    }
   ],
   "source": [
    "combo[0]"
   ]
  },
  {
   "cell_type": "code",
   "execution_count": 22,
   "id": "fab38dbd",
   "metadata": {
    "execution": {
     "iopub.execute_input": "2025-08-19T22:35:15.968957Z",
     "iopub.status.busy": "2025-08-19T22:35:15.968792Z",
     "iopub.status.idle": "2025-08-19T22:35:15.972187Z",
     "shell.execute_reply": "2025-08-19T22:35:15.971738Z"
    }
   },
   "outputs": [
    {
     "data": {
      "text/latex": [
       "$\\phi_{d} (m)$"
      ],
      "text/plain": [
       "φd(m)"
      ]
     },
     "execution_count": 22,
     "metadata": {},
     "output_type": "execute_result"
    }
   ],
   "source": [
    "combo[1]"
   ]
  },
  {
   "cell_type": "markdown",
   "id": "e382e253",
   "metadata": {},
   "source": [
    "* This means that `a`, `b` and `c` **are not** in `combo`:"
   ]
  },
  {
   "cell_type": "code",
   "execution_count": 23,
   "id": "df67dd34",
   "metadata": {
    "execution": {
     "iopub.execute_input": "2025-08-19T22:35:15.973785Z",
     "iopub.status.busy": "2025-08-19T22:35:15.973599Z",
     "iopub.status.idle": "2025-08-19T22:35:15.976667Z",
     "shell.execute_reply": "2025-08-19T22:35:15.976283Z"
    }
   },
   "outputs": [
    {
     "name": "stdout",
     "output_type": "stream",
     "text": [
      "False\n",
      "False\n",
      "False\n"
     ]
    }
   ],
   "source": [
    "print(a in combo)\n",
    "print(b in combo)\n",
    "print(c in combo)"
   ]
  },
  {
   "cell_type": "markdown",
   "id": "71980cab",
   "metadata": {},
   "source": [
    "* But `d` is part of `combo`:"
   ]
  },
  {
   "cell_type": "code",
   "execution_count": 24,
   "id": "9d278973",
   "metadata": {
    "execution": {
     "iopub.execute_input": "2025-08-19T22:35:15.978110Z",
     "iopub.status.busy": "2025-08-19T22:35:15.977929Z",
     "iopub.status.idle": "2025-08-19T22:35:15.980969Z",
     "shell.execute_reply": "2025-08-19T22:35:15.980527Z"
    }
   },
   "outputs": [
    {
     "data": {
      "text/plain": [
       "True"
      ]
     },
     "execution_count": 24,
     "metadata": {},
     "output_type": "execute_result"
    }
   ],
   "source": [
    "d in combo"
   ]
  },
  {
   "cell_type": "markdown",
   "id": "d2b0c55d",
   "metadata": {},
   "source": [
    "* The `combo[0]` is another `Combo` with two elements."
   ]
  },
  {
   "cell_type": "code",
   "execution_count": 25,
   "id": "9cd68535",
   "metadata": {
    "execution": {
     "iopub.execute_input": "2025-08-19T22:35:15.982512Z",
     "iopub.status.busy": "2025-08-19T22:35:15.982349Z",
     "iopub.status.idle": "2025-08-19T22:35:15.985473Z",
     "shell.execute_reply": "2025-08-19T22:35:15.985098Z"
    }
   },
   "outputs": [
    {
     "data": {
      "text/plain": [
       "2"
      ]
     },
     "execution_count": 25,
     "metadata": {},
     "output_type": "execute_result"
    }
   ],
   "source": [
    "len(combo[0])"
   ]
  },
  {
   "cell_type": "code",
   "execution_count": 26,
   "id": "2675812a",
   "metadata": {
    "execution": {
     "iopub.execute_input": "2025-08-19T22:35:15.986942Z",
     "iopub.status.busy": "2025-08-19T22:35:15.986766Z",
     "iopub.status.idle": "2025-08-19T22:35:15.989960Z",
     "shell.execute_reply": "2025-08-19T22:35:15.989538Z"
    }
   },
   "outputs": [
    {
     "data": {
      "text/latex": [
       "$ \\phi_{a} (m) + \\phi_{b} (m) $"
      ],
      "text/plain": [
       "φa(m) + φb(m)"
      ]
     },
     "execution_count": 26,
     "metadata": {},
     "output_type": "execute_result"
    }
   ],
   "source": [
    "combo[0][0]"
   ]
  },
  {
   "cell_type": "code",
   "execution_count": 27,
   "id": "685da4e1",
   "metadata": {
    "execution": {
     "iopub.execute_input": "2025-08-19T22:35:15.991474Z",
     "iopub.status.busy": "2025-08-19T22:35:15.991278Z",
     "iopub.status.idle": "2025-08-19T22:35:15.994701Z",
     "shell.execute_reply": "2025-08-19T22:35:15.994197Z"
    }
   },
   "outputs": [
    {
     "data": {
      "text/latex": [
       "$\\phi_{c} (m)$"
      ],
      "text/plain": [
       "φc(m)"
      ]
     },
     "execution_count": 27,
     "metadata": {},
     "output_type": "execute_result"
    }
   ],
   "source": [
    "combo[0][1]"
   ]
  },
  {
   "cell_type": "markdown",
   "id": "fedc0220",
   "metadata": {},
   "source": [
    "* We can organize how the structure is defined by using parenthesis:"
   ]
  },
  {
   "cell_type": "code",
   "execution_count": 28,
   "id": "806a0e29",
   "metadata": {
    "execution": {
     "iopub.execute_input": "2025-08-19T22:35:15.996288Z",
     "iopub.status.busy": "2025-08-19T22:35:15.996127Z",
     "iopub.status.idle": "2025-08-19T22:35:15.999344Z",
     "shell.execute_reply": "2025-08-19T22:35:15.999003Z"
    }
   },
   "outputs": [
    {
     "data": {
      "text/latex": [
       "$ [  \\phi_{a} (m) + \\phi_{b} (m)  ] + [  \\phi_{c} (m) + \\phi_{d} (m)  ] $"
      ],
      "text/plain": [
       "[ φa(m) + φb(m) ] + [ φc(m) + φd(m) ]"
      ]
     },
     "execution_count": 28,
     "metadata": {},
     "output_type": "execute_result"
    }
   ],
   "source": [
    "combo = (a + b) + (c + d)\n",
    "combo"
   ]
  },
  {
   "cell_type": "markdown",
   "id": "dfb23f1f",
   "metadata": {},
   "source": [
    "* We can use the `contains()` method to recursively search for an objective function in a `Combo`."
   ]
  },
  {
   "cell_type": "code",
   "execution_count": 29,
   "id": "87e9055e",
   "metadata": {
    "execution": {
     "iopub.execute_input": "2025-08-19T22:35:16.000897Z",
     "iopub.status.busy": "2025-08-19T22:35:16.000730Z",
     "iopub.status.idle": "2025-08-19T22:35:16.004152Z",
     "shell.execute_reply": "2025-08-19T22:35:16.003698Z"
    }
   },
   "outputs": [
    {
     "data": {
      "text/latex": [
       "$ [  \\phi_{a} (m) + \\phi_{b} (m)  ] + \\phi_{c} (m) $"
      ],
      "text/plain": [
       "[ φa(m) + φb(m) ] + φc(m)"
      ]
     },
     "execution_count": 29,
     "metadata": {},
     "output_type": "execute_result"
    }
   ],
   "source": [
    "combo = a + b + c\n",
    "combo"
   ]
  },
  {
   "cell_type": "code",
   "execution_count": 30,
   "id": "c1382dbe",
   "metadata": {
    "execution": {
     "iopub.execute_input": "2025-08-19T22:35:16.005670Z",
     "iopub.status.busy": "2025-08-19T22:35:16.005511Z",
     "iopub.status.idle": "2025-08-19T22:35:16.008580Z",
     "shell.execute_reply": "2025-08-19T22:35:16.008234Z"
    }
   },
   "outputs": [
    {
     "data": {
      "text/plain": [
       "True"
      ]
     },
     "execution_count": 30,
     "metadata": {},
     "output_type": "execute_result"
    }
   ],
   "source": [
    "combo.contains(a)"
   ]
  },
  {
   "cell_type": "code",
   "execution_count": 31,
   "id": "7d3fd9b1",
   "metadata": {
    "execution": {
     "iopub.execute_input": "2025-08-19T22:35:16.010056Z",
     "iopub.status.busy": "2025-08-19T22:35:16.009895Z",
     "iopub.status.idle": "2025-08-19T22:35:16.012926Z",
     "shell.execute_reply": "2025-08-19T22:35:16.012579Z"
    }
   },
   "outputs": [
    {
     "data": {
      "text/plain": [
       "False"
      ]
     },
     "execution_count": 31,
     "metadata": {},
     "output_type": "execute_result"
    }
   ],
   "source": [
    "combo.contains(d)"
   ]
  },
  {
   "cell_type": "code",
   "execution_count": 32,
   "id": "97779a13",
   "metadata": {
    "execution": {
     "iopub.execute_input": "2025-08-19T22:35:16.014432Z",
     "iopub.status.busy": "2025-08-19T22:35:16.014272Z",
     "iopub.status.idle": "2025-08-19T22:35:16.017767Z",
     "shell.execute_reply": "2025-08-19T22:35:16.017248Z"
    }
   },
   "outputs": [
    {
     "data": {
      "text/latex": [
       "$ [  5.20 \\, \\phi_{a} (m) + \\phi_{b} (m)  ] + \\phi_{c} (m) $"
      ],
      "text/plain": [
       "[ 5.20 φa(m) + φb(m) ] + φc(m)"
      ]
     },
     "execution_count": 32,
     "metadata": {},
     "output_type": "execute_result"
    }
   ],
   "source": [
    "combo = 5.2 * a + b + c\n",
    "combo"
   ]
  },
  {
   "cell_type": "code",
   "execution_count": 33,
   "id": "1782469e",
   "metadata": {
    "execution": {
     "iopub.execute_input": "2025-08-19T22:35:16.019196Z",
     "iopub.status.busy": "2025-08-19T22:35:16.019002Z",
     "iopub.status.idle": "2025-08-19T22:35:16.022133Z",
     "shell.execute_reply": "2025-08-19T22:35:16.021790Z"
    }
   },
   "outputs": [
    {
     "data": {
      "text/plain": [
       "True"
      ]
     },
     "execution_count": 33,
     "metadata": {},
     "output_type": "execute_result"
    }
   ],
   "source": [
    "combo.contains(a)"
   ]
  },
  {
   "cell_type": "markdown",
   "id": "c8d4667d",
   "metadata": {},
   "source": [
    "* The `contains()` method works with `Combo`s as well:"
   ]
  },
  {
   "cell_type": "code",
   "execution_count": 34,
   "id": "bbdbd37a",
   "metadata": {
    "execution": {
     "iopub.execute_input": "2025-08-19T22:35:16.023646Z",
     "iopub.status.busy": "2025-08-19T22:35:16.023484Z",
     "iopub.status.idle": "2025-08-19T22:35:16.026898Z",
     "shell.execute_reply": "2025-08-19T22:35:16.026549Z"
    }
   },
   "outputs": [
    {
     "data": {
      "text/latex": [
       "$ [  2.30 \\, [  \\phi_{a} (m) + \\phi_{b} (m)  ] + 1.00 \\cdot 10^{-3} \\, \\phi_{b} (m)  ] + \\phi_{c} (m) $"
      ],
      "text/plain": [
       "[ 2.30 [φa(m) + φb(m)] + 0.00 φb(m) ] + φc(m)"
      ]
     },
     "execution_count": 34,
     "metadata": {},
     "output_type": "execute_result"
    }
   ],
   "source": [
    "combo_a = a + b\n",
    "combo = (2.3 * combo_a + 1e-3 * b) + c\n",
    "combo"
   ]
  },
  {
   "cell_type": "code",
   "execution_count": 35,
   "id": "2a05bb6a",
   "metadata": {
    "execution": {
     "iopub.execute_input": "2025-08-19T22:35:16.028429Z",
     "iopub.status.busy": "2025-08-19T22:35:16.028125Z",
     "iopub.status.idle": "2025-08-19T22:35:16.031226Z",
     "shell.execute_reply": "2025-08-19T22:35:16.030887Z"
    }
   },
   "outputs": [
    {
     "data": {
      "text/plain": [
       "True"
      ]
     },
     "execution_count": 35,
     "metadata": {},
     "output_type": "execute_result"
    }
   ],
   "source": [
    "combo.contains(combo_a)"
   ]
  },
  {
   "cell_type": "markdown",
   "id": "87d0c573",
   "metadata": {},
   "source": [
    "### Flat combos"
   ]
  },
  {
   "cell_type": "markdown",
   "id": "b3b16a6b",
   "metadata": {},
   "source": [
    "If we prefer to have a _flat_ structure when adding together multiple functions, we can use the `flatten()` method:"
   ]
  },
  {
   "cell_type": "code",
   "execution_count": 36,
   "id": "e8bf86e4",
   "metadata": {
    "execution": {
     "iopub.execute_input": "2025-08-19T22:35:16.032870Z",
     "iopub.status.busy": "2025-08-19T22:35:16.032671Z",
     "iopub.status.idle": "2025-08-19T22:35:16.036192Z",
     "shell.execute_reply": "2025-08-19T22:35:16.035784Z"
    }
   },
   "outputs": [
    {
     "data": {
      "text/latex": [
       "$ \\phi_{a} (m) + \\phi_{b} (m) + \\phi_{c} (m) + \\phi_{d} (m) $"
      ],
      "text/plain": [
       "φa(m) + φb(m) + φc(m) + φd(m)"
      ]
     },
     "execution_count": 36,
     "metadata": {},
     "output_type": "execute_result"
    }
   ],
   "source": [
    "flat_combo = (a + b + c + d).flatten()\n",
    "flat_combo"
   ]
  },
  {
   "cell_type": "code",
   "execution_count": 37,
   "id": "44c4d316",
   "metadata": {
    "execution": {
     "iopub.execute_input": "2025-08-19T22:35:16.037910Z",
     "iopub.status.busy": "2025-08-19T22:35:16.037734Z",
     "iopub.status.idle": "2025-08-19T22:35:16.040973Z",
     "shell.execute_reply": "2025-08-19T22:35:16.040578Z"
    }
   },
   "outputs": [
    {
     "data": {
      "text/plain": [
       "False"
      ]
     },
     "execution_count": 37,
     "metadata": {},
     "output_type": "execute_result"
    }
   ],
   "source": [
    "combo in flat_combo"
   ]
  },
  {
   "cell_type": "markdown",
   "id": "311768a6",
   "metadata": {},
   "source": [
    "Flattening a `Combo` returns a new `Combo` object"
   ]
  },
  {
   "cell_type": "code",
   "execution_count": 38,
   "id": "a92eeef1",
   "metadata": {
    "execution": {
     "iopub.execute_input": "2025-08-19T22:35:16.042742Z",
     "iopub.status.busy": "2025-08-19T22:35:16.042582Z",
     "iopub.status.idle": "2025-08-19T22:35:16.046059Z",
     "shell.execute_reply": "2025-08-19T22:35:16.045586Z"
    }
   },
   "outputs": [
    {
     "data": {
      "text/latex": [
       "$ [  \\phi_{a} (m) + \\phi_{b} (m)  ] + [  \\phi_{c} (m) + \\phi_{d} (m)  ] $"
      ],
      "text/plain": [
       "[ φa(m) + φb(m) ] + [ φc(m) + φd(m) ]"
      ]
     },
     "execution_count": 38,
     "metadata": {},
     "output_type": "execute_result"
    }
   ],
   "source": [
    "combo = (a + b) + (c + d)\n",
    "combo"
   ]
  },
  {
   "cell_type": "code",
   "execution_count": 39,
   "id": "ee2435f9",
   "metadata": {
    "execution": {
     "iopub.execute_input": "2025-08-19T22:35:16.047816Z",
     "iopub.status.busy": "2025-08-19T22:35:16.047651Z",
     "iopub.status.idle": "2025-08-19T22:35:16.051269Z",
     "shell.execute_reply": "2025-08-19T22:35:16.050749Z"
    }
   },
   "outputs": [
    {
     "data": {
      "text/latex": [
       "$ \\phi_{a} (m) + \\phi_{b} (m) + \\phi_{c} (m) + \\phi_{d} (m) $"
      ],
      "text/plain": [
       "φa(m) + φb(m) + φc(m) + φd(m)"
      ]
     },
     "execution_count": 39,
     "metadata": {},
     "output_type": "execute_result"
    }
   ],
   "source": [
    "flat_combo = combo.flatten()\n",
    "flat_combo"
   ]
  },
  {
   "cell_type": "code",
   "execution_count": 40,
   "id": "199f4847",
   "metadata": {
    "execution": {
     "iopub.execute_input": "2025-08-19T22:35:16.052931Z",
     "iopub.status.busy": "2025-08-19T22:35:16.052702Z",
     "iopub.status.idle": "2025-08-19T22:35:16.056077Z",
     "shell.execute_reply": "2025-08-19T22:35:16.055657Z"
    }
   },
   "outputs": [
    {
     "data": {
      "text/plain": [
       "False"
      ]
     },
     "execution_count": 40,
     "metadata": {},
     "output_type": "execute_result"
    }
   ],
   "source": [
    "combo is flat_combo"
   ]
  }
 ],
 "metadata": {
  "kernelspec": {
   "display_name": "inversion_ideas",
   "language": "python",
   "name": "python3"
  },
  "language_info": {
   "codemirror_mode": {
    "name": "ipython",
    "version": 3
   },
   "file_extension": ".py",
   "mimetype": "text/x-python",
   "name": "python",
   "nbconvert_exporter": "python",
   "pygments_lexer": "ipython3",
   "version": "3.13.5"
  }
 },
 "nbformat": 4,
 "nbformat_minor": 5
}
