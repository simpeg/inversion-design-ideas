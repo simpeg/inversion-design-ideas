{
 "cells": [
  {
   "cell_type": "markdown",
   "id": "82fe362f-887b-449b-94ac-b3cb3409753b",
   "metadata": {},
   "source": [
    "# Objective function classes"
   ]
  },
  {
   "cell_type": "code",
   "execution_count": 1,
   "id": "9c7bf36d-a763-46fd-ae2e-3ee77da99ce5",
   "metadata": {
    "execution": {
     "iopub.execute_input": "2025-08-13T18:57:41.467726Z",
     "iopub.status.busy": "2025-08-13T18:57:41.467414Z",
     "iopub.status.idle": "2025-08-13T18:57:41.767899Z",
     "shell.execute_reply": "2025-08-13T18:57:41.767255Z",
     "shell.execute_reply.started": "2025-08-13T18:57:41.467700Z"
    }
   },
   "outputs": [],
   "source": [
    "from inversion_ideas.base import Objective"
   ]
  },
  {
   "cell_type": "markdown",
   "id": "ae9b658e-b5a2-4d24-8e2e-dd3c6b531338",
   "metadata": {},
   "source": [
    "## Subclassing"
   ]
  },
  {
   "cell_type": "code",
   "execution_count": 2,
   "id": "e904dffb-c4e7-4a4c-8f18-9b57bb0182fa",
   "metadata": {
    "execution": {
     "iopub.execute_input": "2025-08-13T18:57:41.768856Z",
     "iopub.status.busy": "2025-08-13T18:57:41.768559Z",
     "iopub.status.idle": "2025-08-13T18:57:41.772447Z",
     "shell.execute_reply": "2025-08-13T18:57:41.771876Z",
     "shell.execute_reply.started": "2025-08-13T18:57:41.768829Z"
    }
   },
   "outputs": [],
   "source": [
    "class Smallness(Objective):\n",
    "    def __init__(self, nparams):\n",
    "        self.nparams = nparams"
   ]
  },
  {
   "cell_type": "code",
   "execution_count": 3,
   "id": "6e742ef3-c093-4ba3-b734-50da0bec9ce3",
   "metadata": {
    "execution": {
     "iopub.execute_input": "2025-08-13T18:57:41.773373Z",
     "iopub.status.busy": "2025-08-13T18:57:41.773106Z",
     "iopub.status.idle": "2025-08-13T18:57:41.952871Z",
     "shell.execute_reply": "2025-08-13T18:57:41.950920Z",
     "shell.execute_reply.started": "2025-08-13T18:57:41.773346Z"
    }
   },
   "outputs": [
    {
     "ename": "TypeError",
     "evalue": "Can't instantiate abstract class Smallness without an implementation for abstract methods '__call__', 'gradient', 'hessian', 'n_params'",
     "output_type": "error",
     "traceback": [
      "\u001b[31m---------------------------------------------------------------------------\u001b[39m",
      "\u001b[31mTypeError\u001b[39m                                 Traceback (most recent call last)",
      "\u001b[36mCell\u001b[39m\u001b[36m \u001b[39m\u001b[32mIn[3]\u001b[39m\u001b[32m, line 1\u001b[39m\n\u001b[32m----> \u001b[39m\u001b[32m1\u001b[39m smallness = \u001b[43mSmallness\u001b[49m\u001b[43m(\u001b[49m\u001b[32;43m5\u001b[39;49m\u001b[43m)\u001b[49m\n",
      "\u001b[31mTypeError\u001b[39m: Can't instantiate abstract class Smallness without an implementation for abstract methods '__call__', 'gradient', 'hessian', 'n_params'"
     ]
    }
   ],
   "source": [
    "smallness = Smallness(5)"
   ]
  },
  {
   "cell_type": "markdown",
   "id": "f816ebe0-840b-4501-8fb1-cfa43ee75f4c",
   "metadata": {},
   "source": [
    "## Operations"
   ]
  },
  {
   "cell_type": "code",
   "execution_count": 4,
   "id": "fef67ff2-c861-4cb4-ac60-eddf920f5bb3",
   "metadata": {
    "execution": {
     "iopub.execute_input": "2025-08-13T18:57:51.091658Z",
     "iopub.status.busy": "2025-08-13T18:57:51.090475Z",
     "iopub.status.idle": "2025-08-13T18:57:51.108145Z",
     "shell.execute_reply": "2025-08-13T18:57:51.105269Z",
     "shell.execute_reply.started": "2025-08-13T18:57:51.091546Z"
    }
   },
   "outputs": [],
   "source": [
    "class Dummy(Objective):\n",
    "    def __init__(self, n_params):\n",
    "        self._n_params = n_params\n",
    "\n",
    "    @property\n",
    "    def n_params(self):\n",
    "        return self._n_params\n",
    "        \n",
    "    def __call__(self, model):\n",
    "        pass\n",
    "        \n",
    "    def gradient(self, model):\n",
    "        pass\n",
    "        \n",
    "    def hessian(self, model):\n",
    "        pass"
   ]
  },
  {
   "cell_type": "code",
   "execution_count": 5,
   "id": "09d52af6-eccb-4d22-ad4e-e6fd85f238e0",
   "metadata": {
    "execution": {
     "iopub.execute_input": "2025-08-13T18:57:51.302144Z",
     "iopub.status.busy": "2025-08-13T18:57:51.301162Z",
     "iopub.status.idle": "2025-08-13T18:57:51.313524Z",
     "shell.execute_reply": "2025-08-13T18:57:51.310244Z",
     "shell.execute_reply.started": "2025-08-13T18:57:51.302061Z"
    }
   },
   "outputs": [],
   "source": [
    "n = 3"
   ]
  },
  {
   "cell_type": "code",
   "execution_count": 6,
   "id": "e2455d31-95ef-499f-a875-ecef84640f8d",
   "metadata": {
    "execution": {
     "iopub.execute_input": "2025-08-13T18:57:51.486782Z",
     "iopub.status.busy": "2025-08-13T18:57:51.486024Z",
     "iopub.status.idle": "2025-08-13T18:57:51.507971Z",
     "shell.execute_reply": "2025-08-13T18:57:51.505572Z",
     "shell.execute_reply.started": "2025-08-13T18:57:51.486714Z"
    }
   },
   "outputs": [
    {
     "data": {
      "text/latex": [
       "$\\phi_{a} (m)$"
      ],
      "text/plain": [
       "φa(m)"
      ]
     },
     "execution_count": 6,
     "metadata": {},
     "output_type": "execute_result"
    }
   ],
   "source": [
    "a = Dummy(n).set_name(\"a\")\n",
    "a"
   ]
  },
  {
   "cell_type": "code",
   "execution_count": 7,
   "id": "c434cdfb-314e-4a5d-96c6-85a5468c5ce8",
   "metadata": {
    "execution": {
     "iopub.execute_input": "2025-08-13T18:57:51.751551Z",
     "iopub.status.busy": "2025-08-13T18:57:51.750799Z",
     "iopub.status.idle": "2025-08-13T18:57:51.757670Z",
     "shell.execute_reply": "2025-08-13T18:57:51.756664Z",
     "shell.execute_reply.started": "2025-08-13T18:57:51.751514Z"
    }
   },
   "outputs": [
    {
     "data": {
      "text/latex": [
       "$\\phi_{b} (m)$"
      ],
      "text/plain": [
       "φb(m)"
      ]
     },
     "execution_count": 7,
     "metadata": {},
     "output_type": "execute_result"
    }
   ],
   "source": [
    "b = Dummy(n).set_name(\"b\")\n",
    "b"
   ]
  },
  {
   "cell_type": "code",
   "execution_count": 8,
   "id": "bef566ac-0216-4248-9277-54653839601d",
   "metadata": {
    "execution": {
     "iopub.execute_input": "2025-08-13T18:57:51.933314Z",
     "iopub.status.busy": "2025-08-13T18:57:51.932486Z",
     "iopub.status.idle": "2025-08-13T18:57:51.949867Z",
     "shell.execute_reply": "2025-08-13T18:57:51.947055Z",
     "shell.execute_reply.started": "2025-08-13T18:57:51.933240Z"
    }
   },
   "outputs": [
    {
     "data": {
      "text/latex": [
       "$ \\phi_{a} (m) + \\phi_{b} (m) $"
      ],
      "text/plain": [
       "φa(m) + φb(m)"
      ]
     },
     "execution_count": 8,
     "metadata": {},
     "output_type": "execute_result"
    }
   ],
   "source": [
    "phi = a + b\n",
    "phi"
   ]
  },
  {
   "cell_type": "code",
   "execution_count": 9,
   "id": "b1a93e0b-db0b-4545-8662-8b1dc1427e68",
   "metadata": {
    "execution": {
     "iopub.execute_input": "2025-08-13T18:57:52.147331Z",
     "iopub.status.busy": "2025-08-13T18:57:52.146477Z",
     "iopub.status.idle": "2025-08-13T18:57:52.162931Z",
     "shell.execute_reply": "2025-08-13T18:57:52.160149Z",
     "shell.execute_reply.started": "2025-08-13T18:57:52.147254Z"
    }
   },
   "outputs": [
    {
     "data": {
      "text/latex": [
       "$3.00 \\, \\phi_{a} (m)$"
      ],
      "text/plain": [
       "3.00 φa(m)"
      ]
     },
     "execution_count": 9,
     "metadata": {},
     "output_type": "execute_result"
    }
   ],
   "source": [
    "3.0 * a"
   ]
  },
  {
   "cell_type": "code",
   "execution_count": 10,
   "id": "8a529a13-b548-412a-b913-6d5ee6b680ba",
   "metadata": {
    "execution": {
     "iopub.execute_input": "2025-08-13T18:57:52.367077Z",
     "iopub.status.busy": "2025-08-13T18:57:52.364926Z",
     "iopub.status.idle": "2025-08-13T18:57:52.383668Z",
     "shell.execute_reply": "2025-08-13T18:57:52.380584Z",
     "shell.execute_reply.started": "2025-08-13T18:57:52.366995Z"
    }
   },
   "outputs": [
    {
     "data": {
      "text/latex": [
       "$ 3.00 \\, \\phi_{a} (m) + 5.10 \\, \\phi_{b} (m) $"
      ],
      "text/plain": [
       "3.00 φa(m) + 5.10 φb(m)"
      ]
     },
     "execution_count": 10,
     "metadata": {},
     "output_type": "execute_result"
    }
   ],
   "source": [
    "phi = 3.0 * a + 5.1 * b\n",
    "phi"
   ]
  },
  {
   "cell_type": "code",
   "execution_count": 11,
   "id": "2e194670-7df0-4e3e-a9c7-10844897557f",
   "metadata": {
    "execution": {
     "iopub.execute_input": "2025-08-13T18:57:52.557336Z",
     "iopub.status.busy": "2025-08-13T18:57:52.557066Z",
     "iopub.status.idle": "2025-08-13T18:57:52.562210Z",
     "shell.execute_reply": "2025-08-13T18:57:52.561619Z",
     "shell.execute_reply.started": "2025-08-13T18:57:52.557314Z"
    }
   },
   "outputs": [
    {
     "data": {
      "text/latex": [
       "$\\phi_{c} (m)$"
      ],
      "text/plain": [
       "φc(m)"
      ]
     },
     "execution_count": 11,
     "metadata": {},
     "output_type": "execute_result"
    }
   ],
   "source": [
    "c = Dummy(n).set_name(\"c\")\n",
    "c"
   ]
  },
  {
   "cell_type": "code",
   "execution_count": 12,
   "id": "52268e45-86c9-4306-ab7e-989af06cc6fa",
   "metadata": {
    "execution": {
     "iopub.execute_input": "2025-08-13T18:57:52.772922Z",
     "iopub.status.busy": "2025-08-13T18:57:52.772371Z",
     "iopub.status.idle": "2025-08-13T18:57:52.781047Z",
     "shell.execute_reply": "2025-08-13T18:57:52.779914Z",
     "shell.execute_reply.started": "2025-08-13T18:57:52.772871Z"
    }
   },
   "outputs": [
    {
     "data": {
      "text/latex": [
       "$ \\phi_{a} (m) + 5.10 \\, [  2.00 \\, \\phi_{b} (m) + 3.00 \\, \\phi_{c} (m)  ] $"
      ],
      "text/plain": [
       "φa(m) + 5.10 [2.00 φb(m) + 3.00 φc(m)]"
      ]
     },
     "execution_count": 12,
     "metadata": {},
     "output_type": "execute_result"
    }
   ],
   "source": [
    "phi = a + 5.1 * (2 * b + 3 * c)\n",
    "phi"
   ]
  },
  {
   "cell_type": "code",
   "execution_count": 13,
   "id": "2876267a-643d-4b5a-8e7e-e535ea53572b",
   "metadata": {
    "execution": {
     "iopub.execute_input": "2025-08-13T18:57:53.063237Z",
     "iopub.status.busy": "2025-08-13T18:57:53.062757Z",
     "iopub.status.idle": "2025-08-13T18:57:53.069707Z",
     "shell.execute_reply": "2025-08-13T18:57:53.068768Z",
     "shell.execute_reply.started": "2025-08-13T18:57:53.063190Z"
    }
   },
   "outputs": [
    {
     "data": {
      "text/latex": [
       "$ [  \\phi_{a} (m) + \\phi_{b} (m)  ] + \\phi_{c} (m) $"
      ],
      "text/plain": [
       "[ φa(m) + φb(m) ] + φc(m)"
      ]
     },
     "execution_count": 13,
     "metadata": {},
     "output_type": "execute_result"
    }
   ],
   "source": [
    "phi = a + b + c\n",
    "phi"
   ]
  },
  {
   "cell_type": "markdown",
   "id": "0b585d5a-2264-4b4c-a90f-a623bfbb89bd",
   "metadata": {},
   "source": [
    "## Combo as a collection"
   ]
  },
  {
   "cell_type": "code",
   "execution_count": 14,
   "id": "c7784624-1292-4788-bfb3-910a89ce41e7",
   "metadata": {
    "execution": {
     "iopub.execute_input": "2025-08-13T18:57:53.683764Z",
     "iopub.status.busy": "2025-08-13T18:57:53.683217Z",
     "iopub.status.idle": "2025-08-13T18:57:53.691758Z",
     "shell.execute_reply": "2025-08-13T18:57:53.690558Z",
     "shell.execute_reply.started": "2025-08-13T18:57:53.683714Z"
    }
   },
   "outputs": [
    {
     "data": {
      "text/latex": [
       "$ \\phi_{a} (m) + \\phi_{b} (m) + \\phi_{c} (m) $"
      ],
      "text/plain": [
       "φa(m) + φb(m) + φc(m)"
      ]
     },
     "execution_count": 14,
     "metadata": {},
     "output_type": "execute_result"
    }
   ],
   "source": [
    "phi = (a + b + c).flatten()\n",
    "phi"
   ]
  },
  {
   "cell_type": "code",
   "execution_count": 15,
   "id": "6c2d69af-3fbc-4e20-81cc-d373d60b93ba",
   "metadata": {
    "execution": {
     "iopub.execute_input": "2025-08-13T18:57:54.189281Z",
     "iopub.status.busy": "2025-08-13T18:57:54.188323Z",
     "iopub.status.idle": "2025-08-13T18:57:54.195519Z",
     "shell.execute_reply": "2025-08-13T18:57:54.194498Z",
     "shell.execute_reply.started": "2025-08-13T18:57:54.189230Z"
    }
   },
   "outputs": [
    {
     "data": {
      "text/plain": [
       "3"
      ]
     },
     "execution_count": 15,
     "metadata": {},
     "output_type": "execute_result"
    }
   ],
   "source": [
    "len(phi)"
   ]
  },
  {
   "cell_type": "code",
   "execution_count": 16,
   "id": "2f6df79a-2334-4741-8dee-dda22b4c1e50",
   "metadata": {
    "execution": {
     "iopub.execute_input": "2025-08-13T18:57:54.523198Z",
     "iopub.status.busy": "2025-08-13T18:57:54.522305Z",
     "iopub.status.idle": "2025-08-13T18:57:54.535898Z",
     "shell.execute_reply": "2025-08-13T18:57:54.533402Z",
     "shell.execute_reply.started": "2025-08-13T18:57:54.523086Z"
    }
   },
   "outputs": [
    {
     "name": "stdout",
     "output_type": "stream",
     "text": [
      "φa(m)\n",
      "φb(m)\n",
      "φc(m)\n"
     ]
    }
   ],
   "source": [
    "for phi_i in phi:\n",
    "    print(phi_i)"
   ]
  },
  {
   "cell_type": "code",
   "execution_count": 17,
   "id": "09753214-51b8-4be1-af2c-43ab5b199bd6",
   "metadata": {
    "execution": {
     "iopub.execute_input": "2025-08-13T18:57:54.853878Z",
     "iopub.status.busy": "2025-08-13T18:57:54.853436Z",
     "iopub.status.idle": "2025-08-13T18:57:54.860718Z",
     "shell.execute_reply": "2025-08-13T18:57:54.859718Z",
     "shell.execute_reply.started": "2025-08-13T18:57:54.853840Z"
    }
   },
   "outputs": [
    {
     "data": {
      "text/latex": [
       "$\\phi_{c} (m)$"
      ],
      "text/plain": [
       "φc(m)"
      ]
     },
     "execution_count": 17,
     "metadata": {},
     "output_type": "execute_result"
    }
   ],
   "source": [
    "phi[-1]"
   ]
  },
  {
   "cell_type": "code",
   "execution_count": 18,
   "id": "415244fc-0e81-4e0b-bc6e-372d9e5d139e",
   "metadata": {
    "execution": {
     "iopub.execute_input": "2025-08-13T18:57:55.303900Z",
     "iopub.status.busy": "2025-08-13T18:57:55.303029Z",
     "iopub.status.idle": "2025-08-13T18:57:55.314507Z",
     "shell.execute_reply": "2025-08-13T18:57:55.313144Z",
     "shell.execute_reply.started": "2025-08-13T18:57:55.303825Z"
    }
   },
   "outputs": [
    {
     "data": {
      "text/plain": [
       "True"
      ]
     },
     "execution_count": 18,
     "metadata": {},
     "output_type": "execute_result"
    }
   ],
   "source": [
    "a in phi"
   ]
  },
  {
   "cell_type": "code",
   "execution_count": 19,
   "id": "b9cb3a75-51ac-4d26-94e6-b838d56864d7",
   "metadata": {
    "execution": {
     "iopub.execute_input": "2025-08-13T18:57:55.674490Z",
     "iopub.status.busy": "2025-08-13T18:57:55.674202Z",
     "iopub.status.idle": "2025-08-13T18:57:55.679650Z",
     "shell.execute_reply": "2025-08-13T18:57:55.678915Z",
     "shell.execute_reply.started": "2025-08-13T18:57:55.674466Z"
    }
   },
   "outputs": [
    {
     "data": {
      "text/latex": [
       "$\\phi_{d} (m)$"
      ],
      "text/plain": [
       "φd(m)"
      ]
     },
     "execution_count": 19,
     "metadata": {},
     "output_type": "execute_result"
    }
   ],
   "source": [
    "d = Dummy(n).set_name(\"d\")\n",
    "d"
   ]
  },
  {
   "cell_type": "code",
   "execution_count": 20,
   "id": "0caf38a3-3781-48ae-8d37-ad16badf3ff4",
   "metadata": {
    "execution": {
     "iopub.execute_input": "2025-08-13T18:57:55.996547Z",
     "iopub.status.busy": "2025-08-13T18:57:55.996059Z",
     "iopub.status.idle": "2025-08-13T18:57:56.003822Z",
     "shell.execute_reply": "2025-08-13T18:57:56.002766Z",
     "shell.execute_reply.started": "2025-08-13T18:57:55.996501Z"
    }
   },
   "outputs": [
    {
     "data": {
      "text/plain": [
       "False"
      ]
     },
     "execution_count": 20,
     "metadata": {},
     "output_type": "execute_result"
    }
   ],
   "source": [
    "d in phi"
   ]
  },
  {
   "cell_type": "markdown",
   "id": "653e9fcd-6562-4ae1-8aaf-ff3d48bbebd3",
   "metadata": {},
   "source": [
    "### Nested combos"
   ]
  },
  {
   "cell_type": "code",
   "execution_count": 21,
   "id": "c6c8a70c-5d53-40a0-bb7c-548a99f5f20b",
   "metadata": {
    "execution": {
     "iopub.execute_input": "2025-08-13T18:57:56.709283Z",
     "iopub.status.busy": "2025-08-13T18:57:56.708939Z",
     "iopub.status.idle": "2025-08-13T18:57:56.714975Z",
     "shell.execute_reply": "2025-08-13T18:57:56.714188Z",
     "shell.execute_reply.started": "2025-08-13T18:57:56.709254Z"
    }
   },
   "outputs": [
    {
     "data": {
      "text/latex": [
       "$ \\phi_{a} (m) + [  \\phi_{b} (m) + \\phi_{c} (m)  ] $"
      ],
      "text/plain": [
       "φa(m) + [ φb(m) + φc(m) ]"
      ]
     },
     "execution_count": 21,
     "metadata": {},
     "output_type": "execute_result"
    }
   ],
   "source": [
    "phi = a + (b + c)\n",
    "phi"
   ]
  },
  {
   "cell_type": "code",
   "execution_count": 22,
   "id": "c66d3222-a3a9-42b3-8504-95f38cb51285",
   "metadata": {
    "execution": {
     "iopub.execute_input": "2025-08-13T18:57:57.136115Z",
     "iopub.status.busy": "2025-08-13T18:57:57.135039Z",
     "iopub.status.idle": "2025-08-13T18:57:57.148867Z",
     "shell.execute_reply": "2025-08-13T18:57:57.147052Z",
     "shell.execute_reply.started": "2025-08-13T18:57:57.136037Z"
    }
   },
   "outputs": [
    {
     "data": {
      "text/plain": [
       "2"
      ]
     },
     "execution_count": 22,
     "metadata": {},
     "output_type": "execute_result"
    }
   ],
   "source": [
    "len(phi)"
   ]
  },
  {
   "cell_type": "code",
   "execution_count": 23,
   "id": "d7e556ed-4796-4643-bf09-da50c264d02e",
   "metadata": {
    "execution": {
     "iopub.execute_input": "2025-08-13T18:57:57.459389Z",
     "iopub.status.busy": "2025-08-13T18:57:57.458252Z",
     "iopub.status.idle": "2025-08-13T18:57:57.474622Z",
     "shell.execute_reply": "2025-08-13T18:57:57.471232Z",
     "shell.execute_reply.started": "2025-08-13T18:57:57.459305Z"
    }
   },
   "outputs": [
    {
     "data": {
      "text/latex": [
       "$\\phi_{a} (m)$"
      ],
      "text/plain": [
       "φa(m)"
      ]
     },
     "execution_count": 23,
     "metadata": {},
     "output_type": "execute_result"
    }
   ],
   "source": [
    "phi[0]"
   ]
  },
  {
   "cell_type": "code",
   "execution_count": 24,
   "id": "2e4a3236-8fc1-418a-b58d-418022037acf",
   "metadata": {
    "execution": {
     "iopub.execute_input": "2025-08-13T18:57:57.690937Z",
     "iopub.status.busy": "2025-08-13T18:57:57.690658Z",
     "iopub.status.idle": "2025-08-13T18:57:57.695891Z",
     "shell.execute_reply": "2025-08-13T18:57:57.695223Z",
     "shell.execute_reply.started": "2025-08-13T18:57:57.690912Z"
    }
   },
   "outputs": [
    {
     "data": {
      "text/latex": [
       "$ \\phi_{b} (m) + \\phi_{c} (m) $"
      ],
      "text/plain": [
       "φb(m) + φc(m)"
      ]
     },
     "execution_count": 24,
     "metadata": {},
     "output_type": "execute_result"
    }
   ],
   "source": [
    "phi[1]"
   ]
  },
  {
   "cell_type": "code",
   "execution_count": 25,
   "id": "3d826f27-62c1-4564-97b3-ed19c4117d23",
   "metadata": {
    "execution": {
     "iopub.execute_input": "2025-08-13T18:57:57.884472Z",
     "iopub.status.busy": "2025-08-13T18:57:57.883951Z",
     "iopub.status.idle": "2025-08-13T18:57:57.890088Z",
     "shell.execute_reply": "2025-08-13T18:57:57.889168Z",
     "shell.execute_reply.started": "2025-08-13T18:57:57.884434Z"
    }
   },
   "outputs": [
    {
     "data": {
      "text/plain": [
       "True"
      ]
     },
     "execution_count": 25,
     "metadata": {},
     "output_type": "execute_result"
    }
   ],
   "source": [
    "a in phi"
   ]
  },
  {
   "cell_type": "code",
   "execution_count": 26,
   "id": "7881152b-0e07-46f2-b217-31f3e57cd248",
   "metadata": {
    "execution": {
     "iopub.execute_input": "2025-08-13T18:57:58.192145Z",
     "iopub.status.busy": "2025-08-13T18:57:58.191678Z",
     "iopub.status.idle": "2025-08-13T18:57:58.200712Z",
     "shell.execute_reply": "2025-08-13T18:57:58.199229Z",
     "shell.execute_reply.started": "2025-08-13T18:57:58.192102Z"
    }
   },
   "outputs": [
    {
     "data": {
      "text/plain": [
       "False"
      ]
     },
     "execution_count": 26,
     "metadata": {},
     "output_type": "execute_result"
    }
   ],
   "source": [
    "b in phi"
   ]
  },
  {
   "cell_type": "code",
   "execution_count": 27,
   "id": "da23e742-9849-4d11-a442-9213acd99716",
   "metadata": {
    "execution": {
     "iopub.execute_input": "2025-08-13T18:57:58.519238Z",
     "iopub.status.busy": "2025-08-13T18:57:58.518361Z",
     "iopub.status.idle": "2025-08-13T18:57:58.535228Z",
     "shell.execute_reply": "2025-08-13T18:57:58.532901Z",
     "shell.execute_reply.started": "2025-08-13T18:57:58.519159Z"
    }
   },
   "outputs": [
    {
     "data": {
      "text/plain": [
       "True"
      ]
     },
     "execution_count": 27,
     "metadata": {},
     "output_type": "execute_result"
    }
   ],
   "source": [
    "phi.contains(b)"
   ]
  }
 ],
 "metadata": {
  "kernelspec": {
   "display_name": "Python [conda env:inversion_ideas]",
   "language": "python",
   "name": "conda-env-inversion_ideas-py"
  },
  "language_info": {
   "codemirror_mode": {
    "name": "ipython",
    "version": 3
   },
   "file_extension": ".py",
   "mimetype": "text/x-python",
   "name": "python",
   "nbconvert_exporter": "python",
   "pygments_lexer": "ipython3",
   "version": "3.13.5"
  }
 },
 "nbformat": 4,
 "nbformat_minor": 5
}
