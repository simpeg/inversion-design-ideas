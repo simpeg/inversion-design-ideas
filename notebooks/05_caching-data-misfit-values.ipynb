{
 "cells": [
  {
   "cell_type": "code",
   "execution_count": 1,
   "id": "0707778e-d975-46b6-b670-d461e53e5b10",
   "metadata": {
    "execution": {
     "iopub.execute_input": "2025-08-07T23:34:19.703275Z",
     "iopub.status.busy": "2025-08-07T23:34:19.702951Z",
     "iopub.status.idle": "2025-08-07T23:34:19.986015Z",
     "shell.execute_reply": "2025-08-07T23:34:19.985138Z"
    }
   },
   "outputs": [],
   "source": [
    "import numpy as np\n",
    "from regressor import LinearRegressor\n",
    "\n",
    "from inversion_ideas import (\n",
    "    DataMisfit,\n",
    "    TikhonovZero,\n",
    ")"
   ]
  },
  {
   "cell_type": "markdown",
   "id": "6ca1c237-f423-4f85-b19c-2d8fc00ac6e1",
   "metadata": {},
   "source": [
    "## Create a true model and synthetic data for a linear regressor"
   ]
  },
  {
   "cell_type": "code",
   "execution_count": 2,
   "id": "179250ca-3da3-4a82-8573-7a285246147b",
   "metadata": {
    "execution": {
     "iopub.execute_input": "2025-08-07T23:34:19.988959Z",
     "iopub.status.busy": "2025-08-07T23:34:19.988450Z",
     "iopub.status.idle": "2025-08-07T23:34:19.995015Z",
     "shell.execute_reply": "2025-08-07T23:34:19.994414Z"
    }
   },
   "outputs": [
    {
     "data": {
      "text/plain": [
       "array([0.78225148, 0.67148671, 0.2373809 , 0.17946133, 0.34662367,\n",
       "       0.15210999, 0.31142952, 0.23900652, 0.54355731, 0.91770851])"
      ]
     },
     "execution_count": 2,
     "metadata": {},
     "output_type": "execute_result"
    }
   ],
   "source": [
    "n_params = 10\n",
    "rng = np.random.default_rng(seed=4242)\n",
    "true_model = rng.uniform(size=10)\n",
    "true_model"
   ]
  },
  {
   "cell_type": "code",
   "execution_count": 3,
   "id": "a477ebd0-8ca7-4cd2-b17d-30c21dda08c6",
   "metadata": {
    "execution": {
     "iopub.execute_input": "2025-08-07T23:34:19.996982Z",
     "iopub.status.busy": "2025-08-07T23:34:19.996730Z",
     "iopub.status.idle": "2025-08-07T23:34:20.000439Z",
     "shell.execute_reply": "2025-08-07T23:34:19.999633Z"
    }
   },
   "outputs": [],
   "source": [
    "# Build the X array\n",
    "n_data = 25\n",
    "shape = (n_data, n_params)\n",
    "X = rng.uniform(size=n_data * n_params).reshape(shape)"
   ]
  },
  {
   "cell_type": "code",
   "execution_count": 4,
   "id": "7cc7a7bc-804b-48ea-bdb0-ebf4fa9a8e2e",
   "metadata": {
    "execution": {
     "iopub.execute_input": "2025-08-07T23:34:20.002893Z",
     "iopub.status.busy": "2025-08-07T23:34:20.002632Z",
     "iopub.status.idle": "2025-08-07T23:34:20.007292Z",
     "shell.execute_reply": "2025-08-07T23:34:20.006856Z"
    }
   },
   "outputs": [
    {
     "data": {
      "text/plain": [
       "array([2.83840696, 2.18091081, 2.00623242, 2.08333039, 2.01694883,\n",
       "       2.7826232 , 2.10564027, 1.27333506, 2.08859855, 1.94177648,\n",
       "       1.88492037, 2.92394733, 2.17231952, 3.08009275, 1.61670886,\n",
       "       1.77403753, 2.67305005, 1.91413882, 2.42117827, 2.13991628,\n",
       "       2.0153805 , 2.71388471, 2.65944255, 2.44416121, 3.14217523])"
      ]
     },
     "execution_count": 4,
     "metadata": {},
     "output_type": "execute_result"
    }
   ],
   "source": [
    "synthetic_data = X @ true_model\n",
    "maxabs = np.max(np.abs(synthetic_data))\n",
    "noise = rng.normal(scale=1e-2 * maxabs, size=synthetic_data.size)\n",
    "synthetic_data += noise\n",
    "synthetic_data"
   ]
  },
  {
   "cell_type": "markdown",
   "id": "b47ed2d3-0d71-4ead-8230-6df11d5833a9",
   "metadata": {},
   "source": [
    "## Define objective function\n",
    "\n",
    "Enable caching in the data misfit."
   ]
  },
  {
   "cell_type": "code",
   "execution_count": 5,
   "id": "6ec35263-f754-4931-b577-b3d4f0fc803a",
   "metadata": {
    "execution": {
     "iopub.execute_input": "2025-08-07T23:34:20.009030Z",
     "iopub.status.busy": "2025-08-07T23:34:20.008788Z",
     "iopub.status.idle": "2025-08-07T23:34:20.012030Z",
     "shell.execute_reply": "2025-08-07T23:34:20.011567Z"
    }
   },
   "outputs": [],
   "source": [
    "uncertainty = 1e-2 * maxabs * np.ones_like(synthetic_data)\n",
    "simulation = LinearRegressor(X)\n",
    "data_misfit = DataMisfit(synthetic_data, uncertainty, simulation, cache=True)"
   ]
  },
  {
   "cell_type": "code",
   "execution_count": 6,
   "id": "050b9c20-4b0a-49af-a900-1bb964588408",
   "metadata": {
    "execution": {
     "iopub.execute_input": "2025-08-07T23:34:20.013847Z",
     "iopub.status.busy": "2025-08-07T23:34:20.013648Z",
     "iopub.status.idle": "2025-08-07T23:34:20.016525Z",
     "shell.execute_reply": "2025-08-07T23:34:20.015971Z"
    }
   },
   "outputs": [],
   "source": [
    "smallness = TikhonovZero(n_params)"
   ]
  },
  {
   "cell_type": "code",
   "execution_count": 7,
   "id": "2cf726db-4849-46c3-9fca-41b5650b88b8",
   "metadata": {
    "execution": {
     "iopub.execute_input": "2025-08-07T23:34:20.018331Z",
     "iopub.status.busy": "2025-08-07T23:34:20.017935Z",
     "iopub.status.idle": "2025-08-07T23:34:20.022675Z",
     "shell.execute_reply": "2025-08-07T23:34:20.021996Z"
    }
   },
   "outputs": [
    {
     "data": {
      "text/plain": [
       "np.float64(18.54564220514673)"
      ]
     },
     "execution_count": 7,
     "metadata": {},
     "output_type": "execute_result"
    }
   ],
   "source": [
    "data_misfit(true_model)"
   ]
  },
  {
   "cell_type": "code",
   "execution_count": 8,
   "id": "8d201eea-294d-490f-8b76-12024acc0808",
   "metadata": {
    "execution": {
     "iopub.execute_input": "2025-08-07T23:34:20.024637Z",
     "iopub.status.busy": "2025-08-07T23:34:20.024368Z",
     "iopub.status.idle": "2025-08-07T23:34:20.028904Z",
     "shell.execute_reply": "2025-08-07T23:34:20.028438Z"
    }
   },
   "outputs": [
    {
     "data": {
      "text/plain": [
       "np.float64(18.54564220514673)"
      ]
     },
     "execution_count": 8,
     "metadata": {},
     "output_type": "execute_result"
    }
   ],
   "source": [
    "data_misfit(true_model)"
   ]
  },
  {
   "cell_type": "code",
   "execution_count": 9,
   "id": "da1db943-236d-43da-b0b0-e776d21931af",
   "metadata": {
    "execution": {
     "iopub.execute_input": "2025-08-07T23:34:20.031156Z",
     "iopub.status.busy": "2025-08-07T23:34:20.030879Z",
     "iopub.status.idle": "2025-08-07T23:34:20.035409Z",
     "shell.execute_reply": "2025-08-07T23:34:20.034736Z"
    }
   },
   "outputs": [
    {
     "data": {
      "text/latex": [
       "$ \\phi_{d} (m) + 1.00 \\cdot 10^{-3} \\, \\phi_{s} (m) $"
      ],
      "text/plain": [
       "φd(m) + 0.00 φs(m)"
      ]
     },
     "execution_count": 9,
     "metadata": {},
     "output_type": "execute_result"
    }
   ],
   "source": [
    "phi = data_misfit + 1e-3 * smallness\n",
    "phi"
   ]
  },
  {
   "cell_type": "code",
   "execution_count": 10,
   "id": "9032d9d4-9c23-461b-bbc8-f172afdfd9ac",
   "metadata": {
    "execution": {
     "iopub.execute_input": "2025-08-07T23:34:20.037748Z",
     "iopub.status.busy": "2025-08-07T23:34:20.037525Z",
     "iopub.status.idle": "2025-08-07T23:34:20.042007Z",
     "shell.execute_reply": "2025-08-07T23:34:20.041473Z"
    }
   },
   "outputs": [
    {
     "data": {
      "text/plain": [
       "np.float64(18.548228614317463)"
      ]
     },
     "execution_count": 10,
     "metadata": {},
     "output_type": "execute_result"
    }
   ],
   "source": [
    "phi(true_model)"
   ]
  },
  {
   "cell_type": "code",
   "execution_count": 11,
   "id": "00c6e189-9deb-4cdf-8b78-887f0d8e44b9",
   "metadata": {
    "execution": {
     "iopub.execute_input": "2025-08-07T23:34:20.044310Z",
     "iopub.status.busy": "2025-08-07T23:34:20.044078Z",
     "iopub.status.idle": "2025-08-07T23:34:20.049378Z",
     "shell.execute_reply": "2025-08-07T23:34:20.048708Z"
    }
   },
   "outputs": [
    {
     "data": {
      "text/plain": [
       "np.float64(5671.840107322677)"
      ]
     },
     "execution_count": 11,
     "metadata": {},
     "output_type": "execute_result"
    }
   ],
   "source": [
    "new_model = rng.uniform(size=n_params)\n",
    "\n",
    "phi(new_model)"
   ]
  }
 ],
 "metadata": {
  "kernelspec": {
   "display_name": "inversion_ideas",
   "language": "python",
   "name": "python3"
  },
  "language_info": {
   "codemirror_mode": {
    "name": "ipython",
    "version": 3
   },
   "file_extension": ".py",
   "mimetype": "text/x-python",
   "name": "python",
   "nbconvert_exporter": "python",
   "pygments_lexer": "ipython3",
   "version": "3.13.5"
  }
 },
 "nbformat": 4,
 "nbformat_minor": 5
}
