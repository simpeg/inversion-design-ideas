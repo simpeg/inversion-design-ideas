{
 "cells": [
  {
   "cell_type": "markdown",
   "id": "0ed66bfb-683e-4b0a-a4ec-50050f295070",
   "metadata": {},
   "source": [
    "# Use inversion framework to fit a linear regressor"
   ]
  },
  {
   "cell_type": "code",
   "execution_count": 1,
   "id": "bba9bf32-da93-4100-9ee1-0983a1450bb4",
   "metadata": {
    "execution": {
     "iopub.execute_input": "2025-07-30T21:44:02.069205Z",
     "iopub.status.busy": "2025-07-30T21:44:02.068889Z",
     "iopub.status.idle": "2025-07-30T21:44:02.360939Z",
     "shell.execute_reply": "2025-07-30T21:44:02.360346Z",
     "shell.execute_reply.started": "2025-07-30T21:44:02.069180Z"
    }
   },
   "outputs": [],
   "source": [
    "import numpy as np\n",
    "from regressor import LinearRegressor\n",
    "\n",
    "from inversion_ideas import ConjugateGradient, DataMisfit, TikhonovZero"
   ]
  },
  {
   "cell_type": "code",
   "execution_count": 2,
   "id": "afa3d214-09d3-4a0f-a402-5793d8b308b2",
   "metadata": {
    "execution": {
     "iopub.execute_input": "2025-07-30T21:44:02.361695Z",
     "iopub.status.busy": "2025-07-30T21:44:02.361440Z",
     "iopub.status.idle": "2025-07-30T21:44:02.368464Z",
     "shell.execute_reply": "2025-07-30T21:44:02.367827Z",
     "shell.execute_reply.started": "2025-07-30T21:44:02.361677Z"
    }
   },
   "outputs": [
    {
     "data": {
      "text/plain": [
       "array([0.78225148, 0.67148671, 0.2373809 , 0.17946133, 0.34662367,\n",
       "       0.15210999, 0.31142952, 0.23900652, 0.54355731, 0.91770851])"
      ]
     },
     "execution_count": 2,
     "metadata": {},
     "output_type": "execute_result"
    }
   ],
   "source": [
    "n_params = 10\n",
    "rng = np.random.default_rng(seed=4242)\n",
    "true_model = rng.uniform(size=10)\n",
    "true_model"
   ]
  },
  {
   "cell_type": "code",
   "execution_count": 3,
   "id": "5485a55c-9727-4260-b590-1ea243dba484",
   "metadata": {
    "execution": {
     "iopub.execute_input": "2025-07-30T21:44:02.369302Z",
     "iopub.status.busy": "2025-07-30T21:44:02.369098Z",
     "iopub.status.idle": "2025-07-30T21:44:02.373071Z",
     "shell.execute_reply": "2025-07-30T21:44:02.372476Z",
     "shell.execute_reply.started": "2025-07-30T21:44:02.369285Z"
    }
   },
   "outputs": [],
   "source": [
    "# Build the X array\n",
    "n_data = 25\n",
    "shape = (n_data, n_params)\n",
    "X = rng.uniform(size=n_data * n_params).reshape(shape)"
   ]
  },
  {
   "cell_type": "code",
   "execution_count": 4,
   "id": "66458a9c-5e01-4a75-8fd0-fd149f447992",
   "metadata": {
    "execution": {
     "iopub.execute_input": "2025-07-30T21:44:02.374073Z",
     "iopub.status.busy": "2025-07-30T21:44:02.373790Z",
     "iopub.status.idle": "2025-07-30T21:44:02.380317Z",
     "shell.execute_reply": "2025-07-30T21:44:02.379839Z",
     "shell.execute_reply.started": "2025-07-30T21:44:02.374048Z"
    }
   },
   "outputs": [
    {
     "data": {
      "text/plain": [
       "array([2.83840696, 2.18091081, 2.00623242, 2.08333039, 2.01694883,\n",
       "       2.7826232 , 2.10564027, 1.27333506, 2.08859855, 1.94177648,\n",
       "       1.88492037, 2.92394733, 2.17231952, 3.08009275, 1.61670886,\n",
       "       1.77403753, 2.67305005, 1.91413882, 2.42117827, 2.13991628,\n",
       "       2.0153805 , 2.71388471, 2.65944255, 2.44416121, 3.14217523])"
      ]
     },
     "execution_count": 4,
     "metadata": {},
     "output_type": "execute_result"
    }
   ],
   "source": [
    "synthetic_data = X @ true_model\n",
    "maxabs = np.max(np.abs(synthetic_data))\n",
    "noise = rng.normal(scale=1e-2 * maxabs, size=synthetic_data.size)\n",
    "synthetic_data += noise\n",
    "synthetic_data"
   ]
  },
  {
   "cell_type": "code",
   "execution_count": 5,
   "id": "ad91f721-72a9-485b-9043-d85a2a220b7b",
   "metadata": {
    "execution": {
     "iopub.execute_input": "2025-07-30T21:44:02.381208Z",
     "iopub.status.busy": "2025-07-30T21:44:02.380935Z",
     "iopub.status.idle": "2025-07-30T21:44:02.384169Z",
     "shell.execute_reply": "2025-07-30T21:44:02.383633Z",
     "shell.execute_reply.started": "2025-07-30T21:44:02.381181Z"
    }
   },
   "outputs": [],
   "source": [
    "simulation = LinearRegressor(X)"
   ]
  },
  {
   "cell_type": "code",
   "execution_count": 6,
   "id": "04636169-320a-4f1e-ab42-1b083b0111dd",
   "metadata": {
    "execution": {
     "iopub.execute_input": "2025-07-30T21:44:02.386664Z",
     "iopub.status.busy": "2025-07-30T21:44:02.386427Z",
     "iopub.status.idle": "2025-07-30T21:44:02.390296Z",
     "shell.execute_reply": "2025-07-30T21:44:02.389540Z",
     "shell.execute_reply.started": "2025-07-30T21:44:02.386639Z"
    }
   },
   "outputs": [],
   "source": [
    "uncertainty = 1e-2 * maxabs * np.ones_like(synthetic_data)\n",
    "data_misfit = DataMisfit(synthetic_data, uncertainty, simulation)\n",
    "smallness = TikhonovZero(n_params)"
   ]
  },
  {
   "cell_type": "code",
   "execution_count": 7,
   "id": "8da79647-eb17-4177-afb9-776f3cc4ffc5",
   "metadata": {
    "execution": {
     "iopub.execute_input": "2025-07-30T21:44:02.391395Z",
     "iopub.status.busy": "2025-07-30T21:44:02.391096Z",
     "iopub.status.idle": "2025-07-30T21:44:02.395721Z",
     "shell.execute_reply": "2025-07-30T21:44:02.395236Z",
     "shell.execute_reply.started": "2025-07-30T21:44:02.391366Z"
    }
   },
   "outputs": [
    {
     "data": {
      "text/latex": [
       "$\\phi (m)$ + $1.00 \\cdot 10^{-3} \\, \\phi (m)$"
      ],
      "text/plain": [
       "φ(m) + 0.00 φ(m)"
      ]
     },
     "execution_count": 7,
     "metadata": {},
     "output_type": "execute_result"
    }
   ],
   "source": [
    "phi = data_misfit + 1e-3 * smallness\n",
    "phi"
   ]
  },
  {
   "cell_type": "code",
   "execution_count": 8,
   "id": "d7bb890a-2958-4ea4-aa64-413f57c7b63e",
   "metadata": {
    "execution": {
     "iopub.execute_input": "2025-07-30T21:44:02.396827Z",
     "iopub.status.busy": "2025-07-30T21:44:02.396532Z",
     "iopub.status.idle": "2025-07-30T21:44:02.401585Z",
     "shell.execute_reply": "2025-07-30T21:44:02.401018Z",
     "shell.execute_reply.started": "2025-07-30T21:44:02.396800Z"
    }
   },
   "outputs": [
    {
     "data": {
      "text/plain": [
       "array([0., 0., 0., 0., 0., 0., 0., 0., 0., 0.])"
      ]
     },
     "execution_count": 8,
     "metadata": {},
     "output_type": "execute_result"
    }
   ],
   "source": [
    "initial_model = np.zeros(n_params)\n",
    "initial_model"
   ]
  },
  {
   "cell_type": "markdown",
   "id": "5cc54476-cd31-4bf6-bc0f-bfd6254af7ec",
   "metadata": {},
   "source": [
    "## Minimize manually with `scipy.sparse.linalg.cg`"
   ]
  },
  {
   "cell_type": "code",
   "execution_count": 9,
   "id": "d4bac3a2-49d5-4592-a793-72789ec31a5c",
   "metadata": {
    "execution": {
     "iopub.execute_input": "2025-07-30T21:44:02.402472Z",
     "iopub.status.busy": "2025-07-30T21:44:02.402223Z",
     "iopub.status.idle": "2025-07-30T21:44:02.405460Z",
     "shell.execute_reply": "2025-07-30T21:44:02.404856Z",
     "shell.execute_reply.started": "2025-07-30T21:44:02.402445Z"
    }
   },
   "outputs": [],
   "source": [
    "from scipy.sparse.linalg import cg"
   ]
  },
  {
   "cell_type": "code",
   "execution_count": 10,
   "id": "c3369162-abe9-4fb9-9294-69277e50ef13",
   "metadata": {
    "execution": {
     "iopub.execute_input": "2025-07-30T21:44:02.406396Z",
     "iopub.status.busy": "2025-07-30T21:44:02.406140Z",
     "iopub.status.idle": "2025-07-30T21:44:02.416978Z",
     "shell.execute_reply": "2025-07-30T21:44:02.416250Z",
     "shell.execute_reply.started": "2025-07-30T21:44:02.406371Z"
    }
   },
   "outputs": [],
   "source": [
    "grad = phi.gradient(initial_model)\n",
    "hess = phi.hessian(initial_model)"
   ]
  },
  {
   "cell_type": "code",
   "execution_count": 11,
   "id": "c1fed88c-9c34-4ee3-8208-e7b50c2ec678",
   "metadata": {
    "execution": {
     "iopub.execute_input": "2025-07-30T21:44:02.418429Z",
     "iopub.status.busy": "2025-07-30T21:44:02.417798Z",
     "iopub.status.idle": "2025-07-30T21:44:02.424364Z",
     "shell.execute_reply": "2025-07-30T21:44:02.423542Z",
     "shell.execute_reply.started": "2025-07-30T21:44:02.418399Z"
    }
   },
   "outputs": [
    {
     "data": {
      "text/plain": [
       "(array([0.81328361, 0.65926983, 0.24729306, 0.19624665, 0.32373823,\n",
       "        0.14720994, 0.31944798, 0.25236328, 0.52215617, 0.92180399]),\n",
       " 0)"
      ]
     },
     "execution_count": 11,
     "metadata": {},
     "output_type": "execute_result"
    }
   ],
   "source": [
    "model_step, info = cg(hess, -grad)\n",
    "model_step, info"
   ]
  },
  {
   "cell_type": "code",
   "execution_count": 12,
   "id": "54a8ef70-6e5f-4000-ad2f-658dbffd83f1",
   "metadata": {
    "execution": {
     "iopub.execute_input": "2025-07-30T21:44:02.425941Z",
     "iopub.status.busy": "2025-07-30T21:44:02.425367Z",
     "iopub.status.idle": "2025-07-30T21:44:02.429024Z",
     "shell.execute_reply": "2025-07-30T21:44:02.428342Z",
     "shell.execute_reply.started": "2025-07-30T21:44:02.425911Z"
    }
   },
   "outputs": [],
   "source": [
    "inverted_model = initial_model + model_step"
   ]
  },
  {
   "cell_type": "code",
   "execution_count": 13,
   "id": "b05f913f-dcfa-4bca-a277-b9cf5c9de6b5",
   "metadata": {
    "execution": {
     "iopub.execute_input": "2025-07-30T21:44:02.429921Z",
     "iopub.status.busy": "2025-07-30T21:44:02.429676Z",
     "iopub.status.idle": "2025-07-30T21:44:02.434672Z",
     "shell.execute_reply": "2025-07-30T21:44:02.434005Z",
     "shell.execute_reply.started": "2025-07-30T21:44:02.429895Z"
    }
   },
   "outputs": [
    {
     "name": "stdout",
     "output_type": "stream",
     "text": [
      "Result:\n",
      "[0.81328361 0.65926983 0.24729306 0.19624665 0.32373823 0.14720994\n",
      " 0.31944798 0.25236328 0.52215617 0.92180399]\n",
      "\n",
      "True model:\n",
      "[0.78225148 0.67148671 0.2373809  0.17946133 0.34662367 0.15210999\n",
      " 0.31142952 0.23900652 0.54355731 0.91770851]\n"
     ]
    }
   ],
   "source": [
    "print(\"Result:\")\n",
    "print(inverted_model)\n",
    "print()\n",
    "print(\"True model:\")\n",
    "print(true_model)"
   ]
  },
  {
   "cell_type": "markdown",
   "id": "ad0f7d22-77d6-410c-bca1-e3d765006aff",
   "metadata": {},
   "source": [
    "## Minimize with SciPy's `minimize`"
   ]
  },
  {
   "cell_type": "code",
   "execution_count": 14,
   "id": "5f36ec3b-0380-4eeb-b01a-3191c12b70f5",
   "metadata": {
    "execution": {
     "iopub.execute_input": "2025-07-30T21:44:02.435802Z",
     "iopub.status.busy": "2025-07-30T21:44:02.435473Z",
     "iopub.status.idle": "2025-07-30T21:44:02.539068Z",
     "shell.execute_reply": "2025-07-30T21:44:02.538448Z",
     "shell.execute_reply.started": "2025-07-30T21:44:02.435773Z"
    }
   },
   "outputs": [],
   "source": [
    "from scipy.optimize import minimize"
   ]
  },
  {
   "cell_type": "code",
   "execution_count": 15,
   "id": "ba337ea8-0afb-46aa-b107-07bcf86a8324",
   "metadata": {
    "execution": {
     "iopub.execute_input": "2025-07-30T21:44:02.540158Z",
     "iopub.status.busy": "2025-07-30T21:44:02.539858Z",
     "iopub.status.idle": "2025-07-30T21:44:02.653925Z",
     "shell.execute_reply": "2025-07-30T21:44:02.653309Z",
     "shell.execute_reply.started": "2025-07-30T21:44:02.540128Z"
    }
   },
   "outputs": [
    {
     "data": {
      "text/plain": [
       "  message: Optimization terminated successfully.\n",
       "  success: True\n",
       "   status: 0\n",
       "      fun: 0.37159603111570305\n",
       "        x: [ 8.133e-01  6.592e-01  2.473e-01  1.963e-01  3.237e-01\n",
       "             1.472e-01  3.195e-01  2.524e-01  5.222e-01  9.218e-01]\n",
       "      nit: 16\n",
       "      jac: [-1.378e-07  2.645e-07  1.155e-07  1.118e-08 -1.006e-07\n",
       "             1.714e-07 -3.725e-08  2.682e-07  3.353e-08  1.602e-07]\n",
       " hess_inv: [[ 1.077e-02 -3.331e-03 ...  5.039e-04 -2.987e-03]\n",
       "            [-3.331e-03  1.286e-02 ... -3.213e-03 -4.085e-04]\n",
       "            ...\n",
       "            [ 5.039e-04 -3.213e-03 ...  6.867e-03 -1.745e-03]\n",
       "            [-2.987e-03 -4.085e-04 ... -1.745e-03  8.357e-03]]\n",
       "     nfev: 231\n",
       "     njev: 21"
      ]
     },
     "execution_count": 15,
     "metadata": {},
     "output_type": "execute_result"
    }
   ],
   "source": [
    "result =  minimize(phi, initial_model)\n",
    "result"
   ]
  },
  {
   "cell_type": "code",
   "execution_count": 16,
   "id": "d5cf83b5-6cbd-42d1-9513-d3ca38464b72",
   "metadata": {
    "execution": {
     "iopub.execute_input": "2025-07-30T21:44:02.654768Z",
     "iopub.status.busy": "2025-07-30T21:44:02.654541Z",
     "iopub.status.idle": "2025-07-30T21:44:02.657978Z",
     "shell.execute_reply": "2025-07-30T21:44:02.657263Z",
     "shell.execute_reply.started": "2025-07-30T21:44:02.654750Z"
    }
   },
   "outputs": [],
   "source": [
    "# The minimize already gives you the minimum model\n",
    "inverted_model = result.x"
   ]
  },
  {
   "cell_type": "code",
   "execution_count": 17,
   "id": "d25be88b-3134-447a-b003-c80dddff3166",
   "metadata": {
    "execution": {
     "iopub.execute_input": "2025-07-30T21:44:02.659193Z",
     "iopub.status.busy": "2025-07-30T21:44:02.658718Z",
     "iopub.status.idle": "2025-07-30T21:44:02.663874Z",
     "shell.execute_reply": "2025-07-30T21:44:02.663096Z",
     "shell.execute_reply.started": "2025-07-30T21:44:02.659160Z"
    }
   },
   "outputs": [
    {
     "name": "stdout",
     "output_type": "stream",
     "text": [
      "Result:\n",
      "[0.81325615 0.65924881 0.24726449 0.19626688 0.32373389 0.14719947\n",
      " 0.31947497 0.25235411 0.5221697  0.92183533]\n",
      "\n",
      "True model:\n",
      "[0.78225148 0.67148671 0.2373809  0.17946133 0.34662367 0.15210999\n",
      " 0.31142952 0.23900652 0.54355731 0.91770851]\n"
     ]
    }
   ],
   "source": [
    "print(\"Result:\")\n",
    "print(inverted_model)\n",
    "print()\n",
    "print(\"True model:\")\n",
    "print(true_model)"
   ]
  },
  {
   "cell_type": "code",
   "execution_count": 18,
   "id": "50cb98a1-1fc8-4378-a517-09ed910ce1c3",
   "metadata": {
    "execution": {
     "iopub.execute_input": "2025-07-30T21:44:02.665322Z",
     "iopub.status.busy": "2025-07-30T21:44:02.664695Z",
     "iopub.status.idle": "2025-07-30T21:44:02.694794Z",
     "shell.execute_reply": "2025-07-30T21:44:02.694177Z",
     "shell.execute_reply.started": "2025-07-30T21:44:02.665296Z"
    }
   },
   "outputs": [
    {
     "data": {
      "text/plain": [
       " message: Optimization terminated successfully.\n",
       " success: True\n",
       "  status: 0\n",
       "     fun: 0.3715960311156822\n",
       "       x: [ 8.133e-01  6.592e-01  2.473e-01  1.963e-01  3.237e-01\n",
       "            1.472e-01  3.195e-01  2.524e-01  5.222e-01  9.218e-01]\n",
       "     nit: 12\n",
       "     jac: [ 8.321e-13 -8.337e-13 -1.028e-12 -2.157e-14 -2.755e-13\n",
       "           -4.928e-13 -8.490e-13 -1.512e-12 -5.860e-13 -1.837e-12]\n",
       "    nfev: 24\n",
       "    njev: 24"
      ]
     },
     "execution_count": 18,
     "metadata": {},
     "output_type": "execute_result"
    }
   ],
   "source": [
    "result =  minimize(phi, initial_model, jac=phi.gradient, method=\"CG\")\n",
    "result"
   ]
  },
  {
   "cell_type": "code",
   "execution_count": 19,
   "id": "45a7c13a-79ea-445f-b63d-b551787ebc20",
   "metadata": {
    "execution": {
     "iopub.execute_input": "2025-07-30T21:44:02.695470Z",
     "iopub.status.busy": "2025-07-30T21:44:02.695280Z",
     "iopub.status.idle": "2025-07-30T21:44:02.697990Z",
     "shell.execute_reply": "2025-07-30T21:44:02.697579Z",
     "shell.execute_reply.started": "2025-07-30T21:44:02.695451Z"
    }
   },
   "outputs": [],
   "source": [
    "# The minimize already gives you the minimum model\n",
    "inverted_model = result.x"
   ]
  },
  {
   "cell_type": "code",
   "execution_count": 20,
   "id": "094fbf19-b676-4aba-8e23-b93abb8b2431",
   "metadata": {
    "execution": {
     "iopub.execute_input": "2025-07-30T21:44:02.698657Z",
     "iopub.status.busy": "2025-07-30T21:44:02.698484Z",
     "iopub.status.idle": "2025-07-30T21:44:02.702417Z",
     "shell.execute_reply": "2025-07-30T21:44:02.701973Z",
     "shell.execute_reply.started": "2025-07-30T21:44:02.698641Z"
    }
   },
   "outputs": [
    {
     "name": "stdout",
     "output_type": "stream",
     "text": [
      "Result:\n",
      "[0.81325615 0.65924881 0.2472645  0.19626689 0.32373389 0.14719947\n",
      " 0.31947497 0.25235411 0.5221697  0.92183533]\n",
      "\n",
      "True model:\n",
      "[0.78225148 0.67148671 0.2373809  0.17946133 0.34662367 0.15210999\n",
      " 0.31142952 0.23900652 0.54355731 0.91770851]\n"
     ]
    }
   ],
   "source": [
    "print(\"Result:\")\n",
    "print(result.x)\n",
    "print()\n",
    "print(\"True model:\")\n",
    "print(true_model)"
   ]
  },
  {
   "cell_type": "code",
   "execution_count": 21,
   "id": "65235b83-fd51-4f52-b7ba-3c0dc2a35fe2",
   "metadata": {
    "execution": {
     "iopub.execute_input": "2025-07-30T21:44:02.704647Z",
     "iopub.status.busy": "2025-07-30T21:44:02.704458Z",
     "iopub.status.idle": "2025-07-30T21:44:02.729761Z",
     "shell.execute_reply": "2025-07-30T21:44:02.729031Z",
     "shell.execute_reply.started": "2025-07-30T21:44:02.704629Z"
    }
   },
   "outputs": [
    {
     "data": {
      "text/plain": [
       " message: Optimization terminated successfully.\n",
       " success: True\n",
       "  status: 0\n",
       "     fun: 0.37159603111728207\n",
       "       x: [ 8.133e-01  6.592e-01  2.473e-01  1.963e-01  3.237e-01\n",
       "            1.472e-01  3.195e-01  2.524e-01  5.222e-01  9.218e-01]\n",
       "     nit: 10\n",
       "     jac: [-1.755e-04 -1.486e-04  1.521e-04  4.685e-05  3.222e-05\n",
       "           -1.612e-04  8.816e-05  7.859e-06  3.653e-04 -1.935e-04]\n",
       "    nfev: 11\n",
       "    njev: 11\n",
       "    nhev: 28"
      ]
     },
     "execution_count": 21,
     "metadata": {},
     "output_type": "execute_result"
    }
   ],
   "source": [
    "result =  minimize(phi, initial_model, jac=phi.gradient, hess=phi.hessian, method=\"Newton-CG\")\n",
    "result"
   ]
  },
  {
   "cell_type": "code",
   "execution_count": 22,
   "id": "45df89b6-58fc-472c-bfa6-96f1d3c7cc5c",
   "metadata": {
    "execution": {
     "iopub.execute_input": "2025-07-30T21:44:02.730834Z",
     "iopub.status.busy": "2025-07-30T21:44:02.730564Z",
     "iopub.status.idle": "2025-07-30T21:44:02.734105Z",
     "shell.execute_reply": "2025-07-30T21:44:02.733308Z",
     "shell.execute_reply.started": "2025-07-30T21:44:02.730807Z"
    }
   },
   "outputs": [],
   "source": [
    "# The minimize already gives you the minimum model\n",
    "inverted_model = result.x"
   ]
  },
  {
   "cell_type": "code",
   "execution_count": 23,
   "id": "2e9d2ee1-bfd9-4c3d-9865-f63d08a25b07",
   "metadata": {
    "execution": {
     "iopub.execute_input": "2025-07-30T21:44:02.735133Z",
     "iopub.status.busy": "2025-07-30T21:44:02.734869Z",
     "iopub.status.idle": "2025-07-30T21:44:02.739722Z",
     "shell.execute_reply": "2025-07-30T21:44:02.739083Z",
     "shell.execute_reply.started": "2025-07-30T21:44:02.735106Z"
    }
   },
   "outputs": [
    {
     "name": "stdout",
     "output_type": "stream",
     "text": [
      "Result:\n",
      "[0.81325626 0.65924868 0.24726445 0.19626684 0.32373384 0.14719954\n",
      " 0.31947496 0.25235426 0.52216973 0.92183526]\n",
      "\n",
      "True model:\n",
      "[0.78225148 0.67148671 0.2373809  0.17946133 0.34662367 0.15210999\n",
      " 0.31142952 0.23900652 0.54355731 0.91770851]\n"
     ]
    }
   ],
   "source": [
    "print(\"Result:\")\n",
    "print(result.x)\n",
    "print()\n",
    "print(\"True model:\")\n",
    "print(true_model)"
   ]
  },
  {
   "cell_type": "markdown",
   "id": "ded8a6fd-c419-4b13-bf3e-9d221c78a368",
   "metadata": {},
   "source": [
    "## Use `Minimizer` class"
   ]
  },
  {
   "cell_type": "code",
   "execution_count": 24,
   "id": "34372a3f-ff42-435f-9423-a4f99712fd9c",
   "metadata": {
    "execution": {
     "iopub.execute_input": "2025-07-30T21:44:02.740818Z",
     "iopub.status.busy": "2025-07-30T21:44:02.740521Z",
     "iopub.status.idle": "2025-07-30T21:44:02.746071Z",
     "shell.execute_reply": "2025-07-30T21:44:02.745254Z",
     "shell.execute_reply.started": "2025-07-30T21:44:02.740790Z"
    }
   },
   "outputs": [
    {
     "data": {
      "text/plain": [
       "<inversion_ideas.minimizers.ConjugateGradient at 0x7f7f2380b4d0>"
      ]
     },
     "execution_count": 24,
     "metadata": {},
     "output_type": "execute_result"
    }
   ],
   "source": [
    "minimizer = ConjugateGradient()\n",
    "minimizer"
   ]
  },
  {
   "cell_type": "code",
   "execution_count": 25,
   "id": "f3f52071-c2c5-4016-9d61-cd2f3b781698",
   "metadata": {
    "execution": {
     "iopub.execute_input": "2025-07-30T21:44:02.747387Z",
     "iopub.status.busy": "2025-07-30T21:44:02.747061Z",
     "iopub.status.idle": "2025-07-30T21:44:02.754074Z",
     "shell.execute_reply": "2025-07-30T21:44:02.753410Z",
     "shell.execute_reply.started": "2025-07-30T21:44:02.747359Z"
    }
   },
   "outputs": [],
   "source": [
    "inverted_model = minimizer(phi, initial_model)"
   ]
  },
  {
   "cell_type": "code",
   "execution_count": 26,
   "id": "e41d3e15-1a74-42b9-9583-cacb8aeceadc",
   "metadata": {
    "execution": {
     "iopub.execute_input": "2025-07-30T21:44:02.755091Z",
     "iopub.status.busy": "2025-07-30T21:44:02.754829Z",
     "iopub.status.idle": "2025-07-30T21:44:02.760616Z",
     "shell.execute_reply": "2025-07-30T21:44:02.759770Z",
     "shell.execute_reply.started": "2025-07-30T21:44:02.755065Z"
    }
   },
   "outputs": [
    {
     "name": "stdout",
     "output_type": "stream",
     "text": [
      "Result:\n",
      "[0.81328361 0.65926983 0.24729306 0.19624665 0.32373823 0.14720994\n",
      " 0.31944798 0.25236328 0.52215617 0.92180399]\n",
      "\n",
      "True model:\n",
      "[0.78225148 0.67148671 0.2373809  0.17946133 0.34662367 0.15210999\n",
      " 0.31142952 0.23900652 0.54355731 0.91770851]\n"
     ]
    }
   ],
   "source": [
    "print(\"Result:\")\n",
    "print(inverted_model)\n",
    "print()\n",
    "print(\"True model:\")\n",
    "print(true_model)"
   ]
  },
  {
   "cell_type": "code",
   "execution_count": null,
   "id": "4a35232d-899c-4746-884d-58cb6b60a52d",
   "metadata": {},
   "outputs": [],
   "source": []
  }
 ],
 "metadata": {
  "kernelspec": {
   "display_name": "Python [conda env:inversion_ideas]",
   "language": "python",
   "name": "conda-env-inversion_ideas-py"
  },
  "language_info": {
   "codemirror_mode": {
    "name": "ipython",
    "version": 3
   },
   "file_extension": ".py",
   "mimetype": "text/x-python",
   "name": "python",
   "nbconvert_exporter": "python",
   "pygments_lexer": "ipython3",
   "version": "3.13.5"
  }
 },
 "nbformat": 4,
 "nbformat_minor": 5
}
