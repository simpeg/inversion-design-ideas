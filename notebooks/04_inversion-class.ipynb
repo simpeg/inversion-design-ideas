{
 "cells": [
  {
   "cell_type": "markdown",
   "id": "85150015-06c0-42d9-a83a-5c3a29898e8f",
   "metadata": {},
   "source": [
    "# Experiment with the `Inversion` class"
   ]
  },
  {
   "cell_type": "code",
   "execution_count": 1,
   "id": "eb4145ad-9d6a-411f-aa2e-7ab211a1f737",
   "metadata": {
    "execution": {
     "iopub.execute_input": "2025-08-27T23:48:20.545877Z",
     "iopub.status.busy": "2025-08-27T23:48:20.545335Z",
     "iopub.status.idle": "2025-08-27T23:48:21.051312Z",
     "shell.execute_reply": "2025-08-27T23:48:21.050755Z",
     "shell.execute_reply.started": "2025-08-27T23:48:20.545848Z"
    }
   },
   "outputs": [],
   "source": [
    "import numpy as np\n",
    "from regressor import LinearRegressor\n",
    "\n",
    "from inversion_ideas import (\n",
    "    ChiTarget,\n",
    "    ConjugateGradient,\n",
    "    DataMisfit,\n",
    "    Inversion,\n",
    "    InversionLogRich,\n",
    "    MultiplierCooler,\n",
    "    TikhonovZero,\n",
    ")"
   ]
  },
  {
   "cell_type": "markdown",
   "id": "2ce27740-8208-455d-8868-94c3ba71d3ab",
   "metadata": {},
   "source": [
    "## Create a true model and synthetic data for a linear regressor"
   ]
  },
  {
   "cell_type": "code",
   "execution_count": 2,
   "id": "22f226e2-d715-49e8-b357-38e71d78bcdc",
   "metadata": {
    "execution": {
     "iopub.execute_input": "2025-08-27T23:48:21.052358Z",
     "iopub.status.busy": "2025-08-27T23:48:21.051971Z",
     "iopub.status.idle": "2025-08-27T23:48:21.060051Z",
     "shell.execute_reply": "2025-08-27T23:48:21.059326Z",
     "shell.execute_reply.started": "2025-08-27T23:48:21.052327Z"
    }
   },
   "outputs": [
    {
     "data": {
      "text/plain": [
       "array([0.78225148, 0.67148671, 0.2373809 , 0.17946133, 0.34662367,\n",
       "       0.15210999, 0.31142952, 0.23900652, 0.54355731, 0.91770851])"
      ]
     },
     "execution_count": 2,
     "metadata": {},
     "output_type": "execute_result"
    }
   ],
   "source": [
    "n_params = 10\n",
    "rng = np.random.default_rng(seed=4242)\n",
    "true_model = rng.uniform(size=10)\n",
    "true_model"
   ]
  },
  {
   "cell_type": "code",
   "execution_count": 3,
   "id": "0e39a2d1-d26e-4ee2-8f9f-f3b33f1ac124",
   "metadata": {
    "execution": {
     "iopub.execute_input": "2025-08-27T23:48:21.061120Z",
     "iopub.status.busy": "2025-08-27T23:48:21.060853Z",
     "iopub.status.idle": "2025-08-27T23:48:21.064853Z",
     "shell.execute_reply": "2025-08-27T23:48:21.064215Z",
     "shell.execute_reply.started": "2025-08-27T23:48:21.061100Z"
    }
   },
   "outputs": [],
   "source": [
    "# Build the X array\n",
    "n_data = 25\n",
    "shape = (n_data, n_params)\n",
    "X = rng.uniform(size=n_data * n_params).reshape(shape)"
   ]
  },
  {
   "cell_type": "code",
   "execution_count": 4,
   "id": "8f052ed5-3a2b-4f32-8b44-8a86ea278960",
   "metadata": {
    "execution": {
     "iopub.execute_input": "2025-08-27T23:48:21.065952Z",
     "iopub.status.busy": "2025-08-27T23:48:21.065633Z",
     "iopub.status.idle": "2025-08-27T23:48:21.074744Z",
     "shell.execute_reply": "2025-08-27T23:48:21.072780Z",
     "shell.execute_reply.started": "2025-08-27T23:48:21.065921Z"
    }
   },
   "outputs": [
    {
     "data": {
      "text/plain": [
       "array([2.83840696, 2.18091081, 2.00623242, 2.08333039, 2.01694883,\n",
       "       2.7826232 , 2.10564027, 1.27333506, 2.08859855, 1.94177648,\n",
       "       1.88492037, 2.92394733, 2.17231952, 3.08009275, 1.61670886,\n",
       "       1.77403753, 2.67305005, 1.91413882, 2.42117827, 2.13991628,\n",
       "       2.0153805 , 2.71388471, 2.65944255, 2.44416121, 3.14217523])"
      ]
     },
     "execution_count": 4,
     "metadata": {},
     "output_type": "execute_result"
    }
   ],
   "source": [
    "synthetic_data = X @ true_model\n",
    "maxabs = np.max(np.abs(synthetic_data))\n",
    "noise = rng.normal(scale=1e-2 * maxabs, size=synthetic_data.size)\n",
    "synthetic_data += noise\n",
    "synthetic_data"
   ]
  },
  {
   "cell_type": "markdown",
   "id": "175bc1c0-e1aa-4e97-ad07-6c5888ecaf52",
   "metadata": {},
   "source": [
    "## Inversion"
   ]
  },
  {
   "cell_type": "code",
   "execution_count": 5,
   "id": "ea5fc34a-3d8e-4582-9ba1-c822c92fa081",
   "metadata": {
    "execution": {
     "iopub.execute_input": "2025-08-27T23:48:21.076248Z",
     "iopub.status.busy": "2025-08-27T23:48:21.075643Z",
     "iopub.status.idle": "2025-08-27T23:48:21.080040Z",
     "shell.execute_reply": "2025-08-27T23:48:21.079341Z",
     "shell.execute_reply.started": "2025-08-27T23:48:21.076214Z"
    }
   },
   "outputs": [],
   "source": [
    "uncertainty = 1e-2 * maxabs * np.ones_like(synthetic_data)\n",
    "simulation = LinearRegressor(X, sleep=0.5)\n",
    "data_misfit = DataMisfit(synthetic_data, uncertainty, simulation)"
   ]
  },
  {
   "cell_type": "code",
   "execution_count": 6,
   "id": "4c437f4d-05f6-4115-8465-26c70869de21",
   "metadata": {
    "execution": {
     "iopub.execute_input": "2025-08-27T23:48:21.083001Z",
     "iopub.status.busy": "2025-08-27T23:48:21.082651Z",
     "iopub.status.idle": "2025-08-27T23:48:21.086255Z",
     "shell.execute_reply": "2025-08-27T23:48:21.085616Z",
     "shell.execute_reply.started": "2025-08-27T23:48:21.082971Z"
    }
   },
   "outputs": [],
   "source": [
    "smallness = TikhonovZero(n_params)"
   ]
  },
  {
   "cell_type": "code",
   "execution_count": 7,
   "id": "0bb53603-fc9c-4b4e-98fa-ab0f51ffc948",
   "metadata": {
    "execution": {
     "iopub.execute_input": "2025-08-27T23:48:21.087324Z",
     "iopub.status.busy": "2025-08-27T23:48:21.087016Z",
     "iopub.status.idle": "2025-08-27T23:48:21.092085Z",
     "shell.execute_reply": "2025-08-27T23:48:21.091404Z",
     "shell.execute_reply.started": "2025-08-27T23:48:21.087292Z"
    }
   },
   "outputs": [],
   "source": [
    "# Objective function\n",
    "beta_0 = 1e4\n",
    "regularization = beta_0 * smallness\n",
    "phi = data_misfit + regularization\n",
    "\n",
    "# Initial model\n",
    "initial_model = np.zeros(n_params)\n",
    "\n",
    "# Minimizer\n",
    "minimizer = ConjugateGradient()\n",
    "\n",
    "# Directives\n",
    "beta_cooler = MultiplierCooler(regularization, cooling_factor=2.0)\n",
    "\n",
    "# Stopping criteria\n",
    "chi_target = 1.0\n",
    "stopping_criteria = ChiTarget(data_misfit, chi_target=chi_target)"
   ]
  },
  {
   "cell_type": "code",
   "execution_count": 8,
   "id": "dadcd07b-8141-4807-b20b-27567344aadf",
   "metadata": {
    "execution": {
     "iopub.execute_input": "2025-08-27T23:48:21.093582Z",
     "iopub.status.busy": "2025-08-27T23:48:21.092901Z",
     "iopub.status.idle": "2025-08-27T23:48:21.097224Z",
     "shell.execute_reply": "2025-08-27T23:48:21.096487Z",
     "shell.execute_reply.started": "2025-08-27T23:48:21.093558Z"
    }
   },
   "outputs": [],
   "source": [
    "inversion = Inversion(\n",
    "    phi,\n",
    "    initial_model,\n",
    "    minimizer,\n",
    "    directives=[beta_cooler],\n",
    "    stopping_criteria=stopping_criteria,\n",
    "    cache_models=True,\n",
    ")"
   ]
  },
  {
   "cell_type": "code",
   "execution_count": 9,
   "id": "80212737-1eb5-4e84-aa9d-077ae29cf128",
   "metadata": {
    "execution": {
     "iopub.execute_input": "2025-08-27T23:48:21.098560Z",
     "iopub.status.busy": "2025-08-27T23:48:21.098264Z",
     "iopub.status.idle": "2025-08-27T23:48:25.446608Z",
     "shell.execute_reply": "2025-08-27T23:48:25.445538Z",
     "shell.execute_reply.started": "2025-08-27T23:48:21.098531Z"
    }
   },
   "outputs": [
    {
     "data": {
      "application/vnd.jupyter.widget-view+json": {
       "model_id": "432dad0150ea4a9c97f4bc57f9704d29",
       "version_major": 2,
       "version_minor": 0
      },
      "text/plain": [
       "Output()"
      ]
     },
     "metadata": {},
     "output_type": "display_data"
    },
    {
     "name": "stderr",
     "output_type": "stream",
     "text": [
      "INFO: 🎉 Inversion successfully finished due to stopping criteria.\n"
     ]
    },
    {
     "data": {
      "text/html": [
       "<pre style=\"white-space:pre;overflow-x:auto;line-height:normal;font-family:Menlo,'DejaVu Sans Mono',consolas,'Courier New',monospace\"></pre>\n"
      ],
      "text/plain": []
     },
     "metadata": {},
     "output_type": "display_data"
    }
   ],
   "source": [
    "with inversion.log.live() as live:\n",
    "    for model in inversion:\n",
    "        # Refresh table\n",
    "        live.refresh()"
   ]
  },
  {
   "cell_type": "code",
   "execution_count": 10,
   "id": "8f28f15a-d5d1-4f40-8913-44be6574af3f",
   "metadata": {
    "execution": {
     "iopub.execute_input": "2025-08-27T23:48:25.448159Z",
     "iopub.status.busy": "2025-08-27T23:48:25.447742Z",
     "iopub.status.idle": "2025-08-27T23:48:25.455878Z",
     "shell.execute_reply": "2025-08-27T23:48:25.455195Z",
     "shell.execute_reply.started": "2025-08-27T23:48:25.448119Z"
    }
   },
   "outputs": [
    {
     "data": {
      "text/plain": [
       "[array([0., 0., 0., 0., 0., 0., 0., 0., 0., 0.]),\n",
       " array([0.42435726, 0.42399556, 0.31488771, 0.30781909, 0.36748548,\n",
       "        0.3541613 , 0.35617454, 0.33544115, 0.43090205, 0.51906374]),\n",
       " array([0.5056242 , 0.47292493, 0.31019533, 0.28663263, 0.38905159,\n",
       "        0.34587771, 0.36311607, 0.33629102, 0.47778453, 0.60674237]),\n",
       " array([0.58936952, 0.51738738, 0.2902994 , 0.25123224, 0.39337984,\n",
       "        0.3151884 , 0.35668177, 0.3233827 , 0.50991683, 0.6929199 ]),\n",
       " array([0.66606771, 0.55805404, 0.26845575, 0.21988974, 0.38401096,\n",
       "        0.27327808, 0.34599733, 0.30631261, 0.52650139, 0.76952915]),\n",
       " array([0.72555055, 0.59250287, 0.25392942, 0.20191464, 0.36759678,\n",
       "        0.23168433, 0.33632369, 0.29012319, 0.53109078, 0.82869251]),\n",
       " array([0.76485366, 0.61861644, 0.24767964, 0.19529472, 0.35147213,\n",
       "        0.19846023, 0.32930081, 0.27659424, 0.52981675, 0.86874091]),\n",
       " array([0.78781238, 0.63620172, 0.2461426 , 0.1941919 , 0.33960904,\n",
       "        0.17601471, 0.32485498, 0.26662799, 0.52718998, 0.89311305])]"
      ]
     },
     "execution_count": 10,
     "metadata": {},
     "output_type": "execute_result"
    }
   ],
   "source": [
    "inversion.models"
   ]
  },
  {
   "cell_type": "code",
   "execution_count": 11,
   "id": "e4be439a-b19b-496a-8e46-465d6682e574",
   "metadata": {
    "execution": {
     "iopub.execute_input": "2025-08-27T23:48:25.457139Z",
     "iopub.status.busy": "2025-08-27T23:48:25.456611Z",
     "iopub.status.idle": "2025-08-27T23:48:25.473796Z",
     "shell.execute_reply": "2025-08-27T23:48:25.473113Z",
     "shell.execute_reply.started": "2025-08-27T23:48:25.457117Z"
    }
   },
   "outputs": [
    {
     "data": {
      "text/html": [
       "<pre style=\"white-space:pre;overflow-x:auto;line-height:normal;font-family:Menlo,'DejaVu Sans Mono',consolas,'Courier New',monospace\">┏━━━━━━━━━━━┳━━━━━━━━━━┳━━━━━━━━━━┳━━━━━━━━━━┳━━━━━━━━━━┳━━━━━━━━━━┳━━━━━━━━━━┓\n",
       "┃<span style=\"font-weight: bold\"> Iteration </span>┃<span style=\"font-weight: bold\"> β        </span>┃<span style=\"font-weight: bold\"> φ_d      </span>┃<span style=\"font-weight: bold\"> φ_m      </span>┃<span style=\"font-weight: bold\"> β φ_m    </span>┃<span style=\"font-weight: bold\"> φ        </span>┃<span style=\"font-weight: bold\"> χ        </span>┃\n",
       "┡━━━━━━━━━━━╇━━━━━━━━━━╇━━━━━━━━━━╇━━━━━━━━━━╇━━━━━━━━━━╇━━━━━━━━━━╇━━━━━━━━━━┩\n",
       "│ 0         │ 1.00e+04 │ 1.36e+05 │ 0.00e+00 │ 0.00e+00 │ 1.36e+05 │ 5.44e+03 │\n",
       "│ 1         │ 1.00e+04 │ 3.28e+03 │ 1.51e+00 │ 1.51e+04 │ 1.84e+04 │ 1.31e+02 │\n",
       "│ 2         │ 5.00e+03 │ 1.37e+03 │ 1.77e+00 │ 8.85e+03 │ 1.02e+04 │ 5.50e+01 │\n",
       "│ 3         │ 2.50e+03 │ 5.80e+02 │ 1.99e+00 │ 4.97e+03 │ 5.55e+03 │ 2.32e+01 │\n",
       "│ 4         │ 1.25e+03 │ 2.31e+02 │ 2.18e+00 │ 2.73e+03 │ 2.96e+03 │ 9.23e+00 │\n",
       "│ 5         │ 6.25e+02 │ 8.70e+01 │ 2.34e+00 │ 1.46e+03 │ 1.55e+03 │ 3.48e+00 │\n",
       "│ 6         │ 3.12e+02 │ 3.50e+01 │ 2.45e+00 │ 7.66e+02 │ 8.01e+02 │ 1.40e+00 │\n",
       "│ 7         │ 1.56e+02 │ 1.83e+01 │ 2.52e+00 │ 3.94e+02 │ 4.12e+02 │ 7.34e-01 │\n",
       "└───────────┴──────────┴──────────┴──────────┴──────────┴──────────┴──────────┘\n",
       "</pre>\n"
      ],
      "text/plain": [
       "┏━━━━━━━━━━━┳━━━━━━━━━━┳━━━━━━━━━━┳━━━━━━━━━━┳━━━━━━━━━━┳━━━━━━━━━━┳━━━━━━━━━━┓\n",
       "┃\u001b[1m \u001b[0m\u001b[1mIteration\u001b[0m\u001b[1m \u001b[0m┃\u001b[1m \u001b[0m\u001b[1mβ       \u001b[0m\u001b[1m \u001b[0m┃\u001b[1m \u001b[0m\u001b[1mφ_d     \u001b[0m\u001b[1m \u001b[0m┃\u001b[1m \u001b[0m\u001b[1mφ_m     \u001b[0m\u001b[1m \u001b[0m┃\u001b[1m \u001b[0m\u001b[1mβ φ_m   \u001b[0m\u001b[1m \u001b[0m┃\u001b[1m \u001b[0m\u001b[1mφ       \u001b[0m\u001b[1m \u001b[0m┃\u001b[1m \u001b[0m\u001b[1mχ       \u001b[0m\u001b[1m \u001b[0m┃\n",
       "┡━━━━━━━━━━━╇━━━━━━━━━━╇━━━━━━━━━━╇━━━━━━━━━━╇━━━━━━━━━━╇━━━━━━━━━━╇━━━━━━━━━━┩\n",
       "│ 0         │ 1.00e+04 │ 1.36e+05 │ 0.00e+00 │ 0.00e+00 │ 1.36e+05 │ 5.44e+03 │\n",
       "│ 1         │ 1.00e+04 │ 3.28e+03 │ 1.51e+00 │ 1.51e+04 │ 1.84e+04 │ 1.31e+02 │\n",
       "│ 2         │ 5.00e+03 │ 1.37e+03 │ 1.77e+00 │ 8.85e+03 │ 1.02e+04 │ 5.50e+01 │\n",
       "│ 3         │ 2.50e+03 │ 5.80e+02 │ 1.99e+00 │ 4.97e+03 │ 5.55e+03 │ 2.32e+01 │\n",
       "│ 4         │ 1.25e+03 │ 2.31e+02 │ 2.18e+00 │ 2.73e+03 │ 2.96e+03 │ 9.23e+00 │\n",
       "│ 5         │ 6.25e+02 │ 8.70e+01 │ 2.34e+00 │ 1.46e+03 │ 1.55e+03 │ 3.48e+00 │\n",
       "│ 6         │ 3.12e+02 │ 3.50e+01 │ 2.45e+00 │ 7.66e+02 │ 8.01e+02 │ 1.40e+00 │\n",
       "│ 7         │ 1.56e+02 │ 1.83e+01 │ 2.52e+00 │ 3.94e+02 │ 4.12e+02 │ 7.34e-01 │\n",
       "└───────────┴──────────┴──────────┴──────────┴──────────┴──────────┴──────────┘\n"
      ]
     },
     "execution_count": 11,
     "metadata": {},
     "output_type": "execute_result"
    }
   ],
   "source": [
    "inversion.log.table"
   ]
  },
  {
   "cell_type": "code",
   "execution_count": 12,
   "id": "2437b51f-4b17-408d-9b83-7f86df703bbe",
   "metadata": {
    "execution": {
     "iopub.execute_input": "2025-08-27T23:48:25.474950Z",
     "iopub.status.busy": "2025-08-27T23:48:25.474570Z",
     "iopub.status.idle": "2025-08-27T23:48:25.488340Z",
     "shell.execute_reply": "2025-08-27T23:48:25.487705Z",
     "shell.execute_reply.started": "2025-08-27T23:48:25.474928Z"
    }
   },
   "outputs": [
    {
     "data": {
      "text/html": [
       "<div>\n",
       "<style scoped>\n",
       "    .dataframe tbody tr th:only-of-type {\n",
       "        vertical-align: middle;\n",
       "    }\n",
       "\n",
       "    .dataframe tbody tr th {\n",
       "        vertical-align: top;\n",
       "    }\n",
       "\n",
       "    .dataframe thead th {\n",
       "        text-align: right;\n",
       "    }\n",
       "</style>\n",
       "<table border=\"1\" class=\"dataframe\">\n",
       "  <thead>\n",
       "    <tr style=\"text-align: right;\">\n",
       "      <th></th>\n",
       "      <th>beta</th>\n",
       "      <th>phi_d</th>\n",
       "      <th>phi_m</th>\n",
       "      <th>beta * phi_m</th>\n",
       "      <th>phi</th>\n",
       "      <th>chi</th>\n",
       "    </tr>\n",
       "    <tr>\n",
       "      <th>iter</th>\n",
       "      <th></th>\n",
       "      <th></th>\n",
       "      <th></th>\n",
       "      <th></th>\n",
       "      <th></th>\n",
       "      <th></th>\n",
       "    </tr>\n",
       "  </thead>\n",
       "  <tbody>\n",
       "    <tr>\n",
       "      <th>0</th>\n",
       "      <td>10000.00</td>\n",
       "      <td>135973.462849</td>\n",
       "      <td>0.000000</td>\n",
       "      <td>0.000000</td>\n",
       "      <td>135973.462849</td>\n",
       "      <td>5438.938514</td>\n",
       "    </tr>\n",
       "    <tr>\n",
       "      <th>1</th>\n",
       "      <td>10000.00</td>\n",
       "      <td>3283.955124</td>\n",
       "      <td>1.508719</td>\n",
       "      <td>15087.188025</td>\n",
       "      <td>18371.143149</td>\n",
       "      <td>131.358205</td>\n",
       "    </tr>\n",
       "    <tr>\n",
       "      <th>2</th>\n",
       "      <td>5000.00</td>\n",
       "      <td>1373.851799</td>\n",
       "      <td>1.770045</td>\n",
       "      <td>8850.225213</td>\n",
       "      <td>10224.077012</td>\n",
       "      <td>54.954072</td>\n",
       "    </tr>\n",
       "    <tr>\n",
       "      <th>3</th>\n",
       "      <td>2500.00</td>\n",
       "      <td>580.052974</td>\n",
       "      <td>1.988480</td>\n",
       "      <td>4971.200876</td>\n",
       "      <td>5551.253850</td>\n",
       "      <td>23.202119</td>\n",
       "    </tr>\n",
       "    <tr>\n",
       "      <th>4</th>\n",
       "      <td>1250.00</td>\n",
       "      <td>230.779314</td>\n",
       "      <td>2.180556</td>\n",
       "      <td>2725.695257</td>\n",
       "      <td>2956.474571</td>\n",
       "      <td>9.231173</td>\n",
       "    </tr>\n",
       "    <tr>\n",
       "      <th>5</th>\n",
       "      <td>625.00</td>\n",
       "      <td>87.019569</td>\n",
       "      <td>2.337612</td>\n",
       "      <td>1461.007338</td>\n",
       "      <td>1548.026907</td>\n",
       "      <td>3.480783</td>\n",
       "    </tr>\n",
       "    <tr>\n",
       "      <th>6</th>\n",
       "      <td>312.50</td>\n",
       "      <td>34.986938</td>\n",
       "      <td>2.450452</td>\n",
       "      <td>765.766163</td>\n",
       "      <td>800.753102</td>\n",
       "      <td>1.399478</td>\n",
       "    </tr>\n",
       "    <tr>\n",
       "      <th>7</th>\n",
       "      <td>156.25</td>\n",
       "      <td>18.339748</td>\n",
       "      <td>2.522215</td>\n",
       "      <td>394.096024</td>\n",
       "      <td>412.435773</td>\n",
       "      <td>0.733590</td>\n",
       "    </tr>\n",
       "  </tbody>\n",
       "</table>\n",
       "</div>"
      ],
      "text/plain": [
       "          beta          phi_d     phi_m  beta * phi_m            phi  \\\n",
       "iter                                                                   \n",
       "0     10000.00  135973.462849  0.000000      0.000000  135973.462849   \n",
       "1     10000.00    3283.955124  1.508719  15087.188025   18371.143149   \n",
       "2      5000.00    1373.851799  1.770045   8850.225213   10224.077012   \n",
       "3      2500.00     580.052974  1.988480   4971.200876    5551.253850   \n",
       "4      1250.00     230.779314  2.180556   2725.695257    2956.474571   \n",
       "5       625.00      87.019569  2.337612   1461.007338    1548.026907   \n",
       "6       312.50      34.986938  2.450452    765.766163     800.753102   \n",
       "7       156.25      18.339748  2.522215    394.096024     412.435773   \n",
       "\n",
       "              chi  \n",
       "iter               \n",
       "0     5438.938514  \n",
       "1      131.358205  \n",
       "2       54.954072  \n",
       "3       23.202119  \n",
       "4        9.231173  \n",
       "5        3.480783  \n",
       "6        1.399478  \n",
       "7        0.733590  "
      ]
     },
     "execution_count": 12,
     "metadata": {},
     "output_type": "execute_result"
    }
   ],
   "source": [
    "df = inversion.log.to_pandas()\n",
    "df"
   ]
  },
  {
   "cell_type": "markdown",
   "id": "e92d45af-a4a8-4417-ab7f-b49b4125eca8",
   "metadata": {},
   "source": [
    "## We can pass our own inversion log"
   ]
  },
  {
   "cell_type": "code",
   "execution_count": 13,
   "id": "b6e3ea36-dc6b-4aa1-99b8-31721937d933",
   "metadata": {
    "execution": {
     "iopub.execute_input": "2025-08-27T23:48:25.489369Z",
     "iopub.status.busy": "2025-08-27T23:48:25.489082Z",
     "iopub.status.idle": "2025-08-27T23:48:25.494164Z",
     "shell.execute_reply": "2025-08-27T23:48:25.493366Z",
     "shell.execute_reply.started": "2025-08-27T23:48:25.489339Z"
    }
   },
   "outputs": [],
   "source": [
    "# Objective function\n",
    "beta_0 = 1e4\n",
    "regularization = beta_0 * smallness\n",
    "phi = data_misfit + regularization\n",
    "\n",
    "# Initial model\n",
    "initial_model = np.zeros(n_params)\n",
    "\n",
    "# Minimizer\n",
    "minimizer = ConjugateGradient()\n",
    "\n",
    "# Directives\n",
    "beta_cooler = MultiplierCooler(regularization, cooling_factor=2.0)\n",
    "\n",
    "# Stopping criteria\n",
    "chi_target = 1.0\n",
    "stopping_criteria = ChiTarget(data_misfit, chi_target=chi_target)"
   ]
  },
  {
   "cell_type": "code",
   "execution_count": 14,
   "id": "602f9863-9ff2-4015-9ee3-3777b1ab8063",
   "metadata": {
    "execution": {
     "iopub.execute_input": "2025-08-27T23:48:25.495144Z",
     "iopub.status.busy": "2025-08-27T23:48:25.494887Z",
     "iopub.status.idle": "2025-08-27T23:48:25.501425Z",
     "shell.execute_reply": "2025-08-27T23:48:25.500508Z",
     "shell.execute_reply.started": "2025-08-27T23:48:25.495122Z"
    }
   },
   "outputs": [
    {
     "data": {
      "text/plain": [
       "<inversion_ideas.inversion_log.InversionLogRich at 0x7f89228f0a50>"
      ]
     },
     "execution_count": 14,
     "metadata": {},
     "output_type": "execute_result"
    }
   ],
   "source": [
    "# Define inversion log\n",
    "columns = {\n",
    "    \"iter\": lambda iteration, _: iteration,\n",
    "    \"beta\": lambda i, _: regularization.multiplier,\n",
    "    \"phi_d\": lambda i, model: data_misfit(model),\n",
    "    \"phi_m\": lambda i, model: regularization.function(model),\n",
    "    \"beta * phi_m\": lambda i, model: regularization(model),\n",
    "    \"phi\": lambda i, model: phi(model),\n",
    "    \"chi\": lambda i, model: data_misfit(model) / data_misfit.n_data,\n",
    "    \"chi_target\": lambda i, model: chi_target,\n",
    "    \"chi_target met?\": lambda i, model: stopping_criteria(model),\n",
    "}\n",
    "inversion_log = InversionLogRich(columns)\n",
    "inversion_log"
   ]
  },
  {
   "cell_type": "code",
   "execution_count": 15,
   "id": "cf72d7ed-3565-466f-b13a-40a5d359eb9c",
   "metadata": {
    "execution": {
     "iopub.execute_input": "2025-08-27T23:48:25.502604Z",
     "iopub.status.busy": "2025-08-27T23:48:25.502302Z",
     "iopub.status.idle": "2025-08-27T23:48:25.506465Z",
     "shell.execute_reply": "2025-08-27T23:48:25.505750Z",
     "shell.execute_reply.started": "2025-08-27T23:48:25.502573Z"
    }
   },
   "outputs": [],
   "source": [
    "inversion = Inversion(\n",
    "    phi,\n",
    "    initial_model,\n",
    "    minimizer,\n",
    "    directives=[beta_cooler],\n",
    "    stopping_criteria=stopping_criteria,\n",
    "    cache_models=True,\n",
    "    log=inversion_log,\n",
    ")"
   ]
  },
  {
   "cell_type": "code",
   "execution_count": 16,
   "id": "bfc21fd7-d5db-4fcc-96a8-6906da6b3266",
   "metadata": {
    "execution": {
     "iopub.execute_input": "2025-08-27T23:48:25.507381Z",
     "iopub.status.busy": "2025-08-27T23:48:25.507160Z",
     "iopub.status.idle": "2025-08-27T23:48:29.735119Z",
     "shell.execute_reply": "2025-08-27T23:48:29.734299Z",
     "shell.execute_reply.started": "2025-08-27T23:48:25.507360Z"
    }
   },
   "outputs": [
    {
     "data": {
      "application/vnd.jupyter.widget-view+json": {
       "model_id": "05aa729c635a463ab24e160631db18bf",
       "version_major": 2,
       "version_minor": 0
      },
      "text/plain": [
       "Output()"
      ]
     },
     "metadata": {},
     "output_type": "display_data"
    },
    {
     "name": "stderr",
     "output_type": "stream",
     "text": [
      "INFO: 🎉 Inversion successfully finished due to stopping criteria.\n"
     ]
    },
    {
     "data": {
      "text/html": [
       "<pre style=\"white-space:pre;overflow-x:auto;line-height:normal;font-family:Menlo,'DejaVu Sans Mono',consolas,'Courier New',monospace\"></pre>\n"
      ],
      "text/plain": []
     },
     "metadata": {},
     "output_type": "display_data"
    }
   ],
   "source": [
    "model = inversion.run()"
   ]
  },
  {
   "cell_type": "code",
   "execution_count": 17,
   "id": "46ac6b85-67e4-4893-a08f-4e22b2c92f17",
   "metadata": {
    "execution": {
     "iopub.execute_input": "2025-08-27T23:48:29.736090Z",
     "iopub.status.busy": "2025-08-27T23:48:29.735835Z",
     "iopub.status.idle": "2025-08-27T23:48:29.750514Z",
     "shell.execute_reply": "2025-08-27T23:48:29.749646Z",
     "shell.execute_reply.started": "2025-08-27T23:48:29.736065Z"
    }
   },
   "outputs": [
    {
     "data": {
      "text/html": [
       "<pre style=\"white-space:pre;overflow-x:auto;line-height:normal;font-family:Menlo,'DejaVu Sans Mono',consolas,'Courier New',monospace\">┏━━━━━━┳━━━━━━━━━━┳━━━━━━━━━━┳━━━━━━━━━━┳━━━━━━━━━━━━━━┳━━━━━━━━━━┳━━━━━━━━━━┳━━━━━━━━━━━━┳━━━━━━━━━━━━━━━━━┓\n",
       "┃<span style=\"font-weight: bold\"> iter </span>┃<span style=\"font-weight: bold\"> beta     </span>┃<span style=\"font-weight: bold\"> phi_d    </span>┃<span style=\"font-weight: bold\"> phi_m    </span>┃<span style=\"font-weight: bold\"> beta * phi_m </span>┃<span style=\"font-weight: bold\"> phi      </span>┃<span style=\"font-weight: bold\"> chi      </span>┃<span style=\"font-weight: bold\"> chi_target </span>┃<span style=\"font-weight: bold\"> chi_target met? </span>┃\n",
       "┡━━━━━━╇━━━━━━━━━━╇━━━━━━━━━━╇━━━━━━━━━━╇━━━━━━━━━━━━━━╇━━━━━━━━━━╇━━━━━━━━━━╇━━━━━━━━━━━━╇━━━━━━━━━━━━━━━━━┩\n",
       "│ 0    │ 1.00e+04 │ 1.36e+05 │ 0.00e+00 │ 0.00e+00     │ 1.36e+05 │ 5.44e+03 │ 1.00e+00   │ False           │\n",
       "│ 1    │ 1.00e+04 │ 3.28e+03 │ 1.51e+00 │ 1.51e+04     │ 1.84e+04 │ 1.31e+02 │ 1.00e+00   │ False           │\n",
       "│ 2    │ 5.00e+03 │ 1.37e+03 │ 1.77e+00 │ 8.85e+03     │ 1.02e+04 │ 5.50e+01 │ 1.00e+00   │ False           │\n",
       "│ 3    │ 2.50e+03 │ 5.80e+02 │ 1.99e+00 │ 4.97e+03     │ 5.55e+03 │ 2.32e+01 │ 1.00e+00   │ False           │\n",
       "│ 4    │ 1.25e+03 │ 2.31e+02 │ 2.18e+00 │ 2.73e+03     │ 2.96e+03 │ 9.23e+00 │ 1.00e+00   │ False           │\n",
       "│ 5    │ 6.25e+02 │ 8.70e+01 │ 2.34e+00 │ 1.46e+03     │ 1.55e+03 │ 3.48e+00 │ 1.00e+00   │ False           │\n",
       "│ 6    │ 3.12e+02 │ 3.50e+01 │ 2.45e+00 │ 7.66e+02     │ 8.01e+02 │ 1.40e+00 │ 1.00e+00   │ False           │\n",
       "│ 7    │ 1.56e+02 │ 1.83e+01 │ 2.52e+00 │ 3.94e+02     │ 4.12e+02 │ 7.34e-01 │ 1.00e+00   │ True            │\n",
       "└──────┴──────────┴──────────┴──────────┴──────────────┴──────────┴──────────┴────────────┴─────────────────┘\n",
       "</pre>\n"
      ],
      "text/plain": [
       "┏━━━━━━┳━━━━━━━━━━┳━━━━━━━━━━┳━━━━━━━━━━┳━━━━━━━━━━━━━━┳━━━━━━━━━━┳━━━━━━━━━━┳━━━━━━━━━━━━┳━━━━━━━━━━━━━━━━━┓\n",
       "┃\u001b[1m \u001b[0m\u001b[1miter\u001b[0m\u001b[1m \u001b[0m┃\u001b[1m \u001b[0m\u001b[1mbeta    \u001b[0m\u001b[1m \u001b[0m┃\u001b[1m \u001b[0m\u001b[1mphi_d   \u001b[0m\u001b[1m \u001b[0m┃\u001b[1m \u001b[0m\u001b[1mphi_m   \u001b[0m\u001b[1m \u001b[0m┃\u001b[1m \u001b[0m\u001b[1mbeta * phi_m\u001b[0m\u001b[1m \u001b[0m┃\u001b[1m \u001b[0m\u001b[1mphi     \u001b[0m\u001b[1m \u001b[0m┃\u001b[1m \u001b[0m\u001b[1mchi     \u001b[0m\u001b[1m \u001b[0m┃\u001b[1m \u001b[0m\u001b[1mchi_target\u001b[0m\u001b[1m \u001b[0m┃\u001b[1m \u001b[0m\u001b[1mchi_target met?\u001b[0m\u001b[1m \u001b[0m┃\n",
       "┡━━━━━━╇━━━━━━━━━━╇━━━━━━━━━━╇━━━━━━━━━━╇━━━━━━━━━━━━━━╇━━━━━━━━━━╇━━━━━━━━━━╇━━━━━━━━━━━━╇━━━━━━━━━━━━━━━━━┩\n",
       "│ 0    │ 1.00e+04 │ 1.36e+05 │ 0.00e+00 │ 0.00e+00     │ 1.36e+05 │ 5.44e+03 │ 1.00e+00   │ False           │\n",
       "│ 1    │ 1.00e+04 │ 3.28e+03 │ 1.51e+00 │ 1.51e+04     │ 1.84e+04 │ 1.31e+02 │ 1.00e+00   │ False           │\n",
       "│ 2    │ 5.00e+03 │ 1.37e+03 │ 1.77e+00 │ 8.85e+03     │ 1.02e+04 │ 5.50e+01 │ 1.00e+00   │ False           │\n",
       "│ 3    │ 2.50e+03 │ 5.80e+02 │ 1.99e+00 │ 4.97e+03     │ 5.55e+03 │ 2.32e+01 │ 1.00e+00   │ False           │\n",
       "│ 4    │ 1.25e+03 │ 2.31e+02 │ 2.18e+00 │ 2.73e+03     │ 2.96e+03 │ 9.23e+00 │ 1.00e+00   │ False           │\n",
       "│ 5    │ 6.25e+02 │ 8.70e+01 │ 2.34e+00 │ 1.46e+03     │ 1.55e+03 │ 3.48e+00 │ 1.00e+00   │ False           │\n",
       "│ 6    │ 3.12e+02 │ 3.50e+01 │ 2.45e+00 │ 7.66e+02     │ 8.01e+02 │ 1.40e+00 │ 1.00e+00   │ False           │\n",
       "│ 7    │ 1.56e+02 │ 1.83e+01 │ 2.52e+00 │ 3.94e+02     │ 4.12e+02 │ 7.34e-01 │ 1.00e+00   │ True            │\n",
       "└──────┴──────────┴──────────┴──────────┴──────────────┴──────────┴──────────┴────────────┴─────────────────┘\n"
      ]
     },
     "execution_count": 17,
     "metadata": {},
     "output_type": "execute_result"
    }
   ],
   "source": [
    "inversion.log.table"
   ]
  }
 ],
 "metadata": {
  "kernelspec": {
   "display_name": "Python [conda env:inversion_ideas]",
   "language": "python",
   "name": "conda-env-inversion_ideas-py"
  },
  "language_info": {
   "codemirror_mode": {
    "name": "ipython",
    "version": 3
   },
   "file_extension": ".py",
   "mimetype": "text/x-python",
   "name": "python",
   "nbconvert_exporter": "python",
   "pygments_lexer": "ipython3",
   "version": "3.13.5"
  },
  "widgets": {
   "application/vnd.jupyter.widget-state+json": {
    "state": {
     "042760de5e0e4e2fa0fe7502469a801e": {
      "model_module": "@jupyter-widgets/output",
      "model_module_version": "1.0.0",
      "model_name": "OutputModel",
      "state": {
       "_dom_classes": [],
       "_model_module": "@jupyter-widgets/output",
       "_model_module_version": "1.0.0",
       "_model_name": "OutputModel",
       "_view_count": null,
       "_view_module": "@jupyter-widgets/output",
       "_view_module_version": "1.0.0",
       "_view_name": "OutputView",
       "layout": "IPY_MODEL_a9f913bc87644f538b4f00b6b32c061d",
       "msg_id": "",
       "outputs": [
        {
         "data": {
          "text/html": "<pre style=\"white-space:pre;overflow-x:auto;line-height:normal;font-family:Menlo,'DejaVu Sans Mono',consolas,'Courier New',monospace\">┏━━━━━━┳━━━━━━━━━━┳━━━━━━━━━━┳━━━━━━━━━━┳━━━━━━━━━━┳━━━━━━━━━━┳━━━━━━━━━━┓\n┃<span style=\"font-weight: bold\"> iter </span>┃<span style=\"font-weight: bold\"> β        </span>┃<span style=\"font-weight: bold\"> φ_d      </span>┃<span style=\"font-weight: bold\"> φ_m      </span>┃<span style=\"font-weight: bold\"> β φ_m    </span>┃<span style=\"font-weight: bold\"> φ        </span>┃<span style=\"font-weight: bold\"> χ        </span>┃\n┡━━━━━━╇━━━━━━━━━━╇━━━━━━━━━━╇━━━━━━━━━━╇━━━━━━━━━━╇━━━━━━━━━━╇━━━━━━━━━━┩\n│ 0    │ 1.00e+04 │ 1.36e+05 │ 0.00e+00 │ 0.00e+00 │ 1.36e+05 │ 5.44e+03 │\n│ 1    │ 1.00e+04 │ 3.28e+03 │ 1.51e+00 │ 1.51e+04 │ 1.84e+04 │ 1.31e+02 │\n│ 2    │ 5.00e+03 │ 1.37e+03 │ 1.77e+00 │ 8.85e+03 │ 1.02e+04 │ 5.50e+01 │\n│ 3    │ 2.50e+03 │ 5.80e+02 │ 1.99e+00 │ 4.97e+03 │ 5.55e+03 │ 2.32e+01 │\n│ 4    │ 1.25e+03 │ 2.31e+02 │ 2.18e+00 │ 2.73e+03 │ 2.96e+03 │ 9.23e+00 │\n│ 5    │ 6.25e+02 │ 8.70e+01 │ 2.34e+00 │ 1.46e+03 │ 1.55e+03 │ 3.48e+00 │\n│ 6    │ 3.12e+02 │ 3.50e+01 │ 2.45e+00 │ 7.66e+02 │ 8.01e+02 │ 1.40e+00 │\n│ 7    │ 1.56e+02 │ 1.83e+01 │ 2.52e+00 │ 3.94e+02 │ 4.12e+02 │ 7.34e-01 │\n└──────┴──────────┴──────────┴──────────┴──────────┴──────────┴──────────┘\n</pre>\n",
          "text/plain": "┏━━━━━━┳━━━━━━━━━━┳━━━━━━━━━━┳━━━━━━━━━━┳━━━━━━━━━━┳━━━━━━━━━━┳━━━━━━━━━━┓\n┃\u001b[1m \u001b[0m\u001b[1miter\u001b[0m\u001b[1m \u001b[0m┃\u001b[1m \u001b[0m\u001b[1mβ       \u001b[0m\u001b[1m \u001b[0m┃\u001b[1m \u001b[0m\u001b[1mφ_d     \u001b[0m\u001b[1m \u001b[0m┃\u001b[1m \u001b[0m\u001b[1mφ_m     \u001b[0m\u001b[1m \u001b[0m┃\u001b[1m \u001b[0m\u001b[1mβ φ_m   \u001b[0m\u001b[1m \u001b[0m┃\u001b[1m \u001b[0m\u001b[1mφ       \u001b[0m\u001b[1m \u001b[0m┃\u001b[1m \u001b[0m\u001b[1mχ       \u001b[0m\u001b[1m \u001b[0m┃\n┡━━━━━━╇━━━━━━━━━━╇━━━━━━━━━━╇━━━━━━━━━━╇━━━━━━━━━━╇━━━━━━━━━━╇━━━━━━━━━━┩\n│ 0    │ 1.00e+04 │ 1.36e+05 │ 0.00e+00 │ 0.00e+00 │ 1.36e+05 │ 5.44e+03 │\n│ 1    │ 1.00e+04 │ 3.28e+03 │ 1.51e+00 │ 1.51e+04 │ 1.84e+04 │ 1.31e+02 │\n│ 2    │ 5.00e+03 │ 1.37e+03 │ 1.77e+00 │ 8.85e+03 │ 1.02e+04 │ 5.50e+01 │\n│ 3    │ 2.50e+03 │ 5.80e+02 │ 1.99e+00 │ 4.97e+03 │ 5.55e+03 │ 2.32e+01 │\n│ 4    │ 1.25e+03 │ 2.31e+02 │ 2.18e+00 │ 2.73e+03 │ 2.96e+03 │ 9.23e+00 │\n│ 5    │ 6.25e+02 │ 8.70e+01 │ 2.34e+00 │ 1.46e+03 │ 1.55e+03 │ 3.48e+00 │\n│ 6    │ 3.12e+02 │ 3.50e+01 │ 2.45e+00 │ 7.66e+02 │ 8.01e+02 │ 1.40e+00 │\n│ 7    │ 1.56e+02 │ 1.83e+01 │ 2.52e+00 │ 3.94e+02 │ 4.12e+02 │ 7.34e-01 │\n└──────┴──────────┴──────────┴──────────┴──────────┴──────────┴──────────┘\n"
         },
         "metadata": {},
         "output_type": "display_data"
        }
       ],
       "tabbable": null,
       "tooltip": null
      }
     },
     "7e2173b8a1e74c9f9bdca44fee6c1f32": {
      "model_module": "@jupyter-widgets/base",
      "model_module_version": "2.0.0",
      "model_name": "LayoutModel",
      "state": {
       "_model_module": "@jupyter-widgets/base",
       "_model_module_version": "2.0.0",
       "_model_name": "LayoutModel",
       "_view_count": null,
       "_view_module": "@jupyter-widgets/base",
       "_view_module_version": "2.0.0",
       "_view_name": "LayoutView",
       "align_content": null,
       "align_items": null,
       "align_self": null,
       "border_bottom": null,
       "border_left": null,
       "border_right": null,
       "border_top": null,
       "bottom": null,
       "display": null,
       "flex": null,
       "flex_flow": null,
       "grid_area": null,
       "grid_auto_columns": null,
       "grid_auto_flow": null,
       "grid_auto_rows": null,
       "grid_column": null,
       "grid_gap": null,
       "grid_row": null,
       "grid_template_areas": null,
       "grid_template_columns": null,
       "grid_template_rows": null,
       "height": null,
       "justify_content": null,
       "justify_items": null,
       "left": null,
       "margin": null,
       "max_height": null,
       "max_width": null,
       "min_height": null,
       "min_width": null,
       "object_fit": null,
       "object_position": null,
       "order": null,
       "overflow": null,
       "padding": null,
       "right": null,
       "top": null,
       "visibility": null,
       "width": null
      }
     },
     "a9f913bc87644f538b4f00b6b32c061d": {
      "model_module": "@jupyter-widgets/base",
      "model_module_version": "2.0.0",
      "model_name": "LayoutModel",
      "state": {
       "_model_module": "@jupyter-widgets/base",
       "_model_module_version": "2.0.0",
       "_model_name": "LayoutModel",
       "_view_count": null,
       "_view_module": "@jupyter-widgets/base",
       "_view_module_version": "2.0.0",
       "_view_name": "LayoutView",
       "align_content": null,
       "align_items": null,
       "align_self": null,
       "border_bottom": null,
       "border_left": null,
       "border_right": null,
       "border_top": null,
       "bottom": null,
       "display": null,
       "flex": null,
       "flex_flow": null,
       "grid_area": null,
       "grid_auto_columns": null,
       "grid_auto_flow": null,
       "grid_auto_rows": null,
       "grid_column": null,
       "grid_gap": null,
       "grid_row": null,
       "grid_template_areas": null,
       "grid_template_columns": null,
       "grid_template_rows": null,
       "height": null,
       "justify_content": null,
       "justify_items": null,
       "left": null,
       "margin": null,
       "max_height": null,
       "max_width": null,
       "min_height": null,
       "min_width": null,
       "object_fit": null,
       "object_position": null,
       "order": null,
       "overflow": null,
       "padding": null,
       "right": null,
       "top": null,
       "visibility": null,
       "width": null
      }
     },
     "d682cac69d434602861d3a79bb4e3731": {
      "model_module": "@jupyter-widgets/output",
      "model_module_version": "1.0.0",
      "model_name": "OutputModel",
      "state": {
       "_dom_classes": [],
       "_model_module": "@jupyter-widgets/output",
       "_model_module_version": "1.0.0",
       "_model_name": "OutputModel",
       "_view_count": null,
       "_view_module": "@jupyter-widgets/output",
       "_view_module_version": "1.0.0",
       "_view_name": "OutputView",
       "layout": "IPY_MODEL_7e2173b8a1e74c9f9bdca44fee6c1f32",
       "msg_id": "",
       "outputs": [
        {
         "data": {
          "text/html": "<pre style=\"white-space:pre;overflow-x:auto;line-height:normal;font-family:Menlo,'DejaVu Sans Mono',consolas,'Courier New',monospace\">┏━━━━━━┳━━━━━━━━━━┳━━━━━━━━━━┳━━━━━━━━━━┳━━━━━━━━━━━━━━┳━━━━━━━━━━┳━━━━━━━━━━┳━━━━━━━━━━━━┳━━━━━━━━━━━━━━━━━┓\n┃<span style=\"font-weight: bold\"> iter </span>┃<span style=\"font-weight: bold\"> beta     </span>┃<span style=\"font-weight: bold\"> phi_d    </span>┃<span style=\"font-weight: bold\"> phi_m    </span>┃<span style=\"font-weight: bold\"> beta * phi_m </span>┃<span style=\"font-weight: bold\"> phi      </span>┃<span style=\"font-weight: bold\"> chi      </span>┃<span style=\"font-weight: bold\"> chi_target </span>┃<span style=\"font-weight: bold\"> chi_target met? </span>┃\n┡━━━━━━╇━━━━━━━━━━╇━━━━━━━━━━╇━━━━━━━━━━╇━━━━━━━━━━━━━━╇━━━━━━━━━━╇━━━━━━━━━━╇━━━━━━━━━━━━╇━━━━━━━━━━━━━━━━━┩\n│ 0    │ 1.00e+04 │ 1.36e+05 │ 0.00e+00 │ 0.00e+00     │ 1.36e+05 │ 5.44e+03 │ 1.00e+00   │ 0               │\n│ 1    │ 1.00e+04 │ 3.28e+03 │ 1.51e+00 │ 1.51e+04     │ 1.84e+04 │ 1.31e+02 │ 1.00e+00   │ 0               │\n│ 2    │ 5.00e+03 │ 1.37e+03 │ 1.77e+00 │ 8.85e+03     │ 1.02e+04 │ 5.50e+01 │ 1.00e+00   │ 0               │\n│ 3    │ 2.50e+03 │ 5.80e+02 │ 1.99e+00 │ 4.97e+03     │ 5.55e+03 │ 2.32e+01 │ 1.00e+00   │ 0               │\n│ 4    │ 1.25e+03 │ 2.31e+02 │ 2.18e+00 │ 2.73e+03     │ 2.96e+03 │ 9.23e+00 │ 1.00e+00   │ 0               │\n│ 5    │ 6.25e+02 │ 8.70e+01 │ 2.34e+00 │ 1.46e+03     │ 1.55e+03 │ 3.48e+00 │ 1.00e+00   │ 0               │\n│ 6    │ 3.12e+02 │ 3.50e+01 │ 2.45e+00 │ 7.66e+02     │ 8.01e+02 │ 1.40e+00 │ 1.00e+00   │ 0               │\n│ 7    │ 1.56e+02 │ 1.83e+01 │ 2.52e+00 │ 3.94e+02     │ 4.12e+02 │ 7.34e-01 │ 1.00e+00   │ 1               │\n└──────┴──────────┴──────────┴──────────┴──────────────┴──────────┴──────────┴────────────┴─────────────────┘\n</pre>\n",
          "text/plain": "┏━━━━━━┳━━━━━━━━━━┳━━━━━━━━━━┳━━━━━━━━━━┳━━━━━━━━━━━━━━┳━━━━━━━━━━┳━━━━━━━━━━┳━━━━━━━━━━━━┳━━━━━━━━━━━━━━━━━┓\n┃\u001b[1m \u001b[0m\u001b[1miter\u001b[0m\u001b[1m \u001b[0m┃\u001b[1m \u001b[0m\u001b[1mbeta    \u001b[0m\u001b[1m \u001b[0m┃\u001b[1m \u001b[0m\u001b[1mphi_d   \u001b[0m\u001b[1m \u001b[0m┃\u001b[1m \u001b[0m\u001b[1mphi_m   \u001b[0m\u001b[1m \u001b[0m┃\u001b[1m \u001b[0m\u001b[1mbeta * phi_m\u001b[0m\u001b[1m \u001b[0m┃\u001b[1m \u001b[0m\u001b[1mphi     \u001b[0m\u001b[1m \u001b[0m┃\u001b[1m \u001b[0m\u001b[1mchi     \u001b[0m\u001b[1m \u001b[0m┃\u001b[1m \u001b[0m\u001b[1mchi_target\u001b[0m\u001b[1m \u001b[0m┃\u001b[1m \u001b[0m\u001b[1mchi_target met?\u001b[0m\u001b[1m \u001b[0m┃\n┡━━━━━━╇━━━━━━━━━━╇━━━━━━━━━━╇━━━━━━━━━━╇━━━━━━━━━━━━━━╇━━━━━━━━━━╇━━━━━━━━━━╇━━━━━━━━━━━━╇━━━━━━━━━━━━━━━━━┩\n│ 0    │ 1.00e+04 │ 1.36e+05 │ 0.00e+00 │ 0.00e+00     │ 1.36e+05 │ 5.44e+03 │ 1.00e+00   │ 0               │\n│ 1    │ 1.00e+04 │ 3.28e+03 │ 1.51e+00 │ 1.51e+04     │ 1.84e+04 │ 1.31e+02 │ 1.00e+00   │ 0               │\n│ 2    │ 5.00e+03 │ 1.37e+03 │ 1.77e+00 │ 8.85e+03     │ 1.02e+04 │ 5.50e+01 │ 1.00e+00   │ 0               │\n│ 3    │ 2.50e+03 │ 5.80e+02 │ 1.99e+00 │ 4.97e+03     │ 5.55e+03 │ 2.32e+01 │ 1.00e+00   │ 0               │\n│ 4    │ 1.25e+03 │ 2.31e+02 │ 2.18e+00 │ 2.73e+03     │ 2.96e+03 │ 9.23e+00 │ 1.00e+00   │ 0               │\n│ 5    │ 6.25e+02 │ 8.70e+01 │ 2.34e+00 │ 1.46e+03     │ 1.55e+03 │ 3.48e+00 │ 1.00e+00   │ 0               │\n│ 6    │ 3.12e+02 │ 3.50e+01 │ 2.45e+00 │ 7.66e+02     │ 8.01e+02 │ 1.40e+00 │ 1.00e+00   │ 0               │\n│ 7    │ 1.56e+02 │ 1.83e+01 │ 2.52e+00 │ 3.94e+02     │ 4.12e+02 │ 7.34e-01 │ 1.00e+00   │ 1               │\n└──────┴──────────┴──────────┴──────────┴──────────────┴──────────┴──────────┴────────────┴─────────────────┘\n"
         },
         "metadata": {},
         "output_type": "display_data"
        }
       ],
       "tabbable": null,
       "tooltip": null
      }
     }
    },
    "version_major": 2,
    "version_minor": 0
   }
  }
 },
 "nbformat": 4,
 "nbformat_minor": 5
}
