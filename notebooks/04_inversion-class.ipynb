{
 "cells": [
  {
   "cell_type": "markdown",
   "id": "85150015-06c0-42d9-a83a-5c3a29898e8f",
   "metadata": {},
   "source": [
    "# Experiment with the `Inversion` class"
   ]
  },
  {
   "cell_type": "code",
   "execution_count": 1,
   "id": "eb4145ad-9d6a-411f-aa2e-7ab211a1f737",
   "metadata": {
    "execution": {
     "iopub.execute_input": "2025-07-30T21:09:53.313687Z",
     "iopub.status.busy": "2025-07-30T21:09:53.313341Z",
     "iopub.status.idle": "2025-07-30T21:09:53.582241Z",
     "shell.execute_reply": "2025-07-30T21:09:53.581584Z",
     "shell.execute_reply.started": "2025-07-30T21:09:53.313642Z"
    }
   },
   "outputs": [],
   "source": [
    "import numpy as np\n",
    "\n",
    "from inversion_ideas import (\n",
    "    DataMisfit,\n",
    "    TikhonovZero,\n",
    "    ConjugateGradient,\n",
    "    Inversion,\n",
    "    MultiplierCooler,\n",
    "    InversionLog,\n",
    "    ChiTarget,\n",
    "    create_inversion,\n",
    ")\n",
    "\n",
    "from regressor import LinearRegressor"
   ]
  },
  {
   "cell_type": "markdown",
   "id": "2ce27740-8208-455d-8868-94c3ba71d3ab",
   "metadata": {},
   "source": [
    "## Create a true model and synthetic data for a linear regressor"
   ]
  },
  {
   "cell_type": "code",
   "execution_count": 2,
   "id": "22f226e2-d715-49e8-b357-38e71d78bcdc",
   "metadata": {
    "execution": {
     "iopub.execute_input": "2025-07-30T21:09:53.583007Z",
     "iopub.status.busy": "2025-07-30T21:09:53.582744Z",
     "iopub.status.idle": "2025-07-30T21:09:53.589361Z",
     "shell.execute_reply": "2025-07-30T21:09:53.588730Z",
     "shell.execute_reply.started": "2025-07-30T21:09:53.582989Z"
    }
   },
   "outputs": [
    {
     "data": {
      "text/plain": [
       "array([0.78225148, 0.67148671, 0.2373809 , 0.17946133, 0.34662367,\n",
       "       0.15210999, 0.31142952, 0.23900652, 0.54355731, 0.91770851])"
      ]
     },
     "execution_count": 2,
     "metadata": {},
     "output_type": "execute_result"
    }
   ],
   "source": [
    "n_params = 10\n",
    "rng = np.random.default_rng(seed=4242)\n",
    "true_model = rng.uniform(size=10)\n",
    "true_model"
   ]
  },
  {
   "cell_type": "code",
   "execution_count": 3,
   "id": "0e39a2d1-d26e-4ee2-8f9f-f3b33f1ac124",
   "metadata": {
    "execution": {
     "iopub.execute_input": "2025-07-30T21:09:53.590128Z",
     "iopub.status.busy": "2025-07-30T21:09:53.589944Z",
     "iopub.status.idle": "2025-07-30T21:09:53.595113Z",
     "shell.execute_reply": "2025-07-30T21:09:53.594499Z",
     "shell.execute_reply.started": "2025-07-30T21:09:53.590111Z"
    }
   },
   "outputs": [],
   "source": [
    "# Build the X array\n",
    "n_data = 25\n",
    "shape = (n_data, n_params)\n",
    "X = rng.uniform(size=n_data * n_params).reshape(shape)"
   ]
  },
  {
   "cell_type": "code",
   "execution_count": 4,
   "id": "8f052ed5-3a2b-4f32-8b44-8a86ea278960",
   "metadata": {
    "execution": {
     "iopub.execute_input": "2025-07-30T21:09:53.596016Z",
     "iopub.status.busy": "2025-07-30T21:09:53.595808Z",
     "iopub.status.idle": "2025-07-30T21:09:53.601468Z",
     "shell.execute_reply": "2025-07-30T21:09:53.601018Z",
     "shell.execute_reply.started": "2025-07-30T21:09:53.595988Z"
    }
   },
   "outputs": [
    {
     "data": {
      "text/plain": [
       "array([2.83840696, 2.18091081, 2.00623242, 2.08333039, 2.01694883,\n",
       "       2.7826232 , 2.10564027, 1.27333506, 2.08859855, 1.94177648,\n",
       "       1.88492037, 2.92394733, 2.17231952, 3.08009275, 1.61670886,\n",
       "       1.77403753, 2.67305005, 1.91413882, 2.42117827, 2.13991628,\n",
       "       2.0153805 , 2.71388471, 2.65944255, 2.44416121, 3.14217523])"
      ]
     },
     "execution_count": 4,
     "metadata": {},
     "output_type": "execute_result"
    }
   ],
   "source": [
    "synthetic_data = X @ true_model\n",
    "maxabs = np.max(np.abs(synthetic_data))\n",
    "noise = rng.normal(scale=1e-2 * maxabs, size=synthetic_data.size)\n",
    "synthetic_data += noise\n",
    "synthetic_data"
   ]
  },
  {
   "cell_type": "markdown",
   "id": "e92d45af-a4a8-4417-ab7f-b49b4125eca8",
   "metadata": {},
   "source": [
    "## Inversion"
   ]
  },
  {
   "cell_type": "code",
   "execution_count": 5,
   "id": "ae80cc54-96f9-4a85-ad1f-9dce5dc38870",
   "metadata": {
    "execution": {
     "iopub.execute_input": "2025-07-30T21:09:53.602398Z",
     "iopub.status.busy": "2025-07-30T21:09:53.602132Z",
     "iopub.status.idle": "2025-07-30T21:09:53.606382Z",
     "shell.execute_reply": "2025-07-30T21:09:53.605675Z",
     "shell.execute_reply.started": "2025-07-30T21:09:53.602371Z"
    }
   },
   "outputs": [],
   "source": [
    "uncertainty = 1e-2 * maxabs * np.ones_like(synthetic_data)\n",
    "simulation = LinearRegressor(X)\n",
    "data_misfit = DataMisfit(synthetic_data, uncertainty, simulation)"
   ]
  },
  {
   "cell_type": "code",
   "execution_count": 6,
   "id": "050b9c20-4b0a-49af-a900-1bb964588408",
   "metadata": {
    "execution": {
     "iopub.execute_input": "2025-07-30T21:09:53.608569Z",
     "iopub.status.busy": "2025-07-30T21:09:53.608337Z",
     "iopub.status.idle": "2025-07-30T21:09:53.611599Z",
     "shell.execute_reply": "2025-07-30T21:09:53.611015Z",
     "shell.execute_reply.started": "2025-07-30T21:09:53.608549Z"
    }
   },
   "outputs": [],
   "source": [
    "smallness = TikhonovZero(n_params)"
   ]
  },
  {
   "cell_type": "code",
   "execution_count": 7,
   "id": "b6e3ea36-dc6b-4aa1-99b8-31721937d933",
   "metadata": {
    "execution": {
     "iopub.execute_input": "2025-07-30T21:09:53.612676Z",
     "iopub.status.busy": "2025-07-30T21:09:53.612406Z",
     "iopub.status.idle": "2025-07-30T21:09:53.617013Z",
     "shell.execute_reply": "2025-07-30T21:09:53.616506Z",
     "shell.execute_reply.started": "2025-07-30T21:09:53.612650Z"
    }
   },
   "outputs": [],
   "source": [
    "# Objective function\n",
    "beta_0 = 1e4\n",
    "regularization = beta_0 * smallness\n",
    "phi = data_misfit + regularization\n",
    "\n",
    "# Initial model\n",
    "initial_model = np.zeros(n_params)\n",
    "\n",
    "# Minimizer\n",
    "minimizer = ConjugateGradient()\n",
    "\n",
    "# Directives\n",
    "directives = [\n",
    "    MultiplierCooler(regularization, cooling_factor=2.0),\n",
    "]\n",
    "\n",
    "# Stopping criteria\n",
    "chi_target = 0.1\n",
    "stopping_criteria = [\n",
    "    ChiTarget(data_misfit, chi_target=chi_target),\n",
    "]"
   ]
  },
  {
   "cell_type": "code",
   "execution_count": 8,
   "id": "602f9863-9ff2-4015-9ee3-3777b1ab8063",
   "metadata": {
    "execution": {
     "iopub.execute_input": "2025-07-30T21:09:53.617688Z",
     "iopub.status.busy": "2025-07-30T21:09:53.617518Z",
     "iopub.status.idle": "2025-07-30T21:09:53.624837Z",
     "shell.execute_reply": "2025-07-30T21:09:53.623989Z",
     "shell.execute_reply.started": "2025-07-30T21:09:53.617671Z"
    }
   },
   "outputs": [
    {
     "data": {
      "text/plain": [
       "<inversion_ideas.inversion.InversionLog at 0x7ff21b2bf0e0>"
      ]
     },
     "execution_count": 8,
     "metadata": {},
     "output_type": "execute_result"
    }
   ],
   "source": [
    "# Define inversion log\n",
    "columns = {\n",
    "    \"iter\": lambda iteration, _: iteration,\n",
    "    \"beta\": lambda i, _: regularization.multiplier,\n",
    "    \"phi_d\": lambda i, model: data_misfit(model),\n",
    "    \"phi_m\": lambda i, model: regularization.function(model),\n",
    "    \"beta * phi_m\": lambda i, model: regularization(model),\n",
    "    \"phi\": lambda i, model: phi(model),\n",
    "    \"chi\": lambda i, model: data_misfit(model) / data_misfit.n_data,\n",
    "    \"chi_target\": lambda i, model: chi_target,\n",
    "    \"chi_target met?\": lambda i, model: stopping_criteria[0](model),\n",
    "}\n",
    "inversion_log = InversionLog(columns)\n",
    "inversion_log"
   ]
  },
  {
   "cell_type": "code",
   "execution_count": 9,
   "id": "cf72d7ed-3565-466f-b13a-40a5d359eb9c",
   "metadata": {
    "execution": {
     "iopub.execute_input": "2025-07-30T21:09:53.625806Z",
     "iopub.status.busy": "2025-07-30T21:09:53.625545Z",
     "iopub.status.idle": "2025-07-30T21:09:53.629198Z",
     "shell.execute_reply": "2025-07-30T21:09:53.628393Z",
     "shell.execute_reply.started": "2025-07-30T21:09:53.625779Z"
    }
   },
   "outputs": [],
   "source": [
    "inversion = Inversion(\n",
    "    phi,\n",
    "    initial_model,\n",
    "    minimizer,\n",
    "    directives=directives,\n",
    "    stopping_criteria=stopping_criteria,\n",
    "    cache_models=True,\n",
    "    log=inversion_log,\n",
    ")"
   ]
  },
  {
   "cell_type": "code",
   "execution_count": 10,
   "id": "98fb47b4-8dd2-4909-ac2e-15803336d73d",
   "metadata": {
    "execution": {
     "iopub.execute_input": "2025-07-30T21:09:53.630621Z",
     "iopub.status.busy": "2025-07-30T21:09:53.629995Z",
     "iopub.status.idle": "2025-07-30T21:09:53.843900Z",
     "shell.execute_reply": "2025-07-30T21:09:53.843347Z",
     "shell.execute_reply.started": "2025-07-30T21:09:53.630591Z"
    }
   },
   "outputs": [
    {
     "data": {
      "application/vnd.jupyter.widget-view+json": {
       "model_id": "a0c4bcac491644bfa477fbad30cdd823",
       "version_major": 2,
       "version_minor": 0
      },
      "text/plain": [
       "Output()"
      ]
     },
     "metadata": {},
     "output_type": "display_data"
    },
    {
     "data": {
      "text/html": [
       "<pre style=\"white-space:pre;overflow-x:auto;line-height:normal;font-family:Menlo,'DejaVu Sans Mono',consolas,'Courier New',monospace\"></pre>\n"
      ],
      "text/plain": []
     },
     "metadata": {},
     "output_type": "display_data"
    },
    {
     "data": {
      "text/plain": [
       "array([0.76518717, 0.6188566 , 0.24764406, 0.19526216, 0.35131398,\n",
       "       0.19815276, 0.32923835, 0.27646319, 0.52978942, 0.86908808])"
      ]
     },
     "execution_count": 10,
     "metadata": {},
     "output_type": "execute_result"
    }
   ],
   "source": [
    "inversion.run()"
   ]
  },
  {
   "cell_type": "code",
   "execution_count": 11,
   "id": "c055371c-d884-4999-b454-f3a4ecb4b7aa",
   "metadata": {
    "execution": {
     "iopub.execute_input": "2025-07-30T21:09:53.844919Z",
     "iopub.status.busy": "2025-07-30T21:09:53.844640Z",
     "iopub.status.idle": "2025-07-30T21:09:53.852863Z",
     "shell.execute_reply": "2025-07-30T21:09:53.852090Z",
     "shell.execute_reply.started": "2025-07-30T21:09:53.844891Z"
    }
   },
   "outputs": [
    {
     "data": {
      "text/plain": [
       "[array([0., 0., 0., 0., 0., 0., 0., 0., 0., 0.]),\n",
       " array([0.07174391, 0.08166224, 0.07240393, 0.07703917, 0.07525462,\n",
       "        0.08184415, 0.07872014, 0.07599201, 0.08152992, 0.09089636]),\n",
       " array([0.12272358, 0.13881626, 0.12221181, 0.12958872, 0.1276455 ,\n",
       "        0.13812564, 0.13305127, 0.1283115 , 0.13878591, 0.15522723]),\n",
       " array([0.19138251, 0.21390537, 0.18574098, 0.19562915, 0.19585064,\n",
       "        0.20986641, 0.20275434, 0.19514885, 0.21441523, 0.24130635]),\n",
       " array([0.26929379, 0.29449301, 0.24905953, 0.25897566, 0.26736706,\n",
       "        0.28125271, 0.27332325, 0.26209185, 0.29646101, 0.33758253]),\n",
       " array([0.34751719, 0.36632983, 0.29516593, 0.2998452 , 0.3271845 ,\n",
       "        0.33291987, 0.32733705, 0.31176376, 0.3708746 , 0.43137687]),\n",
       " array([0.4252272 , 0.42458387, 0.31496551, 0.30773535, 0.36782439,\n",
       "        0.35423014, 0.35634832, 0.335552  , 0.43149642, 0.52004177]),\n",
       " array([0.50655047, 0.47343654, 0.31003452, 0.28628234, 0.38918978,\n",
       "        0.34564177, 0.36309911, 0.33620328, 0.47822531, 0.60771574]),\n",
       " array([0.59028089, 0.51786213, 0.29004398, 0.25083342, 0.39334167,\n",
       "        0.31476285, 0.35657259, 0.32320212, 0.51018418, 0.69384024]),\n",
       " array([0.66683529, 0.55847534, 0.26824525, 0.21961229, 0.38385285,\n",
       "        0.27279564, 0.34587894, 0.30612331, 0.52660725, 0.77029029]),\n",
       " array([0.72609463, 0.59284051, 0.25381959, 0.20178956, 0.36740502,\n",
       "        0.23126034, 0.33623045, 0.28995643, 0.53109795, 0.82923847]),\n",
       " array([0.76518717, 0.6188566 , 0.24764406, 0.19526216, 0.35131398,\n",
       "        0.19815276, 0.32923835, 0.27646319, 0.52978942, 0.86908808])]"
      ]
     },
     "execution_count": 11,
     "metadata": {},
     "output_type": "execute_result"
    }
   ],
   "source": [
    "inversion.models"
   ]
  },
  {
   "cell_type": "code",
   "execution_count": 12,
   "id": "46ac6b85-67e4-4893-a08f-4e22b2c92f17",
   "metadata": {
    "execution": {
     "iopub.execute_input": "2025-07-30T21:09:53.854137Z",
     "iopub.status.busy": "2025-07-30T21:09:53.853697Z",
     "iopub.status.idle": "2025-07-30T21:09:53.877581Z",
     "shell.execute_reply": "2025-07-30T21:09:53.876919Z",
     "shell.execute_reply.started": "2025-07-30T21:09:53.854105Z"
    }
   },
   "outputs": [
    {
     "data": {
      "text/html": [
       "<pre style=\"white-space:pre;overflow-x:auto;line-height:normal;font-family:Menlo,'DejaVu Sans Mono',consolas,'Courier New',monospace\">┏━━━━━━┳━━━━━━━━━━┳━━━━━━━━━━┳━━━━━━━━━━┳━━━━━━━━━━━━━━┳━━━━━━━━━━┳━━━━━━━━━━┳━━━━━━━━━━━━┳━━━━━━━━━━━━━━━━━┓\n",
       "┃<span style=\"font-weight: bold\"> iter </span>┃<span style=\"font-weight: bold\"> beta     </span>┃<span style=\"font-weight: bold\"> phi_d    </span>┃<span style=\"font-weight: bold\"> phi_m    </span>┃<span style=\"font-weight: bold\"> beta * phi_m </span>┃<span style=\"font-weight: bold\"> phi      </span>┃<span style=\"font-weight: bold\"> chi      </span>┃<span style=\"font-weight: bold\"> chi_target </span>┃<span style=\"font-weight: bold\"> chi_target met? </span>┃\n",
       "┡━━━━━━╇━━━━━━━━━━╇━━━━━━━━━━╇━━━━━━━━━━╇━━━━━━━━━━━━━━╇━━━━━━━━━━╇━━━━━━━━━━╇━━━━━━━━━━━━╇━━━━━━━━━━━━━━━━━┩\n",
       "│ 0    │ 1.00e+04 │ 4.28e+03 │ 0.00e+00 │ 0.00e+00     │ 4.28e+03 │ 1.71e+02 │ 1.00e-01   │ False           │\n",
       "│ 1    │ 1.00e+04 │ 2.90e+03 │ 6.22e-02 │ 6.22e+02     │ 3.52e+03 │ 1.16e+02 │ 1.00e-01   │ False           │\n",
       "│ 2    │ 5.00e+03 │ 2.10e+03 │ 1.79e-01 │ 8.95e+02     │ 3.00e+03 │ 8.40e+01 │ 1.00e-01   │ False           │\n",
       "│ 3    │ 2.50e+03 │ 1.26e+03 │ 4.21e-01 │ 1.05e+03     │ 2.31e+03 │ 5.03e+01 │ 1.00e-01   │ False           │\n",
       "│ 4    │ 1.25e+03 │ 6.11e+02 │ 7.84e-01 │ 9.80e+02     │ 1.59e+03 │ 2.45e+01 │ 1.00e-01   │ False           │\n",
       "│ 5    │ 6.25e+02 │ 2.55e+02 │ 1.18e+00 │ 7.36e+02     │ 9.91e+02 │ 1.02e+01 │ 1.00e-01   │ False           │\n",
       "│ 6    │ 3.12e+02 │ 1.02e+02 │ 1.51e+00 │ 4.72e+02     │ 5.75e+02 │ 4.10e+00 │ 1.00e-01   │ False           │\n",
       "│ 7    │ 1.56e+02 │ 4.29e+01 │ 1.77e+00 │ 2.77e+02     │ 3.20e+02 │ 1.71e+00 │ 1.00e-01   │ False           │\n",
       "│ 8    │ 7.81e+01 │ 1.81e+01 │ 1.99e+00 │ 1.56e+02     │ 1.74e+02 │ 7.24e-01 │ 1.00e-01   │ False           │\n",
       "│ 9    │ 3.91e+01 │ 7.19e+00 │ 2.18e+00 │ 8.53e+01     │ 9.24e+01 │ 2.88e-01 │ 1.00e-01   │ False           │\n",
       "│ 10   │ 1.95e+01 │ 2.71e+00 │ 2.34e+00 │ 4.57e+01     │ 4.84e+01 │ 1.08e-01 │ 1.00e-01   │ False           │\n",
       "│ 11   │ 9.77e+00 │ 1.09e+00 │ 2.45e+00 │ 2.39e+01     │ 2.50e+01 │ 4.37e-02 │ 1.00e-01   │ True            │\n",
       "└──────┴──────────┴──────────┴──────────┴──────────────┴──────────┴──────────┴────────────┴─────────────────┘\n",
       "</pre>\n"
      ],
      "text/plain": [
       "┏━━━━━━┳━━━━━━━━━━┳━━━━━━━━━━┳━━━━━━━━━━┳━━━━━━━━━━━━━━┳━━━━━━━━━━┳━━━━━━━━━━┳━━━━━━━━━━━━┳━━━━━━━━━━━━━━━━━┓\n",
       "┃\u001b[1m \u001b[0m\u001b[1miter\u001b[0m\u001b[1m \u001b[0m┃\u001b[1m \u001b[0m\u001b[1mbeta    \u001b[0m\u001b[1m \u001b[0m┃\u001b[1m \u001b[0m\u001b[1mphi_d   \u001b[0m\u001b[1m \u001b[0m┃\u001b[1m \u001b[0m\u001b[1mphi_m   \u001b[0m\u001b[1m \u001b[0m┃\u001b[1m \u001b[0m\u001b[1mbeta * phi_m\u001b[0m\u001b[1m \u001b[0m┃\u001b[1m \u001b[0m\u001b[1mphi     \u001b[0m\u001b[1m \u001b[0m┃\u001b[1m \u001b[0m\u001b[1mchi     \u001b[0m\u001b[1m \u001b[0m┃\u001b[1m \u001b[0m\u001b[1mchi_target\u001b[0m\u001b[1m \u001b[0m┃\u001b[1m \u001b[0m\u001b[1mchi_target met?\u001b[0m\u001b[1m \u001b[0m┃\n",
       "┡━━━━━━╇━━━━━━━━━━╇━━━━━━━━━━╇━━━━━━━━━━╇━━━━━━━━━━━━━━╇━━━━━━━━━━╇━━━━━━━━━━╇━━━━━━━━━━━━╇━━━━━━━━━━━━━━━━━┩\n",
       "│ 0    │ 1.00e+04 │ 4.28e+03 │ 0.00e+00 │ 0.00e+00     │ 4.28e+03 │ 1.71e+02 │ 1.00e-01   │ False           │\n",
       "│ 1    │ 1.00e+04 │ 2.90e+03 │ 6.22e-02 │ 6.22e+02     │ 3.52e+03 │ 1.16e+02 │ 1.00e-01   │ False           │\n",
       "│ 2    │ 5.00e+03 │ 2.10e+03 │ 1.79e-01 │ 8.95e+02     │ 3.00e+03 │ 8.40e+01 │ 1.00e-01   │ False           │\n",
       "│ 3    │ 2.50e+03 │ 1.26e+03 │ 4.21e-01 │ 1.05e+03     │ 2.31e+03 │ 5.03e+01 │ 1.00e-01   │ False           │\n",
       "│ 4    │ 1.25e+03 │ 6.11e+02 │ 7.84e-01 │ 9.80e+02     │ 1.59e+03 │ 2.45e+01 │ 1.00e-01   │ False           │\n",
       "│ 5    │ 6.25e+02 │ 2.55e+02 │ 1.18e+00 │ 7.36e+02     │ 9.91e+02 │ 1.02e+01 │ 1.00e-01   │ False           │\n",
       "│ 6    │ 3.12e+02 │ 1.02e+02 │ 1.51e+00 │ 4.72e+02     │ 5.75e+02 │ 4.10e+00 │ 1.00e-01   │ False           │\n",
       "│ 7    │ 1.56e+02 │ 4.29e+01 │ 1.77e+00 │ 2.77e+02     │ 3.20e+02 │ 1.71e+00 │ 1.00e-01   │ False           │\n",
       "│ 8    │ 7.81e+01 │ 1.81e+01 │ 1.99e+00 │ 1.56e+02     │ 1.74e+02 │ 7.24e-01 │ 1.00e-01   │ False           │\n",
       "│ 9    │ 3.91e+01 │ 7.19e+00 │ 2.18e+00 │ 8.53e+01     │ 9.24e+01 │ 2.88e-01 │ 1.00e-01   │ False           │\n",
       "│ 10   │ 1.95e+01 │ 2.71e+00 │ 2.34e+00 │ 4.57e+01     │ 4.84e+01 │ 1.08e-01 │ 1.00e-01   │ False           │\n",
       "│ 11   │ 9.77e+00 │ 1.09e+00 │ 2.45e+00 │ 2.39e+01     │ 2.50e+01 │ 4.37e-02 │ 1.00e-01   │ True            │\n",
       "└──────┴──────────┴──────────┴──────────┴──────────────┴──────────┴──────────┴────────────┴─────────────────┘\n"
      ]
     },
     "execution_count": 12,
     "metadata": {},
     "output_type": "execute_result"
    }
   ],
   "source": [
    "inversion_log.table"
   ]
  },
  {
   "cell_type": "code",
   "execution_count": 13,
   "id": "274bff9a-c33c-432d-81a2-8e2bf76d7c4c",
   "metadata": {
    "execution": {
     "iopub.execute_input": "2025-07-30T21:09:53.878435Z",
     "iopub.status.busy": "2025-07-30T21:09:53.878173Z",
     "iopub.status.idle": "2025-07-30T21:09:54.212098Z",
     "shell.execute_reply": "2025-07-30T21:09:54.211316Z",
     "shell.execute_reply.started": "2025-07-30T21:09:53.878409Z"
    }
   },
   "outputs": [
    {
     "data": {
      "text/html": [
       "<div>\n",
       "<style scoped>\n",
       "    .dataframe tbody tr th:only-of-type {\n",
       "        vertical-align: middle;\n",
       "    }\n",
       "\n",
       "    .dataframe tbody tr th {\n",
       "        vertical-align: top;\n",
       "    }\n",
       "\n",
       "    .dataframe thead th {\n",
       "        text-align: right;\n",
       "    }\n",
       "</style>\n",
       "<table border=\"1\" class=\"dataframe\">\n",
       "  <thead>\n",
       "    <tr style=\"text-align: right;\">\n",
       "      <th></th>\n",
       "      <th>beta</th>\n",
       "      <th>phi_d</th>\n",
       "      <th>phi_m</th>\n",
       "      <th>beta * phi_m</th>\n",
       "      <th>phi</th>\n",
       "      <th>chi</th>\n",
       "      <th>chi_target</th>\n",
       "      <th>chi_target met?</th>\n",
       "    </tr>\n",
       "    <tr>\n",
       "      <th>iter</th>\n",
       "      <th></th>\n",
       "      <th></th>\n",
       "      <th></th>\n",
       "      <th></th>\n",
       "      <th></th>\n",
       "      <th></th>\n",
       "      <th></th>\n",
       "      <th></th>\n",
       "    </tr>\n",
       "  </thead>\n",
       "  <tbody>\n",
       "    <tr>\n",
       "      <th>0</th>\n",
       "      <td>10000.000000</td>\n",
       "      <td>4281.956360</td>\n",
       "      <td>0.000000</td>\n",
       "      <td>0.000000</td>\n",
       "      <td>4281.956360</td>\n",
       "      <td>171.278254</td>\n",
       "      <td>0.1</td>\n",
       "      <td>False</td>\n",
       "    </tr>\n",
       "    <tr>\n",
       "      <th>1</th>\n",
       "      <td>10000.000000</td>\n",
       "      <td>2901.066262</td>\n",
       "      <td>0.062236</td>\n",
       "      <td>622.359176</td>\n",
       "      <td>3523.425438</td>\n",
       "      <td>116.042650</td>\n",
       "      <td>0.1</td>\n",
       "      <td>False</td>\n",
       "    </tr>\n",
       "    <tr>\n",
       "      <th>2</th>\n",
       "      <td>5000.000000</td>\n",
       "      <td>2100.984190</td>\n",
       "      <td>0.178956</td>\n",
       "      <td>894.777818</td>\n",
       "      <td>2995.762008</td>\n",
       "      <td>84.039368</td>\n",
       "      <td>0.1</td>\n",
       "      <td>False</td>\n",
       "    </tr>\n",
       "    <tr>\n",
       "      <th>3</th>\n",
       "      <td>2500.000000</td>\n",
       "      <td>1257.260727</td>\n",
       "      <td>0.420950</td>\n",
       "      <td>1052.374179</td>\n",
       "      <td>2309.634906</td>\n",
       "      <td>50.290429</td>\n",
       "      <td>0.1</td>\n",
       "      <td>False</td>\n",
       "    </tr>\n",
       "    <tr>\n",
       "      <th>4</th>\n",
       "      <td>1250.000000</td>\n",
       "      <td>611.363211</td>\n",
       "      <td>0.784181</td>\n",
       "      <td>980.226728</td>\n",
       "      <td>1591.589939</td>\n",
       "      <td>24.454528</td>\n",
       "      <td>0.1</td>\n",
       "      <td>False</td>\n",
       "    </tr>\n",
       "    <tr>\n",
       "      <th>5</th>\n",
       "      <td>625.000000</td>\n",
       "      <td>255.114132</td>\n",
       "      <td>1.177861</td>\n",
       "      <td>736.163317</td>\n",
       "      <td>991.277448</td>\n",
       "      <td>10.204565</td>\n",
       "      <td>0.1</td>\n",
       "      <td>False</td>\n",
       "    </tr>\n",
       "    <tr>\n",
       "      <th>6</th>\n",
       "      <td>312.500000</td>\n",
       "      <td>102.392487</td>\n",
       "      <td>1.511980</td>\n",
       "      <td>472.493629</td>\n",
       "      <td>574.886116</td>\n",
       "      <td>4.095699</td>\n",
       "      <td>0.1</td>\n",
       "      <td>False</td>\n",
       "    </tr>\n",
       "    <tr>\n",
       "      <th>7</th>\n",
       "      <td>156.250000</td>\n",
       "      <td>42.856648</td>\n",
       "      <td>1.772643</td>\n",
       "      <td>276.975455</td>\n",
       "      <td>319.832103</td>\n",
       "      <td>1.714266</td>\n",
       "      <td>0.1</td>\n",
       "      <td>False</td>\n",
       "    </tr>\n",
       "    <tr>\n",
       "      <th>8</th>\n",
       "      <td>78.125000</td>\n",
       "      <td>18.088145</td>\n",
       "      <td>1.990755</td>\n",
       "      <td>155.527715</td>\n",
       "      <td>173.615859</td>\n",
       "      <td>0.723526</td>\n",
       "      <td>0.1</td>\n",
       "      <td>False</td>\n",
       "    </tr>\n",
       "    <tr>\n",
       "      <th>9</th>\n",
       "      <td>39.062500</td>\n",
       "      <td>7.190664</td>\n",
       "      <td>2.182516</td>\n",
       "      <td>85.254516</td>\n",
       "      <td>92.445180</td>\n",
       "      <td>0.287627</td>\n",
       "      <td>0.1</td>\n",
       "      <td>False</td>\n",
       "    </tr>\n",
       "    <tr>\n",
       "      <th>10</th>\n",
       "      <td>19.531250</td>\n",
       "      <td>2.710936</td>\n",
       "      <td>2.339112</td>\n",
       "      <td>45.685774</td>\n",
       "      <td>48.396710</td>\n",
       "      <td>0.108437</td>\n",
       "      <td>0.1</td>\n",
       "      <td>False</td>\n",
       "    </tr>\n",
       "    <tr>\n",
       "      <th>11</th>\n",
       "      <td>9.765625</td>\n",
       "      <td>1.091928</td>\n",
       "      <td>2.451457</td>\n",
       "      <td>23.940005</td>\n",
       "      <td>25.031933</td>\n",
       "      <td>0.043677</td>\n",
       "      <td>0.1</td>\n",
       "      <td>True</td>\n",
       "    </tr>\n",
       "  </tbody>\n",
       "</table>\n",
       "</div>"
      ],
      "text/plain": [
       "              beta        phi_d     phi_m  beta * phi_m          phi  \\\n",
       "iter                                                                   \n",
       "0     10000.000000  4281.956360  0.000000      0.000000  4281.956360   \n",
       "1     10000.000000  2901.066262  0.062236    622.359176  3523.425438   \n",
       "2      5000.000000  2100.984190  0.178956    894.777818  2995.762008   \n",
       "3      2500.000000  1257.260727  0.420950   1052.374179  2309.634906   \n",
       "4      1250.000000   611.363211  0.784181    980.226728  1591.589939   \n",
       "5       625.000000   255.114132  1.177861    736.163317   991.277448   \n",
       "6       312.500000   102.392487  1.511980    472.493629   574.886116   \n",
       "7       156.250000    42.856648  1.772643    276.975455   319.832103   \n",
       "8        78.125000    18.088145  1.990755    155.527715   173.615859   \n",
       "9        39.062500     7.190664  2.182516     85.254516    92.445180   \n",
       "10       19.531250     2.710936  2.339112     45.685774    48.396710   \n",
       "11        9.765625     1.091928  2.451457     23.940005    25.031933   \n",
       "\n",
       "             chi  chi_target  chi_target met?  \n",
       "iter                                           \n",
       "0     171.278254         0.1            False  \n",
       "1     116.042650         0.1            False  \n",
       "2      84.039368         0.1            False  \n",
       "3      50.290429         0.1            False  \n",
       "4      24.454528         0.1            False  \n",
       "5      10.204565         0.1            False  \n",
       "6       4.095699         0.1            False  \n",
       "7       1.714266         0.1            False  \n",
       "8       0.723526         0.1            False  \n",
       "9       0.287627         0.1            False  \n",
       "10      0.108437         0.1            False  \n",
       "11      0.043677         0.1             True  "
      ]
     },
     "execution_count": 13,
     "metadata": {},
     "output_type": "execute_result"
    }
   ],
   "source": [
    "import pandas as pd\n",
    "\n",
    "df = pd.DataFrame(inversion_log.log).set_index(\"iter\")\n",
    "df"
   ]
  },
  {
   "cell_type": "markdown",
   "id": "fff61981-3f35-49e0-8e77-74427eee0468",
   "metadata": {},
   "source": [
    "## Using constructor"
   ]
  },
  {
   "cell_type": "code",
   "execution_count": 14,
   "id": "7bb389e1-4181-4cd6-acc1-4b0b36ad56bb",
   "metadata": {
    "execution": {
     "iopub.execute_input": "2025-07-30T21:09:54.213036Z",
     "iopub.status.busy": "2025-07-30T21:09:54.212748Z",
     "iopub.status.idle": "2025-07-30T21:09:54.217230Z",
     "shell.execute_reply": "2025-07-30T21:09:54.216608Z",
     "shell.execute_reply.started": "2025-07-30T21:09:54.213016Z"
    }
   },
   "outputs": [],
   "source": [
    "uncertainty = 1e-2 * maxabs * np.ones_like(synthetic_data)\n",
    "simulation = LinearRegressor(X)\n",
    "data_misfit = DataMisfit(synthetic_data, uncertainty, simulation)"
   ]
  },
  {
   "cell_type": "code",
   "execution_count": 15,
   "id": "a1bdac46-da4a-4e55-a1b4-b9540fd1fd05",
   "metadata": {
    "execution": {
     "iopub.execute_input": "2025-07-30T21:09:54.218322Z",
     "iopub.status.busy": "2025-07-30T21:09:54.218044Z",
     "iopub.status.idle": "2025-07-30T21:09:54.221663Z",
     "shell.execute_reply": "2025-07-30T21:09:54.220951Z",
     "shell.execute_reply.started": "2025-07-30T21:09:54.218294Z"
    }
   },
   "outputs": [],
   "source": [
    "smallness = TikhonovZero(n_params)"
   ]
  },
  {
   "cell_type": "code",
   "execution_count": 16,
   "id": "0c3dc76c-8dc1-4a50-8a36-3393f6e64dce",
   "metadata": {
    "execution": {
     "iopub.execute_input": "2025-07-30T21:09:54.222590Z",
     "iopub.status.busy": "2025-07-30T21:09:54.222339Z",
     "iopub.status.idle": "2025-07-30T21:09:54.226111Z",
     "shell.execute_reply": "2025-07-30T21:09:54.225451Z",
     "shell.execute_reply.started": "2025-07-30T21:09:54.222571Z"
    }
   },
   "outputs": [],
   "source": [
    "starting_beta = 1e4\n",
    "initial_model = np.zeros(n_params)\n",
    "minimizer = ConjugateGradient()\n",
    "chi_target = 0.1\n",
    "\n",
    "inversion = create_inversion(\n",
    "    data_misfit,\n",
    "    smallness, \n",
    "    starting_beta=1e4,\n",
    "    initial_model=initial_model,\n",
    "    optimizer=minimizer,\n",
    "    chi_target=chi_target,\n",
    ")"
   ]
  },
  {
   "cell_type": "markdown",
   "id": "5439b354-ee11-4c52-863e-fccf8323602c",
   "metadata": {},
   "source": [
    "We can inspect the inversion"
   ]
  },
  {
   "cell_type": "code",
   "execution_count": 17,
   "id": "d6b33222-1b28-45b5-aa46-228497d82e07",
   "metadata": {
    "execution": {
     "iopub.execute_input": "2025-07-30T21:09:54.226875Z",
     "iopub.status.busy": "2025-07-30T21:09:54.226668Z",
     "iopub.status.idle": "2025-07-30T21:09:54.231399Z",
     "shell.execute_reply": "2025-07-30T21:09:54.230729Z",
     "shell.execute_reply.started": "2025-07-30T21:09:54.226853Z"
    }
   },
   "outputs": [
    {
     "data": {
      "text/plain": [
       "[<inversion_ideas.directives.MultiplierCooler at 0x7ff218692490>]"
      ]
     },
     "execution_count": 17,
     "metadata": {},
     "output_type": "execute_result"
    }
   ],
   "source": [
    "inversion.directives"
   ]
  },
  {
   "cell_type": "code",
   "execution_count": 18,
   "id": "c16fb8c8-2bf3-4f3c-b66a-2f8c60051457",
   "metadata": {
    "execution": {
     "iopub.execute_input": "2025-07-30T21:09:54.232226Z",
     "iopub.status.busy": "2025-07-30T21:09:54.232042Z",
     "iopub.status.idle": "2025-07-30T21:09:54.237162Z",
     "shell.execute_reply": "2025-07-30T21:09:54.236317Z",
     "shell.execute_reply.started": "2025-07-30T21:09:54.232208Z"
    }
   },
   "outputs": [
    {
     "data": {
      "text/plain": [
       "array([0., 0., 0., 0., 0., 0., 0., 0., 0., 0.])"
      ]
     },
     "execution_count": 18,
     "metadata": {},
     "output_type": "execute_result"
    }
   ],
   "source": [
    "inversion.initial_model"
   ]
  },
  {
   "cell_type": "code",
   "execution_count": 19,
   "id": "91434606-f407-4212-bbec-92baf481786b",
   "metadata": {
    "execution": {
     "iopub.execute_input": "2025-07-30T21:09:54.238335Z",
     "iopub.status.busy": "2025-07-30T21:09:54.238023Z",
     "iopub.status.idle": "2025-07-30T21:09:54.243455Z",
     "shell.execute_reply": "2025-07-30T21:09:54.242750Z",
     "shell.execute_reply.started": "2025-07-30T21:09:54.238305Z"
    }
   },
   "outputs": [
    {
     "data": {
      "text/latex": [
       "$\\phi (m)$ + $1.00 \\cdot 10^{4} \\, \\phi (m)$"
      ],
      "text/plain": [
       "φ(m) + 1.00e+04 φ(m)"
      ]
     },
     "execution_count": 19,
     "metadata": {},
     "output_type": "execute_result"
    }
   ],
   "source": [
    "inversion.objective_function"
   ]
  },
  {
   "cell_type": "code",
   "execution_count": 20,
   "id": "64cbea87-2331-4b29-b09e-aa30587713f6",
   "metadata": {
    "execution": {
     "iopub.execute_input": "2025-07-30T21:09:54.244577Z",
     "iopub.status.busy": "2025-07-30T21:09:54.244334Z",
     "iopub.status.idle": "2025-07-30T21:09:54.248792Z",
     "shell.execute_reply": "2025-07-30T21:09:54.248113Z",
     "shell.execute_reply.started": "2025-07-30T21:09:54.244557Z"
    }
   },
   "outputs": [
    {
     "data": {
      "text/plain": [
       "{'iter': [], 'beta': [], 'phi_d': [], 'phi_m': [], 'phi': [], 'chi': []}"
      ]
     },
     "execution_count": 20,
     "metadata": {},
     "output_type": "execute_result"
    }
   ],
   "source": [
    "inversion.log.log"
   ]
  },
  {
   "cell_type": "code",
   "execution_count": 21,
   "id": "9700abab-e6ce-46f2-9c83-655c42793090",
   "metadata": {
    "execution": {
     "iopub.execute_input": "2025-07-30T21:09:54.251159Z",
     "iopub.status.busy": "2025-07-30T21:09:54.250926Z",
     "iopub.status.idle": "2025-07-30T21:09:54.368221Z",
     "shell.execute_reply": "2025-07-30T21:09:54.367666Z",
     "shell.execute_reply.started": "2025-07-30T21:09:54.251139Z"
    }
   },
   "outputs": [
    {
     "data": {
      "application/vnd.jupyter.widget-view+json": {
       "model_id": "ddb10995cc1444028c3f034a79b536f3",
       "version_major": 2,
       "version_minor": 0
      },
      "text/plain": [
       "Output()"
      ]
     },
     "metadata": {},
     "output_type": "display_data"
    },
    {
     "data": {
      "text/html": [
       "<pre style=\"white-space:pre;overflow-x:auto;line-height:normal;font-family:Menlo,'DejaVu Sans Mono',consolas,'Courier New',monospace\"></pre>\n"
      ],
      "text/plain": []
     },
     "metadata": {},
     "output_type": "display_data"
    }
   ],
   "source": [
    "inverted_model = inversion.run()"
   ]
  },
  {
   "cell_type": "code",
   "execution_count": 22,
   "id": "c80aedcb-9ab3-48ba-850b-1fa031eddce1",
   "metadata": {
    "execution": {
     "iopub.execute_input": "2025-07-30T21:09:54.369147Z",
     "iopub.status.busy": "2025-07-30T21:09:54.368888Z",
     "iopub.status.idle": "2025-07-30T21:09:54.374177Z",
     "shell.execute_reply": "2025-07-30T21:09:54.373310Z",
     "shell.execute_reply.started": "2025-07-30T21:09:54.369122Z"
    }
   },
   "outputs": [
    {
     "name": "stdout",
     "output_type": "stream",
     "text": [
      "True model:\n",
      "[0.78225148 0.67148671 0.2373809  0.17946133 0.34662367 0.15210999\n",
      " 0.31142952 0.23900652 0.54355731 0.91770851]\n",
      "\n",
      "Inverted model:\n",
      "[0.76518717 0.6188566  0.24764406 0.19526216 0.35131398 0.19815276\n",
      " 0.32923835 0.27646319 0.52978942 0.86908808]\n"
     ]
    }
   ],
   "source": [
    "print(\"True model:\")\n",
    "print(true_model)\n",
    "print(\"\\nInverted model:\")\n",
    "print(inverted_model)"
   ]
  },
  {
   "cell_type": "code",
   "execution_count": 23,
   "id": "56a2338c-6f39-44c2-9d1e-7ee5b70f9893",
   "metadata": {
    "execution": {
     "iopub.execute_input": "2025-07-30T21:09:54.375539Z",
     "iopub.status.busy": "2025-07-30T21:09:54.375134Z",
     "iopub.status.idle": "2025-07-30T21:09:54.379697Z",
     "shell.execute_reply": "2025-07-30T21:09:54.379099Z",
     "shell.execute_reply.started": "2025-07-30T21:09:54.375508Z"
    }
   },
   "outputs": [
    {
     "data": {
      "text/plain": [
       "True"
      ]
     },
     "execution_count": 23,
     "metadata": {},
     "output_type": "execute_result"
    }
   ],
   "source": [
    "inversion.model is inverted_model"
   ]
  },
  {
   "cell_type": "code",
   "execution_count": 24,
   "id": "dd0f38c3-d515-4669-9262-7fd8c7533242",
   "metadata": {
    "execution": {
     "iopub.execute_input": "2025-07-30T21:09:54.380766Z",
     "iopub.status.busy": "2025-07-30T21:09:54.380498Z",
     "iopub.status.idle": "2025-07-30T21:09:54.385418Z",
     "shell.execute_reply": "2025-07-30T21:09:54.384746Z",
     "shell.execute_reply.started": "2025-07-30T21:09:54.380740Z"
    }
   },
   "outputs": [
    {
     "data": {
      "text/latex": [
       "$\\phi (m)$ + $9.77 \\, \\phi (m)$"
      ],
      "text/plain": [
       "φ(m) + 9.77 φ(m)"
      ]
     },
     "execution_count": 24,
     "metadata": {},
     "output_type": "execute_result"
    }
   ],
   "source": [
    "inversion.objective_function"
   ]
  },
  {
   "cell_type": "code",
   "execution_count": 25,
   "id": "8ff0eceb-8177-430c-9c22-3126fc306a29",
   "metadata": {
    "execution": {
     "iopub.execute_input": "2025-07-30T21:09:54.386456Z",
     "iopub.status.busy": "2025-07-30T21:09:54.386151Z",
     "iopub.status.idle": "2025-07-30T21:09:54.391340Z",
     "shell.execute_reply": "2025-07-30T21:09:54.390485Z",
     "shell.execute_reply.started": "2025-07-30T21:09:54.386436Z"
    }
   },
   "outputs": [
    {
     "data": {
      "text/plain": [
       "12"
      ]
     },
     "execution_count": 25,
     "metadata": {},
     "output_type": "execute_result"
    }
   ],
   "source": [
    "len(inversion.models)"
   ]
  },
  {
   "cell_type": "code",
   "execution_count": 26,
   "id": "31f70c99-6d3e-4772-8b1f-821f8faa605b",
   "metadata": {
    "execution": {
     "iopub.execute_input": "2025-07-30T21:09:54.392714Z",
     "iopub.status.busy": "2025-07-30T21:09:54.392188Z",
     "iopub.status.idle": "2025-07-30T21:09:54.398210Z",
     "shell.execute_reply": "2025-07-30T21:09:54.397473Z",
     "shell.execute_reply.started": "2025-07-30T21:09:54.392683Z"
    }
   },
   "outputs": [
    {
     "data": {
      "text/plain": [
       "array([0.76518717, 0.6188566 , 0.24764406, 0.19526216, 0.35131398,\n",
       "       0.19815276, 0.32923835, 0.27646319, 0.52978942, 0.86908808])"
      ]
     },
     "execution_count": 26,
     "metadata": {},
     "output_type": "execute_result"
    }
   ],
   "source": [
    "inversion.models[11]"
   ]
  },
  {
   "cell_type": "code",
   "execution_count": null,
   "id": "f05cc87a-4e20-43b8-bbb6-eb8f6c13b1a2",
   "metadata": {},
   "outputs": [],
   "source": []
  }
 ],
 "metadata": {
  "kernelspec": {
   "display_name": "Python [conda env:inversion_ideas]",
   "language": "python",
   "name": "conda-env-inversion_ideas-py"
  },
  "language_info": {
   "codemirror_mode": {
    "name": "ipython",
    "version": 3
   },
   "file_extension": ".py",
   "mimetype": "text/x-python",
   "name": "python",
   "nbconvert_exporter": "python",
   "pygments_lexer": "ipython3",
   "version": "3.13.5"
  }
 },
 "nbformat": 4,
 "nbformat_minor": 5
}
