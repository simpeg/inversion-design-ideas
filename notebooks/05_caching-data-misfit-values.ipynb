{
 "cells": [
  {
   "cell_type": "code",
   "execution_count": 1,
   "id": "0707778e-d975-46b6-b670-d461e53e5b10",
   "metadata": {
    "execution": {
     "iopub.execute_input": "2025-07-30T21:10:35.464006Z",
     "iopub.status.busy": "2025-07-30T21:10:35.463244Z",
     "iopub.status.idle": "2025-07-30T21:10:35.728976Z",
     "shell.execute_reply": "2025-07-30T21:10:35.728412Z",
     "shell.execute_reply.started": "2025-07-30T21:10:35.463966Z"
    }
   },
   "outputs": [],
   "source": [
    "import numpy as np\n",
    "\n",
    "from inversion_ideas import (\n",
    "    DataMisfit,\n",
    "    TikhonovZero,\n",
    "    ConjugateGradient,\n",
    "    Inversion,\n",
    "    MultiplierCooler,\n",
    "    InversionLog,\n",
    "    ChiTarget,\n",
    "    create_inversion,\n",
    ")\n",
    "\n",
    "from regressor import LinearRegressor"
   ]
  },
  {
   "cell_type": "markdown",
   "id": "6ca1c237-f423-4f85-b19c-2d8fc00ac6e1",
   "metadata": {},
   "source": [
    "## Create a true model and synthetic data for a linear regressor"
   ]
  },
  {
   "cell_type": "code",
   "execution_count": 2,
   "id": "179250ca-3da3-4a82-8573-7a285246147b",
   "metadata": {
    "execution": {
     "iopub.execute_input": "2025-07-30T21:10:35.729958Z",
     "iopub.status.busy": "2025-07-30T21:10:35.729615Z",
     "iopub.status.idle": "2025-07-30T21:10:35.736897Z",
     "shell.execute_reply": "2025-07-30T21:10:35.736272Z",
     "shell.execute_reply.started": "2025-07-30T21:10:35.729933Z"
    }
   },
   "outputs": [
    {
     "data": {
      "text/plain": [
       "array([0.78225148, 0.67148671, 0.2373809 , 0.17946133, 0.34662367,\n",
       "       0.15210999, 0.31142952, 0.23900652, 0.54355731, 0.91770851])"
      ]
     },
     "execution_count": 2,
     "metadata": {},
     "output_type": "execute_result"
    }
   ],
   "source": [
    "n_params = 10\n",
    "rng = np.random.default_rng(seed=4242)\n",
    "true_model = rng.uniform(size=10)\n",
    "true_model"
   ]
  },
  {
   "cell_type": "code",
   "execution_count": 3,
   "id": "a477ebd0-8ca7-4cd2-b17d-30c21dda08c6",
   "metadata": {
    "execution": {
     "iopub.execute_input": "2025-07-30T21:10:35.737724Z",
     "iopub.status.busy": "2025-07-30T21:10:35.737518Z",
     "iopub.status.idle": "2025-07-30T21:10:35.742113Z",
     "shell.execute_reply": "2025-07-30T21:10:35.741455Z",
     "shell.execute_reply.started": "2025-07-30T21:10:35.737704Z"
    }
   },
   "outputs": [],
   "source": [
    "# Build the X array\n",
    "n_data = 25\n",
    "shape = (n_data, n_params)\n",
    "X = rng.uniform(size=n_data * n_params).reshape(shape)"
   ]
  },
  {
   "cell_type": "code",
   "execution_count": 4,
   "id": "7cc7a7bc-804b-48ea-bdb0-ebf4fa9a8e2e",
   "metadata": {
    "execution": {
     "iopub.execute_input": "2025-07-30T21:10:35.743093Z",
     "iopub.status.busy": "2025-07-30T21:10:35.742833Z",
     "iopub.status.idle": "2025-07-30T21:10:35.748379Z",
     "shell.execute_reply": "2025-07-30T21:10:35.747805Z",
     "shell.execute_reply.started": "2025-07-30T21:10:35.743066Z"
    }
   },
   "outputs": [
    {
     "data": {
      "text/plain": [
       "array([2.83840696, 2.18091081, 2.00623242, 2.08333039, 2.01694883,\n",
       "       2.7826232 , 2.10564027, 1.27333506, 2.08859855, 1.94177648,\n",
       "       1.88492037, 2.92394733, 2.17231952, 3.08009275, 1.61670886,\n",
       "       1.77403753, 2.67305005, 1.91413882, 2.42117827, 2.13991628,\n",
       "       2.0153805 , 2.71388471, 2.65944255, 2.44416121, 3.14217523])"
      ]
     },
     "execution_count": 4,
     "metadata": {},
     "output_type": "execute_result"
    }
   ],
   "source": [
    "synthetic_data = X @ true_model\n",
    "maxabs = np.max(np.abs(synthetic_data))\n",
    "noise = rng.normal(scale=1e-2 * maxabs, size=synthetic_data.size)\n",
    "synthetic_data += noise\n",
    "synthetic_data"
   ]
  },
  {
   "cell_type": "markdown",
   "id": "b47ed2d3-0d71-4ead-8230-6df11d5833a9",
   "metadata": {},
   "source": [
    "## Define objective function\n",
    "\n",
    "Enable caching in the data misfit."
   ]
  },
  {
   "cell_type": "code",
   "execution_count": 5,
   "id": "6ec35263-f754-4931-b577-b3d4f0fc803a",
   "metadata": {
    "execution": {
     "iopub.execute_input": "2025-07-30T21:10:35.749322Z",
     "iopub.status.busy": "2025-07-30T21:10:35.749087Z",
     "iopub.status.idle": "2025-07-30T21:10:35.753392Z",
     "shell.execute_reply": "2025-07-30T21:10:35.752545Z",
     "shell.execute_reply.started": "2025-07-30T21:10:35.749296Z"
    }
   },
   "outputs": [],
   "source": [
    "uncertainty = 1e-2 * maxabs * np.ones_like(synthetic_data)\n",
    "simulation = LinearRegressor(X)\n",
    "data_misfit = DataMisfit(synthetic_data, uncertainty, simulation, cache=True)"
   ]
  },
  {
   "cell_type": "code",
   "execution_count": 6,
   "id": "050b9c20-4b0a-49af-a900-1bb964588408",
   "metadata": {
    "execution": {
     "iopub.execute_input": "2025-07-30T21:10:35.755818Z",
     "iopub.status.busy": "2025-07-30T21:10:35.755422Z",
     "iopub.status.idle": "2025-07-30T21:10:35.759095Z",
     "shell.execute_reply": "2025-07-30T21:10:35.758479Z",
     "shell.execute_reply.started": "2025-07-30T21:10:35.755791Z"
    }
   },
   "outputs": [],
   "source": [
    "smallness = TikhonovZero(n_params)"
   ]
  },
  {
   "cell_type": "code",
   "execution_count": 7,
   "id": "2cf726db-4849-46c3-9fca-41b5650b88b8",
   "metadata": {
    "execution": {
     "iopub.execute_input": "2025-07-30T21:10:35.760082Z",
     "iopub.status.busy": "2025-07-30T21:10:35.759806Z",
     "iopub.status.idle": "2025-07-30T21:10:35.765359Z",
     "shell.execute_reply": "2025-07-30T21:10:35.764769Z",
     "shell.execute_reply.started": "2025-07-30T21:10:35.760055Z"
    }
   },
   "outputs": [
    {
     "data": {
      "text/plain": [
       "np.float64(0.5840230066563845)"
      ]
     },
     "execution_count": 7,
     "metadata": {},
     "output_type": "execute_result"
    }
   ],
   "source": [
    "data_misfit(true_model)"
   ]
  },
  {
   "cell_type": "code",
   "execution_count": 8,
   "id": "8d201eea-294d-490f-8b76-12024acc0808",
   "metadata": {
    "execution": {
     "iopub.execute_input": "2025-07-30T21:10:35.766789Z",
     "iopub.status.busy": "2025-07-30T21:10:35.766186Z",
     "iopub.status.idle": "2025-07-30T21:10:35.771628Z",
     "shell.execute_reply": "2025-07-30T21:10:35.770914Z",
     "shell.execute_reply.started": "2025-07-30T21:10:35.766760Z"
    }
   },
   "outputs": [
    {
     "data": {
      "text/plain": [
       "np.float64(0.5840230066563845)"
      ]
     },
     "execution_count": 8,
     "metadata": {},
     "output_type": "execute_result"
    }
   ],
   "source": [
    "data_misfit(true_model)"
   ]
  },
  {
   "cell_type": "code",
   "execution_count": 9,
   "id": "da1db943-236d-43da-b0b0-e776d21931af",
   "metadata": {
    "execution": {
     "iopub.execute_input": "2025-07-30T21:10:35.772410Z",
     "iopub.status.busy": "2025-07-30T21:10:35.772148Z",
     "iopub.status.idle": "2025-07-30T21:10:35.777351Z",
     "shell.execute_reply": "2025-07-30T21:10:35.776657Z",
     "shell.execute_reply.started": "2025-07-30T21:10:35.772391Z"
    }
   },
   "outputs": [
    {
     "data": {
      "text/latex": [
       "$\\phi (m)$ + $1.00 \\cdot 10^{-3} \\, \\phi (m)$"
      ],
      "text/plain": [
       "φ(m) + 0.00 φ(m)"
      ]
     },
     "execution_count": 9,
     "metadata": {},
     "output_type": "execute_result"
    }
   ],
   "source": [
    "phi = data_misfit + 1e-3 * smallness\n",
    "phi"
   ]
  },
  {
   "cell_type": "code",
   "execution_count": 10,
   "id": "9032d9d4-9c23-461b-bbc8-f172afdfd9ac",
   "metadata": {
    "execution": {
     "iopub.execute_input": "2025-07-30T21:10:35.778459Z",
     "iopub.status.busy": "2025-07-30T21:10:35.778178Z",
     "iopub.status.idle": "2025-07-30T21:10:35.784074Z",
     "shell.execute_reply": "2025-07-30T21:10:35.783231Z",
     "shell.execute_reply.started": "2025-07-30T21:10:35.778432Z"
    }
   },
   "outputs": [
    {
     "data": {
      "text/plain": [
       "np.float64(0.5866094158271177)"
      ]
     },
     "execution_count": 10,
     "metadata": {},
     "output_type": "execute_result"
    }
   ],
   "source": [
    "phi(true_model)"
   ]
  },
  {
   "cell_type": "code",
   "execution_count": 11,
   "id": "00c6e189-9deb-4cdf-8b78-887f0d8e44b9",
   "metadata": {
    "execution": {
     "iopub.execute_input": "2025-07-30T21:10:35.785096Z",
     "iopub.status.busy": "2025-07-30T21:10:35.784799Z",
     "iopub.status.idle": "2025-07-30T21:10:35.790796Z",
     "shell.execute_reply": "2025-07-30T21:10:35.790260Z",
     "shell.execute_reply.started": "2025-07-30T21:10:35.785067Z"
    }
   },
   "outputs": [
    {
     "data": {
      "text/plain": [
       "np.float64(178.6162555970424)"
      ]
     },
     "execution_count": 11,
     "metadata": {},
     "output_type": "execute_result"
    }
   ],
   "source": [
    "new_model = rng.uniform(size=n_params)\n",
    "\n",
    "phi(new_model)"
   ]
  }
 ],
 "metadata": {
  "kernelspec": {
   "display_name": "Python [conda env:inversion_ideas]",
   "language": "python",
   "name": "conda-env-inversion_ideas-py"
  },
  "language_info": {
   "codemirror_mode": {
    "name": "ipython",
    "version": 3
   },
   "file_extension": ".py",
   "mimetype": "text/x-python",
   "name": "python",
   "nbconvert_exporter": "python",
   "pygments_lexer": "ipython3",
   "version": "3.13.5"
  }
 },
 "nbformat": 4,
 "nbformat_minor": 5
}
