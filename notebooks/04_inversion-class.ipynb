{
 "cells": [
  {
   "cell_type": "markdown",
   "id": "85150015-06c0-42d9-a83a-5c3a29898e8f",
   "metadata": {},
   "source": [
    "# Experiment with the `Inversion` class"
   ]
  },
  {
   "cell_type": "code",
   "execution_count": 1,
   "id": "eb4145ad-9d6a-411f-aa2e-7ab211a1f737",
   "metadata": {
    "execution": {
     "iopub.execute_input": "2025-07-31T02:50:16.305678Z",
     "iopub.status.busy": "2025-07-31T02:50:16.305472Z",
     "iopub.status.idle": "2025-07-31T02:50:16.585928Z",
     "shell.execute_reply": "2025-07-31T02:50:16.585284Z",
     "shell.execute_reply.started": "2025-07-31T02:50:16.305656Z"
    }
   },
   "outputs": [],
   "source": [
    "import numpy as np\n",
    "from regressor import LinearRegressor\n",
    "\n",
    "from inversion_ideas import (\n",
    "    ChiTarget,\n",
    "    ConjugateGradient,\n",
    "    DataMisfit,\n",
    "    Inversion,\n",
    "    InversionLog,\n",
    "    TikhonovZero,\n",
    "    MultiplierCooler,\n",
    "    create_inversion,\n",
    ")"
   ]
  },
  {
   "cell_type": "markdown",
   "id": "2ce27740-8208-455d-8868-94c3ba71d3ab",
   "metadata": {},
   "source": [
    "## Create a true model and synthetic data for a linear regressor"
   ]
  },
  {
   "cell_type": "code",
   "execution_count": 2,
   "id": "22f226e2-d715-49e8-b357-38e71d78bcdc",
   "metadata": {
    "execution": {
     "iopub.execute_input": "2025-07-31T02:50:16.586813Z",
     "iopub.status.busy": "2025-07-31T02:50:16.586558Z",
     "iopub.status.idle": "2025-07-31T02:50:16.593643Z",
     "shell.execute_reply": "2025-07-31T02:50:16.593187Z",
     "shell.execute_reply.started": "2025-07-31T02:50:16.586792Z"
    }
   },
   "outputs": [
    {
     "data": {
      "text/plain": [
       "array([0.78225148, 0.67148671, 0.2373809 , 0.17946133, 0.34662367,\n",
       "       0.15210999, 0.31142952, 0.23900652, 0.54355731, 0.91770851])"
      ]
     },
     "execution_count": 2,
     "metadata": {},
     "output_type": "execute_result"
    }
   ],
   "source": [
    "n_params = 10\n",
    "rng = np.random.default_rng(seed=4242)\n",
    "true_model = rng.uniform(size=10)\n",
    "true_model"
   ]
  },
  {
   "cell_type": "code",
   "execution_count": 3,
   "id": "0e39a2d1-d26e-4ee2-8f9f-f3b33f1ac124",
   "metadata": {
    "execution": {
     "iopub.execute_input": "2025-07-31T02:50:16.594778Z",
     "iopub.status.busy": "2025-07-31T02:50:16.594340Z",
     "iopub.status.idle": "2025-07-31T02:50:16.598055Z",
     "shell.execute_reply": "2025-07-31T02:50:16.597422Z",
     "shell.execute_reply.started": "2025-07-31T02:50:16.594750Z"
    }
   },
   "outputs": [],
   "source": [
    "# Build the X array\n",
    "n_data = 25\n",
    "shape = (n_data, n_params)\n",
    "X = rng.uniform(size=n_data * n_params).reshape(shape)"
   ]
  },
  {
   "cell_type": "code",
   "execution_count": 4,
   "id": "8f052ed5-3a2b-4f32-8b44-8a86ea278960",
   "metadata": {
    "execution": {
     "iopub.execute_input": "2025-07-31T02:50:16.599341Z",
     "iopub.status.busy": "2025-07-31T02:50:16.598836Z",
     "iopub.status.idle": "2025-07-31T02:50:16.604682Z",
     "shell.execute_reply": "2025-07-31T02:50:16.604087Z",
     "shell.execute_reply.started": "2025-07-31T02:50:16.599311Z"
    }
   },
   "outputs": [
    {
     "data": {
      "text/plain": [
       "array([2.83840696, 2.18091081, 2.00623242, 2.08333039, 2.01694883,\n",
       "       2.7826232 , 2.10564027, 1.27333506, 2.08859855, 1.94177648,\n",
       "       1.88492037, 2.92394733, 2.17231952, 3.08009275, 1.61670886,\n",
       "       1.77403753, 2.67305005, 1.91413882, 2.42117827, 2.13991628,\n",
       "       2.0153805 , 2.71388471, 2.65944255, 2.44416121, 3.14217523])"
      ]
     },
     "execution_count": 4,
     "metadata": {},
     "output_type": "execute_result"
    }
   ],
   "source": [
    "synthetic_data = X @ true_model\n",
    "maxabs = np.max(np.abs(synthetic_data))\n",
    "noise = rng.normal(scale=1e-2 * maxabs, size=synthetic_data.size)\n",
    "synthetic_data += noise\n",
    "synthetic_data"
   ]
  },
  {
   "cell_type": "markdown",
   "id": "e92d45af-a4a8-4417-ab7f-b49b4125eca8",
   "metadata": {},
   "source": [
    "## Inversion"
   ]
  },
  {
   "cell_type": "code",
   "execution_count": 5,
   "id": "ae80cc54-96f9-4a85-ad1f-9dce5dc38870",
   "metadata": {
    "execution": {
     "iopub.execute_input": "2025-07-31T02:50:16.605530Z",
     "iopub.status.busy": "2025-07-31T02:50:16.605317Z",
     "iopub.status.idle": "2025-07-31T02:50:16.608820Z",
     "shell.execute_reply": "2025-07-31T02:50:16.608176Z",
     "shell.execute_reply.started": "2025-07-31T02:50:16.605512Z"
    }
   },
   "outputs": [],
   "source": [
    "uncertainty = 1e-2 * maxabs * np.ones_like(synthetic_data)\n",
    "simulation = LinearRegressor(X)\n",
    "data_misfit = DataMisfit(synthetic_data, uncertainty, simulation)"
   ]
  },
  {
   "cell_type": "code",
   "execution_count": 6,
   "id": "050b9c20-4b0a-49af-a900-1bb964588408",
   "metadata": {
    "execution": {
     "iopub.execute_input": "2025-07-31T02:50:16.611350Z",
     "iopub.status.busy": "2025-07-31T02:50:16.611131Z",
     "iopub.status.idle": "2025-07-31T02:50:16.614268Z",
     "shell.execute_reply": "2025-07-31T02:50:16.613732Z",
     "shell.execute_reply.started": "2025-07-31T02:50:16.611326Z"
    }
   },
   "outputs": [],
   "source": [
    "smallness = TikhonovZero(n_params)"
   ]
  },
  {
   "cell_type": "code",
   "execution_count": 7,
   "id": "b6e3ea36-dc6b-4aa1-99b8-31721937d933",
   "metadata": {
    "execution": {
     "iopub.execute_input": "2025-07-31T02:50:16.615357Z",
     "iopub.status.busy": "2025-07-31T02:50:16.614966Z",
     "iopub.status.idle": "2025-07-31T02:50:16.619640Z",
     "shell.execute_reply": "2025-07-31T02:50:16.619034Z",
     "shell.execute_reply.started": "2025-07-31T02:50:16.615330Z"
    }
   },
   "outputs": [],
   "source": [
    "# Objective function\n",
    "beta_0 = 1e4\n",
    "regularization = beta_0 * smallness\n",
    "phi = data_misfit + regularization\n",
    "\n",
    "# Initial model\n",
    "initial_model = np.zeros(n_params)\n",
    "\n",
    "# Minimizer\n",
    "minimizer = ConjugateGradient()\n",
    "\n",
    "# Stopping criteria\n",
    "chi_target = 1.0\n",
    "stopping_criteria = [\n",
    "    ChiTarget(data_misfit, chi_target=chi_target),\n",
    "]"
   ]
  },
  {
   "cell_type": "code",
   "execution_count": 8,
   "id": "602f9863-9ff2-4015-9ee3-3777b1ab8063",
   "metadata": {
    "execution": {
     "iopub.execute_input": "2025-07-31T02:50:16.620341Z",
     "iopub.status.busy": "2025-07-31T02:50:16.620164Z",
     "iopub.status.idle": "2025-07-31T02:50:16.628976Z",
     "shell.execute_reply": "2025-07-31T02:50:16.628163Z",
     "shell.execute_reply.started": "2025-07-31T02:50:16.620324Z"
    }
   },
   "outputs": [
    {
     "data": {
      "text/plain": [
       "<inversion_ideas.inversion.InversionLog at 0x7fef62bc9fd0>"
      ]
     },
     "execution_count": 8,
     "metadata": {},
     "output_type": "execute_result"
    }
   ],
   "source": [
    "# Define inversion log\n",
    "columns = {\n",
    "    \"iter\": lambda iteration, _: iteration,\n",
    "    \"beta\": lambda i, _: regularization.multiplier,\n",
    "    \"phi_d\": lambda i, model: data_misfit(model),\n",
    "    \"phi_m\": lambda i, model: regularization.function(model),\n",
    "    \"beta * phi_m\": lambda i, model: regularization(model),\n",
    "    \"phi\": lambda i, model: phi(model),\n",
    "    \"chi\": lambda i, model: data_misfit(model) / data_misfit.n_data,\n",
    "    \"chi_target\": lambda i, model: chi_target,\n",
    "    \"chi_target met?\": lambda i, model: stopping_criteria[0](model),\n",
    "}\n",
    "inversion_log = InversionLog(columns)\n",
    "inversion_log"
   ]
  },
  {
   "cell_type": "code",
   "execution_count": 9,
   "id": "cf72d7ed-3565-466f-b13a-40a5d359eb9c",
   "metadata": {
    "execution": {
     "iopub.execute_input": "2025-07-31T02:50:16.630061Z",
     "iopub.status.busy": "2025-07-31T02:50:16.629766Z",
     "iopub.status.idle": "2025-07-31T02:50:16.633470Z",
     "shell.execute_reply": "2025-07-31T02:50:16.632730Z",
     "shell.execute_reply.started": "2025-07-31T02:50:16.630034Z"
    }
   },
   "outputs": [],
   "source": [
    "inversion = Inversion(\n",
    "    phi,\n",
    "    initial_model,\n",
    "    minimizer,\n",
    "    stopping_criteria=stopping_criteria,\n",
    "    cache_models=True,\n",
    "    log=inversion_log,\n",
    ")"
   ]
  },
  {
   "cell_type": "code",
   "execution_count": 10,
   "id": "d5d30fe0",
   "metadata": {},
   "outputs": [],
   "source": [
    "beta_cooler = MultiplierCooler(cooling_factor=2.0)"
   ]
  },
  {
   "cell_type": "code",
   "execution_count": 11,
   "id": "0609dcf7",
   "metadata": {},
   "outputs": [
    {
     "data": {
      "application/vnd.jupyter.widget-view+json": {
       "model_id": "e12fab04c0c24a0f89f8769c66aa30f8",
       "version_major": 2,
       "version_minor": 0
      },
      "text/plain": [
       "Output()"
      ]
     },
     "metadata": {},
     "output_type": "display_data"
    },
    {
     "data": {
      "text/html": [
       "<pre style=\"white-space:pre;overflow-x:auto;line-height:normal;font-family:Menlo,'DejaVu Sans Mono',consolas,'Courier New',monospace\"></pre>\n"
      ],
      "text/plain": []
     },
     "metadata": {},
     "output_type": "display_data"
    }
   ],
   "source": [
    "with inversion.log.show_live() as live:\n",
    "    for model in inversion:\n",
    "        # Cool down beta\n",
    "        beta_cooler(regularization)\n",
    "\n",
    "        # Refresh table\n",
    "        live.refresh()"
   ]
  },
  {
   "cell_type": "code",
   "execution_count": 12,
   "id": "c055371c-d884-4999-b454-f3a4ecb4b7aa",
   "metadata": {
    "execution": {
     "iopub.execute_input": "2025-07-31T02:50:16.776644Z",
     "iopub.status.busy": "2025-07-31T02:50:16.776435Z",
     "iopub.status.idle": "2025-07-31T02:50:16.781567Z",
     "shell.execute_reply": "2025-07-31T02:50:16.781045Z",
     "shell.execute_reply.started": "2025-07-31T02:50:16.776627Z"
    }
   },
   "outputs": [
    {
     "data": {
      "text/plain": [
       "[array([0., 0., 0., 0., 0., 0., 0., 0., 0., 0.]),\n",
       " array([0.42435726, 0.42399556, 0.31488771, 0.30781909, 0.36748548,\n",
       "        0.3541613 , 0.35617454, 0.33544115, 0.43090205, 0.51906374]),\n",
       " array([0.5056242 , 0.47292493, 0.31019533, 0.28663263, 0.38905159,\n",
       "        0.34587771, 0.36311607, 0.33629102, 0.47778453, 0.60674237]),\n",
       " array([0.58936952, 0.51738738, 0.2902994 , 0.25123224, 0.39337984,\n",
       "        0.3151884 , 0.35668177, 0.3233827 , 0.50991683, 0.6929199 ]),\n",
       " array([0.66606771, 0.55805404, 0.26845575, 0.21988974, 0.38401096,\n",
       "        0.27327808, 0.34599733, 0.30631261, 0.52650139, 0.76952915]),\n",
       " array([0.72555055, 0.59250287, 0.25392942, 0.20191464, 0.36759678,\n",
       "        0.23168433, 0.33632369, 0.29012319, 0.53109078, 0.82869251]),\n",
       " array([0.76485366, 0.61861644, 0.24767964, 0.19529472, 0.35147213,\n",
       "        0.19846023, 0.32930081, 0.27659424, 0.52981675, 0.86874091]),\n",
       " array([0.78781238, 0.63620172, 0.2461426 , 0.1941919 , 0.33960904,\n",
       "        0.17601471, 0.32485498, 0.26662799, 0.52718998, 0.89311305])]"
      ]
     },
     "execution_count": 12,
     "metadata": {},
     "output_type": "execute_result"
    }
   ],
   "source": [
    "inversion.models"
   ]
  },
  {
   "cell_type": "code",
   "execution_count": 13,
   "id": "46ac6b85-67e4-4893-a08f-4e22b2c92f17",
   "metadata": {
    "execution": {
     "iopub.execute_input": "2025-07-31T02:50:16.782725Z",
     "iopub.status.busy": "2025-07-31T02:50:16.782296Z",
     "iopub.status.idle": "2025-07-31T02:50:16.796923Z",
     "shell.execute_reply": "2025-07-31T02:50:16.796398Z",
     "shell.execute_reply.started": "2025-07-31T02:50:16.782697Z"
    }
   },
   "outputs": [
    {
     "data": {
      "text/html": [
       "<pre style=\"white-space:pre;overflow-x:auto;line-height:normal;font-family:Menlo,'DejaVu Sans Mono',consolas,'Courier New',monospace\">┏━━━━━━┳━━━━━━━━━━┳━━━━━━━━━━┳━━━━━━━━━━┳━━━━━━━━━━━━━━┳━━━━━━━━━━┳━━━━━━━━━━┳━━━━━━━━━━━━┳━━━━━━━━━━━━━━━━━┓\n",
       "┃<span style=\"font-weight: bold\"> iter </span>┃<span style=\"font-weight: bold\"> beta     </span>┃<span style=\"font-weight: bold\"> phi_d    </span>┃<span style=\"font-weight: bold\"> phi_m    </span>┃<span style=\"font-weight: bold\"> beta * phi_m </span>┃<span style=\"font-weight: bold\"> phi      </span>┃<span style=\"font-weight: bold\"> chi      </span>┃<span style=\"font-weight: bold\"> chi_target </span>┃<span style=\"font-weight: bold\"> chi_target met? </span>┃\n",
       "┡━━━━━━╇━━━━━━━━━━╇━━━━━━━━━━╇━━━━━━━━━━╇━━━━━━━━━━━━━━╇━━━━━━━━━━╇━━━━━━━━━━╇━━━━━━━━━━━━╇━━━━━━━━━━━━━━━━━┩\n",
       "│ 0    │ 1.00e+04 │ 1.36e+05 │ 0.00e+00 │ 0.00e+00     │ 1.36e+05 │ 5.44e+03 │ 1.00e+00   │ False           │\n",
       "│ 1    │ 1.00e+04 │ 3.28e+03 │ 1.51e+00 │ 1.51e+04     │ 1.84e+04 │ 1.31e+02 │ 1.00e+00   │ False           │\n",
       "│ 2    │ 5.00e+03 │ 1.37e+03 │ 1.77e+00 │ 8.85e+03     │ 1.02e+04 │ 5.50e+01 │ 1.00e+00   │ False           │\n",
       "│ 3    │ 2.50e+03 │ 5.80e+02 │ 1.99e+00 │ 4.97e+03     │ 5.55e+03 │ 2.32e+01 │ 1.00e+00   │ False           │\n",
       "│ 4    │ 1.25e+03 │ 2.31e+02 │ 2.18e+00 │ 2.73e+03     │ 2.96e+03 │ 9.23e+00 │ 1.00e+00   │ False           │\n",
       "│ 5    │ 6.25e+02 │ 8.70e+01 │ 2.34e+00 │ 1.46e+03     │ 1.55e+03 │ 3.48e+00 │ 1.00e+00   │ False           │\n",
       "│ 6    │ 3.12e+02 │ 3.50e+01 │ 2.45e+00 │ 7.66e+02     │ 8.01e+02 │ 1.40e+00 │ 1.00e+00   │ False           │\n",
       "│ 7    │ 1.56e+02 │ 1.83e+01 │ 2.52e+00 │ 3.94e+02     │ 4.12e+02 │ 7.34e-01 │ 1.00e+00   │ True            │\n",
       "└──────┴──────────┴──────────┴──────────┴──────────────┴──────────┴──────────┴────────────┴─────────────────┘\n",
       "</pre>\n"
      ],
      "text/plain": [
       "┏━━━━━━┳━━━━━━━━━━┳━━━━━━━━━━┳━━━━━━━━━━┳━━━━━━━━━━━━━━┳━━━━━━━━━━┳━━━━━━━━━━┳━━━━━━━━━━━━┳━━━━━━━━━━━━━━━━━┓\n",
       "┃\u001b[1m \u001b[0m\u001b[1miter\u001b[0m\u001b[1m \u001b[0m┃\u001b[1m \u001b[0m\u001b[1mbeta    \u001b[0m\u001b[1m \u001b[0m┃\u001b[1m \u001b[0m\u001b[1mphi_d   \u001b[0m\u001b[1m \u001b[0m┃\u001b[1m \u001b[0m\u001b[1mphi_m   \u001b[0m\u001b[1m \u001b[0m┃\u001b[1m \u001b[0m\u001b[1mbeta * phi_m\u001b[0m\u001b[1m \u001b[0m┃\u001b[1m \u001b[0m\u001b[1mphi     \u001b[0m\u001b[1m \u001b[0m┃\u001b[1m \u001b[0m\u001b[1mchi     \u001b[0m\u001b[1m \u001b[0m┃\u001b[1m \u001b[0m\u001b[1mchi_target\u001b[0m\u001b[1m \u001b[0m┃\u001b[1m \u001b[0m\u001b[1mchi_target met?\u001b[0m\u001b[1m \u001b[0m┃\n",
       "┡━━━━━━╇━━━━━━━━━━╇━━━━━━━━━━╇━━━━━━━━━━╇━━━━━━━━━━━━━━╇━━━━━━━━━━╇━━━━━━━━━━╇━━━━━━━━━━━━╇━━━━━━━━━━━━━━━━━┩\n",
       "│ 0    │ 1.00e+04 │ 1.36e+05 │ 0.00e+00 │ 0.00e+00     │ 1.36e+05 │ 5.44e+03 │ 1.00e+00   │ False           │\n",
       "│ 1    │ 1.00e+04 │ 3.28e+03 │ 1.51e+00 │ 1.51e+04     │ 1.84e+04 │ 1.31e+02 │ 1.00e+00   │ False           │\n",
       "│ 2    │ 5.00e+03 │ 1.37e+03 │ 1.77e+00 │ 8.85e+03     │ 1.02e+04 │ 5.50e+01 │ 1.00e+00   │ False           │\n",
       "│ 3    │ 2.50e+03 │ 5.80e+02 │ 1.99e+00 │ 4.97e+03     │ 5.55e+03 │ 2.32e+01 │ 1.00e+00   │ False           │\n",
       "│ 4    │ 1.25e+03 │ 2.31e+02 │ 2.18e+00 │ 2.73e+03     │ 2.96e+03 │ 9.23e+00 │ 1.00e+00   │ False           │\n",
       "│ 5    │ 6.25e+02 │ 8.70e+01 │ 2.34e+00 │ 1.46e+03     │ 1.55e+03 │ 3.48e+00 │ 1.00e+00   │ False           │\n",
       "│ 6    │ 3.12e+02 │ 3.50e+01 │ 2.45e+00 │ 7.66e+02     │ 8.01e+02 │ 1.40e+00 │ 1.00e+00   │ False           │\n",
       "│ 7    │ 1.56e+02 │ 1.83e+01 │ 2.52e+00 │ 3.94e+02     │ 4.12e+02 │ 7.34e-01 │ 1.00e+00   │ True            │\n",
       "└──────┴──────────┴──────────┴──────────┴──────────────┴──────────┴──────────┴────────────┴─────────────────┘\n"
      ]
     },
     "execution_count": 13,
     "metadata": {},
     "output_type": "execute_result"
    }
   ],
   "source": [
    "inversion_log.table"
   ]
  },
  {
   "cell_type": "code",
   "execution_count": 14,
   "id": "274bff9a-c33c-432d-81a2-8e2bf76d7c4c",
   "metadata": {
    "execution": {
     "iopub.execute_input": "2025-07-31T02:50:16.797762Z",
     "iopub.status.busy": "2025-07-31T02:50:16.797509Z",
     "iopub.status.idle": "2025-07-31T02:50:17.043560Z",
     "shell.execute_reply": "2025-07-31T02:50:17.042820Z",
     "shell.execute_reply.started": "2025-07-31T02:50:16.797737Z"
    }
   },
   "outputs": [
    {
     "data": {
      "text/html": [
       "<div>\n",
       "<style scoped>\n",
       "    .dataframe tbody tr th:only-of-type {\n",
       "        vertical-align: middle;\n",
       "    }\n",
       "\n",
       "    .dataframe tbody tr th {\n",
       "        vertical-align: top;\n",
       "    }\n",
       "\n",
       "    .dataframe thead th {\n",
       "        text-align: right;\n",
       "    }\n",
       "</style>\n",
       "<table border=\"1\" class=\"dataframe\">\n",
       "  <thead>\n",
       "    <tr style=\"text-align: right;\">\n",
       "      <th></th>\n",
       "      <th>beta</th>\n",
       "      <th>phi_d</th>\n",
       "      <th>phi_m</th>\n",
       "      <th>beta * phi_m</th>\n",
       "      <th>phi</th>\n",
       "      <th>chi</th>\n",
       "      <th>chi_target</th>\n",
       "      <th>chi_target met?</th>\n",
       "    </tr>\n",
       "    <tr>\n",
       "      <th>iter</th>\n",
       "      <th></th>\n",
       "      <th></th>\n",
       "      <th></th>\n",
       "      <th></th>\n",
       "      <th></th>\n",
       "      <th></th>\n",
       "      <th></th>\n",
       "      <th></th>\n",
       "    </tr>\n",
       "  </thead>\n",
       "  <tbody>\n",
       "    <tr>\n",
       "      <th>0</th>\n",
       "      <td>10000.00</td>\n",
       "      <td>135973.462849</td>\n",
       "      <td>0.000000</td>\n",
       "      <td>0.000000</td>\n",
       "      <td>135973.462849</td>\n",
       "      <td>5438.938514</td>\n",
       "      <td>1.0</td>\n",
       "      <td>False</td>\n",
       "    </tr>\n",
       "    <tr>\n",
       "      <th>1</th>\n",
       "      <td>10000.00</td>\n",
       "      <td>3283.955124</td>\n",
       "      <td>1.508719</td>\n",
       "      <td>15087.188025</td>\n",
       "      <td>18371.143149</td>\n",
       "      <td>131.358205</td>\n",
       "      <td>1.0</td>\n",
       "      <td>False</td>\n",
       "    </tr>\n",
       "    <tr>\n",
       "      <th>2</th>\n",
       "      <td>5000.00</td>\n",
       "      <td>1373.851799</td>\n",
       "      <td>1.770045</td>\n",
       "      <td>8850.225213</td>\n",
       "      <td>10224.077012</td>\n",
       "      <td>54.954072</td>\n",
       "      <td>1.0</td>\n",
       "      <td>False</td>\n",
       "    </tr>\n",
       "    <tr>\n",
       "      <th>3</th>\n",
       "      <td>2500.00</td>\n",
       "      <td>580.052974</td>\n",
       "      <td>1.988480</td>\n",
       "      <td>4971.200876</td>\n",
       "      <td>5551.253850</td>\n",
       "      <td>23.202119</td>\n",
       "      <td>1.0</td>\n",
       "      <td>False</td>\n",
       "    </tr>\n",
       "    <tr>\n",
       "      <th>4</th>\n",
       "      <td>1250.00</td>\n",
       "      <td>230.779314</td>\n",
       "      <td>2.180556</td>\n",
       "      <td>2725.695257</td>\n",
       "      <td>2956.474571</td>\n",
       "      <td>9.231173</td>\n",
       "      <td>1.0</td>\n",
       "      <td>False</td>\n",
       "    </tr>\n",
       "    <tr>\n",
       "      <th>5</th>\n",
       "      <td>625.00</td>\n",
       "      <td>87.019569</td>\n",
       "      <td>2.337612</td>\n",
       "      <td>1461.007338</td>\n",
       "      <td>1548.026907</td>\n",
       "      <td>3.480783</td>\n",
       "      <td>1.0</td>\n",
       "      <td>False</td>\n",
       "    </tr>\n",
       "    <tr>\n",
       "      <th>6</th>\n",
       "      <td>312.50</td>\n",
       "      <td>34.986938</td>\n",
       "      <td>2.450452</td>\n",
       "      <td>765.766163</td>\n",
       "      <td>800.753102</td>\n",
       "      <td>1.399478</td>\n",
       "      <td>1.0</td>\n",
       "      <td>False</td>\n",
       "    </tr>\n",
       "    <tr>\n",
       "      <th>7</th>\n",
       "      <td>156.25</td>\n",
       "      <td>18.339748</td>\n",
       "      <td>2.522215</td>\n",
       "      <td>394.096024</td>\n",
       "      <td>412.435773</td>\n",
       "      <td>0.733590</td>\n",
       "      <td>1.0</td>\n",
       "      <td>True</td>\n",
       "    </tr>\n",
       "  </tbody>\n",
       "</table>\n",
       "</div>"
      ],
      "text/plain": [
       "          beta          phi_d     phi_m  beta * phi_m            phi  \\\n",
       "iter                                                                   \n",
       "0     10000.00  135973.462849  0.000000      0.000000  135973.462849   \n",
       "1     10000.00    3283.955124  1.508719  15087.188025   18371.143149   \n",
       "2      5000.00    1373.851799  1.770045   8850.225213   10224.077012   \n",
       "3      2500.00     580.052974  1.988480   4971.200876    5551.253850   \n",
       "4      1250.00     230.779314  2.180556   2725.695257    2956.474571   \n",
       "5       625.00      87.019569  2.337612   1461.007338    1548.026907   \n",
       "6       312.50      34.986938  2.450452    765.766163     800.753102   \n",
       "7       156.25      18.339748  2.522215    394.096024     412.435773   \n",
       "\n",
       "              chi  chi_target  chi_target met?  \n",
       "iter                                            \n",
       "0     5438.938514         1.0            False  \n",
       "1      131.358205         1.0            False  \n",
       "2       54.954072         1.0            False  \n",
       "3       23.202119         1.0            False  \n",
       "4        9.231173         1.0            False  \n",
       "5        3.480783         1.0            False  \n",
       "6        1.399478         1.0            False  \n",
       "7        0.733590         1.0             True  "
      ]
     },
     "execution_count": 14,
     "metadata": {},
     "output_type": "execute_result"
    }
   ],
   "source": [
    "import pandas as pd\n",
    "\n",
    "df = pd.DataFrame(inversion_log.log).set_index(\"iter\")\n",
    "df"
   ]
  }
 ],
 "metadata": {
  "kernelspec": {
   "display_name": "inversion_ideas",
   "language": "python",
   "name": "python3"
  },
  "language_info": {
   "codemirror_mode": {
    "name": "ipython",
    "version": 3
   },
   "file_extension": ".py",
   "mimetype": "text/x-python",
   "name": "python",
   "nbconvert_exporter": "python",
   "pygments_lexer": "ipython3",
   "version": "3.13.5"
  }
 },
 "nbformat": 4,
 "nbformat_minor": 5
}
