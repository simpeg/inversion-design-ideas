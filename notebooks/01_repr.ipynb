{
 "cells": [
  {
   "cell_type": "code",
   "execution_count": 1,
   "id": "ec5a23f6-1939-4bd6-9ddc-a33798bbe64f",
   "metadata": {
    "execution": {
     "iopub.execute_input": "2025-08-07T23:34:06.460712Z",
     "iopub.status.busy": "2025-08-07T23:34:06.460062Z",
     "iopub.status.idle": "2025-08-07T23:34:06.741113Z",
     "shell.execute_reply": "2025-08-07T23:34:06.740524Z"
    }
   },
   "outputs": [],
   "source": [
    "\n",
    "from inversion_ideas.base import Objective"
   ]
  },
  {
   "cell_type": "code",
   "execution_count": 2,
   "id": "9ec050b8-c948-41cb-b13d-d8e510fbfa4e",
   "metadata": {
    "execution": {
     "iopub.execute_input": "2025-08-07T23:34:06.743004Z",
     "iopub.status.busy": "2025-08-07T23:34:06.742773Z",
     "iopub.status.idle": "2025-08-07T23:34:06.746370Z",
     "shell.execute_reply": "2025-08-07T23:34:06.745874Z"
    }
   },
   "outputs": [],
   "source": [
    "class Dummy(Objective):\n",
    "    def __init__(self, n_params):\n",
    "        super().__init__()\n",
    "        self._n_params = n_params\n",
    "\n",
    "    @property\n",
    "    def n_params(self):\n",
    "        return self._n_params\n",
    "        \n",
    "    def __call__(self, model):\n",
    "        pass\n",
    "        \n",
    "    def gradient(self, model):\n",
    "        pass\n",
    "        \n",
    "    def hessian(self, model):\n",
    "        pass"
   ]
  },
  {
   "cell_type": "markdown",
   "id": "b16bb178",
   "metadata": {},
   "source": [
    "## Define some objective functions and name them"
   ]
  },
  {
   "cell_type": "code",
   "execution_count": 3,
   "id": "00c39dc7-9da0-4a44-8950-b63c31f42cee",
   "metadata": {
    "execution": {
     "iopub.execute_input": "2025-08-07T23:34:06.747898Z",
     "iopub.status.busy": "2025-08-07T23:34:06.747735Z",
     "iopub.status.idle": "2025-08-07T23:34:06.753021Z",
     "shell.execute_reply": "2025-08-07T23:34:06.752536Z"
    }
   },
   "outputs": [
    {
     "data": {
      "text/latex": [
       "$\\phi_{a} (m)$"
      ],
      "text/plain": [
       "φa(m)"
      ]
     },
     "execution_count": 3,
     "metadata": {},
     "output_type": "execute_result"
    }
   ],
   "source": [
    "a = Dummy(3)\n",
    "a.set_name(\"a\")\n",
    "a"
   ]
  },
  {
   "cell_type": "code",
   "execution_count": 4,
   "id": "ab16bcf5-8529-4b01-9ce5-f0060110e73d",
   "metadata": {
    "execution": {
     "iopub.execute_input": "2025-08-07T23:34:06.754390Z",
     "iopub.status.busy": "2025-08-07T23:34:06.754210Z",
     "iopub.status.idle": "2025-08-07T23:34:06.757505Z",
     "shell.execute_reply": "2025-08-07T23:34:06.757167Z"
    }
   },
   "outputs": [
    {
     "data": {
      "text/latex": [
       "$\\phi_{b} (m)$"
      ],
      "text/plain": [
       "φb(m)"
      ]
     },
     "execution_count": 4,
     "metadata": {},
     "output_type": "execute_result"
    }
   ],
   "source": [
    "b = Dummy(3)\n",
    "b.set_name(\"b\")\n",
    "b"
   ]
  },
  {
   "cell_type": "code",
   "execution_count": 5,
   "id": "1da4940c-8fba-4aef-ba71-6979b31e8265",
   "metadata": {
    "execution": {
     "iopub.execute_input": "2025-08-07T23:34:06.758972Z",
     "iopub.status.busy": "2025-08-07T23:34:06.758814Z",
     "iopub.status.idle": "2025-08-07T23:34:06.761955Z",
     "shell.execute_reply": "2025-08-07T23:34:06.761608Z"
    }
   },
   "outputs": [
    {
     "data": {
      "text/latex": [
       "$\\phi_{c} (m)$"
      ],
      "text/plain": [
       "φc(m)"
      ]
     },
     "execution_count": 5,
     "metadata": {},
     "output_type": "execute_result"
    }
   ],
   "source": [
    "c = Dummy(3)\n",
    "c.set_name(\"c\")\n",
    "c"
   ]
  },
  {
   "cell_type": "code",
   "execution_count": 6,
   "id": "710cf93b",
   "metadata": {
    "execution": {
     "iopub.execute_input": "2025-08-07T23:34:06.763396Z",
     "iopub.status.busy": "2025-08-07T23:34:06.763155Z",
     "iopub.status.idle": "2025-08-07T23:34:06.766567Z",
     "shell.execute_reply": "2025-08-07T23:34:06.766044Z"
    }
   },
   "outputs": [
    {
     "data": {
      "text/latex": [
       "$\\phi_{d} (m)$"
      ],
      "text/plain": [
       "φd(m)"
      ]
     },
     "execution_count": 6,
     "metadata": {},
     "output_type": "execute_result"
    }
   ],
   "source": [
    "d = Dummy(3)\n",
    "d.set_name(\"d\")\n",
    "d"
   ]
  },
  {
   "cell_type": "markdown",
   "id": "9f36b948",
   "metadata": {},
   "source": [
    "## Experiment with Combo and Scaled"
   ]
  },
  {
   "cell_type": "markdown",
   "id": "66e4e69a",
   "metadata": {},
   "source": [
    "Simple combo of two objective functions:"
   ]
  },
  {
   "cell_type": "code",
   "execution_count": 7,
   "id": "1162487a",
   "metadata": {
    "execution": {
     "iopub.execute_input": "2025-08-07T23:34:06.768109Z",
     "iopub.status.busy": "2025-08-07T23:34:06.767943Z",
     "iopub.status.idle": "2025-08-07T23:34:06.771274Z",
     "shell.execute_reply": "2025-08-07T23:34:06.770925Z"
    }
   },
   "outputs": [
    {
     "data": {
      "text/latex": [
       "$ \\phi_{a} (m) + \\phi_{b} (m) $"
      ],
      "text/plain": [
       "φa(m) + φb(m)"
      ]
     },
     "execution_count": 7,
     "metadata": {},
     "output_type": "execute_result"
    }
   ],
   "source": [
    "combo = a + b\n",
    "combo"
   ]
  },
  {
   "cell_type": "markdown",
   "id": "f41f30a4",
   "metadata": {},
   "source": [
    "Multiply an objective function by a scalar"
   ]
  },
  {
   "cell_type": "code",
   "execution_count": 8,
   "id": "c59b599d",
   "metadata": {
    "execution": {
     "iopub.execute_input": "2025-08-07T23:34:06.772748Z",
     "iopub.status.busy": "2025-08-07T23:34:06.772590Z",
     "iopub.status.idle": "2025-08-07T23:34:06.775727Z",
     "shell.execute_reply": "2025-08-07T23:34:06.775304Z"
    }
   },
   "outputs": [
    {
     "data": {
      "text/latex": [
       "$5.40 \\, \\phi_{a} (m)$"
      ],
      "text/plain": [
       "5.40 φa(m)"
      ]
     },
     "execution_count": 8,
     "metadata": {},
     "output_type": "execute_result"
    }
   ],
   "source": [
    "scaled = 5.4 * a\n",
    "scaled"
   ]
  },
  {
   "cell_type": "markdown",
   "id": "836adbbb",
   "metadata": {},
   "source": [
    "Sum together scaled objective functions to get also a combo:"
   ]
  },
  {
   "cell_type": "code",
   "execution_count": 9,
   "id": "30e1d431",
   "metadata": {
    "execution": {
     "iopub.execute_input": "2025-08-07T23:34:06.777289Z",
     "iopub.status.busy": "2025-08-07T23:34:06.777043Z",
     "iopub.status.idle": "2025-08-07T23:34:06.780423Z",
     "shell.execute_reply": "2025-08-07T23:34:06.779908Z"
    }
   },
   "outputs": [
    {
     "data": {
      "text/latex": [
       "$ 5.40 \\, \\phi_{a} (m) + 3.20 \\, \\phi_{b} (m) $"
      ],
      "text/plain": [
       "5.40 φa(m) + 3.20 φb(m)"
      ]
     },
     "execution_count": 9,
     "metadata": {},
     "output_type": "execute_result"
    }
   ],
   "source": [
    "combo = 5.4 * a + 3.2 * b\n",
    "combo"
   ]
  },
  {
   "cell_type": "markdown",
   "id": "46e1b7bc",
   "metadata": {},
   "source": [
    "We can treat the combo as a _collection_:"
   ]
  },
  {
   "cell_type": "code",
   "execution_count": 10,
   "id": "b9c387cb",
   "metadata": {
    "execution": {
     "iopub.execute_input": "2025-08-07T23:34:06.781980Z",
     "iopub.status.busy": "2025-08-07T23:34:06.781823Z",
     "iopub.status.idle": "2025-08-07T23:34:06.785378Z",
     "shell.execute_reply": "2025-08-07T23:34:06.784925Z"
    }
   },
   "outputs": [
    {
     "data": {
      "text/latex": [
       "$ 5.40 \\, \\phi_{a} (m) + 3.20 \\, \\phi_{b} (m) $"
      ],
      "text/plain": [
       "5.40 φa(m) + 3.20 φb(m)"
      ]
     },
     "execution_count": 10,
     "metadata": {},
     "output_type": "execute_result"
    }
   ],
   "source": [
    "term_1 = 5.4 * a\n",
    "term_2 = 3.2 * b\n",
    "\n",
    "combo = term_1 + term_2\n",
    "combo"
   ]
  },
  {
   "cell_type": "code",
   "execution_count": 11,
   "id": "6615d2da",
   "metadata": {
    "execution": {
     "iopub.execute_input": "2025-08-07T23:34:06.786846Z",
     "iopub.status.busy": "2025-08-07T23:34:06.786682Z",
     "iopub.status.idle": "2025-08-07T23:34:06.789587Z",
     "shell.execute_reply": "2025-08-07T23:34:06.789054Z"
    }
   },
   "outputs": [
    {
     "name": "stdout",
     "output_type": "stream",
     "text": [
      "5.40 φa(m)\n",
      "3.20 φb(m)\n"
     ]
    }
   ],
   "source": [
    "for phi in combo:\n",
    "    print(phi)"
   ]
  },
  {
   "cell_type": "code",
   "execution_count": 12,
   "id": "a1779507",
   "metadata": {
    "execution": {
     "iopub.execute_input": "2025-08-07T23:34:06.791270Z",
     "iopub.status.busy": "2025-08-07T23:34:06.790854Z",
     "iopub.status.idle": "2025-08-07T23:34:06.794033Z",
     "shell.execute_reply": "2025-08-07T23:34:06.793639Z"
    }
   },
   "outputs": [
    {
     "data": {
      "text/plain": [
       "2"
      ]
     },
     "execution_count": 12,
     "metadata": {},
     "output_type": "execute_result"
    }
   ],
   "source": [
    "len(combo)"
   ]
  },
  {
   "cell_type": "code",
   "execution_count": 13,
   "id": "a2384a15",
   "metadata": {
    "execution": {
     "iopub.execute_input": "2025-08-07T23:34:06.795475Z",
     "iopub.status.busy": "2025-08-07T23:34:06.795312Z",
     "iopub.status.idle": "2025-08-07T23:34:06.798399Z",
     "shell.execute_reply": "2025-08-07T23:34:06.798044Z"
    }
   },
   "outputs": [
    {
     "data": {
      "text/latex": [
       "$5.40 \\, \\phi_{a} (m)$"
      ],
      "text/plain": [
       "5.40 φa(m)"
      ]
     },
     "execution_count": 13,
     "metadata": {},
     "output_type": "execute_result"
    }
   ],
   "source": [
    "combo[0]"
   ]
  },
  {
   "cell_type": "code",
   "execution_count": 14,
   "id": "416b3950",
   "metadata": {
    "execution": {
     "iopub.execute_input": "2025-08-07T23:34:06.799829Z",
     "iopub.status.busy": "2025-08-07T23:34:06.799671Z",
     "iopub.status.idle": "2025-08-07T23:34:06.802964Z",
     "shell.execute_reply": "2025-08-07T23:34:06.802465Z"
    }
   },
   "outputs": [
    {
     "data": {
      "text/latex": [
       "$3.20 \\, \\phi_{b} (m)$"
      ],
      "text/plain": [
       "3.20 φb(m)"
      ]
     },
     "execution_count": 14,
     "metadata": {},
     "output_type": "execute_result"
    }
   ],
   "source": [
    "combo[1]"
   ]
  },
  {
   "cell_type": "markdown",
   "id": "edddc174",
   "metadata": {},
   "source": [
    "The elements in the combo **are the same** as used in its definition:"
   ]
  },
  {
   "cell_type": "code",
   "execution_count": 15,
   "id": "5712d7c4",
   "metadata": {
    "execution": {
     "iopub.execute_input": "2025-08-07T23:34:06.804471Z",
     "iopub.status.busy": "2025-08-07T23:34:06.804314Z",
     "iopub.status.idle": "2025-08-07T23:34:06.807514Z",
     "shell.execute_reply": "2025-08-07T23:34:06.807176Z"
    }
   },
   "outputs": [
    {
     "data": {
      "text/plain": [
       "True"
      ]
     },
     "execution_count": 15,
     "metadata": {},
     "output_type": "execute_result"
    }
   ],
   "source": [
    "combo[0] is term_1"
   ]
  },
  {
   "cell_type": "code",
   "execution_count": 16,
   "id": "6e762fae",
   "metadata": {
    "execution": {
     "iopub.execute_input": "2025-08-07T23:34:06.809022Z",
     "iopub.status.busy": "2025-08-07T23:34:06.808701Z",
     "iopub.status.idle": "2025-08-07T23:34:06.811855Z",
     "shell.execute_reply": "2025-08-07T23:34:06.811355Z"
    }
   },
   "outputs": [
    {
     "data": {
      "text/plain": [
       "True"
      ]
     },
     "execution_count": 16,
     "metadata": {},
     "output_type": "execute_result"
    }
   ],
   "source": [
    "combo[1] is term_2"
   ]
  },
  {
   "cell_type": "code",
   "execution_count": 17,
   "id": "23c909ff",
   "metadata": {
    "execution": {
     "iopub.execute_input": "2025-08-07T23:34:06.813280Z",
     "iopub.status.busy": "2025-08-07T23:34:06.813088Z",
     "iopub.status.idle": "2025-08-07T23:34:06.816085Z",
     "shell.execute_reply": "2025-08-07T23:34:06.815752Z"
    }
   },
   "outputs": [
    {
     "data": {
      "text/plain": [
       "True"
      ]
     },
     "execution_count": 17,
     "metadata": {},
     "output_type": "execute_result"
    }
   ],
   "source": [
    "term_1 in combo"
   ]
  },
  {
   "cell_type": "code",
   "execution_count": 18,
   "id": "0c880a5e",
   "metadata": {
    "execution": {
     "iopub.execute_input": "2025-08-07T23:34:06.817502Z",
     "iopub.status.busy": "2025-08-07T23:34:06.817346Z",
     "iopub.status.idle": "2025-08-07T23:34:06.820366Z",
     "shell.execute_reply": "2025-08-07T23:34:06.820035Z"
    }
   },
   "outputs": [
    {
     "data": {
      "text/plain": [
       "True"
      ]
     },
     "execution_count": 18,
     "metadata": {},
     "output_type": "execute_result"
    }
   ],
   "source": [
    "term_2 in combo"
   ]
  },
  {
   "cell_type": "markdown",
   "id": "cada5891",
   "metadata": {},
   "source": [
    "### Nested Combos"
   ]
  },
  {
   "cell_type": "markdown",
   "id": "6709d658",
   "metadata": {},
   "source": [
    "If we sum together three or more functions, we obtain a _nested_ combo structure:"
   ]
  },
  {
   "cell_type": "code",
   "execution_count": 19,
   "id": "7b28238c",
   "metadata": {
    "execution": {
     "iopub.execute_input": "2025-08-07T23:34:06.821915Z",
     "iopub.status.busy": "2025-08-07T23:34:06.821673Z",
     "iopub.status.idle": "2025-08-07T23:34:06.824923Z",
     "shell.execute_reply": "2025-08-07T23:34:06.824424Z"
    }
   },
   "outputs": [
    {
     "data": {
      "text/latex": [
       "$ [  [  \\phi_{a} (m) + \\phi_{b} (m)  ] + \\phi_{c} (m)  ] + \\phi_{d} (m) $"
      ],
      "text/plain": [
       "[ [ φa(m) + φb(m) ] + φc(m) ] + φd(m)"
      ]
     },
     "execution_count": 19,
     "metadata": {},
     "output_type": "execute_result"
    }
   ],
   "source": [
    "combo = a + b + c + d\n",
    "combo"
   ]
  },
  {
   "cell_type": "markdown",
   "id": "20ace78d",
   "metadata": {},
   "source": [
    "We need to be aware of this and its consequences:\n",
    "* The `combo` variable is a `Combo` with two elements: a `Combo` and the `d` objective function"
   ]
  },
  {
   "cell_type": "code",
   "execution_count": 20,
   "id": "e2b68e65",
   "metadata": {
    "execution": {
     "iopub.execute_input": "2025-08-07T23:34:06.826394Z",
     "iopub.status.busy": "2025-08-07T23:34:06.826228Z",
     "iopub.status.idle": "2025-08-07T23:34:06.829205Z",
     "shell.execute_reply": "2025-08-07T23:34:06.828871Z"
    }
   },
   "outputs": [
    {
     "data": {
      "text/plain": [
       "2"
      ]
     },
     "execution_count": 20,
     "metadata": {},
     "output_type": "execute_result"
    }
   ],
   "source": [
    "len(combo)"
   ]
  },
  {
   "cell_type": "code",
   "execution_count": 21,
   "id": "dfacafec",
   "metadata": {
    "execution": {
     "iopub.execute_input": "2025-08-07T23:34:06.830613Z",
     "iopub.status.busy": "2025-08-07T23:34:06.830459Z",
     "iopub.status.idle": "2025-08-07T23:34:06.833497Z",
     "shell.execute_reply": "2025-08-07T23:34:06.833168Z"
    }
   },
   "outputs": [
    {
     "data": {
      "text/latex": [
       "$ [  \\phi_{a} (m) + \\phi_{b} (m)  ] + \\phi_{c} (m) $"
      ],
      "text/plain": [
       "[ φa(m) + φb(m) ] + φc(m)"
      ]
     },
     "execution_count": 21,
     "metadata": {},
     "output_type": "execute_result"
    }
   ],
   "source": [
    "combo[0]"
   ]
  },
  {
   "cell_type": "code",
   "execution_count": 22,
   "id": "fab38dbd",
   "metadata": {
    "execution": {
     "iopub.execute_input": "2025-08-07T23:34:06.835098Z",
     "iopub.status.busy": "2025-08-07T23:34:06.834930Z",
     "iopub.status.idle": "2025-08-07T23:34:06.838122Z",
     "shell.execute_reply": "2025-08-07T23:34:06.837781Z"
    }
   },
   "outputs": [
    {
     "data": {
      "text/latex": [
       "$\\phi_{d} (m)$"
      ],
      "text/plain": [
       "φd(m)"
      ]
     },
     "execution_count": 22,
     "metadata": {},
     "output_type": "execute_result"
    }
   ],
   "source": [
    "combo[1]"
   ]
  },
  {
   "cell_type": "markdown",
   "id": "e382e253",
   "metadata": {},
   "source": [
    "* This means that `a`, `b` and `c` **are not** in `combo`:"
   ]
  },
  {
   "cell_type": "code",
   "execution_count": 23,
   "id": "df67dd34",
   "metadata": {
    "execution": {
     "iopub.execute_input": "2025-08-07T23:34:06.839750Z",
     "iopub.status.busy": "2025-08-07T23:34:06.839443Z",
     "iopub.status.idle": "2025-08-07T23:34:06.842576Z",
     "shell.execute_reply": "2025-08-07T23:34:06.841979Z"
    }
   },
   "outputs": [
    {
     "name": "stdout",
     "output_type": "stream",
     "text": [
      "False\n",
      "False\n",
      "False\n"
     ]
    }
   ],
   "source": [
    "print(a in combo)\n",
    "print(b in combo)\n",
    "print(c in combo)"
   ]
  },
  {
   "cell_type": "markdown",
   "id": "71980cab",
   "metadata": {},
   "source": [
    "* But `d` is part of `combo`:"
   ]
  },
  {
   "cell_type": "code",
   "execution_count": 24,
   "id": "9d278973",
   "metadata": {
    "execution": {
     "iopub.execute_input": "2025-08-07T23:34:06.844197Z",
     "iopub.status.busy": "2025-08-07T23:34:06.844036Z",
     "iopub.status.idle": "2025-08-07T23:34:06.847255Z",
     "shell.execute_reply": "2025-08-07T23:34:06.846910Z"
    }
   },
   "outputs": [
    {
     "data": {
      "text/plain": [
       "True"
      ]
     },
     "execution_count": 24,
     "metadata": {},
     "output_type": "execute_result"
    }
   ],
   "source": [
    "d in combo"
   ]
  },
  {
   "cell_type": "markdown",
   "id": "d2b0c55d",
   "metadata": {},
   "source": [
    "* The `combo[0]` is another `Combo` with two elements."
   ]
  },
  {
   "cell_type": "code",
   "execution_count": 25,
   "id": "9cd68535",
   "metadata": {
    "execution": {
     "iopub.execute_input": "2025-08-07T23:34:06.848740Z",
     "iopub.status.busy": "2025-08-07T23:34:06.848580Z",
     "iopub.status.idle": "2025-08-07T23:34:06.851813Z",
     "shell.execute_reply": "2025-08-07T23:34:06.851389Z"
    }
   },
   "outputs": [
    {
     "data": {
      "text/plain": [
       "2"
      ]
     },
     "execution_count": 25,
     "metadata": {},
     "output_type": "execute_result"
    }
   ],
   "source": [
    "len(combo[0])"
   ]
  },
  {
   "cell_type": "code",
   "execution_count": 26,
   "id": "2675812a",
   "metadata": {
    "execution": {
     "iopub.execute_input": "2025-08-07T23:34:06.853215Z",
     "iopub.status.busy": "2025-08-07T23:34:06.853023Z",
     "iopub.status.idle": "2025-08-07T23:34:06.856060Z",
     "shell.execute_reply": "2025-08-07T23:34:06.855729Z"
    }
   },
   "outputs": [
    {
     "data": {
      "text/latex": [
       "$ \\phi_{a} (m) + \\phi_{b} (m) $"
      ],
      "text/plain": [
       "φa(m) + φb(m)"
      ]
     },
     "execution_count": 26,
     "metadata": {},
     "output_type": "execute_result"
    }
   ],
   "source": [
    "combo[0][0]"
   ]
  },
  {
   "cell_type": "code",
   "execution_count": 27,
   "id": "685da4e1",
   "metadata": {
    "execution": {
     "iopub.execute_input": "2025-08-07T23:34:06.857493Z",
     "iopub.status.busy": "2025-08-07T23:34:06.857332Z",
     "iopub.status.idle": "2025-08-07T23:34:06.860519Z",
     "shell.execute_reply": "2025-08-07T23:34:06.860184Z"
    }
   },
   "outputs": [
    {
     "data": {
      "text/latex": [
       "$\\phi_{c} (m)$"
      ],
      "text/plain": [
       "φc(m)"
      ]
     },
     "execution_count": 27,
     "metadata": {},
     "output_type": "execute_result"
    }
   ],
   "source": [
    "combo[0][1]"
   ]
  },
  {
   "cell_type": "markdown",
   "id": "fedc0220",
   "metadata": {},
   "source": [
    "* We can organize how the structure is defined by using parenthesis:"
   ]
  },
  {
   "cell_type": "code",
   "execution_count": 28,
   "id": "806a0e29",
   "metadata": {
    "execution": {
     "iopub.execute_input": "2025-08-07T23:34:06.861968Z",
     "iopub.status.busy": "2025-08-07T23:34:06.861813Z",
     "iopub.status.idle": "2025-08-07T23:34:06.865149Z",
     "shell.execute_reply": "2025-08-07T23:34:06.864813Z"
    }
   },
   "outputs": [
    {
     "data": {
      "text/latex": [
       "$ [  \\phi_{a} (m) + \\phi_{b} (m)  ] + [  \\phi_{c} (m) + \\phi_{d} (m)  ] $"
      ],
      "text/plain": [
       "[ φa(m) + φb(m) ] + [ φc(m) + φd(m) ]"
      ]
     },
     "execution_count": 28,
     "metadata": {},
     "output_type": "execute_result"
    }
   ],
   "source": [
    "combo = (a + b) + (c + d)\n",
    "combo"
   ]
  },
  {
   "cell_type": "markdown",
   "id": "dfb23f1f",
   "metadata": {},
   "source": [
    "* We can use the `contains()` method to recursively search for an objective function in a `Combo`."
   ]
  },
  {
   "cell_type": "code",
   "execution_count": 29,
   "id": "87e9055e",
   "metadata": {
    "execution": {
     "iopub.execute_input": "2025-08-07T23:34:06.866634Z",
     "iopub.status.busy": "2025-08-07T23:34:06.866477Z",
     "iopub.status.idle": "2025-08-07T23:34:06.869634Z",
     "shell.execute_reply": "2025-08-07T23:34:06.869289Z"
    }
   },
   "outputs": [
    {
     "data": {
      "text/latex": [
       "$ [  \\phi_{a} (m) + \\phi_{b} (m)  ] + \\phi_{c} (m) $"
      ],
      "text/plain": [
       "[ φa(m) + φb(m) ] + φc(m)"
      ]
     },
     "execution_count": 29,
     "metadata": {},
     "output_type": "execute_result"
    }
   ],
   "source": [
    "combo = a + b + c\n",
    "combo"
   ]
  },
  {
   "cell_type": "code",
   "execution_count": 30,
   "id": "c1382dbe",
   "metadata": {
    "execution": {
     "iopub.execute_input": "2025-08-07T23:34:06.871043Z",
     "iopub.status.busy": "2025-08-07T23:34:06.870886Z",
     "iopub.status.idle": "2025-08-07T23:34:06.873890Z",
     "shell.execute_reply": "2025-08-07T23:34:06.873543Z"
    }
   },
   "outputs": [
    {
     "data": {
      "text/plain": [
       "True"
      ]
     },
     "execution_count": 30,
     "metadata": {},
     "output_type": "execute_result"
    }
   ],
   "source": [
    "combo.contains(a)"
   ]
  },
  {
   "cell_type": "code",
   "execution_count": 31,
   "id": "7d3fd9b1",
   "metadata": {
    "execution": {
     "iopub.execute_input": "2025-08-07T23:34:06.875366Z",
     "iopub.status.busy": "2025-08-07T23:34:06.875207Z",
     "iopub.status.idle": "2025-08-07T23:34:06.878278Z",
     "shell.execute_reply": "2025-08-07T23:34:06.877937Z"
    }
   },
   "outputs": [
    {
     "data": {
      "text/plain": [
       "False"
      ]
     },
     "execution_count": 31,
     "metadata": {},
     "output_type": "execute_result"
    }
   ],
   "source": [
    "combo.contains(d)"
   ]
  },
  {
   "cell_type": "code",
   "execution_count": 32,
   "id": "97779a13",
   "metadata": {
    "execution": {
     "iopub.execute_input": "2025-08-07T23:34:06.879719Z",
     "iopub.status.busy": "2025-08-07T23:34:06.879563Z",
     "iopub.status.idle": "2025-08-07T23:34:06.882773Z",
     "shell.execute_reply": "2025-08-07T23:34:06.882406Z"
    }
   },
   "outputs": [
    {
     "data": {
      "text/latex": [
       "$ [  5.20 \\, \\phi_{a} (m) + \\phi_{b} (m)  ] + \\phi_{c} (m) $"
      ],
      "text/plain": [
       "[ 5.20 φa(m) + φb(m) ] + φc(m)"
      ]
     },
     "execution_count": 32,
     "metadata": {},
     "output_type": "execute_result"
    }
   ],
   "source": [
    "combo = 5.2 * a + b + c\n",
    "combo"
   ]
  },
  {
   "cell_type": "code",
   "execution_count": 33,
   "id": "1782469e",
   "metadata": {
    "execution": {
     "iopub.execute_input": "2025-08-07T23:34:06.884241Z",
     "iopub.status.busy": "2025-08-07T23:34:06.884078Z",
     "iopub.status.idle": "2025-08-07T23:34:06.887114Z",
     "shell.execute_reply": "2025-08-07T23:34:06.886696Z"
    }
   },
   "outputs": [
    {
     "data": {
      "text/plain": [
       "True"
      ]
     },
     "execution_count": 33,
     "metadata": {},
     "output_type": "execute_result"
    }
   ],
   "source": [
    "combo.contains(a)"
   ]
  },
  {
   "cell_type": "markdown",
   "id": "c8d4667d",
   "metadata": {},
   "source": [
    "* The `contains()` method works with `Combo`s as well:"
   ]
  },
  {
   "cell_type": "code",
   "execution_count": 34,
   "id": "bbdbd37a",
   "metadata": {
    "execution": {
     "iopub.execute_input": "2025-08-07T23:34:06.888594Z",
     "iopub.status.busy": "2025-08-07T23:34:06.888406Z",
     "iopub.status.idle": "2025-08-07T23:34:06.891720Z",
     "shell.execute_reply": "2025-08-07T23:34:06.891384Z"
    }
   },
   "outputs": [
    {
     "data": {
      "text/latex": [
       "$ [  2.30 \\, [  \\phi_{a} (m) + \\phi_{b} (m)  ] + 1.00 \\cdot 10^{-3} \\, \\phi_{b} (m)  ] + \\phi_{c} (m) $"
      ],
      "text/plain": [
       "[ 2.30 [φa(m) + φb(m)] + 0.00 φb(m) ] + φc(m)"
      ]
     },
     "execution_count": 34,
     "metadata": {},
     "output_type": "execute_result"
    }
   ],
   "source": [
    "combo_a = a + b\n",
    "combo = (2.3 * combo_a + 1e-3 * b) + c\n",
    "combo"
   ]
  },
  {
   "cell_type": "code",
   "execution_count": 35,
   "id": "2a05bb6a",
   "metadata": {
    "execution": {
     "iopub.execute_input": "2025-08-07T23:34:06.893131Z",
     "iopub.status.busy": "2025-08-07T23:34:06.892977Z",
     "iopub.status.idle": "2025-08-07T23:34:06.896181Z",
     "shell.execute_reply": "2025-08-07T23:34:06.895840Z"
    }
   },
   "outputs": [
    {
     "data": {
      "text/plain": [
       "True"
      ]
     },
     "execution_count": 35,
     "metadata": {},
     "output_type": "execute_result"
    }
   ],
   "source": [
    "combo.contains(combo_a)"
   ]
  },
  {
   "cell_type": "markdown",
   "id": "87d0c573",
   "metadata": {},
   "source": [
    "### Flat combos"
   ]
  },
  {
   "cell_type": "markdown",
   "id": "b3b16a6b",
   "metadata": {},
   "source": [
    "If we prefer to have a _flat_ structure when adding together multiple functions, we can use the `flatten()` method:"
   ]
  },
  {
   "cell_type": "code",
   "execution_count": 36,
   "id": "e8bf86e4",
   "metadata": {
    "execution": {
     "iopub.execute_input": "2025-08-07T23:34:06.897804Z",
     "iopub.status.busy": "2025-08-07T23:34:06.897502Z",
     "iopub.status.idle": "2025-08-07T23:34:06.900838Z",
     "shell.execute_reply": "2025-08-07T23:34:06.900390Z"
    }
   },
   "outputs": [
    {
     "data": {
      "text/latex": [
       "$ \\phi_{a} (m) + \\phi_{b} (m) + \\phi_{c} (m) + \\phi_{d} (m) $"
      ],
      "text/plain": [
       "φa(m) + φb(m) + φc(m) + φd(m)"
      ]
     },
     "execution_count": 36,
     "metadata": {},
     "output_type": "execute_result"
    }
   ],
   "source": [
    "flat_combo = (a + b + c + d).flatten()\n",
    "flat_combo"
   ]
  },
  {
   "cell_type": "code",
   "execution_count": 37,
   "id": "44c4d316",
   "metadata": {
    "execution": {
     "iopub.execute_input": "2025-08-07T23:34:06.902194Z",
     "iopub.status.busy": "2025-08-07T23:34:06.902042Z",
     "iopub.status.idle": "2025-08-07T23:34:06.905210Z",
     "shell.execute_reply": "2025-08-07T23:34:06.904862Z"
    }
   },
   "outputs": [
    {
     "data": {
      "text/plain": [
       "False"
      ]
     },
     "execution_count": 37,
     "metadata": {},
     "output_type": "execute_result"
    }
   ],
   "source": [
    "combo in flat_combo"
   ]
  },
  {
   "cell_type": "markdown",
   "id": "311768a6",
   "metadata": {},
   "source": [
    "Flattening a `Combo` returns a new `Combo` object"
   ]
  },
  {
   "cell_type": "code",
   "execution_count": 38,
   "id": "a92eeef1",
   "metadata": {
    "execution": {
     "iopub.execute_input": "2025-08-07T23:34:06.906733Z",
     "iopub.status.busy": "2025-08-07T23:34:06.906445Z",
     "iopub.status.idle": "2025-08-07T23:34:06.909523Z",
     "shell.execute_reply": "2025-08-07T23:34:06.909200Z"
    }
   },
   "outputs": [
    {
     "data": {
      "text/latex": [
       "$ [  \\phi_{a} (m) + \\phi_{b} (m)  ] + [  \\phi_{c} (m) + \\phi_{d} (m)  ] $"
      ],
      "text/plain": [
       "[ φa(m) + φb(m) ] + [ φc(m) + φd(m) ]"
      ]
     },
     "execution_count": 38,
     "metadata": {},
     "output_type": "execute_result"
    }
   ],
   "source": [
    "combo = (a + b) + (c + d)\n",
    "combo"
   ]
  },
  {
   "cell_type": "code",
   "execution_count": 39,
   "id": "ee2435f9",
   "metadata": {
    "execution": {
     "iopub.execute_input": "2025-08-07T23:34:06.911215Z",
     "iopub.status.busy": "2025-08-07T23:34:06.911044Z",
     "iopub.status.idle": "2025-08-07T23:34:06.914488Z",
     "shell.execute_reply": "2025-08-07T23:34:06.914086Z"
    }
   },
   "outputs": [
    {
     "data": {
      "text/latex": [
       "$ \\phi_{a} (m) + \\phi_{b} (m) + \\phi_{c} (m) + \\phi_{d} (m) $"
      ],
      "text/plain": [
       "φa(m) + φb(m) + φc(m) + φd(m)"
      ]
     },
     "execution_count": 39,
     "metadata": {},
     "output_type": "execute_result"
    }
   ],
   "source": [
    "flat_combo = combo.flatten()\n",
    "flat_combo"
   ]
  },
  {
   "cell_type": "code",
   "execution_count": 40,
   "id": "199f4847",
   "metadata": {
    "execution": {
     "iopub.execute_input": "2025-08-07T23:34:06.916175Z",
     "iopub.status.busy": "2025-08-07T23:34:06.916012Z",
     "iopub.status.idle": "2025-08-07T23:34:06.919333Z",
     "shell.execute_reply": "2025-08-07T23:34:06.918990Z"
    }
   },
   "outputs": [
    {
     "data": {
      "text/plain": [
       "False"
      ]
     },
     "execution_count": 40,
     "metadata": {},
     "output_type": "execute_result"
    }
   ],
   "source": [
    "combo is flat_combo"
   ]
  }
 ],
 "metadata": {
  "kernelspec": {
   "display_name": "inversion_ideas",
   "language": "python",
   "name": "python3"
  },
  "language_info": {
   "codemirror_mode": {
    "name": "ipython",
    "version": 3
   },
   "file_extension": ".py",
   "mimetype": "text/x-python",
   "name": "python",
   "nbconvert_exporter": "python",
   "pygments_lexer": "ipython3",
   "version": "3.13.5"
  }
 },
 "nbformat": 4,
 "nbformat_minor": 5
}
