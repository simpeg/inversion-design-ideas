{
 "cells": [
  {
   "cell_type": "code",
   "execution_count": 1,
   "id": "ec5a23f6-1939-4bd6-9ddc-a33798bbe64f",
   "metadata": {
    "execution": {
     "iopub.execute_input": "2025-10-07T19:14:24.672038Z",
     "iopub.status.busy": "2025-10-07T19:14:24.671343Z",
     "iopub.status.idle": "2025-10-07T19:14:26.484204Z",
     "shell.execute_reply": "2025-10-07T19:14:26.483572Z"
    }
   },
   "outputs": [],
   "source": [
    "from inversion_ideas.base import Objective"
   ]
  },
  {
   "cell_type": "code",
   "execution_count": 2,
   "id": "9ec050b8-c948-41cb-b13d-d8e510fbfa4e",
   "metadata": {
    "execution": {
     "iopub.execute_input": "2025-10-07T19:14:26.486633Z",
     "iopub.status.busy": "2025-10-07T19:14:26.486342Z",
     "iopub.status.idle": "2025-10-07T19:14:26.490335Z",
     "shell.execute_reply": "2025-10-07T19:14:26.489738Z"
    }
   },
   "outputs": [],
   "source": [
    "class Dummy(Objective):\n",
    "    def __init__(self, n_params):\n",
    "        super().__init__()\n",
    "        self._n_params = n_params\n",
    "\n",
    "    @property\n",
    "    def n_params(self):\n",
    "        return self._n_params\n",
    "\n",
    "    def __call__(self, model):\n",
    "        pass\n",
    "\n",
    "    def gradient(self, model):\n",
    "        pass\n",
    "\n",
    "    def hessian(self, model):\n",
    "        pass\n",
    "\n",
    "    def hessian_diagonal(self, model):\n",
    "        pass"
   ]
  },
  {
   "cell_type": "markdown",
   "id": "b16bb178",
   "metadata": {},
   "source": [
    "## Define some objective functions and name them"
   ]
  },
  {
   "cell_type": "code",
   "execution_count": 3,
   "id": "00c39dc7-9da0-4a44-8950-b63c31f42cee",
   "metadata": {
    "execution": {
     "iopub.execute_input": "2025-10-07T19:14:26.492375Z",
     "iopub.status.busy": "2025-10-07T19:14:26.492183Z",
     "iopub.status.idle": "2025-10-07T19:14:26.497769Z",
     "shell.execute_reply": "2025-10-07T19:14:26.497331Z"
    }
   },
   "outputs": [
    {
     "data": {
      "text/latex": [
       "$\\phi_{a} (m)$"
      ],
      "text/plain": [
       "φa(m)"
      ]
     },
     "execution_count": 3,
     "metadata": {},
     "output_type": "execute_result"
    }
   ],
   "source": [
    "a = Dummy(3)\n",
    "a.set_name(\"a\")\n",
    "a"
   ]
  },
  {
   "cell_type": "code",
   "execution_count": 4,
   "id": "ab16bcf5-8529-4b01-9ce5-f0060110e73d",
   "metadata": {
    "execution": {
     "iopub.execute_input": "2025-10-07T19:14:26.499646Z",
     "iopub.status.busy": "2025-10-07T19:14:26.499463Z",
     "iopub.status.idle": "2025-10-07T19:14:26.503002Z",
     "shell.execute_reply": "2025-10-07T19:14:26.502589Z"
    }
   },
   "outputs": [
    {
     "data": {
      "text/latex": [
       "$\\phi_{b} (m)$"
      ],
      "text/plain": [
       "φb(m)"
      ]
     },
     "execution_count": 4,
     "metadata": {},
     "output_type": "execute_result"
    }
   ],
   "source": [
    "b = Dummy(3)\n",
    "b.set_name(\"b\")\n",
    "b"
   ]
  },
  {
   "cell_type": "code",
   "execution_count": 5,
   "id": "1da4940c-8fba-4aef-ba71-6979b31e8265",
   "metadata": {
    "execution": {
     "iopub.execute_input": "2025-10-07T19:14:26.504793Z",
     "iopub.status.busy": "2025-10-07T19:14:26.504613Z",
     "iopub.status.idle": "2025-10-07T19:14:26.508487Z",
     "shell.execute_reply": "2025-10-07T19:14:26.507903Z"
    }
   },
   "outputs": [
    {
     "data": {
      "text/latex": [
       "$\\phi_{c} (m)$"
      ],
      "text/plain": [
       "φc(m)"
      ]
     },
     "execution_count": 5,
     "metadata": {},
     "output_type": "execute_result"
    }
   ],
   "source": [
    "c = Dummy(3)\n",
    "c.set_name(\"c\")\n",
    "c"
   ]
  },
  {
   "cell_type": "code",
   "execution_count": 6,
   "id": "710cf93b",
   "metadata": {
    "execution": {
     "iopub.execute_input": "2025-10-07T19:14:26.510341Z",
     "iopub.status.busy": "2025-10-07T19:14:26.510104Z",
     "iopub.status.idle": "2025-10-07T19:14:26.514423Z",
     "shell.execute_reply": "2025-10-07T19:14:26.513864Z"
    }
   },
   "outputs": [
    {
     "data": {
      "text/latex": [
       "$\\phi_{d} (m)$"
      ],
      "text/plain": [
       "φd(m)"
      ]
     },
     "execution_count": 6,
     "metadata": {},
     "output_type": "execute_result"
    }
   ],
   "source": [
    "d = Dummy(3)\n",
    "d.set_name(\"d\")\n",
    "d"
   ]
  },
  {
   "cell_type": "markdown",
   "id": "9f36b948",
   "metadata": {},
   "source": [
    "## Experiment with Combo and Scaled"
   ]
  },
  {
   "cell_type": "markdown",
   "id": "66e4e69a",
   "metadata": {},
   "source": [
    "Simple combo of two objective functions:"
   ]
  },
  {
   "cell_type": "code",
   "execution_count": 7,
   "id": "1162487a",
   "metadata": {
    "execution": {
     "iopub.execute_input": "2025-10-07T19:14:26.516246Z",
     "iopub.status.busy": "2025-10-07T19:14:26.515988Z",
     "iopub.status.idle": "2025-10-07T19:14:26.520028Z",
     "shell.execute_reply": "2025-10-07T19:14:26.519462Z"
    }
   },
   "outputs": [
    {
     "data": {
      "text/latex": [
       "$ \\phi_{a} (m) + \\phi_{b} (m) $"
      ],
      "text/plain": [
       "φa(m) + φb(m)"
      ]
     },
     "execution_count": 7,
     "metadata": {},
     "output_type": "execute_result"
    }
   ],
   "source": [
    "combo = a + b\n",
    "combo"
   ]
  },
  {
   "cell_type": "markdown",
   "id": "f41f30a4",
   "metadata": {},
   "source": [
    "Multiply an objective function by a scalar"
   ]
  },
  {
   "cell_type": "code",
   "execution_count": 8,
   "id": "c59b599d",
   "metadata": {
    "execution": {
     "iopub.execute_input": "2025-10-07T19:14:26.521847Z",
     "iopub.status.busy": "2025-10-07T19:14:26.521616Z",
     "iopub.status.idle": "2025-10-07T19:14:26.529303Z",
     "shell.execute_reply": "2025-10-07T19:14:26.528694Z"
    }
   },
   "outputs": [
    {
     "data": {
      "text/latex": [
       "$5.40 \\, \\phi_{a} (m)$"
      ],
      "text/plain": [
       "5.40 φa(m)"
      ]
     },
     "execution_count": 8,
     "metadata": {},
     "output_type": "execute_result"
    }
   ],
   "source": [
    "scaled = 5.4 * a\n",
    "scaled"
   ]
  },
  {
   "cell_type": "markdown",
   "id": "836adbbb",
   "metadata": {},
   "source": [
    "Sum together scaled objective functions to get also a combo:"
   ]
  },
  {
   "cell_type": "code",
   "execution_count": 9,
   "id": "30e1d431",
   "metadata": {
    "execution": {
     "iopub.execute_input": "2025-10-07T19:14:26.531215Z",
     "iopub.status.busy": "2025-10-07T19:14:26.530934Z",
     "iopub.status.idle": "2025-10-07T19:14:26.535250Z",
     "shell.execute_reply": "2025-10-07T19:14:26.534647Z"
    }
   },
   "outputs": [
    {
     "data": {
      "text/latex": [
       "$ 5.40 \\, \\phi_{a} (m) + 3.20 \\, \\phi_{b} (m) $"
      ],
      "text/plain": [
       "5.40 φa(m) + 3.20 φb(m)"
      ]
     },
     "execution_count": 9,
     "metadata": {},
     "output_type": "execute_result"
    }
   ],
   "source": [
    "combo = 5.4 * a + 3.2 * b\n",
    "combo"
   ]
  },
  {
   "cell_type": "markdown",
   "id": "46e1b7bc",
   "metadata": {},
   "source": [
    "We can treat the combo as a _collection_:"
   ]
  },
  {
   "cell_type": "code",
   "execution_count": 10,
   "id": "b9c387cb",
   "metadata": {
    "execution": {
     "iopub.execute_input": "2025-10-07T19:14:26.537169Z",
     "iopub.status.busy": "2025-10-07T19:14:26.536891Z",
     "iopub.status.idle": "2025-10-07T19:14:26.541581Z",
     "shell.execute_reply": "2025-10-07T19:14:26.540971Z"
    }
   },
   "outputs": [
    {
     "data": {
      "text/latex": [
       "$ 5.40 \\, \\phi_{a} (m) + 3.20 \\, \\phi_{b} (m) $"
      ],
      "text/plain": [
       "5.40 φa(m) + 3.20 φb(m)"
      ]
     },
     "execution_count": 10,
     "metadata": {},
     "output_type": "execute_result"
    }
   ],
   "source": [
    "term_1 = 5.4 * a\n",
    "term_2 = 3.2 * b\n",
    "\n",
    "combo = term_1 + term_2\n",
    "combo"
   ]
  },
  {
   "cell_type": "code",
   "execution_count": 11,
   "id": "6615d2da",
   "metadata": {
    "execution": {
     "iopub.execute_input": "2025-10-07T19:14:26.543529Z",
     "iopub.status.busy": "2025-10-07T19:14:26.543217Z",
     "iopub.status.idle": "2025-10-07T19:14:26.547015Z",
     "shell.execute_reply": "2025-10-07T19:14:26.546422Z"
    }
   },
   "outputs": [
    {
     "name": "stdout",
     "output_type": "stream",
     "text": [
      "5.40 φa(m)\n",
      "3.20 φb(m)\n"
     ]
    }
   ],
   "source": [
    "for phi in combo:\n",
    "    print(phi)"
   ]
  },
  {
   "cell_type": "code",
   "execution_count": 12,
   "id": "a1779507",
   "metadata": {
    "execution": {
     "iopub.execute_input": "2025-10-07T19:14:26.548806Z",
     "iopub.status.busy": "2025-10-07T19:14:26.548529Z",
     "iopub.status.idle": "2025-10-07T19:14:26.552457Z",
     "shell.execute_reply": "2025-10-07T19:14:26.551858Z"
    }
   },
   "outputs": [
    {
     "data": {
      "text/plain": [
       "2"
      ]
     },
     "execution_count": 12,
     "metadata": {},
     "output_type": "execute_result"
    }
   ],
   "source": [
    "len(combo)"
   ]
  },
  {
   "cell_type": "code",
   "execution_count": 13,
   "id": "a2384a15",
   "metadata": {
    "execution": {
     "iopub.execute_input": "2025-10-07T19:14:26.554267Z",
     "iopub.status.busy": "2025-10-07T19:14:26.553993Z",
     "iopub.status.idle": "2025-10-07T19:14:26.558273Z",
     "shell.execute_reply": "2025-10-07T19:14:26.557691Z"
    }
   },
   "outputs": [
    {
     "data": {
      "text/latex": [
       "$5.40 \\, \\phi_{a} (m)$"
      ],
      "text/plain": [
       "5.40 φa(m)"
      ]
     },
     "execution_count": 13,
     "metadata": {},
     "output_type": "execute_result"
    }
   ],
   "source": [
    "combo[0]"
   ]
  },
  {
   "cell_type": "code",
   "execution_count": 14,
   "id": "416b3950",
   "metadata": {
    "execution": {
     "iopub.execute_input": "2025-10-07T19:14:26.560115Z",
     "iopub.status.busy": "2025-10-07T19:14:26.559874Z",
     "iopub.status.idle": "2025-10-07T19:14:26.564026Z",
     "shell.execute_reply": "2025-10-07T19:14:26.563512Z"
    }
   },
   "outputs": [
    {
     "data": {
      "text/latex": [
       "$3.20 \\, \\phi_{b} (m)$"
      ],
      "text/plain": [
       "3.20 φb(m)"
      ]
     },
     "execution_count": 14,
     "metadata": {},
     "output_type": "execute_result"
    }
   ],
   "source": [
    "combo[1]"
   ]
  },
  {
   "cell_type": "markdown",
   "id": "edddc174",
   "metadata": {},
   "source": [
    "The elements in the combo **are the same** as used in its definition:"
   ]
  },
  {
   "cell_type": "code",
   "execution_count": 15,
   "id": "5712d7c4",
   "metadata": {
    "execution": {
     "iopub.execute_input": "2025-10-07T19:14:26.565907Z",
     "iopub.status.busy": "2025-10-07T19:14:26.565705Z",
     "iopub.status.idle": "2025-10-07T19:14:26.568919Z",
     "shell.execute_reply": "2025-10-07T19:14:26.568555Z"
    }
   },
   "outputs": [
    {
     "data": {
      "text/plain": [
       "True"
      ]
     },
     "execution_count": 15,
     "metadata": {},
     "output_type": "execute_result"
    }
   ],
   "source": [
    "combo[0] is term_1"
   ]
  },
  {
   "cell_type": "code",
   "execution_count": 16,
   "id": "6e762fae",
   "metadata": {
    "execution": {
     "iopub.execute_input": "2025-10-07T19:14:26.570490Z",
     "iopub.status.busy": "2025-10-07T19:14:26.570177Z",
     "iopub.status.idle": "2025-10-07T19:14:26.573120Z",
     "shell.execute_reply": "2025-10-07T19:14:26.572770Z"
    }
   },
   "outputs": [
    {
     "data": {
      "text/plain": [
       "True"
      ]
     },
     "execution_count": 16,
     "metadata": {},
     "output_type": "execute_result"
    }
   ],
   "source": [
    "combo[1] is term_2"
   ]
  },
  {
   "cell_type": "code",
   "execution_count": 17,
   "id": "23c909ff",
   "metadata": {
    "execution": {
     "iopub.execute_input": "2025-10-07T19:14:26.574671Z",
     "iopub.status.busy": "2025-10-07T19:14:26.574499Z",
     "iopub.status.idle": "2025-10-07T19:14:26.577486Z",
     "shell.execute_reply": "2025-10-07T19:14:26.577133Z"
    }
   },
   "outputs": [
    {
     "data": {
      "text/plain": [
       "True"
      ]
     },
     "execution_count": 17,
     "metadata": {},
     "output_type": "execute_result"
    }
   ],
   "source": [
    "term_1 in combo"
   ]
  },
  {
   "cell_type": "code",
   "execution_count": 18,
   "id": "0c880a5e",
   "metadata": {
    "execution": {
     "iopub.execute_input": "2025-10-07T19:14:26.579058Z",
     "iopub.status.busy": "2025-10-07T19:14:26.578752Z",
     "iopub.status.idle": "2025-10-07T19:14:26.581830Z",
     "shell.execute_reply": "2025-10-07T19:14:26.581479Z"
    }
   },
   "outputs": [
    {
     "data": {
      "text/plain": [
       "True"
      ]
     },
     "execution_count": 18,
     "metadata": {},
     "output_type": "execute_result"
    }
   ],
   "source": [
    "term_2 in combo"
   ]
  },
  {
   "cell_type": "markdown",
   "id": "cada5891",
   "metadata": {},
   "source": [
    "### Nested Combos"
   ]
  },
  {
   "cell_type": "markdown",
   "id": "6709d658",
   "metadata": {},
   "source": [
    "If we sum together three or more functions, we obtain a _nested_ combo structure:"
   ]
  },
  {
   "cell_type": "code",
   "execution_count": 19,
   "id": "7b28238c",
   "metadata": {
    "execution": {
     "iopub.execute_input": "2025-10-07T19:14:26.583504Z",
     "iopub.status.busy": "2025-10-07T19:14:26.583313Z",
     "iopub.status.idle": "2025-10-07T19:14:26.586677Z",
     "shell.execute_reply": "2025-10-07T19:14:26.586318Z"
    }
   },
   "outputs": [
    {
     "data": {
      "text/latex": [
       "$ [  [  \\phi_{a} (m) + \\phi_{b} (m)  ] + \\phi_{c} (m)  ] + \\phi_{d} (m) $"
      ],
      "text/plain": [
       "[ [ φa(m) + φb(m) ] + φc(m) ] + φd(m)"
      ]
     },
     "execution_count": 19,
     "metadata": {},
     "output_type": "execute_result"
    }
   ],
   "source": [
    "combo = a + b + c + d\n",
    "combo"
   ]
  },
  {
   "cell_type": "markdown",
   "id": "20ace78d",
   "metadata": {},
   "source": [
    "We need to be aware of this and its consequences:\n",
    "* The `combo` variable is a `Combo` with two elements: a `Combo` and the `d` objective function"
   ]
  },
  {
   "cell_type": "code",
   "execution_count": 20,
   "id": "e2b68e65",
   "metadata": {
    "execution": {
     "iopub.execute_input": "2025-10-07T19:14:26.588401Z",
     "iopub.status.busy": "2025-10-07T19:14:26.588079Z",
     "iopub.status.idle": "2025-10-07T19:14:26.591321Z",
     "shell.execute_reply": "2025-10-07T19:14:26.590959Z"
    }
   },
   "outputs": [
    {
     "data": {
      "text/plain": [
       "2"
      ]
     },
     "execution_count": 20,
     "metadata": {},
     "output_type": "execute_result"
    }
   ],
   "source": [
    "len(combo)"
   ]
  },
  {
   "cell_type": "code",
   "execution_count": 21,
   "id": "dfacafec",
   "metadata": {
    "execution": {
     "iopub.execute_input": "2025-10-07T19:14:26.592860Z",
     "iopub.status.busy": "2025-10-07T19:14:26.592690Z",
     "iopub.status.idle": "2025-10-07T19:14:26.595697Z",
     "shell.execute_reply": "2025-10-07T19:14:26.595329Z"
    }
   },
   "outputs": [
    {
     "data": {
      "text/latex": [
       "$ [  \\phi_{a} (m) + \\phi_{b} (m)  ] + \\phi_{c} (m) $"
      ],
      "text/plain": [
       "[ φa(m) + φb(m) ] + φc(m)"
      ]
     },
     "execution_count": 21,
     "metadata": {},
     "output_type": "execute_result"
    }
   ],
   "source": [
    "combo[0]"
   ]
  },
  {
   "cell_type": "code",
   "execution_count": 22,
   "id": "fab38dbd",
   "metadata": {
    "execution": {
     "iopub.execute_input": "2025-10-07T19:14:26.597208Z",
     "iopub.status.busy": "2025-10-07T19:14:26.597037Z",
     "iopub.status.idle": "2025-10-07T19:14:26.600083Z",
     "shell.execute_reply": "2025-10-07T19:14:26.599717Z"
    }
   },
   "outputs": [
    {
     "data": {
      "text/latex": [
       "$\\phi_{d} (m)$"
      ],
      "text/plain": [
       "φd(m)"
      ]
     },
     "execution_count": 22,
     "metadata": {},
     "output_type": "execute_result"
    }
   ],
   "source": [
    "combo[1]"
   ]
  },
  {
   "cell_type": "markdown",
   "id": "e382e253",
   "metadata": {},
   "source": [
    "* This means that `a`, `b` and `c` **are not** in `combo`:"
   ]
  },
  {
   "cell_type": "code",
   "execution_count": 23,
   "id": "df67dd34",
   "metadata": {
    "execution": {
     "iopub.execute_input": "2025-10-07T19:14:26.601761Z",
     "iopub.status.busy": "2025-10-07T19:14:26.601415Z",
     "iopub.status.idle": "2025-10-07T19:14:26.604324Z",
     "shell.execute_reply": "2025-10-07T19:14:26.603817Z"
    }
   },
   "outputs": [
    {
     "name": "stdout",
     "output_type": "stream",
     "text": [
      "False\n",
      "False\n",
      "False\n"
     ]
    }
   ],
   "source": [
    "print(a in combo)\n",
    "print(b in combo)\n",
    "print(c in combo)"
   ]
  },
  {
   "cell_type": "markdown",
   "id": "71980cab",
   "metadata": {},
   "source": [
    "* But `d` is part of `combo`:"
   ]
  },
  {
   "cell_type": "code",
   "execution_count": 24,
   "id": "9d278973",
   "metadata": {
    "execution": {
     "iopub.execute_input": "2025-10-07T19:14:26.605975Z",
     "iopub.status.busy": "2025-10-07T19:14:26.605798Z",
     "iopub.status.idle": "2025-10-07T19:14:26.609026Z",
     "shell.execute_reply": "2025-10-07T19:14:26.608668Z"
    }
   },
   "outputs": [
    {
     "data": {
      "text/plain": [
       "True"
      ]
     },
     "execution_count": 24,
     "metadata": {},
     "output_type": "execute_result"
    }
   ],
   "source": [
    "d in combo"
   ]
  },
  {
   "cell_type": "markdown",
   "id": "d2b0c55d",
   "metadata": {},
   "source": [
    "* The `combo[0]` is another `Combo` with two elements."
   ]
  },
  {
   "cell_type": "code",
   "execution_count": 25,
   "id": "9cd68535",
   "metadata": {
    "execution": {
     "iopub.execute_input": "2025-10-07T19:14:26.610633Z",
     "iopub.status.busy": "2025-10-07T19:14:26.610464Z",
     "iopub.status.idle": "2025-10-07T19:14:26.613571Z",
     "shell.execute_reply": "2025-10-07T19:14:26.613218Z"
    }
   },
   "outputs": [
    {
     "data": {
      "text/plain": [
       "2"
      ]
     },
     "execution_count": 25,
     "metadata": {},
     "output_type": "execute_result"
    }
   ],
   "source": [
    "len(combo[0])"
   ]
  },
  {
   "cell_type": "code",
   "execution_count": 26,
   "id": "2675812a",
   "metadata": {
    "execution": {
     "iopub.execute_input": "2025-10-07T19:14:26.615142Z",
     "iopub.status.busy": "2025-10-07T19:14:26.614824Z",
     "iopub.status.idle": "2025-10-07T19:14:26.618152Z",
     "shell.execute_reply": "2025-10-07T19:14:26.617681Z"
    }
   },
   "outputs": [
    {
     "data": {
      "text/latex": [
       "$ \\phi_{a} (m) + \\phi_{b} (m) $"
      ],
      "text/plain": [
       "φa(m) + φb(m)"
      ]
     },
     "execution_count": 26,
     "metadata": {},
     "output_type": "execute_result"
    }
   ],
   "source": [
    "combo[0][0]"
   ]
  },
  {
   "cell_type": "code",
   "execution_count": 27,
   "id": "685da4e1",
   "metadata": {
    "execution": {
     "iopub.execute_input": "2025-10-07T19:14:26.619673Z",
     "iopub.status.busy": "2025-10-07T19:14:26.619495Z",
     "iopub.status.idle": "2025-10-07T19:14:26.622909Z",
     "shell.execute_reply": "2025-10-07T19:14:26.622499Z"
    }
   },
   "outputs": [
    {
     "data": {
      "text/latex": [
       "$\\phi_{c} (m)$"
      ],
      "text/plain": [
       "φc(m)"
      ]
     },
     "execution_count": 27,
     "metadata": {},
     "output_type": "execute_result"
    }
   ],
   "source": [
    "combo[0][1]"
   ]
  },
  {
   "cell_type": "markdown",
   "id": "fedc0220",
   "metadata": {},
   "source": [
    "* We can organize how the structure is defined by using parenthesis:"
   ]
  },
  {
   "cell_type": "code",
   "execution_count": 28,
   "id": "806a0e29",
   "metadata": {
    "execution": {
     "iopub.execute_input": "2025-10-07T19:14:26.624791Z",
     "iopub.status.busy": "2025-10-07T19:14:26.624614Z",
     "iopub.status.idle": "2025-10-07T19:14:26.628180Z",
     "shell.execute_reply": "2025-10-07T19:14:26.627745Z"
    }
   },
   "outputs": [
    {
     "data": {
      "text/latex": [
       "$ [  \\phi_{a} (m) + \\phi_{b} (m)  ] + [  \\phi_{c} (m) + \\phi_{d} (m)  ] $"
      ],
      "text/plain": [
       "[ φa(m) + φb(m) ] + [ φc(m) + φd(m) ]"
      ]
     },
     "execution_count": 28,
     "metadata": {},
     "output_type": "execute_result"
    }
   ],
   "source": [
    "combo = (a + b) + (c + d)\n",
    "combo"
   ]
  },
  {
   "cell_type": "markdown",
   "id": "dfb23f1f",
   "metadata": {},
   "source": [
    "* We can use the `contains()` method to recursively search for an objective function in a `Combo`."
   ]
  },
  {
   "cell_type": "code",
   "execution_count": 29,
   "id": "87e9055e",
   "metadata": {
    "execution": {
     "iopub.execute_input": "2025-10-07T19:14:26.630153Z",
     "iopub.status.busy": "2025-10-07T19:14:26.629779Z",
     "iopub.status.idle": "2025-10-07T19:14:26.633203Z",
     "shell.execute_reply": "2025-10-07T19:14:26.632768Z"
    }
   },
   "outputs": [
    {
     "data": {
      "text/latex": [
       "$ [  \\phi_{a} (m) + \\phi_{b} (m)  ] + \\phi_{c} (m) $"
      ],
      "text/plain": [
       "[ φa(m) + φb(m) ] + φc(m)"
      ]
     },
     "execution_count": 29,
     "metadata": {},
     "output_type": "execute_result"
    }
   ],
   "source": [
    "combo = a + b + c\n",
    "combo"
   ]
  },
  {
   "cell_type": "code",
   "execution_count": 30,
   "id": "c1382dbe",
   "metadata": {
    "execution": {
     "iopub.execute_input": "2025-10-07T19:14:26.634878Z",
     "iopub.status.busy": "2025-10-07T19:14:26.634708Z",
     "iopub.status.idle": "2025-10-07T19:14:26.638170Z",
     "shell.execute_reply": "2025-10-07T19:14:26.637648Z"
    }
   },
   "outputs": [
    {
     "data": {
      "text/plain": [
       "True"
      ]
     },
     "execution_count": 30,
     "metadata": {},
     "output_type": "execute_result"
    }
   ],
   "source": [
    "combo.contains(a)"
   ]
  },
  {
   "cell_type": "code",
   "execution_count": 31,
   "id": "7d3fd9b1",
   "metadata": {
    "execution": {
     "iopub.execute_input": "2025-10-07T19:14:26.639913Z",
     "iopub.status.busy": "2025-10-07T19:14:26.639708Z",
     "iopub.status.idle": "2025-10-07T19:14:26.643152Z",
     "shell.execute_reply": "2025-10-07T19:14:26.642788Z"
    }
   },
   "outputs": [
    {
     "data": {
      "text/plain": [
       "False"
      ]
     },
     "execution_count": 31,
     "metadata": {},
     "output_type": "execute_result"
    }
   ],
   "source": [
    "combo.contains(d)"
   ]
  },
  {
   "cell_type": "code",
   "execution_count": 32,
   "id": "97779a13",
   "metadata": {
    "execution": {
     "iopub.execute_input": "2025-10-07T19:14:26.644640Z",
     "iopub.status.busy": "2025-10-07T19:14:26.644470Z",
     "iopub.status.idle": "2025-10-07T19:14:26.647728Z",
     "shell.execute_reply": "2025-10-07T19:14:26.647354Z"
    }
   },
   "outputs": [
    {
     "data": {
      "text/latex": [
       "$ [  5.20 \\, \\phi_{a} (m) + \\phi_{b} (m)  ] + \\phi_{c} (m) $"
      ],
      "text/plain": [
       "[ 5.20 φa(m) + φb(m) ] + φc(m)"
      ]
     },
     "execution_count": 32,
     "metadata": {},
     "output_type": "execute_result"
    }
   ],
   "source": [
    "combo = 5.2 * a + b + c\n",
    "combo"
   ]
  },
  {
   "cell_type": "code",
   "execution_count": 33,
   "id": "1782469e",
   "metadata": {
    "execution": {
     "iopub.execute_input": "2025-10-07T19:14:26.649255Z",
     "iopub.status.busy": "2025-10-07T19:14:26.649085Z",
     "iopub.status.idle": "2025-10-07T19:14:26.652870Z",
     "shell.execute_reply": "2025-10-07T19:14:26.652383Z"
    }
   },
   "outputs": [
    {
     "data": {
      "text/plain": [
       "True"
      ]
     },
     "execution_count": 33,
     "metadata": {},
     "output_type": "execute_result"
    }
   ],
   "source": [
    "combo.contains(a)"
   ]
  },
  {
   "cell_type": "markdown",
   "id": "c8d4667d",
   "metadata": {},
   "source": [
    "* The `contains()` method works with `Combo`s as well:"
   ]
  },
  {
   "cell_type": "code",
   "execution_count": 34,
   "id": "bbdbd37a",
   "metadata": {
    "execution": {
     "iopub.execute_input": "2025-10-07T19:14:26.654473Z",
     "iopub.status.busy": "2025-10-07T19:14:26.654261Z",
     "iopub.status.idle": "2025-10-07T19:14:26.657777Z",
     "shell.execute_reply": "2025-10-07T19:14:26.657404Z"
    }
   },
   "outputs": [
    {
     "data": {
      "text/latex": [
       "$ [  2.30 \\, [  \\phi_{a} (m) + \\phi_{b} (m)  ] + 1.00 \\cdot 10^{-3} \\, \\phi_{b} (m)  ] + \\phi_{c} (m) $"
      ],
      "text/plain": [
       "[ 2.30 [φa(m) + φb(m)] + 0.00 φb(m) ] + φc(m)"
      ]
     },
     "execution_count": 34,
     "metadata": {},
     "output_type": "execute_result"
    }
   ],
   "source": [
    "combo_a = a + b\n",
    "combo = (2.3 * combo_a + 1e-3 * b) + c\n",
    "combo"
   ]
  },
  {
   "cell_type": "code",
   "execution_count": 35,
   "id": "2a05bb6a",
   "metadata": {
    "execution": {
     "iopub.execute_input": "2025-10-07T19:14:26.659321Z",
     "iopub.status.busy": "2025-10-07T19:14:26.659149Z",
     "iopub.status.idle": "2025-10-07T19:14:26.662404Z",
     "shell.execute_reply": "2025-10-07T19:14:26.662048Z"
    }
   },
   "outputs": [
    {
     "data": {
      "text/plain": [
       "True"
      ]
     },
     "execution_count": 35,
     "metadata": {},
     "output_type": "execute_result"
    }
   ],
   "source": [
    "combo.contains(combo_a)"
   ]
  },
  {
   "cell_type": "markdown",
   "id": "87d0c573",
   "metadata": {},
   "source": [
    "### Flat combos"
   ]
  },
  {
   "cell_type": "markdown",
   "id": "b3b16a6b",
   "metadata": {},
   "source": [
    "If we prefer to have a _flat_ structure when adding together multiple functions, we can use the `flatten()` method:"
   ]
  },
  {
   "cell_type": "code",
   "execution_count": 36,
   "id": "e8bf86e4",
   "metadata": {
    "execution": {
     "iopub.execute_input": "2025-10-07T19:14:26.663994Z",
     "iopub.status.busy": "2025-10-07T19:14:26.663795Z",
     "iopub.status.idle": "2025-10-07T19:14:26.667084Z",
     "shell.execute_reply": "2025-10-07T19:14:26.666725Z"
    }
   },
   "outputs": [
    {
     "data": {
      "text/latex": [
       "$ \\phi_{a} (m) + \\phi_{b} (m) + \\phi_{c} (m) + \\phi_{d} (m) $"
      ],
      "text/plain": [
       "φa(m) + φb(m) + φc(m) + φd(m)"
      ]
     },
     "execution_count": 36,
     "metadata": {},
     "output_type": "execute_result"
    }
   ],
   "source": [
    "flat_combo = (a + b + c + d).flatten()\n",
    "flat_combo"
   ]
  },
  {
   "cell_type": "code",
   "execution_count": 37,
   "id": "44c4d316",
   "metadata": {
    "execution": {
     "iopub.execute_input": "2025-10-07T19:14:26.668636Z",
     "iopub.status.busy": "2025-10-07T19:14:26.668461Z",
     "iopub.status.idle": "2025-10-07T19:14:26.671644Z",
     "shell.execute_reply": "2025-10-07T19:14:26.671268Z"
    }
   },
   "outputs": [
    {
     "data": {
      "text/plain": [
       "False"
      ]
     },
     "execution_count": 37,
     "metadata": {},
     "output_type": "execute_result"
    }
   ],
   "source": [
    "combo in flat_combo"
   ]
  },
  {
   "cell_type": "markdown",
   "id": "311768a6",
   "metadata": {},
   "source": [
    "Flattening a `Combo` returns a new `Combo` object"
   ]
  },
  {
   "cell_type": "code",
   "execution_count": 38,
   "id": "a92eeef1",
   "metadata": {
    "execution": {
     "iopub.execute_input": "2025-10-07T19:14:26.673361Z",
     "iopub.status.busy": "2025-10-07T19:14:26.673003Z",
     "iopub.status.idle": "2025-10-07T19:14:26.676121Z",
     "shell.execute_reply": "2025-10-07T19:14:26.675735Z"
    }
   },
   "outputs": [
    {
     "data": {
      "text/latex": [
       "$ [  \\phi_{a} (m) + \\phi_{b} (m)  ] + [  \\phi_{c} (m) + \\phi_{d} (m)  ] $"
      ],
      "text/plain": [
       "[ φa(m) + φb(m) ] + [ φc(m) + φd(m) ]"
      ]
     },
     "execution_count": 38,
     "metadata": {},
     "output_type": "execute_result"
    }
   ],
   "source": [
    "combo = (a + b) + (c + d)\n",
    "combo"
   ]
  },
  {
   "cell_type": "code",
   "execution_count": 39,
   "id": "ee2435f9",
   "metadata": {
    "execution": {
     "iopub.execute_input": "2025-10-07T19:14:26.677684Z",
     "iopub.status.busy": "2025-10-07T19:14:26.677512Z",
     "iopub.status.idle": "2025-10-07T19:14:26.680541Z",
     "shell.execute_reply": "2025-10-07T19:14:26.680182Z"
    }
   },
   "outputs": [
    {
     "data": {
      "text/latex": [
       "$ \\phi_{a} (m) + \\phi_{b} (m) + \\phi_{c} (m) + \\phi_{d} (m) $"
      ],
      "text/plain": [
       "φa(m) + φb(m) + φc(m) + φd(m)"
      ]
     },
     "execution_count": 39,
     "metadata": {},
     "output_type": "execute_result"
    }
   ],
   "source": [
    "flat_combo = combo.flatten()\n",
    "flat_combo"
   ]
  },
  {
   "cell_type": "code",
   "execution_count": 40,
   "id": "199f4847",
   "metadata": {
    "execution": {
     "iopub.execute_input": "2025-10-07T19:14:26.682104Z",
     "iopub.status.busy": "2025-10-07T19:14:26.681929Z",
     "iopub.status.idle": "2025-10-07T19:14:26.684909Z",
     "shell.execute_reply": "2025-10-07T19:14:26.684521Z"
    }
   },
   "outputs": [
    {
     "data": {
      "text/plain": [
       "False"
      ]
     },
     "execution_count": 40,
     "metadata": {},
     "output_type": "execute_result"
    }
   ],
   "source": [
    "combo is flat_combo"
   ]
  }
 ],
 "metadata": {
  "kernelspec": {
   "display_name": "Python [conda env:inversion_ideas]",
   "language": "python",
   "name": "conda-env-inversion_ideas-py"
  },
  "language_info": {
   "codemirror_mode": {
    "name": "ipython",
    "version": 3
   },
   "file_extension": ".py",
   "mimetype": "text/x-python",
   "name": "python",
   "nbconvert_exporter": "python",
   "pygments_lexer": "ipython3",
   "version": "3.13.5"
  }
 },
 "nbformat": 4,
 "nbformat_minor": 5
}
