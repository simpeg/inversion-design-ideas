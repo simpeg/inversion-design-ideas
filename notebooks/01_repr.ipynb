{
 "cells": [
  {
   "cell_type": "code",
   "execution_count": 1,
   "id": "ec5a23f6-1939-4bd6-9ddc-a33798bbe64f",
   "metadata": {
    "execution": {
     "iopub.execute_input": "2025-08-13T18:47:34.351460Z",
     "iopub.status.busy": "2025-08-13T18:47:34.350805Z",
     "iopub.status.idle": "2025-08-13T18:47:34.589425Z",
     "shell.execute_reply": "2025-08-13T18:47:34.588964Z"
    }
   },
   "outputs": [],
   "source": [
    "\n",
    "from inversion_ideas.base import Objective"
   ]
  },
  {
   "cell_type": "code",
   "execution_count": 2,
   "id": "9ec050b8-c948-41cb-b13d-d8e510fbfa4e",
   "metadata": {
    "execution": {
     "iopub.execute_input": "2025-08-13T18:47:34.591584Z",
     "iopub.status.busy": "2025-08-13T18:47:34.591350Z",
     "iopub.status.idle": "2025-08-13T18:47:34.594668Z",
     "shell.execute_reply": "2025-08-13T18:47:34.594280Z"
    }
   },
   "outputs": [],
   "source": [
    "class Dummy(Objective):\n",
    "    def __init__(self, n_params):\n",
    "        super().__init__()\n",
    "        self._n_params = n_params\n",
    "\n",
    "    @property\n",
    "    def n_params(self):\n",
    "        return self._n_params\n",
    "        \n",
    "    def __call__(self, model):\n",
    "        pass\n",
    "        \n",
    "    def gradient(self, model):\n",
    "        pass\n",
    "        \n",
    "    def hessian(self, model):\n",
    "        pass"
   ]
  },
  {
   "cell_type": "markdown",
   "id": "b16bb178",
   "metadata": {},
   "source": [
    "## Define some objective functions and name them"
   ]
  },
  {
   "cell_type": "code",
   "execution_count": 3,
   "id": "00c39dc7-9da0-4a44-8950-b63c31f42cee",
   "metadata": {
    "execution": {
     "iopub.execute_input": "2025-08-13T18:47:34.596342Z",
     "iopub.status.busy": "2025-08-13T18:47:34.596160Z",
     "iopub.status.idle": "2025-08-13T18:47:34.600828Z",
     "shell.execute_reply": "2025-08-13T18:47:34.600509Z"
    }
   },
   "outputs": [
    {
     "data": {
      "text/latex": [
       "$\\phi_{a} (m)$"
      ],
      "text/plain": [
       "φa(m)"
      ]
     },
     "execution_count": 3,
     "metadata": {},
     "output_type": "execute_result"
    }
   ],
   "source": [
    "a = Dummy(3)\n",
    "a.set_name(\"a\")\n",
    "a"
   ]
  },
  {
   "cell_type": "code",
   "execution_count": 4,
   "id": "ab16bcf5-8529-4b01-9ce5-f0060110e73d",
   "metadata": {
    "execution": {
     "iopub.execute_input": "2025-08-13T18:47:34.602311Z",
     "iopub.status.busy": "2025-08-13T18:47:34.602153Z",
     "iopub.status.idle": "2025-08-13T18:47:34.605232Z",
     "shell.execute_reply": "2025-08-13T18:47:34.604923Z"
    }
   },
   "outputs": [
    {
     "data": {
      "text/latex": [
       "$\\phi_{b} (m)$"
      ],
      "text/plain": [
       "φb(m)"
      ]
     },
     "execution_count": 4,
     "metadata": {},
     "output_type": "execute_result"
    }
   ],
   "source": [
    "b = Dummy(3)\n",
    "b.set_name(\"b\")\n",
    "b"
   ]
  },
  {
   "cell_type": "code",
   "execution_count": 5,
   "id": "1da4940c-8fba-4aef-ba71-6979b31e8265",
   "metadata": {
    "execution": {
     "iopub.execute_input": "2025-08-13T18:47:34.606641Z",
     "iopub.status.busy": "2025-08-13T18:47:34.606485Z",
     "iopub.status.idle": "2025-08-13T18:47:34.609410Z",
     "shell.execute_reply": "2025-08-13T18:47:34.609107Z"
    }
   },
   "outputs": [
    {
     "data": {
      "text/latex": [
       "$\\phi_{c} (m)$"
      ],
      "text/plain": [
       "φc(m)"
      ]
     },
     "execution_count": 5,
     "metadata": {},
     "output_type": "execute_result"
    }
   ],
   "source": [
    "c = Dummy(3)\n",
    "c.set_name(\"c\")\n",
    "c"
   ]
  },
  {
   "cell_type": "code",
   "execution_count": 6,
   "id": "710cf93b",
   "metadata": {
    "execution": {
     "iopub.execute_input": "2025-08-13T18:47:34.610894Z",
     "iopub.status.busy": "2025-08-13T18:47:34.610739Z",
     "iopub.status.idle": "2025-08-13T18:47:34.613441Z",
     "shell.execute_reply": "2025-08-13T18:47:34.613143Z"
    }
   },
   "outputs": [
    {
     "data": {
      "text/latex": [
       "$\\phi_{d} (m)$"
      ],
      "text/plain": [
       "φd(m)"
      ]
     },
     "execution_count": 6,
     "metadata": {},
     "output_type": "execute_result"
    }
   ],
   "source": [
    "d = Dummy(3)\n",
    "d.set_name(\"d\")\n",
    "d"
   ]
  },
  {
   "cell_type": "markdown",
   "id": "9f36b948",
   "metadata": {},
   "source": [
    "## Experiment with Combo and Scaled"
   ]
  },
  {
   "cell_type": "markdown",
   "id": "66e4e69a",
   "metadata": {},
   "source": [
    "Simple combo of two objective functions:"
   ]
  },
  {
   "cell_type": "code",
   "execution_count": 7,
   "id": "1162487a",
   "metadata": {
    "execution": {
     "iopub.execute_input": "2025-08-13T18:47:34.615004Z",
     "iopub.status.busy": "2025-08-13T18:47:34.614849Z",
     "iopub.status.idle": "2025-08-13T18:47:34.617658Z",
     "shell.execute_reply": "2025-08-13T18:47:34.617294Z"
    }
   },
   "outputs": [
    {
     "data": {
      "text/latex": [
       "$ \\phi_{a} (m) + \\phi_{b} (m) $"
      ],
      "text/plain": [
       "φa(m) + φb(m)"
      ]
     },
     "execution_count": 7,
     "metadata": {},
     "output_type": "execute_result"
    }
   ],
   "source": [
    "combo = a + b\n",
    "combo"
   ]
  },
  {
   "cell_type": "markdown",
   "id": "f41f30a4",
   "metadata": {},
   "source": [
    "Multiply an objective function by a scalar"
   ]
  },
  {
   "cell_type": "code",
   "execution_count": 8,
   "id": "c59b599d",
   "metadata": {
    "execution": {
     "iopub.execute_input": "2025-08-13T18:47:34.619026Z",
     "iopub.status.busy": "2025-08-13T18:47:34.618870Z",
     "iopub.status.idle": "2025-08-13T18:47:34.622023Z",
     "shell.execute_reply": "2025-08-13T18:47:34.621711Z"
    }
   },
   "outputs": [
    {
     "data": {
      "text/latex": [
       "$5.40 \\, \\phi_{a} (m)$"
      ],
      "text/plain": [
       "5.40 φa(m)"
      ]
     },
     "execution_count": 8,
     "metadata": {},
     "output_type": "execute_result"
    }
   ],
   "source": [
    "scaled = 5.4 * a\n",
    "scaled"
   ]
  },
  {
   "cell_type": "markdown",
   "id": "836adbbb",
   "metadata": {},
   "source": [
    "Sum together scaled objective functions to get also a combo:"
   ]
  },
  {
   "cell_type": "code",
   "execution_count": 9,
   "id": "30e1d431",
   "metadata": {
    "execution": {
     "iopub.execute_input": "2025-08-13T18:47:34.623456Z",
     "iopub.status.busy": "2025-08-13T18:47:34.623302Z",
     "iopub.status.idle": "2025-08-13T18:47:34.626331Z",
     "shell.execute_reply": "2025-08-13T18:47:34.625928Z"
    }
   },
   "outputs": [
    {
     "data": {
      "text/latex": [
       "$ 5.40 \\, \\phi_{a} (m) + 3.20 \\, \\phi_{b} (m) $"
      ],
      "text/plain": [
       "5.40 φa(m) + 3.20 φb(m)"
      ]
     },
     "execution_count": 9,
     "metadata": {},
     "output_type": "execute_result"
    }
   ],
   "source": [
    "combo = 5.4 * a + 3.2 * b\n",
    "combo"
   ]
  },
  {
   "cell_type": "markdown",
   "id": "46e1b7bc",
   "metadata": {},
   "source": [
    "We can treat the combo as a _collection_:"
   ]
  },
  {
   "cell_type": "code",
   "execution_count": 10,
   "id": "b9c387cb",
   "metadata": {
    "execution": {
     "iopub.execute_input": "2025-08-13T18:47:34.627757Z",
     "iopub.status.busy": "2025-08-13T18:47:34.627601Z",
     "iopub.status.idle": "2025-08-13T18:47:34.630985Z",
     "shell.execute_reply": "2025-08-13T18:47:34.630576Z"
    }
   },
   "outputs": [
    {
     "data": {
      "text/latex": [
       "$ 5.40 \\, \\phi_{a} (m) + 3.20 \\, \\phi_{b} (m) $"
      ],
      "text/plain": [
       "5.40 φa(m) + 3.20 φb(m)"
      ]
     },
     "execution_count": 10,
     "metadata": {},
     "output_type": "execute_result"
    }
   ],
   "source": [
    "term_1 = 5.4 * a\n",
    "term_2 = 3.2 * b\n",
    "\n",
    "combo = term_1 + term_2\n",
    "combo"
   ]
  },
  {
   "cell_type": "code",
   "execution_count": 11,
   "id": "6615d2da",
   "metadata": {
    "execution": {
     "iopub.execute_input": "2025-08-13T18:47:34.632504Z",
     "iopub.status.busy": "2025-08-13T18:47:34.632298Z",
     "iopub.status.idle": "2025-08-13T18:47:34.635328Z",
     "shell.execute_reply": "2025-08-13T18:47:34.634844Z"
    }
   },
   "outputs": [
    {
     "name": "stdout",
     "output_type": "stream",
     "text": [
      "5.40 φa(m)\n",
      "3.20 φb(m)\n"
     ]
    }
   ],
   "source": [
    "for phi in combo:\n",
    "    print(phi)"
   ]
  },
  {
   "cell_type": "code",
   "execution_count": 12,
   "id": "a1779507",
   "metadata": {
    "execution": {
     "iopub.execute_input": "2025-08-13T18:47:34.636876Z",
     "iopub.status.busy": "2025-08-13T18:47:34.636671Z",
     "iopub.status.idle": "2025-08-13T18:47:34.640057Z",
     "shell.execute_reply": "2025-08-13T18:47:34.639542Z"
    }
   },
   "outputs": [
    {
     "data": {
      "text/plain": [
       "2"
      ]
     },
     "execution_count": 12,
     "metadata": {},
     "output_type": "execute_result"
    }
   ],
   "source": [
    "len(combo)"
   ]
  },
  {
   "cell_type": "code",
   "execution_count": 13,
   "id": "a2384a15",
   "metadata": {
    "execution": {
     "iopub.execute_input": "2025-08-13T18:47:34.641671Z",
     "iopub.status.busy": "2025-08-13T18:47:34.641451Z",
     "iopub.status.idle": "2025-08-13T18:47:34.644468Z",
     "shell.execute_reply": "2025-08-13T18:47:34.644160Z"
    }
   },
   "outputs": [
    {
     "data": {
      "text/latex": [
       "$5.40 \\, \\phi_{a} (m)$"
      ],
      "text/plain": [
       "5.40 φa(m)"
      ]
     },
     "execution_count": 13,
     "metadata": {},
     "output_type": "execute_result"
    }
   ],
   "source": [
    "combo[0]"
   ]
  },
  {
   "cell_type": "code",
   "execution_count": 14,
   "id": "416b3950",
   "metadata": {
    "execution": {
     "iopub.execute_input": "2025-08-13T18:47:34.645917Z",
     "iopub.status.busy": "2025-08-13T18:47:34.645764Z",
     "iopub.status.idle": "2025-08-13T18:47:34.648670Z",
     "shell.execute_reply": "2025-08-13T18:47:34.648363Z"
    }
   },
   "outputs": [
    {
     "data": {
      "text/latex": [
       "$3.20 \\, \\phi_{b} (m)$"
      ],
      "text/plain": [
       "3.20 φb(m)"
      ]
     },
     "execution_count": 14,
     "metadata": {},
     "output_type": "execute_result"
    }
   ],
   "source": [
    "combo[1]"
   ]
  },
  {
   "cell_type": "markdown",
   "id": "edddc174",
   "metadata": {},
   "source": [
    "The elements in the combo **are the same** as used in its definition:"
   ]
  },
  {
   "cell_type": "code",
   "execution_count": 15,
   "id": "5712d7c4",
   "metadata": {
    "execution": {
     "iopub.execute_input": "2025-08-13T18:47:34.650101Z",
     "iopub.status.busy": "2025-08-13T18:47:34.649949Z",
     "iopub.status.idle": "2025-08-13T18:47:34.652715Z",
     "shell.execute_reply": "2025-08-13T18:47:34.652415Z"
    }
   },
   "outputs": [
    {
     "data": {
      "text/plain": [
       "True"
      ]
     },
     "execution_count": 15,
     "metadata": {},
     "output_type": "execute_result"
    }
   ],
   "source": [
    "combo[0] is term_1"
   ]
  },
  {
   "cell_type": "code",
   "execution_count": 16,
   "id": "6e762fae",
   "metadata": {
    "execution": {
     "iopub.execute_input": "2025-08-13T18:47:34.654124Z",
     "iopub.status.busy": "2025-08-13T18:47:34.653970Z",
     "iopub.status.idle": "2025-08-13T18:47:34.656884Z",
     "shell.execute_reply": "2025-08-13T18:47:34.656579Z"
    }
   },
   "outputs": [
    {
     "data": {
      "text/plain": [
       "True"
      ]
     },
     "execution_count": 16,
     "metadata": {},
     "output_type": "execute_result"
    }
   ],
   "source": [
    "combo[1] is term_2"
   ]
  },
  {
   "cell_type": "code",
   "execution_count": 17,
   "id": "23c909ff",
   "metadata": {
    "execution": {
     "iopub.execute_input": "2025-08-13T18:47:34.658308Z",
     "iopub.status.busy": "2025-08-13T18:47:34.658156Z",
     "iopub.status.idle": "2025-08-13T18:47:34.661116Z",
     "shell.execute_reply": "2025-08-13T18:47:34.660716Z"
    }
   },
   "outputs": [
    {
     "data": {
      "text/plain": [
       "True"
      ]
     },
     "execution_count": 17,
     "metadata": {},
     "output_type": "execute_result"
    }
   ],
   "source": [
    "term_1 in combo"
   ]
  },
  {
   "cell_type": "code",
   "execution_count": 18,
   "id": "0c880a5e",
   "metadata": {
    "execution": {
     "iopub.execute_input": "2025-08-13T18:47:34.662629Z",
     "iopub.status.busy": "2025-08-13T18:47:34.662428Z",
     "iopub.status.idle": "2025-08-13T18:47:34.665529Z",
     "shell.execute_reply": "2025-08-13T18:47:34.665197Z"
    }
   },
   "outputs": [
    {
     "data": {
      "text/plain": [
       "True"
      ]
     },
     "execution_count": 18,
     "metadata": {},
     "output_type": "execute_result"
    }
   ],
   "source": [
    "term_2 in combo"
   ]
  },
  {
   "cell_type": "markdown",
   "id": "cada5891",
   "metadata": {},
   "source": [
    "### Nested Combos"
   ]
  },
  {
   "cell_type": "markdown",
   "id": "6709d658",
   "metadata": {},
   "source": [
    "If we sum together three or more functions, we obtain a _nested_ combo structure:"
   ]
  },
  {
   "cell_type": "code",
   "execution_count": 19,
   "id": "7b28238c",
   "metadata": {
    "execution": {
     "iopub.execute_input": "2025-08-13T18:47:34.667148Z",
     "iopub.status.busy": "2025-08-13T18:47:34.666945Z",
     "iopub.status.idle": "2025-08-13T18:47:34.670366Z",
     "shell.execute_reply": "2025-08-13T18:47:34.669910Z"
    }
   },
   "outputs": [
    {
     "data": {
      "text/latex": [
       "$ [  [  \\phi_{a} (m) + \\phi_{b} (m)  ] + \\phi_{c} (m)  ] + \\phi_{d} (m) $"
      ],
      "text/plain": [
       "[ [ φa(m) + φb(m) ] + φc(m) ] + φd(m)"
      ]
     },
     "execution_count": 19,
     "metadata": {},
     "output_type": "execute_result"
    }
   ],
   "source": [
    "combo = a + b + c + d\n",
    "combo"
   ]
  },
  {
   "cell_type": "markdown",
   "id": "20ace78d",
   "metadata": {},
   "source": [
    "We need to be aware of this and its consequences:\n",
    "* The `combo` variable is a `Combo` with two elements: a `Combo` and the `d` objective function"
   ]
  },
  {
   "cell_type": "code",
   "execution_count": 20,
   "id": "e2b68e65",
   "metadata": {
    "execution": {
     "iopub.execute_input": "2025-08-13T18:47:34.672008Z",
     "iopub.status.busy": "2025-08-13T18:47:34.671807Z",
     "iopub.status.idle": "2025-08-13T18:47:34.675281Z",
     "shell.execute_reply": "2025-08-13T18:47:34.674884Z"
    }
   },
   "outputs": [
    {
     "data": {
      "text/plain": [
       "2"
      ]
     },
     "execution_count": 20,
     "metadata": {},
     "output_type": "execute_result"
    }
   ],
   "source": [
    "len(combo)"
   ]
  },
  {
   "cell_type": "code",
   "execution_count": 21,
   "id": "dfacafec",
   "metadata": {
    "execution": {
     "iopub.execute_input": "2025-08-13T18:47:34.676743Z",
     "iopub.status.busy": "2025-08-13T18:47:34.676590Z",
     "iopub.status.idle": "2025-08-13T18:47:34.679536Z",
     "shell.execute_reply": "2025-08-13T18:47:34.679216Z"
    }
   },
   "outputs": [
    {
     "data": {
      "text/latex": [
       "$ [  \\phi_{a} (m) + \\phi_{b} (m)  ] + \\phi_{c} (m) $"
      ],
      "text/plain": [
       "[ φa(m) + φb(m) ] + φc(m)"
      ]
     },
     "execution_count": 21,
     "metadata": {},
     "output_type": "execute_result"
    }
   ],
   "source": [
    "combo[0]"
   ]
  },
  {
   "cell_type": "code",
   "execution_count": 22,
   "id": "fab38dbd",
   "metadata": {
    "execution": {
     "iopub.execute_input": "2025-08-13T18:47:34.680978Z",
     "iopub.status.busy": "2025-08-13T18:47:34.680796Z",
     "iopub.status.idle": "2025-08-13T18:47:34.683936Z",
     "shell.execute_reply": "2025-08-13T18:47:34.683626Z"
    }
   },
   "outputs": [
    {
     "data": {
      "text/latex": [
       "$\\phi_{d} (m)$"
      ],
      "text/plain": [
       "φd(m)"
      ]
     },
     "execution_count": 22,
     "metadata": {},
     "output_type": "execute_result"
    }
   ],
   "source": [
    "combo[1]"
   ]
  },
  {
   "cell_type": "markdown",
   "id": "e382e253",
   "metadata": {},
   "source": [
    "* This means that `a`, `b` and `c` **are not** in `combo`:"
   ]
  },
  {
   "cell_type": "code",
   "execution_count": 23,
   "id": "df67dd34",
   "metadata": {
    "execution": {
     "iopub.execute_input": "2025-08-13T18:47:34.685483Z",
     "iopub.status.busy": "2025-08-13T18:47:34.685276Z",
     "iopub.status.idle": "2025-08-13T18:47:34.688092Z",
     "shell.execute_reply": "2025-08-13T18:47:34.687613Z"
    }
   },
   "outputs": [
    {
     "name": "stdout",
     "output_type": "stream",
     "text": [
      "False\n",
      "False\n",
      "False\n"
     ]
    }
   ],
   "source": [
    "print(a in combo)\n",
    "print(b in combo)\n",
    "print(c in combo)"
   ]
  },
  {
   "cell_type": "markdown",
   "id": "71980cab",
   "metadata": {},
   "source": [
    "* But `d` is part of `combo`:"
   ]
  },
  {
   "cell_type": "code",
   "execution_count": 24,
   "id": "9d278973",
   "metadata": {
    "execution": {
     "iopub.execute_input": "2025-08-13T18:47:34.689663Z",
     "iopub.status.busy": "2025-08-13T18:47:34.689463Z",
     "iopub.status.idle": "2025-08-13T18:47:34.692419Z",
     "shell.execute_reply": "2025-08-13T18:47:34.692107Z"
    }
   },
   "outputs": [
    {
     "data": {
      "text/plain": [
       "True"
      ]
     },
     "execution_count": 24,
     "metadata": {},
     "output_type": "execute_result"
    }
   ],
   "source": [
    "d in combo"
   ]
  },
  {
   "cell_type": "markdown",
   "id": "d2b0c55d",
   "metadata": {},
   "source": [
    "* The `combo[0]` is another `Combo` with two elements."
   ]
  },
  {
   "cell_type": "code",
   "execution_count": 25,
   "id": "9cd68535",
   "metadata": {
    "execution": {
     "iopub.execute_input": "2025-08-13T18:47:34.693943Z",
     "iopub.status.busy": "2025-08-13T18:47:34.693790Z",
     "iopub.status.idle": "2025-08-13T18:47:34.696574Z",
     "shell.execute_reply": "2025-08-13T18:47:34.696259Z"
    }
   },
   "outputs": [
    {
     "data": {
      "text/plain": [
       "2"
      ]
     },
     "execution_count": 25,
     "metadata": {},
     "output_type": "execute_result"
    }
   ],
   "source": [
    "len(combo[0])"
   ]
  },
  {
   "cell_type": "code",
   "execution_count": 26,
   "id": "2675812a",
   "metadata": {
    "execution": {
     "iopub.execute_input": "2025-08-13T18:47:34.697985Z",
     "iopub.status.busy": "2025-08-13T18:47:34.697833Z",
     "iopub.status.idle": "2025-08-13T18:47:34.700718Z",
     "shell.execute_reply": "2025-08-13T18:47:34.700406Z"
    }
   },
   "outputs": [
    {
     "data": {
      "text/latex": [
       "$ \\phi_{a} (m) + \\phi_{b} (m) $"
      ],
      "text/plain": [
       "φa(m) + φb(m)"
      ]
     },
     "execution_count": 26,
     "metadata": {},
     "output_type": "execute_result"
    }
   ],
   "source": [
    "combo[0][0]"
   ]
  },
  {
   "cell_type": "code",
   "execution_count": 27,
   "id": "685da4e1",
   "metadata": {
    "execution": {
     "iopub.execute_input": "2025-08-13T18:47:34.702178Z",
     "iopub.status.busy": "2025-08-13T18:47:34.702022Z",
     "iopub.status.idle": "2025-08-13T18:47:34.704830Z",
     "shell.execute_reply": "2025-08-13T18:47:34.704522Z"
    }
   },
   "outputs": [
    {
     "data": {
      "text/latex": [
       "$\\phi_{c} (m)$"
      ],
      "text/plain": [
       "φc(m)"
      ]
     },
     "execution_count": 27,
     "metadata": {},
     "output_type": "execute_result"
    }
   ],
   "source": [
    "combo[0][1]"
   ]
  },
  {
   "cell_type": "markdown",
   "id": "fedc0220",
   "metadata": {},
   "source": [
    "* We can organize how the structure is defined by using parenthesis:"
   ]
  },
  {
   "cell_type": "code",
   "execution_count": 28,
   "id": "806a0e29",
   "metadata": {
    "execution": {
     "iopub.execute_input": "2025-08-13T18:47:34.706310Z",
     "iopub.status.busy": "2025-08-13T18:47:34.706156Z",
     "iopub.status.idle": "2025-08-13T18:47:34.708976Z",
     "shell.execute_reply": "2025-08-13T18:47:34.708676Z"
    }
   },
   "outputs": [
    {
     "data": {
      "text/latex": [
       "$ [  \\phi_{a} (m) + \\phi_{b} (m)  ] + [  \\phi_{c} (m) + \\phi_{d} (m)  ] $"
      ],
      "text/plain": [
       "[ φa(m) + φb(m) ] + [ φc(m) + φd(m) ]"
      ]
     },
     "execution_count": 28,
     "metadata": {},
     "output_type": "execute_result"
    }
   ],
   "source": [
    "combo = (a + b) + (c + d)\n",
    "combo"
   ]
  },
  {
   "cell_type": "markdown",
   "id": "dfb23f1f",
   "metadata": {},
   "source": [
    "* We can use the `contains()` method to recursively search for an objective function in a `Combo`."
   ]
  },
  {
   "cell_type": "code",
   "execution_count": 29,
   "id": "87e9055e",
   "metadata": {
    "execution": {
     "iopub.execute_input": "2025-08-13T18:47:34.710482Z",
     "iopub.status.busy": "2025-08-13T18:47:34.710326Z",
     "iopub.status.idle": "2025-08-13T18:47:34.713230Z",
     "shell.execute_reply": "2025-08-13T18:47:34.712918Z"
    }
   },
   "outputs": [
    {
     "data": {
      "text/latex": [
       "$ [  \\phi_{a} (m) + \\phi_{b} (m)  ] + \\phi_{c} (m) $"
      ],
      "text/plain": [
       "[ φa(m) + φb(m) ] + φc(m)"
      ]
     },
     "execution_count": 29,
     "metadata": {},
     "output_type": "execute_result"
    }
   ],
   "source": [
    "combo = a + b + c\n",
    "combo"
   ]
  },
  {
   "cell_type": "code",
   "execution_count": 30,
   "id": "c1382dbe",
   "metadata": {
    "execution": {
     "iopub.execute_input": "2025-08-13T18:47:34.714593Z",
     "iopub.status.busy": "2025-08-13T18:47:34.714440Z",
     "iopub.status.idle": "2025-08-13T18:47:34.717236Z",
     "shell.execute_reply": "2025-08-13T18:47:34.716936Z"
    }
   },
   "outputs": [
    {
     "data": {
      "text/plain": [
       "True"
      ]
     },
     "execution_count": 30,
     "metadata": {},
     "output_type": "execute_result"
    }
   ],
   "source": [
    "combo.contains(a)"
   ]
  },
  {
   "cell_type": "code",
   "execution_count": 31,
   "id": "7d3fd9b1",
   "metadata": {
    "execution": {
     "iopub.execute_input": "2025-08-13T18:47:34.718603Z",
     "iopub.status.busy": "2025-08-13T18:47:34.718450Z",
     "iopub.status.idle": "2025-08-13T18:47:34.721316Z",
     "shell.execute_reply": "2025-08-13T18:47:34.721012Z"
    }
   },
   "outputs": [
    {
     "data": {
      "text/plain": [
       "False"
      ]
     },
     "execution_count": 31,
     "metadata": {},
     "output_type": "execute_result"
    }
   ],
   "source": [
    "combo.contains(d)"
   ]
  },
  {
   "cell_type": "code",
   "execution_count": 32,
   "id": "97779a13",
   "metadata": {
    "execution": {
     "iopub.execute_input": "2025-08-13T18:47:34.722694Z",
     "iopub.status.busy": "2025-08-13T18:47:34.722542Z",
     "iopub.status.idle": "2025-08-13T18:47:34.725247Z",
     "shell.execute_reply": "2025-08-13T18:47:34.724953Z"
    }
   },
   "outputs": [
    {
     "data": {
      "text/latex": [
       "$ [  5.20 \\, \\phi_{a} (m) + \\phi_{b} (m)  ] + \\phi_{c} (m) $"
      ],
      "text/plain": [
       "[ 5.20 φa(m) + φb(m) ] + φc(m)"
      ]
     },
     "execution_count": 32,
     "metadata": {},
     "output_type": "execute_result"
    }
   ],
   "source": [
    "combo = 5.2 * a + b + c\n",
    "combo"
   ]
  },
  {
   "cell_type": "code",
   "execution_count": 33,
   "id": "1782469e",
   "metadata": {
    "execution": {
     "iopub.execute_input": "2025-08-13T18:47:34.726663Z",
     "iopub.status.busy": "2025-08-13T18:47:34.726508Z",
     "iopub.status.idle": "2025-08-13T18:47:34.729294Z",
     "shell.execute_reply": "2025-08-13T18:47:34.728988Z"
    }
   },
   "outputs": [
    {
     "data": {
      "text/plain": [
       "True"
      ]
     },
     "execution_count": 33,
     "metadata": {},
     "output_type": "execute_result"
    }
   ],
   "source": [
    "combo.contains(a)"
   ]
  },
  {
   "cell_type": "markdown",
   "id": "c8d4667d",
   "metadata": {},
   "source": [
    "* The `contains()` method works with `Combo`s as well:"
   ]
  },
  {
   "cell_type": "code",
   "execution_count": 34,
   "id": "bbdbd37a",
   "metadata": {
    "execution": {
     "iopub.execute_input": "2025-08-13T18:47:34.730784Z",
     "iopub.status.busy": "2025-08-13T18:47:34.730628Z",
     "iopub.status.idle": "2025-08-13T18:47:34.733510Z",
     "shell.execute_reply": "2025-08-13T18:47:34.733205Z"
    }
   },
   "outputs": [
    {
     "data": {
      "text/latex": [
       "$ [  2.30 \\, [  \\phi_{a} (m) + \\phi_{b} (m)  ] + 1.00 \\cdot 10^{-3} \\, \\phi_{b} (m)  ] + \\phi_{c} (m) $"
      ],
      "text/plain": [
       "[ 2.30 [φa(m) + φb(m)] + 0.00 φb(m) ] + φc(m)"
      ]
     },
     "execution_count": 34,
     "metadata": {},
     "output_type": "execute_result"
    }
   ],
   "source": [
    "combo_a = a + b\n",
    "combo = (2.3 * combo_a + 1e-3 * b) + c\n",
    "combo"
   ]
  },
  {
   "cell_type": "code",
   "execution_count": 35,
   "id": "2a05bb6a",
   "metadata": {
    "execution": {
     "iopub.execute_input": "2025-08-13T18:47:34.734945Z",
     "iopub.status.busy": "2025-08-13T18:47:34.734791Z",
     "iopub.status.idle": "2025-08-13T18:47:34.737407Z",
     "shell.execute_reply": "2025-08-13T18:47:34.737105Z"
    }
   },
   "outputs": [
    {
     "data": {
      "text/plain": [
       "True"
      ]
     },
     "execution_count": 35,
     "metadata": {},
     "output_type": "execute_result"
    }
   ],
   "source": [
    "combo.contains(combo_a)"
   ]
  },
  {
   "cell_type": "markdown",
   "id": "87d0c573",
   "metadata": {},
   "source": [
    "### Flat combos"
   ]
  },
  {
   "cell_type": "markdown",
   "id": "b3b16a6b",
   "metadata": {},
   "source": [
    "If we prefer to have a _flat_ structure when adding together multiple functions, we can use the `flatten()` method:"
   ]
  },
  {
   "cell_type": "code",
   "execution_count": 36,
   "id": "e8bf86e4",
   "metadata": {
    "execution": {
     "iopub.execute_input": "2025-08-13T18:47:34.738903Z",
     "iopub.status.busy": "2025-08-13T18:47:34.738748Z",
     "iopub.status.idle": "2025-08-13T18:47:34.742009Z",
     "shell.execute_reply": "2025-08-13T18:47:34.741552Z"
    }
   },
   "outputs": [
    {
     "data": {
      "text/latex": [
       "$ \\phi_{a} (m) + \\phi_{b} (m) + \\phi_{c} (m) + \\phi_{d} (m) $"
      ],
      "text/plain": [
       "φa(m) + φb(m) + φc(m) + φd(m)"
      ]
     },
     "execution_count": 36,
     "metadata": {},
     "output_type": "execute_result"
    }
   ],
   "source": [
    "flat_combo = (a + b + c + d).flatten()\n",
    "flat_combo"
   ]
  },
  {
   "cell_type": "code",
   "execution_count": 37,
   "id": "44c4d316",
   "metadata": {
    "execution": {
     "iopub.execute_input": "2025-08-13T18:47:34.743573Z",
     "iopub.status.busy": "2025-08-13T18:47:34.743355Z",
     "iopub.status.idle": "2025-08-13T18:47:34.746711Z",
     "shell.execute_reply": "2025-08-13T18:47:34.746373Z"
    }
   },
   "outputs": [
    {
     "data": {
      "text/plain": [
       "False"
      ]
     },
     "execution_count": 37,
     "metadata": {},
     "output_type": "execute_result"
    }
   ],
   "source": [
    "combo in flat_combo"
   ]
  },
  {
   "cell_type": "markdown",
   "id": "311768a6",
   "metadata": {},
   "source": [
    "Flattening a `Combo` returns a new `Combo` object"
   ]
  },
  {
   "cell_type": "code",
   "execution_count": 38,
   "id": "a92eeef1",
   "metadata": {
    "execution": {
     "iopub.execute_input": "2025-08-13T18:47:34.748207Z",
     "iopub.status.busy": "2025-08-13T18:47:34.748041Z",
     "iopub.status.idle": "2025-08-13T18:47:34.750925Z",
     "shell.execute_reply": "2025-08-13T18:47:34.750591Z"
    }
   },
   "outputs": [
    {
     "data": {
      "text/latex": [
       "$ [  \\phi_{a} (m) + \\phi_{b} (m)  ] + [  \\phi_{c} (m) + \\phi_{d} (m)  ] $"
      ],
      "text/plain": [
       "[ φa(m) + φb(m) ] + [ φc(m) + φd(m) ]"
      ]
     },
     "execution_count": 38,
     "metadata": {},
     "output_type": "execute_result"
    }
   ],
   "source": [
    "combo = (a + b) + (c + d)\n",
    "combo"
   ]
  },
  {
   "cell_type": "code",
   "execution_count": 39,
   "id": "ee2435f9",
   "metadata": {
    "execution": {
     "iopub.execute_input": "2025-08-13T18:47:34.752387Z",
     "iopub.status.busy": "2025-08-13T18:47:34.752219Z",
     "iopub.status.idle": "2025-08-13T18:47:34.755203Z",
     "shell.execute_reply": "2025-08-13T18:47:34.754772Z"
    }
   },
   "outputs": [
    {
     "data": {
      "text/latex": [
       "$ \\phi_{a} (m) + \\phi_{b} (m) + \\phi_{c} (m) + \\phi_{d} (m) $"
      ],
      "text/plain": [
       "φa(m) + φb(m) + φc(m) + φd(m)"
      ]
     },
     "execution_count": 39,
     "metadata": {},
     "output_type": "execute_result"
    }
   ],
   "source": [
    "flat_combo = combo.flatten()\n",
    "flat_combo"
   ]
  },
  {
   "cell_type": "code",
   "execution_count": 40,
   "id": "199f4847",
   "metadata": {
    "execution": {
     "iopub.execute_input": "2025-08-13T18:47:34.756804Z",
     "iopub.status.busy": "2025-08-13T18:47:34.756583Z",
     "iopub.status.idle": "2025-08-13T18:47:34.759832Z",
     "shell.execute_reply": "2025-08-13T18:47:34.759506Z"
    }
   },
   "outputs": [
    {
     "data": {
      "text/plain": [
       "False"
      ]
     },
     "execution_count": 40,
     "metadata": {},
     "output_type": "execute_result"
    }
   ],
   "source": [
    "combo is flat_combo"
   ]
  }
 ],
 "metadata": {
  "kernelspec": {
   "display_name": "inversion_ideas",
   "language": "python",
   "name": "python3"
  },
  "language_info": {
   "codemirror_mode": {
    "name": "ipython",
    "version": 3
   },
   "file_extension": ".py",
   "mimetype": "text/x-python",
   "name": "python",
   "nbconvert_exporter": "python",
   "pygments_lexer": "ipython3",
   "version": "3.13.5"
  }
 },
 "nbformat": 4,
 "nbformat_minor": 5
}
