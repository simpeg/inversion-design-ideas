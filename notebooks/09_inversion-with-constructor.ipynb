{
 "cells": [
  {
   "cell_type": "markdown",
   "id": "fd87af27-37b6-4b78-b01e-431673c8010a",
   "metadata": {},
   "source": [
    "# Generate inversion with the constructor function"
   ]
  },
  {
   "cell_type": "code",
   "execution_count": 1,
   "id": "fa174e25-ec16-4b65-b351-d5337a5f9462",
   "metadata": {
    "execution": {
     "iopub.execute_input": "2025-08-19T22:36:28.546820Z",
     "iopub.status.busy": "2025-08-19T22:36:28.546132Z",
     "iopub.status.idle": "2025-08-19T22:36:29.422206Z",
     "shell.execute_reply": "2025-08-19T22:36:29.421512Z"
    }
   },
   "outputs": [],
   "source": [
    "import matplotlib.pyplot as plt\n",
    "import numpy as np\n",
    "import pandas as pd\n",
    "from regressor import LinearRegressor\n",
    "\n",
    "import inversion_ideas as ii"
   ]
  },
  {
   "cell_type": "markdown",
   "id": "c10e1d27-613d-4521-9fe5-606099062da9",
   "metadata": {},
   "source": [
    "## Synthetic data"
   ]
  },
  {
   "cell_type": "code",
   "execution_count": 2,
   "id": "231a716f-d2ed-47e5-a7df-e73c29593a27",
   "metadata": {
    "execution": {
     "iopub.execute_input": "2025-08-19T22:36:29.424194Z",
     "iopub.status.busy": "2025-08-19T22:36:29.423906Z",
     "iopub.status.idle": "2025-08-19T22:36:29.430170Z",
     "shell.execute_reply": "2025-08-19T22:36:29.429668Z"
    }
   },
   "outputs": [
    {
     "data": {
      "text/plain": [
       "array([0.78225148, 0.67148671, 0.2373809 , 0.17946133, 0.34662367,\n",
       "       0.15210999, 0.31142952, 0.23900652, 0.54355731, 0.91770851])"
      ]
     },
     "execution_count": 2,
     "metadata": {},
     "output_type": "execute_result"
    }
   ],
   "source": [
    "n_params = 10\n",
    "rng = np.random.default_rng(seed=4242)\n",
    "true_model = rng.uniform(size=10)\n",
    "true_model"
   ]
  },
  {
   "cell_type": "code",
   "execution_count": 3,
   "id": "49714d31-2b86-4bc7-b1ef-8596706aceb2",
   "metadata": {
    "execution": {
     "iopub.execute_input": "2025-08-19T22:36:29.431721Z",
     "iopub.status.busy": "2025-08-19T22:36:29.431526Z",
     "iopub.status.idle": "2025-08-19T22:36:29.434625Z",
     "shell.execute_reply": "2025-08-19T22:36:29.434137Z"
    }
   },
   "outputs": [],
   "source": [
    "# Build the X matrix\n",
    "n_data = 25\n",
    "shape = (n_data, n_params)\n",
    "X = rng.uniform(size=n_data * n_params).reshape(shape)"
   ]
  },
  {
   "cell_type": "code",
   "execution_count": 4,
   "id": "00dce0f3-3258-41f6-91e7-d0be28c0df9b",
   "metadata": {
    "execution": {
     "iopub.execute_input": "2025-08-19T22:36:29.436618Z",
     "iopub.status.busy": "2025-08-19T22:36:29.436334Z",
     "iopub.status.idle": "2025-08-19T22:36:29.440767Z",
     "shell.execute_reply": "2025-08-19T22:36:29.440284Z"
    }
   },
   "outputs": [
    {
     "data": {
      "text/plain": [
       "array([2.83840696, 2.18091081, 2.00623242, 2.08333039, 2.01694883,\n",
       "       2.7826232 , 2.10564027, 1.27333506, 2.08859855, 1.94177648,\n",
       "       1.88492037, 2.92394733, 2.17231952, 3.08009275, 1.61670886,\n",
       "       1.77403753, 2.67305005, 1.91413882, 2.42117827, 2.13991628,\n",
       "       2.0153805 , 2.71388471, 2.65944255, 2.44416121, 3.14217523])"
      ]
     },
     "execution_count": 4,
     "metadata": {},
     "output_type": "execute_result"
    }
   ],
   "source": [
    "# Generate synthetic data with noise\n",
    "synthetic_data = X @ true_model\n",
    "maxabs = np.max(np.abs(synthetic_data))\n",
    "std_err = 1e-2 * maxabs\n",
    "noise = rng.normal(scale=std_err, size=synthetic_data.size)\n",
    "synthetic_data += noise\n",
    "synthetic_data"
   ]
  },
  {
   "cell_type": "markdown",
   "id": "6727d690-e683-47a0-b580-1a112c2f991c",
   "metadata": {},
   "source": [
    "## Define the `Inversion` with the constructor function"
   ]
  },
  {
   "cell_type": "code",
   "execution_count": 5,
   "id": "b7f0bcbb-0821-4679-9392-dd0a8c2a8fbf",
   "metadata": {
    "execution": {
     "iopub.execute_input": "2025-08-19T22:36:29.442520Z",
     "iopub.status.busy": "2025-08-19T22:36:29.442343Z",
     "iopub.status.idle": "2025-08-19T22:36:29.445171Z",
     "shell.execute_reply": "2025-08-19T22:36:29.444750Z"
    }
   },
   "outputs": [],
   "source": [
    "simulation = LinearRegressor(X, sleep=1)"
   ]
  },
  {
   "cell_type": "code",
   "execution_count": 6,
   "id": "6355f4c3-5d25-46a7-b60d-a42a3f68eaa0",
   "metadata": {
    "execution": {
     "iopub.execute_input": "2025-08-19T22:36:29.446729Z",
     "iopub.status.busy": "2025-08-19T22:36:29.446517Z",
     "iopub.status.idle": "2025-08-19T22:36:29.450139Z",
     "shell.execute_reply": "2025-08-19T22:36:29.449697Z"
    }
   },
   "outputs": [
    {
     "data": {
      "text/latex": [
       "$\\phi_{d} (m)$"
      ],
      "text/plain": [
       "φd(m)"
      ]
     },
     "execution_count": 6,
     "metadata": {},
     "output_type": "execute_result"
    }
   ],
   "source": [
    "uncertainty = std_err * np.ones_like(synthetic_data)\n",
    "data_misfit = ii.DataMisfit(synthetic_data, uncertainty, simulation)\n",
    "data_misfit"
   ]
  },
  {
   "cell_type": "code",
   "execution_count": 7,
   "id": "c685e7d8-eb05-4ce0-8674-9c07b59f245e",
   "metadata": {
    "execution": {
     "iopub.execute_input": "2025-08-19T22:36:29.452112Z",
     "iopub.status.busy": "2025-08-19T22:36:29.451650Z",
     "iopub.status.idle": "2025-08-19T22:36:29.455195Z",
     "shell.execute_reply": "2025-08-19T22:36:29.454742Z"
    }
   },
   "outputs": [
    {
     "data": {
      "text/latex": [
       "$\\phi_{s} (m)$"
      ],
      "text/plain": [
       "φs(m)"
      ]
     },
     "execution_count": 7,
     "metadata": {},
     "output_type": "execute_result"
    }
   ],
   "source": [
    "smallness = ii.TikhonovZero(n_params)\n",
    "smallness"
   ]
  },
  {
   "cell_type": "code",
   "execution_count": 8,
   "id": "eae6894e-7e68-48bb-aca3-5adba5dbcf48",
   "metadata": {
    "execution": {
     "iopub.execute_input": "2025-08-19T22:36:29.456745Z",
     "iopub.status.busy": "2025-08-19T22:36:29.456547Z",
     "iopub.status.idle": "2025-08-19T22:36:29.460192Z",
     "shell.execute_reply": "2025-08-19T22:36:29.459737Z"
    }
   },
   "outputs": [],
   "source": [
    "starting_beta = 1e4\n",
    "beta_cooling_factor = 2.0\n",
    "chi_target = 1.0\n",
    "initial_model = np.zeros(n_params)\n",
    "minimizer = ii.ConjugateGradient()\n",
    "\n",
    "inversion = ii.create_inversion(\n",
    "    data_misfit,\n",
    "    smallness,\n",
    "    starting_beta=starting_beta,\n",
    "    initial_model=initial_model,\n",
    "    optimizer=minimizer,\n",
    "    beta_cooling_factor=beta_cooling_factor,\n",
    "    chi_target=chi_target,\n",
    ")"
   ]
  },
  {
   "cell_type": "code",
   "execution_count": 9,
   "id": "13cdaf2b-4b64-4328-8412-3837ad0f30be",
   "metadata": {
    "execution": {
     "iopub.execute_input": "2025-08-19T22:36:29.461971Z",
     "iopub.status.busy": "2025-08-19T22:36:29.461611Z",
     "iopub.status.idle": "2025-08-19T22:36:37.688066Z",
     "shell.execute_reply": "2025-08-19T22:36:37.687347Z"
    }
   },
   "outputs": [
    {
     "data": {
      "application/vnd.jupyter.widget-view+json": {
       "model_id": "c7238049e7d24b64ac7c6be85409fc66",
       "version_major": 2,
       "version_minor": 0
      },
      "text/plain": [
       "Output()"
      ]
     },
     "metadata": {},
     "output_type": "display_data"
    },
    {
     "name": "stderr",
     "output_type": "stream",
     "text": [
      "INFO: 🎉 Inversion successfully finished due to stopping criteria.\n"
     ]
    },
    {
     "data": {
      "text/html": [
       "<pre style=\"white-space:pre;overflow-x:auto;line-height:normal;font-family:Menlo,'DejaVu Sans Mono',consolas,'Courier New',monospace\"></pre>\n"
      ],
      "text/plain": []
     },
     "metadata": {},
     "output_type": "display_data"
    },
    {
     "data": {
      "text/plain": [
       "array([0.78781238, 0.63620172, 0.2461426 , 0.1941919 , 0.33960904,\n",
       "       0.17601471, 0.32485498, 0.26662799, 0.52718998, 0.89311305])"
      ]
     },
     "execution_count": 9,
     "metadata": {},
     "output_type": "execute_result"
    }
   ],
   "source": [
    "inversion.run()"
   ]
  },
  {
   "cell_type": "code",
   "execution_count": 10,
   "id": "de2eb01c-4c34-4a0e-9c63-dc71ec6e23c3",
   "metadata": {
    "execution": {
     "iopub.execute_input": "2025-08-19T22:36:37.756587Z",
     "iopub.status.busy": "2025-08-19T22:36:37.756442Z",
     "iopub.status.idle": "2025-08-19T22:36:37.759766Z",
     "shell.execute_reply": "2025-08-19T22:36:37.759405Z"
    }
   },
   "outputs": [
    {
     "data": {
      "text/plain": [
       "array([0.78781238, 0.63620172, 0.2461426 , 0.1941919 , 0.33960904,\n",
       "       0.17601471, 0.32485498, 0.26662799, 0.52718998, 0.89311305])"
      ]
     },
     "execution_count": 10,
     "metadata": {},
     "output_type": "execute_result"
    }
   ],
   "source": [
    "inverted_model = inversion.model\n",
    "inverted_model"
   ]
  },
  {
   "cell_type": "code",
   "execution_count": 11,
   "id": "5f2ec3b0-579b-4a07-b918-1e94e71f6ad0",
   "metadata": {
    "execution": {
     "iopub.execute_input": "2025-08-19T22:36:37.761283Z",
     "iopub.status.busy": "2025-08-19T22:36:37.761062Z",
     "iopub.status.idle": "2025-08-19T22:36:37.764422Z",
     "shell.execute_reply": "2025-08-19T22:36:37.763906Z"
    }
   },
   "outputs": [
    {
     "name": "stdout",
     "output_type": "stream",
     "text": [
      "Result:\n",
      "[0.78781238 0.63620172 0.2461426  0.1941919  0.33960904 0.17601471\n",
      " 0.32485498 0.26662799 0.52718998 0.89311305]\n",
      "\n",
      "True model:\n",
      "[0.78225148 0.67148671 0.2373809  0.17946133 0.34662367 0.15210999\n",
      " 0.31142952 0.23900652 0.54355731 0.91770851]\n"
     ]
    }
   ],
   "source": [
    "print(\"Result:\")\n",
    "print(inverted_model)\n",
    "print()\n",
    "print(\"True model:\")\n",
    "print(true_model)"
   ]
  },
  {
   "cell_type": "code",
   "execution_count": 12,
   "id": "b3020223-df2d-413e-ba28-ea2631aeafed",
   "metadata": {
    "execution": {
     "iopub.execute_input": "2025-08-19T22:36:37.765880Z",
     "iopub.status.busy": "2025-08-19T22:36:37.765716Z",
     "iopub.status.idle": "2025-08-19T22:36:37.774252Z",
     "shell.execute_reply": "2025-08-19T22:36:37.773891Z"
    }
   },
   "outputs": [
    {
     "data": {
      "text/html": [
       "<pre style=\"white-space:pre;overflow-x:auto;line-height:normal;font-family:Menlo,'DejaVu Sans Mono',consolas,'Courier New',monospace\">┏━━━━━━┳━━━━━━━━━━┳━━━━━━━━━━┳━━━━━━━━━━┳━━━━━━━━━━┳━━━━━━━━━━┳━━━━━━━━━━┓\n",
       "┃<span style=\"font-weight: bold\"> iter </span>┃<span style=\"font-weight: bold\"> β        </span>┃<span style=\"font-weight: bold\"> φ_d      </span>┃<span style=\"font-weight: bold\"> φ_m      </span>┃<span style=\"font-weight: bold\"> β φ_m    </span>┃<span style=\"font-weight: bold\"> φ        </span>┃<span style=\"font-weight: bold\"> χ        </span>┃\n",
       "┡━━━━━━╇━━━━━━━━━━╇━━━━━━━━━━╇━━━━━━━━━━╇━━━━━━━━━━╇━━━━━━━━━━╇━━━━━━━━━━┩\n",
       "│ 0    │ 1.00e+04 │ 1.36e+05 │ 0.00e+00 │ 0.00e+00 │ 1.36e+05 │ 5.44e+03 │\n",
       "│ 1    │ 1.00e+04 │ 3.28e+03 │ 1.51e+00 │ 1.51e+04 │ 1.84e+04 │ 1.31e+02 │\n",
       "│ 2    │ 5.00e+03 │ 1.37e+03 │ 1.77e+00 │ 8.85e+03 │ 1.02e+04 │ 5.50e+01 │\n",
       "│ 3    │ 2.50e+03 │ 5.80e+02 │ 1.99e+00 │ 4.97e+03 │ 5.55e+03 │ 2.32e+01 │\n",
       "│ 4    │ 1.25e+03 │ 2.31e+02 │ 2.18e+00 │ 2.73e+03 │ 2.96e+03 │ 9.23e+00 │\n",
       "│ 5    │ 6.25e+02 │ 8.70e+01 │ 2.34e+00 │ 1.46e+03 │ 1.55e+03 │ 3.48e+00 │\n",
       "│ 6    │ 3.12e+02 │ 3.50e+01 │ 2.45e+00 │ 7.66e+02 │ 8.01e+02 │ 1.40e+00 │\n",
       "│ 7    │ 1.56e+02 │ 1.83e+01 │ 2.52e+00 │ 3.94e+02 │ 4.12e+02 │ 7.34e-01 │\n",
       "└──────┴──────────┴──────────┴──────────┴──────────┴──────────┴──────────┘\n",
       "</pre>\n"
      ],
      "text/plain": [
       "┏━━━━━━┳━━━━━━━━━━┳━━━━━━━━━━┳━━━━━━━━━━┳━━━━━━━━━━┳━━━━━━━━━━┳━━━━━━━━━━┓\n",
       "┃\u001b[1m \u001b[0m\u001b[1miter\u001b[0m\u001b[1m \u001b[0m┃\u001b[1m \u001b[0m\u001b[1mβ       \u001b[0m\u001b[1m \u001b[0m┃\u001b[1m \u001b[0m\u001b[1mφ_d     \u001b[0m\u001b[1m \u001b[0m┃\u001b[1m \u001b[0m\u001b[1mφ_m     \u001b[0m\u001b[1m \u001b[0m┃\u001b[1m \u001b[0m\u001b[1mβ φ_m   \u001b[0m\u001b[1m \u001b[0m┃\u001b[1m \u001b[0m\u001b[1mφ       \u001b[0m\u001b[1m \u001b[0m┃\u001b[1m \u001b[0m\u001b[1mχ       \u001b[0m\u001b[1m \u001b[0m┃\n",
       "┡━━━━━━╇━━━━━━━━━━╇━━━━━━━━━━╇━━━━━━━━━━╇━━━━━━━━━━╇━━━━━━━━━━╇━━━━━━━━━━┩\n",
       "│ 0    │ 1.00e+04 │ 1.36e+05 │ 0.00e+00 │ 0.00e+00 │ 1.36e+05 │ 5.44e+03 │\n",
       "│ 1    │ 1.00e+04 │ 3.28e+03 │ 1.51e+00 │ 1.51e+04 │ 1.84e+04 │ 1.31e+02 │\n",
       "│ 2    │ 5.00e+03 │ 1.37e+03 │ 1.77e+00 │ 8.85e+03 │ 1.02e+04 │ 5.50e+01 │\n",
       "│ 3    │ 2.50e+03 │ 5.80e+02 │ 1.99e+00 │ 4.97e+03 │ 5.55e+03 │ 2.32e+01 │\n",
       "│ 4    │ 1.25e+03 │ 2.31e+02 │ 2.18e+00 │ 2.73e+03 │ 2.96e+03 │ 9.23e+00 │\n",
       "│ 5    │ 6.25e+02 │ 8.70e+01 │ 2.34e+00 │ 1.46e+03 │ 1.55e+03 │ 3.48e+00 │\n",
       "│ 6    │ 3.12e+02 │ 3.50e+01 │ 2.45e+00 │ 7.66e+02 │ 8.01e+02 │ 1.40e+00 │\n",
       "│ 7    │ 1.56e+02 │ 1.83e+01 │ 2.52e+00 │ 3.94e+02 │ 4.12e+02 │ 7.34e-01 │\n",
       "└──────┴──────────┴──────────┴──────────┴──────────┴──────────┴──────────┘\n"
      ]
     },
     "execution_count": 12,
     "metadata": {},
     "output_type": "execute_result"
    }
   ],
   "source": [
    "inversion.log.table"
   ]
  },
  {
   "cell_type": "code",
   "execution_count": 13,
   "id": "6f20ae55-e2bd-457b-bb4b-f456d2a6d0e6",
   "metadata": {
    "execution": {
     "iopub.execute_input": "2025-08-19T22:36:37.775724Z",
     "iopub.status.busy": "2025-08-19T22:36:37.775561Z",
     "iopub.status.idle": "2025-08-19T22:36:37.785162Z",
     "shell.execute_reply": "2025-08-19T22:36:37.784702Z"
    }
   },
   "outputs": [
    {
     "data": {
      "text/html": [
       "<div>\n",
       "<style scoped>\n",
       "    .dataframe tbody tr th:only-of-type {\n",
       "        vertical-align: middle;\n",
       "    }\n",
       "\n",
       "    .dataframe tbody tr th {\n",
       "        vertical-align: top;\n",
       "    }\n",
       "\n",
       "    .dataframe thead th {\n",
       "        text-align: right;\n",
       "    }\n",
       "</style>\n",
       "<table border=\"1\" class=\"dataframe\">\n",
       "  <thead>\n",
       "    <tr style=\"text-align: right;\">\n",
       "      <th></th>\n",
       "      <th>β</th>\n",
       "      <th>φ_d</th>\n",
       "      <th>φ_m</th>\n",
       "      <th>β φ_m</th>\n",
       "      <th>φ</th>\n",
       "      <th>χ</th>\n",
       "    </tr>\n",
       "    <tr>\n",
       "      <th>iter</th>\n",
       "      <th></th>\n",
       "      <th></th>\n",
       "      <th></th>\n",
       "      <th></th>\n",
       "      <th></th>\n",
       "      <th></th>\n",
       "    </tr>\n",
       "  </thead>\n",
       "  <tbody>\n",
       "    <tr>\n",
       "      <th>0</th>\n",
       "      <td>10000.00</td>\n",
       "      <td>135973.462849</td>\n",
       "      <td>0.000000</td>\n",
       "      <td>0.000000</td>\n",
       "      <td>135973.462849</td>\n",
       "      <td>5438.938514</td>\n",
       "    </tr>\n",
       "    <tr>\n",
       "      <th>1</th>\n",
       "      <td>10000.00</td>\n",
       "      <td>3283.955124</td>\n",
       "      <td>1.508719</td>\n",
       "      <td>15087.188025</td>\n",
       "      <td>18371.143149</td>\n",
       "      <td>131.358205</td>\n",
       "    </tr>\n",
       "    <tr>\n",
       "      <th>2</th>\n",
       "      <td>5000.00</td>\n",
       "      <td>1373.851799</td>\n",
       "      <td>1.770045</td>\n",
       "      <td>8850.225213</td>\n",
       "      <td>10224.077012</td>\n",
       "      <td>54.954072</td>\n",
       "    </tr>\n",
       "    <tr>\n",
       "      <th>3</th>\n",
       "      <td>2500.00</td>\n",
       "      <td>580.052974</td>\n",
       "      <td>1.988480</td>\n",
       "      <td>4971.200876</td>\n",
       "      <td>5551.253850</td>\n",
       "      <td>23.202119</td>\n",
       "    </tr>\n",
       "    <tr>\n",
       "      <th>4</th>\n",
       "      <td>1250.00</td>\n",
       "      <td>230.779314</td>\n",
       "      <td>2.180556</td>\n",
       "      <td>2725.695257</td>\n",
       "      <td>2956.474571</td>\n",
       "      <td>9.231173</td>\n",
       "    </tr>\n",
       "    <tr>\n",
       "      <th>5</th>\n",
       "      <td>625.00</td>\n",
       "      <td>87.019569</td>\n",
       "      <td>2.337612</td>\n",
       "      <td>1461.007338</td>\n",
       "      <td>1548.026907</td>\n",
       "      <td>3.480783</td>\n",
       "    </tr>\n",
       "    <tr>\n",
       "      <th>6</th>\n",
       "      <td>312.50</td>\n",
       "      <td>34.986938</td>\n",
       "      <td>2.450452</td>\n",
       "      <td>765.766163</td>\n",
       "      <td>800.753102</td>\n",
       "      <td>1.399478</td>\n",
       "    </tr>\n",
       "    <tr>\n",
       "      <th>7</th>\n",
       "      <td>156.25</td>\n",
       "      <td>18.339748</td>\n",
       "      <td>2.522215</td>\n",
       "      <td>394.096024</td>\n",
       "      <td>412.435773</td>\n",
       "      <td>0.733590</td>\n",
       "    </tr>\n",
       "  </tbody>\n",
       "</table>\n",
       "</div>"
      ],
      "text/plain": [
       "             β            φ_d       φ_m         β φ_m              φ  \\\n",
       "iter                                                                   \n",
       "0     10000.00  135973.462849  0.000000      0.000000  135973.462849   \n",
       "1     10000.00    3283.955124  1.508719  15087.188025   18371.143149   \n",
       "2      5000.00    1373.851799  1.770045   8850.225213   10224.077012   \n",
       "3      2500.00     580.052974  1.988480   4971.200876    5551.253850   \n",
       "4      1250.00     230.779314  2.180556   2725.695257    2956.474571   \n",
       "5       625.00      87.019569  2.337612   1461.007338    1548.026907   \n",
       "6       312.50      34.986938  2.450452    765.766163     800.753102   \n",
       "7       156.25      18.339748  2.522215    394.096024     412.435773   \n",
       "\n",
       "                χ  \n",
       "iter               \n",
       "0     5438.938514  \n",
       "1      131.358205  \n",
       "2       54.954072  \n",
       "3       23.202119  \n",
       "4        9.231173  \n",
       "5        3.480783  \n",
       "6        1.399478  \n",
       "7        0.733590  "
      ]
     },
     "execution_count": 13,
     "metadata": {},
     "output_type": "execute_result"
    }
   ],
   "source": [
    "df = pd.DataFrame(inversion.log.log).set_index(\"iter\")\n",
    "df"
   ]
  },
  {
   "cell_type": "code",
   "execution_count": 14,
   "id": "c941b221",
   "metadata": {
    "execution": {
     "iopub.execute_input": "2025-08-19T22:36:37.786693Z",
     "iopub.status.busy": "2025-08-19T22:36:37.786510Z",
     "iopub.status.idle": "2025-08-19T22:36:38.078664Z",
     "shell.execute_reply": "2025-08-19T22:36:38.078124Z"
    }
   },
   "outputs": [
    {
     "ename": "AttributeError",
     "evalue": "'DataFrame' object has no attribute 'beta'",
     "output_type": "error",
     "traceback": [
      "\u001b[31m---------------------------------------------------------------------------\u001b[39m",
      "\u001b[31mAttributeError\u001b[39m                            Traceback (most recent call last)",
      "\u001b[32m/tmp/ipykernel_53603/267434202.py\u001b[39m in \u001b[36m?\u001b[39m\u001b[34m()\u001b[39m\n\u001b[32m      1\u001b[39m fig, axes = plt.subplots(nrows=\u001b[32m3\u001b[39m, ncols=\u001b[32m1\u001b[39m, sharex=\u001b[38;5;28;01mTrue\u001b[39;00m, figsize=(\u001b[32m6\u001b[39m, \u001b[32m8\u001b[39m))\n\u001b[32m----> \u001b[39m\u001b[32m2\u001b[39m axes[\u001b[32m0\u001b[39m].plot(df.index, df.beta, \u001b[33m\"o-\"\u001b[39m)\n\u001b[32m      3\u001b[39m axes[\u001b[32m0\u001b[39m].set_ylabel(\u001b[33m\"Beta\"\u001b[39m)\n\u001b[32m      4\u001b[39m \n\u001b[32m      5\u001b[39m axes[\u001b[32m1\u001b[39m].plot(df.index, df.phi_d, \u001b[33m\"o-\"\u001b[39m)\n",
      "\u001b[32m~/.miniforge3/envs/inversion_ideas/lib/python3.13/site-packages/pandas/core/generic.py\u001b[39m in \u001b[36m?\u001b[39m\u001b[34m(self, name)\u001b[39m\n\u001b[32m   6314\u001b[39m             \u001b[38;5;28;01mand\u001b[39;00m name \u001b[38;5;28;01mnot\u001b[39;00m \u001b[38;5;28;01min\u001b[39;00m self._accessors\n\u001b[32m   6315\u001b[39m             \u001b[38;5;28;01mand\u001b[39;00m self._info_axis._can_hold_identifiers_and_holds_name(name)\n\u001b[32m   6316\u001b[39m         ):\n\u001b[32m   6317\u001b[39m             \u001b[38;5;28;01mreturn\u001b[39;00m self[name]\n\u001b[32m-> \u001b[39m\u001b[32m6318\u001b[39m         \u001b[38;5;28;01mreturn\u001b[39;00m object.__getattribute__(self, name)\n",
      "\u001b[31mAttributeError\u001b[39m: 'DataFrame' object has no attribute 'beta'"
     ]
    },
    {
     "data": {
      "image/png": "[encoded data removed]",
      "text/plain": [
       "<Figure size 600x800 with 3 Axes>"
      ]
     },
     "metadata": {},
     "output_type": "display_data"
    }
   ],
   "source": [
    "fig, axes = plt.subplots(nrows=3, ncols=1, sharex=True, figsize=(6, 8))\n",
    "axes[0].plot(df.index, df.beta, \"o-\")\n",
    "axes[0].set_ylabel(\"Beta\")\n",
    "\n",
    "axes[1].plot(df.index, df.phi_d, \"o-\")\n",
    "axes[1].axhline(data_misfit.n_data, linestyle=\"--\", color=\"grey\")\n",
    "axes[1].set_ylabel(\"Data misfit\")\n",
    "axes[1].set_yscale(\"log\")\n",
    "\n",
    "axes[2].plot(df.index, df.phi_m, \"o-\")\n",
    "axes[2].set_ylabel(\"Model norm\")\n",
    "\n",
    "plt.show()"
   ]
  },
  {
   "cell_type": "code",
   "execution_count": 15,
   "id": "5b02915d-b8ba-459b-8a7f-9962e860b339",
   "metadata": {
    "execution": {
     "iopub.execute_input": "2025-08-19T22:36:38.080329Z",
     "iopub.status.busy": "2025-08-19T22:36:38.080151Z",
     "iopub.status.idle": "2025-08-19T22:36:38.084490Z",
     "shell.execute_reply": "2025-08-19T22:36:38.084031Z"
    }
   },
   "outputs": [
    {
     "data": {
      "text/plain": [
       "[array([0., 0., 0., 0., 0., 0., 0., 0., 0., 0.]),\n",
       " array([0.42435726, 0.42399556, 0.31488771, 0.30781909, 0.36748548,\n",
       "        0.3541613 , 0.35617454, 0.33544115, 0.43090205, 0.51906374]),\n",
       " array([0.5056242 , 0.47292493, 0.31019533, 0.28663263, 0.38905159,\n",
       "        0.34587771, 0.36311607, 0.33629102, 0.47778453, 0.60674237]),\n",
       " array([0.58936952, 0.51738738, 0.2902994 , 0.25123224, 0.39337984,\n",
       "        0.3151884 , 0.35668177, 0.3233827 , 0.50991683, 0.6929199 ]),\n",
       " array([0.66606771, 0.55805404, 0.26845575, 0.21988974, 0.38401096,\n",
       "        0.27327808, 0.34599733, 0.30631261, 0.52650139, 0.76952915]),\n",
       " array([0.72555055, 0.59250287, 0.25392942, 0.20191464, 0.36759678,\n",
       "        0.23168433, 0.33632369, 0.29012319, 0.53109078, 0.82869251]),\n",
       " array([0.76485366, 0.61861644, 0.24767964, 0.19529472, 0.35147213,\n",
       "        0.19846023, 0.32930081, 0.27659424, 0.52981675, 0.86874091]),\n",
       " array([0.78781238, 0.63620172, 0.2461426 , 0.1941919 , 0.33960904,\n",
       "        0.17601471, 0.32485498, 0.26662799, 0.52718998, 0.89311305])]"
      ]
     },
     "execution_count": 15,
     "metadata": {},
     "output_type": "execute_result"
    }
   ],
   "source": [
    "inversion.models"
   ]
  }
 ],
 "metadata": {
  "kernelspec": {
   "display_name": "Python [conda env:inversion_ideas]",
   "language": "python",
   "name": "conda-env-inversion_ideas-py"
  },
  "language_info": {
   "codemirror_mode": {
    "name": "ipython",
    "version": 3
   },
   "file_extension": ".py",
   "mimetype": "text/x-python",
   "name": "python",
   "nbconvert_exporter": "python",
   "pygments_lexer": "ipython3",
   "version": "3.13.5"
  },
  "widgets": {
   "application/vnd.jupyter.widget-state+json": {
    "state": {
     "918e2923641a4b56a27e86708b7e8859": {
      "model_module": "@jupyter-widgets/base",
      "model_module_version": "2.0.0",
      "model_name": "LayoutModel",
      "state": {
       "_model_module": "@jupyter-widgets/base",
       "_model_module_version": "2.0.0",
       "_model_name": "LayoutModel",
       "_view_count": null,
       "_view_module": "@jupyter-widgets/base",
       "_view_module_version": "2.0.0",
       "_view_name": "LayoutView",
       "align_content": null,
       "align_items": null,
       "align_self": null,
       "border_bottom": null,
       "border_left": null,
       "border_right": null,
       "border_top": null,
       "bottom": null,
       "display": null,
       "flex": null,
       "flex_flow": null,
       "grid_area": null,
       "grid_auto_columns": null,
       "grid_auto_flow": null,
       "grid_auto_rows": null,
       "grid_column": null,
       "grid_gap": null,
       "grid_row": null,
       "grid_template_areas": null,
       "grid_template_columns": null,
       "grid_template_rows": null,
       "height": null,
       "justify_content": null,
       "justify_items": null,
       "left": null,
       "margin": null,
       "max_height": null,
       "max_width": null,
       "min_height": null,
       "min_width": null,
       "object_fit": null,
       "object_position": null,
       "order": null,
       "overflow": null,
       "padding": null,
       "right": null,
       "top": null,
       "visibility": null,
       "width": null
      }
     },
     "c7238049e7d24b64ac7c6be85409fc66": {
      "model_module": "@jupyter-widgets/output",
      "model_module_version": "1.0.0",
      "model_name": "OutputModel",
      "state": {
       "_dom_classes": [],
       "_model_module": "@jupyter-widgets/output",
       "_model_module_version": "1.0.0",
       "_model_name": "OutputModel",
       "_view_count": null,
       "_view_module": "@jupyter-widgets/output",
       "_view_module_version": "1.0.0",
       "_view_name": "OutputView",
       "layout": "IPY_MODEL_918e2923641a4b56a27e86708b7e8859",
       "msg_id": "",
       "outputs": [
        {
         "data": {
          "text/html": "<pre style=\"white-space:pre;overflow-x:auto;line-height:normal;font-family:Menlo,'DejaVu Sans Mono',consolas,'Courier New',monospace\">┏━━━━━━┳━━━━━━━━━━┳━━━━━━━━━━┳━━━━━━━━━━┳━━━━━━━━━━┳━━━━━━━━━━┳━━━━━━━━━━┓\n┃<span style=\"font-weight: bold\"> iter </span>┃<span style=\"font-weight: bold\"> β        </span>┃<span style=\"font-weight: bold\"> φ_d      </span>┃<span style=\"font-weight: bold\"> φ_m      </span>┃<span style=\"font-weight: bold\"> β φ_m    </span>┃<span style=\"font-weight: bold\"> φ        </span>┃<span style=\"font-weight: bold\"> χ        </span>┃\n┡━━━━━━╇━━━━━━━━━━╇━━━━━━━━━━╇━━━━━━━━━━╇━━━━━━━━━━╇━━━━━━━━━━╇━━━━━━━━━━┩\n│ 0    │ 1.00e+04 │ 1.36e+05 │ 0.00e+00 │ 0.00e+00 │ 1.36e+05 │ 5.44e+03 │\n│ 1    │ 1.00e+04 │ 3.28e+03 │ 1.51e+00 │ 1.51e+04 │ 1.84e+04 │ 1.31e+02 │\n│ 2    │ 5.00e+03 │ 1.37e+03 │ 1.77e+00 │ 8.85e+03 │ 1.02e+04 │ 5.50e+01 │\n│ 3    │ 2.50e+03 │ 5.80e+02 │ 1.99e+00 │ 4.97e+03 │ 5.55e+03 │ 2.32e+01 │\n│ 4    │ 1.25e+03 │ 2.31e+02 │ 2.18e+00 │ 2.73e+03 │ 2.96e+03 │ 9.23e+00 │\n│ 5    │ 6.25e+02 │ 8.70e+01 │ 2.34e+00 │ 1.46e+03 │ 1.55e+03 │ 3.48e+00 │\n│ 6    │ 3.12e+02 │ 3.50e+01 │ 2.45e+00 │ 7.66e+02 │ 8.01e+02 │ 1.40e+00 │\n│ 7    │ 1.56e+02 │ 1.83e+01 │ 2.52e+00 │ 3.94e+02 │ 4.12e+02 │ 7.34e-01 │\n└──────┴──────────┴──────────┴──────────┴──────────┴──────────┴──────────┘\n</pre>\n",
          "text/plain": "┏━━━━━━┳━━━━━━━━━━┳━━━━━━━━━━┳━━━━━━━━━━┳━━━━━━━━━━┳━━━━━━━━━━┳━━━━━━━━━━┓\n┃\u001b[1m \u001b[0m\u001b[1miter\u001b[0m\u001b[1m \u001b[0m┃\u001b[1m \u001b[0m\u001b[1mβ       \u001b[0m\u001b[1m \u001b[0m┃\u001b[1m \u001b[0m\u001b[1mφ_d     \u001b[0m\u001b[1m \u001b[0m┃\u001b[1m \u001b[0m\u001b[1mφ_m     \u001b[0m\u001b[1m \u001b[0m┃\u001b[1m \u001b[0m\u001b[1mβ φ_m   \u001b[0m\u001b[1m \u001b[0m┃\u001b[1m \u001b[0m\u001b[1mφ       \u001b[0m\u001b[1m \u001b[0m┃\u001b[1m \u001b[0m\u001b[1mχ       \u001b[0m\u001b[1m \u001b[0m┃\n┡━━━━━━╇━━━━━━━━━━╇━━━━━━━━━━╇━━━━━━━━━━╇━━━━━━━━━━╇━━━━━━━━━━╇━━━━━━━━━━┩\n│ 0    │ 1.00e+04 │ 1.36e+05 │ 0.00e+00 │ 0.00e+00 │ 1.36e+05 │ 5.44e+03 │\n│ 1    │ 1.00e+04 │ 3.28e+03 │ 1.51e+00 │ 1.51e+04 │ 1.84e+04 │ 1.31e+02 │\n│ 2    │ 5.00e+03 │ 1.37e+03 │ 1.77e+00 │ 8.85e+03 │ 1.02e+04 │ 5.50e+01 │\n│ 3    │ 2.50e+03 │ 5.80e+02 │ 1.99e+00 │ 4.97e+03 │ 5.55e+03 │ 2.32e+01 │\n│ 4    │ 1.25e+03 │ 2.31e+02 │ 2.18e+00 │ 2.73e+03 │ 2.96e+03 │ 9.23e+00 │\n│ 5    │ 6.25e+02 │ 8.70e+01 │ 2.34e+00 │ 1.46e+03 │ 1.55e+03 │ 3.48e+00 │\n│ 6    │ 3.12e+02 │ 3.50e+01 │ 2.45e+00 │ 7.66e+02 │ 8.01e+02 │ 1.40e+00 │\n│ 7    │ 1.56e+02 │ 1.83e+01 │ 2.52e+00 │ 3.94e+02 │ 4.12e+02 │ 7.34e-01 │\n└──────┴──────────┴──────────┴──────────┴──────────┴──────────┴──────────┘\n"
         },
         "metadata": {},
         "output_type": "display_data"
        }
       ],
       "tabbable": null,
       "tooltip": null
      }
     }
    },
    "version_major": 2,
    "version_minor": 0
   }
  }
 },
 "nbformat": 4,
 "nbformat_minor": 5
}
