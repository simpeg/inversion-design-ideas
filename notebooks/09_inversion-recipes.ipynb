{
 "cells": [
  {
   "cell_type": "markdown",
   "id": "260b279d-b821-4620-b371-842274539ac7",
   "metadata": {},
   "source": [
    "# Gravity inversion using recipes"
   ]
  },
  {
   "cell_type": "code",
   "execution_count": 1,
   "id": "3888d430-3eb9-4532-8f5a-2274c0dc000b",
   "metadata": {
    "execution": {
     "iopub.execute_input": "2025-08-07T18:04:29.597187Z",
     "iopub.status.busy": "2025-08-07T18:04:29.596895Z",
     "iopub.status.idle": "2025-08-07T18:04:31.377818Z",
     "shell.execute_reply": "2025-08-07T18:04:31.377177Z",
     "shell.execute_reply.started": "2025-08-07T18:04:29.597160Z"
    }
   },
   "outputs": [],
   "source": [
    "import discretize\n",
    "import matplotlib.pyplot as plt\n",
    "import numpy as np\n",
    "import pandas as pd\n",
    "import verde as vd\n",
    "from gravity import GravitySimulation\n",
    "from simpeg.maps import IdentityMap\n",
    "from simpeg.potential_fields.gravity import (\n",
    "    Point,\n",
    "    Simulation3DIntegral,\n",
    "    SourceField,\n",
    "    Survey,\n",
    ")\n",
    "from simpeg.utils import depth_weighting, model_builder\n",
    "\n",
    "import inversion_ideas as ii"
   ]
  },
  {
   "cell_type": "markdown",
   "id": "2bb2a264-a97d-4372-beb2-bc84f9a83249",
   "metadata": {},
   "source": [
    "## Define synthetic data with two prisms"
   ]
  },
  {
   "cell_type": "code",
   "execution_count": 2,
   "id": "b8c679fa-e537-40d4-8e84-a696f16adfbf",
   "metadata": {
    "execution": {
     "iopub.execute_input": "2025-08-07T18:04:31.378730Z",
     "iopub.status.busy": "2025-08-07T18:04:31.378377Z",
     "iopub.status.idle": "2025-08-07T18:04:31.382600Z",
     "shell.execute_reply": "2025-08-07T18:04:31.381871Z",
     "shell.execute_reply.started": "2025-08-07T18:04:31.378710Z"
    }
   },
   "outputs": [],
   "source": [
    "region = (-100, 100, -100, 100)\n",
    "shape = (31, 31)\n",
    "height = 0\n",
    "coordinates = vd.grid_coordinates(region, shape=shape, extra_coords=height)"
   ]
  },
  {
   "cell_type": "code",
   "execution_count": 3,
   "id": "ea55304d-98de-4d5a-90c6-7d0de0aa7c17",
   "metadata": {
    "execution": {
     "iopub.execute_input": "2025-08-07T18:04:31.383463Z",
     "iopub.status.busy": "2025-08-07T18:04:31.383224Z",
     "iopub.status.idle": "2025-08-07T18:04:31.402060Z",
     "shell.execute_reply": "2025-08-07T18:04:31.401562Z",
     "shell.execute_reply.started": "2025-08-07T18:04:31.383441Z"
    }
   },
   "outputs": [
    {
     "data": {
      "text/html": [
       "<table>\n",
       "  <tr>\n",
       "    <td style='font-weight: bold; font-size: 1.2em; text-align: center;' colspan='3'>TensorMesh</td>\n",
       "    <td style='font-size: 1.2em; text-align: center;'colspan='4'>64,000 cells</td>\n",
       "  </tr>\n",
       "  <tr>\n",
       "    <th></th>\n",
       "    <th></th>\n",
       "    <th colspan='2' style='padding: 5px 20px 5px 20px;'>MESH EXTENT</th>\n",
       "    <th colspan='2' style='padding: 5px 20px 5px 20px;'>CELL WIDTH</th>\n",
       "    <th style='padding: 5px 20px 5px 20px;'>FACTOR</th>\n",
       "  </tr>\n",
       "  <tr>\n",
       "    <th style='padding: 5px 20px 5px 20px;'>dir</th>\n",
       "    <th style='padding: 5px 20px 5px 20px;'>nC</th>\n",
       "    <th style='padding: 5px 20px 5px 20px;'>min</th>\n",
       "    <th style='padding: 5px 20px 5px 20px;'>max</th>\n",
       "    <th style='padding: 5px 20px 5px 20px;'>min</th>\n",
       "    <th style='padding: 5px 20px 5px 20px;'>max</th>\n",
       "    <th style='padding: 5px 20px 5px 20px;'>max</th>\n",
       "  </tr>\n",
       "  <tr>\n",
       "    <td style='padding: 5px 20px 5px 20px;'>x</td>\n",
       "    <td style='padding: 5px 20px 5px 20px;'>40</td>\n",
       "    <td style='padding: 5px 20px 5px 20px;'>-100.00</td>\n",
       "    <td style='padding: 5px 20px 5px 20px;'>100.00</td>\n",
       "    <td style='padding: 5px 20px 5px 20px;'>5.00</td>\n",
       "    <td style='padding: 5px 20px 5px 20px;'>5.00</td>\n",
       "    <td style='padding: 5px 20px 5px 20px;'>1.00</td>\n",
       "  </tr>\n",
       "  <tr>\n",
       "    <td style='padding: 5px 20px 5px 20px;'>y</td>\n",
       "    <td style='padding: 5px 20px 5px 20px;'>40</td>\n",
       "    <td style='padding: 5px 20px 5px 20px;'>-100.00</td>\n",
       "    <td style='padding: 5px 20px 5px 20px;'>100.00</td>\n",
       "    <td style='padding: 5px 20px 5px 20px;'>5.00</td>\n",
       "    <td style='padding: 5px 20px 5px 20px;'>5.00</td>\n",
       "    <td style='padding: 5px 20px 5px 20px;'>1.00</td>\n",
       "  </tr>\n",
       "  <tr>\n",
       "    <td style='padding: 5px 20px 5px 20px;'>z</td>\n",
       "    <td style='padding: 5px 20px 5px 20px;'>40</td>\n",
       "    <td style='padding: 5px 20px 5px 20px;'>-200.00</td>\n",
       "    <td style='padding: 5px 20px 5px 20px;'>0.00</td>\n",
       "    <td style='padding: 5px 20px 5px 20px;'>5.00</td>\n",
       "    <td style='padding: 5px 20px 5px 20px;'>5.00</td>\n",
       "    <td style='padding: 5px 20px 5px 20px;'>1.00</td>\n",
       "  </tr>\n",
       "</table>\n"
      ],
      "text/plain": [
       "\n",
       "  TensorMesh: 64,000 cells\n",
       "\n",
       "                      MESH EXTENT             CELL WIDTH      FACTOR\n",
       "  dir    nC        min           max         min       max      max\n",
       "  ---   ---  ---------------------------  ------------------  ------\n",
       "   x     40       -100.00        100.00      5.00      5.00    1.00\n",
       "   y     40       -100.00        100.00      5.00      5.00    1.00\n",
       "   z     40       -200.00          0.00      5.00      5.00    1.00\n"
      ]
     },
     "execution_count": 3,
     "metadata": {},
     "output_type": "execute_result"
    }
   ],
   "source": [
    "h = [(5.0, 40)]\n",
    "mesh = discretize.TensorMesh(h=[h, h, h], origin=\"CCN\")\n",
    "mesh"
   ]
  },
  {
   "cell_type": "code",
   "execution_count": 4,
   "id": "84b0cef3-c240-4235-8858-cffd43329a15",
   "metadata": {
    "execution": {
     "iopub.execute_input": "2025-08-07T18:04:31.403133Z",
     "iopub.status.busy": "2025-08-07T18:04:31.402780Z",
     "iopub.status.idle": "2025-08-07T18:04:31.410614Z",
     "shell.execute_reply": "2025-08-07T18:04:31.410056Z",
     "shell.execute_reply.started": "2025-08-07T18:04:31.403101Z"
    }
   },
   "outputs": [],
   "source": [
    "locations = np.vstack(tuple(c.ravel() for c in coordinates)).T\n",
    "receivers = Point(locations, components=\"gz\")\n",
    "source = SourceField(receiver_list=[receivers])\n",
    "survey = Survey(source)"
   ]
  },
  {
   "cell_type": "code",
   "execution_count": 5,
   "id": "70e3fe7d-7586-49ab-a4bd-f26b5c817ca4",
   "metadata": {
    "execution": {
     "iopub.execute_input": "2025-08-07T18:04:31.411615Z",
     "iopub.status.busy": "2025-08-07T18:04:31.411312Z",
     "iopub.status.idle": "2025-08-07T18:04:31.477513Z",
     "shell.execute_reply": "2025-08-07T18:04:31.476837Z",
     "shell.execute_reply.started": "2025-08-07T18:04:31.411586Z"
    }
   },
   "outputs": [],
   "source": [
    "simulation_simpeg = Simulation3DIntegral(mesh, survey=survey, rhoMap=IdentityMap(mesh))"
   ]
  },
  {
   "cell_type": "code",
   "execution_count": 6,
   "id": "66074eb3-1ab5-4531-bcc5-1c1559fdbccc",
   "metadata": {
    "execution": {
     "iopub.execute_input": "2025-08-07T18:04:31.479970Z",
     "iopub.status.busy": "2025-08-07T18:04:31.479478Z",
     "iopub.status.idle": "2025-08-07T18:04:31.483879Z",
     "shell.execute_reply": "2025-08-07T18:04:31.482983Z",
     "shell.execute_reply.started": "2025-08-07T18:04:31.479946Z"
    }
   },
   "outputs": [],
   "source": [
    "def block_corners(prism):\n",
    "    p0 = np.array([prism[0], prism[2], prism[4]])\n",
    "    p1 = np.array([prism[1], prism[3], prism[5]])\n",
    "    return p0, p1"
   ]
  },
  {
   "cell_type": "code",
   "execution_count": 7,
   "id": "55deae9a-8c20-44f1-b95d-8045229475cf",
   "metadata": {
    "execution": {
     "iopub.execute_input": "2025-08-07T18:04:31.485310Z",
     "iopub.status.busy": "2025-08-07T18:04:31.484876Z",
     "iopub.status.idle": "2025-08-07T18:04:31.491424Z",
     "shell.execute_reply": "2025-08-07T18:04:31.490583Z",
     "shell.execute_reply.started": "2025-08-07T18:04:31.485271Z"
    }
   },
   "outputs": [],
   "source": [
    "prisms = [\n",
    "    (-60, -40, -10, 10, -70, -50),\n",
    "    (40, 60, -10, 10, -70, -50),\n",
    "]\n",
    "densities = np.array([-0.2, 0.2]) # g/cc"
   ]
  },
  {
   "cell_type": "code",
   "execution_count": 8,
   "id": "e46b5bf4-7894-42d0-a0bd-b80586c42c8f",
   "metadata": {
    "execution": {
     "iopub.execute_input": "2025-08-07T18:04:31.492411Z",
     "iopub.status.busy": "2025-08-07T18:04:31.492130Z",
     "iopub.status.idle": "2025-08-07T18:04:31.506043Z",
     "shell.execute_reply": "2025-08-07T18:04:31.505199Z",
     "shell.execute_reply.started": "2025-08-07T18:04:31.492390Z"
    }
   },
   "outputs": [],
   "source": [
    "model = np.zeros(mesh.n_cells)\n",
    "\n",
    "for prism, density in zip(prisms, densities, strict=True):\n",
    "    p0, p1 = block_corners(prism)\n",
    "    model = model_builder.add_block(mesh.cell_centers, model, p0, p1, density)"
   ]
  },
  {
   "cell_type": "code",
   "execution_count": 9,
   "id": "4189c120-85c5-472e-ad85-24999b36d407",
   "metadata": {
    "execution": {
     "iopub.execute_input": "2025-08-07T18:04:31.507301Z",
     "iopub.status.busy": "2025-08-07T18:04:31.506979Z",
     "iopub.status.idle": "2025-08-07T18:04:31.741799Z",
     "shell.execute_reply": "2025-08-07T18:04:31.741097Z",
     "shell.execute_reply.started": "2025-08-07T18:04:31.507277Z"
    }
   },
   "outputs": [
    {
     "data": {
      "text/plain": [
       "(<matplotlib.collections.QuadMesh at 0x7fd78cc4c830>,)"
      ]
     },
     "execution_count": 9,
     "metadata": {},
     "output_type": "execute_result"
    },
    {
     "data": {
      "image/png": "[encoded data removed]",
      "text/plain": [
       "<Figure size 640x480 with 1 Axes>"
      ]
     },
     "metadata": {},
     "output_type": "display_data"
    }
   ],
   "source": [
    "mesh.plot_slice(model, normal=\"Y\", slice_loc=0)"
   ]
  },
  {
   "cell_type": "code",
   "execution_count": 10,
   "id": "1cb92bc0-cebf-4211-a54e-6ab2000ed5a9",
   "metadata": {
    "execution": {
     "iopub.execute_input": "2025-08-07T18:04:31.742767Z",
     "iopub.status.busy": "2025-08-07T18:04:31.742499Z",
     "iopub.status.idle": "2025-08-07T18:04:36.217239Z",
     "shell.execute_reply": "2025-08-07T18:04:36.216659Z",
     "shell.execute_reply.started": "2025-08-07T18:04:31.742745Z"
    }
   },
   "outputs": [],
   "source": [
    "gz = simulation_simpeg.dpred(model)"
   ]
  },
  {
   "cell_type": "code",
   "execution_count": 11,
   "id": "90702b60-3484-40f3-b9d0-461e3db14804",
   "metadata": {
    "execution": {
     "iopub.execute_input": "2025-08-07T18:04:36.223285Z",
     "iopub.status.busy": "2025-08-07T18:04:36.222998Z",
     "iopub.status.idle": "2025-08-07T18:04:36.230861Z",
     "shell.execute_reply": "2025-08-07T18:04:36.230278Z",
     "shell.execute_reply.started": "2025-08-07T18:04:36.223261Z"
    }
   },
   "outputs": [],
   "source": [
    "stderr = vd.maxabs(gz) * 0.01\n",
    "gz += np.random.default_rng(seed=105).normal(scale=stderr, size=gz.shape)"
   ]
  },
  {
   "cell_type": "code",
   "execution_count": 12,
   "id": "219e6f08-3671-4753-b2b6-6e7a87271dd8",
   "metadata": {
    "execution": {
     "iopub.execute_input": "2025-08-07T18:04:36.233041Z",
     "iopub.status.busy": "2025-08-07T18:04:36.232796Z",
     "iopub.status.idle": "2025-08-07T18:04:36.425430Z",
     "shell.execute_reply": "2025-08-07T18:04:36.424812Z",
     "shell.execute_reply.started": "2025-08-07T18:04:36.233017Z"
    }
   },
   "outputs": [
    {
     "data": {
      "image/png": "[encoded data removed]",
      "text/plain": [
       "<Figure size 640x480 with 2 Axes>"
      ]
     },
     "metadata": {},
     "output_type": "display_data"
    }
   ],
   "source": [
    "tmp = plt.pcolormesh(*coordinates[:2], gz.reshape(coordinates[0].shape))\n",
    "plt.gca().set_aspect(\"equal\")\n",
    "plt.colorbar(tmp)\n",
    "plt.show()"
   ]
  },
  {
   "cell_type": "markdown",
   "id": "b38faf32-6b97-4218-aec8-040979757957",
   "metadata": {},
   "source": [
    "## Use inversion recipe"
   ]
  },
  {
   "cell_type": "markdown",
   "id": "26eb1261-87a3-42e7-a084-f64539b25fb5",
   "metadata": {},
   "source": [
    "Wrap SimPEG's simulation into a child of the new `Simulation` class:"
   ]
  },
  {
   "cell_type": "code",
   "execution_count": 13,
   "id": "73f30d57-cdc7-4877-8e39-e60240639341",
   "metadata": {
    "execution": {
     "iopub.execute_input": "2025-08-07T18:04:36.426591Z",
     "iopub.status.busy": "2025-08-07T18:04:36.426287Z",
     "iopub.status.idle": "2025-08-07T18:04:36.430097Z",
     "shell.execute_reply": "2025-08-07T18:04:36.429418Z",
     "shell.execute_reply.started": "2025-08-07T18:04:36.426553Z"
    }
   },
   "outputs": [],
   "source": [
    "simulation = GravitySimulation(simulation_simpeg)"
   ]
  },
  {
   "cell_type": "markdown",
   "id": "89678af3-e644-404b-a290-d19a2593d6aa",
   "metadata": {},
   "source": [
    "This `simulation` is _callable_ and has a `jacobian` method, so we can use it with our new framework:"
   ]
  },
  {
   "cell_type": "code",
   "execution_count": 14,
   "id": "f7cdfc41-d0c9-4ac6-b80c-5dd50aa4fa9b",
   "metadata": {
    "execution": {
     "iopub.execute_input": "2025-08-07T18:04:36.431238Z",
     "iopub.status.busy": "2025-08-07T18:04:36.430928Z",
     "iopub.status.idle": "2025-08-07T18:04:36.461720Z",
     "shell.execute_reply": "2025-08-07T18:04:36.460878Z",
     "shell.execute_reply.started": "2025-08-07T18:04:36.431207Z"
    }
   },
   "outputs": [],
   "source": [
    "model = np.ones(simulation.n_params)\n",
    "dpred = simulation(model)"
   ]
  },
  {
   "cell_type": "code",
   "execution_count": 15,
   "id": "765ad769-9e08-4604-a972-d9470b7e07c0",
   "metadata": {
    "execution": {
     "iopub.execute_input": "2025-08-07T18:04:36.463093Z",
     "iopub.status.busy": "2025-08-07T18:04:36.462528Z",
     "iopub.status.idle": "2025-08-07T18:04:36.482615Z",
     "shell.execute_reply": "2025-08-07T18:04:36.481789Z",
     "shell.execute_reply.started": "2025-08-07T18:04:36.463062Z"
    }
   },
   "outputs": [
    {
     "data": {
      "text/plain": [
       "<961x64000 _CustomLinearOperator with dtype=float64>"
      ]
     },
     "execution_count": 15,
     "metadata": {},
     "output_type": "execute_result"
    }
   ],
   "source": [
    "simulation.jacobian(model)"
   ]
  },
  {
   "cell_type": "code",
   "execution_count": 16,
   "id": "4baf5197-9f72-485e-a162-15e10c186328",
   "metadata": {
    "execution": {
     "iopub.execute_input": "2025-08-07T18:04:36.483923Z",
     "iopub.status.busy": "2025-08-07T18:04:36.483619Z",
     "iopub.status.idle": "2025-08-07T18:04:36.492708Z",
     "shell.execute_reply": "2025-08-07T18:04:36.492051Z",
     "shell.execute_reply.started": "2025-08-07T18:04:36.483893Z"
    }
   },
   "outputs": [
    {
     "data": {
      "text/latex": [
       "$\\phi_{d} (m)$"
      ],
      "text/plain": [
       "φd(m)"
      ]
     },
     "execution_count": 16,
     "metadata": {},
     "output_type": "execute_result"
    }
   ],
   "source": [
    "uncertainties = stderr * np.ones(gz.size)\n",
    "data_misfit = ii.DataMisfit(gz.ravel(), uncertainties, simulation)\n",
    "data_misfit"
   ]
  },
  {
   "cell_type": "code",
   "execution_count": 17,
   "id": "75700898-7b2c-4162-a908-cac4e4078d82",
   "metadata": {
    "execution": {
     "iopub.execute_input": "2025-08-07T18:04:36.493517Z",
     "iopub.status.busy": "2025-08-07T18:04:36.493260Z",
     "iopub.status.idle": "2025-08-07T18:04:36.501933Z",
     "shell.execute_reply": "2025-08-07T18:04:36.501264Z",
     "shell.execute_reply.started": "2025-08-07T18:04:36.493492Z"
    }
   },
   "outputs": [
    {
     "data": {
      "text/latex": [
       "$\\phi_{s} (m)$"
      ],
      "text/plain": [
       "φs(m)"
      ]
     },
     "execution_count": 17,
     "metadata": {},
     "output_type": "execute_result"
    }
   ],
   "source": [
    "volume_weights = mesh.cell_volumes\n",
    "depth_weights = depth_weighting(mesh, 0)\n",
    "smallness = ii.TikhonovZero(\n",
    "    n_params=simulation.n_params, weights=volume_weights * depth_weights\n",
    ")\n",
    "smallness"
   ]
  },
  {
   "cell_type": "code",
   "execution_count": 18,
   "id": "054bd39e-3556-4aa3-98ad-9e01393809dd",
   "metadata": {
    "execution": {
     "iopub.execute_input": "2025-08-07T18:04:36.503414Z",
     "iopub.status.busy": "2025-08-07T18:04:36.502940Z",
     "iopub.status.idle": "2025-08-07T18:04:36.509207Z",
     "shell.execute_reply": "2025-08-07T18:04:36.508658Z",
     "shell.execute_reply.started": "2025-08-07T18:04:36.503384Z"
    }
   },
   "outputs": [],
   "source": [
    "# Initial model\n",
    "initial_model = np.zeros(simulation.n_params)\n",
    "\n",
    "# Minimizer\n",
    "minimizer = ii.ConjugateGradient()\n",
    "\n",
    "# Stopping criteria\n",
    "chi_target = 1.0\n",
    "stopping_criteria = ii.ChiTarget(data_misfit, chi_target=chi_target)"
   ]
  },
  {
   "cell_type": "code",
   "execution_count": 19,
   "id": "c852ee78-ce05-42d3-bfa9-fdcd8300e400",
   "metadata": {
    "execution": {
     "iopub.execute_input": "2025-08-07T18:04:36.510301Z",
     "iopub.status.busy": "2025-08-07T18:04:36.509937Z",
     "iopub.status.idle": "2025-08-07T18:04:36.515683Z",
     "shell.execute_reply": "2025-08-07T18:04:36.515165Z",
     "shell.execute_reply.started": "2025-08-07T18:04:36.510277Z"
    }
   },
   "outputs": [],
   "source": [
    "beta_0, beta_cooling_factor = 1e4, 2.0\n",
    "\n",
    "inversion_recipe = ii.recipes.simple_inversion(\n",
    "    data_misfit,\n",
    "    smallness,\n",
    "    initial_model=initial_model,\n",
    "    minimizer=minimizer,\n",
    "    stopping_criteria=stopping_criteria,\n",
    "    starting_beta=beta_0,\n",
    "    beta_cooling_factor=beta_cooling_factor,\n",
    ")"
   ]
  },
  {
   "cell_type": "code",
   "execution_count": 20,
   "id": "18380a7b-bacd-4873-a298-8536504b27e4",
   "metadata": {
    "execution": {
     "iopub.execute_input": "2025-08-07T18:04:36.516710Z",
     "iopub.status.busy": "2025-08-07T18:04:36.516373Z",
     "iopub.status.idle": "2025-08-07T18:05:09.227177Z",
     "shell.execute_reply": "2025-08-07T18:05:09.226482Z",
     "shell.execute_reply.started": "2025-08-07T18:04:36.516687Z"
    }
   },
   "outputs": [
    {
     "data": {
      "application/vnd.jupyter.widget-view+json": {
       "model_id": "3c26ddb783d44f879413e97c813a49dd",
       "version_major": 2,
       "version_minor": 0
      },
      "text/plain": [
       "Output()"
      ]
     },
     "metadata": {},
     "output_type": "display_data"
    },
    {
     "data": {
      "text/html": [
       "<pre style=\"white-space:pre;overflow-x:auto;line-height:normal;font-family:Menlo,'DejaVu Sans Mono',consolas,'Courier New',monospace\"></pre>\n"
      ],
      "text/plain": []
     },
     "metadata": {},
     "output_type": "display_data"
    }
   ],
   "source": [
    "for model in inversion_recipe:\n",
    "    continue"
   ]
  }
 ],
 "metadata": {
  "kernelspec": {
   "display_name": "Python [conda env:inversion_ideas]",
   "language": "python",
   "name": "conda-env-inversion_ideas-py"
  },
  "language_info": {
   "codemirror_mode": {
    "name": "ipython",
    "version": 3
   },
   "file_extension": ".py",
   "mimetype": "text/x-python",
   "name": "python",
   "nbconvert_exporter": "python",
   "pygments_lexer": "ipython3",
   "version": "3.13.5"
  }
 },
 "nbformat": 4,
 "nbformat_minor": 5
}
