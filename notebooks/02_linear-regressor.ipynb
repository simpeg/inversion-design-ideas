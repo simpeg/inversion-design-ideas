{
 "cells": [
  {
   "cell_type": "code",
   "execution_count": 1,
   "id": "bba9bf32-da93-4100-9ee1-0983a1450bb4",
   "metadata": {
    "execution": {
     "iopub.execute_input": "2025-07-21T17:00:30.357082Z",
     "iopub.status.busy": "2025-07-21T17:00:30.356241Z",
     "iopub.status.idle": "2025-07-21T17:00:30.602974Z",
     "shell.execute_reply": "2025-07-21T17:00:30.602240Z",
     "shell.execute_reply.started": "2025-07-21T17:00:30.357039Z"
    }
   },
   "outputs": [],
   "source": [
    "import numpy as np\n",
    "\n",
    "from inversion_ideas import DataMisfit, TikhonovZero, ConjugateGradient\n",
    "from regressor import LinearRegressor"
   ]
  },
  {
   "cell_type": "code",
   "execution_count": 2,
   "id": "afa3d214-09d3-4a0f-a402-5793d8b308b2",
   "metadata": {
    "execution": {
     "iopub.execute_input": "2025-07-21T17:00:30.604058Z",
     "iopub.status.busy": "2025-07-21T17:00:30.603668Z",
     "iopub.status.idle": "2025-07-21T17:00:30.611295Z",
     "shell.execute_reply": "2025-07-21T17:00:30.610698Z",
     "shell.execute_reply.started": "2025-07-21T17:00:30.604035Z"
    }
   },
   "outputs": [
    {
     "data": {
      "text/plain": [
       "array([0.78225148, 0.67148671, 0.2373809 , 0.17946133, 0.34662367,\n",
       "       0.15210999, 0.31142952, 0.23900652, 0.54355731, 0.91770851])"
      ]
     },
     "execution_count": 2,
     "metadata": {},
     "output_type": "execute_result"
    }
   ],
   "source": [
    "n_params = 10\n",
    "rng = np.random.default_rng(seed=4242)\n",
    "true_model = rng.uniform(size=10)\n",
    "true_model"
   ]
  },
  {
   "cell_type": "code",
   "execution_count": 3,
   "id": "5485a55c-9727-4260-b590-1ea243dba484",
   "metadata": {
    "execution": {
     "iopub.execute_input": "2025-07-21T17:00:31.125189Z",
     "iopub.status.busy": "2025-07-21T17:00:31.124540Z",
     "iopub.status.idle": "2025-07-21T17:00:31.130961Z",
     "shell.execute_reply": "2025-07-21T17:00:31.130287Z",
     "shell.execute_reply.started": "2025-07-21T17:00:31.125131Z"
    }
   },
   "outputs": [],
   "source": [
    "# Build the X array\n",
    "n_data = 25\n",
    "shape = (n_data, n_params)\n",
    "X = rng.uniform(size=n_data * n_params).reshape(shape)"
   ]
  },
  {
   "cell_type": "code",
   "execution_count": 4,
   "id": "66458a9c-5e01-4a75-8fd0-fd149f447992",
   "metadata": {
    "execution": {
     "iopub.execute_input": "2025-07-21T17:00:31.398760Z",
     "iopub.status.busy": "2025-07-21T17:00:31.398344Z",
     "iopub.status.idle": "2025-07-21T17:00:31.406979Z",
     "shell.execute_reply": "2025-07-21T17:00:31.405471Z",
     "shell.execute_reply.started": "2025-07-21T17:00:31.398723Z"
    }
   },
   "outputs": [
    {
     "data": {
      "text/plain": [
       "array([2.83840696, 2.18091081, 2.00623242, 2.08333039, 2.01694883,\n",
       "       2.7826232 , 2.10564027, 1.27333506, 2.08859855, 1.94177648,\n",
       "       1.88492037, 2.92394733, 2.17231952, 3.08009275, 1.61670886,\n",
       "       1.77403753, 2.67305005, 1.91413882, 2.42117827, 2.13991628,\n",
       "       2.0153805 , 2.71388471, 2.65944255, 2.44416121, 3.14217523])"
      ]
     },
     "execution_count": 4,
     "metadata": {},
     "output_type": "execute_result"
    }
   ],
   "source": [
    "synthetic_data = X @ true_model\n",
    "maxabs = np.max(np.abs(synthetic_data))\n",
    "noise = rng.normal(scale=1e-2 * maxabs, size=synthetic_data.size)\n",
    "synthetic_data += noise\n",
    "synthetic_data"
   ]
  },
  {
   "cell_type": "code",
   "execution_count": 5,
   "id": "ad91f721-72a9-485b-9043-d85a2a220b7b",
   "metadata": {
    "execution": {
     "iopub.execute_input": "2025-07-21T17:00:31.842507Z",
     "iopub.status.busy": "2025-07-21T17:00:31.841903Z",
     "iopub.status.idle": "2025-07-21T17:00:31.847989Z",
     "shell.execute_reply": "2025-07-21T17:00:31.846936Z",
     "shell.execute_reply.started": "2025-07-21T17:00:31.842447Z"
    }
   },
   "outputs": [],
   "source": [
    "simulation = LinearRegressor(X)"
   ]
  },
  {
   "cell_type": "code",
   "execution_count": 6,
   "id": "04636169-320a-4f1e-ab42-1b083b0111dd",
   "metadata": {
    "execution": {
     "iopub.execute_input": "2025-07-21T17:00:32.315800Z",
     "iopub.status.busy": "2025-07-21T17:00:32.315469Z",
     "iopub.status.idle": "2025-07-21T17:00:32.320053Z",
     "shell.execute_reply": "2025-07-21T17:00:32.319277Z",
     "shell.execute_reply.started": "2025-07-21T17:00:32.315770Z"
    }
   },
   "outputs": [],
   "source": [
    "uncertainty = 1e-2 * maxabs * np.ones_like(synthetic_data)\n",
    "data_misfit = DataMisfit(synthetic_data, uncertainty, simulation)\n",
    "smallness = TikhonovZero(n_params)"
   ]
  },
  {
   "cell_type": "code",
   "execution_count": 7,
   "id": "8da79647-eb17-4177-afb9-776f3cc4ffc5",
   "metadata": {
    "execution": {
     "iopub.execute_input": "2025-07-21T17:00:32.751181Z",
     "iopub.status.busy": "2025-07-21T17:00:32.750466Z",
     "iopub.status.idle": "2025-07-21T17:00:32.760950Z",
     "shell.execute_reply": "2025-07-21T17:00:32.759573Z",
     "shell.execute_reply.started": "2025-07-21T17:00:32.751113Z"
    }
   },
   "outputs": [
    {
     "data": {
      "text/latex": [
       "$\\phi (m)$ + $1.00 \\cdot 10^{-3} \\, \\phi (m)$"
      ],
      "text/plain": [
       "φ(m) + 0.00 φ(m)"
      ]
     },
     "execution_count": 7,
     "metadata": {},
     "output_type": "execute_result"
    }
   ],
   "source": [
    "phi = data_misfit + 1e-3 * smallness\n",
    "phi"
   ]
  },
  {
   "cell_type": "code",
   "execution_count": 8,
   "id": "d7bb890a-2958-4ea4-aa64-413f57c7b63e",
   "metadata": {
    "execution": {
     "iopub.execute_input": "2025-07-21T17:00:33.228199Z",
     "iopub.status.busy": "2025-07-21T17:00:33.227945Z",
     "iopub.status.idle": "2025-07-21T17:00:33.233457Z",
     "shell.execute_reply": "2025-07-21T17:00:33.232570Z",
     "shell.execute_reply.started": "2025-07-21T17:00:33.228178Z"
    }
   },
   "outputs": [
    {
     "data": {
      "text/plain": [
       "array([0., 0., 0., 0., 0., 0., 0., 0., 0., 0.])"
      ]
     },
     "execution_count": 8,
     "metadata": {},
     "output_type": "execute_result"
    }
   ],
   "source": [
    "initial_model = np.zeros(n_params)\n",
    "initial_model"
   ]
  },
  {
   "cell_type": "markdown",
   "id": "5cc54476-cd31-4bf6-bc0f-bfd6254af7ec",
   "metadata": {},
   "source": [
    "## Minimize manually with `scipy.sparse.linalg.cg`"
   ]
  },
  {
   "cell_type": "code",
   "execution_count": 10,
   "id": "d4bac3a2-49d5-4592-a793-72789ec31a5c",
   "metadata": {
    "execution": {
     "iopub.execute_input": "2025-07-21T17:00:48.782833Z",
     "iopub.status.busy": "2025-07-21T17:00:48.781154Z",
     "iopub.status.idle": "2025-07-21T17:00:48.793439Z",
     "shell.execute_reply": "2025-07-21T17:00:48.790358Z",
     "shell.execute_reply.started": "2025-07-21T17:00:48.782747Z"
    }
   },
   "outputs": [],
   "source": [
    "from scipy.sparse.linalg import cg"
   ]
  },
  {
   "cell_type": "code",
   "execution_count": 11,
   "id": "c3369162-abe9-4fb9-9294-69277e50ef13",
   "metadata": {
    "execution": {
     "iopub.execute_input": "2025-07-21T17:00:49.010046Z",
     "iopub.status.busy": "2025-07-21T17:00:49.009697Z",
     "iopub.status.idle": "2025-07-21T17:00:49.017299Z",
     "shell.execute_reply": "2025-07-21T17:00:49.016316Z",
     "shell.execute_reply.started": "2025-07-21T17:00:49.010016Z"
    }
   },
   "outputs": [],
   "source": [
    "grad = phi.gradient(initial_model)\n",
    "hess = phi.hessian(initial_model)"
   ]
  },
  {
   "cell_type": "code",
   "execution_count": 12,
   "id": "c1fed88c-9c34-4ee3-8208-e7b50c2ec678",
   "metadata": {
    "execution": {
     "iopub.execute_input": "2025-07-21T17:00:49.226473Z",
     "iopub.status.busy": "2025-07-21T17:00:49.226165Z",
     "iopub.status.idle": "2025-07-21T17:00:49.232661Z",
     "shell.execute_reply": "2025-07-21T17:00:49.231939Z",
     "shell.execute_reply.started": "2025-07-21T17:00:49.226440Z"
    }
   },
   "outputs": [
    {
     "data": {
      "text/plain": [
       "(array([0.80819506, 0.65382703, 0.24661944, 0.19564531, 0.32734278,\n",
       "        0.1538892 , 0.32067108, 0.25559218, 0.52355838, 0.91524944]),\n",
       " 0)"
      ]
     },
     "execution_count": 12,
     "metadata": {},
     "output_type": "execute_result"
    }
   ],
   "source": [
    "inverted_model, code = cg(hess, -grad)\n",
    "inverted_model, code"
   ]
  },
  {
   "cell_type": "code",
   "execution_count": 13,
   "id": "b05f913f-dcfa-4bca-a277-b9cf5c9de6b5",
   "metadata": {
    "execution": {
     "iopub.execute_input": "2025-07-21T17:00:49.544879Z",
     "iopub.status.busy": "2025-07-21T17:00:49.544568Z",
     "iopub.status.idle": "2025-07-21T17:00:49.550471Z",
     "shell.execute_reply": "2025-07-21T17:00:49.549499Z",
     "shell.execute_reply.started": "2025-07-21T17:00:49.544853Z"
    }
   },
   "outputs": [
    {
     "name": "stdout",
     "output_type": "stream",
     "text": [
      "Result:\n",
      "[0.80819506 0.65382703 0.24661944 0.19564531 0.32734278 0.1538892\n",
      " 0.32067108 0.25559218 0.52355838 0.91524944]\n",
      "\n",
      "True model:\n",
      "[0.78225148 0.67148671 0.2373809  0.17946133 0.34662367 0.15210999\n",
      " 0.31142952 0.23900652 0.54355731 0.91770851]\n"
     ]
    }
   ],
   "source": [
    "print(\"Result:\")\n",
    "print(inverted_model)\n",
    "print()\n",
    "print(\"True model:\")\n",
    "print(true_model)"
   ]
  },
  {
   "cell_type": "markdown",
   "id": "ad0f7d22-77d6-410c-bca1-e3d765006aff",
   "metadata": {},
   "source": [
    "## Minimize with SciPy's `minimize`"
   ]
  },
  {
   "cell_type": "code",
   "execution_count": 14,
   "id": "5f36ec3b-0380-4eeb-b01a-3191c12b70f5",
   "metadata": {
    "execution": {
     "iopub.execute_input": "2025-07-21T17:00:50.174085Z",
     "iopub.status.busy": "2025-07-21T17:00:50.173287Z",
     "iopub.status.idle": "2025-07-21T17:00:50.290440Z",
     "shell.execute_reply": "2025-07-21T17:00:50.288085Z",
     "shell.execute_reply.started": "2025-07-21T17:00:50.174030Z"
    }
   },
   "outputs": [],
   "source": [
    "from scipy.optimize import minimize"
   ]
  },
  {
   "cell_type": "code",
   "execution_count": 15,
   "id": "ba337ea8-0afb-46aa-b107-07bcf86a8324",
   "metadata": {
    "execution": {
     "iopub.execute_input": "2025-07-21T17:00:50.459752Z",
     "iopub.status.busy": "2025-07-21T17:00:50.459132Z",
     "iopub.status.idle": "2025-07-21T17:00:50.620776Z",
     "shell.execute_reply": "2025-07-21T17:00:50.620179Z",
     "shell.execute_reply.started": "2025-07-21T17:00:50.459702Z"
    }
   },
   "outputs": [
    {
     "data": {
      "text/plain": [
       "  message: Optimization terminated successfully.\n",
       "  success: True\n",
       "   status: 0\n",
       "      fun: 0.0029662820617797846\n",
       "        x: [ 8.079e-01  6.539e-01  2.467e-01  1.955e-01  3.274e-01\n",
       "             1.538e-01  3.207e-01  2.558e-01  5.234e-01  9.155e-01]\n",
       "      nit: 29\n",
       "      jac: [ 4.823e-06  4.106e-06  4.792e-06  9.458e-06  4.684e-06\n",
       "             5.953e-06  8.263e-06  4.942e-06 -4.868e-07 -1.912e-06]\n",
       " hess_inv: [[ 6.050e+00 -2.843e+00 ...  1.314e+00 -9.830e-04]\n",
       "            [-2.843e+00  9.700e+00 ... -1.975e+00  4.147e-01]\n",
       "            ...\n",
       "            [ 1.314e+00 -1.975e+00 ...  5.702e+00 -2.972e+00]\n",
       "            [-9.830e-04  4.147e-01 ... -2.972e+00  4.399e+00]]\n",
       "     nfev: 330\n",
       "     njev: 30"
      ]
     },
     "execution_count": 15,
     "metadata": {},
     "output_type": "execute_result"
    }
   ],
   "source": [
    "result =  minimize(phi, initial_model)\n",
    "result"
   ]
  },
  {
   "cell_type": "code",
   "execution_count": 16,
   "id": "d25be88b-3134-447a-b003-c80dddff3166",
   "metadata": {
    "execution": {
     "iopub.execute_input": "2025-07-21T17:00:50.756027Z",
     "iopub.status.busy": "2025-07-21T17:00:50.755603Z",
     "iopub.status.idle": "2025-07-21T17:00:50.762237Z",
     "shell.execute_reply": "2025-07-21T17:00:50.761335Z",
     "shell.execute_reply.started": "2025-07-21T17:00:50.755997Z"
    }
   },
   "outputs": [
    {
     "name": "stdout",
     "output_type": "stream",
     "text": [
      "Result:\n",
      "[0.80787092 0.65392651 0.24671057 0.19549721 0.32739929 0.15377988\n",
      " 0.32069111 0.2557762  0.52343993 0.91546212]\n",
      "\n",
      "True model:\n",
      "[0.78225148 0.67148671 0.2373809  0.17946133 0.34662367 0.15210999\n",
      " 0.31142952 0.23900652 0.54355731 0.91770851]\n"
     ]
    }
   ],
   "source": [
    "print(\"Result:\")\n",
    "print(result.x)\n",
    "print()\n",
    "print(\"True model:\")\n",
    "print(true_model)"
   ]
  },
  {
   "cell_type": "code",
   "execution_count": 17,
   "id": "50cb98a1-1fc8-4378-a517-09ed910ce1c3",
   "metadata": {
    "execution": {
     "iopub.execute_input": "2025-07-21T17:00:51.193089Z",
     "iopub.status.busy": "2025-07-21T17:00:51.192642Z",
     "iopub.status.idle": "2025-07-21T17:00:51.246067Z",
     "shell.execute_reply": "2025-07-21T17:00:51.245322Z",
     "shell.execute_reply.started": "2025-07-21T17:00:51.193048Z"
    }
   },
   "outputs": [
    {
     "data": {
      "text/plain": [
       " message: Optimization terminated successfully.\n",
       " success: True\n",
       "  status: 0\n",
       "     fun: 0.0029662824890714784\n",
       "       x: [ 8.079e-01  6.538e-01  2.467e-01  1.954e-01  3.274e-01\n",
       "            1.538e-01  3.207e-01  2.559e-01  5.235e-01  9.155e-01]\n",
       "     nit: 20\n",
       "     jac: [ 3.954e-06 -7.254e-06 -2.738e-07 -7.335e-06 -3.955e-07\n",
       "            8.536e-07  9.889e-07  1.281e-06 -2.907e-06  1.431e-06]\n",
       "    nfev: 41\n",
       "    njev: 41"
      ]
     },
     "execution_count": 17,
     "metadata": {},
     "output_type": "execute_result"
    }
   ],
   "source": [
    "result =  minimize(phi, initial_model, jac=phi.gradient, method=\"CG\")\n",
    "result"
   ]
  },
  {
   "cell_type": "code",
   "execution_count": 18,
   "id": "094fbf19-b676-4aba-8e23-b93abb8b2431",
   "metadata": {
    "execution": {
     "iopub.execute_input": "2025-07-21T17:00:51.543811Z",
     "iopub.status.busy": "2025-07-21T17:00:51.543216Z",
     "iopub.status.idle": "2025-07-21T17:00:51.551275Z",
     "shell.execute_reply": "2025-07-21T17:00:51.549863Z",
     "shell.execute_reply.started": "2025-07-21T17:00:51.543772Z"
    }
   },
   "outputs": [
    {
     "name": "stdout",
     "output_type": "stream",
     "text": [
      "Result:\n",
      "[0.80790577 0.65381396 0.2466784  0.19541314 0.32739018 0.15382347\n",
      " 0.32067056 0.25586811 0.52346897 0.91550894]\n",
      "\n",
      "True model:\n",
      "[0.78225148 0.67148671 0.2373809  0.17946133 0.34662367 0.15210999\n",
      " 0.31142952 0.23900652 0.54355731 0.91770851]\n"
     ]
    }
   ],
   "source": [
    "print(\"Result:\")\n",
    "print(result.x)\n",
    "print()\n",
    "print(\"True model:\")\n",
    "print(true_model)"
   ]
  },
  {
   "cell_type": "code",
   "execution_count": 19,
   "id": "65235b83-fd51-4f52-b7ba-3c0dc2a35fe2",
   "metadata": {
    "execution": {
     "iopub.execute_input": "2025-07-21T17:00:52.108912Z",
     "iopub.status.busy": "2025-07-21T17:00:52.107713Z",
     "iopub.status.idle": "2025-07-21T17:00:52.139358Z",
     "shell.execute_reply": "2025-07-21T17:00:52.138587Z",
     "shell.execute_reply.started": "2025-07-21T17:00:52.108857Z"
    }
   },
   "outputs": [
    {
     "data": {
      "text/plain": [
       " message: Optimization terminated successfully.\n",
       " success: True\n",
       "  status: 0\n",
       "     fun: 0.002966281699792789\n",
       "       x: [ 8.078e-01  6.539e-01  2.467e-01  1.955e-01  3.274e-01\n",
       "            1.538e-01  3.207e-01  2.558e-01  5.235e-01  9.155e-01]\n",
       "     nit: 6\n",
       "     jac: [ 2.673e-07 -6.984e-07 -7.977e-08  4.666e-07  4.671e-07\n",
       "           -3.865e-07  5.234e-07  3.062e-09 -3.999e-07 -7.682e-08]\n",
       "    nfev: 7\n",
       "    njev: 7\n",
       "    nhev: 6"
      ]
     },
     "execution_count": 19,
     "metadata": {},
     "output_type": "execute_result"
    }
   ],
   "source": [
    "result =  minimize(phi, initial_model, jac=phi.gradient, hess=phi.hessian, method=\"Newton-CG\")\n",
    "result"
   ]
  },
  {
   "cell_type": "code",
   "execution_count": 20,
   "id": "2e9d2ee1-bfd9-4c3d-9865-f63d08a25b07",
   "metadata": {
    "execution": {
     "iopub.execute_input": "2025-07-21T17:00:52.341139Z",
     "iopub.status.busy": "2025-07-21T17:00:52.340410Z",
     "iopub.status.idle": "2025-07-21T17:00:52.349213Z",
     "shell.execute_reply": "2025-07-21T17:00:52.347830Z",
     "shell.execute_reply.started": "2025-07-21T17:00:52.341074Z"
    }
   },
   "outputs": [
    {
     "name": "stdout",
     "output_type": "stream",
     "text": [
      "Result:\n",
      "[0.80784626 0.65391906 0.24670888 0.1954732  0.32739289 0.15377277\n",
      " 0.32066917 0.25578054 0.5234611  0.9155122 ]\n",
      "\n",
      "True model:\n",
      "[0.78225148 0.67148671 0.2373809  0.17946133 0.34662367 0.15210999\n",
      " 0.31142952 0.23900652 0.54355731 0.91770851]\n"
     ]
    }
   ],
   "source": [
    "print(\"Result:\")\n",
    "print(result.x)\n",
    "print()\n",
    "print(\"True model:\")\n",
    "print(true_model)"
   ]
  },
  {
   "cell_type": "markdown",
   "id": "ded8a6fd-c419-4b13-bf3e-9d221c78a368",
   "metadata": {},
   "source": [
    "## Use `Minimizer` class"
   ]
  },
  {
   "cell_type": "code",
   "execution_count": 22,
   "id": "34372a3f-ff42-435f-9423-a4f99712fd9c",
   "metadata": {
    "execution": {
     "iopub.execute_input": "2025-07-21T17:01:06.449753Z",
     "iopub.status.busy": "2025-07-21T17:01:06.448539Z",
     "iopub.status.idle": "2025-07-21T17:01:06.456783Z",
     "shell.execute_reply": "2025-07-21T17:01:06.455469Z",
     "shell.execute_reply.started": "2025-07-21T17:01:06.449707Z"
    }
   },
   "outputs": [
    {
     "data": {
      "text/plain": [
       "<inversion_ideas.minimizer.ConjugateGradient at 0x7fd1492aa850>"
      ]
     },
     "execution_count": 22,
     "metadata": {},
     "output_type": "execute_result"
    }
   ],
   "source": [
    "minimizer = ConjugateGradient()\n",
    "minimizer"
   ]
  },
  {
   "cell_type": "code",
   "execution_count": 24,
   "id": "f3f52071-c2c5-4016-9d61-cd2f3b781698",
   "metadata": {
    "execution": {
     "iopub.execute_input": "2025-07-21T17:01:24.094004Z",
     "iopub.status.busy": "2025-07-21T17:01:24.093594Z",
     "iopub.status.idle": "2025-07-21T17:01:24.107421Z",
     "shell.execute_reply": "2025-07-21T17:01:24.105695Z",
     "shell.execute_reply.started": "2025-07-21T17:01:24.093969Z"
    }
   },
   "outputs": [
    {
     "data": {
      "text/plain": [
       "array([0.80819506, 0.65382703, 0.24661944, 0.19564531, 0.32734278,\n",
       "       0.1538892 , 0.32067108, 0.25559218, 0.52355838, 0.91524944])"
      ]
     },
     "execution_count": 24,
     "metadata": {},
     "output_type": "execute_result"
    }
   ],
   "source": [
    "inverted_model = minimizer(phi, initial_model)\n",
    "inverted_model"
   ]
  },
  {
   "cell_type": "code",
   "execution_count": 25,
   "id": "e41d3e15-1a74-42b9-9583-cacb8aeceadc",
   "metadata": {
    "execution": {
     "iopub.execute_input": "2025-07-21T17:02:17.900623Z",
     "iopub.status.busy": "2025-07-21T17:02:17.900253Z",
     "iopub.status.idle": "2025-07-21T17:02:17.906279Z",
     "shell.execute_reply": "2025-07-21T17:02:17.905422Z",
     "shell.execute_reply.started": "2025-07-21T17:02:17.900590Z"
    }
   },
   "outputs": [
    {
     "name": "stdout",
     "output_type": "stream",
     "text": [
      "Result:\n",
      "[0.80819506 0.65382703 0.24661944 0.19564531 0.32734278 0.1538892\n",
      " 0.32067108 0.25559218 0.52355838 0.91524944]\n",
      "\n",
      "True model:\n",
      "[0.78225148 0.67148671 0.2373809  0.17946133 0.34662367 0.15210999\n",
      " 0.31142952 0.23900652 0.54355731 0.91770851]\n"
     ]
    }
   ],
   "source": [
    "print(\"Result:\")\n",
    "print(inverted_model)\n",
    "print()\n",
    "print(\"True model:\")\n",
    "print(true_model)"
   ]
  },
  {
   "cell_type": "code",
   "execution_count": null,
   "id": "e5aad7c9-503a-443f-8aba-4d4a3488b517",
   "metadata": {},
   "outputs": [],
   "source": []
  }
 ],
 "metadata": {
  "kernelspec": {
   "display_name": "Python [conda env:inversion_ideas]",
   "language": "python",
   "name": "conda-env-inversion_ideas-py"
  },
  "language_info": {
   "codemirror_mode": {
    "name": "ipython",
    "version": 3
   },
   "file_extension": ".py",
   "mimetype": "text/x-python",
   "name": "python",
   "nbconvert_exporter": "python",
   "pygments_lexer": "ipython3",
   "version": "3.13.5"
  }
 },
 "nbformat": 4,
 "nbformat_minor": 5
}
