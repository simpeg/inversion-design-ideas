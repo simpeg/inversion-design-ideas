{
 "cells": [
  {
   "cell_type": "markdown",
   "id": "fd87af27-37b6-4b78-b01e-431673c8010a",
   "metadata": {},
   "source": [
    "# Use the `Inversion` class"
   ]
  },
  {
   "cell_type": "code",
   "execution_count": null,
   "id": "fa174e25-ec16-4b65-b351-d5337a5f9462",
   "metadata": {},
   "outputs": [],
   "source": [
    "import numpy as np\n",
    "import pandas as pd\n",
    "import matplotlib.pyplot as plt\n",
    "\n",
    "import inversion_ideas as ii\n",
    "from regressor import LinearRegressor"
   ]
  },
  {
   "cell_type": "markdown",
   "id": "c10e1d27-613d-4521-9fe5-606099062da9",
   "metadata": {},
   "source": [
    "## Synthetic data"
   ]
  },
  {
   "cell_type": "code",
   "execution_count": null,
   "id": "231a716f-d2ed-47e5-a7df-e73c29593a27",
   "metadata": {},
   "outputs": [],
   "source": [
    "n_params = 10\n",
    "rng = np.random.default_rng(seed=4242)\n",
    "true_model = rng.uniform(size=10)\n",
    "true_model"
   ]
  },
  {
   "cell_type": "code",
   "execution_count": null,
   "id": "49714d31-2b86-4bc7-b1ef-8596706aceb2",
   "metadata": {},
   "outputs": [],
   "source": [
    "# Build the X matrix\n",
    "n_data = 25\n",
    "shape = (n_data, n_params)\n",
    "X = rng.uniform(size=n_data * n_params).reshape(shape)"
   ]
  },
  {
   "cell_type": "code",
   "execution_count": null,
   "id": "00dce0f3-3258-41f6-91e7-d0be28c0df9b",
   "metadata": {},
   "outputs": [],
   "source": [
    "# Generate synthetic data with noise\n",
    "synthetic_data = X @ true_model\n",
    "maxabs = np.max(np.abs(synthetic_data))\n",
    "std_err =  1e-2 * maxabs\n",
    "noise = rng.normal(scale=std_err, size=synthetic_data.size)\n",
    "synthetic_data += noise\n",
    "synthetic_data"
   ]
  },
  {
   "cell_type": "markdown",
   "id": "6727d690-e683-47a0-b580-1a112c2f991c",
   "metadata": {},
   "source": [
    "## Inversion with beta scheduling"
   ]
  },
  {
   "cell_type": "code",
   "execution_count": null,
   "id": "b7f0bcbb-0821-4679-9392-dd0a8c2a8fbf",
   "metadata": {},
   "outputs": [],
   "source": [
    "simulation = LinearRegressor(X, sleep=1)"
   ]
  },
  {
   "cell_type": "code",
   "execution_count": null,
   "id": "6355f4c3-5d25-46a7-b60d-a42a3f68eaa0",
   "metadata": {},
   "outputs": [],
   "source": [
    "uncertainty = std_err * np.ones_like(synthetic_data)\n",
    "data_misfit = ii.DataMisfit(synthetic_data, uncertainty, simulation)\n",
    "data_misfit"
   ]
  },
  {
   "cell_type": "code",
   "execution_count": null,
   "id": "c685e7d8-eb05-4ce0-8674-9c07b59f245e",
   "metadata": {},
   "outputs": [],
   "source": [
    "smallness = ii.TikhonovZero(n_params)\n",
    "smallness"
   ]
  },
  {
   "cell_type": "code",
   "execution_count": null,
   "id": "03ef451b-e7e9-4118-8b77-4a1695127316",
   "metadata": {},
   "outputs": [],
   "source": [
    "# Define objective function with starting beta\n",
    "beta_0 = 1e4\n",
    "regularization = beta_0 * smallness\n",
    "phi = data_misfit + regularization\n",
    "\n",
    "# Initial model\n",
    "initial_model = np.zeros(n_params)\n",
    "\n",
    "# Minimizer\n",
    "minimizer = ii.ConjugateGradient()\n",
    "\n",
    "# Beta cooling\n",
    "beta_cooler = ii.MultiplierCooler(cooling_factor=2.0)\n",
    "\n",
    "# Stopping criteria\n",
    "chi_target = 1.0\n",
    "stopping_criteria = ii.ChiTarget(data_misfit, chi_target=chi_target)\n",
    "\n",
    "# Inversion log\n",
    "inversion_log = ii.create_standard_log(phi)\n",
    "\n",
    "# Inversion\n",
    "inversion = ii.Inversion(\n",
    "    phi,\n",
    "    initial_model,\n",
    "    minimizer,\n",
    "    stopping_criteria=stopping_criteria,\n",
    "    log=inversion_log,\n",
    "    cache_models=True,\n",
    ")"
   ]
  },
  {
   "cell_type": "code",
   "execution_count": null,
   "id": "0609dcf7",
   "metadata": {},
   "outputs": [],
   "source": [
    "with inversion.log.show_live() as live:\n",
    "    for model in inversion:\n",
    "        # Cool down beta\n",
    "        beta_cooler(regularization)\n",
    "\n",
    "        # Refresh table\n",
    "        live.refresh()"
   ]
  },
  {
   "cell_type": "code",
   "execution_count": null,
   "id": "de2eb01c-4c34-4a0e-9c63-dc71ec6e23c3",
   "metadata": {},
   "outputs": [],
   "source": [
    "inverted_model = inversion.model\n",
    "inverted_model"
   ]
  },
  {
   "cell_type": "code",
   "execution_count": null,
   "id": "5f2ec3b0-579b-4a07-b918-1e94e71f6ad0",
   "metadata": {},
   "outputs": [],
   "source": [
    "print(\"Result:\")\n",
    "print(inverted_model)\n",
    "print()\n",
    "print(\"True model:\")\n",
    "print(true_model)"
   ]
  },
  {
   "cell_type": "code",
   "execution_count": null,
   "id": "b3020223-df2d-413e-ba28-ea2631aeafed",
   "metadata": {},
   "outputs": [],
   "source": [
    "inversion.log.table"
   ]
  },
  {
   "cell_type": "code",
   "execution_count": null,
   "id": "6f20ae55-e2bd-457b-bb4b-f456d2a6d0e6",
   "metadata": {},
   "outputs": [],
   "source": [
    "df = pd.DataFrame(inversion.log.log).set_index(\"iter\")\n",
    "df"
   ]
  },
  {
   "cell_type": "code",
   "execution_count": null,
   "id": "c941b221",
   "metadata": {},
   "outputs": [],
   "source": [
    "fig, axes = plt.subplots(nrows=3, ncols=1, sharex=True, figsize=(6, 8))\n",
    "axes[0].plot(df.index, df.beta, \"o-\")\n",
    "axes[0].set_ylabel(\"Beta\")\n",
    "\n",
    "axes[1].plot(df.index, df.phi_d, \"o-\")\n",
    "axes[1].axhline(data_misfit.n_data, linestyle=\"--\", color=\"grey\")\n",
    "axes[1].set_ylabel(\"Data misfit\")\n",
    "axes[1].set_yscale(\"log\")\n",
    "\n",
    "axes[2].plot(df.index, df.phi_m, \"o-\")\n",
    "axes[2].set_ylabel(\"Model norm\")\n",
    "\n",
    "plt.show()"
   ]
  },
  {
   "cell_type": "code",
   "execution_count": null,
   "id": "5b02915d-b8ba-459b-8a7f-9962e860b339",
   "metadata": {},
   "outputs": [],
   "source": [
    "inversion.models"
   ]
  },
  {
   "cell_type": "markdown",
   "id": "d02e7fd3-9617-46e4-bba8-281f4e89db55",
   "metadata": {},
   "source": [
    "### Manually running iterations"
   ]
  },
  {
   "cell_type": "code",
   "execution_count": null,
   "id": "eb66ab10-0f9a-4d6c-b995-8929fa52f19c",
   "metadata": {},
   "outputs": [],
   "source": [
    "# Define objective function with starting beta\n",
    "beta_0 = 1e4\n",
    "regularization = beta_0 * smallness\n",
    "phi = data_misfit + regularization\n",
    "\n",
    "# Inversion log\n",
    "inversion_log = ii.create_standard_log(phi)\n",
    "\n",
    "# Inversion\n",
    "inversion = ii.Inversion(\n",
    "    phi,\n",
    "    initial_model,\n",
    "    minimizer,\n",
    "    stopping_criteria=stopping_criteria,\n",
    "    log=inversion_log,\n",
    "    cache_models=True,\n",
    ")"
   ]
  },
  {
   "cell_type": "code",
   "execution_count": null,
   "id": "ecf41c3f-8183-44e3-9237-d39aee0bdb0e",
   "metadata": {},
   "outputs": [],
   "source": [
    "print(inversion.counter)"
   ]
  },
  {
   "cell_type": "code",
   "execution_count": null,
   "id": "4c54e229-58ca-41de-a0b4-33b2bc6898ef",
   "metadata": {},
   "outputs": [],
   "source": [
    "model = next(inversion)\n",
    "model"
   ]
  },
  {
   "cell_type": "code",
   "execution_count": null,
   "id": "f90ef05b-0e15-4dda-87f8-1c9cd0d7c513",
   "metadata": {},
   "outputs": [],
   "source": [
    "print(inversion.counter)"
   ]
  },
  {
   "cell_type": "markdown",
   "id": "3f3d6ff6-d677-46ce-93a0-f80a51aed598",
   "metadata": {},
   "source": [
    "### Break iterations at any point and continue"
   ]
  },
  {
   "cell_type": "code",
   "execution_count": null,
   "id": "dc820ac7-321b-45ea-8926-fd8bb1dfd644",
   "metadata": {},
   "outputs": [],
   "source": [
    "# Define objective function with starting beta\n",
    "beta_0 = 1e4\n",
    "regularization = beta_0 * smallness\n",
    "phi = data_misfit + regularization\n",
    "\n",
    "# Inversion log\n",
    "inversion_log = ii.create_standard_log(phi)\n",
    "\n",
    "# Inversion\n",
    "inversion = ii.Inversion(\n",
    "    phi,\n",
    "    initial_model,\n",
    "    minimizer,\n",
    "    stopping_criteria=stopping_criteria,\n",
    "    log=inversion_log,\n",
    "    cache_models=True,\n",
    ")"
   ]
  },
  {
   "cell_type": "code",
   "execution_count": null,
   "id": "5d0fa53b-330c-4420-93c3-727650e5d152",
   "metadata": {},
   "outputs": [],
   "source": [
    "with inversion.log.show_live() as live:\n",
    "    for model in inversion:\n",
    "        # Cool down beta\n",
    "        beta_cooler(regularization)\n",
    "\n",
    "        # Refresh table\n",
    "        live.refresh()\n",
    "\n",
    "        if inversion.counter == 4:\n",
    "            break"
   ]
  },
  {
   "cell_type": "markdown",
   "id": "25fef757-585b-45ba-be6e-a74a38370bd8",
   "metadata": {},
   "source": [
    "We can checkout the model, convergence curves, etc:"
   ]
  },
  {
   "cell_type": "code",
   "execution_count": null,
   "id": "d684598d-9b1e-48fb-9d8f-730ac744ebd3",
   "metadata": {},
   "outputs": [],
   "source": [
    "print(\"Result:\")\n",
    "print(inversion.model)\n",
    "print()\n",
    "print(\"True model:\")\n",
    "print(true_model)"
   ]
  },
  {
   "cell_type": "code",
   "execution_count": null,
   "id": "35fa1bee-4904-4db0-8324-741e65bbea2a",
   "metadata": {},
   "outputs": [],
   "source": [
    "df = pd.DataFrame(inversion.log.log).set_index(\"iter\")\n",
    "\n",
    "fig, axes = plt.subplots(nrows=3, ncols=1, sharex=True, figsize=(6, 8))\n",
    "axes[0].plot(df.index, df.beta, \"o-\")\n",
    "axes[0].set_ylabel(\"Beta\")\n",
    "\n",
    "axes[1].plot(df.index, df.phi_d, \"o-\")\n",
    "axes[1].axhline(data_misfit.n_data, linestyle=\"--\", color=\"grey\")\n",
    "axes[1].set_ylabel(\"Data misfit\")\n",
    "axes[1].set_yscale(\"log\")\n",
    "\n",
    "axes[2].plot(df.index, df.phi_m, \"o-\")\n",
    "axes[2].set_ylabel(\"Model norm\")\n",
    "\n",
    "plt.show()"
   ]
  },
  {
   "cell_type": "markdown",
   "id": "e900fd70-c741-4f04-ad91-b69f177f2241",
   "metadata": {},
   "source": [
    "We can then continue iterating manually"
   ]
  },
  {
   "cell_type": "code",
   "execution_count": null,
   "id": "ac4a9aad-a7b5-4994-81bb-08504a3ef601",
   "metadata": {},
   "outputs": [],
   "source": [
    "model = next(inversion)\n",
    "beta_cooler(regularization)\n",
    "model"
   ]
  },
  {
   "cell_type": "code",
   "execution_count": null,
   "id": "fc576798-f183-4c61-9330-1cfc16e7e5bf",
   "metadata": {},
   "outputs": [],
   "source": [
    "inversion.log.table"
   ]
  },
  {
   "cell_type": "code",
   "execution_count": null,
   "id": "66872af6-9587-4aa6-b198-f4816037dceb",
   "metadata": {},
   "outputs": [],
   "source": [
    "df = pd.DataFrame(inversion.log.log).set_index(\"iter\")\n",
    "\n",
    "fig, axes = plt.subplots(nrows=3, ncols=1, sharex=True, figsize=(6, 8))\n",
    "axes[0].plot(df.index, df.beta, \"o-\")\n",
    "axes[0].set_ylabel(\"Beta\")\n",
    "\n",
    "axes[1].plot(df.index, df.phi_d, \"o-\")\n",
    "axes[1].axhline(data_misfit.n_data, linestyle=\"--\", color=\"grey\")\n",
    "axes[1].set_ylabel(\"Data misfit\")\n",
    "axes[1].set_yscale(\"log\")\n",
    "\n",
    "axes[2].plot(df.index, df.phi_m, \"o-\")\n",
    "axes[2].set_ylabel(\"Model norm\")\n",
    "\n",
    "plt.show()"
   ]
  },
  {
   "cell_type": "markdown",
   "id": "d1d1d5fe-3ec7-49a8-83e0-536cce3da539",
   "metadata": {},
   "source": [
    "And we can keep iterating until stopping criteria is met:"
   ]
  },
  {
   "cell_type": "code",
   "execution_count": null,
   "id": "cc069a38-49a1-4b95-9bc3-09c20a95a8b0",
   "metadata": {},
   "outputs": [],
   "source": [
    "with inversion.log.show_live() as live:\n",
    "    for model in inversion:\n",
    "        # Cool down beta\n",
    "        beta_cooler(regularization)\n",
    "\n",
    "        # Refresh table\n",
    "        live.refresh()"
   ]
  },
  {
   "cell_type": "code",
   "execution_count": null,
   "id": "2100ad0b-81ac-4070-b60d-63d183175d72",
   "metadata": {},
   "outputs": [],
   "source": [
    "print(\"Result:\")\n",
    "print(inversion.model)\n",
    "print()\n",
    "print(\"True model:\")\n",
    "print(true_model)"
   ]
  },
  {
   "cell_type": "code",
   "execution_count": null,
   "id": "423fe687-b46e-49fe-ae15-46358dd65e44",
   "metadata": {},
   "outputs": [],
   "source": [
    "df = pd.DataFrame(inversion.log.log).set_index(\"iter\")\n",
    "\n",
    "fig, axes = plt.subplots(nrows=3, ncols=1, sharex=True, figsize=(6, 8))\n",
    "axes[0].plot(df.index, df.beta, \"o-\")\n",
    "axes[0].set_ylabel(\"Beta\")\n",
    "\n",
    "axes[1].plot(df.index, df.phi_d, \"o-\")\n",
    "axes[1].axhline(data_misfit.n_data, linestyle=\"--\", color=\"grey\")\n",
    "axes[1].set_ylabel(\"Data misfit\")\n",
    "axes[1].set_yscale(\"log\")\n",
    "\n",
    "axes[2].plot(df.index, df.phi_m, \"o-\")\n",
    "axes[2].set_ylabel(\"Model norm\")\n",
    "\n",
    "plt.show()"
   ]
  }
 ],
 "metadata": {
  "kernelspec": {
   "display_name": "Python [conda env:inversion_ideas]",
   "language": "python",
   "name": "conda-env-inversion_ideas-py"
  },
  "language_info": {
   "codemirror_mode": {
    "name": "ipython",
    "version": 3
   },
   "file_extension": ".py",
   "mimetype": "text/x-python",
   "name": "python",
   "nbconvert_exporter": "python",
   "pygments_lexer": "ipython3",
   "version": "3.13.5"
  }
 },
 "nbformat": 4,
 "nbformat_minor": 5
}
