{
 "cells": [
  {
   "cell_type": "markdown",
   "id": "0ed66bfb-683e-4b0a-a4ec-50050f295070",
   "metadata": {},
   "source": [
    "# Use inversion framework to fit a linear regressor"
   ]
  },
  {
   "cell_type": "code",
   "execution_count": 1,
   "id": "bba9bf32-da93-4100-9ee1-0983a1450bb4",
   "metadata": {
    "execution": {
     "iopub.execute_input": "2025-10-07T19:14:28.512703Z",
     "iopub.status.busy": "2025-10-07T19:14:28.511697Z",
     "iopub.status.idle": "2025-10-07T19:14:30.108548Z",
     "shell.execute_reply": "2025-10-07T19:14:30.107913Z"
    }
   },
   "outputs": [],
   "source": [
    "import numpy as np\n",
    "from regressor import LinearRegressor\n",
    "\n",
    "from inversion_ideas import ConjugateGradient, DataMisfit, TikhonovZero"
   ]
  },
  {
   "cell_type": "code",
   "execution_count": 2,
   "id": "afa3d214-09d3-4a0f-a402-5793d8b308b2",
   "metadata": {
    "execution": {
     "iopub.execute_input": "2025-10-07T19:14:30.110564Z",
     "iopub.status.busy": "2025-10-07T19:14:30.110268Z",
     "iopub.status.idle": "2025-10-07T19:14:30.116524Z",
     "shell.execute_reply": "2025-10-07T19:14:30.116120Z"
    }
   },
   "outputs": [
    {
     "data": {
      "text/plain": [
       "array([0.78225148, 0.67148671, 0.2373809 , 0.17946133, 0.34662367,\n",
       "       0.15210999, 0.31142952, 0.23900652, 0.54355731, 0.91770851])"
      ]
     },
     "execution_count": 2,
     "metadata": {},
     "output_type": "execute_result"
    }
   ],
   "source": [
    "n_params = 10\n",
    "rng = np.random.default_rng(seed=4242)\n",
    "true_model = rng.uniform(size=10)\n",
    "true_model"
   ]
  },
  {
   "cell_type": "code",
   "execution_count": 3,
   "id": "5485a55c-9727-4260-b590-1ea243dba484",
   "metadata": {
    "execution": {
     "iopub.execute_input": "2025-10-07T19:14:30.118150Z",
     "iopub.status.busy": "2025-10-07T19:14:30.117966Z",
     "iopub.status.idle": "2025-10-07T19:14:30.120796Z",
     "shell.execute_reply": "2025-10-07T19:14:30.120341Z"
    }
   },
   "outputs": [],
   "source": [
    "# Build the X array\n",
    "n_data = 25\n",
    "shape = (n_data, n_params)\n",
    "X = rng.uniform(size=n_data * n_params).reshape(shape)"
   ]
  },
  {
   "cell_type": "code",
   "execution_count": 4,
   "id": "66458a9c-5e01-4a75-8fd0-fd149f447992",
   "metadata": {
    "execution": {
     "iopub.execute_input": "2025-10-07T19:14:30.122357Z",
     "iopub.status.busy": "2025-10-07T19:14:30.122167Z",
     "iopub.status.idle": "2025-10-07T19:14:30.137841Z",
     "shell.execute_reply": "2025-10-07T19:14:30.136872Z"
    }
   },
   "outputs": [
    {
     "data": {
      "text/plain": [
       "array([2.83840696, 2.18091081, 2.00623242, 2.08333039, 2.01694883,\n",
       "       2.7826232 , 2.10564027, 1.27333506, 2.08859855, 1.94177648,\n",
       "       1.88492037, 2.92394733, 2.17231952, 3.08009275, 1.61670886,\n",
       "       1.77403753, 2.67305005, 1.91413882, 2.42117827, 2.13991628,\n",
       "       2.0153805 , 2.71388471, 2.65944255, 2.44416121, 3.14217523])"
      ]
     },
     "execution_count": 4,
     "metadata": {},
     "output_type": "execute_result"
    }
   ],
   "source": [
    "synthetic_data = X @ true_model\n",
    "maxabs = np.max(np.abs(synthetic_data))\n",
    "noise = rng.normal(scale=1e-2 * maxabs, size=synthetic_data.size)\n",
    "synthetic_data += noise\n",
    "synthetic_data"
   ]
  },
  {
   "cell_type": "code",
   "execution_count": 5,
   "id": "ad91f721-72a9-485b-9043-d85a2a220b7b",
   "metadata": {
    "execution": {
     "iopub.execute_input": "2025-10-07T19:14:30.140807Z",
     "iopub.status.busy": "2025-10-07T19:14:30.140444Z",
     "iopub.status.idle": "2025-10-07T19:14:30.144952Z",
     "shell.execute_reply": "2025-10-07T19:14:30.143992Z"
    }
   },
   "outputs": [],
   "source": [
    "simulation = LinearRegressor(X)"
   ]
  },
  {
   "cell_type": "code",
   "execution_count": 6,
   "id": "04636169-320a-4f1e-ab42-1b083b0111dd",
   "metadata": {
    "execution": {
     "iopub.execute_input": "2025-10-07T19:14:30.147842Z",
     "iopub.status.busy": "2025-10-07T19:14:30.147571Z",
     "iopub.status.idle": "2025-10-07T19:14:30.151235Z",
     "shell.execute_reply": "2025-10-07T19:14:30.150659Z"
    }
   },
   "outputs": [],
   "source": [
    "uncertainty = 1e-2 * maxabs * np.ones_like(synthetic_data)\n",
    "data_misfit = DataMisfit(synthetic_data, uncertainty, simulation)\n",
    "smallness = TikhonovZero(n_params)"
   ]
  },
  {
   "cell_type": "code",
   "execution_count": 7,
   "id": "8da79647-eb17-4177-afb9-776f3cc4ffc5",
   "metadata": {
    "execution": {
     "iopub.execute_input": "2025-10-07T19:14:30.153592Z",
     "iopub.status.busy": "2025-10-07T19:14:30.153393Z",
     "iopub.status.idle": "2025-10-07T19:14:30.158294Z",
     "shell.execute_reply": "2025-10-07T19:14:30.157576Z"
    }
   },
   "outputs": [
    {
     "data": {
      "text/latex": [
       "$ \\phi_{d} (m) + 1.00 \\cdot 10^{-3} \\, \\phi_{0} (m) $"
      ],
      "text/plain": [
       "φd(m) + 0.00 φ0(m)"
      ]
     },
     "execution_count": 7,
     "metadata": {},
     "output_type": "execute_result"
    }
   ],
   "source": [
    "phi = data_misfit + 1e-3 * smallness\n",
    "phi"
   ]
  },
  {
   "cell_type": "code",
   "execution_count": 8,
   "id": "d7bb890a-2958-4ea4-aa64-413f57c7b63e",
   "metadata": {
    "execution": {
     "iopub.execute_input": "2025-10-07T19:14:30.160373Z",
     "iopub.status.busy": "2025-10-07T19:14:30.160177Z",
     "iopub.status.idle": "2025-10-07T19:14:30.163964Z",
     "shell.execute_reply": "2025-10-07T19:14:30.163543Z"
    }
   },
   "outputs": [
    {
     "data": {
      "text/plain": [
       "array([0., 0., 0., 0., 0., 0., 0., 0., 0., 0.])"
      ]
     },
     "execution_count": 8,
     "metadata": {},
     "output_type": "execute_result"
    }
   ],
   "source": [
    "initial_model = np.zeros(n_params)\n",
    "initial_model"
   ]
  },
  {
   "cell_type": "markdown",
   "id": "5cc54476-cd31-4bf6-bc0f-bfd6254af7ec",
   "metadata": {},
   "source": [
    "## Minimize manually with `scipy.sparse.linalg.cg`"
   ]
  },
  {
   "cell_type": "code",
   "execution_count": 9,
   "id": "d4bac3a2-49d5-4592-a793-72789ec31a5c",
   "metadata": {
    "execution": {
     "iopub.execute_input": "2025-10-07T19:14:30.165901Z",
     "iopub.status.busy": "2025-10-07T19:14:30.165719Z",
     "iopub.status.idle": "2025-10-07T19:14:30.168376Z",
     "shell.execute_reply": "2025-10-07T19:14:30.167823Z"
    }
   },
   "outputs": [],
   "source": [
    "from scipy.sparse.linalg import cg"
   ]
  },
  {
   "cell_type": "code",
   "execution_count": 10,
   "id": "c3369162-abe9-4fb9-9294-69277e50ef13",
   "metadata": {
    "execution": {
     "iopub.execute_input": "2025-10-07T19:14:30.170465Z",
     "iopub.status.busy": "2025-10-07T19:14:30.170055Z",
     "iopub.status.idle": "2025-10-07T19:14:30.174879Z",
     "shell.execute_reply": "2025-10-07T19:14:30.174303Z"
    }
   },
   "outputs": [],
   "source": [
    "grad = phi.gradient(initial_model)\n",
    "hess = phi.hessian(initial_model)"
   ]
  },
  {
   "cell_type": "code",
   "execution_count": 11,
   "id": "c1fed88c-9c34-4ee3-8208-e7b50c2ec678",
   "metadata": {
    "execution": {
     "iopub.execute_input": "2025-10-07T19:14:30.176952Z",
     "iopub.status.busy": "2025-10-07T19:14:30.176763Z",
     "iopub.status.idle": "2025-10-07T19:14:30.181821Z",
     "shell.execute_reply": "2025-10-07T19:14:30.181344Z"
    }
   },
   "outputs": [
    {
     "data": {
      "text/plain": [
       "(array([0.81328886, 0.65927515, 0.24729371, 0.19624752, 0.3237346 ,\n",
       "        0.14720343, 0.3194468 , 0.25235983, 0.52215485, 0.92181019]),\n",
       " 0)"
      ]
     },
     "execution_count": 11,
     "metadata": {},
     "output_type": "execute_result"
    }
   ],
   "source": [
    "model_step, info = cg(hess, -grad)\n",
    "model_step, info"
   ]
  },
  {
   "cell_type": "code",
   "execution_count": 12,
   "id": "54a8ef70-6e5f-4000-ad2f-658dbffd83f1",
   "metadata": {
    "execution": {
     "iopub.execute_input": "2025-10-07T19:14:30.183722Z",
     "iopub.status.busy": "2025-10-07T19:14:30.183541Z",
     "iopub.status.idle": "2025-10-07T19:14:30.185992Z",
     "shell.execute_reply": "2025-10-07T19:14:30.185505Z"
    }
   },
   "outputs": [],
   "source": [
    "inverted_model = initial_model + model_step"
   ]
  },
  {
   "cell_type": "code",
   "execution_count": 13,
   "id": "b05f913f-dcfa-4bca-a277-b9cf5c9de6b5",
   "metadata": {
    "execution": {
     "iopub.execute_input": "2025-10-07T19:14:30.188042Z",
     "iopub.status.busy": "2025-10-07T19:14:30.187677Z",
     "iopub.status.idle": "2025-10-07T19:14:30.191144Z",
     "shell.execute_reply": "2025-10-07T19:14:30.190675Z"
    }
   },
   "outputs": [
    {
     "name": "stdout",
     "output_type": "stream",
     "text": [
      "Result:\n",
      "[0.81328886 0.65927515 0.24729371 0.19624752 0.3237346  0.14720343\n",
      " 0.3194468  0.25235983 0.52215485 0.92181019]\n",
      "\n",
      "True model:\n",
      "[0.78225148 0.67148671 0.2373809  0.17946133 0.34662367 0.15210999\n",
      " 0.31142952 0.23900652 0.54355731 0.91770851]\n"
     ]
    }
   ],
   "source": [
    "print(\"Result:\")\n",
    "print(inverted_model)\n",
    "print()\n",
    "print(\"True model:\")\n",
    "print(true_model)"
   ]
  },
  {
   "cell_type": "markdown",
   "id": "ad0f7d22-77d6-410c-bca1-e3d765006aff",
   "metadata": {},
   "source": [
    "## Minimize with SciPy's `minimize`"
   ]
  },
  {
   "cell_type": "code",
   "execution_count": 14,
   "id": "5f36ec3b-0380-4eeb-b01a-3191c12b70f5",
   "metadata": {
    "execution": {
     "iopub.execute_input": "2025-10-07T19:14:30.193151Z",
     "iopub.status.busy": "2025-10-07T19:14:30.192974Z",
     "iopub.status.idle": "2025-10-07T19:14:30.195405Z",
     "shell.execute_reply": "2025-10-07T19:14:30.195026Z"
    }
   },
   "outputs": [],
   "source": [
    "from scipy.optimize import minimize"
   ]
  },
  {
   "cell_type": "code",
   "execution_count": 15,
   "id": "ba337ea8-0afb-46aa-b107-07bcf86a8324",
   "metadata": {
    "execution": {
     "iopub.execute_input": "2025-10-07T19:14:30.197464Z",
     "iopub.status.busy": "2025-10-07T19:14:30.197093Z",
     "iopub.status.idle": "2025-10-07T19:14:30.325774Z",
     "shell.execute_reply": "2025-10-07T19:14:30.325238Z"
    }
   },
   "outputs": [
    {
     "data": {
      "text/plain": [
       "  message: Optimization terminated successfully.\n",
       "  success: True\n",
       "   status: 0\n",
       "      fun: 11.719746150008518\n",
       "        x: [ 8.133e-01  6.593e-01  2.473e-01  1.963e-01  3.237e-01\n",
       "             1.472e-01  3.195e-01  2.524e-01  5.222e-01  9.218e-01]\n",
       "      nit: 15\n",
       "      jac: [ 4.768e-07 -4.530e-06 -2.384e-06  1.907e-06  1.192e-06\n",
       "            -2.146e-06 -1.431e-06 -4.292e-06 -2.027e-06  0.000e+00]\n",
       " hess_inv: [[ 3.378e-04 -1.043e-04 ...  1.536e-05 -9.322e-05]\n",
       "            [-1.043e-04  4.045e-04 ... -1.009e-04 -1.335e-05]\n",
       "            ...\n",
       "            [ 1.536e-05 -1.009e-04 ...  2.159e-04 -5.467e-05]\n",
       "            [-9.322e-05 -1.335e-05 ... -5.467e-05  2.625e-04]]\n",
       "     nfev: 253\n",
       "     njev: 23"
      ]
     },
     "execution_count": 15,
     "metadata": {},
     "output_type": "execute_result"
    }
   ],
   "source": [
    "result = minimize(phi, initial_model)\n",
    "result"
   ]
  },
  {
   "cell_type": "code",
   "execution_count": 16,
   "id": "d5cf83b5-6cbd-42d1-9513-d3ca38464b72",
   "metadata": {
    "execution": {
     "iopub.execute_input": "2025-10-07T19:14:30.327575Z",
     "iopub.status.busy": "2025-10-07T19:14:30.327398Z",
     "iopub.status.idle": "2025-10-07T19:14:30.329926Z",
     "shell.execute_reply": "2025-10-07T19:14:30.329476Z"
    }
   },
   "outputs": [],
   "source": [
    "# The minimize already gives you the minimum model\n",
    "inverted_model = result.x"
   ]
  },
  {
   "cell_type": "code",
   "execution_count": 17,
   "id": "d25be88b-3134-447a-b003-c80dddff3166",
   "metadata": {
    "execution": {
     "iopub.execute_input": "2025-10-07T19:14:30.331567Z",
     "iopub.status.busy": "2025-10-07T19:14:30.331363Z",
     "iopub.status.idle": "2025-10-07T19:14:30.334787Z",
     "shell.execute_reply": "2025-10-07T19:14:30.334324Z"
    }
   },
   "outputs": [
    {
     "name": "stdout",
     "output_type": "stream",
     "text": [
      "Result:\n",
      "[0.8132614  0.65925411 0.24726513 0.19626776 0.32373026 0.14719295\n",
      " 0.3194738  0.25235066 0.52216838 0.92184154]\n",
      "\n",
      "True model:\n",
      "[0.78225148 0.67148671 0.2373809  0.17946133 0.34662367 0.15210999\n",
      " 0.31142952 0.23900652 0.54355731 0.91770851]\n"
     ]
    }
   ],
   "source": [
    "print(\"Result:\")\n",
    "print(inverted_model)\n",
    "print()\n",
    "print(\"True model:\")\n",
    "print(true_model)"
   ]
  },
  {
   "cell_type": "code",
   "execution_count": 18,
   "id": "50cb98a1-1fc8-4378-a517-09ed910ce1c3",
   "metadata": {
    "execution": {
     "iopub.execute_input": "2025-10-07T19:14:30.336498Z",
     "iopub.status.busy": "2025-10-07T19:14:30.336331Z",
     "iopub.status.idle": "2025-10-07T19:14:30.368081Z",
     "shell.execute_reply": "2025-10-07T19:14:30.367541Z"
    }
   },
   "outputs": [
    {
     "data": {
      "text/plain": [
       " message: Optimization terminated successfully.\n",
       " success: True\n",
       "  status: 0\n",
       "     fun: 11.719746150007744\n",
       "       x: [ 8.133e-01  6.593e-01  2.473e-01  1.963e-01  3.237e-01\n",
       "            1.472e-01  3.195e-01  2.524e-01  5.222e-01  9.218e-01]\n",
       "     nit: 12\n",
       "     jac: [ 1.599e-09  1.157e-09  9.655e-10  1.721e-09  1.377e-09\n",
       "            1.441e-09  1.387e-09  8.740e-10  1.384e-09  1.061e-09]\n",
       "    nfev: 24\n",
       "    njev: 24"
      ]
     },
     "execution_count": 18,
     "metadata": {},
     "output_type": "execute_result"
    }
   ],
   "source": [
    "result = minimize(phi, initial_model, jac=phi.gradient, method=\"CG\")\n",
    "result"
   ]
  },
  {
   "cell_type": "code",
   "execution_count": 19,
   "id": "45a7c13a-79ea-445f-b63d-b551787ebc20",
   "metadata": {
    "execution": {
     "iopub.execute_input": "2025-10-07T19:14:30.369796Z",
     "iopub.status.busy": "2025-10-07T19:14:30.369568Z",
     "iopub.status.idle": "2025-10-07T19:14:30.372591Z",
     "shell.execute_reply": "2025-10-07T19:14:30.372045Z"
    }
   },
   "outputs": [],
   "source": [
    "# The minimize already gives you the minimum model\n",
    "inverted_model = result.x"
   ]
  },
  {
   "cell_type": "code",
   "execution_count": 20,
   "id": "094fbf19-b676-4aba-8e23-b93abb8b2431",
   "metadata": {
    "execution": {
     "iopub.execute_input": "2025-10-07T19:14:30.374479Z",
     "iopub.status.busy": "2025-10-07T19:14:30.374258Z",
     "iopub.status.idle": "2025-10-07T19:14:30.378435Z",
     "shell.execute_reply": "2025-10-07T19:14:30.377898Z"
    }
   },
   "outputs": [
    {
     "name": "stdout",
     "output_type": "stream",
     "text": [
      "Result:\n",
      "[0.8132614  0.65925411 0.24726513 0.19626776 0.32373025 0.14719295\n",
      " 0.3194738  0.25235066 0.52216838 0.92184154]\n",
      "\n",
      "True model:\n",
      "[0.78225148 0.67148671 0.2373809  0.17946133 0.34662367 0.15210999\n",
      " 0.31142952 0.23900652 0.54355731 0.91770851]\n"
     ]
    }
   ],
   "source": [
    "print(\"Result:\")\n",
    "print(result.x)\n",
    "print()\n",
    "print(\"True model:\")\n",
    "print(true_model)"
   ]
  },
  {
   "cell_type": "code",
   "execution_count": 21,
   "id": "65235b83-fd51-4f52-b7ba-3c0dc2a35fe2",
   "metadata": {
    "execution": {
     "iopub.execute_input": "2025-10-07T19:14:30.380140Z",
     "iopub.status.busy": "2025-10-07T19:14:30.379918Z",
     "iopub.status.idle": "2025-10-07T19:14:30.408798Z",
     "shell.execute_reply": "2025-10-07T19:14:30.408274Z"
    }
   },
   "outputs": [
    {
     "data": {
      "text/plain": [
       " message: Optimization terminated successfully.\n",
       " success: True\n",
       "  status: 0\n",
       "     fun: 11.71974631421735\n",
       "       x: [ 8.133e-01  6.592e-01  2.473e-01  1.963e-01  3.237e-01\n",
       "            1.472e-01  3.195e-01  2.524e-01  5.222e-01  9.218e-01]\n",
       "     nit: 10\n",
       "     jac: [-3.047e-02 -4.461e-02  1.683e-02  2.203e-02 -8.361e-03\n",
       "            7.088e-02 -2.080e-02  3.307e-02 -1.339e-02 -1.339e-02]\n",
       "    nfev: 11\n",
       "    njev: 11\n",
       "    nhev: 26"
      ]
     },
     "execution_count": 21,
     "metadata": {},
     "output_type": "execute_result"
    }
   ],
   "source": [
    "result = minimize(\n",
    "    phi, initial_model, jac=phi.gradient, hess=phi.hessian, method=\"Newton-CG\"\n",
    ")\n",
    "result"
   ]
  },
  {
   "cell_type": "code",
   "execution_count": 22,
   "id": "45df89b6-58fc-472c-bfa6-96f1d3c7cc5c",
   "metadata": {
    "execution": {
     "iopub.execute_input": "2025-10-07T19:14:30.410662Z",
     "iopub.status.busy": "2025-10-07T19:14:30.410433Z",
     "iopub.status.idle": "2025-10-07T19:14:30.413460Z",
     "shell.execute_reply": "2025-10-07T19:14:30.412907Z"
    }
   },
   "outputs": [],
   "source": [
    "# The minimize already gives you the minimum model\n",
    "inverted_model = result.x"
   ]
  },
  {
   "cell_type": "code",
   "execution_count": 23,
   "id": "2e9d2ee1-bfd9-4c3d-9865-f63d08a25b07",
   "metadata": {
    "execution": {
     "iopub.execute_input": "2025-10-07T19:14:30.415129Z",
     "iopub.status.busy": "2025-10-07T19:14:30.414885Z",
     "iopub.status.idle": "2025-10-07T19:14:30.418845Z",
     "shell.execute_reply": "2025-10-07T19:14:30.418266Z"
    }
   },
   "outputs": [
    {
     "name": "stdout",
     "output_type": "stream",
     "text": [
      "Result:\n",
      "[0.81326764 0.65924856 0.24725963 0.19626682 0.32372755 0.14719478\n",
      " 0.31947594 0.25235815 0.52216987 0.92183788]\n",
      "\n",
      "True model:\n",
      "[0.78225148 0.67148671 0.2373809  0.17946133 0.34662367 0.15210999\n",
      " 0.31142952 0.23900652 0.54355731 0.91770851]\n"
     ]
    }
   ],
   "source": [
    "print(\"Result:\")\n",
    "print(result.x)\n",
    "print()\n",
    "print(\"True model:\")\n",
    "print(true_model)"
   ]
  },
  {
   "cell_type": "markdown",
   "id": "ded8a6fd-c419-4b13-bf3e-9d221c78a368",
   "metadata": {},
   "source": [
    "## Use `Minimizer` class"
   ]
  },
  {
   "cell_type": "code",
   "execution_count": 24,
   "id": "34372a3f-ff42-435f-9423-a4f99712fd9c",
   "metadata": {
    "execution": {
     "iopub.execute_input": "2025-10-07T19:14:30.420974Z",
     "iopub.status.busy": "2025-10-07T19:14:30.420735Z",
     "iopub.status.idle": "2025-10-07T19:14:30.424976Z",
     "shell.execute_reply": "2025-10-07T19:14:30.424385Z"
    }
   },
   "outputs": [
    {
     "data": {
      "text/plain": [
       "<inversion_ideas.minimizers.ConjugateGradient at 0x7f7a791ed160>"
      ]
     },
     "execution_count": 24,
     "metadata": {},
     "output_type": "execute_result"
    }
   ],
   "source": [
    "minimizer = ConjugateGradient()\n",
    "minimizer"
   ]
  },
  {
   "cell_type": "code",
   "execution_count": 25,
   "id": "f3f52071-c2c5-4016-9d61-cd2f3b781698",
   "metadata": {
    "execution": {
     "iopub.execute_input": "2025-10-07T19:14:30.426982Z",
     "iopub.status.busy": "2025-10-07T19:14:30.426787Z",
     "iopub.status.idle": "2025-10-07T19:14:30.431749Z",
     "shell.execute_reply": "2025-10-07T19:14:30.431279Z"
    }
   },
   "outputs": [],
   "source": [
    "inverted_model = minimizer(phi, initial_model)"
   ]
  },
  {
   "cell_type": "code",
   "execution_count": 26,
   "id": "e41d3e15-1a74-42b9-9583-cacb8aeceadc",
   "metadata": {
    "execution": {
     "iopub.execute_input": "2025-10-07T19:14:30.433760Z",
     "iopub.status.busy": "2025-10-07T19:14:30.433514Z",
     "iopub.status.idle": "2025-10-07T19:14:30.437884Z",
     "shell.execute_reply": "2025-10-07T19:14:30.437237Z"
    }
   },
   "outputs": [
    {
     "name": "stdout",
     "output_type": "stream",
     "text": [
      "Result:\n",
      "[0.81328886 0.65927515 0.24729371 0.19624752 0.3237346  0.14720343\n",
      " 0.3194468  0.25235983 0.52215485 0.92181019]\n",
      "\n",
      "True model:\n",
      "[0.78225148 0.67148671 0.2373809  0.17946133 0.34662367 0.15210999\n",
      " 0.31142952 0.23900652 0.54355731 0.91770851]\n"
     ]
    }
   ],
   "source": [
    "print(\"Result:\")\n",
    "print(inverted_model)\n",
    "print()\n",
    "print(\"True model:\")\n",
    "print(true_model)"
   ]
  }
 ],
 "metadata": {
  "kernelspec": {
   "display_name": "Python [conda env:inversion_ideas]",
   "language": "python",
   "name": "conda-env-inversion_ideas-py"
  },
  "language_info": {
   "codemirror_mode": {
    "name": "ipython",
    "version": 3
   },
   "file_extension": ".py",
   "mimetype": "text/x-python",
   "name": "python",
   "nbconvert_exporter": "python",
   "pygments_lexer": "ipython3",
   "version": "3.13.5"
  }
 },
 "nbformat": 4,
 "nbformat_minor": 5
}
