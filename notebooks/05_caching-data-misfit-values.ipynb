{
 "cells": [
  {
   "cell_type": "code",
   "execution_count": 1,
   "id": "0707778e-d975-46b6-b670-d461e53e5b10",
   "metadata": {
    "execution": {
     "iopub.execute_input": "2025-07-30T21:44:47.072067Z",
     "iopub.status.busy": "2025-07-30T21:44:47.071719Z",
     "iopub.status.idle": "2025-07-30T21:44:47.396277Z",
     "shell.execute_reply": "2025-07-30T21:44:47.395648Z",
     "shell.execute_reply.started": "2025-07-30T21:44:47.072030Z"
    }
   },
   "outputs": [],
   "source": [
    "import numpy as np\n",
    "from regressor import LinearRegressor\n",
    "\n",
    "from inversion_ideas import (\n",
    "    DataMisfit,\n",
    "    TikhonovZero,\n",
    ")"
   ]
  },
  {
   "cell_type": "markdown",
   "id": "6ca1c237-f423-4f85-b19c-2d8fc00ac6e1",
   "metadata": {},
   "source": [
    "## Create a true model and synthetic data for a linear regressor"
   ]
  },
  {
   "cell_type": "code",
   "execution_count": 2,
   "id": "179250ca-3da3-4a82-8573-7a285246147b",
   "metadata": {
    "execution": {
     "iopub.execute_input": "2025-07-30T21:44:47.396995Z",
     "iopub.status.busy": "2025-07-30T21:44:47.396741Z",
     "iopub.status.idle": "2025-07-30T21:44:47.403097Z",
     "shell.execute_reply": "2025-07-30T21:44:47.402547Z",
     "shell.execute_reply.started": "2025-07-30T21:44:47.396977Z"
    }
   },
   "outputs": [
    {
     "data": {
      "text/plain": [
       "array([0.78225148, 0.67148671, 0.2373809 , 0.17946133, 0.34662367,\n",
       "       0.15210999, 0.31142952, 0.23900652, 0.54355731, 0.91770851])"
      ]
     },
     "execution_count": 2,
     "metadata": {},
     "output_type": "execute_result"
    }
   ],
   "source": [
    "n_params = 10\n",
    "rng = np.random.default_rng(seed=4242)\n",
    "true_model = rng.uniform(size=10)\n",
    "true_model"
   ]
  },
  {
   "cell_type": "code",
   "execution_count": 3,
   "id": "a477ebd0-8ca7-4cd2-b17d-30c21dda08c6",
   "metadata": {
    "execution": {
     "iopub.execute_input": "2025-07-30T21:44:47.403954Z",
     "iopub.status.busy": "2025-07-30T21:44:47.403695Z",
     "iopub.status.idle": "2025-07-30T21:44:47.408373Z",
     "shell.execute_reply": "2025-07-30T21:44:47.407792Z",
     "shell.execute_reply.started": "2025-07-30T21:44:47.403928Z"
    }
   },
   "outputs": [],
   "source": [
    "# Build the X array\n",
    "n_data = 25\n",
    "shape = (n_data, n_params)\n",
    "X = rng.uniform(size=n_data * n_params).reshape(shape)"
   ]
  },
  {
   "cell_type": "code",
   "execution_count": 4,
   "id": "7cc7a7bc-804b-48ea-bdb0-ebf4fa9a8e2e",
   "metadata": {
    "execution": {
     "iopub.execute_input": "2025-07-30T21:44:47.409374Z",
     "iopub.status.busy": "2025-07-30T21:44:47.409098Z",
     "iopub.status.idle": "2025-07-30T21:44:47.415322Z",
     "shell.execute_reply": "2025-07-30T21:44:47.414783Z",
     "shell.execute_reply.started": "2025-07-30T21:44:47.409349Z"
    }
   },
   "outputs": [
    {
     "data": {
      "text/plain": [
       "array([2.83840696, 2.18091081, 2.00623242, 2.08333039, 2.01694883,\n",
       "       2.7826232 , 2.10564027, 1.27333506, 2.08859855, 1.94177648,\n",
       "       1.88492037, 2.92394733, 2.17231952, 3.08009275, 1.61670886,\n",
       "       1.77403753, 2.67305005, 1.91413882, 2.42117827, 2.13991628,\n",
       "       2.0153805 , 2.71388471, 2.65944255, 2.44416121, 3.14217523])"
      ]
     },
     "execution_count": 4,
     "metadata": {},
     "output_type": "execute_result"
    }
   ],
   "source": [
    "synthetic_data = X @ true_model\n",
    "maxabs = np.max(np.abs(synthetic_data))\n",
    "noise = rng.normal(scale=1e-2 * maxabs, size=synthetic_data.size)\n",
    "synthetic_data += noise\n",
    "synthetic_data"
   ]
  },
  {
   "cell_type": "markdown",
   "id": "b47ed2d3-0d71-4ead-8230-6df11d5833a9",
   "metadata": {},
   "source": [
    "## Define objective function\n",
    "\n",
    "Enable caching in the data misfit."
   ]
  },
  {
   "cell_type": "code",
   "execution_count": 5,
   "id": "6ec35263-f754-4931-b577-b3d4f0fc803a",
   "metadata": {
    "execution": {
     "iopub.execute_input": "2025-07-30T21:44:47.416283Z",
     "iopub.status.busy": "2025-07-30T21:44:47.416046Z",
     "iopub.status.idle": "2025-07-30T21:44:47.419801Z",
     "shell.execute_reply": "2025-07-30T21:44:47.419324Z",
     "shell.execute_reply.started": "2025-07-30T21:44:47.416256Z"
    }
   },
   "outputs": [],
   "source": [
    "uncertainty = 1e-2 * maxabs * np.ones_like(synthetic_data)\n",
    "simulation = LinearRegressor(X)\n",
    "data_misfit = DataMisfit(synthetic_data, uncertainty, simulation, cache=True)"
   ]
  },
  {
   "cell_type": "code",
   "execution_count": 6,
   "id": "050b9c20-4b0a-49af-a900-1bb964588408",
   "metadata": {
    "execution": {
     "iopub.execute_input": "2025-07-30T21:44:47.421144Z",
     "iopub.status.busy": "2025-07-30T21:44:47.420963Z",
     "iopub.status.idle": "2025-07-30T21:44:47.424047Z",
     "shell.execute_reply": "2025-07-30T21:44:47.423483Z",
     "shell.execute_reply.started": "2025-07-30T21:44:47.421126Z"
    }
   },
   "outputs": [],
   "source": [
    "smallness = TikhonovZero(n_params)"
   ]
  },
  {
   "cell_type": "code",
   "execution_count": 7,
   "id": "2cf726db-4849-46c3-9fca-41b5650b88b8",
   "metadata": {
    "execution": {
     "iopub.execute_input": "2025-07-30T21:44:47.425088Z",
     "iopub.status.busy": "2025-07-30T21:44:47.424807Z",
     "iopub.status.idle": "2025-07-30T21:44:47.431231Z",
     "shell.execute_reply": "2025-07-30T21:44:47.430434Z",
     "shell.execute_reply.started": "2025-07-30T21:44:47.425060Z"
    }
   },
   "outputs": [
    {
     "data": {
      "text/plain": [
       "np.float64(0.5840230066563845)"
      ]
     },
     "execution_count": 7,
     "metadata": {},
     "output_type": "execute_result"
    }
   ],
   "source": [
    "data_misfit(true_model)"
   ]
  },
  {
   "cell_type": "code",
   "execution_count": 8,
   "id": "8d201eea-294d-490f-8b76-12024acc0808",
   "metadata": {
    "execution": {
     "iopub.execute_input": "2025-07-30T21:44:47.432428Z",
     "iopub.status.busy": "2025-07-30T21:44:47.431858Z",
     "iopub.status.idle": "2025-07-30T21:44:47.436461Z",
     "shell.execute_reply": "2025-07-30T21:44:47.435923Z",
     "shell.execute_reply.started": "2025-07-30T21:44:47.432399Z"
    }
   },
   "outputs": [
    {
     "data": {
      "text/plain": [
       "np.float64(0.5840230066563845)"
      ]
     },
     "execution_count": 8,
     "metadata": {},
     "output_type": "execute_result"
    }
   ],
   "source": [
    "data_misfit(true_model)"
   ]
  },
  {
   "cell_type": "code",
   "execution_count": 9,
   "id": "da1db943-236d-43da-b0b0-e776d21931af",
   "metadata": {
    "execution": {
     "iopub.execute_input": "2025-07-30T21:44:47.437338Z",
     "iopub.status.busy": "2025-07-30T21:44:47.437078Z",
     "iopub.status.idle": "2025-07-30T21:44:47.441396Z",
     "shell.execute_reply": "2025-07-30T21:44:47.440794Z",
     "shell.execute_reply.started": "2025-07-30T21:44:47.437312Z"
    }
   },
   "outputs": [
    {
     "data": {
      "text/latex": [
       "$\\phi (m)$ + $1.00 \\cdot 10^{-3} \\, \\phi (m)$"
      ],
      "text/plain": [
       "φ(m) + 0.00 φ(m)"
      ]
     },
     "execution_count": 9,
     "metadata": {},
     "output_type": "execute_result"
    }
   ],
   "source": [
    "phi = data_misfit + 1e-3 * smallness\n",
    "phi"
   ]
  },
  {
   "cell_type": "code",
   "execution_count": 10,
   "id": "9032d9d4-9c23-461b-bbc8-f172afdfd9ac",
   "metadata": {
    "execution": {
     "iopub.execute_input": "2025-07-30T21:44:47.442415Z",
     "iopub.status.busy": "2025-07-30T21:44:47.442153Z",
     "iopub.status.idle": "2025-07-30T21:44:47.448575Z",
     "shell.execute_reply": "2025-07-30T21:44:47.447473Z",
     "shell.execute_reply.started": "2025-07-30T21:44:47.442388Z"
    }
   },
   "outputs": [
    {
     "data": {
      "text/plain": [
       "np.float64(0.5866094158271177)"
      ]
     },
     "execution_count": 10,
     "metadata": {},
     "output_type": "execute_result"
    }
   ],
   "source": [
    "phi(true_model)"
   ]
  },
  {
   "cell_type": "code",
   "execution_count": 11,
   "id": "00c6e189-9deb-4cdf-8b78-887f0d8e44b9",
   "metadata": {
    "execution": {
     "iopub.execute_input": "2025-07-30T21:44:47.449577Z",
     "iopub.status.busy": "2025-07-30T21:44:47.449339Z",
     "iopub.status.idle": "2025-07-30T21:44:47.458751Z",
     "shell.execute_reply": "2025-07-30T21:44:47.458039Z",
     "shell.execute_reply.started": "2025-07-30T21:44:47.449556Z"
    }
   },
   "outputs": [
    {
     "data": {
      "text/plain": [
       "np.float64(178.6162555970424)"
      ]
     },
     "execution_count": 11,
     "metadata": {},
     "output_type": "execute_result"
    }
   ],
   "source": [
    "new_model = rng.uniform(size=n_params)\n",
    "\n",
    "phi(new_model)"
   ]
  }
 ],
 "metadata": {
  "kernelspec": {
   "display_name": "Python [conda env:inversion_ideas]",
   "language": "python",
   "name": "conda-env-inversion_ideas-py"
  },
  "language_info": {
   "codemirror_mode": {
    "name": "ipython",
    "version": 3
   },
   "file_extension": ".py",
   "mimetype": "text/x-python",
   "name": "python",
   "nbconvert_exporter": "python",
   "pygments_lexer": "ipython3",
   "version": "3.13.5"
  }
 },
 "nbformat": 4,
 "nbformat_minor": 5
}
