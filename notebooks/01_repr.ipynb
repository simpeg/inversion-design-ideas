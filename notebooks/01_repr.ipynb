{
 "cells": [
  {
   "cell_type": "code",
   "execution_count": 1,
   "id": "ec5a23f6-1939-4bd6-9ddc-a33798bbe64f",
   "metadata": {
    "execution": {
     "iopub.execute_input": "2025-08-07T23:13:51.682847Z",
     "iopub.status.busy": "2025-08-07T23:13:51.682659Z",
     "iopub.status.idle": "2025-08-07T23:13:52.017377Z",
     "shell.execute_reply": "2025-08-07T23:13:52.016748Z"
    }
   },
   "outputs": [],
   "source": [
    "\n",
    "from inversion_ideas.base import Objective"
   ]
  },
  {
   "cell_type": "code",
   "execution_count": 2,
   "id": "9ec050b8-c948-41cb-b13d-d8e510fbfa4e",
   "metadata": {
    "execution": {
     "iopub.execute_input": "2025-08-07T23:13:52.019570Z",
     "iopub.status.busy": "2025-08-07T23:13:52.019293Z",
     "iopub.status.idle": "2025-08-07T23:13:52.023118Z",
     "shell.execute_reply": "2025-08-07T23:13:52.022535Z"
    }
   },
   "outputs": [],
   "source": [
    "class Dummy(Objective):\n",
    "    def __init__(self, n_params):\n",
    "        super().__init__()\n",
    "        self._n_params = n_params\n",
    "\n",
    "    @property\n",
    "    def n_params(self):\n",
    "        return self._n_params\n",
    "        \n",
    "    def __call__(self, model):\n",
    "        pass\n",
    "        \n",
    "    def gradient(self, model):\n",
    "        pass\n",
    "        \n",
    "    def hessian(self, model):\n",
    "        pass"
   ]
  },
  {
   "cell_type": "markdown",
   "id": "b16bb178",
   "metadata": {},
   "source": [
    "## Define some objective functions and name them"
   ]
  },
  {
   "cell_type": "code",
   "execution_count": 3,
   "id": "00c39dc7-9da0-4a44-8950-b63c31f42cee",
   "metadata": {
    "execution": {
     "iopub.execute_input": "2025-08-07T23:13:52.025355Z",
     "iopub.status.busy": "2025-08-07T23:13:52.025160Z",
     "iopub.status.idle": "2025-08-07T23:13:52.031209Z",
     "shell.execute_reply": "2025-08-07T23:13:52.030544Z"
    }
   },
   "outputs": [
    {
     "data": {
      "text/latex": [
       "$\\phi_{a} (m)$"
      ],
      "text/plain": [
       "φa(m)"
      ]
     },
     "execution_count": 3,
     "metadata": {},
     "output_type": "execute_result"
    }
   ],
   "source": [
    "a = Dummy(3)\n",
    "a.set_name(\"a\")\n",
    "a"
   ]
  },
  {
   "cell_type": "code",
   "execution_count": 4,
   "id": "ab16bcf5-8529-4b01-9ce5-f0060110e73d",
   "metadata": {
    "execution": {
     "iopub.execute_input": "2025-08-07T23:13:52.033405Z",
     "iopub.status.busy": "2025-08-07T23:13:52.033204Z",
     "iopub.status.idle": "2025-08-07T23:13:52.036974Z",
     "shell.execute_reply": "2025-08-07T23:13:52.036544Z"
    }
   },
   "outputs": [
    {
     "data": {
      "text/latex": [
       "$\\phi_{b} (m)$"
      ],
      "text/plain": [
       "φb(m)"
      ]
     },
     "execution_count": 4,
     "metadata": {},
     "output_type": "execute_result"
    }
   ],
   "source": [
    "b = Dummy(3)\n",
    "b.set_name(\"b\")\n",
    "b"
   ]
  },
  {
   "cell_type": "code",
   "execution_count": 5,
   "id": "1da4940c-8fba-4aef-ba71-6979b31e8265",
   "metadata": {
    "execution": {
     "iopub.execute_input": "2025-08-07T23:13:52.039034Z",
     "iopub.status.busy": "2025-08-07T23:13:52.038789Z",
     "iopub.status.idle": "2025-08-07T23:13:52.042746Z",
     "shell.execute_reply": "2025-08-07T23:13:52.042209Z"
    }
   },
   "outputs": [
    {
     "data": {
      "text/latex": [
       "$\\phi_{c} (m)$"
      ],
      "text/plain": [
       "φc(m)"
      ]
     },
     "execution_count": 5,
     "metadata": {},
     "output_type": "execute_result"
    }
   ],
   "source": [
    "c = Dummy(3)\n",
    "c.set_name(\"c\")\n",
    "c"
   ]
  },
  {
   "cell_type": "code",
   "execution_count": 6,
   "id": "710cf93b",
   "metadata": {
    "execution": {
     "iopub.execute_input": "2025-08-07T23:13:52.044821Z",
     "iopub.status.busy": "2025-08-07T23:13:52.044639Z",
     "iopub.status.idle": "2025-08-07T23:13:52.048279Z",
     "shell.execute_reply": "2025-08-07T23:13:52.047851Z"
    }
   },
   "outputs": [
    {
     "data": {
      "text/latex": [
       "$\\phi_{d} (m)$"
      ],
      "text/plain": [
       "φd(m)"
      ]
     },
     "execution_count": 6,
     "metadata": {},
     "output_type": "execute_result"
    }
   ],
   "source": [
    "d = Dummy(3)\n",
    "d.set_name(\"d\")\n",
    "d"
   ]
  },
  {
   "cell_type": "markdown",
   "id": "9f36b948",
   "metadata": {},
   "source": [
    "## Experiment with Combo and Scaled"
   ]
  },
  {
   "cell_type": "markdown",
   "id": "66e4e69a",
   "metadata": {},
   "source": [
    "Simple combo of two objective functions:"
   ]
  },
  {
   "cell_type": "code",
   "execution_count": 7,
   "id": "1162487a",
   "metadata": {
    "execution": {
     "iopub.execute_input": "2025-08-07T23:13:52.050403Z",
     "iopub.status.busy": "2025-08-07T23:13:52.050179Z",
     "iopub.status.idle": "2025-08-07T23:13:52.053856Z",
     "shell.execute_reply": "2025-08-07T23:13:52.053410Z"
    }
   },
   "outputs": [
    {
     "data": {
      "text/latex": [
       "$ \\phi_{a} (m) + \\phi_{b} (m) $"
      ],
      "text/plain": [
       "φa(m) + φb(m)"
      ]
     },
     "execution_count": 7,
     "metadata": {},
     "output_type": "execute_result"
    }
   ],
   "source": [
    "combo = a + b\n",
    "combo"
   ]
  },
  {
   "cell_type": "markdown",
   "id": "f41f30a4",
   "metadata": {},
   "source": [
    "Multiply an objective function by a scalar"
   ]
  },
  {
   "cell_type": "code",
   "execution_count": 8,
   "id": "c59b599d",
   "metadata": {
    "execution": {
     "iopub.execute_input": "2025-08-07T23:13:52.055584Z",
     "iopub.status.busy": "2025-08-07T23:13:52.055348Z",
     "iopub.status.idle": "2025-08-07T23:13:52.058947Z",
     "shell.execute_reply": "2025-08-07T23:13:52.058320Z"
    }
   },
   "outputs": [
    {
     "data": {
      "text/latex": [
       "$5.40 \\, \\phi_{a} (m)$"
      ],
      "text/plain": [
       "5.40 φa(m)"
      ]
     },
     "execution_count": 8,
     "metadata": {},
     "output_type": "execute_result"
    }
   ],
   "source": [
    "scaled = 5.4 * a\n",
    "scaled"
   ]
  },
  {
   "cell_type": "markdown",
   "id": "836adbbb",
   "metadata": {},
   "source": [
    "Sum together scaled objective functions to get also a combo:"
   ]
  },
  {
   "cell_type": "code",
   "execution_count": 9,
   "id": "30e1d431",
   "metadata": {
    "execution": {
     "iopub.execute_input": "2025-08-07T23:13:52.060901Z",
     "iopub.status.busy": "2025-08-07T23:13:52.060509Z",
     "iopub.status.idle": "2025-08-07T23:13:52.064467Z",
     "shell.execute_reply": "2025-08-07T23:13:52.064041Z"
    }
   },
   "outputs": [
    {
     "data": {
      "text/latex": [
       "$ 5.40 \\, \\phi_{a} (m) + 3.20 \\, \\phi_{b} (m) $"
      ],
      "text/plain": [
       "5.40 φa(m) + 3.20 φb(m)"
      ]
     },
     "execution_count": 9,
     "metadata": {},
     "output_type": "execute_result"
    }
   ],
   "source": [
    "combo = 5.4 * a + 3.2 * b\n",
    "combo"
   ]
  },
  {
   "cell_type": "markdown",
   "id": "46e1b7bc",
   "metadata": {},
   "source": [
    "We can treat the combo as a _collection_:"
   ]
  },
  {
   "cell_type": "code",
   "execution_count": 10,
   "id": "b9c387cb",
   "metadata": {
    "execution": {
     "iopub.execute_input": "2025-08-07T23:13:52.066224Z",
     "iopub.status.busy": "2025-08-07T23:13:52.066002Z",
     "iopub.status.idle": "2025-08-07T23:13:52.069487Z",
     "shell.execute_reply": "2025-08-07T23:13:52.069072Z"
    }
   },
   "outputs": [
    {
     "data": {
      "text/latex": [
       "$ 5.40 \\, \\phi_{a} (m) + 3.20 \\, \\phi_{b} (m) $"
      ],
      "text/plain": [
       "5.40 φa(m) + 3.20 φb(m)"
      ]
     },
     "execution_count": 10,
     "metadata": {},
     "output_type": "execute_result"
    }
   ],
   "source": [
    "term_1 = 5.4 * a\n",
    "term_2 = 3.2 * b\n",
    "\n",
    "combo = term_1 + term_2\n",
    "combo"
   ]
  },
  {
   "cell_type": "code",
   "execution_count": 11,
   "id": "6615d2da",
   "metadata": {
    "execution": {
     "iopub.execute_input": "2025-08-07T23:13:52.071155Z",
     "iopub.status.busy": "2025-08-07T23:13:52.070969Z",
     "iopub.status.idle": "2025-08-07T23:13:52.074393Z",
     "shell.execute_reply": "2025-08-07T23:13:52.073885Z"
    }
   },
   "outputs": [
    {
     "name": "stdout",
     "output_type": "stream",
     "text": [
      "5.40 φa(m)\n",
      "3.20 φb(m)\n"
     ]
    }
   ],
   "source": [
    "for phi in combo:\n",
    "    print(phi)"
   ]
  },
  {
   "cell_type": "code",
   "execution_count": 12,
   "id": "a1779507",
   "metadata": {
    "execution": {
     "iopub.execute_input": "2025-08-07T23:13:52.076146Z",
     "iopub.status.busy": "2025-08-07T23:13:52.075964Z",
     "iopub.status.idle": "2025-08-07T23:13:52.079426Z",
     "shell.execute_reply": "2025-08-07T23:13:52.078922Z"
    }
   },
   "outputs": [
    {
     "data": {
      "text/plain": [
       "2"
      ]
     },
     "execution_count": 12,
     "metadata": {},
     "output_type": "execute_result"
    }
   ],
   "source": [
    "len(combo)"
   ]
  },
  {
   "cell_type": "code",
   "execution_count": 13,
   "id": "a2384a15",
   "metadata": {
    "execution": {
     "iopub.execute_input": "2025-08-07T23:13:52.081207Z",
     "iopub.status.busy": "2025-08-07T23:13:52.081022Z",
     "iopub.status.idle": "2025-08-07T23:13:52.084512Z",
     "shell.execute_reply": "2025-08-07T23:13:52.084117Z"
    }
   },
   "outputs": [
    {
     "data": {
      "text/latex": [
       "$5.40 \\, \\phi_{a} (m)$"
      ],
      "text/plain": [
       "5.40 φa(m)"
      ]
     },
     "execution_count": 13,
     "metadata": {},
     "output_type": "execute_result"
    }
   ],
   "source": [
    "combo[0]"
   ]
  },
  {
   "cell_type": "code",
   "execution_count": 14,
   "id": "416b3950",
   "metadata": {
    "execution": {
     "iopub.execute_input": "2025-08-07T23:13:52.086221Z",
     "iopub.status.busy": "2025-08-07T23:13:52.085991Z",
     "iopub.status.idle": "2025-08-07T23:13:52.090479Z",
     "shell.execute_reply": "2025-08-07T23:13:52.089993Z"
    }
   },
   "outputs": [
    {
     "data": {
      "text/latex": [
       "$3.20 \\, \\phi_{b} (m)$"
      ],
      "text/plain": [
       "3.20 φb(m)"
      ]
     },
     "execution_count": 14,
     "metadata": {},
     "output_type": "execute_result"
    }
   ],
   "source": [
    "combo[1]"
   ]
  },
  {
   "cell_type": "markdown",
   "id": "edddc174",
   "metadata": {},
   "source": [
    "The elements in the combo **are the same** as used in its definition:"
   ]
  },
  {
   "cell_type": "code",
   "execution_count": 15,
   "id": "5712d7c4",
   "metadata": {
    "execution": {
     "iopub.execute_input": "2025-08-07T23:13:52.092181Z",
     "iopub.status.busy": "2025-08-07T23:13:52.091988Z",
     "iopub.status.idle": "2025-08-07T23:13:52.095635Z",
     "shell.execute_reply": "2025-08-07T23:13:52.095070Z"
    }
   },
   "outputs": [
    {
     "data": {
      "text/plain": [
       "True"
      ]
     },
     "execution_count": 15,
     "metadata": {},
     "output_type": "execute_result"
    }
   ],
   "source": [
    "combo[0] is term_1"
   ]
  },
  {
   "cell_type": "code",
   "execution_count": 16,
   "id": "6e762fae",
   "metadata": {
    "execution": {
     "iopub.execute_input": "2025-08-07T23:13:52.097278Z",
     "iopub.status.busy": "2025-08-07T23:13:52.097100Z",
     "iopub.status.idle": "2025-08-07T23:13:52.100240Z",
     "shell.execute_reply": "2025-08-07T23:13:52.099789Z"
    }
   },
   "outputs": [
    {
     "data": {
      "text/plain": [
       "True"
      ]
     },
     "execution_count": 16,
     "metadata": {},
     "output_type": "execute_result"
    }
   ],
   "source": [
    "combo[1] is term_2"
   ]
  },
  {
   "cell_type": "code",
   "execution_count": 17,
   "id": "23c909ff",
   "metadata": {
    "execution": {
     "iopub.execute_input": "2025-08-07T23:13:52.101969Z",
     "iopub.status.busy": "2025-08-07T23:13:52.101782Z",
     "iopub.status.idle": "2025-08-07T23:13:52.105478Z",
     "shell.execute_reply": "2025-08-07T23:13:52.104902Z"
    }
   },
   "outputs": [
    {
     "data": {
      "text/plain": [
       "True"
      ]
     },
     "execution_count": 17,
     "metadata": {},
     "output_type": "execute_result"
    }
   ],
   "source": [
    "term_1 in combo"
   ]
  },
  {
   "cell_type": "code",
   "execution_count": 18,
   "id": "0c880a5e",
   "metadata": {
    "execution": {
     "iopub.execute_input": "2025-08-07T23:13:52.107750Z",
     "iopub.status.busy": "2025-08-07T23:13:52.107200Z",
     "iopub.status.idle": "2025-08-07T23:13:52.111062Z",
     "shell.execute_reply": "2025-08-07T23:13:52.110452Z"
    }
   },
   "outputs": [
    {
     "data": {
      "text/plain": [
       "True"
      ]
     },
     "execution_count": 18,
     "metadata": {},
     "output_type": "execute_result"
    }
   ],
   "source": [
    "term_2 in combo"
   ]
  },
  {
   "cell_type": "markdown",
   "id": "cada5891",
   "metadata": {},
   "source": [
    "### Nested Combos"
   ]
  },
  {
   "cell_type": "markdown",
   "id": "6709d658",
   "metadata": {},
   "source": [
    "If we sum together three or more functions, we obtain a _nested_ combo structure:"
   ]
  },
  {
   "cell_type": "code",
   "execution_count": 19,
   "id": "7b28238c",
   "metadata": {
    "execution": {
     "iopub.execute_input": "2025-08-07T23:13:52.113305Z",
     "iopub.status.busy": "2025-08-07T23:13:52.113110Z",
     "iopub.status.idle": "2025-08-07T23:13:52.116972Z",
     "shell.execute_reply": "2025-08-07T23:13:52.116411Z"
    }
   },
   "outputs": [
    {
     "data": {
      "text/latex": [
       "$ [  [  \\phi_{a} (m) + \\phi_{b} (m)  ] + \\phi_{c} (m)  ] + \\phi_{d} (m) $"
      ],
      "text/plain": [
       "[ [ φa(m) + φb(m) ] + φc(m) ] + φd(m)"
      ]
     },
     "execution_count": 19,
     "metadata": {},
     "output_type": "execute_result"
    }
   ],
   "source": [
    "combo = a + b + c + d\n",
    "combo"
   ]
  },
  {
   "cell_type": "markdown",
   "id": "20ace78d",
   "metadata": {},
   "source": [
    "We need to be aware of this and its consequences:\n",
    "* The `combo` variable is a `Combo` with two elements: a `Combo` and the `d` objective function"
   ]
  },
  {
   "cell_type": "code",
   "execution_count": 20,
   "id": "e2b68e65",
   "metadata": {
    "execution": {
     "iopub.execute_input": "2025-08-07T23:13:52.119005Z",
     "iopub.status.busy": "2025-08-07T23:13:52.118825Z",
     "iopub.status.idle": "2025-08-07T23:13:52.122450Z",
     "shell.execute_reply": "2025-08-07T23:13:52.122009Z"
    }
   },
   "outputs": [
    {
     "data": {
      "text/plain": [
       "2"
      ]
     },
     "execution_count": 20,
     "metadata": {},
     "output_type": "execute_result"
    }
   ],
   "source": [
    "len(combo)"
   ]
  },
  {
   "cell_type": "code",
   "execution_count": 21,
   "id": "dfacafec",
   "metadata": {
    "execution": {
     "iopub.execute_input": "2025-08-07T23:13:52.124137Z",
     "iopub.status.busy": "2025-08-07T23:13:52.123949Z",
     "iopub.status.idle": "2025-08-07T23:13:52.127730Z",
     "shell.execute_reply": "2025-08-07T23:13:52.127185Z"
    }
   },
   "outputs": [
    {
     "data": {
      "text/latex": [
       "$ [  \\phi_{a} (m) + \\phi_{b} (m)  ] + \\phi_{c} (m) $"
      ],
      "text/plain": [
       "[ φa(m) + φb(m) ] + φc(m)"
      ]
     },
     "execution_count": 21,
     "metadata": {},
     "output_type": "execute_result"
    }
   ],
   "source": [
    "combo[0]"
   ]
  },
  {
   "cell_type": "code",
   "execution_count": 22,
   "id": "fab38dbd",
   "metadata": {
    "execution": {
     "iopub.execute_input": "2025-08-07T23:13:52.129756Z",
     "iopub.status.busy": "2025-08-07T23:13:52.129570Z",
     "iopub.status.idle": "2025-08-07T23:13:52.133298Z",
     "shell.execute_reply": "2025-08-07T23:13:52.132902Z"
    }
   },
   "outputs": [
    {
     "data": {
      "text/latex": [
       "$\\phi_{d} (m)$"
      ],
      "text/plain": [
       "φd(m)"
      ]
     },
     "execution_count": 22,
     "metadata": {},
     "output_type": "execute_result"
    }
   ],
   "source": [
    "combo[1]"
   ]
  },
  {
   "cell_type": "markdown",
   "id": "e382e253",
   "metadata": {},
   "source": [
    "* This means that `a`, `b` and `c` **are not** in `combo`:"
   ]
  },
  {
   "cell_type": "code",
   "execution_count": 23,
   "id": "df67dd34",
   "metadata": {
    "execution": {
     "iopub.execute_input": "2025-08-07T23:13:52.134957Z",
     "iopub.status.busy": "2025-08-07T23:13:52.134742Z",
     "iopub.status.idle": "2025-08-07T23:13:52.137843Z",
     "shell.execute_reply": "2025-08-07T23:13:52.137270Z"
    }
   },
   "outputs": [
    {
     "name": "stdout",
     "output_type": "stream",
     "text": [
      "False\n",
      "False\n",
      "False\n"
     ]
    }
   ],
   "source": [
    "print(a in combo)\n",
    "print(b in combo)\n",
    "print(c in combo)"
   ]
  },
  {
   "cell_type": "markdown",
   "id": "71980cab",
   "metadata": {},
   "source": [
    "* But `d` is part of `combo`:"
   ]
  },
  {
   "cell_type": "code",
   "execution_count": 24,
   "id": "9d278973",
   "metadata": {
    "execution": {
     "iopub.execute_input": "2025-08-07T23:13:52.139911Z",
     "iopub.status.busy": "2025-08-07T23:13:52.139657Z",
     "iopub.status.idle": "2025-08-07T23:13:52.143399Z",
     "shell.execute_reply": "2025-08-07T23:13:52.142983Z"
    }
   },
   "outputs": [
    {
     "data": {
      "text/plain": [
       "True"
      ]
     },
     "execution_count": 24,
     "metadata": {},
     "output_type": "execute_result"
    }
   ],
   "source": [
    "d in combo"
   ]
  },
  {
   "cell_type": "markdown",
   "id": "d2b0c55d",
   "metadata": {},
   "source": [
    "* The `combo[0]` is another `Combo` with two elements."
   ]
  },
  {
   "cell_type": "code",
   "execution_count": 25,
   "id": "9cd68535",
   "metadata": {
    "execution": {
     "iopub.execute_input": "2025-08-07T23:13:52.145091Z",
     "iopub.status.busy": "2025-08-07T23:13:52.144906Z",
     "iopub.status.idle": "2025-08-07T23:13:52.148379Z",
     "shell.execute_reply": "2025-08-07T23:13:52.147964Z"
    }
   },
   "outputs": [
    {
     "data": {
      "text/plain": [
       "2"
      ]
     },
     "execution_count": 25,
     "metadata": {},
     "output_type": "execute_result"
    }
   ],
   "source": [
    "len(combo[0])"
   ]
  },
  {
   "cell_type": "code",
   "execution_count": 26,
   "id": "2675812a",
   "metadata": {
    "execution": {
     "iopub.execute_input": "2025-08-07T23:13:52.150001Z",
     "iopub.status.busy": "2025-08-07T23:13:52.149801Z",
     "iopub.status.idle": "2025-08-07T23:13:52.153636Z",
     "shell.execute_reply": "2025-08-07T23:13:52.153238Z"
    }
   },
   "outputs": [
    {
     "data": {
      "text/latex": [
       "$ \\phi_{a} (m) + \\phi_{b} (m) $"
      ],
      "text/plain": [
       "φa(m) + φb(m)"
      ]
     },
     "execution_count": 26,
     "metadata": {},
     "output_type": "execute_result"
    }
   ],
   "source": [
    "combo[0][0]"
   ]
  },
  {
   "cell_type": "code",
   "execution_count": 27,
   "id": "685da4e1",
   "metadata": {
    "execution": {
     "iopub.execute_input": "2025-08-07T23:13:52.155724Z",
     "iopub.status.busy": "2025-08-07T23:13:52.155509Z",
     "iopub.status.idle": "2025-08-07T23:13:52.159382Z",
     "shell.execute_reply": "2025-08-07T23:13:52.158962Z"
    }
   },
   "outputs": [
    {
     "data": {
      "text/latex": [
       "$\\phi_{c} (m)$"
      ],
      "text/plain": [
       "φc(m)"
      ]
     },
     "execution_count": 27,
     "metadata": {},
     "output_type": "execute_result"
    }
   ],
   "source": [
    "combo[0][1]"
   ]
  },
  {
   "cell_type": "markdown",
   "id": "fedc0220",
   "metadata": {},
   "source": [
    "* We can organize how the structure is defined by using parenthesis:"
   ]
  },
  {
   "cell_type": "code",
   "execution_count": 28,
   "id": "806a0e29",
   "metadata": {
    "execution": {
     "iopub.execute_input": "2025-08-07T23:13:52.161136Z",
     "iopub.status.busy": "2025-08-07T23:13:52.160942Z",
     "iopub.status.idle": "2025-08-07T23:13:52.164905Z",
     "shell.execute_reply": "2025-08-07T23:13:52.164289Z"
    }
   },
   "outputs": [
    {
     "data": {
      "text/latex": [
       "$ [  \\phi_{a} (m) + \\phi_{b} (m)  ] + [  \\phi_{c} (m) + \\phi_{d} (m)  ] $"
      ],
      "text/plain": [
       "[ φa(m) + φb(m) ] + [ φc(m) + φd(m) ]"
      ]
     },
     "execution_count": 28,
     "metadata": {},
     "output_type": "execute_result"
    }
   ],
   "source": [
    "combo = (a + b) + (c + d)\n",
    "combo"
   ]
  },
  {
   "cell_type": "markdown",
   "id": "dfb23f1f",
   "metadata": {},
   "source": [
    "* We can use the `contains()` method to recursively search for an objective function in a `Combo`."
   ]
  },
  {
   "cell_type": "code",
   "execution_count": 29,
   "id": "87e9055e",
   "metadata": {
    "execution": {
     "iopub.execute_input": "2025-08-07T23:13:52.167211Z",
     "iopub.status.busy": "2025-08-07T23:13:52.166964Z",
     "iopub.status.idle": "2025-08-07T23:13:52.171055Z",
     "shell.execute_reply": "2025-08-07T23:13:52.170435Z"
    }
   },
   "outputs": [
    {
     "data": {
      "text/latex": [
       "$ [  \\phi_{a} (m) + \\phi_{b} (m)  ] + \\phi_{c} (m) $"
      ],
      "text/plain": [
       "[ φa(m) + φb(m) ] + φc(m)"
      ]
     },
     "execution_count": 29,
     "metadata": {},
     "output_type": "execute_result"
    }
   ],
   "source": [
    "combo = a + b + c\n",
    "combo"
   ]
  },
  {
   "cell_type": "code",
   "execution_count": 30,
   "id": "c1382dbe",
   "metadata": {
    "execution": {
     "iopub.execute_input": "2025-08-07T23:13:52.173429Z",
     "iopub.status.busy": "2025-08-07T23:13:52.172768Z",
     "iopub.status.idle": "2025-08-07T23:13:52.176895Z",
     "shell.execute_reply": "2025-08-07T23:13:52.176305Z"
    }
   },
   "outputs": [
    {
     "data": {
      "text/plain": [
       "True"
      ]
     },
     "execution_count": 30,
     "metadata": {},
     "output_type": "execute_result"
    }
   ],
   "source": [
    "combo.contains(a)"
   ]
  },
  {
   "cell_type": "code",
   "execution_count": 31,
   "id": "7d3fd9b1",
   "metadata": {
    "execution": {
     "iopub.execute_input": "2025-08-07T23:13:52.178526Z",
     "iopub.status.busy": "2025-08-07T23:13:52.178336Z",
     "iopub.status.idle": "2025-08-07T23:13:52.181942Z",
     "shell.execute_reply": "2025-08-07T23:13:52.181541Z"
    }
   },
   "outputs": [
    {
     "data": {
      "text/plain": [
       "False"
      ]
     },
     "execution_count": 31,
     "metadata": {},
     "output_type": "execute_result"
    }
   ],
   "source": [
    "combo.contains(d)"
   ]
  },
  {
   "cell_type": "code",
   "execution_count": 32,
   "id": "97779a13",
   "metadata": {
    "execution": {
     "iopub.execute_input": "2025-08-07T23:13:52.183620Z",
     "iopub.status.busy": "2025-08-07T23:13:52.183428Z",
     "iopub.status.idle": "2025-08-07T23:13:52.187326Z",
     "shell.execute_reply": "2025-08-07T23:13:52.186801Z"
    }
   },
   "outputs": [
    {
     "data": {
      "text/latex": [
       "$ [  5.20 \\, \\phi_{a} (m) + \\phi_{b} (m)  ] + \\phi_{c} (m) $"
      ],
      "text/plain": [
       "[ 5.20 φa(m) + φb(m) ] + φc(m)"
      ]
     },
     "execution_count": 32,
     "metadata": {},
     "output_type": "execute_result"
    }
   ],
   "source": [
    "combo = 5.2 * a + b + c\n",
    "combo"
   ]
  },
  {
   "cell_type": "code",
   "execution_count": 33,
   "id": "1782469e",
   "metadata": {
    "execution": {
     "iopub.execute_input": "2025-08-07T23:13:52.189250Z",
     "iopub.status.busy": "2025-08-07T23:13:52.189044Z",
     "iopub.status.idle": "2025-08-07T23:13:52.192644Z",
     "shell.execute_reply": "2025-08-07T23:13:52.192144Z"
    }
   },
   "outputs": [
    {
     "data": {
      "text/plain": [
       "True"
      ]
     },
     "execution_count": 33,
     "metadata": {},
     "output_type": "execute_result"
    }
   ],
   "source": [
    "combo.contains(a)"
   ]
  },
  {
   "cell_type": "markdown",
   "id": "c8d4667d",
   "metadata": {},
   "source": [
    "* The `contains()` method works with `Combo`s as well:"
   ]
  },
  {
   "cell_type": "code",
   "execution_count": 34,
   "id": "bbdbd37a",
   "metadata": {
    "execution": {
     "iopub.execute_input": "2025-08-07T23:13:52.194529Z",
     "iopub.status.busy": "2025-08-07T23:13:52.194174Z",
     "iopub.status.idle": "2025-08-07T23:13:52.197899Z",
     "shell.execute_reply": "2025-08-07T23:13:52.197518Z"
    }
   },
   "outputs": [
    {
     "data": {
      "text/latex": [
       "$ [  2.30 \\, [  \\phi_{a} (m) + \\phi_{b} (m)  ] + 1.00 \\cdot 10^{-3} \\, \\phi_{b} (m)  ] + \\phi_{c} (m) $"
      ],
      "text/plain": [
       "[ 2.30 [φa(m) + φb(m)] + 0.00 φb(m) ] + φc(m)"
      ]
     },
     "execution_count": 34,
     "metadata": {},
     "output_type": "execute_result"
    }
   ],
   "source": [
    "combo_a = a + b\n",
    "combo = (2.3 * combo_a + 1e-3 * b) + c\n",
    "combo"
   ]
  },
  {
   "cell_type": "code",
   "execution_count": 35,
   "id": "2a05bb6a",
   "metadata": {
    "execution": {
     "iopub.execute_input": "2025-08-07T23:13:52.199821Z",
     "iopub.status.busy": "2025-08-07T23:13:52.199575Z",
     "iopub.status.idle": "2025-08-07T23:13:52.203487Z",
     "shell.execute_reply": "2025-08-07T23:13:52.202991Z"
    }
   },
   "outputs": [
    {
     "data": {
      "text/plain": [
       "True"
      ]
     },
     "execution_count": 35,
     "metadata": {},
     "output_type": "execute_result"
    }
   ],
   "source": [
    "combo.contains(combo_a)"
   ]
  },
  {
   "cell_type": "markdown",
   "id": "87d0c573",
   "metadata": {},
   "source": [
    "### Flat combos"
   ]
  },
  {
   "cell_type": "markdown",
   "id": "b3b16a6b",
   "metadata": {},
   "source": [
    "If we prefer to have a _flat_ structure when adding together multiple functions, we can use the `flatten()` method:"
   ]
  },
  {
   "cell_type": "code",
   "execution_count": 36,
   "id": "e8bf86e4",
   "metadata": {
    "execution": {
     "iopub.execute_input": "2025-08-07T23:13:52.205837Z",
     "iopub.status.busy": "2025-08-07T23:13:52.205493Z",
     "iopub.status.idle": "2025-08-07T23:13:52.209423Z",
     "shell.execute_reply": "2025-08-07T23:13:52.208836Z"
    }
   },
   "outputs": [
    {
     "data": {
      "text/latex": [
       "$ \\phi_{a} (m) + \\phi_{b} (m) + \\phi_{c} (m) + \\phi_{d} (m) $"
      ],
      "text/plain": [
       "φa(m) + φb(m) + φc(m) + φd(m)"
      ]
     },
     "execution_count": 36,
     "metadata": {},
     "output_type": "execute_result"
    }
   ],
   "source": [
    "flat_combo = (a + b + c + d).flatten()\n",
    "flat_combo"
   ]
  },
  {
   "cell_type": "code",
   "execution_count": 37,
   "id": "44c4d316",
   "metadata": {
    "execution": {
     "iopub.execute_input": "2025-08-07T23:13:52.211215Z",
     "iopub.status.busy": "2025-08-07T23:13:52.210978Z",
     "iopub.status.idle": "2025-08-07T23:13:52.214611Z",
     "shell.execute_reply": "2025-08-07T23:13:52.214007Z"
    }
   },
   "outputs": [
    {
     "data": {
      "text/plain": [
       "False"
      ]
     },
     "execution_count": 37,
     "metadata": {},
     "output_type": "execute_result"
    }
   ],
   "source": [
    "combo in flat_combo"
   ]
  },
  {
   "cell_type": "markdown",
   "id": "311768a6",
   "metadata": {},
   "source": [
    "Flattening a `Combo` returns a new `Combo` object"
   ]
  },
  {
   "cell_type": "code",
   "execution_count": 38,
   "id": "a92eeef1",
   "metadata": {
    "execution": {
     "iopub.execute_input": "2025-08-07T23:13:52.216525Z",
     "iopub.status.busy": "2025-08-07T23:13:52.216292Z",
     "iopub.status.idle": "2025-08-07T23:13:52.220070Z",
     "shell.execute_reply": "2025-08-07T23:13:52.219479Z"
    }
   },
   "outputs": [
    {
     "data": {
      "text/latex": [
       "$ [  \\phi_{a} (m) + \\phi_{b} (m)  ] + [  \\phi_{c} (m) + \\phi_{d} (m)  ] $"
      ],
      "text/plain": [
       "[ φa(m) + φb(m) ] + [ φc(m) + φd(m) ]"
      ]
     },
     "execution_count": 38,
     "metadata": {},
     "output_type": "execute_result"
    }
   ],
   "source": [
    "combo = (a + b) + (c + d)\n",
    "combo"
   ]
  },
  {
   "cell_type": "code",
   "execution_count": 39,
   "id": "ee2435f9",
   "metadata": {
    "execution": {
     "iopub.execute_input": "2025-08-07T23:13:52.221932Z",
     "iopub.status.busy": "2025-08-07T23:13:52.221732Z",
     "iopub.status.idle": "2025-08-07T23:13:52.225769Z",
     "shell.execute_reply": "2025-08-07T23:13:52.225267Z"
    }
   },
   "outputs": [
    {
     "data": {
      "text/latex": [
       "$ \\phi_{a} (m) + \\phi_{b} (m) + \\phi_{c} (m) + \\phi_{d} (m) $"
      ],
      "text/plain": [
       "φa(m) + φb(m) + φc(m) + φd(m)"
      ]
     },
     "execution_count": 39,
     "metadata": {},
     "output_type": "execute_result"
    }
   ],
   "source": [
    "flat_combo = combo.flatten()\n",
    "flat_combo"
   ]
  },
  {
   "cell_type": "code",
   "execution_count": 40,
   "id": "199f4847",
   "metadata": {
    "execution": {
     "iopub.execute_input": "2025-08-07T23:13:52.227857Z",
     "iopub.status.busy": "2025-08-07T23:13:52.227665Z",
     "iopub.status.idle": "2025-08-07T23:13:52.231352Z",
     "shell.execute_reply": "2025-08-07T23:13:52.230880Z"
    }
   },
   "outputs": [
    {
     "data": {
      "text/plain": [
       "False"
      ]
     },
     "execution_count": 40,
     "metadata": {},
     "output_type": "execute_result"
    }
   ],
   "source": [
    "combo is flat_combo"
   ]
  }
 ],
 "metadata": {
  "kernelspec": {
   "display_name": "inversion_ideas",
   "language": "python",
   "name": "python3"
  },
  "language_info": {
   "codemirror_mode": {
    "name": "ipython",
    "version": 3
   },
   "file_extension": ".py",
   "mimetype": "text/x-python",
   "name": "python",
   "nbconvert_exporter": "python",
   "pygments_lexer": "ipython3",
   "version": "3.13.5"
  }
 },
 "nbformat": 4,
 "nbformat_minor": 5
}
