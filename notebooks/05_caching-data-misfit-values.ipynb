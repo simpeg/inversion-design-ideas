{
 "cells": [
  {
   "cell_type": "code",
   "execution_count": 1,
   "id": "0707778e-d975-46b6-b670-d461e53e5b10",
   "metadata": {
    "execution": {
     "iopub.execute_input": "2025-10-07T20:46:21.008082Z",
     "iopub.status.busy": "2025-10-07T20:46:21.007198Z",
     "iopub.status.idle": "2025-10-07T20:46:22.891408Z",
     "shell.execute_reply": "2025-10-07T20:46:22.890708Z",
     "shell.execute_reply.started": "2025-10-07T20:46:21.007999Z"
    }
   },
   "outputs": [],
   "source": [
    "import numpy as np\n",
    "from regressor import LinearRegressor\n",
    "\n",
    "import inversion_ideas as ii"
   ]
  },
  {
   "cell_type": "markdown",
   "id": "6ca1c237-f423-4f85-b19c-2d8fc00ac6e1",
   "metadata": {},
   "source": [
    "## Create a true model and synthetic data for a linear regressor"
   ]
  },
  {
   "cell_type": "code",
   "execution_count": 2,
   "id": "179250ca-3da3-4a82-8573-7a285246147b",
   "metadata": {
    "execution": {
     "iopub.execute_input": "2025-10-07T20:46:22.892763Z",
     "iopub.status.busy": "2025-10-07T20:46:22.892423Z",
     "iopub.status.idle": "2025-10-07T20:46:22.899942Z",
     "shell.execute_reply": "2025-10-07T20:46:22.899275Z",
     "shell.execute_reply.started": "2025-10-07T20:46:22.892741Z"
    }
   },
   "outputs": [
    {
     "data": {
      "text/plain": [
       "array([0.78225148, 0.67148671, 0.2373809 , 0.17946133, 0.34662367,\n",
       "       0.15210999, 0.31142952, 0.23900652, 0.54355731, 0.91770851])"
      ]
     },
     "execution_count": 2,
     "metadata": {},
     "output_type": "execute_result"
    }
   ],
   "source": [
    "n_params = 10\n",
    "rng = np.random.default_rng(seed=4242)\n",
    "true_model = rng.uniform(size=10)\n",
    "true_model"
   ]
  },
  {
   "cell_type": "code",
   "execution_count": 3,
   "id": "a477ebd0-8ca7-4cd2-b17d-30c21dda08c6",
   "metadata": {
    "execution": {
     "iopub.execute_input": "2025-10-07T20:46:22.900936Z",
     "iopub.status.busy": "2025-10-07T20:46:22.900641Z",
     "iopub.status.idle": "2025-10-07T20:46:22.913564Z",
     "shell.execute_reply": "2025-10-07T20:46:22.912862Z",
     "shell.execute_reply.started": "2025-10-07T20:46:22.900914Z"
    }
   },
   "outputs": [],
   "source": [
    "# Build the X array\n",
    "n_data = 25\n",
    "shape = (n_data, n_params)\n",
    "X = rng.uniform(size=n_data * n_params).reshape(shape)"
   ]
  },
  {
   "cell_type": "code",
   "execution_count": 4,
   "id": "7cc7a7bc-804b-48ea-bdb0-ebf4fa9a8e2e",
   "metadata": {
    "execution": {
     "iopub.execute_input": "2025-10-07T20:46:22.915218Z",
     "iopub.status.busy": "2025-10-07T20:46:22.914855Z",
     "iopub.status.idle": "2025-10-07T20:46:22.924316Z",
     "shell.execute_reply": "2025-10-07T20:46:22.923633Z",
     "shell.execute_reply.started": "2025-10-07T20:46:22.915183Z"
    }
   },
   "outputs": [
    {
     "data": {
      "text/plain": [
       "array([2.83840696, 2.18091081, 2.00623242, 2.08333039, 2.01694883,\n",
       "       2.7826232 , 2.10564027, 1.27333506, 2.08859855, 1.94177648,\n",
       "       1.88492037, 2.92394733, 2.17231952, 3.08009275, 1.61670886,\n",
       "       1.77403753, 2.67305005, 1.91413882, 2.42117827, 2.13991628,\n",
       "       2.0153805 , 2.71388471, 2.65944255, 2.44416121, 3.14217523])"
      ]
     },
     "execution_count": 4,
     "metadata": {},
     "output_type": "execute_result"
    }
   ],
   "source": [
    "synthetic_data = X @ true_model\n",
    "maxabs = np.max(np.abs(synthetic_data))\n",
    "noise = rng.normal(scale=1e-2 * maxabs, size=synthetic_data.size)\n",
    "synthetic_data += noise\n",
    "synthetic_data"
   ]
  },
  {
   "cell_type": "markdown",
   "id": "b47ed2d3-0d71-4ead-8230-6df11d5833a9",
   "metadata": {},
   "source": [
    "## Define objective function\n",
    "\n",
    "Enable caching in the data misfit."
   ]
  },
  {
   "cell_type": "code",
   "execution_count": 5,
   "id": "6ec35263-f754-4931-b577-b3d4f0fc803a",
   "metadata": {
    "execution": {
     "iopub.execute_input": "2025-10-07T20:46:24.335249Z",
     "iopub.status.busy": "2025-10-07T20:46:24.334360Z",
     "iopub.status.idle": "2025-10-07T20:46:24.345904Z",
     "shell.execute_reply": "2025-10-07T20:46:24.343849Z",
     "shell.execute_reply.started": "2025-10-07T20:46:24.335172Z"
    }
   },
   "outputs": [],
   "source": [
    "uncertainty = 1e-2 * maxabs * np.ones_like(synthetic_data)\n",
    "simulation = LinearRegressor(X)\n",
    "data_misfit = ii.DataMisfit(synthetic_data, uncertainty, simulation, cache=True)"
   ]
  },
  {
   "cell_type": "code",
   "execution_count": 6,
   "id": "050b9c20-4b0a-49af-a900-1bb964588408",
   "metadata": {
    "execution": {
     "iopub.execute_input": "2025-10-07T20:46:25.260465Z",
     "iopub.status.busy": "2025-10-07T20:46:25.259017Z",
     "iopub.status.idle": "2025-10-07T20:46:25.266536Z",
     "shell.execute_reply": "2025-10-07T20:46:25.265094Z",
     "shell.execute_reply.started": "2025-10-07T20:46:25.260410Z"
    }
   },
   "outputs": [],
   "source": [
    "smallness = ii.TikhonovZero(n_params)"
   ]
  },
  {
   "cell_type": "code",
   "execution_count": 7,
   "id": "2cf726db-4849-46c3-9fca-41b5650b88b8",
   "metadata": {
    "execution": {
     "iopub.execute_input": "2025-10-07T20:46:25.693809Z",
     "iopub.status.busy": "2025-10-07T20:46:25.692963Z",
     "iopub.status.idle": "2025-10-07T20:46:25.705581Z",
     "shell.execute_reply": "2025-10-07T20:46:25.704708Z",
     "shell.execute_reply.started": "2025-10-07T20:46:25.693741Z"
    }
   },
   "outputs": [
    {
     "data": {
      "text/plain": [
       "np.float64(18.545642205146727)"
      ]
     },
     "execution_count": 7,
     "metadata": {},
     "output_type": "execute_result"
    }
   ],
   "source": [
    "data_misfit(true_model)"
   ]
  },
  {
   "cell_type": "code",
   "execution_count": 8,
   "id": "8d201eea-294d-490f-8b76-12024acc0808",
   "metadata": {
    "execution": {
     "iopub.execute_input": "2025-10-07T20:46:26.020342Z",
     "iopub.status.busy": "2025-10-07T20:46:26.019645Z",
     "iopub.status.idle": "2025-10-07T20:46:26.027836Z",
     "shell.execute_reply": "2025-10-07T20:46:26.026962Z",
     "shell.execute_reply.started": "2025-10-07T20:46:26.020281Z"
    }
   },
   "outputs": [
    {
     "data": {
      "text/plain": [
       "np.float64(18.545642205146727)"
      ]
     },
     "execution_count": 8,
     "metadata": {},
     "output_type": "execute_result"
    }
   ],
   "source": [
    "data_misfit(true_model)"
   ]
  },
  {
   "cell_type": "code",
   "execution_count": 9,
   "id": "da1db943-236d-43da-b0b0-e776d21931af",
   "metadata": {
    "execution": {
     "iopub.execute_input": "2025-10-07T20:46:26.500687Z",
     "iopub.status.busy": "2025-10-07T20:46:26.500211Z",
     "iopub.status.idle": "2025-10-07T20:46:26.508770Z",
     "shell.execute_reply": "2025-10-07T20:46:26.507740Z",
     "shell.execute_reply.started": "2025-10-07T20:46:26.500642Z"
    }
   },
   "outputs": [
    {
     "data": {
      "text/latex": [
       "$ \\phi_{d} (m) + 1.00 \\cdot 10^{-3} \\, \\phi_{0} (m) $"
      ],
      "text/plain": [
       "φd(m) + 0.00 φ0(m)"
      ]
     },
     "execution_count": 9,
     "metadata": {},
     "output_type": "execute_result"
    }
   ],
   "source": [
    "phi = data_misfit + 1e-3 * smallness\n",
    "phi"
   ]
  },
  {
   "cell_type": "code",
   "execution_count": 10,
   "id": "9032d9d4-9c23-461b-bbc8-f172afdfd9ac",
   "metadata": {
    "execution": {
     "iopub.execute_input": "2025-10-07T20:46:27.676505Z",
     "iopub.status.busy": "2025-10-07T20:46:27.676244Z",
     "iopub.status.idle": "2025-10-07T20:46:27.682336Z",
     "shell.execute_reply": "2025-10-07T20:46:27.681603Z",
     "shell.execute_reply.started": "2025-10-07T20:46:27.676483Z"
    }
   },
   "outputs": [
    {
     "data": {
      "text/plain": [
       "np.float64(18.54822861431746)"
      ]
     },
     "execution_count": 10,
     "metadata": {},
     "output_type": "execute_result"
    }
   ],
   "source": [
    "phi(true_model)"
   ]
  },
  {
   "cell_type": "code",
   "execution_count": 11,
   "id": "00c6e189-9deb-4cdf-8b78-887f0d8e44b9",
   "metadata": {
    "execution": {
     "iopub.execute_input": "2025-10-07T20:46:30.833424Z",
     "iopub.status.busy": "2025-10-07T20:46:30.832446Z",
     "iopub.status.idle": "2025-10-07T20:46:30.850636Z",
     "shell.execute_reply": "2025-10-07T20:46:30.849001Z",
     "shell.execute_reply.started": "2025-10-07T20:46:30.833348Z"
    }
   },
   "outputs": [
    {
     "data": {
      "text/plain": [
       "np.float64(5671.840107322676)"
      ]
     },
     "execution_count": 11,
     "metadata": {},
     "output_type": "execute_result"
    }
   ],
   "source": [
    "new_model = rng.uniform(size=n_params)\n",
    "\n",
    "phi(new_model)"
   ]
  }
 ],
 "metadata": {
  "kernelspec": {
   "display_name": "Python [conda env:inversion_ideas]",
   "language": "python",
   "name": "conda-env-inversion_ideas-py"
  },
  "language_info": {
   "codemirror_mode": {
    "name": "ipython",
    "version": 3
   },
   "file_extension": ".py",
   "mimetype": "text/x-python",
   "name": "python",
   "nbconvert_exporter": "python",
   "pygments_lexer": "ipython3",
   "version": "3.13.5"
  }
 },
 "nbformat": 4,
 "nbformat_minor": 5
}
