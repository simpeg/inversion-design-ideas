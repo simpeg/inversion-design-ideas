{
 "cells": [
  {
   "cell_type": "markdown",
   "id": "af3e2f3b-e1fd-4ea9-b3c2-26bbc6308c2c",
   "metadata": {},
   "source": [
    "# 2.5 DC Resisitivy inversion"
   ]
  },
  {
   "cell_type": "code",
   "execution_count": 1,
   "id": "0888671c-f9b1-4b4e-8eb2-f8aca720920e",
   "metadata": {
    "execution": {
     "iopub.execute_input": "2025-09-26T23:58:47.876106Z",
     "iopub.status.busy": "2025-09-26T23:58:47.875698Z",
     "iopub.status.idle": "2025-09-26T23:58:49.857077Z",
     "shell.execute_reply": "2025-09-26T23:58:49.856442Z",
     "shell.execute_reply.started": "2025-09-26T23:58:47.876064Z"
    }
   },
   "outputs": [],
   "source": [
    "import pathlib\n",
    "import pooch\n",
    "import numpy as np\n",
    "import matplotlib.pyplot as plt\n",
    "from matplotlib.colors import LogNorm\n",
    "\n",
    "import discretize\n",
    "import simpeg\n",
    "from simpeg.electromagnetics.static import resistivity as dc\n",
    "\n",
    "import inversion_ideas as ii"
   ]
  },
  {
   "cell_type": "markdown",
   "id": "2647ceb4-5d51-4c15-89a8-0049f35d603c",
   "metadata": {},
   "source": [
    "## Load data"
   ]
  },
  {
   "cell_type": "code",
   "execution_count": 2,
   "id": "0b8dce76-9a8e-42f2-8ddf-f3dcae0674a5",
   "metadata": {
    "execution": {
     "iopub.execute_input": "2025-09-26T23:58:49.858456Z",
     "iopub.status.busy": "2025-09-26T23:58:49.858080Z",
     "iopub.status.idle": "2025-09-26T23:58:49.866277Z",
     "shell.execute_reply": "2025-09-26T23:58:49.865642Z",
     "shell.execute_reply.started": "2025-09-26T23:58:49.858434Z"
    }
   },
   "outputs": [
    {
     "data": {
      "text/plain": [
       "[PosixPath('/home/santi/.cache/pooch/a567d6514bf50ed948b5d7b7e4125664-inv_dcr_2d_files.tar.gz.untar/inv_dcr_2d_files/topo_2d.txt'),\n",
       " PosixPath('/home/santi/.cache/pooch/a567d6514bf50ed948b5d7b7e4125664-inv_dcr_2d_files.tar.gz.untar/inv_dcr_2d_files/dc_data.obs')]"
      ]
     },
     "execution_count": 2,
     "metadata": {},
     "output_type": "execute_result"
    }
   ],
   "source": [
    "url = \"https://github.com/simpeg/user-tutorials/raw/main/assets/05-dcr/inv_dcr_2d_files.tar.gz\"\n",
    "\n",
    "fnames = pooch.retrieve(url, known_hash=None, processor=pooch.Untar())\n",
    "fnames = [pathlib.Path(f) for f in fnames]\n",
    "fnames"
   ]
  },
  {
   "cell_type": "code",
   "execution_count": 3,
   "id": "8db572c3-2960-42ca-9d52-0547431c5a80",
   "metadata": {
    "execution": {
     "iopub.execute_input": "2025-09-26T23:58:49.867298Z",
     "iopub.status.busy": "2025-09-26T23:58:49.867021Z",
     "iopub.status.idle": "2025-09-26T23:58:49.874944Z",
     "shell.execute_reply": "2025-09-26T23:58:49.874287Z",
     "shell.execute_reply.started": "2025-09-26T23:58:49.867270Z"
    }
   },
   "outputs": [
    {
     "data": {
      "text/plain": [
       "(PosixPath('/home/santi/.cache/pooch/a567d6514bf50ed948b5d7b7e4125664-inv_dcr_2d_files.tar.gz.untar/inv_dcr_2d_files/topo_2d.txt'),\n",
       " PosixPath('/home/santi/.cache/pooch/a567d6514bf50ed948b5d7b7e4125664-inv_dcr_2d_files.tar.gz.untar/inv_dcr_2d_files/dc_data.obs'))"
      ]
     },
     "execution_count": 3,
     "metadata": {},
     "output_type": "execute_result"
    }
   ],
   "source": [
    "topo_fname, = [f for f in fnames if \"topo_2d.txt\" in f.name]\n",
    "data_fname, = [f for f in fnames if \"dc_data.obs\" in f.name]\n",
    "topo_fname, data_fname"
   ]
  },
  {
   "cell_type": "code",
   "execution_count": 4,
   "id": "14621398-5fe7-4fe2-843d-7d067e026e18",
   "metadata": {
    "execution": {
     "iopub.execute_input": "2025-09-26T23:58:49.876667Z",
     "iopub.status.busy": "2025-09-26T23:58:49.876410Z",
     "iopub.status.idle": "2025-09-26T23:58:49.882029Z",
     "shell.execute_reply": "2025-09-26T23:58:49.881403Z",
     "shell.execute_reply.started": "2025-09-26T23:58:49.876641Z"
    }
   },
   "outputs": [],
   "source": [
    "# Load 2D topography\n",
    "topo_2d = np.loadtxt(str(topo_fname))"
   ]
  },
  {
   "cell_type": "code",
   "execution_count": 5,
   "id": "d994d154-91bb-4fb2-82ce-e3dc7e9f66cf",
   "metadata": {
    "execution": {
     "iopub.execute_input": "2025-09-26T23:58:49.882910Z",
     "iopub.status.busy": "2025-09-26T23:58:49.882666Z",
     "iopub.status.idle": "2025-09-26T23:58:49.897516Z",
     "shell.execute_reply": "2025-09-26T23:58:49.896871Z",
     "shell.execute_reply.started": "2025-09-26T23:58:49.882884Z"
    }
   },
   "outputs": [],
   "source": [
    "voltage_data = simpeg.utils.io_utils.read_dcip2d_ubc(data_fname, \"volt\", \"general\")"
   ]
  },
  {
   "cell_type": "code",
   "execution_count": 6,
   "id": "0dc7c54b-8df0-42ac-8ab9-01302ffb7b59",
   "metadata": {
    "execution": {
     "iopub.execute_input": "2025-09-26T23:58:49.898501Z",
     "iopub.status.busy": "2025-09-26T23:58:49.898257Z",
     "iopub.status.idle": "2025-09-26T23:58:49.902096Z",
     "shell.execute_reply": "2025-09-26T23:58:49.901414Z",
     "shell.execute_reply.started": "2025-09-26T23:58:49.898474Z"
    }
   },
   "outputs": [],
   "source": [
    "# Apply uncertainties to normalized voltage data\n",
    "voltage_data.standard_deviation = 1e-7 + 0.05 * np.abs(voltage_data.dobs)"
   ]
  },
  {
   "cell_type": "code",
   "execution_count": 7,
   "id": "79ca22c8-4258-400f-8bf6-01b4f0c63641",
   "metadata": {
    "execution": {
     "iopub.execute_input": "2025-09-26T23:58:49.903760Z",
     "iopub.status.busy": "2025-09-26T23:58:49.903391Z",
     "iopub.status.idle": "2025-09-26T23:58:49.912389Z",
     "shell.execute_reply": "2025-09-26T23:58:49.911632Z",
     "shell.execute_reply.started": "2025-09-26T23:58:49.903730Z"
    }
   },
   "outputs": [],
   "source": [
    "# Get apparent conductivities from volts and survey geometry\n",
    "apparent_resistivities = simpeg.electromagnetics.static.utils.static_utils.apparent_resistivity_from_voltage(\n",
    "    voltage_data.survey, voltage_data.dobs\n",
    ")"
   ]
  },
  {
   "cell_type": "markdown",
   "id": "af6efa25-2e0c-4acb-8109-a4c241be128f",
   "metadata": {},
   "source": [
    "## Create mesh"
   ]
  },
  {
   "cell_type": "code",
   "execution_count": 8,
   "id": "78fb6825-7a38-43c8-abf8-96177abe07d5",
   "metadata": {
    "execution": {
     "iopub.execute_input": "2025-09-26T23:58:49.913486Z",
     "iopub.status.busy": "2025-09-26T23:58:49.913151Z",
     "iopub.status.idle": "2025-09-26T23:58:49.967233Z",
     "shell.execute_reply": "2025-09-26T23:58:49.966518Z",
     "shell.execute_reply.started": "2025-09-26T23:58:49.913455Z"
    }
   },
   "outputs": [],
   "source": [
    "dh = 4  # base cell width\n",
    "dom_width_x = 3200.0  # domain width x\n",
    "dom_width_z = 2400.0  # domain width z\n",
    "nbcx = 2 ** int(np.round(np.log(dom_width_x / dh) / np.log(2.0)))  # num. base cells x\n",
    "nbcz = 2 ** int(np.round(np.log(dom_width_z / dh) / np.log(2.0)))  # num. base cells z\n",
    "\n",
    "# Define the base mesh with top at z = 0 m\n",
    "hx = [(dh, nbcx)]\n",
    "hz = [(dh, nbcz)]\n",
    "mesh = discretize.TreeMesh([hx, hz], x0=\"CN\", diagonal_balance=True)\n",
    "\n",
    "# Shift top to maximum topography\n",
    "mesh.origin = mesh.origin + np.r_[0.0, topo_2d[:, -1].max()]\n",
    "\n",
    "# Mesh refinement based on topography\n",
    "mesh.refine_surface(\n",
    "    topo_2d,\n",
    "    padding_cells_by_level=[0, 0, 4, 4],\n",
    "    finalize=False,\n",
    ")\n",
    "\n",
    "# Extract unique electrode locations.\n",
    "unique_locations = voltage_data.survey.unique_electrode_locations\n",
    "\n",
    "# Mesh refinement near electrodes.\n",
    "mesh.refine_points(\n",
    "    unique_locations, padding_cells_by_level=[8, 12, 6, 6], finalize=False\n",
    ")\n",
    "\n",
    "mesh.finalize()"
   ]
  },
  {
   "cell_type": "code",
   "execution_count": 9,
   "id": "ad513789-95df-41c1-a1c0-9b686fab6341",
   "metadata": {
    "execution": {
     "iopub.execute_input": "2025-09-26T23:58:49.968422Z",
     "iopub.status.busy": "2025-09-26T23:58:49.968049Z",
     "iopub.status.idle": "2025-09-26T23:58:49.974747Z",
     "shell.execute_reply": "2025-09-26T23:58:49.973862Z",
     "shell.execute_reply.started": "2025-09-26T23:58:49.968388Z"
    }
   },
   "outputs": [],
   "source": [
    "# Indices of the active mesh cells from topography (e.g. cells below surface)\n",
    "active_cells = discretize.utils.active_from_xyz(mesh, topo_2d)\n",
    "\n",
    "# number of active cells\n",
    "n_active = np.sum(active_cells)"
   ]
  },
  {
   "cell_type": "code",
   "execution_count": 10,
   "id": "f9bceaab-ece7-4d57-8b58-734586d56c25",
   "metadata": {
    "execution": {
     "iopub.execute_input": "2025-09-26T23:58:49.977241Z",
     "iopub.status.busy": "2025-09-26T23:58:49.976968Z",
     "iopub.status.idle": "2025-09-26T23:58:49.986404Z",
     "shell.execute_reply": "2025-09-26T23:58:49.985490Z",
     "shell.execute_reply.started": "2025-09-26T23:58:49.977218Z"
    }
   },
   "outputs": [],
   "source": [
    "# Project electrodes to topography\n",
    "voltage_data.survey.drape_electrodes_on_topography(mesh, active_cells, option=\"top\")"
   ]
  },
  {
   "cell_type": "markdown",
   "id": "ab4f0313-e7cb-4352-b122-3912c3fec89a",
   "metadata": {},
   "source": [
    "## Define simulation"
   ]
  },
  {
   "cell_type": "code",
   "execution_count": 11,
   "id": "36c320ef-116c-4794-ab10-a64d1f15ccf6",
   "metadata": {
    "execution": {
     "iopub.execute_input": "2025-09-26T23:58:49.987550Z",
     "iopub.status.busy": "2025-09-26T23:58:49.987231Z",
     "iopub.status.idle": "2025-09-26T23:58:49.993705Z",
     "shell.execute_reply": "2025-09-26T23:58:49.993043Z",
     "shell.execute_reply.started": "2025-09-26T23:58:49.987523Z"
    }
   },
   "outputs": [],
   "source": [
    "# Map model parameters to all cells.\n",
    "# We'll use log conductivities as model, so we need to pass an ExpMap\n",
    "# to the simulation in order to convert log conductivities to conductivities.\n",
    "log_conductivity_map = (\n",
    "    simpeg.maps.InjectActiveCells(mesh, active_cells, 1e-8) \n",
    "    * simpeg.maps.ExpMap(nP=n_active)\n",
    ")"
   ]
  },
  {
   "cell_type": "code",
   "execution_count": 12,
   "id": "b381c61e-b219-47a2-9a7f-3f9b9b487179",
   "metadata": {
    "execution": {
     "iopub.execute_input": "2025-09-26T23:58:49.994669Z",
     "iopub.status.busy": "2025-09-26T23:58:49.994382Z",
     "iopub.status.idle": "2025-09-26T23:58:50.002074Z",
     "shell.execute_reply": "2025-09-26T23:58:50.001320Z",
     "shell.execute_reply.started": "2025-09-26T23:58:49.994647Z"
    }
   },
   "outputs": [],
   "source": [
    "# Get median apparent resistivity\n",
    "median_resistivity = np.median(apparent_resistivities)\n",
    "median_conductivity = 1 / median_resistivity  \n",
    "\n",
    "# TODO: this is not the median conduct, right?\n",
    "# Shall we do median_conductivity = np.median(1 / apparent_resistivities)?\n",
    "\n",
    "# Create initial model (log conductivity)\n",
    "initial_model = np.log(1 / median_resistivity) * np.ones(n_active)"
   ]
  },
  {
   "cell_type": "code",
   "execution_count": 13,
   "id": "777cf480-633c-4a1f-88c3-ae027697aba7",
   "metadata": {
    "execution": {
     "iopub.execute_input": "2025-09-26T23:58:50.003007Z",
     "iopub.status.busy": "2025-09-26T23:58:50.002781Z",
     "iopub.status.idle": "2025-09-26T23:58:50.378314Z",
     "shell.execute_reply": "2025-09-26T23:58:50.377748Z",
     "shell.execute_reply.started": "2025-09-26T23:58:50.002984Z"
    }
   },
   "outputs": [],
   "source": [
    "solver = simpeg.utils.solver_utils.get_default_solver()\n",
    "simulation_simpeg = dc.simulation_2d.Simulation2DNodal(\n",
    "    mesh, \n",
    "    survey=voltage_data.survey,\n",
    "    sigmaMap=log_conductivity_map,\n",
    "    storeJ=True,\n",
    "    solver=solver,\n",
    ")"
   ]
  },
  {
   "cell_type": "markdown",
   "id": "1dba8f16-e412-43a1-8607-0160c0bf54af",
   "metadata": {},
   "source": [
    "## Create inversion"
   ]
  },
  {
   "cell_type": "markdown",
   "id": "ebdad7ac-7685-4224-9453-747bdc906e72",
   "metadata": {},
   "source": [
    "Wrap the simulation into an object that can be used in the new framework"
   ]
  },
  {
   "cell_type": "code",
   "execution_count": 14,
   "id": "445f4b23-8877-49e6-8b4a-33049e731855",
   "metadata": {
    "execution": {
     "iopub.execute_input": "2025-09-26T23:58:50.378997Z",
     "iopub.status.busy": "2025-09-26T23:58:50.378810Z",
     "iopub.status.idle": "2025-09-26T23:58:50.381899Z",
     "shell.execute_reply": "2025-09-26T23:58:50.381192Z",
     "shell.execute_reply.started": "2025-09-26T23:58:50.378981Z"
    }
   },
   "outputs": [],
   "source": [
    "simulation = ii.wrap_simulation(simulation_simpeg, store_jacobian=True)"
   ]
  },
  {
   "cell_type": "markdown",
   "id": "765c906a-a191-40be-951b-c5231f2f792b",
   "metadata": {},
   "source": [
    "Extract data and uncertainties from data object and build the data misfit"
   ]
  },
  {
   "cell_type": "code",
   "execution_count": 15,
   "id": "9320114b-435f-48f8-8ec1-d830678e2a3c",
   "metadata": {
    "execution": {
     "iopub.execute_input": "2025-09-26T23:58:50.383158Z",
     "iopub.status.busy": "2025-09-26T23:58:50.382634Z",
     "iopub.status.idle": "2025-09-26T23:58:50.395332Z",
     "shell.execute_reply": "2025-09-26T23:58:50.394689Z",
     "shell.execute_reply.started": "2025-09-26T23:58:50.383131Z"
    }
   },
   "outputs": [],
   "source": [
    "data = voltage_data.dobs\n",
    "uncertainties = voltage_data.standard_deviation\n",
    "\n",
    "data_misfit = ii.DataMisfit(data, uncertainties, simulation)"
   ]
  },
  {
   "cell_type": "markdown",
   "id": "672621bd-a7db-413d-8a71-b5dd034630c5",
   "metadata": {},
   "source": [
    "Define regularization (smallness) with sensitivity weights"
   ]
  },
  {
   "cell_type": "code",
   "execution_count": 16,
   "id": "9042f903-4d02-4abe-9de1-2dfacfb3b3a0",
   "metadata": {
    "execution": {
     "iopub.execute_input": "2025-09-26T23:58:50.396157Z",
     "iopub.status.busy": "2025-09-26T23:58:50.395926Z",
     "iopub.status.idle": "2025-09-26T23:58:55.363575Z",
     "shell.execute_reply": "2025-09-26T23:58:55.363023Z",
     "shell.execute_reply.started": "2025-09-26T23:58:50.396129Z"
    }
   },
   "outputs": [
    {
     "name": "stderr",
     "output_type": "stream",
     "text": [
      "/home/santi/.miniforge3/envs/inversion_ideas/lib/python3.13/site-packages/simpeg/electromagnetics/static/resistivity/simulation_2d.py:768: RuntimeWarning: invalid value encountered in divide\n",
      "  r_hat = r_vec / r[:, None]\n",
      "/home/santi/.miniforge3/envs/inversion_ideas/lib/python3.13/site-packages/simpeg/electromagnetics/static/resistivity/simulation_2d.py:795: RuntimeWarning: invalid value encountered in divide\n",
      "  alpha[not_top] = (ky * k1e(ky * r) / k0e(ky * r) * r_dot_n)[not_top]\n",
      "/home/santi/.miniforge3/envs/inversion_ideas/lib/python3.13/site-packages/pymatsolver/solvers.py:415: FutureWarning: In Future pymatsolver v0.4.0, passing a vector of shape (n, 1) to the solve method will return an array with shape (n, 1), instead of always returning a flattened array. This is to be consistent with numpy.linalg.solve broadcasting.\n",
      "  return self.solve(val)\n"
     ]
    }
   ],
   "source": [
    "# Get volume and sensitivity weights\n",
    "volumes = mesh.cell_volumes[active_cells]\n",
    "sensitivity_weights = ii.utils.get_sensitivity_weights(\n",
    "    simulation.jacobian(initial_model),\n",
    "    data_weights=data_misfit.weights_matrix,\n",
    ")\n",
    "\n",
    "# Compute the sqrt of the weights, to avoid high dynamic range\n",
    "# TODO: double check this!\n",
    "sensitivity_weights = np.sqrt(sensitivity_weights)\n",
    "\n",
    "weights_dict = {\n",
    "    \"volume\": volumes,\n",
    "    \"sensitivity\": sensitivity_weights,\n",
    "}\n",
    "\n",
    "# Use the initial model as our reference model\n",
    "reference_model = initial_model.copy()\n",
    "\n",
    "smallness = ii.TikhonovZero(\n",
    "    n_params=simulation.n_params, \n",
    "    weights=weights_dict,\n",
    "    reference_model=initial_model,\n",
    ")"
   ]
  },
  {
   "cell_type": "code",
   "execution_count": 17,
   "id": "660fd862-517a-4b2d-8589-6e234c239c76",
   "metadata": {
    "execution": {
     "iopub.execute_input": "2025-09-26T23:58:55.364674Z",
     "iopub.status.busy": "2025-09-26T23:58:55.364232Z",
     "iopub.status.idle": "2025-09-26T23:58:55.369007Z",
     "shell.execute_reply": "2025-09-26T23:58:55.368402Z",
     "shell.execute_reply.started": "2025-09-26T23:58:55.364643Z"
    }
   },
   "outputs": [
    {
     "data": {
      "text/plain": [
       "(np.float64(0.0005065877439181947), np.float64(1.0))"
      ]
     },
     "execution_count": 17,
     "metadata": {},
     "output_type": "execute_result"
    }
   ],
   "source": [
    "sensitivity_weights.min(), sensitivity_weights.max()"
   ]
  },
  {
   "cell_type": "markdown",
   "id": "44a7034b-3b5a-4170-a65f-911281fba9bd",
   "metadata": {},
   "source": [
    "Build objective function"
   ]
  },
  {
   "cell_type": "code",
   "execution_count": 36,
   "id": "e81a3051-9874-40f6-95ca-d1f8559ec1bb",
   "metadata": {
    "execution": {
     "iopub.execute_input": "2025-09-27T00:06:47.568709Z",
     "iopub.status.busy": "2025-09-27T00:06:47.567932Z",
     "iopub.status.idle": "2025-09-27T00:06:47.575447Z",
     "shell.execute_reply": "2025-09-27T00:06:47.574560Z",
     "shell.execute_reply.started": "2025-09-27T00:06:47.568667Z"
    }
   },
   "outputs": [
    {
     "data": {
      "text/latex": [
       "$ \\phi_{d} (m) + 1.00 \\, \\phi_{s} (m) $"
      ],
      "text/plain": [
       "φd(m) + 1.00 φs(m)"
      ]
     },
     "execution_count": 36,
     "metadata": {},
     "output_type": "execute_result"
    }
   ],
   "source": [
    "beta_0 = 1e0\n",
    "regularization = beta_0 * smallness\n",
    "phi = data_misfit + regularization\n",
    "phi"
   ]
  },
  {
   "cell_type": "code",
   "execution_count": 37,
   "id": "58686ee3-e1a8-41be-8206-15a31265fd1b",
   "metadata": {
    "execution": {
     "iopub.execute_input": "2025-09-27T00:06:47.779135Z",
     "iopub.status.busy": "2025-09-27T00:06:47.778860Z",
     "iopub.status.idle": "2025-09-27T00:06:49.304587Z",
     "shell.execute_reply": "2025-09-27T00:06:49.304028Z",
     "shell.execute_reply.started": "2025-09-27T00:06:47.779110Z"
    }
   },
   "outputs": [
    {
     "data": {
      "text/plain": [
       "(np.float64(44539.14649205478), np.float64(0.0))"
      ]
     },
     "execution_count": 37,
     "metadata": {},
     "output_type": "execute_result"
    }
   ],
   "source": [
    "data_misfit(initial_model), smallness(initial_model)"
   ]
  },
  {
   "cell_type": "markdown",
   "id": "a3bb2a0d-f31e-4397-b53a-ef19c5f6f1bd",
   "metadata": {
    "execution": {
     "iopub.execute_input": "2025-09-26T18:54:50.851753Z",
     "iopub.status.busy": "2025-09-26T18:54:50.850870Z",
     "iopub.status.idle": "2025-09-26T18:54:50.868252Z",
     "shell.execute_reply": "2025-09-26T18:54:50.864566Z",
     "shell.execute_reply.started": "2025-09-26T18:54:50.851678Z"
    }
   },
   "source": [
    "Get preconditioner"
   ]
  },
  {
   "cell_type": "code",
   "execution_count": 38,
   "id": "463b4e7b",
   "metadata": {
    "execution": {
     "iopub.execute_input": "2025-09-27T00:06:49.305908Z",
     "iopub.status.busy": "2025-09-27T00:06:49.305539Z",
     "iopub.status.idle": "2025-09-27T00:06:54.322500Z",
     "shell.execute_reply": "2025-09-27T00:06:54.322006Z",
     "shell.execute_reply.started": "2025-09-27T00:06:49.305885Z"
    }
   },
   "outputs": [
    {
     "data": {
      "text/plain": [
       "<DIAgonal sparse array of dtype 'float64'\n",
       "\twith 7205 stored elements (1 diagonals) and shape (7205, 7205)>"
      ]
     },
     "execution_count": 38,
     "metadata": {},
     "output_type": "execute_result"
    }
   ],
   "source": [
    "preconditioner = ii.get_jacobi_preconditioner(phi, initial_model)\n",
    "# preconditioner = ii.JacobiPreconditioner(phi)\n",
    "preconditioner"
   ]
  },
  {
   "cell_type": "code",
   "execution_count": 39,
   "id": "1249ccde-3399-4212-881a-aace1967f01f",
   "metadata": {
    "execution": {
     "iopub.execute_input": "2025-09-27T00:06:54.323250Z",
     "iopub.status.busy": "2025-09-27T00:06:54.323028Z",
     "iopub.status.idle": "2025-09-27T00:06:55.874843Z",
     "shell.execute_reply": "2025-09-27T00:06:55.874192Z",
     "shell.execute_reply.started": "2025-09-27T00:06:54.323233Z"
    }
   },
   "outputs": [],
   "source": [
    "# Use conjugate gradient to run a single step minimization\n",
    "cg_minimizer = ii.ConjugateGradient()\n",
    "inverted_model = cg_minimizer(phi, initial_model, preconditioner=preconditioner)"
   ]
  },
  {
   "cell_type": "code",
   "execution_count": 40,
   "id": "920dae18-becd-449c-8dbe-35cadc8a6eeb",
   "metadata": {
    "execution": {
     "iopub.execute_input": "2025-09-27T00:06:55.876831Z",
     "iopub.status.busy": "2025-09-27T00:06:55.876294Z",
     "iopub.status.idle": "2025-09-27T00:06:55.886233Z",
     "shell.execute_reply": "2025-09-27T00:06:55.885330Z",
     "shell.execute_reply.started": "2025-09-27T00:06:55.876799Z"
    }
   },
   "outputs": [
    {
     "data": {
      "text/plain": [
       "array([-4.5815167 , -4.5815167 , -4.5815167 , ..., -4.68687812,\n",
       "       -4.58811058, -4.58828272], shape=(7205,))"
      ]
     },
     "execution_count": 40,
     "metadata": {},
     "output_type": "execute_result"
    }
   ],
   "source": [
    "inverted_model"
   ]
  },
  {
   "cell_type": "code",
   "execution_count": 41,
   "id": "57d1747a-66a7-432c-a140-8b24d0d6819d",
   "metadata": {
    "execution": {
     "iopub.execute_input": "2025-09-27T00:06:55.887884Z",
     "iopub.status.busy": "2025-09-27T00:06:55.887323Z",
     "iopub.status.idle": "2025-09-27T00:06:55.897145Z",
     "shell.execute_reply": "2025-09-27T00:06:55.896441Z",
     "shell.execute_reply.started": "2025-09-27T00:06:55.887851Z"
    }
   },
   "outputs": [
    {
     "data": {
      "text/plain": [
       "(np.float64(-6.503123156641239), np.float64(-2.673612369710134))"
      ]
     },
     "execution_count": 41,
     "metadata": {},
     "output_type": "execute_result"
    }
   ],
   "source": [
    "inverted_model.min(), inverted_model.max()"
   ]
  },
  {
   "cell_type": "code",
   "execution_count": 24,
   "id": "1a3a396e-4299-4450-a465-1a0f22cf886c",
   "metadata": {
    "execution": {
     "iopub.execute_input": "2025-09-26T23:58:58.552219Z",
     "iopub.status.busy": "2025-09-26T23:58:58.551901Z",
     "iopub.status.idle": "2025-09-26T23:59:00.126234Z",
     "shell.execute_reply": "2025-09-26T23:59:00.125559Z",
     "shell.execute_reply.started": "2025-09-26T23:58:58.552192Z"
    }
   },
   "outputs": [
    {
     "data": {
      "text/plain": [
       "(np.float64(14945.654336349657), np.float64(9123.272923491297))"
      ]
     },
     "execution_count": 24,
     "metadata": {},
     "output_type": "execute_result"
    }
   ],
   "source": [
    "data_misfit(inverted_model), smallness(inverted_model)"
   ]
  },
  {
   "cell_type": "code",
   "execution_count": 42,
   "id": "d663cea6-6640-40b8-a2df-668f1be23412",
   "metadata": {
    "execution": {
     "iopub.execute_input": "2025-09-27T00:06:58.733150Z",
     "iopub.status.busy": "2025-09-27T00:06:58.732604Z",
     "iopub.status.idle": "2025-09-27T00:07:01.492257Z",
     "shell.execute_reply": "2025-09-27T00:07:01.491647Z",
     "shell.execute_reply.started": "2025-09-27T00:06:58.733096Z"
    }
   },
   "outputs": [],
   "source": [
    "old_fval = phi(initial_model)\n",
    "gfk=phi.gradient(initial_model)"
   ]
  },
  {
   "cell_type": "code",
   "execution_count": 43,
   "id": "c38071e0-f7b8-4b9f-9e2a-9200617ac8f3",
   "metadata": {
    "execution": {
     "iopub.execute_input": "2025-09-27T00:07:03.216303Z",
     "iopub.status.busy": "2025-09-27T00:07:03.215740Z",
     "iopub.status.idle": "2025-09-27T00:07:11.095531Z",
     "shell.execute_reply": "2025-09-27T00:07:11.094911Z",
     "shell.execute_reply.started": "2025-09-27T00:07:03.216254Z"
    }
   },
   "outputs": [
    {
     "data": {
      "text/plain": [
       "(1.0,\n",
       " 1,\n",
       " 1,\n",
       " np.float64(24068.92725984095),\n",
       " np.float64(44539.14649205478),\n",
       " array([-5.73590934e-01, -4.80375090e-01, -9.97118197e-01, ...,\n",
       "        -2.25315753e-04, -8.21238004e-04, -4.20107363e-02], shape=(7205,)))"
      ]
     },
     "execution_count": 43,
     "metadata": {},
     "output_type": "execute_result"
    }
   ],
   "source": [
    "from scipy.optimize import line_search\n",
    "\n",
    "model_step = inverted_model - initial_model\n",
    "ls_result = line_search(\n",
    "    phi,\n",
    "    phi.gradient,\n",
    "    initial_model,\n",
    "    model_step,\n",
    "    gfk=gfk,\n",
    "    old_fval=old_fval,\n",
    ")\n",
    "ls_result"
   ]
  },
  {
   "cell_type": "code",
   "execution_count": 44,
   "id": "00064840-8e00-402c-8b4f-1c7cdf4d246b",
   "metadata": {
    "execution": {
     "iopub.execute_input": "2025-09-27T00:07:24.698139Z",
     "iopub.status.busy": "2025-09-27T00:07:24.697172Z",
     "iopub.status.idle": "2025-09-27T00:07:26.162216Z",
     "shell.execute_reply": "2025-09-27T00:07:26.161584Z",
     "shell.execute_reply.started": "2025-09-27T00:07:24.698061Z"
    }
   },
   "outputs": [
    {
     "data": {
      "text/plain": [
       "np.float64(24068.92725984095)"
      ]
     },
     "execution_count": 44,
     "metadata": {},
     "output_type": "execute_result"
    }
   ],
   "source": [
    "phi(inverted_model)"
   ]
  },
  {
   "cell_type": "code",
   "execution_count": 45,
   "id": "23088f60-ac9b-414f-a702-236632bb9431",
   "metadata": {
    "execution": {
     "iopub.execute_input": "2025-09-27T00:07:37.848519Z",
     "iopub.status.busy": "2025-09-27T00:07:37.848084Z",
     "iopub.status.idle": "2025-09-27T00:07:39.329308Z",
     "shell.execute_reply": "2025-09-27T00:07:39.328514Z",
     "shell.execute_reply.started": "2025-09-27T00:07:37.848484Z"
    }
   },
   "outputs": [
    {
     "data": {
      "text/plain": [
       "array([-5.73590934e-01, -4.80375090e-01, -9.97118197e-01, ...,\n",
       "       -2.25315753e-04, -8.21238004e-04, -4.20107363e-02], shape=(7205,))"
      ]
     },
     "execution_count": 45,
     "metadata": {},
     "output_type": "execute_result"
    }
   ],
   "source": [
    "phi.gradient(inverted_model)"
   ]
  },
  {
   "cell_type": "code",
   "execution_count": 26,
   "id": "90549f0b-a121-47a7-baca-873970389774",
   "metadata": {
    "execution": {
     "iopub.execute_input": "2025-09-26T23:59:18.229268Z",
     "iopub.status.busy": "2025-09-26T23:59:18.228927Z",
     "iopub.status.idle": "2025-09-26T23:59:18.233392Z",
     "shell.execute_reply": "2025-09-26T23:59:18.232554Z",
     "shell.execute_reply.started": "2025-09-26T23:59:18.229237Z"
    }
   },
   "outputs": [],
   "source": [
    "inverted_conductivity = np.exp(inverted_model)"
   ]
  },
  {
   "cell_type": "code",
   "execution_count": 30,
   "id": "05d46d67-0d96-4daf-be41-f4db1d12795d",
   "metadata": {
    "execution": {
     "iopub.execute_input": "2025-09-27T00:02:30.724127Z",
     "iopub.status.busy": "2025-09-27T00:02:30.723207Z",
     "iopub.status.idle": "2025-09-27T00:02:31.140343Z",
     "shell.execute_reply": "2025-09-27T00:02:31.139659Z",
     "shell.execute_reply.started": "2025-09-27T00:02:30.724013Z"
    }
   },
   "outputs": [
    {
     "data": {
      "image/png": "[encoded data removed]",
      "text/plain": [
       "<Figure size 900x400 with 2 Axes>"
      ]
     },
     "metadata": {},
     "output_type": "display_data"
    }
   ],
   "source": [
    "norm = LogNorm()\n",
    "plotting_map = simpeg.maps.InjectActiveCells(mesh, active_cells, np.nan)\n",
    "\n",
    "fig = plt.figure(figsize=(9, 4))\n",
    "\n",
    "ax1 = fig.add_axes([0.14, 0.17, 0.68, 0.7])\n",
    "tmp, = mesh.plot_image(\n",
    "    plotting_map * inverted_conductivity,\n",
    "    normal=\"Y\",\n",
    "    ax=ax1,\n",
    "    grid=False,\n",
    "    pcolor_opts={\"norm\": norm, \"cmap\": \"RdYlBu_r\"},\n",
    ")\n",
    "ax1.set_xlim(-500, 500)\n",
    "ax1.set_ylim(-300, 200)\n",
    "ax1.set_title(\"Recovered Conductivity Model (L2)\")\n",
    "ax1.set_xlabel(\"x (m)\")\n",
    "ax1.set_ylabel(\"z (m)\")\n",
    "\n",
    "# ax2 = fig.add_axes([0.84, 0.17, 0.03, 0.7])\n",
    "# cbar = mpl.colorbar.ColorbarBase(\n",
    "#     ax2, norm=norm, orientation=\"vertical\", cmap=\"RdYlBu_r\"\n",
    "# )\n",
    "plt.colorbar(tmp, ax=ax1, norm=norm, orientation=\"vertical\")\n",
    "# cbar.set_label(r\"$\\sigma$ (S/m)\", rotation=270, labelpad=15, size=12)\n",
    "\n",
    "plt.show()"
   ]
  },
  {
   "cell_type": "markdown",
   "id": "0c121214-2127-451c-981f-c208e1ebd04d",
   "metadata": {},
   "source": [
    "## Gauss-Newton"
   ]
  },
  {
   "cell_type": "code",
   "execution_count": 28,
   "id": "3777d71e-023a-402a-8045-196ef3211d27",
   "metadata": {
    "execution": {
     "iopub.execute_input": "2025-09-26T23:50:36.656778Z",
     "iopub.status.busy": "2025-09-26T23:50:36.656449Z",
     "iopub.status.idle": "2025-09-26T23:56:14.829186Z",
     "shell.execute_reply": "2025-09-26T23:56:14.828180Z",
     "shell.execute_reply.started": "2025-09-26T23:50:36.656747Z"
    }
   },
   "outputs": [
    {
     "name": "stdout",
     "output_type": "stream",
     "text": [
      "Finished CG\n",
      "Finished line search\n",
      "Finished CG\n",
      "Finished line search\n",
      "Finished CG\n",
      "Finished line search\n",
      "Finished CG\n",
      "Finished line search\n",
      "Finished CG\n",
      "Finished line search\n",
      "Finished CG\n",
      "Finished line search\n",
      "Finished CG\n",
      "Finished line search\n",
      "Finished CG\n",
      "Finished line search\n",
      "Finished CG\n",
      "Finished line search\n",
      "Finished CG\n",
      "Finished line search\n",
      "Finished CG\n",
      "Finished line search\n",
      "Finished CG\n",
      "Finished line search\n",
      "Finished CG\n",
      "Finished line search\n",
      "Finished CG\n",
      "Finished line search\n",
      "Finished CG\n",
      "Finished line search\n",
      "Finished CG\n",
      "Finished line search\n",
      "Finished CG\n",
      "Finished line search\n",
      "Finished CG\n",
      "Finished line search\n",
      "Finished CG\n",
      "Finished line search\n",
      "Finished CG\n",
      "Finished line search\n",
      "Finished CG\n"
     ]
    },
    {
     "ename": "KeyboardInterrupt",
     "evalue": "",
     "output_type": "error",
     "traceback": [
      "\u001b[31m---------------------------------------------------------------------------\u001b[39m",
      "\u001b[31mKeyboardInterrupt\u001b[39m                         Traceback (most recent call last)",
      "\u001b[36mCell\u001b[39m\u001b[36m \u001b[39m\u001b[32mIn[28]\u001b[39m\u001b[32m, line 1\u001b[39m\n\u001b[32m----> \u001b[39m\u001b[32m1\u001b[39m inverted_model = \u001b[43mii\u001b[49m\u001b[43m.\u001b[49m\u001b[43mgauss_newton_conjugate_gradient\u001b[49m\u001b[43m(\u001b[49m\n\u001b[32m      2\u001b[39m \u001b[43m    \u001b[49m\u001b[43mphi\u001b[49m\u001b[43m,\u001b[49m\u001b[43m \u001b[49m\u001b[43minitial_model\u001b[49m\u001b[43m,\u001b[49m\u001b[43m \u001b[49m\u001b[43mpreconditioner\u001b[49m\u001b[43m=\u001b[49m\u001b[43mpreconditioner\u001b[49m\u001b[43m,\u001b[49m\u001b[43m \u001b[49m\u001b[43mmaxiter_line_search\u001b[49m\u001b[43m=\u001b[49m\u001b[32;43m30\u001b[39;49m\n\u001b[32m      3\u001b[39m \u001b[43m)\u001b[49m\n",
      "\u001b[36mFile \u001b[39m\u001b[32m~/git/inversion-design-ideas/src/inversion_ideas/minimizers.py:240\u001b[39m, in \u001b[36mgauss_newton_conjugate_gradient\u001b[39m\u001b[34m(objective, initial_model, preconditioner, maxiter_gauss_newton, maxiter_line_search, **cg_kwargs)\u001b[39m\n\u001b[32m    238\u001b[39m     msg = \u001b[33m\"\u001b[39m\u001b[33mOptimization was not successful\u001b[39m\u001b[38;5;130;01m\\n\u001b[39;00m\u001b[33m\"\u001b[39m + \u001b[33mf\u001b[39m\u001b[33m\"\u001b[39m\u001b[38;5;132;01m{\u001b[39;00mresult\u001b[38;5;132;01m}\u001b[39;00m\u001b[33m\"\u001b[39m\n\u001b[32m    239\u001b[39m     \u001b[38;5;28;01mraise\u001b[39;00m \u001b[38;5;167;01mRuntimeError\u001b[39;00m(msg)\n\u001b[32m--> \u001b[39m\u001b[32m240\u001b[39m \u001b[38;5;28;01mreturn\u001b[39;00m result.x\n",
      "\u001b[36mFile \u001b[39m\u001b[32m~/.miniforge3/envs/inversion_ideas/lib/python3.13/site-packages/scipy/optimize/_linesearch.py:298\u001b[39m, in \u001b[36mline_search_wolfe2\u001b[39m\u001b[34m(f, myfprime, xk, pk, gfk, old_fval, old_old_fval, args, c1, c2, amax, extra_condition, maxiter)\u001b[39m\n\u001b[32m    295\u001b[39m     \u001b[38;5;28;01mreturn\u001b[39;00m np.dot(gval[\u001b[32m0\u001b[39m], pk)\n\u001b[32m    297\u001b[39m \u001b[38;5;28;01mif\u001b[39;00m gfk \u001b[38;5;129;01mis\u001b[39;00m \u001b[38;5;28;01mNone\u001b[39;00m:\n\u001b[32m--> \u001b[39m\u001b[32m298\u001b[39m     gfk = \u001b[43mfprime\u001b[49m\u001b[43m(\u001b[49m\u001b[43mxk\u001b[49m\u001b[43m,\u001b[49m\u001b[43m \u001b[49m\u001b[43m*\u001b[49m\u001b[43margs\u001b[49m\u001b[43m)\u001b[49m\n\u001b[32m    299\u001b[39m derphi0 = np.dot(gfk, pk)\n\u001b[32m    301\u001b[39m \u001b[38;5;28;01mif\u001b[39;00m extra_condition \u001b[38;5;129;01mis\u001b[39;00m \u001b[38;5;129;01mnot\u001b[39;00m \u001b[38;5;28;01mNone\u001b[39;00m:\n\u001b[32m    302\u001b[39m     \u001b[38;5;66;03m# Add the current gradient as argument, to avoid needless\u001b[39;00m\n\u001b[32m    303\u001b[39m     \u001b[38;5;66;03m# re-evaluation\u001b[39;00m\n",
      "\u001b[36mFile \u001b[39m\u001b[32m~/git/inversion-design-ideas/src/inversion_ideas/base/objective_function.py:239\u001b[39m, in \u001b[36mCombo.gradient\u001b[39m\u001b[34m(self, model)\u001b[39m\n\u001b[32m    235\u001b[39m \u001b[38;5;28;01mdef\u001b[39;00m\u001b[38;5;250m \u001b[39m\u001b[34mgradient\u001b[39m(\u001b[38;5;28mself\u001b[39m, model: npt.NDArray) -> npt.NDArray[np.float64]:\n\u001b[32m    236\u001b[39m \u001b[38;5;250m    \u001b[39m\u001b[33;03m\"\"\"\u001b[39;00m\n\u001b[32m    237\u001b[39m \u001b[33;03m    Evaluate the gradient of the objective function for a given model.\u001b[39;00m\n\u001b[32m    238\u001b[39m \u001b[33;03m    \"\"\"\u001b[39;00m\n\u001b[32m--> \u001b[39m\u001b[32m239\u001b[39m     \u001b[38;5;28;01mreturn\u001b[39;00m \u001b[38;5;28;43msum\u001b[39;49m\u001b[43m(\u001b[49m\u001b[43mf\u001b[49m\u001b[43m.\u001b[49m\u001b[43mgradient\u001b[49m\u001b[43m(\u001b[49m\u001b[43mmodel\u001b[49m\u001b[43m)\u001b[49m\u001b[43m \u001b[49m\u001b[38;5;28;43;01mfor\u001b[39;49;00m\u001b[43m \u001b[49m\u001b[43mf\u001b[49m\u001b[43m \u001b[49m\u001b[38;5;129;43;01min\u001b[39;49;00m\u001b[43m \u001b[49m\u001b[38;5;28;43mself\u001b[39;49m\u001b[43m.\u001b[49m\u001b[43mfunctions\u001b[49m\u001b[43m)\u001b[49m\n",
      "\u001b[36mFile \u001b[39m\u001b[32m~/git/inversion-design-ideas/src/inversion_ideas/base/objective_function.py:239\u001b[39m, in \u001b[36m<genexpr>\u001b[39m\u001b[34m(.0)\u001b[39m\n\u001b[32m    235\u001b[39m \u001b[38;5;28;01mdef\u001b[39;00m\u001b[38;5;250m \u001b[39m\u001b[34mgradient\u001b[39m(\u001b[38;5;28mself\u001b[39m, model: npt.NDArray) -> npt.NDArray[np.float64]:\n\u001b[32m    236\u001b[39m \u001b[38;5;250m    \u001b[39m\u001b[33;03m\"\"\"\u001b[39;00m\n\u001b[32m    237\u001b[39m \u001b[33;03m    Evaluate the gradient of the objective function for a given model.\u001b[39;00m\n\u001b[32m    238\u001b[39m \u001b[33;03m    \"\"\"\u001b[39;00m\n\u001b[32m--> \u001b[39m\u001b[32m239\u001b[39m     \u001b[38;5;28;01mreturn\u001b[39;00m \u001b[38;5;28msum\u001b[39m(\u001b[43mf\u001b[49m\u001b[43m.\u001b[49m\u001b[43mgradient\u001b[49m\u001b[43m(\u001b[49m\u001b[43mmodel\u001b[49m\u001b[43m)\u001b[49m \u001b[38;5;28;01mfor\u001b[39;00m f \u001b[38;5;129;01min\u001b[39;00m \u001b[38;5;28mself\u001b[39m.functions)\n",
      "\u001b[36mFile \u001b[39m\u001b[32m~/git/inversion-design-ideas/src/inversion_ideas/data_misfit.py:69\u001b[39m, in \u001b[36mDataMisfit.gradient\u001b[39m\u001b[34m(self, model)\u001b[39m\n\u001b[32m     65\u001b[39m \u001b[38;5;250m\u001b[39m\u001b[33;03m\"\"\"\u001b[39;00m\n\u001b[32m     66\u001b[39m \u001b[33;03mGradient vector.\u001b[39;00m\n\u001b[32m     67\u001b[39m \u001b[33;03m\"\"\"\u001b[39;00m\n\u001b[32m     68\u001b[39m jac = \u001b[38;5;28mself\u001b[39m.simulation.jacobian(model)\n\u001b[32m---> \u001b[39m\u001b[32m69\u001b[39m \u001b[38;5;28;01mreturn\u001b[39;00m -\u001b[32m2\u001b[39m * jac.T @ (\u001b[38;5;28mself\u001b[39m.weights_squared @ \u001b[38;5;28;43mself\u001b[39;49m\u001b[43m.\u001b[49m\u001b[43mresidual\u001b[49m\u001b[43m(\u001b[49m\u001b[43mmodel\u001b[49m\u001b[43m)\u001b[49m)\n",
      "\u001b[36mFile \u001b[39m\u001b[32m~/git/inversion-design-ideas/src/inversion_ideas/data_misfit.py:134\u001b[39m, in \u001b[36mDataMisfit.residual\u001b[39m\u001b[34m(self, model)\u001b[39m\n\u001b[32m    109\u001b[39m \u001b[38;5;28;01mdef\u001b[39;00m\u001b[38;5;250m \u001b[39m\u001b[34mresidual\u001b[39m(\u001b[38;5;28mself\u001b[39m, model):\n\u001b[32m    110\u001b[39m \u001b[38;5;250m    \u001b[39m\u001b[33mr\u001b[39m\u001b[33;03m\"\"\"\u001b[39;00m\n\u001b[32m    111\u001b[39m \u001b[33;03m    Residual vector.\u001b[39;00m\n\u001b[32m    112\u001b[39m \n\u001b[32m   (...)\u001b[39m\u001b[32m    132\u001b[39m \u001b[33;03m    is the forward model, and :math:`\\mathbf{m}` is the model vector.\u001b[39;00m\n\u001b[32m    133\u001b[39m \u001b[33;03m    \"\"\"\u001b[39;00m\n\u001b[32m--> \u001b[39m\u001b[32m134\u001b[39m     \u001b[38;5;28;01mreturn\u001b[39;00m \u001b[38;5;28mself\u001b[39m.data - \u001b[38;5;28;43mself\u001b[39;49m\u001b[43m.\u001b[49m\u001b[43msimulation\u001b[49m\u001b[43m(\u001b[49m\u001b[43mmodel\u001b[49m\u001b[43m)\u001b[49m\n",
      "\u001b[36mFile \u001b[39m\u001b[32m~/git/inversion-design-ideas/src/inversion_ideas/simulations.py:94\u001b[39m, in \u001b[36mWrappedSimulation.__call__\u001b[39m\u001b[34m(self, model)\u001b[39m\n\u001b[32m     90\u001b[39m \u001b[38;5;28;01mdef\u001b[39;00m\u001b[38;5;250m \u001b[39m\u001b[34m__call__\u001b[39m(\u001b[38;5;28mself\u001b[39m, model) -> npt.NDArray[np.float64]:\n\u001b[32m     91\u001b[39m \u001b[38;5;250m    \u001b[39m\u001b[33;03m\"\"\"\u001b[39;00m\n\u001b[32m     92\u001b[39m \u001b[33;03m    Evaluate simulation for a given model.\u001b[39;00m\n\u001b[32m     93\u001b[39m \u001b[33;03m    \"\"\"\u001b[39;00m\n\u001b[32m---> \u001b[39m\u001b[32m94\u001b[39m     \u001b[38;5;28;01mreturn\u001b[39;00m \u001b[38;5;28;43mself\u001b[39;49m\u001b[43m.\u001b[49m\u001b[43msimulation\u001b[49m\u001b[43m.\u001b[49m\u001b[43mdpred\u001b[49m\u001b[43m(\u001b[49m\u001b[43mmodel\u001b[49m\u001b[43m)\u001b[49m\n",
      "\u001b[36mFile \u001b[39m\u001b[32m~/.miniforge3/envs/inversion_ideas/lib/python3.13/site-packages/simpeg/electromagnetics/static/resistivity/simulation_2d.py:259\u001b[39m, in \u001b[36mBaseDCSimulation2D.dpred\u001b[39m\u001b[34m(self, m, f)\u001b[39m\n\u001b[32m    257\u001b[39m     \u001b[38;5;28;01mif\u001b[39;00m m \u001b[38;5;129;01mis\u001b[39;00m \u001b[38;5;28;01mNone\u001b[39;00m:\n\u001b[32m    258\u001b[39m         m = \u001b[38;5;28mself\u001b[39m.model\n\u001b[32m--> \u001b[39m\u001b[32m259\u001b[39m     f = \u001b[38;5;28;43mself\u001b[39;49m\u001b[43m.\u001b[49m\u001b[43mfields\u001b[49m\u001b[43m(\u001b[49m\u001b[43mm\u001b[49m\u001b[43m)\u001b[49m\n\u001b[32m    261\u001b[39m weights = \u001b[38;5;28mself\u001b[39m._quad_weights\n\u001b[32m    262\u001b[39m \u001b[38;5;28;01mif\u001b[39;00m \u001b[38;5;28mself\u001b[39m._mini_survey \u001b[38;5;129;01mis\u001b[39;00m \u001b[38;5;129;01mnot\u001b[39;00m \u001b[38;5;28;01mNone\u001b[39;00m:\n",
      "\u001b[36mFile \u001b[39m\u001b[32m~/.miniforge3/envs/inversion_ideas/lib/python3.13/site-packages/simpeg/electromagnetics/static/resistivity/simulation_2d.py:238\u001b[39m, in \u001b[36mBaseDCSimulation2D.fields\u001b[39m\u001b[34m(self, m)\u001b[39m\n\u001b[32m    236\u001b[39m     \u001b[38;5;28mself\u001b[39m.Ainv[iky].clean()\n\u001b[32m    237\u001b[39m \u001b[38;5;28mself\u001b[39m.Ainv[iky] = \u001b[38;5;28mself\u001b[39m.solver(A, **\u001b[38;5;28mself\u001b[39m.solver_opts)\n\u001b[32m--> \u001b[39m\u001b[32m238\u001b[39m RHS = \u001b[38;5;28;43mself\u001b[39;49m\u001b[43m.\u001b[49m\u001b[43mgetRHS\u001b[49m\u001b[43m(\u001b[49m\u001b[43mky\u001b[49m\u001b[43m)\u001b[49m\n\u001b[32m    239\u001b[39m u = \u001b[38;5;28mself\u001b[39m.Ainv[iky] * RHS\n\u001b[32m    240\u001b[39m f[:, \u001b[38;5;28mself\u001b[39m._solutionType, iky] = u\n",
      "\u001b[36mFile \u001b[39m\u001b[32m~/.miniforge3/envs/inversion_ideas/lib/python3.13/site-packages/simpeg/electromagnetics/static/resistivity/simulation_2d.py:724\u001b[39m, in \u001b[36mSimulation2DNodal.getRHS\u001b[39m\u001b[34m(self, ky)\u001b[39m\n\u001b[32m    718\u001b[39m \u001b[38;5;28;01mdef\u001b[39;00m\u001b[38;5;250m \u001b[39m\u001b[34mgetRHS\u001b[39m(\u001b[38;5;28mself\u001b[39m, ky):\n\u001b[32m    719\u001b[39m \u001b[38;5;250m    \u001b[39m\u001b[33;03m\"\"\"\u001b[39;00m\n\u001b[32m    720\u001b[39m \u001b[33;03m    RHS for the DC problem\u001b[39;00m\n\u001b[32m    721\u001b[39m \u001b[33;03m    q\u001b[39;00m\n\u001b[32m    722\u001b[39m \u001b[33;03m    \"\"\"\u001b[39;00m\n\u001b[32m--> \u001b[39m\u001b[32m724\u001b[39m     RHS = \u001b[38;5;28;43mself\u001b[39;49m\u001b[43m.\u001b[49m\u001b[43mgetSourceTerm\u001b[49m\u001b[43m(\u001b[49m\u001b[43mky\u001b[49m\u001b[43m)\u001b[49m\n\u001b[32m    725\u001b[39m     \u001b[38;5;28;01mreturn\u001b[39;00m RHS\n",
      "\u001b[36mFile \u001b[39m\u001b[32m~/.miniforge3/envs/inversion_ideas/lib/python3.13/site-packages/simpeg/electromagnetics/static/resistivity/simulation_2d.py:446\u001b[39m, in \u001b[36mBaseDCSimulation2D.getSourceTerm\u001b[39m\u001b[34m(self, ky)\u001b[39m\n\u001b[32m    443\u001b[39m q = np.zeros((n, \u001b[38;5;28mlen\u001b[39m(Srcs)), order=\u001b[33m\"\u001b[39m\u001b[33mF\u001b[39m\u001b[33m\"\u001b[39m)\n\u001b[32m    445\u001b[39m \u001b[38;5;28;01mfor\u001b[39;00m i, src \u001b[38;5;129;01min\u001b[39;00m \u001b[38;5;28menumerate\u001b[39m(Srcs):\n\u001b[32m--> \u001b[39m\u001b[32m446\u001b[39m     q[:, i] = \u001b[43msrc\u001b[49m\u001b[43m.\u001b[49m\u001b[43meval\u001b[49m\u001b[43m(\u001b[49m\u001b[38;5;28;43mself\u001b[39;49m\u001b[43m)\u001b[49m\n\u001b[32m    447\u001b[39m \u001b[38;5;28;01mreturn\u001b[39;00m q\n",
      "\u001b[36mFile \u001b[39m\u001b[32m~/.miniforge3/envs/inversion_ideas/lib/python3.13/site-packages/simpeg/electromagnetics/static/resistivity/sources.py:84\u001b[39m, in \u001b[36mBaseSrc.eval\u001b[39m\u001b[34m(self, sim)\u001b[39m\n\u001b[32m     82\u001b[39m     loc = \u001b[38;5;28mself\u001b[39m.location\n\u001b[32m     83\u001b[39m     cur = \u001b[38;5;28mself\u001b[39m.current\n\u001b[32m---> \u001b[39m\u001b[32m84\u001b[39m     interpolation_matrix = \u001b[43msim\u001b[49m\u001b[43m.\u001b[49m\u001b[43mmesh\u001b[49m\u001b[43m.\u001b[49m\u001b[43mget_interpolation_matrix\u001b[49m\u001b[43m(\u001b[49m\n\u001b[32m     85\u001b[39m \u001b[43m        \u001b[49m\u001b[43mloc\u001b[49m\u001b[43m,\u001b[49m\u001b[43m \u001b[49m\u001b[43mlocation_type\u001b[49m\u001b[43m=\u001b[49m\u001b[33;43m\"\u001b[39;49m\u001b[33;43mN\u001b[39;49m\u001b[33;43m\"\u001b[39;49m\n\u001b[32m     86\u001b[39m \u001b[43m    \u001b[49m\u001b[43m)\u001b[49m.toarray()\n\u001b[32m     87\u001b[39m     q = np.sum(cur[:, np.newaxis] * interpolation_matrix, axis=\u001b[32m0\u001b[39m)\n\u001b[32m     88\u001b[39m \u001b[38;5;28;01mreturn\u001b[39;00m q\n",
      "\u001b[36mFile \u001b[39m\u001b[32m~/.miniforge3/envs/inversion_ideas/lib/python3.13/site-packages/discretize/tree_mesh.py:966\u001b[39m, in \u001b[36mTreeMesh.get_interpolation_matrix\u001b[39m\u001b[34m(self, locs, location_type, zeros_outside, **kwargs)\u001b[39m\n\u001b[32m    964\u001b[39m locs = \u001b[38;5;28mself\u001b[39m._require_ndarray_with_dim(\u001b[33m\"\u001b[39m\u001b[33mlocs\u001b[39m\u001b[33m\"\u001b[39m, locs, ndim=\u001b[32m2\u001b[39m, dtype=np.float64)\n\u001b[32m    965\u001b[39m \u001b[38;5;28;01mif\u001b[39;00m location_type == \u001b[33m\"\u001b[39m\u001b[33mnodes\u001b[39m\u001b[33m\"\u001b[39m:\n\u001b[32m--> \u001b[39m\u001b[32m966\u001b[39m     Av = \u001b[38;5;28;43mself\u001b[39;49m\u001b[43m.\u001b[49m\u001b[43m_getNodeIntMat\u001b[49m\u001b[43m(\u001b[49m\u001b[43mlocs\u001b[49m\u001b[43m,\u001b[49m\u001b[43m \u001b[49m\u001b[43mzeros_outside\u001b[49m\u001b[43m)\u001b[49m\n\u001b[32m    967\u001b[39m \u001b[38;5;28;01melif\u001b[39;00m location_type \u001b[38;5;129;01min\u001b[39;00m [\u001b[33m\"\u001b[39m\u001b[33medges_x\u001b[39m\u001b[33m\"\u001b[39m, \u001b[33m\"\u001b[39m\u001b[33medges_y\u001b[39m\u001b[33m\"\u001b[39m, \u001b[33m\"\u001b[39m\u001b[33medges_z\u001b[39m\u001b[33m\"\u001b[39m]:\n\u001b[32m    968\u001b[39m     Av = \u001b[38;5;28mself\u001b[39m._getEdgeIntMat(locs, zeros_outside, location_type[-\u001b[32m1\u001b[39m])\n",
      "\u001b[36mFile \u001b[39m\u001b[32mtree_ext.pyx:6072\u001b[39m, in \u001b[36mdiscretize._extensions.tree_ext._TreeMesh._getNodeIntMat\u001b[39m\u001b[34m()\u001b[39m\n",
      "\u001b[36mFile \u001b[39m\u001b[32mtree_ext.pyx:3982\u001b[39m, in \u001b[36mdiscretize._extensions.tree_ext._TreeMesh._deflate_nodes\u001b[39m\u001b[34m()\u001b[39m\n",
      "\u001b[36mFile \u001b[39m\u001b[32m~/.miniforge3/envs/inversion_ideas/lib/python3.13/site-packages/scipy/sparse/_compressed.py:60\u001b[39m, in \u001b[36m_cs_matrix.__init__\u001b[39m\u001b[34m(self, arg1, shape, dtype, copy, maxprint)\u001b[39m\n\u001b[32m     58\u001b[39m     arrays = coo._coo_to_compressed(\u001b[38;5;28mself\u001b[39m._swap)\n\u001b[32m     59\u001b[39m     \u001b[38;5;28mself\u001b[39m.indptr, \u001b[38;5;28mself\u001b[39m.indices, \u001b[38;5;28mself\u001b[39m.data, \u001b[38;5;28mself\u001b[39m._shape = arrays\n\u001b[32m---> \u001b[39m\u001b[32m60\u001b[39m     \u001b[38;5;28;43mself\u001b[39;49m\u001b[43m.\u001b[49m\u001b[43msum_duplicates\u001b[49m\u001b[43m(\u001b[49m\u001b[43m)\u001b[49m\n\u001b[32m     61\u001b[39m \u001b[38;5;28;01melif\u001b[39;00m \u001b[38;5;28mlen\u001b[39m(arg1) == \u001b[32m3\u001b[39m:\n\u001b[32m     62\u001b[39m     \u001b[38;5;66;03m# (data, indices, indptr) format\u001b[39;00m\n\u001b[32m     63\u001b[39m     (data, indices, indptr) = arg1\n",
      "\u001b[36mFile \u001b[39m\u001b[32m~/.miniforge3/envs/inversion_ideas/lib/python3.13/site-packages/scipy/sparse/_compressed.py:1061\u001b[39m, in \u001b[36m_cs_matrix.sum_duplicates\u001b[39m\u001b[34m(self)\u001b[39m\n\u001b[32m   1059\u001b[39m \u001b[38;5;28;01mif\u001b[39;00m \u001b[38;5;28mself\u001b[39m.has_canonical_format:\n\u001b[32m   1060\u001b[39m     \u001b[38;5;28;01mreturn\u001b[39;00m\n\u001b[32m-> \u001b[39m\u001b[32m1061\u001b[39m \u001b[38;5;28;43mself\u001b[39;49m\u001b[43m.\u001b[49m\u001b[43msort_indices\u001b[49m\u001b[43m(\u001b[49m\u001b[43m)\u001b[49m\n\u001b[32m   1063\u001b[39m M, N = \u001b[38;5;28mself\u001b[39m._swap(\u001b[38;5;28mself\u001b[39m._shape_as_2d)\n\u001b[32m   1064\u001b[39m csr_sum_duplicates(M, N, \u001b[38;5;28mself\u001b[39m.indptr, \u001b[38;5;28mself\u001b[39m.indices, \u001b[38;5;28mself\u001b[39m.data)\n",
      "\u001b[36mFile \u001b[39m\u001b[32m~/.miniforge3/envs/inversion_ideas/lib/python3.13/site-packages/scipy/sparse/_compressed.py:1106\u001b[39m, in \u001b[36m_cs_matrix.sort_indices\u001b[39m\u001b[34m(self)\u001b[39m\n\u001b[32m   1104\u001b[39m \u001b[38;5;28;01mif\u001b[39;00m \u001b[38;5;129;01mnot\u001b[39;00m \u001b[38;5;28mself\u001b[39m.has_sorted_indices:\n\u001b[32m   1105\u001b[39m     M = \u001b[38;5;28mlen\u001b[39m(\u001b[38;5;28mself\u001b[39m.indptr) - \u001b[32m1\u001b[39m\n\u001b[32m-> \u001b[39m\u001b[32m1106\u001b[39m     \u001b[43mcsr_sort_indices\u001b[49m\u001b[43m(\u001b[49m\u001b[43mM\u001b[49m\u001b[43m,\u001b[49m\u001b[43m \u001b[49m\u001b[38;5;28;43mself\u001b[39;49m\u001b[43m.\u001b[49m\u001b[43mindptr\u001b[49m\u001b[43m,\u001b[49m\u001b[43m \u001b[49m\u001b[38;5;28;43mself\u001b[39;49m\u001b[43m.\u001b[49m\u001b[43mindices\u001b[49m\u001b[43m,\u001b[49m\u001b[43m \u001b[49m\u001b[38;5;28;43mself\u001b[39;49m\u001b[43m.\u001b[49m\u001b[43mdata\u001b[49m\u001b[43m)\u001b[49m\n\u001b[32m   1107\u001b[39m     \u001b[38;5;28mself\u001b[39m.has_sorted_indices = \u001b[38;5;28;01mTrue\u001b[39;00m\n",
      "\u001b[31mKeyboardInterrupt\u001b[39m: "
     ]
    }
   ],
   "source": [
    "gauss_newton_minimizer = ii.GaussNewtonConjugateGradient()\n",
    "inverted_model = gauss_newton_minimizer(\n",
    "    phi, initial_model, preconditioner=preconditioner, maxiter_line_search=30\n",
    ")"
   ]
  }
 ],
 "metadata": {
  "kernelspec": {
   "display_name": "Python [conda env:inversion_ideas]",
   "language": "python",
   "name": "conda-env-inversion_ideas-py"
  },
  "language_info": {
   "codemirror_mode": {
    "name": "ipython",
    "version": 3
   },
   "file_extension": ".py",
   "mimetype": "text/x-python",
   "name": "python",
   "nbconvert_exporter": "python",
   "pygments_lexer": "ipython3",
   "version": "3.13.5"
  }
 },
 "nbformat": 4,
 "nbformat_minor": 5
}
