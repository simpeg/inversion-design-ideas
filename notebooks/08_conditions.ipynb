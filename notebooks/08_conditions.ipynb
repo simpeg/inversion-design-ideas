{
 "cells": [
  {
   "cell_type": "markdown",
   "id": "b3b20935",
   "metadata": {},
   "source": [
    "# Experiment with conditions"
   ]
  },
  {
   "cell_type": "code",
   "execution_count": 1,
   "id": "1404792a",
   "metadata": {
    "execution": {
     "iopub.execute_input": "2025-10-07T20:48:58.956945Z",
     "iopub.status.busy": "2025-10-07T20:48:58.956672Z",
     "iopub.status.idle": "2025-10-07T20:49:00.692455Z",
     "shell.execute_reply": "2025-10-07T20:49:00.691779Z",
     "shell.execute_reply.started": "2025-10-07T20:48:58.956918Z"
    }
   },
   "outputs": [],
   "source": [
    "from inversion_ideas import CustomCondition"
   ]
  },
  {
   "cell_type": "code",
   "execution_count": 2,
   "id": "197da35b",
   "metadata": {
    "execution": {
     "iopub.execute_input": "2025-10-07T20:49:00.693326Z",
     "iopub.status.busy": "2025-10-07T20:49:00.693011Z",
     "iopub.status.idle": "2025-10-07T20:49:00.700075Z",
     "shell.execute_reply": "2025-10-07T20:49:00.699406Z",
     "shell.execute_reply.started": "2025-10-07T20:49:00.693304Z"
    }
   },
   "outputs": [
    {
     "data": {
      "text/plain": [
       "<inversion_ideas.conditions.CustomCondition at 0x7f2d854ab8c0>"
      ]
     },
     "execution_count": 2,
     "metadata": {},
     "output_type": "execute_result"
    }
   ],
   "source": [
    "is_greater_than_one = CustomCondition.create(lambda model: model > 1)\n",
    "is_greater_than_one"
   ]
  },
  {
   "cell_type": "code",
   "execution_count": 3,
   "id": "35b4f1a6",
   "metadata": {
    "execution": {
     "iopub.execute_input": "2025-10-07T20:49:00.701198Z",
     "iopub.status.busy": "2025-10-07T20:49:00.700894Z",
     "iopub.status.idle": "2025-10-07T20:49:00.725594Z",
     "shell.execute_reply": "2025-10-07T20:49:00.723464Z",
     "shell.execute_reply.started": "2025-10-07T20:49:00.701168Z"
    }
   },
   "outputs": [
    {
     "data": {
      "text/plain": [
       "<inversion_ideas.conditions.CustomCondition at 0x7f2d8551afd0>"
      ]
     },
     "execution_count": 3,
     "metadata": {},
     "output_type": "execute_result"
    }
   ],
   "source": [
    "is_positive = CustomCondition.create(lambda model: model > 0)\n",
    "is_positive"
   ]
  },
  {
   "cell_type": "code",
   "execution_count": 4,
   "id": "e36397f9",
   "metadata": {
    "execution": {
     "iopub.execute_input": "2025-10-07T20:49:00.729820Z",
     "iopub.status.busy": "2025-10-07T20:49:00.727815Z",
     "iopub.status.idle": "2025-10-07T20:49:00.739591Z",
     "shell.execute_reply": "2025-10-07T20:49:00.738196Z",
     "shell.execute_reply.started": "2025-10-07T20:49:00.729691Z"
    }
   },
   "outputs": [
    {
     "name": "stdout",
     "output_type": "stream",
     "text": [
      "2.0 True\n",
      "0.5 False\n"
     ]
    }
   ],
   "source": [
    "x = 2.0\n",
    "print(x, is_greater_than_one(x))\n",
    "\n",
    "x = 0.5\n",
    "print(x, is_greater_than_one(x))"
   ]
  },
  {
   "cell_type": "code",
   "execution_count": 5,
   "id": "1b090f90",
   "metadata": {
    "execution": {
     "iopub.execute_input": "2025-10-07T20:49:00.741706Z",
     "iopub.status.busy": "2025-10-07T20:49:00.741148Z",
     "iopub.status.idle": "2025-10-07T20:49:00.755038Z",
     "shell.execute_reply": "2025-10-07T20:49:00.753391Z",
     "shell.execute_reply.started": "2025-10-07T20:49:00.741657Z"
    }
   },
   "outputs": [
    {
     "name": "stdout",
     "output_type": "stream",
     "text": [
      "2.0 True\n",
      "0.5 True\n"
     ]
    }
   ],
   "source": [
    "x = 2.0\n",
    "print(x, is_positive(x))\n",
    "\n",
    "x = 0.5\n",
    "print(x, is_positive(x))"
   ]
  },
  {
   "cell_type": "code",
   "execution_count": 6,
   "id": "78b5b6fe",
   "metadata": {
    "execution": {
     "iopub.execute_input": "2025-10-07T20:49:00.760585Z",
     "iopub.status.busy": "2025-10-07T20:49:00.759437Z",
     "iopub.status.idle": "2025-10-07T20:49:00.767266Z",
     "shell.execute_reply": "2025-10-07T20:49:00.766445Z",
     "shell.execute_reply.started": "2025-10-07T20:49:00.760520Z"
    }
   },
   "outputs": [
    {
     "data": {
      "text/plain": [
       "<inversion_ideas.base.conditions.LogicalAnd at 0x7f2dfe699d30>"
      ]
     },
     "execution_count": 6,
     "metadata": {},
     "output_type": "execute_result"
    }
   ],
   "source": [
    "logical_and = is_greater_than_one & is_positive\n",
    "logical_and"
   ]
  },
  {
   "cell_type": "code",
   "execution_count": 7,
   "id": "427c432f",
   "metadata": {
    "execution": {
     "iopub.execute_input": "2025-10-07T20:49:00.768965Z",
     "iopub.status.busy": "2025-10-07T20:49:00.768502Z",
     "iopub.status.idle": "2025-10-07T20:49:00.778820Z",
     "shell.execute_reply": "2025-10-07T20:49:00.777979Z",
     "shell.execute_reply.started": "2025-10-07T20:49:00.768915Z"
    }
   },
   "outputs": [
    {
     "name": "stdout",
     "output_type": "stream",
     "text": [
      "2.0 True\n",
      "0.5 False\n",
      "-0.5 False\n"
     ]
    }
   ],
   "source": [
    "x = 2.0\n",
    "print(x, logical_and(x))\n",
    "\n",
    "x = 0.5\n",
    "print(x, logical_and(x))\n",
    "\n",
    "x = -0.5\n",
    "print(x, logical_and(x))"
   ]
  },
  {
   "cell_type": "code",
   "execution_count": 8,
   "id": "b1945817",
   "metadata": {
    "execution": {
     "iopub.execute_input": "2025-10-07T20:49:00.779918Z",
     "iopub.status.busy": "2025-10-07T20:49:00.779608Z",
     "iopub.status.idle": "2025-10-07T20:49:00.787320Z",
     "shell.execute_reply": "2025-10-07T20:49:00.786469Z",
     "shell.execute_reply.started": "2025-10-07T20:49:00.779884Z"
    }
   },
   "outputs": [
    {
     "data": {
      "text/plain": [
       "<inversion_ideas.base.conditions.LogicalOr at 0x7f2dfe699fd0>"
      ]
     },
     "execution_count": 8,
     "metadata": {},
     "output_type": "execute_result"
    }
   ],
   "source": [
    "logical_or = is_greater_than_one | is_positive\n",
    "logical_or"
   ]
  },
  {
   "cell_type": "code",
   "execution_count": 9,
   "id": "4d82595d",
   "metadata": {
    "execution": {
     "iopub.execute_input": "2025-10-07T20:49:00.788658Z",
     "iopub.status.busy": "2025-10-07T20:49:00.788244Z",
     "iopub.status.idle": "2025-10-07T20:49:00.795156Z",
     "shell.execute_reply": "2025-10-07T20:49:00.794368Z",
     "shell.execute_reply.started": "2025-10-07T20:49:00.788620Z"
    }
   },
   "outputs": [
    {
     "name": "stdout",
     "output_type": "stream",
     "text": [
      "2.0 True\n",
      "0.5 True\n",
      "-0.5 False\n"
     ]
    }
   ],
   "source": [
    "x = 2.0\n",
    "print(x, logical_or(x))\n",
    "\n",
    "x = 0.5\n",
    "print(x, logical_or(x))\n",
    "\n",
    "x = -0.5\n",
    "print(x, logical_or(x))"
   ]
  },
  {
   "cell_type": "code",
   "execution_count": 10,
   "id": "57694109",
   "metadata": {
    "execution": {
     "iopub.execute_input": "2025-10-07T20:49:00.796359Z",
     "iopub.status.busy": "2025-10-07T20:49:00.796035Z",
     "iopub.status.idle": "2025-10-07T20:49:00.967667Z",
     "shell.execute_reply": "2025-10-07T20:49:00.966870Z",
     "shell.execute_reply.started": "2025-10-07T20:49:00.796322Z"
    }
   },
   "outputs": [
    {
     "data": {
      "image/png": "[encoded data removed]",
      "text/plain": [
       "<Figure size 640x480 with 2 Axes>"
      ]
     },
     "metadata": {},
     "output_type": "display_data"
    }
   ],
   "source": [
    "import matplotlib.pyplot as plt\n",
    "\n",
    "x = [-0.5, 0.5, 2.0]\n",
    "\n",
    "\n",
    "x_labels = [\"x > 1?\", \"x > 0 ?\", \"AND\", \"OR\"]\n",
    "y_labels = [f\"{xi:.2f}\" for xi in x]\n",
    "\n",
    "grid = []\n",
    "for xi in x:\n",
    "    row = [\n",
    "        is_greater_than_one(xi),\n",
    "        is_positive(xi),\n",
    "        logical_and(xi),\n",
    "        logical_or(xi),\n",
    "    ]\n",
    "    grid.append(row)\n",
    "\n",
    "\n",
    "tmp = plt.pcolormesh(x_labels, y_labels, grid, cmap=plt.get_cmap(\"viridis\", 2))\n",
    "formatter = plt.FuncFormatter(lambda _val, loc: str(bool(loc)))\n",
    "plt.colorbar(ticks=[0.25, 0.75], format=formatter)\n",
    "plt.ylabel(\"x\")\n",
    "plt.show()"
   ]
  },
  {
   "cell_type": "code",
   "execution_count": null,
   "id": "03cfc4b2",
   "metadata": {},
   "outputs": [],
   "source": []
  }
 ],
 "metadata": {
  "kernelspec": {
   "display_name": "Python [conda env:inversion_ideas]",
   "language": "python",
   "name": "conda-env-inversion_ideas-py"
  },
  "language_info": {
   "codemirror_mode": {
    "name": "ipython",
    "version": 3
   },
   "file_extension": ".py",
   "mimetype": "text/x-python",
   "name": "python",
   "nbconvert_exporter": "python",
   "pygments_lexer": "ipython3",
   "version": "3.13.5"
  }
 },
 "nbformat": 4,
 "nbformat_minor": 5
}
