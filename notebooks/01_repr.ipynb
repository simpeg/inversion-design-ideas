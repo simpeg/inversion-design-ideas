{
 "cells": [
  {
   "cell_type": "code",
   "execution_count": 1,
   "id": "ec5a23f6-1939-4bd6-9ddc-a33798bbe64f",
   "metadata": {
    "execution": {
     "iopub.execute_input": "2025-07-30T21:43:50.775505Z",
     "iopub.status.busy": "2025-07-30T21:43:50.775155Z",
     "iopub.status.idle": "2025-07-30T21:43:51.062599Z",
     "shell.execute_reply": "2025-07-30T21:43:51.062011Z",
     "shell.execute_reply.started": "2025-07-30T21:43:50.775473Z"
    }
   },
   "outputs": [],
   "source": [
    "import numpy as np\n",
    "\n",
    "from inversion_ideas.base import Objective"
   ]
  },
  {
   "cell_type": "code",
   "execution_count": 2,
   "id": "9ec050b8-c948-41cb-b13d-d8e510fbfa4e",
   "metadata": {
    "execution": {
     "iopub.execute_input": "2025-07-30T21:43:51.063458Z",
     "iopub.status.busy": "2025-07-30T21:43:51.063184Z",
     "iopub.status.idle": "2025-07-30T21:43:51.068561Z",
     "shell.execute_reply": "2025-07-30T21:43:51.067958Z",
     "shell.execute_reply.started": "2025-07-30T21:43:51.063437Z"
    }
   },
   "outputs": [],
   "source": [
    "class Dummy(Objective):\n",
    "    def __init__(self, n_params):\n",
    "        super().__init__()\n",
    "        self._n_params = n_params\n",
    "\n",
    "    @property\n",
    "    def n_params(self):\n",
    "        return self._n_params\n",
    "        \n",
    "    def __call__(self, model):\n",
    "        pass\n",
    "        \n",
    "    def gradient(self, model):\n",
    "        pass\n",
    "        \n",
    "    def hessian(self, model):\n",
    "        pass"
   ]
  },
  {
   "cell_type": "markdown",
   "id": "b16bb178",
   "metadata": {},
   "source": [
    "## Define some objective functions and name them"
   ]
  },
  {
   "cell_type": "code",
   "execution_count": 3,
   "id": "00c39dc7-9da0-4a44-8950-b63c31f42cee",
   "metadata": {
    "execution": {
     "iopub.execute_input": "2025-07-30T21:43:51.069501Z",
     "iopub.status.busy": "2025-07-30T21:43:51.069292Z",
     "iopub.status.idle": "2025-07-30T21:43:51.076611Z",
     "shell.execute_reply": "2025-07-30T21:43:51.076017Z",
     "shell.execute_reply.started": "2025-07-30T21:43:51.069481Z"
    }
   },
   "outputs": [
    {
     "data": {
      "text/latex": [
       "$\\phi_{a} (m)$"
      ],
      "text/plain": [
       "φa(m)"
      ]
     },
     "execution_count": 3,
     "metadata": {},
     "output_type": "execute_result"
    }
   ],
   "source": [
    "a = Dummy(3)\n",
    "a.set_name(\"a\")\n",
    "a"
   ]
  },
  {
   "cell_type": "code",
   "execution_count": 4,
   "id": "ab16bcf5-8529-4b01-9ce5-f0060110e73d",
   "metadata": {
    "execution": {
     "iopub.execute_input": "2025-07-30T21:43:51.077355Z",
     "iopub.status.busy": "2025-07-30T21:43:51.077178Z",
     "iopub.status.idle": "2025-07-30T21:43:51.081383Z",
     "shell.execute_reply": "2025-07-30T21:43:51.080660Z",
     "shell.execute_reply.started": "2025-07-30T21:43:51.077338Z"
    }
   },
   "outputs": [
    {
     "data": {
      "text/latex": [
       "$\\phi_{b} (m)$"
      ],
      "text/plain": [
       "φb(m)"
      ]
     },
     "execution_count": 4,
     "metadata": {},
     "output_type": "execute_result"
    }
   ],
   "source": [
    "b = Dummy(3)\n",
    "b.set_name(\"b\")\n",
    "b"
   ]
  },
  {
   "cell_type": "code",
   "execution_count": 5,
   "id": "1da4940c-8fba-4aef-ba71-6979b31e8265",
   "metadata": {
    "execution": {
     "iopub.execute_input": "2025-07-30T21:43:51.082382Z",
     "iopub.status.busy": "2025-07-30T21:43:51.082103Z",
     "iopub.status.idle": "2025-07-30T21:43:51.087255Z",
     "shell.execute_reply": "2025-07-30T21:43:51.086637Z",
     "shell.execute_reply.started": "2025-07-30T21:43:51.082354Z"
    }
   },
   "outputs": [
    {
     "data": {
      "text/latex": [
       "$\\phi_{c} (m)$"
      ],
      "text/plain": [
       "φc(m)"
      ]
     },
     "execution_count": 5,
     "metadata": {},
     "output_type": "execute_result"
    }
   ],
   "source": [
    "c = Dummy(3)\n",
    "c.set_name(\"c\")\n",
    "c"
   ]
  },
  {
   "cell_type": "code",
   "execution_count": 6,
   "id": "710cf93b",
   "metadata": {},
   "outputs": [
    {
     "data": {
      "text/latex": [
       "$\\phi_{d} (m)$"
      ],
      "text/plain": [
       "φd(m)"
      ]
     },
     "execution_count": 6,
     "metadata": {},
     "output_type": "execute_result"
    }
   ],
   "source": [
    "d = Dummy(3)\n",
    "d.set_name(\"d\")\n",
    "d"
   ]
  },
  {
   "cell_type": "markdown",
   "id": "9f36b948",
   "metadata": {},
   "source": [
    "## Experiment with Combo and Scaled"
   ]
  },
  {
   "cell_type": "markdown",
   "id": "66e4e69a",
   "metadata": {},
   "source": [
    "Simple combo of two objective functions:"
   ]
  },
  {
   "cell_type": "code",
   "execution_count": 7,
   "id": "1162487a",
   "metadata": {},
   "outputs": [
    {
     "data": {
      "text/latex": [
       "$ \\phi_{a} (m) + \\phi_{b} (m) $"
      ],
      "text/plain": [
       "φa(m) + φb(m)"
      ]
     },
     "execution_count": 7,
     "metadata": {},
     "output_type": "execute_result"
    }
   ],
   "source": [
    "combo = a + b\n",
    "combo"
   ]
  },
  {
   "cell_type": "markdown",
   "id": "f41f30a4",
   "metadata": {},
   "source": [
    "Multiply an objective function by a scalar"
   ]
  },
  {
   "cell_type": "code",
   "execution_count": 8,
   "id": "c59b599d",
   "metadata": {},
   "outputs": [
    {
     "data": {
      "text/latex": [
       "$5.40 \\, \\phi_{a} (m)$"
      ],
      "text/plain": [
       "5.40 φa(m)"
      ]
     },
     "execution_count": 8,
     "metadata": {},
     "output_type": "execute_result"
    }
   ],
   "source": [
    "scaled = 5.4 * a\n",
    "scaled"
   ]
  },
  {
   "cell_type": "markdown",
   "id": "836adbbb",
   "metadata": {},
   "source": [
    "Sum together scaled objective functions to get also a combo:"
   ]
  },
  {
   "cell_type": "code",
   "execution_count": 9,
   "id": "30e1d431",
   "metadata": {},
   "outputs": [
    {
     "data": {
      "text/latex": [
       "$ 5.40 \\, \\phi_{a} (m) + 3.20 \\, \\phi_{b} (m) $"
      ],
      "text/plain": [
       "5.40 φa(m) + 3.20 φb(m)"
      ]
     },
     "execution_count": 9,
     "metadata": {},
     "output_type": "execute_result"
    }
   ],
   "source": [
    "combo = 5.4 * a + 3.2 * b\n",
    "combo"
   ]
  },
  {
   "cell_type": "markdown",
   "id": "46e1b7bc",
   "metadata": {},
   "source": [
    "We can treat the combo as a _collection_:"
   ]
  },
  {
   "cell_type": "code",
   "execution_count": 10,
   "id": "b9c387cb",
   "metadata": {},
   "outputs": [
    {
     "data": {
      "text/latex": [
       "$ 5.40 \\, \\phi_{a} (m) + 3.20 \\, \\phi_{b} (m) $"
      ],
      "text/plain": [
       "5.40 φa(m) + 3.20 φb(m)"
      ]
     },
     "execution_count": 10,
     "metadata": {},
     "output_type": "execute_result"
    }
   ],
   "source": [
    "term_1 = 5.4 * a\n",
    "term_2 = 3.2 * b\n",
    "\n",
    "combo = term_1 + term_2\n",
    "combo"
   ]
  },
  {
   "cell_type": "code",
   "execution_count": 11,
   "id": "6615d2da",
   "metadata": {},
   "outputs": [
    {
     "name": "stdout",
     "output_type": "stream",
     "text": [
      "5.40 φa(m)\n",
      "3.20 φb(m)\n"
     ]
    }
   ],
   "source": [
    "for phi in combo:\n",
    "    print(phi)"
   ]
  },
  {
   "cell_type": "code",
   "execution_count": 12,
   "id": "a1779507",
   "metadata": {},
   "outputs": [
    {
     "data": {
      "text/plain": [
       "2"
      ]
     },
     "execution_count": 12,
     "metadata": {},
     "output_type": "execute_result"
    }
   ],
   "source": [
    "len(combo)"
   ]
  },
  {
   "cell_type": "code",
   "execution_count": 13,
   "id": "a2384a15",
   "metadata": {},
   "outputs": [
    {
     "data": {
      "text/latex": [
       "$5.40 \\, \\phi_{a} (m)$"
      ],
      "text/plain": [
       "5.40 φa(m)"
      ]
     },
     "execution_count": 13,
     "metadata": {},
     "output_type": "execute_result"
    }
   ],
   "source": [
    "combo[0]"
   ]
  },
  {
   "cell_type": "code",
   "execution_count": 14,
   "id": "416b3950",
   "metadata": {},
   "outputs": [
    {
     "data": {
      "text/latex": [
       "$3.20 \\, \\phi_{b} (m)$"
      ],
      "text/plain": [
       "3.20 φb(m)"
      ]
     },
     "execution_count": 14,
     "metadata": {},
     "output_type": "execute_result"
    }
   ],
   "source": [
    "combo[1]"
   ]
  },
  {
   "cell_type": "markdown",
   "id": "edddc174",
   "metadata": {},
   "source": [
    "The elements in the combo **are the same** as used in its definition:"
   ]
  },
  {
   "cell_type": "code",
   "execution_count": 15,
   "id": "5712d7c4",
   "metadata": {},
   "outputs": [
    {
     "data": {
      "text/plain": [
       "True"
      ]
     },
     "execution_count": 15,
     "metadata": {},
     "output_type": "execute_result"
    }
   ],
   "source": [
    "combo[0] is term_1"
   ]
  },
  {
   "cell_type": "code",
   "execution_count": 16,
   "id": "6e762fae",
   "metadata": {},
   "outputs": [
    {
     "data": {
      "text/plain": [
       "True"
      ]
     },
     "execution_count": 16,
     "metadata": {},
     "output_type": "execute_result"
    }
   ],
   "source": [
    "combo[1] is term_2"
   ]
  },
  {
   "cell_type": "code",
   "execution_count": 17,
   "id": "23c909ff",
   "metadata": {},
   "outputs": [
    {
     "data": {
      "text/plain": [
       "True"
      ]
     },
     "execution_count": 17,
     "metadata": {},
     "output_type": "execute_result"
    }
   ],
   "source": [
    "term_1 in combo"
   ]
  },
  {
   "cell_type": "code",
   "execution_count": 18,
   "id": "0c880a5e",
   "metadata": {},
   "outputs": [
    {
     "data": {
      "text/plain": [
       "True"
      ]
     },
     "execution_count": 18,
     "metadata": {},
     "output_type": "execute_result"
    }
   ],
   "source": [
    "term_2 in combo"
   ]
  },
  {
   "cell_type": "markdown",
   "id": "cada5891",
   "metadata": {},
   "source": [
    "### Nested Combos"
   ]
  },
  {
   "cell_type": "markdown",
   "id": "6709d658",
   "metadata": {},
   "source": [
    "If we sum together three or more functions, we obtain a _nested_ combo structure:"
   ]
  },
  {
   "cell_type": "code",
   "execution_count": 19,
   "id": "7b28238c",
   "metadata": {},
   "outputs": [
    {
     "data": {
      "text/latex": [
       "$ [  [  \\phi_{a} (m) + \\phi_{b} (m)  ] + \\phi_{c} (m)  ] + \\phi_{d} (m) $"
      ],
      "text/plain": [
       "[ [ φa(m) + φb(m) ] + φc(m) ] + φd(m)"
      ]
     },
     "execution_count": 19,
     "metadata": {},
     "output_type": "execute_result"
    }
   ],
   "source": [
    "combo = a + b + c + d\n",
    "combo"
   ]
  },
  {
   "cell_type": "markdown",
   "id": "20ace78d",
   "metadata": {},
   "source": [
    "We need to be aware of this and its consequences:\n",
    "* The `combo` variable is a `Combo` with two elements: a `Combo` and the `d` objective function"
   ]
  },
  {
   "cell_type": "code",
   "execution_count": 20,
   "id": "e2b68e65",
   "metadata": {},
   "outputs": [
    {
     "data": {
      "text/plain": [
       "2"
      ]
     },
     "execution_count": 20,
     "metadata": {},
     "output_type": "execute_result"
    }
   ],
   "source": [
    "len(combo)"
   ]
  },
  {
   "cell_type": "code",
   "execution_count": 21,
   "id": "dfacafec",
   "metadata": {},
   "outputs": [
    {
     "data": {
      "text/latex": [
       "$ [  \\phi_{a} (m) + \\phi_{b} (m)  ] + \\phi_{c} (m) $"
      ],
      "text/plain": [
       "[ φa(m) + φb(m) ] + φc(m)"
      ]
     },
     "execution_count": 21,
     "metadata": {},
     "output_type": "execute_result"
    }
   ],
   "source": [
    "combo[0]"
   ]
  },
  {
   "cell_type": "code",
   "execution_count": 22,
   "id": "fab38dbd",
   "metadata": {},
   "outputs": [
    {
     "data": {
      "text/latex": [
       "$\\phi_{d} (m)$"
      ],
      "text/plain": [
       "φd(m)"
      ]
     },
     "execution_count": 22,
     "metadata": {},
     "output_type": "execute_result"
    }
   ],
   "source": [
    "combo[1]"
   ]
  },
  {
   "cell_type": "markdown",
   "id": "e382e253",
   "metadata": {},
   "source": [
    "* This means that `a`, `b` and `c` **are not** in `combo`:"
   ]
  },
  {
   "cell_type": "code",
   "execution_count": 23,
   "id": "df67dd34",
   "metadata": {},
   "outputs": [
    {
     "name": "stdout",
     "output_type": "stream",
     "text": [
      "False\n",
      "False\n",
      "False\n"
     ]
    }
   ],
   "source": [
    "print(a in combo)\n",
    "print(b in combo)\n",
    "print(c in combo)"
   ]
  },
  {
   "cell_type": "markdown",
   "id": "71980cab",
   "metadata": {},
   "source": [
    "* But `d` is part of `combo`:"
   ]
  },
  {
   "cell_type": "code",
   "execution_count": 24,
   "id": "9d278973",
   "metadata": {},
   "outputs": [
    {
     "data": {
      "text/plain": [
       "True"
      ]
     },
     "execution_count": 24,
     "metadata": {},
     "output_type": "execute_result"
    }
   ],
   "source": [
    "d in combo"
   ]
  },
  {
   "cell_type": "markdown",
   "id": "d2b0c55d",
   "metadata": {},
   "source": [
    "* The `combo[0]` is another `Combo` with two elements."
   ]
  },
  {
   "cell_type": "code",
   "execution_count": 25,
   "id": "9cd68535",
   "metadata": {},
   "outputs": [
    {
     "data": {
      "text/plain": [
       "2"
      ]
     },
     "execution_count": 25,
     "metadata": {},
     "output_type": "execute_result"
    }
   ],
   "source": [
    "len(combo[0])"
   ]
  },
  {
   "cell_type": "code",
   "execution_count": 26,
   "id": "2675812a",
   "metadata": {},
   "outputs": [
    {
     "data": {
      "text/latex": [
       "$ \\phi_{a} (m) + \\phi_{b} (m) $"
      ],
      "text/plain": [
       "φa(m) + φb(m)"
      ]
     },
     "execution_count": 26,
     "metadata": {},
     "output_type": "execute_result"
    }
   ],
   "source": [
    "combo[0][0]"
   ]
  },
  {
   "cell_type": "code",
   "execution_count": 27,
   "id": "685da4e1",
   "metadata": {},
   "outputs": [
    {
     "data": {
      "text/latex": [
       "$\\phi_{c} (m)$"
      ],
      "text/plain": [
       "φc(m)"
      ]
     },
     "execution_count": 27,
     "metadata": {},
     "output_type": "execute_result"
    }
   ],
   "source": [
    "combo[0][1]"
   ]
  },
  {
   "cell_type": "markdown",
   "id": "fedc0220",
   "metadata": {},
   "source": [
    "* We can organize how the structure is defined by using parenthesis:"
   ]
  },
  {
   "cell_type": "code",
   "execution_count": 28,
   "id": "806a0e29",
   "metadata": {},
   "outputs": [
    {
     "data": {
      "text/latex": [
       "$ [  \\phi_{a} (m) + \\phi_{b} (m)  ] + [  \\phi_{c} (m) + \\phi_{d} (m)  ] $"
      ],
      "text/plain": [
       "[ φa(m) + φb(m) ] + [ φc(m) + φd(m) ]"
      ]
     },
     "execution_count": 28,
     "metadata": {},
     "output_type": "execute_result"
    }
   ],
   "source": [
    "combo = (a + b) + (c + d)\n",
    "combo"
   ]
  },
  {
   "cell_type": "markdown",
   "id": "87d0c573",
   "metadata": {},
   "source": [
    "### Flat combos"
   ]
  },
  {
   "cell_type": "markdown",
   "id": "b3b16a6b",
   "metadata": {},
   "source": [
    "If we prefer to have a _flat_ structure when adding together multiple functions, we can use the `flatten()` method:"
   ]
  },
  {
   "cell_type": "code",
   "execution_count": 29,
   "id": "e8bf86e4",
   "metadata": {},
   "outputs": [
    {
     "data": {
      "text/latex": [
       "$ \\phi_{a} (m) + \\phi_{b} (m) + \\phi_{c} (m) + \\phi_{d} (m) $"
      ],
      "text/plain": [
       "φa(m) + φb(m) + φc(m) + φd(m)"
      ]
     },
     "execution_count": 29,
     "metadata": {},
     "output_type": "execute_result"
    }
   ],
   "source": [
    "flat_combo = (a + b + c + d).flatten()\n",
    "flat_combo"
   ]
  },
  {
   "cell_type": "code",
   "execution_count": 30,
   "id": "44c4d316",
   "metadata": {},
   "outputs": [
    {
     "data": {
      "text/plain": [
       "False"
      ]
     },
     "execution_count": 30,
     "metadata": {},
     "output_type": "execute_result"
    }
   ],
   "source": [
    "combo in flat_combo"
   ]
  },
  {
   "cell_type": "markdown",
   "id": "311768a6",
   "metadata": {},
   "source": [
    "Flattening a `Combo` returns a new `Combo` object"
   ]
  },
  {
   "cell_type": "code",
   "execution_count": 31,
   "id": "a92eeef1",
   "metadata": {},
   "outputs": [
    {
     "data": {
      "text/latex": [
       "$ [  \\phi_{a} (m) + \\phi_{b} (m)  ] + [  \\phi_{c} (m) + \\phi_{d} (m)  ] $"
      ],
      "text/plain": [
       "[ φa(m) + φb(m) ] + [ φc(m) + φd(m) ]"
      ]
     },
     "execution_count": 31,
     "metadata": {},
     "output_type": "execute_result"
    }
   ],
   "source": [
    "combo = (a + b) + (c + d)\n",
    "combo"
   ]
  },
  {
   "cell_type": "code",
   "execution_count": 32,
   "id": "ee2435f9",
   "metadata": {},
   "outputs": [
    {
     "data": {
      "text/latex": [
       "$ \\phi_{a} (m) + \\phi_{b} (m) + \\phi_{c} (m) + \\phi_{d} (m) $"
      ],
      "text/plain": [
       "φa(m) + φb(m) + φc(m) + φd(m)"
      ]
     },
     "execution_count": 32,
     "metadata": {},
     "output_type": "execute_result"
    }
   ],
   "source": [
    "flat_combo = combo.flatten()\n",
    "flat_combo"
   ]
  },
  {
   "cell_type": "code",
   "execution_count": 33,
   "id": "199f4847",
   "metadata": {},
   "outputs": [
    {
     "data": {
      "text/plain": [
       "False"
      ]
     },
     "execution_count": 33,
     "metadata": {},
     "output_type": "execute_result"
    }
   ],
   "source": [
    "combo is flat_combo"
   ]
  }
 ],
 "metadata": {
  "kernelspec": {
   "display_name": "inversion_ideas",
   "language": "python",
   "name": "python3"
  },
  "language_info": {
   "codemirror_mode": {
    "name": "ipython",
    "version": 3
   },
   "file_extension": ".py",
   "mimetype": "text/x-python",
   "name": "python",
   "nbconvert_exporter": "python",
   "pygments_lexer": "ipython3",
   "version": "3.13.5"
  }
 },
 "nbformat": 4,
 "nbformat_minor": 5
}
