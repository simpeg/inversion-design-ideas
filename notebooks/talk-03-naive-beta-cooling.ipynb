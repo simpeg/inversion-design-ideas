{
 "cells": [
  {
   "cell_type": "markdown",
   "id": "fd87af27-37b6-4b78-b01e-431673c8010a",
   "metadata": {},
   "source": [
    "# Apply a naive beta cooling"
   ]
  },
  {
   "cell_type": "code",
   "execution_count": null,
   "id": "fa174e25-ec16-4b65-b351-d5337a5f9462",
   "metadata": {},
   "outputs": [],
   "source": [
    "import numpy as np\n",
    "from regressor import LinearRegressor\n",
    "\n",
    "import inversion_ideas as ii"
   ]
  },
  {
   "cell_type": "markdown",
   "id": "c10e1d27-613d-4521-9fe5-606099062da9",
   "metadata": {},
   "source": [
    "## Synthetic data"
   ]
  },
  {
   "cell_type": "code",
   "execution_count": null,
   "id": "231a716f-d2ed-47e5-a7df-e73c29593a27",
   "metadata": {},
   "outputs": [],
   "source": [
    "n_params = 10\n",
    "rng = np.random.default_rng(seed=4242)\n",
    "true_model = rng.uniform(size=10)\n",
    "true_model"
   ]
  },
  {
   "cell_type": "code",
   "execution_count": null,
   "id": "49714d31-2b86-4bc7-b1ef-8596706aceb2",
   "metadata": {},
   "outputs": [],
   "source": [
    "# Build the X matrix\n",
    "n_data = 25\n",
    "shape = (n_data, n_params)\n",
    "X = rng.uniform(size=n_data * n_params).reshape(shape)"
   ]
  },
  {
   "cell_type": "code",
   "execution_count": null,
   "id": "00dce0f3-3258-41f6-91e7-d0be28c0df9b",
   "metadata": {},
   "outputs": [],
   "source": [
    "# Generate synthetic data with noise\n",
    "synthetic_data = X @ true_model\n",
    "maxabs = np.max(np.abs(synthetic_data))\n",
    "std_err =  1e-2 * maxabs\n",
    "noise = rng.normal(scale=std_err, size=synthetic_data.size)\n",
    "synthetic_data += noise\n",
    "synthetic_data"
   ]
  },
  {
   "cell_type": "markdown",
   "id": "6727d690-e683-47a0-b580-1a112c2f991c",
   "metadata": {},
   "source": [
    "## Naive inversion with beta scheduling"
   ]
  },
  {
   "cell_type": "code",
   "execution_count": null,
   "id": "b7f0bcbb-0821-4679-9392-dd0a8c2a8fbf",
   "metadata": {},
   "outputs": [],
   "source": [
    "simulation = LinearRegressor(X)"
   ]
  },
  {
   "cell_type": "code",
   "execution_count": null,
   "id": "6355f4c3-5d25-46a7-b60d-a42a3f68eaa0",
   "metadata": {},
   "outputs": [],
   "source": [
    "uncertainty = std_err * np.ones_like(synthetic_data)\n",
    "data_misfit = ii.DataMisfit(synthetic_data, uncertainty, simulation)\n",
    "data_misfit"
   ]
  },
  {
   "cell_type": "code",
   "execution_count": null,
   "id": "0a56cdad-212f-42a0-9c6d-e5e935dd4fff",
   "metadata": {},
   "outputs": [],
   "source": [
    "smallness = ii.TikhonovZero(n_params)\n",
    "smallness"
   ]
  },
  {
   "cell_type": "code",
   "execution_count": null,
   "id": "c7e0e936-001b-42e3-9cc3-abfc8f5d4085",
   "metadata": {},
   "outputs": [],
   "source": [
    "beta_0 = 1e4\n",
    "regularization = beta_0 * smallness\n",
    "regularization"
   ]
  },
  {
   "cell_type": "code",
   "execution_count": null,
   "id": "46e308d5-75a2-4f00-a2fa-40ccc0fdafcb",
   "metadata": {},
   "outputs": [],
   "source": [
    "phi = data_misfit + regularization\n",
    "phi"
   ]
  },
  {
   "cell_type": "code",
   "execution_count": null,
   "id": "8e33739e-5914-4e5e-8451-3c7cacfe407a",
   "metadata": {},
   "outputs": [],
   "source": [
    "minimizer = ii.ConjugateGradient()"
   ]
  },
  {
   "cell_type": "code",
   "execution_count": null,
   "id": "6058e56f-d95d-4f50-b50c-8570b724abc6",
   "metadata": {},
   "outputs": [],
   "source": [
    "initial_model = np.zeros(n_params)"
   ]
  },
  {
   "cell_type": "code",
   "execution_count": null,
   "id": "6e91310f-de56-4e8d-a878-22b090b60bf1",
   "metadata": {},
   "outputs": [],
   "source": [
    "model = initial_model.copy()\n",
    "\n",
    "chi_target = 1.0\n",
    "beta_cooling_factor = 2.0\n",
    "\n",
    "while True:\n",
    "    # Minimize the objective function\n",
    "    model = minimizer(phi, model) \n",
    "\n",
    "    # Stopping criteria: chi factor\n",
    "    dmisfit = data_misfit(model)\n",
    "    chi_factor = dmisfit / data_misfit.n_data\n",
    "    if chi_factor <= chi_target:\n",
    "        break\n",
    "\n",
    "    # Cool beta\n",
    "    regularization.multiplier /= beta_cooling_factor\n",
    "\n",
    "\n",
    "inverted_model = model.copy()"
   ]
  },
  {
   "cell_type": "code",
   "execution_count": null,
   "id": "47f0a2ad-692a-4d30-8c5a-9485d6bd947d",
   "metadata": {},
   "outputs": [],
   "source": [
    "inverted_model"
   ]
  },
  {
   "cell_type": "code",
   "execution_count": null,
   "id": "5f2ec3b0-579b-4a07-b918-1e94e71f6ad0",
   "metadata": {},
   "outputs": [],
   "source": [
    "print(\"Result:\")\n",
    "print(inverted_model)\n",
    "print()\n",
    "print(\"True model:\")\n",
    "print(true_model)"
   ]
  }
 ],
 "metadata": {
  "kernelspec": {
   "display_name": "Python [conda env:inversion_ideas]",
   "language": "python",
   "name": "conda-env-inversion_ideas-py"
  },
  "language_info": {
   "codemirror_mode": {
    "name": "ipython",
    "version": 3
   },
   "file_extension": ".py",
   "mimetype": "text/x-python",
   "name": "python",
   "nbconvert_exporter": "python",
   "pygments_lexer": "ipython3",
   "version": "3.13.5"
  }
 },
 "nbformat": 4,
 "nbformat_minor": 5
}
